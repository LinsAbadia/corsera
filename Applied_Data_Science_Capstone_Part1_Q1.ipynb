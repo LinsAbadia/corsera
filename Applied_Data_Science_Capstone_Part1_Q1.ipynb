{
 "cells": [
  {
   "cell_type": "markdown",
   "metadata": {},
   "source": [
    "\n",
    "<h1 align=center><font size = 5>Peer-graded Assignment: Capstone Project - The Battle of Neighborhoods (Week 1, Question 1)</font></h1>"
   ]
  },
  {
   "cell_type": "markdown",
   "metadata": {},
   "source": [
    "## 1.) A description of the problem and a discussion of the background. (15 marks)"
   ]
  },
  {
   "cell_type": "markdown",
   "metadata": {},
   "source": [
    "### 1.1 Background\n",
    "\n",
    " New York city is a global destination, cosmopolitan \"wonderland\", world icon and, as of late, hosts more than 60 million visitors a year. This is, probably, exclusive of those on \"short\" business trips.  It is, often, difficult for travellers to determine where to stay if they are free to choose.  The sheer number of \"attractions\" may pose logistical nightmares.  Given travellers have different tastes and preferences \"generic: guides (such as books or the Internet) may be overwhelming (and at the same time, \"insufficient\") in suggesting accommodation to try and make the most of, sometimes \"limited\", time. It is, therefore, advantageous to have something that will recommend venues that attempts to minimise physical distance to expressed \"Points of Interest\" (POI)."
   ]
  },
  {
   "cell_type": "markdown",
   "metadata": {},
   "source": [
    "### 1.2 Problem \n",
    "\n",
    "It may prove difficult for travellers to determine where to stay given the \"ironic\" psychological concept of the \"tyranny of too much choice\".  Visitors may want to \"maximise\" their time by selecting locations that are geographically proximate to venues they would like to visit. The primary aim of this project is to help the user plan to stay where the total physical distance of all POIs are considered. This is specifically broken down in the next section."
   ]
  },
  {
   "cell_type": "markdown",
   "metadata": {},
   "source": [
    "#### Aims, Objectives, and Benefits:\n",
    "\n",
    "1.  Provide the neighborhoods and borough of hotels (or their equivalents) with the least total geographic distances.  This may help reduce costs by making POIs either walkable or \"close by\" if transportation need to be used.,\n",
    "2.  Identify the number of nearby venues.  This may make a location more \"desirable\".\n",
    "\n",
    "Aside from travellers, this may be of some interest to the New York city tourism board \n",
    "(https://www.viator.com/New-York-City-tourism/New-York-Top-Tours-and-Activities/d687-t30053?semLander=true&m=28353&supag=6517262291&supsc=kwd-355514978618&supai=273084059420&supap=1t3&supdv=c&supnt=nt:g|clk:EAIaIQobChMIlKKwzfWS5AIVmg4rCh0nnAnvEAAYAyAAEgL-cvD_BwE&suplp=9070825&supli=&supti=kwd-355514978618&tsem=true&supci=kwd-355514978618&supap1=&supap2=&gclid=EAIaIQobChMIlKKwzfWS5AIVmg4rCh0nnAnvEAAYAyAAEgL-cvD_BwE ).\n",
    " \n",
    "There may be other benefits that accrue once the final deliverable is submitted but it is essential that certain project objectives be made explicit so it would be possible to gauge the efficacy of the outcome.  I have observed a tendency to overpromise and underdeliver to boost the chances of securing a contract.  Since the financial pressure does not technically exist, it seems more prudent to offer a realistic proposal rather than have an overoptimistic schedule or an impractical set of deliverables. \n"
   ]
  },
  {
   "cell_type": "markdown",
   "metadata": {},
   "source": [
    "### 1.3 Other Pertinent Factors to Consider\n",
    " \n",
    " Aside from the benefits, limitations of the project are also enumerated to be pragmatic.\n"
   ]
  },
  {
   "cell_type": "markdown",
   "metadata": {},
   "source": [
    "#### Justifications:\n",
    "\n",
    "Since New York city was used in a previous lab, the investigator can use (or reuse) various informational resources and code to try to build on (and leverage) previous assets. Moreover, my family and I visited New York and it would have been \"good\" to have had a resource such as this that would have been instrumental in our planning process.\n"
   ]
  },
  {
   "cell_type": "markdown",
   "metadata": {},
   "source": [
    "#### Assumptions:\n",
    "\n",
    "A \"heavy cluster\" of hotels in an area can be considered a \"good\" location as this is can be taken as a proxy for proximity to \"popular\" sights or amenities (as chains often survey the area prior to commencing building). Moreover, an \"ideal\" place to stay is mainly determined by physical distance."
   ]
  },
  {
   "cell_type": "markdown",
   "metadata": {},
   "source": [
    "#### Constraints:\n",
    "\n",
    "Different categories for accommodation were purely dictated by the classifications in the FourSquare database. Under Hotel are Bed & Breakfast, Boarding House, Hostel, Hotel Pool, Inn, Motel, Resort, and Vacation Rental.\n",
    "\n",
    "Being a person with a disability, I wanted to include accessibility.  However, I noticed the differences in nomenclature in my travels to America and Japan.  Despite also being developed economies, the facilities were not as accommodating as Australia and the terminology used often exhibited differences. While a \"good\" idea, it was impractical and difficult to incorporate this aspect.\n",
    "\n",
    "While the sharing economy apps (like AirBnB) are not currently supported (as far as I’m aware), future iterations may also consider these non-traditional forms of dwelling. \n",
    "\n",
    "The outcomes for next week's set of requirements also need to be considered so the alignment of outputs can be consciously taken into account.  This not only serves to guide the validity of the development but can act as a potential roadmap to possible future directions or entirely separate branches.\n",
    "\n",
    "Predefined (later on allowing users to specify their own interests) POIs will allow for the amalgamation of distances to various lodgings (i.e. the total distance from the shelter to place they want to visit).  While not a full-blown recommender system, it can suggest various accommodations (factoring in the \"nearest\" Boroughs and Neighborhoods of New York city) given their proximity to certain venues. Regardless of whether they are potential tourists or are on a short stay business trips, it endeavours to provide users with places to stay to try to get the most out of their visit."
   ]
  },
  {
   "cell_type": "markdown",
   "metadata": {},
   "source": [
    "#### Software Development Issues\n",
    "\n",
    "A Jupyter notebook stored in a Skills Network lab was purposely chosen.  This was explicitly done for several reasons:  1.) This was the format used in the course and familiar to peer reviewers.  Moreover, it has the benefit of being \"submit ready\" and could easily be exported to a text format., 2.) This allowed for the flexibility to use Python code to test concepts (as it is more important to determine feasibility and specify requirements)., and 3.) IBM's backup regime is probably more comprehensive than what I personally have set-up.  Despite the requirements being mainly text-based (and formats like MS word, .txt, .rtf, or .pdf would have sufficed), further validation and the importance of feasibility became more crucial given the \"shorter\" time frame. Based on my prior, personal experience, 3 months is often a reasonable period for software development.  Given I have only 2 weeks to complete the capstone project (aside from my other commitments) a Design-to-Schedule methodology (that is, given a fixed deadline do your best to deliver what is possible) will be used.  The result is a \"Proof of Concept\" prototype - typically the practice is be prepared to throw the first one away."
   ]
  },
  {
   "cell_type": "markdown",
   "metadata": {},
   "source": [
    "Note:\n",
    "1.  Feasibility Check.  Partial Python code was written to help validate the requirements.\n",
    "2.  External “Eyes”.  A “reputable” 3rd -party was utilised for input and any suggested modifications were incorporated for clarity.\n",
    "3.  Final Format. A best effort was made to try to combine my personal style, professional exposure, the course requirements, and the exemplar provided (despite being designed for a different type of problem) to produce the text.\n",
    "4.  Specification Differences.  The ‘Instructions’ and ‘Submission’ tabs of the assignment were slightly different causing me to rereview my hard work prior to submission."
   ]
  },
  {
   "cell_type": "markdown",
   "metadata": {},
   "source": []
  },
  {
   "cell_type": "code",
   "execution_count": null,
   "metadata": {},
   "outputs": [],
   "source": []
  }
 ],
 "metadata": {
  "kernelspec": {
   "display_name": "Python",
   "language": "python",
   "name": "conda-env-python-py"
  },
  "language_info": {
   "codemirror_mode": {
    "name": "ipython",
    "version": 3
   },
   "file_extension": ".py",
   "mimetype": "text/x-python",
   "name": "python",
   "nbconvert_exporter": "python",
   "pygments_lexer": "ipython3",
   "version": "3.6.7"
  }
 },
 "nbformat": 4,
 "nbformat_minor": 4
}
