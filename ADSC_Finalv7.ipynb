{
 "cells": [
  {
   "cell_type": "markdown",
   "metadata": {},
   "source": [
    "<h1 align=center><font size = 5>Peer-graded Assignment: Capstone Project - The Battle of Neighborhoods (Week 2)</font></h1>"
   ]
  },
  {
   "cell_type": "markdown",
   "metadata": {},
   "source": [
    "## Install libraties"
   ]
  },
  {
   "cell_type": "code",
   "execution_count": 1,
   "metadata": {},
   "outputs": [
    {
     "name": "stdout",
     "output_type": "stream",
     "text": [
      "Collecting geopy\n",
      "\u001b[?25l  Downloading https://files.pythonhosted.org/packages/80/93/d384479da0ead712bdaf697a8399c13a9a89bd856ada5a27d462fb45e47b/geopy-1.20.0-py2.py3-none-any.whl (100kB)\n",
      "\u001b[K     |████████████████████████████████| 102kB 2.9MB/s ta 0:00:011\n",
      "\u001b[?25hCollecting geographiclib<2,>=1.49 (from geopy)\n",
      "  Downloading https://files.pythonhosted.org/packages/5b/ac/4f348828091490d77899bc74e92238e2b55c59392f21948f296e94e50e2b/geographiclib-1.49.tar.gz\n",
      "Building wheels for collected packages: geographiclib\n",
      "  Building wheel for geographiclib (setup.py) ... \u001b[?25ldone\n",
      "\u001b[?25h  Stored in directory: /home/jupyterlab/.cache/pip/wheels/99/45/d1/14954797e2a976083182c2e7da9b4e924509e59b6e5c661061\n",
      "Successfully built geographiclib\n",
      "Installing collected packages: geographiclib, geopy\n",
      "Successfully installed geographiclib-1.49 geopy-1.20.0\n"
     ]
    }
   ],
   "source": [
    "!pip install geopy #install geopy library if not present"
   ]
  },
  {
   "cell_type": "markdown",
   "metadata": {},
   "source": [
    "## Import packages"
   ]
  },
  {
   "cell_type": "code",
   "execution_count": 2,
   "metadata": {},
   "outputs": [],
   "source": [
    "import numpy as np # library to handle data in a vectorized manner"
   ]
  },
  {
   "cell_type": "code",
   "execution_count": 3,
   "metadata": {},
   "outputs": [],
   "source": [
    "import pandas as pd # library for data analsysis\n",
    "pd.set_option('display.max_columns', None)\n",
    "pd.set_option('display.max_rows', None)\n",
    "\n",
    "from pandas.io.json import json_normalize # tranform JSON file into a pandas dataframe"
   ]
  },
  {
   "cell_type": "code",
   "execution_count": 4,
   "metadata": {},
   "outputs": [],
   "source": [
    "import json # library to handle JSON files"
   ]
  },
  {
   "cell_type": "code",
   "execution_count": 5,
   "metadata": {},
   "outputs": [],
   "source": [
    "import requests # library to handle requests"
   ]
  },
  {
   "cell_type": "code",
   "execution_count": 6,
   "metadata": {},
   "outputs": [],
   "source": [
    "#!conda install -c conda-forge geopy --yes # uncomment this line if this isn't installedb\n",
    "from geopy.geocoders import Nominatim # convert an address into latitude and longitude values"
   ]
  },
  {
   "cell_type": "code",
   "execution_count": 7,
   "metadata": {},
   "outputs": [],
   "source": [
    "# Matplotlib and associated plotting modules\n",
    "import matplotlib.cm as cm\n",
    "import matplotlib.colors as colors"
   ]
  },
  {
   "cell_type": "code",
   "execution_count": 8,
   "metadata": {},
   "outputs": [],
   "source": [
    "#!conda install -c conda-forge folium=0.5.0 --yes # uncomment this line if you haven't completed the Foursquare API lab\n",
    "import folium # map rendering library"
   ]
  },
  {
   "cell_type": "code",
   "execution_count": 9,
   "metadata": {},
   "outputs": [],
   "source": [
    "# import k-means from clustering stage\n",
    "from sklearn.cluster import KMeans"
   ]
  },
  {
   "cell_type": "code",
   "execution_count": 10,
   "metadata": {},
   "outputs": [],
   "source": [
    "import itertools #library for iterators, used for truth table generation"
   ]
  },
  {
   "cell_type": "code",
   "execution_count": 11,
   "metadata": {},
   "outputs": [],
   "source": [
    "from math import radians, sin, cos, atan2, sqrt #for haversine"
   ]
  },
  {
   "cell_type": "markdown",
   "metadata": {},
   "source": [
    "## User-defined Functions"
   ]
  },
  {
   "cell_type": "code",
   "execution_count": 12,
   "metadata": {},
   "outputs": [],
   "source": [
    "def getNearbyVenues(df,names, lat, lng, radius):\n",
    "    venues_list=[]\n",
    "    for name in df:\n",
    "            \n",
    "        # create the API request URL\n",
    "        url = 'https://api.foursquare.com/v2/venues/explore?&client_id={}&client_secret={}&v={}&ll={},{}&radius={}&limit={}'.format(\n",
    "            CLIENT_ID, \n",
    "            CLIENT_SECRET, \n",
    "            VERSION, \n",
    "            lat, \n",
    "            lng, \n",
    "            radius, \n",
    "            LIMIT)\n",
    "            \n",
    "        # make the GET request\n",
    "        results = requests.get(url).json()[\"response\"]['groups'][0]['items']\n",
    "         \n",
    "        # return only relevant information for each nearby venue\n",
    "        venues_list.append([(\n",
    "            name, \n",
    "            lat, \n",
    "            lng, \n",
    "            v['venue']['name'], \n",
    "            v['venue']['location']['lat'], \n",
    "            v['venue']['location']['lng'],  \n",
    "            v['venue']['categories'][0]['name']) for v in results])\n",
    "\n",
    "    nearby_venues = pd.DataFrame([item for venue_list in venues_list for item in venue_list])\n",
    "    nearby_venues.columns = ['Neighborhood', \n",
    "                  'Neighborhood Latitude', \n",
    "                  'Neighborhood Longitude', \n",
    "                  'Venue', \n",
    "                  'Venue Latitude', \n",
    "                  'Venue Longitude', \n",
    "                  'Venue Category']\n",
    "    \n",
    "    return(nearby_venues)"
   ]
  },
  {
   "cell_type": "code",
   "execution_count": 13,
   "metadata": {},
   "outputs": [],
   "source": [
    "#STILL NEEDS VERIFICATION\n",
    "def getNearbyHotels(df,names, lat, lng, radius):\n",
    "    hotels_list=[]\n",
    "    for name in df:\n",
    "            \n",
    "        # create the API request URL\n",
    "        url = 'https://api.foursquare.com/v2/venues/explore?&client_id={}&client_secret={}&v={}&ll={},{}&radius={}&limit={}'.format(\n",
    "            CLIENT_ID, \n",
    "            CLIENT_SECRET, \n",
    "            VERSION, \n",
    "            lat, \n",
    "            lng, \n",
    "            radius, \n",
    "            LIMIT)\n",
    "        rowsHotelsCSV = len(hotelsCSV)\n",
    "        # return only relevant information for each nearby venue\n",
    "        hotels_list.append([(\n",
    "            name, \n",
    "            lat, \n",
    "            lng, \n",
    "            v['venue']['name'], \n",
    "            v['venue']['location']['lat'], \n",
    "            v['venue']['location']['lng'],  \n",
    "            v['venue']['categories'][0]['name']) for v in results])\n",
    "\n",
    "    nearby_hotels = pd.DataFrame([item for hotel_list in hotels_list for item in hotel_list])\n",
    "    nearby_hotels.columns = ['Neighborhood', \n",
    "                  'Neighborhood Latitude', \n",
    "                  'Neighborhood Longitude', \n",
    "                  'Venue', \n",
    "                  'Venue Latitude', \n",
    "                  'Venue Longitude', \n",
    "                  'Venue Category']\n",
    "    \n",
    "    return(nearby_venues)"
   ]
  },
  {
   "cell_type": "code",
   "execution_count": 14,
   "metadata": {},
   "outputs": [],
   "source": [
    "def haversine(lat1,long1, lat2,long2):\n",
    "    R = 6371 \n",
    "    #print(R, e)\n",
    "    theta1 = radians(lat1)\n",
    "    theta2 = radians(lat2)\n",
    "    deltatheta = radians(lat2 - lat1 )\n",
    "    deltalambda = radians(long2 - long1 )\n",
    "    a = sin(deltatheta/2) * sin(deltatheta/2) + cos(theta1) * cos(theta2) * sin(deltalambda/2) * sin(deltalambda/2)\n",
    "    c = 2 * atan2(sqrt(a), sqrt(1-a))\n",
    "    d = R * c \n",
    "    return d"
   ]
  },
  {
   "cell_type": "markdown",
   "metadata": {},
   "source": [
    "## New York Data"
   ]
  },
  {
   "cell_type": "markdown",
   "metadata": {},
   "source": [
    "#### Download NY dataset"
   ]
  },
  {
   "cell_type": "code",
   "execution_count": 15,
   "metadata": {},
   "outputs": [
    {
     "name": "stdout",
     "output_type": "stream",
     "text": [
      "Data downloaded!\n"
     ]
    }
   ],
   "source": [
    "!wget -q -O 'newyork_data.json' https://cocl.us/new_york_dataset\n",
    "print('Data downloaded!')"
   ]
  },
  {
   "cell_type": "markdown",
   "metadata": {},
   "source": [
    "#### Load data"
   ]
  },
  {
   "cell_type": "code",
   "execution_count": 16,
   "metadata": {},
   "outputs": [],
   "source": [
    "with open('newyork_data.json') as json_data:\n",
    "    newyork_data = json.load(json_data)"
   ]
  },
  {
   "cell_type": "markdown",
   "metadata": {},
   "source": [
    "#### Explore data"
   ]
  },
  {
   "cell_type": "code",
   "execution_count": 17,
   "metadata": {},
   "outputs": [],
   "source": [
    "#comment out after: initial viewing of dataset, comment because too long!\n",
    "#newyork_data"
   ]
  },
  {
   "cell_type": "code",
   "execution_count": 18,
   "metadata": {},
   "outputs": [],
   "source": [
    "# Save all *features* keys into neighborhoods.  list\n",
    "neighborhoods_data = newyork_data['features']"
   ]
  },
  {
   "cell_type": "code",
   "execution_count": 19,
   "metadata": {},
   "outputs": [],
   "source": [
    "#comment out after: initial viewing of 'sliced' dataset, comment because too long!\n",
    "#neighborhoods_data"
   ]
  },
  {
   "cell_type": "markdown",
   "metadata": {},
   "source": [
    "#### Transform the data into a *pandas* dataframe"
   ]
  },
  {
   "cell_type": "code",
   "execution_count": 20,
   "metadata": {},
   "outputs": [],
   "source": [
    "# define the dataframe columns\n",
    "column_names = ['Borough', 'Neighborhood', 'Latitude', 'Longitude'] \n",
    "\n",
    "# instantiate the dataframe\n",
    "neighborhoods = pd.DataFrame(columns=column_names)"
   ]
  },
  {
   "cell_type": "code",
   "execution_count": 21,
   "metadata": {},
   "outputs": [],
   "source": [
    "# loop through the data and fill the dataframe one row at a time.\n",
    "for data in neighborhoods_data:\n",
    "    borough = neighborhood_name = data['properties']['borough'] \n",
    "    neighborhood_name = data['properties']['name']\n",
    "        \n",
    "    neighborhood_latlon = data['geometry']['coordinates']\n",
    "    neighborhood_lat = neighborhood_latlon[1]\n",
    "    neighborhood_lon = neighborhood_latlon[0]\n",
    "    \n",
    "    neighborhoods = neighborhoods.append({'Borough': borough,\n",
    "                                          'Neighborhood': neighborhood_name,\n",
    "                                          'Latitude': neighborhood_lat,\n",
    "                                          'Longitude': neighborhood_lon}, ignore_index=True)"
   ]
  },
  {
   "cell_type": "code",
   "execution_count": 22,
   "metadata": {},
   "outputs": [],
   "source": [
    "# preserve with Borough, Neighborhood, Latitude, Longitude\n",
    "df_original = neighborhoods.copy()"
   ]
  },
  {
   "cell_type": "code",
   "execution_count": 23,
   "metadata": {},
   "outputs": [
    {
     "data": {
      "text/html": [
       "<div>\n",
       "<style scoped>\n",
       "    .dataframe tbody tr th:only-of-type {\n",
       "        vertical-align: middle;\n",
       "    }\n",
       "\n",
       "    .dataframe tbody tr th {\n",
       "        vertical-align: top;\n",
       "    }\n",
       "\n",
       "    .dataframe thead th {\n",
       "        text-align: right;\n",
       "    }\n",
       "</style>\n",
       "<table border=\"1\" class=\"dataframe\">\n",
       "  <thead>\n",
       "    <tr style=\"text-align: right;\">\n",
       "      <th></th>\n",
       "      <th>Neighborhood</th>\n",
       "      <th>Latitude</th>\n",
       "      <th>Longitude</th>\n",
       "    </tr>\n",
       "    <tr>\n",
       "      <th>Borough</th>\n",
       "      <th></th>\n",
       "      <th></th>\n",
       "      <th></th>\n",
       "    </tr>\n",
       "  </thead>\n",
       "  <tbody>\n",
       "    <tr>\n",
       "      <td>Bronx</td>\n",
       "      <td>52</td>\n",
       "      <td>52</td>\n",
       "      <td>52</td>\n",
       "    </tr>\n",
       "    <tr>\n",
       "      <td>Brooklyn</td>\n",
       "      <td>70</td>\n",
       "      <td>70</td>\n",
       "      <td>70</td>\n",
       "    </tr>\n",
       "    <tr>\n",
       "      <td>Manhattan</td>\n",
       "      <td>40</td>\n",
       "      <td>40</td>\n",
       "      <td>40</td>\n",
       "    </tr>\n",
       "    <tr>\n",
       "      <td>Queens</td>\n",
       "      <td>81</td>\n",
       "      <td>81</td>\n",
       "      <td>81</td>\n",
       "    </tr>\n",
       "    <tr>\n",
       "      <td>Staten Island</td>\n",
       "      <td>63</td>\n",
       "      <td>63</td>\n",
       "      <td>63</td>\n",
       "    </tr>\n",
       "  </tbody>\n",
       "</table>\n",
       "</div>"
      ],
      "text/plain": [
       "               Neighborhood  Latitude  Longitude\n",
       "Borough                                         \n",
       "Bronx                    52        52         52\n",
       "Brooklyn                 70        70         70\n",
       "Manhattan                40        40         40\n",
       "Queens                   81        81         81\n",
       "Staten Island            63        63         63"
      ]
     },
     "execution_count": 23,
     "metadata": {},
     "output_type": "execute_result"
    }
   ],
   "source": [
    "#check number of neighborhoods per borough\n",
    "df_original.groupby('Borough').count() "
   ]
  },
  {
   "cell_type": "markdown",
   "metadata": {},
   "source": [
    "## Prepare New York city data and FourSquare API"
   ]
  },
  {
   "cell_type": "markdown",
   "metadata": {},
   "source": [
    "### Use geopy library to get the latitude and longitude values "
   ]
  },
  {
   "cell_type": "code",
   "execution_count": 24,
   "metadata": {},
   "outputs": [
    {
     "name": "stdout",
     "output_type": "stream",
     "text": [
      "The geograpical coordinate of New York City are 40.7127281, -74.0060152.\n"
     ]
    }
   ],
   "source": [
    "address = 'New York City, NY'\n",
    "\n",
    "geolocator = Nominatim(user_agent=\"ny_explorer\")\n",
    "location = geolocator.geocode(address)\n",
    "latitude = location.latitude\n",
    "longitude = location.longitude\n",
    "print('The geograpical coordinate of New York City are {}, {}.'.format(latitude, longitude))"
   ]
  },
  {
   "cell_type": "markdown",
   "metadata": {},
   "source": [
    "#### Define Foursquare Credentials and Version"
   ]
  },
  {
   "cell_type": "code",
   "execution_count": 25,
   "metadata": {},
   "outputs": [
    {
     "name": "stdout",
     "output_type": "stream",
     "text": [
      "Your credentails:\n",
      "CLIENT_ID: ISPOO44KLBPPIBVEULPPTWOPMH4AJB5KUVAGZEG23JFCB555\n",
      "CLIENT_SECRET:LFOGHGUOYQZ2BOGSI0JXEOSNOMMFXLXU4BR5RQUPEWPOFVIX\n"
     ]
    }
   ],
   "source": [
    "CLIENT_ID = 'ISPOO44KLBPPIBVEULPPTWOPMH4AJB5KUVAGZEG23JFCB555' # your Foursquare ID\n",
    "CLIENT_SECRET = 'LFOGHGUOYQZ2BOGSI0JXEOSNOMMFXLXU4BR5RQUPEWPOFVIX' # your Foursquare Secret\n",
    "VERSION = '20180605' # Foursquare API version\n",
    "\n",
    "print('Your credentails:')\n",
    "print('CLIENT_ID: ' + CLIENT_ID)\n",
    "print('CLIENT_SECRET:' + CLIENT_SECRET)"
   ]
  },
  {
   "cell_type": "code",
   "execution_count": 26,
   "metadata": {},
   "outputs": [],
   "source": [
    "# set variables: limit and radii of venues\n",
    "LIMIT = 100 # limit of number of venues returned by Foursquare API, just a nice round num.\n",
    "\n",
    "radius = 4024 # define radius in meters assuming 2.5 miles per hour with an average lower bound ofwalking for 20 a day assuming 8 hours"
   ]
  },
  {
   "cell_type": "code",
   "execution_count": 27,
   "metadata": {},
   "outputs": [],
   "source": [
    "#FourSquare URL parameters\n",
    "NY_Lat = '40.712776' #from https://www.latlong.net/convert-address-to-lat-long.html \n",
    "NY_Lon = '-74.005974' #from https://www.latlong.net/convert-address-to-lat-long.html \n",
    "NY_LL = NY_Lat + ',' + NY_Lon\n",
    "Category = 'Hotel'#'Outdoor Sculpture'#Monument/Landmark'#''Hotel' \n",
    "Intent = 'global'\n",
    "Near = 'New York, NY'\n",
    "HotelID = '4bf58dd8d48988d1fa93173'"
   ]
  },
  {
   "cell_type": "code",
   "execution_count": 28,
   "metadata": {},
   "outputs": [],
   "source": [
    "# create URL\n",
    "url = 'https://api.foursquare.com/v2/venues/search?&client_id={}&client_secret={}&v={}&near={}&query={}&ll={}'.format(\n",
    "    CLIENT_ID,\n",
    "    CLIENT_SECRET, \n",
    "    VERSION, \n",
    "    Near,\n",
    "    Category,\n",
    "    NY_LL)"
   ]
  },
  {
   "cell_type": "code",
   "execution_count": 29,
   "metadata": {},
   "outputs": [
    {
     "data": {
      "text/plain": [
       "'https://api.foursquare.com/v2/venues/search?&client_id=ISPOO44KLBPPIBVEULPPTWOPMH4AJB5KUVAGZEG23JFCB555&client_secret=LFOGHGUOYQZ2BOGSI0JXEOSNOMMFXLXU4BR5RQUPEWPOFVIX&v=20180605&near=New York, NY&query=Hotel&ll=40.712776,-74.005974'"
      ]
     },
     "execution_count": 29,
     "metadata": {},
     "output_type": "execute_result"
    }
   ],
   "source": [
    "url"
   ]
  },
  {
   "cell_type": "code",
   "execution_count": 31,
   "metadata": {},
   "outputs": [],
   "source": [
    "## request URL. remeber to comment out after to avoid quota issues\n",
    "#results_hotels = requests.get(url).json()"
   ]
  },
  {
   "cell_type": "code",
   "execution_count": 32,
   "metadata": {},
   "outputs": [],
   "source": [
    "# after verify json, comment out due to length\n",
    "#results_hotels"
   ]
  },
  {
   "cell_type": "code",
   "execution_count": 33,
   "metadata": {},
   "outputs": [],
   "source": [
    "#format json for loading\n",
    "hotels_json = results_hotels['response'] ['venues'] "
   ]
  },
  {
   "cell_type": "code",
   "execution_count": 34,
   "metadata": {},
   "outputs": [],
   "source": [
    "#create hotels dataframe from json\n",
    "hotels = json_normalize(hotels_json)"
   ]
  },
  {
   "cell_type": "code",
   "execution_count": 35,
   "metadata": {},
   "outputs": [],
   "source": [
    "#get referralId as it changes with each request\n",
    "referralId = hotels ['referralId'] [0] "
   ]
  },
  {
   "cell_type": "code",
   "execution_count": 36,
   "metadata": {},
   "outputs": [],
   "source": [
    "# eliminate venues inside hotel\n",
    "hotels = hotels[hotels['referralId']==referralId]"
   ]
  },
  {
   "cell_type": "code",
   "execution_count": 37,
   "metadata": {},
   "outputs": [],
   "source": [
    "# sort hotels according to name to verify\n",
    "hotels.sort_values(by = ['name'], inplace = True)"
   ]
  },
  {
   "cell_type": "code",
   "execution_count": 38,
   "metadata": {},
   "outputs": [],
   "source": [
    "# reindex hotels for readability\n",
    "hotels.reset_index(inplace = True)"
   ]
  },
  {
   "cell_type": "code",
   "execution_count": 39,
   "metadata": {},
   "outputs": [],
   "source": [
    "#inspect hotels 30 were returned\n",
    "#hotels"
   ]
  },
  {
   "cell_type": "code",
   "execution_count": 40,
   "metadata": {},
   "outputs": [],
   "source": [
    "# drop a few columns to make it more workable\n",
    "hotels_d = hotels.drop(['categories', 'referralId', 'hasPerk',\n",
    "                        'location.labeledLatLngs','location.distance','location.state','location.cc','location.city','location.country',\n",
    "                       'venuePage.id'], \n",
    "                       axis=1)"
   ]
  },
  {
   "cell_type": "markdown",
   "metadata": {},
   "source": [
    "#### manually eliminate invalid entries for NY hotel"
   ]
  },
  {
   "cell_type": "code",
   "execution_count": 41,
   "metadata": {},
   "outputs": [],
   "source": [
    "#inside ace\n",
    "hotels_d.drop_duplicates(subset=['location.lat','location.lng'],keep='first', inplace=True)"
   ]
  },
  {
   "cell_type": "code",
   "execution_count": 42,
   "metadata": {},
   "outputs": [],
   "source": [
    "# drop ace lobby bar\n",
    "indexNames = hotels_d[ hotels_d['name'] == 'Ace Hotel Lobby Bar' ].index\n",
    "\n",
    "#hotels_d.drop(indexNames, inplace = True) #comment out once executed\\"
   ]
  },
  {
   "cell_type": "code",
   "execution_count": 43,
   "metadata": {},
   "outputs": [],
   "source": [
    "#drop dog hotel\n",
    "indexNames = hotels_d[ hotels_d['name'] == 'New York Dog Spa & Hotel' ].index\n",
    "\n",
    "#hotels_d.drop(indexNames, inplace = True) #comment out once executed"
   ]
  },
  {
   "cell_type": "code",
   "execution_count": 44,
   "metadata": {},
   "outputs": [],
   "source": [
    "hotels_d.reset_index(inplace = True, drop = True)"
   ]
  },
  {
   "cell_type": "code",
   "execution_count": 45,
   "metadata": {},
   "outputs": [
    {
     "data": {
      "text/plain": [
       "(30, 9)"
      ]
     },
     "execution_count": 45,
     "metadata": {},
     "output_type": "execute_result"
    }
   ],
   "source": [
    "hotels_d.shape\n",
    "#able to remove the 2"
   ]
  },
  {
   "cell_type": "code",
   "execution_count": 46,
   "metadata": {},
   "outputs": [],
   "source": [
    "#save results once as a CSV to minimise FourSquare API calls\n",
    "#hotels_d.to_csv('hotels.csv', index=False)"
   ]
  },
  {
   "cell_type": "code",
   "execution_count": 47,
   "metadata": {},
   "outputs": [],
   "source": [
    "#read CSV\n",
    "hotelsCSV = pd.read_csv('hotels.csv')"
   ]
  },
  {
   "cell_type": "code",
   "execution_count": 48,
   "metadata": {},
   "outputs": [],
   "source": [
    "#verify CSV was read properly\n",
    "#hotelsCSV"
   ]
  },
  {
   "cell_type": "markdown",
   "metadata": {},
   "source": [
    "#### Visualize Hotels"
   ]
  },
  {
   "cell_type": "code",
   "execution_count": 49,
   "metadata": {},
   "outputs": [],
   "source": [
    "# create map\n",
    "map_hotels= folium.Map(location=[latitude, longitude], zoom_start=11)"
   ]
  },
  {
   "cell_type": "code",
   "execution_count": 50,
   "metadata": {},
   "outputs": [],
   "source": [
    "hotelsCnt = len(hotelsCSV)"
   ]
  },
  {
   "cell_type": "code",
   "execution_count": 51,
   "metadata": {},
   "outputs": [],
   "source": [
    "# set color scheme for the clusters\n",
    "x = np.arange(hotelsCnt)\n",
    "ys = [i + x + (i*x)**2 for i in range(hotelsCnt)]\n",
    "colors_array = cm.rainbow(np.linspace(0, 1, len(ys)))\n",
    "rainbow = [colors.rgb2hex(i) for i in colors_array]"
   ]
  },
  {
   "cell_type": "code",
   "execution_count": 52,
   "metadata": {},
   "outputs": [],
   "source": [
    "# add markers to the map\n",
    "markers_colors = []\n",
    "for lat, lon, name in zip(hotels['location.lat'], hotelsCSV['location.lng'], hotelsCSV['name']):\n",
    "    label = folium.Popup(name, parse_html=True)\n",
    "    folium.CircleMarker(\n",
    "        [lat, lon],\n",
    "        radius=5,\n",
    "        popup=label,\n",
    "        color='blue',\n",
    "        fill=True,\n",
    "        fill_color='#3186cc',\n",
    "        fill_opacity=0.7,\n",
    "         parse_html=False).add_to(map_hotels)  "
   ]
  },
  {
   "cell_type": "code",
   "execution_count": 53,
   "metadata": {},
   "outputs": [
    {
     "data": {
      "text/html": [
       "<div style=\"width:100%;\"><div style=\"position:relative;width:100%;height:0;padding-bottom:60%;\"><iframe src=\"data:text/html;charset=utf-8;base64,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\" style=\"position:absolute;width:100%;height:100%;left:0;top:0;border:none !important;\" allowfullscreen webkitallowfullscreen mozallowfullscreen></iframe></div></div>"
      ],
      "text/plain": [
       "<folium.folium.Map at 0x7f1ab2834cc0>"
      ]
     },
     "execution_count": 53,
     "metadata": {},
     "output_type": "execute_result"
    }
   ],
   "source": [
    "map_hotels"
   ]
  },
  {
   "cell_type": "markdown",
   "metadata": {},
   "source": [
    "## Cluster"
   ]
  },
  {
   "cell_type": "markdown",
   "metadata": {},
   "source": [
    "#### Verify Boroughs"
   ]
  },
  {
   "cell_type": "code",
   "execution_count": 54,
   "metadata": {},
   "outputs": [],
   "source": [
    "# comment out after: too many rows, 5 boroughs, 306 neighnorhoods and various Latitudes & Longitudes\n",
    "#neighborhoods #.head()"
   ]
  },
  {
   "cell_type": "markdown",
   "metadata": {},
   "source": [
    "#### Dedicated Neighborhoods DataFrame"
   ]
  },
  {
   "cell_type": "code",
   "execution_count": 55,
   "metadata": {},
   "outputs": [],
   "source": [
    "# create a new dataframe\n",
    "nhoods = pd.DataFrame()\n",
    "\n",
    "hotelCSVCluster =pd.DataFrame()"
   ]
  },
  {
   "cell_type": "code",
   "execution_count": 56,
   "metadata": {},
   "outputs": [],
   "source": [
    "nhoods['Neighborhood'] = neighborhoods['Neighborhood'] \n",
    "\n",
    "#"
   ]
  },
  {
   "cell_type": "code",
   "execution_count": 57,
   "metadata": {},
   "outputs": [],
   "source": [
    "#make a copy for one-hot encoding\n",
    "n_ohe = nhoods.copy()\n",
    "\n",
    "hotelCSVClusterOHE = hotelCSVCluster.copy() "
   ]
  },
  {
   "cell_type": "markdown",
   "metadata": {},
   "source": [
    "#### k-means clustering"
   ]
  },
  {
   "cell_type": "code",
   "execution_count": 58,
   "metadata": {},
   "outputs": [],
   "source": [
    "# set number of clusters aligned with number of borough\n",
    "kclusters = 5\n",
    "\n",
    "hotelClusters = 3"
   ]
  },
  {
   "cell_type": "code",
   "execution_count": 59,
   "metadata": {},
   "outputs": [],
   "source": [
    "#lat,long only compatiblle with machine learning\n",
    "cluster = neighborhoods.drop('Neighborhood', 1)\n",
    "cluster.drop('Borough', 1, inplace = True)\n",
    "\n",
    "#drp a lot for hotelsCSV\n",
    "clusterHotels =pd.DataFrame()"
   ]
  },
  {
   "cell_type": "code",
   "execution_count": 60,
   "metadata": {},
   "outputs": [],
   "source": [
    "# run k-means clustering for boroughs\n",
    "kmeans_cluster = KMeans(n_clusters=kclusters, random_state=0).fit(cluster)"
   ]
  },
  {
   "cell_type": "code",
   "execution_count": 61,
   "metadata": {},
   "outputs": [],
   "source": [
    "# run k-means clustering for hotels\n",
    "#kmeans_clusterHotels = KMeans(n_clusters=hotelClusters, random_state=0).fit(clusterHotels)"
   ]
  },
  {
   "cell_type": "code",
   "execution_count": 62,
   "metadata": {},
   "outputs": [
    {
     "data": {
      "text/plain": [
       "array([4, 4, 4, 4], dtype=int32)"
      ]
     },
     "execution_count": 62,
     "metadata": {},
     "output_type": "execute_result"
    }
   ],
   "source": [
    "# check cluster labels generated for each row in theboroughd dataframe\n",
    "kmeans_cluster.labels_[0:4] "
   ]
  },
  {
   "cell_type": "code",
   "execution_count": 63,
   "metadata": {},
   "outputs": [],
   "source": [
    "# check cluster labels generated for each row in the hotrlsCSVdataframe\n",
    "#kmeans_clusterHotels.labels_[0:2] "
   ]
  },
  {
   "cell_type": "code",
   "execution_count": 64,
   "metadata": {},
   "outputs": [],
   "source": [
    "# add clustering labels\n",
    "nhoods.insert(0, 'Cluster', kmeans_cluster.labels_)\n",
    "#"
   ]
  },
  {
   "cell_type": "code",
   "execution_count": 65,
   "metadata": {},
   "outputs": [],
   "source": [
    "#"
   ]
  },
  {
   "cell_type": "code",
   "execution_count": 66,
   "metadata": {},
   "outputs": [
    {
     "data": {
      "text/html": [
       "<div>\n",
       "<style scoped>\n",
       "    .dataframe tbody tr th:only-of-type {\n",
       "        vertical-align: middle;\n",
       "    }\n",
       "\n",
       "    .dataframe tbody tr th {\n",
       "        vertical-align: top;\n",
       "    }\n",
       "\n",
       "    .dataframe thead th {\n",
       "        text-align: right;\n",
       "    }\n",
       "</style>\n",
       "<table border=\"1\" class=\"dataframe\">\n",
       "  <thead>\n",
       "    <tr style=\"text-align: right;\">\n",
       "      <th></th>\n",
       "      <th>Cluster</th>\n",
       "      <th>Neighborhood</th>\n",
       "    </tr>\n",
       "  </thead>\n",
       "  <tbody>\n",
       "    <tr>\n",
       "      <td>0</td>\n",
       "      <td>4</td>\n",
       "      <td>Wakefield</td>\n",
       "    </tr>\n",
       "    <tr>\n",
       "      <td>1</td>\n",
       "      <td>4</td>\n",
       "      <td>Co-op City</td>\n",
       "    </tr>\n",
       "    <tr>\n",
       "      <td>2</td>\n",
       "      <td>4</td>\n",
       "      <td>Eastchester</td>\n",
       "    </tr>\n",
       "    <tr>\n",
       "      <td>3</td>\n",
       "      <td>4</td>\n",
       "      <td>Fieldston</td>\n",
       "    </tr>\n",
       "    <tr>\n",
       "      <td>4</td>\n",
       "      <td>4</td>\n",
       "      <td>Riverdale</td>\n",
       "    </tr>\n",
       "  </tbody>\n",
       "</table>\n",
       "</div>"
      ],
      "text/plain": [
       "   Cluster Neighborhood\n",
       "0        4    Wakefield\n",
       "1        4   Co-op City\n",
       "2        4  Eastchester\n",
       "3        4    Fieldston\n",
       "4        4    Riverdale"
      ]
     },
     "execution_count": 66,
     "metadata": {},
     "output_type": "execute_result"
    }
   ],
   "source": [
    "#confirm cluster insertion\n",
    "nhoods.head()"
   ]
  },
  {
   "cell_type": "markdown",
   "metadata": {},
   "source": [
    "#### Prepare for merge"
   ]
  },
  {
   "cell_type": "code",
   "execution_count": 67,
   "metadata": {},
   "outputs": [],
   "source": [
    "#n,l,l\n",
    "nhoods_latLong = df_original.copy()\n",
    "\n",
    "nhoods_latLong.drop('Borough', 1, inplace = True)"
   ]
  },
  {
   "cell_type": "code",
   "execution_count": 68,
   "metadata": {},
   "outputs": [],
   "source": [
    "merged = neighborhoods.copy()\n",
    "merged_ohe = merged.copy\n",
    "\n",
    "merged = merged.merge(nhoods , on='Neighborhood')"
   ]
  },
  {
   "cell_type": "code",
   "execution_count": 69,
   "metadata": {},
   "outputs": [
    {
     "data": {
      "text/html": [
       "<div>\n",
       "<style scoped>\n",
       "    .dataframe tbody tr th:only-of-type {\n",
       "        vertical-align: middle;\n",
       "    }\n",
       "\n",
       "    .dataframe tbody tr th {\n",
       "        vertical-align: top;\n",
       "    }\n",
       "\n",
       "    .dataframe thead th {\n",
       "        text-align: right;\n",
       "    }\n",
       "</style>\n",
       "<table border=\"1\" class=\"dataframe\">\n",
       "  <thead>\n",
       "    <tr style=\"text-align: right;\">\n",
       "      <th></th>\n",
       "      <th>Borough</th>\n",
       "      <th>Neighborhood</th>\n",
       "      <th>Latitude</th>\n",
       "      <th>Longitude</th>\n",
       "      <th>Cluster</th>\n",
       "    </tr>\n",
       "  </thead>\n",
       "  <tbody>\n",
       "    <tr>\n",
       "      <td>0</td>\n",
       "      <td>Bronx</td>\n",
       "      <td>Wakefield</td>\n",
       "      <td>40.894705</td>\n",
       "      <td>-73.847201</td>\n",
       "      <td>4</td>\n",
       "    </tr>\n",
       "    <tr>\n",
       "      <td>1</td>\n",
       "      <td>Bronx</td>\n",
       "      <td>Co-op City</td>\n",
       "      <td>40.874294</td>\n",
       "      <td>-73.829939</td>\n",
       "      <td>4</td>\n",
       "    </tr>\n",
       "    <tr>\n",
       "      <td>2</td>\n",
       "      <td>Bronx</td>\n",
       "      <td>Eastchester</td>\n",
       "      <td>40.887556</td>\n",
       "      <td>-73.827806</td>\n",
       "      <td>4</td>\n",
       "    </tr>\n",
       "    <tr>\n",
       "      <td>3</td>\n",
       "      <td>Bronx</td>\n",
       "      <td>Fieldston</td>\n",
       "      <td>40.895437</td>\n",
       "      <td>-73.905643</td>\n",
       "      <td>4</td>\n",
       "    </tr>\n",
       "    <tr>\n",
       "      <td>4</td>\n",
       "      <td>Bronx</td>\n",
       "      <td>Riverdale</td>\n",
       "      <td>40.890834</td>\n",
       "      <td>-73.912585</td>\n",
       "      <td>4</td>\n",
       "    </tr>\n",
       "  </tbody>\n",
       "</table>\n",
       "</div>"
      ],
      "text/plain": [
       "  Borough Neighborhood   Latitude  Longitude  Cluster\n",
       "0   Bronx    Wakefield  40.894705 -73.847201        4\n",
       "1   Bronx   Co-op City  40.874294 -73.829939        4\n",
       "2   Bronx  Eastchester  40.887556 -73.827806        4\n",
       "3   Bronx    Fieldston  40.895437 -73.905643        4\n",
       "4   Bronx    Riverdale  40.890834 -73.912585        4"
      ]
     },
     "execution_count": 69,
     "metadata": {},
     "output_type": "execute_result"
    }
   ],
   "source": [
    "# ensure there are no duplicate neighborhoods\n",
    "merged.drop_duplicates(subset='Neighborhood',keep='first', inplace=True)\n",
    "\n",
    "merged.head()#shape"
   ]
  },
  {
   "cell_type": "markdown",
   "metadata": {},
   "source": [
    "#### Map clusters"
   ]
  },
  {
   "cell_type": "code",
   "execution_count": 70,
   "metadata": {},
   "outputs": [],
   "source": [
    "# create map\n",
    "map_clusters = folium.Map(location=[latitude, longitude], zoom_start=11)"
   ]
  },
  {
   "cell_type": "code",
   "execution_count": 71,
   "metadata": {},
   "outputs": [],
   "source": [
    "# set color scheme for the clusters\n",
    "x = np.arange(kclusters)\n",
    "ys = [i + x + (i*x)**2 for i in range(kclusters)]\n",
    "colors_array = cm.rainbow(np.linspace(0, 1, len(ys)))\n",
    "rainbow = [colors.rgb2hex(i) for i in colors_array]"
   ]
  },
  {
   "cell_type": "code",
   "execution_count": 74,
   "metadata": {},
   "outputs": [],
   "source": [
    "# add markers to the map\n",
    "markers_colors = []\n",
    "for lat, lon, nhood, cluster in zip(merged['Latitude'], merged['Longitude'], merged['Neighborhood'], merged['Cluster']):\n",
    "    label = folium.Popup(nhood + ' Cluster ' + str(cluster), parse_html=True)\n",
    "    folium.CircleMarker(\n",
    "        [lat, lon],\n",
    "        radius=5,\n",
    "        popup=label,\n",
    "        color=rainbow[cluster-1],\n",
    "        fill=True,\n",
    "        fill_color=rainbow[cluster-1],\n",
    "        fill_opacity=0.7).add_to(map_clusters)"
   ]
  },
  {
   "cell_type": "code",
   "execution_count": 75,
   "metadata": {},
   "outputs": [
    {
     "data": {
      "text/html": [
       "<div style=\"width:100%;\"><div style=\"position:relative;width:100%;height:0;padding-bottom:60%;\"><iframe src=\"data:text/html;charset=utf-8;base64,PCFET0NUWVBFIGh0bWw+CjxoZWFkPiAgICAKICAgIDxtZXRhIGh0dHAtZXF1aXY9ImNvbnRlbnQtdHlwZSIgY29udGVudD0idGV4dC9odG1sOyBjaGFyc2V0PVVURi04IiAvPgogICAgPHNjcmlwdD5MX1BSRUZFUl9DQU5WQVMgPSBmYWxzZTsgTF9OT19UT1VDSCA9IGZhbHNlOyBMX0RJU0FCTEVfM0QgPSBmYWxzZTs8L3NjcmlwdD4KICAgIDxzY3JpcHQgc3JjPSJodHRwczovL2Nkbi5qc2RlbGl2ci5uZXQvbnBtL2xlYWZsZXRAMS4yLjAvZGlzdC9sZWFmbGV0LmpzIj48L3NjcmlwdD4KICAgIDxzY3JpcHQgc3JjPSJodHRwczovL2FqYXguZ29vZ2xlYXBpcy5jb20vYWpheC9saWJzL2pxdWVyeS8xLjExLjEvanF1ZXJ5Lm1pbi5qcyI+PC9zY3JpcHQ+CiAgICA8c2NyaXB0IHNyYz0iaHR0cHM6Ly9tYXhjZG4uYm9vdHN0cmFwY2RuLmNvbS9ib290c3RyYXAvMy4yLjAvanMvYm9vdHN0cmFwLm1pbi5qcyI+PC9zY3JpcHQ+CiAgICA8c2NyaXB0IHNyYz0iaHR0cHM6Ly9jZG5qcy5jbG91ZGZsYXJlLmNvbS9hamF4L2xpYnMvTGVhZmxldC5hd2Vzb21lLW1hcmtlcnMvMi4wLjIvbGVhZmxldC5hd2Vzb21lLW1hcmtlcnMuanMiPjwvc2NyaXB0PgogICAgPGxpbmsgcmVsPSJzdHlsZXNoZWV0IiBocmVmPSJodHRwczovL2Nkbi5qc2RlbGl2ci5uZXQvbnBtL2xlYWZsZXRAMS4yLjAvZGlzdC9sZWFmbGV0LmNzcyIvPgogICAgPGxpbmsgcmVsPSJzdHlsZXNoZWV0IiBocmVmPSJodHRwczovL21heGNkbi5ib290c3RyYXBjZG4uY29tL2Jvb3RzdHJhcC8zLjIuMC9jc3MvYm9vdHN0cmFwLm1pbi5jc3MiLz4KICAgIDxsaW5rIHJlbD0ic3R5bGVzaGVldCIgaHJlZj0iaHR0cHM6Ly9tYXhjZG4uYm9vdHN0cmFwY2RuLmNvbS9ib290c3RyYXAvMy4yLjAvY3NzL2Jvb3RzdHJhcC10aGVtZS5taW4uY3NzIi8+CiAgICA8bGluayByZWw9InN0eWxlc2hlZXQiIGhyZWY9Imh0dHBzOi8vbWF4Y2RuLmJvb3RzdHJhcGNkbi5jb20vZm9udC1hd2Vzb21lLzQuNi4zL2Nzcy9mb250LWF3ZXNvbWUubWluLmNzcyIvPgogICAgPGxpbmsgcmVsPSJzdHlsZXNoZWV0IiBocmVmPSJodHRwczovL2NkbmpzLmNsb3VkZmxhcmUuY29tL2FqYXgvbGlicy9MZWFmbGV0LmF3ZXNvbWUtbWFya2Vycy8yLjAuMi9sZWFmbGV0LmF3ZXNvbWUtbWFya2Vycy5jc3MiLz4KICAgIDxsaW5rIHJlbD0ic3R5bGVzaGVldCIgaHJlZj0iaHR0cHM6Ly9yYXdnaXQuY29tL3B5dGhvbi12aXN1YWxpemF0aW9uL2ZvbGl1bS9tYXN0ZXIvZm9saXVtL3RlbXBsYXRlcy9sZWFmbGV0LmF3ZXNvbWUucm90YXRlLmNzcyIvPgogICAgPHN0eWxlPmh0bWwsIGJvZHkge3dpZHRoOiAxMDAlO2hlaWdodDogMTAwJTttYXJnaW46IDA7cGFkZGluZzogMDt9PC9zdHlsZT4KICAgIDxzdHlsZT4jbWFwIHtwb3NpdGlvbjphYnNvbHV0ZTt0b3A6MDtib3R0b206MDtyaWdodDowO2xlZnQ6MDt9PC9zdHlsZT4KICAgIAogICAgICAgICAgICA8c3R5bGU+ICNtYXBfNzFhYWRhOWI2NGU5NGZhOGFhY2ZjZDdjNzgyZWI1NjEgewogICAgICAgICAgICAgICAgcG9zaXRpb24gOiByZWxhdGl2ZTsKICAgICAgICAgICAgICAgIHdpZHRoIDogMTAwLjAlOwogICAgICAgICAgICAgICAgaGVpZ2h0OiAxMDAuMCU7CiAgICAgICAgICAgICAgICBsZWZ0OiAwLjAlOwogICAgICAgICAgICAgICAgdG9wOiAwLjAlOwogICAgICAgICAgICAgICAgfQogICAgICAgICAgICA8L3N0eWxlPgogICAgICAgIAo8L2hlYWQ+Cjxib2R5PiAgICAKICAgIAogICAgICAgICAgICA8ZGl2IGNsYXNzPSJmb2xpdW0tbWFwIiBpZD0ibWFwXzcxYWFkYTliNjRlOTRmYThhYWNmY2Q3Yzc4MmViNTYxIiA+PC9kaXY+CiAgICAgICAgCjwvYm9keT4KPHNjcmlwdD4gICAgCiAgICAKCiAgICAgICAgICAgIAogICAgICAgICAgICAgICAgdmFyIGJvdW5kcyA9IG51bGw7CiAgICAgICAgICAgIAoKICAgICAgICAgICAgdmFyIG1hcF83MWFhZGE5YjY0ZTk0ZmE4YWFjZmNkN2M3ODJlYjU2MSA9IEwubWFwKAogICAgICAgICAgICAgICAgICAgICAgICAgICAgICAgICAgJ21hcF83MWFhZGE5YjY0ZTk0ZmE4YWFjZmNkN2M3ODJlYjU2MScsCiAgICAgICAgICAgICAgICAgICAgICAgICAgICAgICAgICB7Y2VudGVyOiBbNDAuNzEyNzI4MSwtNzQuMDA2MDE1Ml0sCiAgICAgICAgICAgICAgICAgICAgICAgICAgICAgICAgICB6b29tOiAxMSwKICAgICAgICAgICAgICAgICAgICAgICAgICAgICAgICAgIG1heEJvdW5kczogYm91bmRzLAogICAgICAgICAgICAgICAgICAgICAgICAgICAgICAgICAgbGF5ZXJzOiBbXSwKICAgICAgICAgICAgICAgICAgICAgICAgICAgICAgICAgIHdvcmxkQ29weUp1bXA6IGZhbHNlLAogICAgICAgICAgICAgICAgICAgICAgICAgICAgICAgICAgY3JzOiBMLkNSUy5FUFNHMzg1NwogICAgICAgICAgICAgICAgICAgICAgICAgICAgICAgICB9KTsKICAgICAgICAgICAgCiAgICAgICAgCiAgICAKICAgICAgICAgICAgdmFyIHRpbGVfbGF5ZXJfMTMzOTgwYzU3ODMwNGJhN2FmNDg2OWI0OGRhMjVkZjkgPSBMLnRpbGVMYXllcigKICAgICAgICAgICAgICAgICdodHRwczovL3tzfS50aWxlLm9wZW5zdHJlZXRtYXAub3JnL3t6fS97eH0ve3l9LnBuZycsCiAgICAgICAgICAgICAgICB7CiAgImF0dHJpYnV0aW9uIjogbnVsbCwKICAiZGV0ZWN0UmV0aW5hIjogZmFsc2UsCiAgIm1heFpvb20iOiAxOCwKICAibWluWm9vbSI6IDEsCiAgIm5vV3JhcCI6IGZhbHNlLAogICJzdWJkb21haW5zIjogImFiYyIKfQogICAgICAgICAgICAgICAgKS5hZGRUbyhtYXBfNzFhYWRhOWI2NGU5NGZhOGFhY2ZjZDdjNzgyZWI1NjEpOwogICAgICAgIAogICAgCiAgICAgICAgICAgIHZhciBjaXJjbGVfbWFya2VyXzc4Y2Q2ODRhZGFjNTQ3OThhMzhiMGIzYzUyZjY1ODRkID0gTC5jaXJjbGVNYXJrZXIoCiAgICAgICAgICAgICAgICBbNDAuODk0NzA1MTc2NjEsLTczLjg0NzIwMDUyMDU0OTAyXSwKICAgICAgICAgICAgICAgIHsKICAiYnViYmxpbmdNb3VzZUV2ZW50cyI6IHRydWUsCiAgImNvbG9yIjogIiNmZmIzNjAiLAogICJkYXNoQXJyYXkiOiBudWxsLAogICJkYXNoT2Zmc2V0IjogbnVsbCwKICAiZmlsbCI6IHRydWUsCiAgImZpbGxDb2xvciI6ICIjZmZiMzYwIiwKICAiZmlsbE9wYWNpdHkiOiAwLjcsCiAgImZpbGxSdWxlIjogImV2ZW5vZGQiLAogICJsaW5lQ2FwIjogInJvdW5kIiwKICAibGluZUpvaW4iOiAicm91bmQiLAogICJvcGFjaXR5IjogMS4wLAogICJyYWRpdXMiOiA1LAogICJzdHJva2UiOiB0cnVlLAogICJ3ZWlnaHQiOiAzCn0KICAgICAgICAgICAgICAgICkuYWRkVG8obWFwXzcxYWFkYTliNjRlOTRmYThhYWNmY2Q3Yzc4MmViNTYxKTsKICAgICAgICAgICAgCiAgICAKICAgICAgICAgICAgdmFyIHBvcHVwX2NmYTRhNDAzNjI4MTQzMGM5N2IyYzZhMjFmM2M4MDM4ID0gTC5wb3B1cCh7bWF4V2lkdGg6ICczMDAnfSk7CgogICAgICAgICAgICAKICAgICAgICAgICAgICAgIHZhciBodG1sXzlhZjczZGZhNzg0ZDQwZGRhNjFiMmI4ZGYwODk0ZmZiID0gJCgnPGRpdiBpZD0iaHRtbF85YWY3M2RmYTc4NGQ0MGRkYTYxYjJiOGRmMDg5NGZmYiIgc3R5bGU9IndpZHRoOiAxMDAuMCU7IGhlaWdodDogMTAwLjAlOyI+V2FrZWZpZWxkIENsdXN0ZXIgNDwvZGl2PicpWzBdOwogICAgICAgICAgICAgICAgcG9wdXBfY2ZhNGE0MDM2MjgxNDMwYzk3YjJjNmEyMWYzYzgwMzguc2V0Q29udGVudChodG1sXzlhZjczZGZhNzg0ZDQwZGRhNjFiMmI4ZGYwODk0ZmZiKTsKICAgICAgICAgICAgCgogICAgICAgICAgICBjaXJjbGVfbWFya2VyXzc4Y2Q2ODRhZGFjNTQ3OThhMzhiMGIzYzUyZjY1ODRkLmJpbmRQb3B1cChwb3B1cF9jZmE0YTQwMzYyODE0MzBjOTdiMmM2YTIxZjNjODAzOCk7CgogICAgICAgICAgICAKICAgICAgICAKICAgIAogICAgICAgICAgICB2YXIgY2lyY2xlX21hcmtlcl9mZjhmM2E1YzhmOTQ0ODY5YmIyZjYzZDRhOGU0NWQ0ZSA9IEwuY2lyY2xlTWFya2VyKAogICAgICAgICAgICAgICAgWzQwLjg3NDI5NDE5MzAzMDEyLC03My44Mjk5MzkxMDgxMjM5OF0sCiAgICAgICAgICAgICAgICB7CiAgImJ1YmJsaW5nTW91c2VFdmVudHMiOiB0cnVlLAogICJjb2xvciI6ICIjZmZiMzYwIiwKICAiZGFzaEFycmF5IjogbnVsbCwKICAiZGFzaE9mZnNldCI6IG51bGwsCiAgImZpbGwiOiB0cnVlLAogICJmaWxsQ29sb3IiOiAiI2ZmYjM2MCIsCiAgImZpbGxPcGFjaXR5IjogMC43LAogICJmaWxsUnVsZSI6ICJldmVub2RkIiwKICAibGluZUNhcCI6ICJyb3VuZCIsCiAgImxpbmVKb2luIjogInJvdW5kIiwKICAib3BhY2l0eSI6IDEuMCwKICAicmFkaXVzIjogNSwKICAic3Ryb2tlIjogdHJ1ZSwKICAid2VpZ2h0IjogMwp9CiAgICAgICAgICAgICAgICApLmFkZFRvKG1hcF83MWFhZGE5YjY0ZTk0ZmE4YWFjZmNkN2M3ODJlYjU2MSk7CiAgICAgICAgICAgIAogICAgCiAgICAgICAgICAgIHZhciBwb3B1cF85ZmIxODRlNzc5NTg0ZDRlODNiNWNiMmIwZDNkMmNjNCA9IEwucG9wdXAoe21heFdpZHRoOiAnMzAwJ30pOwoKICAgICAgICAgICAgCiAgICAgICAgICAgICAgICB2YXIgaHRtbF80ZGIzNzhjYjU0Y2I0M2ViYmRkNTYyMjg4MmM0ZmRmYyA9ICQoJzxkaXYgaWQ9Imh0bWxfNGRiMzc4Y2I1NGNiNDNlYmJkZDU2MjI4ODJjNGZkZmMiIHN0eWxlPSJ3aWR0aDogMTAwLjAlOyBoZWlnaHQ6IDEwMC4wJTsiPkNvLW9wIENpdHkgQ2x1c3RlciA0PC9kaXY+JylbMF07CiAgICAgICAgICAgICAgICBwb3B1cF85ZmIxODRlNzc5NTg0ZDRlODNiNWNiMmIwZDNkMmNjNC5zZXRDb250ZW50KGh0bWxfNGRiMzc4Y2I1NGNiNDNlYmJkZDU2MjI4ODJjNGZkZmMpOwogICAgICAgICAgICAKCiAgICAgICAgICAgIGNpcmNsZV9tYXJrZXJfZmY4ZjNhNWM4Zjk0NDg2OWJiMmY2M2Q0YThlNDVkNGUuYmluZFBvcHVwKHBvcHVwXzlmYjE4NGU3Nzk1ODRkNGU4M2I1Y2IyYjBkM2QyY2M0KTsKCiAgICAgICAgICAgIAogICAgICAgIAogICAgCiAgICAgICAgICAgIHZhciBjaXJjbGVfbWFya2VyX2Q4NjY2MDg3NDZiMjQ2ZTA5ZDkyZDQzNWI1NzQ5YTNmID0gTC5jaXJjbGVNYXJrZXIoCiAgICAgICAgICAgICAgICBbNDAuODg3NTU1Njc3MzUwNzc1LC03My44Mjc4MDY0NDcxNjQxMl0sCiAgICAgICAgICAgICAgICB7CiAgImJ1YmJsaW5nTW91c2VFdmVudHMiOiB0cnVlLAogICJjb2xvciI6ICIjZmZiMzYwIiwKICAiZGFzaEFycmF5IjogbnVsbCwKICAiZGFzaE9mZnNldCI6IG51bGwsCiAgImZpbGwiOiB0cnVlLAogICJmaWxsQ29sb3IiOiAiI2ZmYjM2MCIsCiAgImZpbGxPcGFjaXR5IjogMC43LAogICJmaWxsUnVsZSI6ICJldmVub2RkIiwKICAibGluZUNhcCI6ICJyb3VuZCIsCiAgImxpbmVKb2luIjogInJvdW5kIiwKICAib3BhY2l0eSI6IDEuMCwKICAicmFkaXVzIjogNSwKICAic3Ryb2tlIjogdHJ1ZSwKICAid2VpZ2h0IjogMwp9CiAgICAgICAgICAgICAgICApLmFkZFRvKG1hcF83MWFhZGE5YjY0ZTk0ZmE4YWFjZmNkN2M3ODJlYjU2MSk7CiAgICAgICAgICAgIAogICAgCiAgICAgICAgICAgIHZhciBwb3B1cF9hYzI5M2NmMTRiYzc0OWUyOWNkN2MyZDFkNThlMzNiYSA9IEwucG9wdXAoe21heFdpZHRoOiAnMzAwJ30pOwoKICAgICAgICAgICAgCiAgICAgICAgICAgICAgICB2YXIgaHRtbF8yOGNlMTZhMGJhZmI0YjI4YTM4OWE5NWY4MTgxZDEzMSA9ICQoJzxkaXYgaWQ9Imh0bWxfMjhjZTE2YTBiYWZiNGIyOGEzODlhOTVmODE4MWQxMzEiIHN0eWxlPSJ3aWR0aDogMTAwLjAlOyBoZWlnaHQ6IDEwMC4wJTsiPkVhc3RjaGVzdGVyIENsdXN0ZXIgNDwvZGl2PicpWzBdOwogICAgICAgICAgICAgICAgcG9wdXBfYWMyOTNjZjE0YmM3NDllMjljZDdjMmQxZDU4ZTMzYmEuc2V0Q29udGVudChodG1sXzI4Y2UxNmEwYmFmYjRiMjhhMzg5YTk1ZjgxODFkMTMxKTsKICAgICAgICAgICAgCgogICAgICAgICAgICBjaXJjbGVfbWFya2VyX2Q4NjY2MDg3NDZiMjQ2ZTA5ZDkyZDQzNWI1NzQ5YTNmLmJpbmRQb3B1cChwb3B1cF9hYzI5M2NmMTRiYzc0OWUyOWNkN2MyZDFkNThlMzNiYSk7CgogICAgICAgICAgICAKICAgICAgICAKICAgIAogICAgICAgICAgICB2YXIgY2lyY2xlX21hcmtlcl83NDVmZGJlNjlkZWY0ZTU1OTRkN2RjN2MwYjM3MWY4OSA9IEwuY2lyY2xlTWFya2VyKAogICAgICAgICAgICAgICAgWzQwLjg5NTQzNzQyNjkwMzgzLC03My45MDU2NDI1OTU5MTY4Ml0sCiAgICAgICAgICAgICAgICB7CiAgImJ1YmJsaW5nTW91c2VFdmVudHMiOiB0cnVlLAogICJjb2xvciI6ICIjZmZiMzYwIiwKICAiZGFzaEFycmF5IjogbnVsbCwKICAiZGFzaE9mZnNldCI6IG51bGwsCiAgImZpbGwiOiB0cnVlLAogICJmaWxsQ29sb3IiOiAiI2ZmYjM2MCIsCiAgImZpbGxPcGFjaXR5IjogMC43LAogICJmaWxsUnVsZSI6ICJldmVub2RkIiwKICAibGluZUNhcCI6ICJyb3VuZCIsCiAgImxpbmVKb2luIjogInJvdW5kIiwKICAib3BhY2l0eSI6IDEuMCwKICAicmFkaXVzIjogNSwKICAic3Ryb2tlIjogdHJ1ZSwKICAid2VpZ2h0IjogMwp9CiAgICAgICAgICAgICAgICApLmFkZFRvKG1hcF83MWFhZGE5YjY0ZTk0ZmE4YWFjZmNkN2M3ODJlYjU2MSk7CiAgICAgICAgICAgIAogICAgCiAgICAgICAgICAgIHZhciBwb3B1cF8zYTBjZGVmZGE0NzE0NDkwYTU3YTgxMDY1MWQxOWNkNSA9IEwucG9wdXAoe21heFdpZHRoOiAnMzAwJ30pOwoKICAgICAgICAgICAgCiAgICAgICAgICAgICAgICB2YXIgaHRtbF82NTI1ZGY2Y2E4Yzc0ZjAxYmNkMDJmZjJlMjc4OGRjYyA9ICQoJzxkaXYgaWQ9Imh0bWxfNjUyNWRmNmNhOGM3NGYwMWJjZDAyZmYyZTI3ODhkY2MiIHN0eWxlPSJ3aWR0aDogMTAwLjAlOyBoZWlnaHQ6IDEwMC4wJTsiPkZpZWxkc3RvbiBDbHVzdGVyIDQ8L2Rpdj4nKVswXTsKICAgICAgICAgICAgICAgIHBvcHVwXzNhMGNkZWZkYTQ3MTQ0OTBhNTdhODEwNjUxZDE5Y2Q1LnNldENvbnRlbnQoaHRtbF82NTI1ZGY2Y2E4Yzc0ZjAxYmNkMDJmZjJlMjc4OGRjYyk7CiAgICAgICAgICAgIAoKICAgICAgICAgICAgY2lyY2xlX21hcmtlcl83NDVmZGJlNjlkZWY0ZTU1OTRkN2RjN2MwYjM3MWY4OS5iaW5kUG9wdXAocG9wdXBfM2EwY2RlZmRhNDcxNDQ5MGE1N2E4MTA2NTFkMTljZDUpOwoKICAgICAgICAgICAgCiAgICAgICAgCiAgICAKICAgICAgICAgICAgdmFyIGNpcmNsZV9tYXJrZXJfMDA1ZjIwMmM4NjE4NGJlMDk5NjdlZmY5ZDM0MWY2NzEgPSBMLmNpcmNsZU1hcmtlcigKICAgICAgICAgICAgICAgIFs0MC44OTA4MzQ0OTM4OTEzMDUsLTczLjkxMjU4NTQ2MTA4NTddLAogICAgICAgICAgICAgICAgewogICJidWJibGluZ01vdXNlRXZlbnRzIjogdHJ1ZSwKICAiY29sb3IiOiAiI2ZmYjM2MCIsCiAgImRhc2hBcnJheSI6IG51bGwsCiAgImRhc2hPZmZzZXQiOiBudWxsLAogICJmaWxsIjogdHJ1ZSwKICAiZmlsbENvbG9yIjogIiNmZmIzNjAiLAogICJmaWxsT3BhY2l0eSI6IDAuNywKICAiZmlsbFJ1bGUiOiAiZXZlbm9kZCIsCiAgImxpbmVDYXAiOiAicm91bmQiLAogICJsaW5lSm9pbiI6ICJyb3VuZCIsCiAgIm9wYWNpdHkiOiAxLjAsCiAgInJhZGl1cyI6IDUsCiAgInN0cm9rZSI6IHRydWUsCiAgIndlaWdodCI6IDMKfQogICAgICAgICAgICAgICAgKS5hZGRUbyhtYXBfNzFhYWRhOWI2NGU5NGZhOGFhY2ZjZDdjNzgyZWI1NjEpOwogICAgICAgICAgICAKICAgIAogICAgICAgICAgICB2YXIgcG9wdXBfMGYyMTE2NjA3NDllNGQwNWJlN2I1NDg2YWMyM2FiNzIgPSBMLnBvcHVwKHttYXhXaWR0aDogJzMwMCd9KTsKCiAgICAgICAgICAgIAogICAgICAgICAgICAgICAgdmFyIGh0bWxfYzg0ZGZmNTFkMDAyNDZlNTg5NDI4NmMwOTFiMzI2ZTIgPSAkKCc8ZGl2IGlkPSJodG1sX2M4NGRmZjUxZDAwMjQ2ZTU4OTQyODZjMDkxYjMyNmUyIiBzdHlsZT0id2lkdGg6IDEwMC4wJTsgaGVpZ2h0OiAxMDAuMCU7Ij5SaXZlcmRhbGUgQ2x1c3RlciA0PC9kaXY+JylbMF07CiAgICAgICAgICAgICAgICBwb3B1cF8wZjIxMTY2MDc0OWU0ZDA1YmU3YjU0ODZhYzIzYWI3Mi5zZXRDb250ZW50KGh0bWxfYzg0ZGZmNTFkMDAyNDZlNTg5NDI4NmMwOTFiMzI2ZTIpOwogICAgICAgICAgICAKCiAgICAgICAgICAgIGNpcmNsZV9tYXJrZXJfMDA1ZjIwMmM4NjE4NGJlMDk5NjdlZmY5ZDM0MWY2NzEuYmluZFBvcHVwKHBvcHVwXzBmMjExNjYwNzQ5ZTRkMDViZTdiNTQ4NmFjMjNhYjcyKTsKCiAgICAgICAgICAgIAogICAgICAgIAogICAgCiAgICAgICAgICAgIHZhciBjaXJjbGVfbWFya2VyXzFlZmZmYWYwOTg0ZTQzMGViN2EyNDM2M2QwZmJiYTJkID0gTC5jaXJjbGVNYXJrZXIoCiAgICAgICAgICAgICAgICBbNDAuODgxNjg3MzcxMjA1MjEsLTczLjkwMjgxNzk4NzI0NjA0XSwKICAgICAgICAgICAgICAgIHsKICAiYnViYmxpbmdNb3VzZUV2ZW50cyI6IHRydWUsCiAgImNvbG9yIjogIiNmZmIzNjAiLAogICJkYXNoQXJyYXkiOiBudWxsLAogICJkYXNoT2Zmc2V0IjogbnVsbCwKICAiZmlsbCI6IHRydWUsCiAgImZpbGxDb2xvciI6ICIjZmZiMzYwIiwKICAiZmlsbE9wYWNpdHkiOiAwLjcsCiAgImZpbGxSdWxlIjogImV2ZW5vZGQiLAogICJsaW5lQ2FwIjogInJvdW5kIiwKICAibGluZUpvaW4iOiAicm91bmQiLAogICJvcGFjaXR5IjogMS4wLAogICJyYWRpdXMiOiA1LAogICJzdHJva2UiOiB0cnVlLAogICJ3ZWlnaHQiOiAzCn0KICAgICAgICAgICAgICAgICkuYWRkVG8obWFwXzcxYWFkYTliNjRlOTRmYThhYWNmY2Q3Yzc4MmViNTYxKTsKICAgICAgICAgICAgCiAgICAKICAgICAgICAgICAgdmFyIHBvcHVwXzU4YzIxMTJiNTE1YTQ4MzNhZmM2ZWJlZGE3OGY0OGFmID0gTC5wb3B1cCh7bWF4V2lkdGg6ICczMDAnfSk7CgogICAgICAgICAgICAKICAgICAgICAgICAgICAgIHZhciBodG1sXzkzZGE1M2E1MWQ0NDQ2MTZiZTE2MjhlNGJhNjQwZjUxID0gJCgnPGRpdiBpZD0iaHRtbF85M2RhNTNhNTFkNDQ0NjE2YmUxNjI4ZTRiYTY0MGY1MSIgc3R5bGU9IndpZHRoOiAxMDAuMCU7IGhlaWdodDogMTAwLjAlOyI+S2luZ3NicmlkZ2UgQ2x1c3RlciA0PC9kaXY+JylbMF07CiAgICAgICAgICAgICAgICBwb3B1cF81OGMyMTEyYjUxNWE0ODMzYWZjNmViZWRhNzhmNDhhZi5zZXRDb250ZW50KGh0bWxfOTNkYTUzYTUxZDQ0NDYxNmJlMTYyOGU0YmE2NDBmNTEpOwogICAgICAgICAgICAKCiAgICAgICAgICAgIGNpcmNsZV9tYXJrZXJfMWVmZmZhZjA5ODRlNDMwZWI3YTI0MzYzZDBmYmJhMmQuYmluZFBvcHVwKHBvcHVwXzU4YzIxMTJiNTE1YTQ4MzNhZmM2ZWJlZGE3OGY0OGFmKTsKCiAgICAgICAgICAgIAogICAgICAgIAogICAgCiAgICAgICAgICAgIHZhciBjaXJjbGVfbWFya2VyXzRiMDY1YzJiZjg3ODQwM2Y4N2NmZjk5NjA2ZjY0NjYxID0gTC5jaXJjbGVNYXJrZXIoCiAgICAgICAgICAgICAgICBbNDAuODc2NTUwNzc4Nzk5NjQsLTczLjkxMDY1OTY1ODYyOTgxXSwKICAgICAgICAgICAgICAgIHsKICAiYnViYmxpbmdNb3VzZUV2ZW50cyI6IHRydWUsCiAgImNvbG9yIjogIiNmZmIzNjAiLAogICJkYXNoQXJyYXkiOiBudWxsLAogICJkYXNoT2Zmc2V0IjogbnVsbCwKICAiZmlsbCI6IHRydWUsCiAgImZpbGxDb2xvciI6ICIjZmZiMzYwIiwKICAiZmlsbE9wYWNpdHkiOiAwLjcsCiAgImZpbGxSdWxlIjogImV2ZW5vZGQiLAogICJsaW5lQ2FwIjogInJvdW5kIiwKICAibGluZUpvaW4iOiAicm91bmQiLAogICJvcGFjaXR5IjogMS4wLAogICJyYWRpdXMiOiA1LAogICJzdHJva2UiOiB0cnVlLAogICJ3ZWlnaHQiOiAzCn0KICAgICAgICAgICAgICAgICkuYWRkVG8obWFwXzcxYWFkYTliNjRlOTRmYThhYWNmY2Q3Yzc4MmViNTYxKTsKICAgICAgICAgICAgCiAgICAKICAgICAgICAgICAgdmFyIHBvcHVwX2IyZGI1ZDU4OTk4MzRjM2I5ZDI3MGViYjRhN2RhNGJlID0gTC5wb3B1cCh7bWF4V2lkdGg6ICczMDAnfSk7CgogICAgICAgICAgICAKICAgICAgICAgICAgICAgIHZhciBodG1sXzU3NTM2NDFiM2EzNTQ1Yjk5MTQxNWUzOThkZDEyNTJiID0gJCgnPGRpdiBpZD0iaHRtbF81NzUzNjQxYjNhMzU0NWI5OTE0MTVlMzk4ZGQxMjUyYiIgc3R5bGU9IndpZHRoOiAxMDAuMCU7IGhlaWdodDogMTAwLjAlOyI+TWFyYmxlIEhpbGwgQ2x1c3RlciA0PC9kaXY+JylbMF07CiAgICAgICAgICAgICAgICBwb3B1cF9iMmRiNWQ1ODk5ODM0YzNiOWQyNzBlYmI0YTdkYTRiZS5zZXRDb250ZW50KGh0bWxfNTc1MzY0MWIzYTM1NDViOTkxNDE1ZTM5OGRkMTI1MmIpOwogICAgICAgICAgICAKCiAgICAgICAgICAgIGNpcmNsZV9tYXJrZXJfNGIwNjVjMmJmODc4NDAzZjg3Y2ZmOTk2MDZmNjQ2NjEuYmluZFBvcHVwKHBvcHVwX2IyZGI1ZDU4OTk4MzRjM2I5ZDI3MGViYjRhN2RhNGJlKTsKCiAgICAgICAgICAgIAogICAgICAgIAogICAgCiAgICAgICAgICAgIHZhciBjaXJjbGVfbWFya2VyXzJiMjBlZWRkNjJmODRmZTU4ZTYzODRlMGIwOTM1MDc1ID0gTC5jaXJjbGVNYXJrZXIoCiAgICAgICAgICAgICAgICBbNDAuODk4MjcyNjEyMTM4MDUsLTczLjg2NzMxNDk2ODE0MTc2XSwKICAgICAgICAgICAgICAgIHsKICAiYnViYmxpbmdNb3VzZUV2ZW50cyI6IHRydWUsCiAgImNvbG9yIjogIiNmZmIzNjAiLAogICJkYXNoQXJyYXkiOiBudWxsLAogICJkYXNoT2Zmc2V0IjogbnVsbCwKICAiZmlsbCI6IHRydWUsCiAgImZpbGxDb2xvciI6ICIjZmZiMzYwIiwKICAiZmlsbE9wYWNpdHkiOiAwLjcsCiAgImZpbGxSdWxlIjogImV2ZW5vZGQiLAogICJsaW5lQ2FwIjogInJvdW5kIiwKICAibGluZUpvaW4iOiAicm91bmQiLAogICJvcGFjaXR5IjogMS4wLAogICJyYWRpdXMiOiA1LAogICJzdHJva2UiOiB0cnVlLAogICJ3ZWlnaHQiOiAzCn0KICAgICAgICAgICAgICAgICkuYWRkVG8obWFwXzcxYWFkYTliNjRlOTRmYThhYWNmY2Q3Yzc4MmViNTYxKTsKICAgICAgICAgICAgCiAgICAKICAgICAgICAgICAgdmFyIHBvcHVwX2MwZGIzNDdhOTZlMzRlNzBiNWM1YWU4ZGU2NTY1N2Y0ID0gTC5wb3B1cCh7bWF4V2lkdGg6ICczMDAnfSk7CgogICAgICAgICAgICAKICAgICAgICAgICAgICAgIHZhciBodG1sXzc4NWM1MmNjNmFhYTRlM2I4Mjk1MTU4NTJkYzVhYmI3ID0gJCgnPGRpdiBpZD0iaHRtbF83ODVjNTJjYzZhYWE0ZTNiODI5NTE1ODUyZGM1YWJiNyIgc3R5bGU9IndpZHRoOiAxMDAuMCU7IGhlaWdodDogMTAwLjAlOyI+V29vZGxhd24gQ2x1c3RlciA0PC9kaXY+JylbMF07CiAgICAgICAgICAgICAgICBwb3B1cF9jMGRiMzQ3YTk2ZTM0ZTcwYjVjNWFlOGRlNjU2NTdmNC5zZXRDb250ZW50KGh0bWxfNzg1YzUyY2M2YWFhNGUzYjgyOTUxNTg1MmRjNWFiYjcpOwogICAgICAgICAgICAKCiAgICAgICAgICAgIGNpcmNsZV9tYXJrZXJfMmIyMGVlZGQ2MmY4NGZlNThlNjM4NGUwYjA5MzUwNzUuYmluZFBvcHVwKHBvcHVwX2MwZGIzNDdhOTZlMzRlNzBiNWM1YWU4ZGU2NTY1N2Y0KTsKCiAgICAgICAgICAgIAogICAgICAgIAogICAgCiAgICAgICAgICAgIHZhciBjaXJjbGVfbWFya2VyXzU1ZWNjYTU0YmY0ZDRhNmQ4NjE0ZjIwMWFhNDNkNjU4ID0gTC5jaXJjbGVNYXJrZXIoCiAgICAgICAgICAgICAgICBbNDAuODc3MjI0MTU1OTk0NDYsLTczLjg3OTM5MDczOTU2ODFdLAogICAgICAgICAgICAgICAgewogICJidWJibGluZ01vdXNlRXZlbnRzIjogdHJ1ZSwKICAiY29sb3IiOiAiI2ZmYjM2MCIsCiAgImRhc2hBcnJheSI6IG51bGwsCiAgImRhc2hPZmZzZXQiOiBudWxsLAogICJmaWxsIjogdHJ1ZSwKICAiZmlsbENvbG9yIjogIiNmZmIzNjAiLAogICJmaWxsT3BhY2l0eSI6IDAuNywKICAiZmlsbFJ1bGUiOiAiZXZlbm9kZCIsCiAgImxpbmVDYXAiOiAicm91bmQiLAogICJsaW5lSm9pbiI6ICJyb3VuZCIsCiAgIm9wYWNpdHkiOiAxLjAsCiAgInJhZGl1cyI6IDUsCiAgInN0cm9rZSI6IHRydWUsCiAgIndlaWdodCI6IDMKfQogICAgICAgICAgICAgICAgKS5hZGRUbyhtYXBfNzFhYWRhOWI2NGU5NGZhOGFhY2ZjZDdjNzgyZWI1NjEpOwogICAgICAgICAgICAKICAgIAogICAgICAgICAgICB2YXIgcG9wdXBfMzM5OGZjN2Q4YzVlNGQ4N2I1NWQyMGM5YTVhMzBmNjUgPSBMLnBvcHVwKHttYXhXaWR0aDogJzMwMCd9KTsKCiAgICAgICAgICAgIAogICAgICAgICAgICAgICAgdmFyIGh0bWxfOGE2N2VhYTNlYTBjNGYyMTk1YWIzODE4MjlhODZjYzcgPSAkKCc8ZGl2IGlkPSJodG1sXzhhNjdlYWEzZWEwYzRmMjE5NWFiMzgxODI5YTg2Y2M3IiBzdHlsZT0id2lkdGg6IDEwMC4wJTsgaGVpZ2h0OiAxMDAuMCU7Ij5Ob3J3b29kIENsdXN0ZXIgNDwvZGl2PicpWzBdOwogICAgICAgICAgICAgICAgcG9wdXBfMzM5OGZjN2Q4YzVlNGQ4N2I1NWQyMGM5YTVhMzBmNjUuc2V0Q29udGVudChodG1sXzhhNjdlYWEzZWEwYzRmMjE5NWFiMzgxODI5YTg2Y2M3KTsKICAgICAgICAgICAgCgogICAgICAgICAgICBjaXJjbGVfbWFya2VyXzU1ZWNjYTU0YmY0ZDRhNmQ4NjE0ZjIwMWFhNDNkNjU4LmJpbmRQb3B1cChwb3B1cF8zMzk4ZmM3ZDhjNWU0ZDg3YjU1ZDIwYzlhNWEzMGY2NSk7CgogICAgICAgICAgICAKICAgICAgICAKICAgIAogICAgICAgICAgICB2YXIgY2lyY2xlX21hcmtlcl80MDc1OGY2Y2ExMGE0MmU1OWM4MTM0MGM0NGI5OWYyOCA9IEwuY2lyY2xlTWFya2VyKAogICAgICAgICAgICAgICAgWzQwLjg4MTAzODg3ODE5MjExLC03My44NTc0NDY0Mjk3NDIwN10sCiAgICAgICAgICAgICAgICB7CiAgImJ1YmJsaW5nTW91c2VFdmVudHMiOiB0cnVlLAogICJjb2xvciI6ICIjZmZiMzYwIiwKICAiZGFzaEFycmF5IjogbnVsbCwKICAiZGFzaE9mZnNldCI6IG51bGwsCiAgImZpbGwiOiB0cnVlLAogICJmaWxsQ29sb3IiOiAiI2ZmYjM2MCIsCiAgImZpbGxPcGFjaXR5IjogMC43LAogICJmaWxsUnVsZSI6ICJldmVub2RkIiwKICAibGluZUNhcCI6ICJyb3VuZCIsCiAgImxpbmVKb2luIjogInJvdW5kIiwKICAib3BhY2l0eSI6IDEuMCwKICAicmFkaXVzIjogNSwKICAic3Ryb2tlIjogdHJ1ZSwKICAid2VpZ2h0IjogMwp9CiAgICAgICAgICAgICAgICApLmFkZFRvKG1hcF83MWFhZGE5YjY0ZTk0ZmE4YWFjZmNkN2M3ODJlYjU2MSk7CiAgICAgICAgICAgIAogICAgCiAgICAgICAgICAgIHZhciBwb3B1cF9lNTJmNmI2NmU5YTU0OWNjODhhYzc0ZWU4M2NlYjM0MyA9IEwucG9wdXAoe21heFdpZHRoOiAnMzAwJ30pOwoKICAgICAgICAgICAgCiAgICAgICAgICAgICAgICB2YXIgaHRtbF80ZDljMjNlMjU0ODc0ZjU5OTQ5Yjc1ZTc4Nzg4OGFkMCA9ICQoJzxkaXYgaWQ9Imh0bWxfNGQ5YzIzZTI1NDg3NGY1OTk0OWI3NWU3ODc4ODhhZDAiIHN0eWxlPSJ3aWR0aDogMTAwLjAlOyBoZWlnaHQ6IDEwMC4wJTsiPldpbGxpYW1zYnJpZGdlIENsdXN0ZXIgNDwvZGl2PicpWzBdOwogICAgICAgICAgICAgICAgcG9wdXBfZTUyZjZiNjZlOWE1NDljYzg4YWM3NGVlODNjZWIzNDMuc2V0Q29udGVudChodG1sXzRkOWMyM2UyNTQ4NzRmNTk5NDliNzVlNzg3ODg4YWQwKTsKICAgICAgICAgICAgCgogICAgICAgICAgICBjaXJjbGVfbWFya2VyXzQwNzU4ZjZjYTEwYTQyZTU5YzgxMzQwYzQ0Yjk5ZjI4LmJpbmRQb3B1cChwb3B1cF9lNTJmNmI2NmU5YTU0OWNjODhhYzc0ZWU4M2NlYjM0Myk7CgogICAgICAgICAgICAKICAgICAgICAKICAgIAogICAgICAgICAgICB2YXIgY2lyY2xlX21hcmtlcl81NTgzMTA1N2JlYmU0YWQzYTBkNjNjYjYzMmQxYzUyMyA9IEwuY2lyY2xlTWFya2VyKAogICAgICAgICAgICAgICAgWzQwLjg2Njg1ODEwNzI1MjY5NiwtNzMuODM1Nzk3NTk4MDgxMTddLAogICAgICAgICAgICAgICAgewogICJidWJibGluZ01vdXNlRXZlbnRzIjogdHJ1ZSwKICAiY29sb3IiOiAiI2ZmYjM2MCIsCiAgImRhc2hBcnJheSI6IG51bGwsCiAgImRhc2hPZmZzZXQiOiBudWxsLAogICJmaWxsIjogdHJ1ZSwKICAiZmlsbENvbG9yIjogIiNmZmIzNjAiLAogICJmaWxsT3BhY2l0eSI6IDAuNywKICAiZmlsbFJ1bGUiOiAiZXZlbm9kZCIsCiAgImxpbmVDYXAiOiAicm91bmQiLAogICJsaW5lSm9pbiI6ICJyb3VuZCIsCiAgIm9wYWNpdHkiOiAxLjAsCiAgInJhZGl1cyI6IDUsCiAgInN0cm9rZSI6IHRydWUsCiAgIndlaWdodCI6IDMKfQogICAgICAgICAgICAgICAgKS5hZGRUbyhtYXBfNzFhYWRhOWI2NGU5NGZhOGFhY2ZjZDdjNzgyZWI1NjEpOwogICAgICAgICAgICAKICAgIAogICAgICAgICAgICB2YXIgcG9wdXBfNjQ0OTcwN2FiYzc3NDNiNTg0NmZjNzU4ODc1ZTRiZWUgPSBMLnBvcHVwKHttYXhXaWR0aDogJzMwMCd9KTsKCiAgICAgICAgICAgIAogICAgICAgICAgICAgICAgdmFyIGh0bWxfNTM4ZTFiN2Y2MDhmNDZhNjk4YjBjYzM1MThlNDZjY2EgPSAkKCc8ZGl2IGlkPSJodG1sXzUzOGUxYjdmNjA4ZjQ2YTY5OGIwY2MzNTE4ZTQ2Y2NhIiBzdHlsZT0id2lkdGg6IDEwMC4wJTsgaGVpZ2h0OiAxMDAuMCU7Ij5CYXljaGVzdGVyIENsdXN0ZXIgNDwvZGl2PicpWzBdOwogICAgICAgICAgICAgICAgcG9wdXBfNjQ0OTcwN2FiYzc3NDNiNTg0NmZjNzU4ODc1ZTRiZWUuc2V0Q29udGVudChodG1sXzUzOGUxYjdmNjA4ZjQ2YTY5OGIwY2MzNTE4ZTQ2Y2NhKTsKICAgICAgICAgICAgCgogICAgICAgICAgICBjaXJjbGVfbWFya2VyXzU1ODMxMDU3YmViZTRhZDNhMGQ2M2NiNjMyZDFjNTIzLmJpbmRQb3B1cChwb3B1cF82NDQ5NzA3YWJjNzc0M2I1ODQ2ZmM3NTg4NzVlNGJlZSk7CgogICAgICAgICAgICAKICAgICAgICAKICAgIAogICAgICAgICAgICB2YXIgY2lyY2xlX21hcmtlcl84OTZiNTcwNGQ5YWU0Mjg4YTQ5NmYwYWJiYWU0MzhmOSA9IEwuY2lyY2xlTWFya2VyKAogICAgICAgICAgICAgICAgWzQwLjg1NzQxMzQ5ODA4ODY1LC03My44NTQ3NTU2NDAxNzk5OV0sCiAgICAgICAgICAgICAgICB7CiAgImJ1YmJsaW5nTW91c2VFdmVudHMiOiB0cnVlLAogICJjb2xvciI6ICIjZmZiMzYwIiwKICAiZGFzaEFycmF5IjogbnVsbCwKICAiZGFzaE9mZnNldCI6IG51bGwsCiAgImZpbGwiOiB0cnVlLAogICJmaWxsQ29sb3IiOiAiI2ZmYjM2MCIsCiAgImZpbGxPcGFjaXR5IjogMC43LAogICJmaWxsUnVsZSI6ICJldmVub2RkIiwKICAibGluZUNhcCI6ICJyb3VuZCIsCiAgImxpbmVKb2luIjogInJvdW5kIiwKICAib3BhY2l0eSI6IDEuMCwKICAicmFkaXVzIjogNSwKICAic3Ryb2tlIjogdHJ1ZSwKICAid2VpZ2h0IjogMwp9CiAgICAgICAgICAgICAgICApLmFkZFRvKG1hcF83MWFhZGE5YjY0ZTk0ZmE4YWFjZmNkN2M3ODJlYjU2MSk7CiAgICAgICAgICAgIAogICAgCiAgICAgICAgICAgIHZhciBwb3B1cF80MTI5NDAwMDEzODE0YTNiYWRlNWUyODIzMTY2ZWYxOSA9IEwucG9wdXAoe21heFdpZHRoOiAnMzAwJ30pOwoKICAgICAgICAgICAgCiAgICAgICAgICAgICAgICB2YXIgaHRtbF82YTdlMWM0MjY4MTY0NWIyYmQ0MWQxYTFlNTAxNmQwMyA9ICQoJzxkaXYgaWQ9Imh0bWxfNmE3ZTFjNDI2ODE2NDViMmJkNDFkMWExZTUwMTZkMDMiIHN0eWxlPSJ3aWR0aDogMTAwLjAlOyBoZWlnaHQ6IDEwMC4wJTsiPlBlbGhhbSBQYXJrd2F5IENsdXN0ZXIgNDwvZGl2PicpWzBdOwogICAgICAgICAgICAgICAgcG9wdXBfNDEyOTQwMDAxMzgxNGEzYmFkZTVlMjgyMzE2NmVmMTkuc2V0Q29udGVudChodG1sXzZhN2UxYzQyNjgxNjQ1YjJiZDQxZDFhMWU1MDE2ZDAzKTsKICAgICAgICAgICAgCgogICAgICAgICAgICBjaXJjbGVfbWFya2VyXzg5NmI1NzA0ZDlhZTQyODhhNDk2ZjBhYmJhZTQzOGY5LmJpbmRQb3B1cChwb3B1cF80MTI5NDAwMDEzODE0YTNiYWRlNWUyODIzMTY2ZWYxOSk7CgogICAgICAgICAgICAKICAgICAgICAKICAgIAogICAgICAgICAgICB2YXIgY2lyY2xlX21hcmtlcl9hNGU0MTE1NDI0Mjk0MzZmODUxY2U1NTllNmIwYmY4MyA9IEwuY2lyY2xlTWFya2VyKAogICAgICAgICAgICAgICAgWzQwLjg0NzI0NjcwNDkxODEzLC03My43ODY0ODg0NTI2NzQxM10sCiAgICAgICAgICAgICAgICB7CiAgImJ1YmJsaW5nTW91c2VFdmVudHMiOiB0cnVlLAogICJjb2xvciI6ICIjZmZiMzYwIiwKICAiZGFzaEFycmF5IjogbnVsbCwKICAiZGFzaE9mZnNldCI6IG51bGwsCiAgImZpbGwiOiB0cnVlLAogICJmaWxsQ29sb3IiOiAiI2ZmYjM2MCIsCiAgImZpbGxPcGFjaXR5IjogMC43LAogICJmaWxsUnVsZSI6ICJldmVub2RkIiwKICAibGluZUNhcCI6ICJyb3VuZCIsCiAgImxpbmVKb2luIjogInJvdW5kIiwKICAib3BhY2l0eSI6IDEuMCwKICAicmFkaXVzIjogNSwKICAic3Ryb2tlIjogdHJ1ZSwKICAid2VpZ2h0IjogMwp9CiAgICAgICAgICAgICAgICApLmFkZFRvKG1hcF83MWFhZGE5YjY0ZTk0ZmE4YWFjZmNkN2M3ODJlYjU2MSk7CiAgICAgICAgICAgIAogICAgCiAgICAgICAgICAgIHZhciBwb3B1cF84ODBiN2NiYjk3ZjM0MTcxOWE4MWU5ZjFlNTIwZjY0NSA9IEwucG9wdXAoe21heFdpZHRoOiAnMzAwJ30pOwoKICAgICAgICAgICAgCiAgICAgICAgICAgICAgICB2YXIgaHRtbF8xMGZlMmVmYzliNzQ0ZGViYmIxZDYwNzRiYWNiYWY4NyA9ICQoJzxkaXYgaWQ9Imh0bWxfMTBmZTJlZmM5Yjc0NGRlYmJiMWQ2MDc0YmFjYmFmODciIHN0eWxlPSJ3aWR0aDogMTAwLjAlOyBoZWlnaHQ6IDEwMC4wJTsiPkNpdHkgSXNsYW5kIENsdXN0ZXIgNDwvZGl2PicpWzBdOwogICAgICAgICAgICAgICAgcG9wdXBfODgwYjdjYmI5N2YzNDE3MTlhODFlOWYxZTUyMGY2NDUuc2V0Q29udGVudChodG1sXzEwZmUyZWZjOWI3NDRkZWJiYjFkNjA3NGJhY2JhZjg3KTsKICAgICAgICAgICAgCgogICAgICAgICAgICBjaXJjbGVfbWFya2VyX2E0ZTQxMTU0MjQyOTQzNmY4NTFjZTU1OWU2YjBiZjgzLmJpbmRQb3B1cChwb3B1cF84ODBiN2NiYjk3ZjM0MTcxOWE4MWU5ZjFlNTIwZjY0NSk7CgogICAgICAgICAgICAKICAgICAgICAKICAgIAogICAgICAgICAgICB2YXIgY2lyY2xlX21hcmtlcl9mYzE0OGM0NDc3YjY0NTgzYjg3Yzc4ZWRkMDUxZTFiMiA9IEwuY2lyY2xlTWFya2VyKAogICAgICAgICAgICAgICAgWzQwLjg3MDE4NTE2NDk3NTMyNSwtNzMuODg1NTEyMTg0MTkxM10sCiAgICAgICAgICAgICAgICB7CiAgImJ1YmJsaW5nTW91c2VFdmVudHMiOiB0cnVlLAogICJjb2xvciI6ICIjZmZiMzYwIiwKICAiZGFzaEFycmF5IjogbnVsbCwKICAiZGFzaE9mZnNldCI6IG51bGwsCiAgImZpbGwiOiB0cnVlLAogICJmaWxsQ29sb3IiOiAiI2ZmYjM2MCIsCiAgImZpbGxPcGFjaXR5IjogMC43LAogICJmaWxsUnVsZSI6ICJldmVub2RkIiwKICAibGluZUNhcCI6ICJyb3VuZCIsCiAgImxpbmVKb2luIjogInJvdW5kIiwKICAib3BhY2l0eSI6IDEuMCwKICAicmFkaXVzIjogNSwKICAic3Ryb2tlIjogdHJ1ZSwKICAid2VpZ2h0IjogMwp9CiAgICAgICAgICAgICAgICApLmFkZFRvKG1hcF83MWFhZGE5YjY0ZTk0ZmE4YWFjZmNkN2M3ODJlYjU2MSk7CiAgICAgICAgICAgIAogICAgCiAgICAgICAgICAgIHZhciBwb3B1cF9kNzgxY2FmNmJhMDE0MTgxYmRiNTE3ZDlmNWY5ZGVjMiA9IEwucG9wdXAoe21heFdpZHRoOiAnMzAwJ30pOwoKICAgICAgICAgICAgCiAgICAgICAgICAgICAgICB2YXIgaHRtbF8wYWQ0MTYyNmQ0ODg0MWFkOTQwMDlkMTVkZTY1NGJiYiA9ICQoJzxkaXYgaWQ9Imh0bWxfMGFkNDE2MjZkNDg4NDFhZDk0MDA5ZDE1ZGU2NTRiYmIiIHN0eWxlPSJ3aWR0aDogMTAwLjAlOyBoZWlnaHQ6IDEwMC4wJTsiPkJlZGZvcmQgUGFyayBDbHVzdGVyIDQ8L2Rpdj4nKVswXTsKICAgICAgICAgICAgICAgIHBvcHVwX2Q3ODFjYWY2YmEwMTQxODFiZGI1MTdkOWY1ZjlkZWMyLnNldENvbnRlbnQoaHRtbF8wYWQ0MTYyNmQ0ODg0MWFkOTQwMDlkMTVkZTY1NGJiYik7CiAgICAgICAgICAgIAoKICAgICAgICAgICAgY2lyY2xlX21hcmtlcl9mYzE0OGM0NDc3YjY0NTgzYjg3Yzc4ZWRkMDUxZTFiMi5iaW5kUG9wdXAocG9wdXBfZDc4MWNhZjZiYTAxNDE4MWJkYjUxN2Q5ZjVmOWRlYzIpOwoKICAgICAgICAgICAgCiAgICAgICAgCiAgICAKICAgICAgICAgICAgdmFyIGNpcmNsZV9tYXJrZXJfM2NjZmQ3ZTNlMmEyNDNjM2I5M2M1NzU3MWEwYmVmZTYgPSBMLmNpcmNsZU1hcmtlcigKICAgICAgICAgICAgICAgIFs0MC44NTU3MjcwNzcxOTY2NCwtNzMuOTEwNDE1OTYxOTEzMV0sCiAgICAgICAgICAgICAgICB7CiAgImJ1YmJsaW5nTW91c2VFdmVudHMiOiB0cnVlLAogICJjb2xvciI6ICIjZmZiMzYwIiwKICAiZGFzaEFycmF5IjogbnVsbCwKICAiZGFzaE9mZnNldCI6IG51bGwsCiAgImZpbGwiOiB0cnVlLAogICJmaWxsQ29sb3IiOiAiI2ZmYjM2MCIsCiAgImZpbGxPcGFjaXR5IjogMC43LAogICJmaWxsUnVsZSI6ICJldmVub2RkIiwKICAibGluZUNhcCI6ICJyb3VuZCIsCiAgImxpbmVKb2luIjogInJvdW5kIiwKICAib3BhY2l0eSI6IDEuMCwKICAicmFkaXVzIjogNSwKICAic3Ryb2tlIjogdHJ1ZSwKICAid2VpZ2h0IjogMwp9CiAgICAgICAgICAgICAgICApLmFkZFRvKG1hcF83MWFhZGE5YjY0ZTk0ZmE4YWFjZmNkN2M3ODJlYjU2MSk7CiAgICAgICAgICAgIAogICAgCiAgICAgICAgICAgIHZhciBwb3B1cF83ZTE1OTVmNzg1Yzk0MjVkYjIyNjgxNTRlZTY2YTY5MSA9IEwucG9wdXAoe21heFdpZHRoOiAnMzAwJ30pOwoKICAgICAgICAgICAgCiAgICAgICAgICAgICAgICB2YXIgaHRtbF82NmQ3ODIzZTQwMDM0YjRhOGQzNjg1OGU0Yzc2ODRmOSA9ICQoJzxkaXYgaWQ9Imh0bWxfNjZkNzgyM2U0MDAzNGI0YThkMzY4NThlNGM3Njg0ZjkiIHN0eWxlPSJ3aWR0aDogMTAwLjAlOyBoZWlnaHQ6IDEwMC4wJTsiPlVuaXZlcnNpdHkgSGVpZ2h0cyBDbHVzdGVyIDQ8L2Rpdj4nKVswXTsKICAgICAgICAgICAgICAgIHBvcHVwXzdlMTU5NWY3ODVjOTQyNWRiMjI2ODE1NGVlNjZhNjkxLnNldENvbnRlbnQoaHRtbF82NmQ3ODIzZTQwMDM0YjRhOGQzNjg1OGU0Yzc2ODRmOSk7CiAgICAgICAgICAgIAoKICAgICAgICAgICAgY2lyY2xlX21hcmtlcl8zY2NmZDdlM2UyYTI0M2MzYjkzYzU3NTcxYTBiZWZlNi5iaW5kUG9wdXAocG9wdXBfN2UxNTk1Zjc4NWM5NDI1ZGIyMjY4MTU0ZWU2NmE2OTEpOwoKICAgICAgICAgICAgCiAgICAgICAgCiAgICAKICAgICAgICAgICAgdmFyIGNpcmNsZV9tYXJrZXJfZDQ3NWYwYmFjMDEzNGY0ZDg2YjRmYWE3MWYyNTE2ZjcgPSBMLmNpcmNsZU1hcmtlcigKICAgICAgICAgICAgICAgIFs0MC44NDc4OTc5MjYwNjI3MSwtNzMuOTE5NjcxNTkxMTk1NjVdLAogICAgICAgICAgICAgICAgewogICJidWJibGluZ01vdXNlRXZlbnRzIjogdHJ1ZSwKICAiY29sb3IiOiAiI2ZmYjM2MCIsCiAgImRhc2hBcnJheSI6IG51bGwsCiAgImRhc2hPZmZzZXQiOiBudWxsLAogICJmaWxsIjogdHJ1ZSwKICAiZmlsbENvbG9yIjogIiNmZmIzNjAiLAogICJmaWxsT3BhY2l0eSI6IDAuNywKICAiZmlsbFJ1bGUiOiAiZXZlbm9kZCIsCiAgImxpbmVDYXAiOiAicm91bmQiLAogICJsaW5lSm9pbiI6ICJyb3VuZCIsCiAgIm9wYWNpdHkiOiAxLjAsCiAgInJhZGl1cyI6IDUsCiAgInN0cm9rZSI6IHRydWUsCiAgIndlaWdodCI6IDMKfQogICAgICAgICAgICAgICAgKS5hZGRUbyhtYXBfNzFhYWRhOWI2NGU5NGZhOGFhY2ZjZDdjNzgyZWI1NjEpOwogICAgICAgICAgICAKICAgIAogICAgICAgICAgICB2YXIgcG9wdXBfZDQwZWE1Njk4MDdjNGVhOWJkNjJmNmUyZjNjMmQwMzkgPSBMLnBvcHVwKHttYXhXaWR0aDogJzMwMCd9KTsKCiAgICAgICAgICAgIAogICAgICAgICAgICAgICAgdmFyIGh0bWxfMjFkNTRhZWM5YjcwNGM2NDg3OGNkOTY3Y2ZmZTc3YTMgPSAkKCc8ZGl2IGlkPSJodG1sXzIxZDU0YWVjOWI3MDRjNjQ4NzhjZDk2N2NmZmU3N2EzIiBzdHlsZT0id2lkdGg6IDEwMC4wJTsgaGVpZ2h0OiAxMDAuMCU7Ij5Nb3JyaXMgSGVpZ2h0cyBDbHVzdGVyIDQ8L2Rpdj4nKVswXTsKICAgICAgICAgICAgICAgIHBvcHVwX2Q0MGVhNTY5ODA3YzRlYTliZDYyZjZlMmYzYzJkMDM5LnNldENvbnRlbnQoaHRtbF8yMWQ1NGFlYzliNzA0YzY0ODc4Y2Q5NjdjZmZlNzdhMyk7CiAgICAgICAgICAgIAoKICAgICAgICAgICAgY2lyY2xlX21hcmtlcl9kNDc1ZjBiYWMwMTM0ZjRkODZiNGZhYTcxZjI1MTZmNy5iaW5kUG9wdXAocG9wdXBfZDQwZWE1Njk4MDdjNGVhOWJkNjJmNmUyZjNjMmQwMzkpOwoKICAgICAgICAgICAgCiAgICAgICAgCiAgICAKICAgICAgICAgICAgdmFyIGNpcmNsZV9tYXJrZXJfMzgxOWY0MmMwYWU1NDA5NGIwNTNmYzAwMDBiMDkyNjEgPSBMLmNpcmNsZU1hcmtlcigKICAgICAgICAgICAgICAgIFs0MC44NjA5OTY3OTYzODY1NCwtNzMuODk2NDI2NTU5ODE2MjNdLAogICAgICAgICAgICAgICAgewogICJidWJibGluZ01vdXNlRXZlbnRzIjogdHJ1ZSwKICAiY29sb3IiOiAiI2ZmYjM2MCIsCiAgImRhc2hBcnJheSI6IG51bGwsCiAgImRhc2hPZmZzZXQiOiBudWxsLAogICJmaWxsIjogdHJ1ZSwKICAiZmlsbENvbG9yIjogIiNmZmIzNjAiLAogICJmaWxsT3BhY2l0eSI6IDAuNywKICAiZmlsbFJ1bGUiOiAiZXZlbm9kZCIsCiAgImxpbmVDYXAiOiAicm91bmQiLAogICJsaW5lSm9pbiI6ICJyb3VuZCIsCiAgIm9wYWNpdHkiOiAxLjAsCiAgInJhZGl1cyI6IDUsCiAgInN0cm9rZSI6IHRydWUsCiAgIndlaWdodCI6IDMKfQogICAgICAgICAgICAgICAgKS5hZGRUbyhtYXBfNzFhYWRhOWI2NGU5NGZhOGFhY2ZjZDdjNzgyZWI1NjEpOwogICAgICAgICAgICAKICAgIAogICAgICAgICAgICB2YXIgcG9wdXBfYmZjMTkyZjc1OGFmNDZkM2IwZWY0M2QyYTEzMzdlNjcgPSBMLnBvcHVwKHttYXhXaWR0aDogJzMwMCd9KTsKCiAgICAgICAgICAgIAogICAgICAgICAgICAgICAgdmFyIGh0bWxfNTk1ZjFlNTlhYjU2NGM5NDllM2MwZjk0YTQ4OGFlOWIgPSAkKCc8ZGl2IGlkPSJodG1sXzU5NWYxZTU5YWI1NjRjOTQ5ZTNjMGY5NGE0ODhhZTliIiBzdHlsZT0id2lkdGg6IDEwMC4wJTsgaGVpZ2h0OiAxMDAuMCU7Ij5Gb3JkaGFtIENsdXN0ZXIgNDwvZGl2PicpWzBdOwogICAgICAgICAgICAgICAgcG9wdXBfYmZjMTkyZjc1OGFmNDZkM2IwZWY0M2QyYTEzMzdlNjcuc2V0Q29udGVudChodG1sXzU5NWYxZTU5YWI1NjRjOTQ5ZTNjMGY5NGE0ODhhZTliKTsKICAgICAgICAgICAgCgogICAgICAgICAgICBjaXJjbGVfbWFya2VyXzM4MTlmNDJjMGFlNTQwOTRiMDUzZmMwMDAwYjA5MjYxLmJpbmRQb3B1cChwb3B1cF9iZmMxOTJmNzU4YWY0NmQzYjBlZjQzZDJhMTMzN2U2Nyk7CgogICAgICAgICAgICAKICAgICAgICAKICAgIAogICAgICAgICAgICB2YXIgY2lyY2xlX21hcmtlcl9mZjQ2YzE1ZDIyNjI0ZDEzYmU3MjdlZDgyOGJmNmNiYyA9IEwuY2lyY2xlTWFya2VyKAogICAgICAgICAgICAgICAgWzQwLjg0MjY5NjE1Nzg2MDUzLC03My44ODczNTYxNzUzMjMzOF0sCiAgICAgICAgICAgICAgICB7CiAgImJ1YmJsaW5nTW91c2VFdmVudHMiOiB0cnVlLAogICJjb2xvciI6ICIjZmZiMzYwIiwKICAiZGFzaEFycmF5IjogbnVsbCwKICAiZGFzaE9mZnNldCI6IG51bGwsCiAgImZpbGwiOiB0cnVlLAogICJmaWxsQ29sb3IiOiAiI2ZmYjM2MCIsCiAgImZpbGxPcGFjaXR5IjogMC43LAogICJmaWxsUnVsZSI6ICJldmVub2RkIiwKICAibGluZUNhcCI6ICJyb3VuZCIsCiAgImxpbmVKb2luIjogInJvdW5kIiwKICAib3BhY2l0eSI6IDEuMCwKICAicmFkaXVzIjogNSwKICAic3Ryb2tlIjogdHJ1ZSwKICAid2VpZ2h0IjogMwp9CiAgICAgICAgICAgICAgICApLmFkZFRvKG1hcF83MWFhZGE5YjY0ZTk0ZmE4YWFjZmNkN2M3ODJlYjU2MSk7CiAgICAgICAgICAgIAogICAgCiAgICAgICAgICAgIHZhciBwb3B1cF9kNWY3NjMyYzVhN2Y0ZmJlOGYyNjU4OTQ5MWI0NTczYiA9IEwucG9wdXAoe21heFdpZHRoOiAnMzAwJ30pOwoKICAgICAgICAgICAgCiAgICAgICAgICAgICAgICB2YXIgaHRtbF9iNzlkN2U2MTFmNmE0ZjM2OTg2YTBmYjgzNWE3YzJmNCA9ICQoJzxkaXYgaWQ9Imh0bWxfYjc5ZDdlNjExZjZhNGYzNjk4NmEwZmI4MzVhN2MyZjQiIHN0eWxlPSJ3aWR0aDogMTAwLjAlOyBoZWlnaHQ6IDEwMC4wJTsiPkVhc3QgVHJlbW9udCBDbHVzdGVyIDQ8L2Rpdj4nKVswXTsKICAgICAgICAgICAgICAgIHBvcHVwX2Q1Zjc2MzJjNWE3ZjRmYmU4ZjI2NTg5NDkxYjQ1NzNiLnNldENvbnRlbnQoaHRtbF9iNzlkN2U2MTFmNmE0ZjM2OTg2YTBmYjgzNWE3YzJmNCk7CiAgICAgICAgICAgIAoKICAgICAgICAgICAgY2lyY2xlX21hcmtlcl9mZjQ2YzE1ZDIyNjI0ZDEzYmU3MjdlZDgyOGJmNmNiYy5iaW5kUG9wdXAocG9wdXBfZDVmNzYzMmM1YTdmNGZiZThmMjY1ODk0OTFiNDU3M2IpOwoKICAgICAgICAgICAgCiAgICAgICAgCiAgICAKICAgICAgICAgICAgdmFyIGNpcmNsZV9tYXJrZXJfNTA1NzM0NzE0ODBlNDY0M2FhODE5YWY4ODVhZjUyZTggPSBMLmNpcmNsZU1hcmtlcigKICAgICAgICAgICAgICAgIFs0MC44Mzk0NzUwNTY3MjY1MywtNzMuODc3NzQ0NzQ5MTA1NDVdLAogICAgICAgICAgICAgICAgewogICJidWJibGluZ01vdXNlRXZlbnRzIjogdHJ1ZSwKICAiY29sb3IiOiAiI2ZmYjM2MCIsCiAgImRhc2hBcnJheSI6IG51bGwsCiAgImRhc2hPZmZzZXQiOiBudWxsLAogICJmaWxsIjogdHJ1ZSwKICAiZmlsbENvbG9yIjogIiNmZmIzNjAiLAogICJmaWxsT3BhY2l0eSI6IDAuNywKICAiZmlsbFJ1bGUiOiAiZXZlbm9kZCIsCiAgImxpbmVDYXAiOiAicm91bmQiLAogICJsaW5lSm9pbiI6ICJyb3VuZCIsCiAgIm9wYWNpdHkiOiAxLjAsCiAgInJhZGl1cyI6IDUsCiAgInN0cm9rZSI6IHRydWUsCiAgIndlaWdodCI6IDMKfQogICAgICAgICAgICAgICAgKS5hZGRUbyhtYXBfNzFhYWRhOWI2NGU5NGZhOGFhY2ZjZDdjNzgyZWI1NjEpOwogICAgICAgICAgICAKICAgIAogICAgICAgICAgICB2YXIgcG9wdXBfNjdiZTBkOTYyNGMxNGQyZGJjZWQ3Mjg5ZGJmYjUxNGYgPSBMLnBvcHVwKHttYXhXaWR0aDogJzMwMCd9KTsKCiAgICAgICAgICAgIAogICAgICAgICAgICAgICAgdmFyIGh0bWxfYmJhNThjZmE5NGZkNDhhZmIzMzA3MmVjMDBmNDU2ZjggPSAkKCc8ZGl2IGlkPSJodG1sX2JiYTU4Y2ZhOTRmZDQ4YWZiMzMwNzJlYzAwZjQ1NmY4IiBzdHlsZT0id2lkdGg6IDEwMC4wJTsgaGVpZ2h0OiAxMDAuMCU7Ij5XZXN0IEZhcm1zIENsdXN0ZXIgNDwvZGl2PicpWzBdOwogICAgICAgICAgICAgICAgcG9wdXBfNjdiZTBkOTYyNGMxNGQyZGJjZWQ3Mjg5ZGJmYjUxNGYuc2V0Q29udGVudChodG1sX2JiYTU4Y2ZhOTRmZDQ4YWZiMzMwNzJlYzAwZjQ1NmY4KTsKICAgICAgICAgICAgCgogICAgICAgICAgICBjaXJjbGVfbWFya2VyXzUwNTczNDcxNDgwZTQ2NDNhYTgxOWFmODg1YWY1MmU4LmJpbmRQb3B1cChwb3B1cF82N2JlMGQ5NjI0YzE0ZDJkYmNlZDcyODlkYmZiNTE0Zik7CgogICAgICAgICAgICAKICAgICAgICAKICAgIAogICAgICAgICAgICB2YXIgY2lyY2xlX21hcmtlcl9lN2QwNzE2NTA0Nzc0MDk1YjJhOWFmNTBhNTRhMjQzMCA9IEwuY2lyY2xlTWFya2VyKAogICAgICAgICAgICAgICAgWzQwLjgzNjYyMzAxMDcwNjA1NiwtNzMuOTI2MTAyMDkzNTgxM10sCiAgICAgICAgICAgICAgICB7CiAgImJ1YmJsaW5nTW91c2VFdmVudHMiOiB0cnVlLAogICJjb2xvciI6ICIjZmZiMzYwIiwKICAiZGFzaEFycmF5IjogbnVsbCwKICAiZGFzaE9mZnNldCI6IG51bGwsCiAgImZpbGwiOiB0cnVlLAogICJmaWxsQ29sb3IiOiAiI2ZmYjM2MCIsCiAgImZpbGxPcGFjaXR5IjogMC43LAogICJmaWxsUnVsZSI6ICJldmVub2RkIiwKICAibGluZUNhcCI6ICJyb3VuZCIsCiAgImxpbmVKb2luIjogInJvdW5kIiwKICAib3BhY2l0eSI6IDEuMCwKICAicmFkaXVzIjogNSwKICAic3Ryb2tlIjogdHJ1ZSwKICAid2VpZ2h0IjogMwp9CiAgICAgICAgICAgICAgICApLmFkZFRvKG1hcF83MWFhZGE5YjY0ZTk0ZmE4YWFjZmNkN2M3ODJlYjU2MSk7CiAgICAgICAgICAgIAogICAgCiAgICAgICAgICAgIHZhciBwb3B1cF9hM2QwZTdjNDVkMWY0OWIzYTFjYmRlMjBhNzI4NDBlYSA9IEwucG9wdXAoe21heFdpZHRoOiAnMzAwJ30pOwoKICAgICAgICAgICAgCiAgICAgICAgICAgICAgICB2YXIgaHRtbF80MDAzNWIzMjQ1N2I0ODg2ODczOGNhNjhlZDE4NjRmZSA9ICQoJzxkaXYgaWQ9Imh0bWxfNDAwMzViMzI0NTdiNDg4Njg3MzhjYTY4ZWQxODY0ZmUiIHN0eWxlPSJ3aWR0aDogMTAwLjAlOyBoZWlnaHQ6IDEwMC4wJTsiPkhpZ2ggIEJyaWRnZSBDbHVzdGVyIDQ8L2Rpdj4nKVswXTsKICAgICAgICAgICAgICAgIHBvcHVwX2EzZDBlN2M0NWQxZjQ5YjNhMWNiZGUyMGE3Mjg0MGVhLnNldENvbnRlbnQoaHRtbF80MDAzNWIzMjQ1N2I0ODg2ODczOGNhNjhlZDE4NjRmZSk7CiAgICAgICAgICAgIAoKICAgICAgICAgICAgY2lyY2xlX21hcmtlcl9lN2QwNzE2NTA0Nzc0MDk1YjJhOWFmNTBhNTRhMjQzMC5iaW5kUG9wdXAocG9wdXBfYTNkMGU3YzQ1ZDFmNDliM2ExY2JkZTIwYTcyODQwZWEpOwoKICAgICAgICAgICAgCiAgICAgICAgCiAgICAKICAgICAgICAgICAgdmFyIGNpcmNsZV9tYXJrZXJfMWM4N2QyMmE3NWQ5NDFhM2I5ZmVmZTdmYjY3NjRjODMgPSBMLmNpcmNsZU1hcmtlcigKICAgICAgICAgICAgICAgIFs0MC44MTk3NTQzNzA1OTQ5MzYsLTczLjkwOTQyMTYwNzU3NDM2XSwKICAgICAgICAgICAgICAgIHsKICAiYnViYmxpbmdNb3VzZUV2ZW50cyI6IHRydWUsCiAgImNvbG9yIjogIiNmZmIzNjAiLAogICJkYXNoQXJyYXkiOiBudWxsLAogICJkYXNoT2Zmc2V0IjogbnVsbCwKICAiZmlsbCI6IHRydWUsCiAgImZpbGxDb2xvciI6ICIjZmZiMzYwIiwKICAiZmlsbE9wYWNpdHkiOiAwLjcsCiAgImZpbGxSdWxlIjogImV2ZW5vZGQiLAogICJsaW5lQ2FwIjogInJvdW5kIiwKICAibGluZUpvaW4iOiAicm91bmQiLAogICJvcGFjaXR5IjogMS4wLAogICJyYWRpdXMiOiA1LAogICJzdHJva2UiOiB0cnVlLAogICJ3ZWlnaHQiOiAzCn0KICAgICAgICAgICAgICAgICkuYWRkVG8obWFwXzcxYWFkYTliNjRlOTRmYThhYWNmY2Q3Yzc4MmViNTYxKTsKICAgICAgICAgICAgCiAgICAKICAgICAgICAgICAgdmFyIHBvcHVwX2FiN2FiZjQwMTQyMzRkODM5MzA4MWYzMGM0MjMxN2Q3ID0gTC5wb3B1cCh7bWF4V2lkdGg6ICczMDAnfSk7CgogICAgICAgICAgICAKICAgICAgICAgICAgICAgIHZhciBodG1sX2M4YzVjOGZlMjZlODRjZWE5ZmIwY2RjNWFjMzQxYjI3ID0gJCgnPGRpdiBpZD0iaHRtbF9jOGM1YzhmZTI2ZTg0Y2VhOWZiMGNkYzVhYzM0MWIyNyIgc3R5bGU9IndpZHRoOiAxMDAuMCU7IGhlaWdodDogMTAwLjAlOyI+TWVscm9zZSBDbHVzdGVyIDQ8L2Rpdj4nKVswXTsKICAgICAgICAgICAgICAgIHBvcHVwX2FiN2FiZjQwMTQyMzRkODM5MzA4MWYzMGM0MjMxN2Q3LnNldENvbnRlbnQoaHRtbF9jOGM1YzhmZTI2ZTg0Y2VhOWZiMGNkYzVhYzM0MWIyNyk7CiAgICAgICAgICAgIAoKICAgICAgICAgICAgY2lyY2xlX21hcmtlcl8xYzg3ZDIyYTc1ZDk0MWEzYjlmZWZlN2ZiNjc2NGM4My5iaW5kUG9wdXAocG9wdXBfYWI3YWJmNDAxNDIzNGQ4MzkzMDgxZjMwYzQyMzE3ZDcpOwoKICAgICAgICAgICAgCiAgICAgICAgCiAgICAKICAgICAgICAgICAgdmFyIGNpcmNsZV9tYXJrZXJfZWFjOWM3NGU1ZTc3NGU3NjgxYjE4ZmQ5YjU3MzQ1ZWYgPSBMLmNpcmNsZU1hcmtlcigKICAgICAgICAgICAgICAgIFs0MC44MDYyMzg3NDkzNTE3NywtNzMuOTE2MDk5ODc0ODc1NzVdLAogICAgICAgICAgICAgICAgewogICJidWJibGluZ01vdXNlRXZlbnRzIjogdHJ1ZSwKICAiY29sb3IiOiAiI2ZmYjM2MCIsCiAgImRhc2hBcnJheSI6IG51bGwsCiAgImRhc2hPZmZzZXQiOiBudWxsLAogICJmaWxsIjogdHJ1ZSwKICAiZmlsbENvbG9yIjogIiNmZmIzNjAiLAogICJmaWxsT3BhY2l0eSI6IDAuNywKICAiZmlsbFJ1bGUiOiAiZXZlbm9kZCIsCiAgImxpbmVDYXAiOiAicm91bmQiLAogICJsaW5lSm9pbiI6ICJyb3VuZCIsCiAgIm9wYWNpdHkiOiAxLjAsCiAgInJhZGl1cyI6IDUsCiAgInN0cm9rZSI6IHRydWUsCiAgIndlaWdodCI6IDMKfQogICAgICAgICAgICAgICAgKS5hZGRUbyhtYXBfNzFhYWRhOWI2NGU5NGZhOGFhY2ZjZDdjNzgyZWI1NjEpOwogICAgICAgICAgICAKICAgIAogICAgICAgICAgICB2YXIgcG9wdXBfODM1MGI4NDJjYWM3NGE0MjlkYjc2NzY3OTVmYmQzYjYgPSBMLnBvcHVwKHttYXhXaWR0aDogJzMwMCd9KTsKCiAgICAgICAgICAgIAogICAgICAgICAgICAgICAgdmFyIGh0bWxfYzliMGQwMmY4ZTI4NDA3OTg4MDc5Mzk0YjMxYWM2ZDkgPSAkKCc8ZGl2IGlkPSJodG1sX2M5YjBkMDJmOGUyODQwNzk4ODA3OTM5NGIzMWFjNmQ5IiBzdHlsZT0id2lkdGg6IDEwMC4wJTsgaGVpZ2h0OiAxMDAuMCU7Ij5Nb3R0IEhhdmVuIENsdXN0ZXIgNDwvZGl2PicpWzBdOwogICAgICAgICAgICAgICAgcG9wdXBfODM1MGI4NDJjYWM3NGE0MjlkYjc2NzY3OTVmYmQzYjYuc2V0Q29udGVudChodG1sX2M5YjBkMDJmOGUyODQwNzk4ODA3OTM5NGIzMWFjNmQ5KTsKICAgICAgICAgICAgCgogICAgICAgICAgICBjaXJjbGVfbWFya2VyX2VhYzljNzRlNWU3NzRlNzY4MWIxOGZkOWI1NzM0NWVmLmJpbmRQb3B1cChwb3B1cF84MzUwYjg0MmNhYzc0YTQyOWRiNzY3Njc5NWZiZDNiNik7CgogICAgICAgICAgICAKICAgICAgICAKICAgIAogICAgICAgICAgICB2YXIgY2lyY2xlX21hcmtlcl9hZmJmMTI5YzliY2M0OTY4YjJjNDMwNjRlYTQ3MDYzZCA9IEwuY2lyY2xlTWFya2VyKAogICAgICAgICAgICAgICAgWzQwLjgwMTY2MzYyNzc1NjIwNiwtNzMuOTEzMjIxMzkzODYxMzVdLAogICAgICAgICAgICAgICAgewogICJidWJibGluZ01vdXNlRXZlbnRzIjogdHJ1ZSwKICAiY29sb3IiOiAiI2ZmYjM2MCIsCiAgImRhc2hBcnJheSI6IG51bGwsCiAgImRhc2hPZmZzZXQiOiBudWxsLAogICJmaWxsIjogdHJ1ZSwKICAiZmlsbENvbG9yIjogIiNmZmIzNjAiLAogICJmaWxsT3BhY2l0eSI6IDAuNywKICAiZmlsbFJ1bGUiOiAiZXZlbm9kZCIsCiAgImxpbmVDYXAiOiAicm91bmQiLAogICJsaW5lSm9pbiI6ICJyb3VuZCIsCiAgIm9wYWNpdHkiOiAxLjAsCiAgInJhZGl1cyI6IDUsCiAgInN0cm9rZSI6IHRydWUsCiAgIndlaWdodCI6IDMKfQogICAgICAgICAgICAgICAgKS5hZGRUbyhtYXBfNzFhYWRhOWI2NGU5NGZhOGFhY2ZjZDdjNzgyZWI1NjEpOwogICAgICAgICAgICAKICAgIAogICAgICAgICAgICB2YXIgcG9wdXBfZTdhM2ZkYWJiODhhNDllNGEyY2Q1ZjAxYzA1YWQ3NzMgPSBMLnBvcHVwKHttYXhXaWR0aDogJzMwMCd9KTsKCiAgICAgICAgICAgIAogICAgICAgICAgICAgICAgdmFyIGh0bWxfYWM2YzAzZjQ0MzQ1NDVhYjgxODkyNzA2OWI2N2MzYTEgPSAkKCc8ZGl2IGlkPSJodG1sX2FjNmMwM2Y0NDM0NTQ1YWI4MTg5MjcwNjliNjdjM2ExIiBzdHlsZT0id2lkdGg6IDEwMC4wJTsgaGVpZ2h0OiAxMDAuMCU7Ij5Qb3J0IE1vcnJpcyBDbHVzdGVyIDQ8L2Rpdj4nKVswXTsKICAgICAgICAgICAgICAgIHBvcHVwX2U3YTNmZGFiYjg4YTQ5ZTRhMmNkNWYwMWMwNWFkNzczLnNldENvbnRlbnQoaHRtbF9hYzZjMDNmNDQzNDU0NWFiODE4OTI3MDY5YjY3YzNhMSk7CiAgICAgICAgICAgIAoKICAgICAgICAgICAgY2lyY2xlX21hcmtlcl9hZmJmMTI5YzliY2M0OTY4YjJjNDMwNjRlYTQ3MDYzZC5iaW5kUG9wdXAocG9wdXBfZTdhM2ZkYWJiODhhNDllNGEyY2Q1ZjAxYzA1YWQ3NzMpOwoKICAgICAgICAgICAgCiAgICAgICAgCiAgICAKICAgICAgICAgICAgdmFyIGNpcmNsZV9tYXJrZXJfOTJkNjliZjM4OTFiNGVjMmExMjYyNDc2OWUzNjE2OGQgPSBMLmNpcmNsZU1hcmtlcigKICAgICAgICAgICAgICAgIFs0MC44MTUwOTkwNDU0NTgyMiwtNzMuODk1Nzg4MjAwOTQ0Nl0sCiAgICAgICAgICAgICAgICB7CiAgImJ1YmJsaW5nTW91c2VFdmVudHMiOiB0cnVlLAogICJjb2xvciI6ICIjZmZiMzYwIiwKICAiZGFzaEFycmF5IjogbnVsbCwKICAiZGFzaE9mZnNldCI6IG51bGwsCiAgImZpbGwiOiB0cnVlLAogICJmaWxsQ29sb3IiOiAiI2ZmYjM2MCIsCiAgImZpbGxPcGFjaXR5IjogMC43LAogICJmaWxsUnVsZSI6ICJldmVub2RkIiwKICAibGluZUNhcCI6ICJyb3VuZCIsCiAgImxpbmVKb2luIjogInJvdW5kIiwKICAib3BhY2l0eSI6IDEuMCwKICAicmFkaXVzIjogNSwKICAic3Ryb2tlIjogdHJ1ZSwKICAid2VpZ2h0IjogMwp9CiAgICAgICAgICAgICAgICApLmFkZFRvKG1hcF83MWFhZGE5YjY0ZTk0ZmE4YWFjZmNkN2M3ODJlYjU2MSk7CiAgICAgICAgICAgIAogICAgCiAgICAgICAgICAgIHZhciBwb3B1cF8yNTllZTkwMjUwODk0YjI0YThlOTRmY2Q0MjNjOTY4MSA9IEwucG9wdXAoe21heFdpZHRoOiAnMzAwJ30pOwoKICAgICAgICAgICAgCiAgICAgICAgICAgICAgICB2YXIgaHRtbF9kMGIwMWY5NjRlYTU0MGNiYTJjNjVhNWJkMzM0ZDAwZSA9ICQoJzxkaXYgaWQ9Imh0bWxfZDBiMDFmOTY0ZWE1NDBjYmEyYzY1YTViZDMzNGQwMGUiIHN0eWxlPSJ3aWR0aDogMTAwLjAlOyBoZWlnaHQ6IDEwMC4wJTsiPkxvbmd3b29kIENsdXN0ZXIgNDwvZGl2PicpWzBdOwogICAgICAgICAgICAgICAgcG9wdXBfMjU5ZWU5MDI1MDg5NGIyNGE4ZTk0ZmNkNDIzYzk2ODEuc2V0Q29udGVudChodG1sX2QwYjAxZjk2NGVhNTQwY2JhMmM2NWE1YmQzMzRkMDBlKTsKICAgICAgICAgICAgCgogICAgICAgICAgICBjaXJjbGVfbWFya2VyXzkyZDY5YmYzODkxYjRlYzJhMTI2MjQ3NjllMzYxNjhkLmJpbmRQb3B1cChwb3B1cF8yNTllZTkwMjUwODk0YjI0YThlOTRmY2Q0MjNjOTY4MSk7CgogICAgICAgICAgICAKICAgICAgICAKICAgIAogICAgICAgICAgICB2YXIgY2lyY2xlX21hcmtlcl8yMWNmMjljNDBiNzc0ODNjYjljOWFmM2JiYTBjZDVlZCA9IEwuY2lyY2xlTWFya2VyKAogICAgICAgICAgICAgICAgWzQwLjgwOTcyOTg3OTM4NzA5LC03My44ODMzMTUwNTk1NTI5MV0sCiAgICAgICAgICAgICAgICB7CiAgImJ1YmJsaW5nTW91c2VFdmVudHMiOiB0cnVlLAogICJjb2xvciI6ICIjZmZiMzYwIiwKICAiZGFzaEFycmF5IjogbnVsbCwKICAiZGFzaE9mZnNldCI6IG51bGwsCiAgImZpbGwiOiB0cnVlLAogICJmaWxsQ29sb3IiOiAiI2ZmYjM2MCIsCiAgImZpbGxPcGFjaXR5IjogMC43LAogICJmaWxsUnVsZSI6ICJldmVub2RkIiwKICAibGluZUNhcCI6ICJyb3VuZCIsCiAgImxpbmVKb2luIjogInJvdW5kIiwKICAib3BhY2l0eSI6IDEuMCwKICAicmFkaXVzIjogNSwKICAic3Ryb2tlIjogdHJ1ZSwKICAid2VpZ2h0IjogMwp9CiAgICAgICAgICAgICAgICApLmFkZFRvKG1hcF83MWFhZGE5YjY0ZTk0ZmE4YWFjZmNkN2M3ODJlYjU2MSk7CiAgICAgICAgICAgIAogICAgCiAgICAgICAgICAgIHZhciBwb3B1cF9mOGZmMThlNTNhNzk0MWU0ODFhYmIzNWQ5OGUyYTg1OSA9IEwucG9wdXAoe21heFdpZHRoOiAnMzAwJ30pOwoKICAgICAgICAgICAgCiAgICAgICAgICAgICAgICB2YXIgaHRtbF9hZGMzODZjZTkzMTM0MzU2YmYxM2VmNjc0MjNkYjJhZSA9ICQoJzxkaXYgaWQ9Imh0bWxfYWRjMzg2Y2U5MzEzNDM1NmJmMTNlZjY3NDIzZGIyYWUiIHN0eWxlPSJ3aWR0aDogMTAwLjAlOyBoZWlnaHQ6IDEwMC4wJTsiPkh1bnRzIFBvaW50IENsdXN0ZXIgNDwvZGl2PicpWzBdOwogICAgICAgICAgICAgICAgcG9wdXBfZjhmZjE4ZTUzYTc5NDFlNDgxYWJiMzVkOThlMmE4NTkuc2V0Q29udGVudChodG1sX2FkYzM4NmNlOTMxMzQzNTZiZjEzZWY2NzQyM2RiMmFlKTsKICAgICAgICAgICAgCgogICAgICAgICAgICBjaXJjbGVfbWFya2VyXzIxY2YyOWM0MGI3NzQ4M2NiOWM5YWYzYmJhMGNkNWVkLmJpbmRQb3B1cChwb3B1cF9mOGZmMThlNTNhNzk0MWU0ODFhYmIzNWQ5OGUyYTg1OSk7CgogICAgICAgICAgICAKICAgICAgICAKICAgIAogICAgICAgICAgICB2YXIgY2lyY2xlX21hcmtlcl8zYTI0OGI4MDdmMDQ0NTQ0YmViYzNiNWYxMDlhMGZmZiA9IEwuY2lyY2xlTWFya2VyKAogICAgICAgICAgICAgICAgWzQwLjgyMzU5MTk4NTg1NTM0LC03My45MDE1MDY0ODk0MzA1OV0sCiAgICAgICAgICAgICAgICB7CiAgImJ1YmJsaW5nTW91c2VFdmVudHMiOiB0cnVlLAogICJjb2xvciI6ICIjZmZiMzYwIiwKICAiZGFzaEFycmF5IjogbnVsbCwKICAiZGFzaE9mZnNldCI6IG51bGwsCiAgImZpbGwiOiB0cnVlLAogICJmaWxsQ29sb3IiOiAiI2ZmYjM2MCIsCiAgImZpbGxPcGFjaXR5IjogMC43LAogICJmaWxsUnVsZSI6ICJldmVub2RkIiwKICAibGluZUNhcCI6ICJyb3VuZCIsCiAgImxpbmVKb2luIjogInJvdW5kIiwKICAib3BhY2l0eSI6IDEuMCwKICAicmFkaXVzIjogNSwKICAic3Ryb2tlIjogdHJ1ZSwKICAid2VpZ2h0IjogMwp9CiAgICAgICAgICAgICAgICApLmFkZFRvKG1hcF83MWFhZGE5YjY0ZTk0ZmE4YWFjZmNkN2M3ODJlYjU2MSk7CiAgICAgICAgICAgIAogICAgCiAgICAgICAgICAgIHZhciBwb3B1cF9mMDdjYzQxMjcwYjU0Yjc0Yjg1NmZkMTU1ZDkxZTEzMiA9IEwucG9wdXAoe21heFdpZHRoOiAnMzAwJ30pOwoKICAgICAgICAgICAgCiAgICAgICAgICAgICAgICB2YXIgaHRtbF9lYTUwNTAxM2UwNDU0NDdmYjg5NzYwYTA3MTFkNjhlZiA9ICQoJzxkaXYgaWQ9Imh0bWxfZWE1MDUwMTNlMDQ1NDQ3ZmI4OTc2MGEwNzExZDY4ZWYiIHN0eWxlPSJ3aWR0aDogMTAwLjAlOyBoZWlnaHQ6IDEwMC4wJTsiPk1vcnJpc2FuaWEgQ2x1c3RlciA0PC9kaXY+JylbMF07CiAgICAgICAgICAgICAgICBwb3B1cF9mMDdjYzQxMjcwYjU0Yjc0Yjg1NmZkMTU1ZDkxZTEzMi5zZXRDb250ZW50KGh0bWxfZWE1MDUwMTNlMDQ1NDQ3ZmI4OTc2MGEwNzExZDY4ZWYpOwogICAgICAgICAgICAKCiAgICAgICAgICAgIGNpcmNsZV9tYXJrZXJfM2EyNDhiODA3ZjA0NDU0NGJlYmMzYjVmMTA5YTBmZmYuYmluZFBvcHVwKHBvcHVwX2YwN2NjNDEyNzBiNTRiNzRiODU2ZmQxNTVkOTFlMTMyKTsKCiAgICAgICAgICAgIAogICAgICAgIAogICAgCiAgICAgICAgICAgIHZhciBjaXJjbGVfbWFya2VyXzU3NzlhMzkyNGI0ZTQwNGI5ZWJmZjA4Mjg4ZjJmNjhhID0gTC5jaXJjbGVNYXJrZXIoCiAgICAgICAgICAgICAgICBbNDAuODIxMDEyMTk3OTE0MDE1LC03My44NjU3NDYwOTU1NDkyNF0sCiAgICAgICAgICAgICAgICB7CiAgImJ1YmJsaW5nTW91c2VFdmVudHMiOiB0cnVlLAogICJjb2xvciI6ICIjZmZiMzYwIiwKICAiZGFzaEFycmF5IjogbnVsbCwKICAiZGFzaE9mZnNldCI6IG51bGwsCiAgImZpbGwiOiB0cnVlLAogICJmaWxsQ29sb3IiOiAiI2ZmYjM2MCIsCiAgImZpbGxPcGFjaXR5IjogMC43LAogICJmaWxsUnVsZSI6ICJldmVub2RkIiwKICAibGluZUNhcCI6ICJyb3VuZCIsCiAgImxpbmVKb2luIjogInJvdW5kIiwKICAib3BhY2l0eSI6IDEuMCwKICAicmFkaXVzIjogNSwKICAic3Ryb2tlIjogdHJ1ZSwKICAid2VpZ2h0IjogMwp9CiAgICAgICAgICAgICAgICApLmFkZFRvKG1hcF83MWFhZGE5YjY0ZTk0ZmE4YWFjZmNkN2M3ODJlYjU2MSk7CiAgICAgICAgICAgIAogICAgCiAgICAgICAgICAgIHZhciBwb3B1cF9iNWU5MDlhZDExZDc0NmE0YjgzMzJhM2I4ZTgyNDZlZCA9IEwucG9wdXAoe21heFdpZHRoOiAnMzAwJ30pOwoKICAgICAgICAgICAgCiAgICAgICAgICAgICAgICB2YXIgaHRtbF9mNGM4YTZlZDllMzg0MmZlYWJjZmVjNDA3MWZlOWFlZiA9ICQoJzxkaXYgaWQ9Imh0bWxfZjRjOGE2ZWQ5ZTM4NDJmZWFiY2ZlYzQwNzFmZTlhZWYiIHN0eWxlPSJ3aWR0aDogMTAwLjAlOyBoZWlnaHQ6IDEwMC4wJTsiPlNvdW5kdmlldyBDbHVzdGVyIDQ8L2Rpdj4nKVswXTsKICAgICAgICAgICAgICAgIHBvcHVwX2I1ZTkwOWFkMTFkNzQ2YTRiODMzMmEzYjhlODI0NmVkLnNldENvbnRlbnQoaHRtbF9mNGM4YTZlZDllMzg0MmZlYWJjZmVjNDA3MWZlOWFlZik7CiAgICAgICAgICAgIAoKICAgICAgICAgICAgY2lyY2xlX21hcmtlcl81Nzc5YTM5MjRiNGU0MDRiOWViZmYwODI4OGYyZjY4YS5iaW5kUG9wdXAocG9wdXBfYjVlOTA5YWQxMWQ3NDZhNGI4MzMyYTNiOGU4MjQ2ZWQpOwoKICAgICAgICAgICAgCiAgICAgICAgCiAgICAKICAgICAgICAgICAgdmFyIGNpcmNsZV9tYXJrZXJfNGUxMWI5YzEwNGU2NDc0ZGIzZmU3ZWVhNjA3YzFkYjIgPSBMLmNpcmNsZU1hcmtlcigKICAgICAgICAgICAgICAgIFs0MC44MDY1NTExMjAwMzU4OSwtNzMuODU0MTQ0MTYxODkyNjZdLAogICAgICAgICAgICAgICAgewogICJidWJibGluZ01vdXNlRXZlbnRzIjogdHJ1ZSwKICAiY29sb3IiOiAiI2ZmYjM2MCIsCiAgImRhc2hBcnJheSI6IG51bGwsCiAgImRhc2hPZmZzZXQiOiBudWxsLAogICJmaWxsIjogdHJ1ZSwKICAiZmlsbENvbG9yIjogIiNmZmIzNjAiLAogICJmaWxsT3BhY2l0eSI6IDAuNywKICAiZmlsbFJ1bGUiOiAiZXZlbm9kZCIsCiAgImxpbmVDYXAiOiAicm91bmQiLAogICJsaW5lSm9pbiI6ICJyb3VuZCIsCiAgIm9wYWNpdHkiOiAxLjAsCiAgInJhZGl1cyI6IDUsCiAgInN0cm9rZSI6IHRydWUsCiAgIndlaWdodCI6IDMKfQogICAgICAgICAgICAgICAgKS5hZGRUbyhtYXBfNzFhYWRhOWI2NGU5NGZhOGFhY2ZjZDdjNzgyZWI1NjEpOwogICAgICAgICAgICAKICAgIAogICAgICAgICAgICB2YXIgcG9wdXBfYjAwNjdlYjkwYWFhNGJjNjgyMWM3OWI4OTE2MWY4N2QgPSBMLnBvcHVwKHttYXhXaWR0aDogJzMwMCd9KTsKCiAgICAgICAgICAgIAogICAgICAgICAgICAgICAgdmFyIGh0bWxfYWIzM2U4ZGI5ZDIyNGQxNzk3ZjBhZTdlYzBiZTY4MTkgPSAkKCc8ZGl2IGlkPSJodG1sX2FiMzNlOGRiOWQyMjRkMTc5N2YwYWU3ZWMwYmU2ODE5IiBzdHlsZT0id2lkdGg6IDEwMC4wJTsgaGVpZ2h0OiAxMDAuMCU7Ij5DbGFzb24gUG9pbnQgQ2x1c3RlciA0PC9kaXY+JylbMF07CiAgICAgICAgICAgICAgICBwb3B1cF9iMDA2N2ViOTBhYWE0YmM2ODIxYzc5Yjg5MTYxZjg3ZC5zZXRDb250ZW50KGh0bWxfYWIzM2U4ZGI5ZDIyNGQxNzk3ZjBhZTdlYzBiZTY4MTkpOwogICAgICAgICAgICAKCiAgICAgICAgICAgIGNpcmNsZV9tYXJrZXJfNGUxMWI5YzEwNGU2NDc0ZGIzZmU3ZWVhNjA3YzFkYjIuYmluZFBvcHVwKHBvcHVwX2IwMDY3ZWI5MGFhYTRiYzY4MjFjNzliODkxNjFmODdkKTsKCiAgICAgICAgICAgIAogICAgICAgIAogICAgCiAgICAgICAgICAgIHZhciBjaXJjbGVfbWFya2VyXzUxYTJjNzU3OWVmMDQyOTNiN2NhYTdjZjUyMThmMTJiID0gTC5jaXJjbGVNYXJrZXIoCiAgICAgICAgICAgICAgICBbNDAuODE1MTA5MjU4MDQwMDUsLTczLjgxNjM1MDAyMTU4NDQxXSwKICAgICAgICAgICAgICAgIHsKICAiYnViYmxpbmdNb3VzZUV2ZW50cyI6IHRydWUsCiAgImNvbG9yIjogIiNmZmIzNjAiLAogICJkYXNoQXJyYXkiOiBudWxsLAogICJkYXNoT2Zmc2V0IjogbnVsbCwKICAiZmlsbCI6IHRydWUsCiAgImZpbGxDb2xvciI6ICIjZmZiMzYwIiwKICAiZmlsbE9wYWNpdHkiOiAwLjcsCiAgImZpbGxSdWxlIjogImV2ZW5vZGQiLAogICJsaW5lQ2FwIjogInJvdW5kIiwKICAibGluZUpvaW4iOiAicm91bmQiLAogICJvcGFjaXR5IjogMS4wLAogICJyYWRpdXMiOiA1LAogICJzdHJva2UiOiB0cnVlLAogICJ3ZWlnaHQiOiAzCn0KICAgICAgICAgICAgICAgICkuYWRkVG8obWFwXzcxYWFkYTliNjRlOTRmYThhYWNmY2Q3Yzc4MmViNTYxKTsKICAgICAgICAgICAgCiAgICAKICAgICAgICAgICAgdmFyIHBvcHVwXzQ3ZjU4NTIyY2U2ZDQyY2VhZGU5YmI3NTE0ZGU1Yjc0ID0gTC5wb3B1cCh7bWF4V2lkdGg6ICczMDAnfSk7CgogICAgICAgICAgICAKICAgICAgICAgICAgICAgIHZhciBodG1sX2FlYmQ0YzAyOTU5NTQ5ODdhMTk4YzczMmM4ZmI0OGY2ID0gJCgnPGRpdiBpZD0iaHRtbF9hZWJkNGMwMjk1OTU0OTg3YTE5OGM3MzJjOGZiNDhmNiIgc3R5bGU9IndpZHRoOiAxMDAuMCU7IGhlaWdodDogMTAwLjAlOyI+VGhyb2dzIE5lY2sgQ2x1c3RlciA0PC9kaXY+JylbMF07CiAgICAgICAgICAgICAgICBwb3B1cF80N2Y1ODUyMmNlNmQ0MmNlYWRlOWJiNzUxNGRlNWI3NC5zZXRDb250ZW50KGh0bWxfYWViZDRjMDI5NTk1NDk4N2ExOThjNzMyYzhmYjQ4ZjYpOwogICAgICAgICAgICAKCiAgICAgICAgICAgIGNpcmNsZV9tYXJrZXJfNTFhMmM3NTc5ZWYwNDI5M2I3Y2FhN2NmNTIxOGYxMmIuYmluZFBvcHVwKHBvcHVwXzQ3ZjU4NTIyY2U2ZDQyY2VhZGU5YmI3NTE0ZGU1Yjc0KTsKCiAgICAgICAgICAgIAogICAgICAgIAogICAgCiAgICAgICAgICAgIHZhciBjaXJjbGVfbWFya2VyX2VjNjcxMzBkNDBjYjQ5NjM4MDVhNmYxYWNlYzM3YTA1ID0gTC5jaXJjbGVNYXJrZXIoCiAgICAgICAgICAgICAgICBbNDAuODQ0MjQ1OTM2OTQ3Mzc0LC03My44MjQwOTkyNjc1Mzg1XSwKICAgICAgICAgICAgICAgIHsKICAiYnViYmxpbmdNb3VzZUV2ZW50cyI6IHRydWUsCiAgImNvbG9yIjogIiNmZmIzNjAiLAogICJkYXNoQXJyYXkiOiBudWxsLAogICJkYXNoT2Zmc2V0IjogbnVsbCwKICAiZmlsbCI6IHRydWUsCiAgImZpbGxDb2xvciI6ICIjZmZiMzYwIiwKICAiZmlsbE9wYWNpdHkiOiAwLjcsCiAgImZpbGxSdWxlIjogImV2ZW5vZGQiLAogICJsaW5lQ2FwIjogInJvdW5kIiwKICAibGluZUpvaW4iOiAicm91bmQiLAogICJvcGFjaXR5IjogMS4wLAogICJyYWRpdXMiOiA1LAogICJzdHJva2UiOiB0cnVlLAogICJ3ZWlnaHQiOiAzCn0KICAgICAgICAgICAgICAgICkuYWRkVG8obWFwXzcxYWFkYTliNjRlOTRmYThhYWNmY2Q3Yzc4MmViNTYxKTsKICAgICAgICAgICAgCiAgICAKICAgICAgICAgICAgdmFyIHBvcHVwX2Y3MzY4NTA1MTYyZTRkNjNiMzMxMmE4MzAyMTdlOWRjID0gTC5wb3B1cCh7bWF4V2lkdGg6ICczMDAnfSk7CgogICAgICAgICAgICAKICAgICAgICAgICAgICAgIHZhciBodG1sXzBlNGE0ZDYzYmVmZDQ1ZTRiOTc4ZjVlOGUyOWQ0MDQzID0gJCgnPGRpdiBpZD0iaHRtbF8wZTRhNGQ2M2JlZmQ0NWU0Yjk3OGY1ZThlMjlkNDA0MyIgc3R5bGU9IndpZHRoOiAxMDAuMCU7IGhlaWdodDogMTAwLjAlOyI+Q291bnRyeSBDbHViIENsdXN0ZXIgNDwvZGl2PicpWzBdOwogICAgICAgICAgICAgICAgcG9wdXBfZjczNjg1MDUxNjJlNGQ2M2IzMzEyYTgzMDIxN2U5ZGMuc2V0Q29udGVudChodG1sXzBlNGE0ZDYzYmVmZDQ1ZTRiOTc4ZjVlOGUyOWQ0MDQzKTsKICAgICAgICAgICAgCgogICAgICAgICAgICBjaXJjbGVfbWFya2VyX2VjNjcxMzBkNDBjYjQ5NjM4MDVhNmYxYWNlYzM3YTA1LmJpbmRQb3B1cChwb3B1cF9mNzM2ODUwNTE2MmU0ZDYzYjMzMTJhODMwMjE3ZTlkYyk7CgogICAgICAgICAgICAKICAgICAgICAKICAgIAogICAgICAgICAgICB2YXIgY2lyY2xlX21hcmtlcl8wNjNjZWFlMzM3MDE0YTNlODQwZGJmNmZjMjc4ODVkMCA9IEwuY2lyY2xlTWFya2VyKAogICAgICAgICAgICAgICAgWzQwLjgzNzkzNzgyMjI2NzI4NiwtNzMuODU2MDAzMTA1MzU3ODNdLAogICAgICAgICAgICAgICAgewogICJidWJibGluZ01vdXNlRXZlbnRzIjogdHJ1ZSwKICAiY29sb3IiOiAiI2ZmYjM2MCIsCiAgImRhc2hBcnJheSI6IG51bGwsCiAgImRhc2hPZmZzZXQiOiBudWxsLAogICJmaWxsIjogdHJ1ZSwKICAiZmlsbENvbG9yIjogIiNmZmIzNjAiLAogICJmaWxsT3BhY2l0eSI6IDAuNywKICAiZmlsbFJ1bGUiOiAiZXZlbm9kZCIsCiAgImxpbmVDYXAiOiAicm91bmQiLAogICJsaW5lSm9pbiI6ICJyb3VuZCIsCiAgIm9wYWNpdHkiOiAxLjAsCiAgInJhZGl1cyI6IDUsCiAgInN0cm9rZSI6IHRydWUsCiAgIndlaWdodCI6IDMKfQogICAgICAgICAgICAgICAgKS5hZGRUbyhtYXBfNzFhYWRhOWI2NGU5NGZhOGFhY2ZjZDdjNzgyZWI1NjEpOwogICAgICAgICAgICAKICAgIAogICAgICAgICAgICB2YXIgcG9wdXBfZjdhNmIxM2M2ZTBmNDcwOGE2MmNhMTQzMTQ2ZTdmZTAgPSBMLnBvcHVwKHttYXhXaWR0aDogJzMwMCd9KTsKCiAgICAgICAgICAgIAogICAgICAgICAgICAgICAgdmFyIGh0bWxfM2YxNjQ5NDY4YmUxNDNhOGJlZGNkMGEyYjE4Zjc1MTEgPSAkKCc8ZGl2IGlkPSJodG1sXzNmMTY0OTQ2OGJlMTQzYThiZWRjZDBhMmIxOGY3NTExIiBzdHlsZT0id2lkdGg6IDEwMC4wJTsgaGVpZ2h0OiAxMDAuMCU7Ij5QYXJrY2hlc3RlciBDbHVzdGVyIDQ8L2Rpdj4nKVswXTsKICAgICAgICAgICAgICAgIHBvcHVwX2Y3YTZiMTNjNmUwZjQ3MDhhNjJjYTE0MzE0NmU3ZmUwLnNldENvbnRlbnQoaHRtbF8zZjE2NDk0NjhiZTE0M2E4YmVkY2QwYTJiMThmNzUxMSk7CiAgICAgICAgICAgIAoKICAgICAgICAgICAgY2lyY2xlX21hcmtlcl8wNjNjZWFlMzM3MDE0YTNlODQwZGJmNmZjMjc4ODVkMC5iaW5kUG9wdXAocG9wdXBfZjdhNmIxM2M2ZTBmNDcwOGE2MmNhMTQzMTQ2ZTdmZTApOwoKICAgICAgICAgICAgCiAgICAgICAgCiAgICAKICAgICAgICAgICAgdmFyIGNpcmNsZV9tYXJrZXJfODY4MjkxOWY5MjQ5NGU1NThhM2Q0YzJiYmViYTM5NjcgPSBMLmNpcmNsZU1hcmtlcigKICAgICAgICAgICAgICAgIFs0MC44NDA2MTk0OTY0MzI3LC03My44NDIxOTQwNzYwNDQ0NF0sCiAgICAgICAgICAgICAgICB7CiAgImJ1YmJsaW5nTW91c2VFdmVudHMiOiB0cnVlLAogICJjb2xvciI6ICIjZmZiMzYwIiwKICAiZGFzaEFycmF5IjogbnVsbCwKICAiZGFzaE9mZnNldCI6IG51bGwsCiAgImZpbGwiOiB0cnVlLAogICJmaWxsQ29sb3IiOiAiI2ZmYjM2MCIsCiAgImZpbGxPcGFjaXR5IjogMC43LAogICJmaWxsUnVsZSI6ICJldmVub2RkIiwKICAibGluZUNhcCI6ICJyb3VuZCIsCiAgImxpbmVKb2luIjogInJvdW5kIiwKICAib3BhY2l0eSI6IDEuMCwKICAicmFkaXVzIjogNSwKICAic3Ryb2tlIjogdHJ1ZSwKICAid2VpZ2h0IjogMwp9CiAgICAgICAgICAgICAgICApLmFkZFRvKG1hcF83MWFhZGE5YjY0ZTk0ZmE4YWFjZmNkN2M3ODJlYjU2MSk7CiAgICAgICAgICAgIAogICAgCiAgICAgICAgICAgIHZhciBwb3B1cF9mZDJiYWRkMzNlNWY0MmRkODZhYTk3ODQ5MzRmMmYyMCA9IEwucG9wdXAoe21heFdpZHRoOiAnMzAwJ30pOwoKICAgICAgICAgICAgCiAgICAgICAgICAgICAgICB2YXIgaHRtbF9hOGRmN2UyOWZlNzI0ZGNkYmYyMjNjZjdjNTRiNjUyNSA9ICQoJzxkaXYgaWQ9Imh0bWxfYThkZjdlMjlmZTcyNGRjZGJmMjIzY2Y3YzU0YjY1MjUiIHN0eWxlPSJ3aWR0aDogMTAwLjAlOyBoZWlnaHQ6IDEwMC4wJTsiPldlc3RjaGVzdGVyIFNxdWFyZSBDbHVzdGVyIDQ8L2Rpdj4nKVswXTsKICAgICAgICAgICAgICAgIHBvcHVwX2ZkMmJhZGQzM2U1ZjQyZGQ4NmFhOTc4NDkzNGYyZjIwLnNldENvbnRlbnQoaHRtbF9hOGRmN2UyOWZlNzI0ZGNkYmYyMjNjZjdjNTRiNjUyNSk7CiAgICAgICAgICAgIAoKICAgICAgICAgICAgY2lyY2xlX21hcmtlcl84NjgyOTE5ZjkyNDk0ZTU1OGEzZDRjMmJiZWJhMzk2Ny5iaW5kUG9wdXAocG9wdXBfZmQyYmFkZDMzZTVmNDJkZDg2YWE5Nzg0OTM0ZjJmMjApOwoKICAgICAgICAgICAgCiAgICAgICAgCiAgICAKICAgICAgICAgICAgdmFyIGNpcmNsZV9tYXJrZXJfMTI3YTA1MjM4N2E2NDZlNDljMmVlYjY1ZTY0M2Y0NDYgPSBMLmNpcmNsZU1hcmtlcigKICAgICAgICAgICAgICAgIFs0MC44NDM2MDg0NzEyNDcxOCwtNzMuODY2Mjk5MTgwNzU2MV0sCiAgICAgICAgICAgICAgICB7CiAgImJ1YmJsaW5nTW91c2VFdmVudHMiOiB0cnVlLAogICJjb2xvciI6ICIjZmZiMzYwIiwKICAiZGFzaEFycmF5IjogbnVsbCwKICAiZGFzaE9mZnNldCI6IG51bGwsCiAgImZpbGwiOiB0cnVlLAogICJmaWxsQ29sb3IiOiAiI2ZmYjM2MCIsCiAgImZpbGxPcGFjaXR5IjogMC43LAogICJmaWxsUnVsZSI6ICJldmVub2RkIiwKICAibGluZUNhcCI6ICJyb3VuZCIsCiAgImxpbmVKb2luIjogInJvdW5kIiwKICAib3BhY2l0eSI6IDEuMCwKICAicmFkaXVzIjogNSwKICAic3Ryb2tlIjogdHJ1ZSwKICAid2VpZ2h0IjogMwp9CiAgICAgICAgICAgICAgICApLmFkZFRvKG1hcF83MWFhZGE5YjY0ZTk0ZmE4YWFjZmNkN2M3ODJlYjU2MSk7CiAgICAgICAgICAgIAogICAgCiAgICAgICAgICAgIHZhciBwb3B1cF82Yzg5MzZmN2Q1YjI0OWNkODU2OGUyZjBkMjA1MGQ2YSA9IEwucG9wdXAoe21heFdpZHRoOiAnMzAwJ30pOwoKICAgICAgICAgICAgCiAgICAgICAgICAgICAgICB2YXIgaHRtbF83ZjRkNTRkZGQ1ZTA0NTExYjllZWI4OTU2OTE4MTFjNSA9ICQoJzxkaXYgaWQ9Imh0bWxfN2Y0ZDU0ZGRkNWUwNDUxMWI5ZWViODk1NjkxODExYzUiIHN0eWxlPSJ3aWR0aDogMTAwLjAlOyBoZWlnaHQ6IDEwMC4wJTsiPlZhbiBOZXN0IENsdXN0ZXIgNDwvZGl2PicpWzBdOwogICAgICAgICAgICAgICAgcG9wdXBfNmM4OTM2ZjdkNWIyNDljZDg1NjhlMmYwZDIwNTBkNmEuc2V0Q29udGVudChodG1sXzdmNGQ1NGRkZDVlMDQ1MTFiOWVlYjg5NTY5MTgxMWM1KTsKICAgICAgICAgICAgCgogICAgICAgICAgICBjaXJjbGVfbWFya2VyXzEyN2EwNTIzODdhNjQ2ZTQ5YzJlZWI2NWU2NDNmNDQ2LmJpbmRQb3B1cChwb3B1cF82Yzg5MzZmN2Q1YjI0OWNkODU2OGUyZjBkMjA1MGQ2YSk7CgogICAgICAgICAgICAKICAgICAgICAKICAgIAogICAgICAgICAgICB2YXIgY2lyY2xlX21hcmtlcl81NDE4ZjZjMTNiYTI0YWI2YWRkN2FhMzk1NmQwMWE4MyA9IEwuY2lyY2xlTWFya2VyKAogICAgICAgICAgICAgICAgWzQwLjg0NzU0OTA2MzUzNjMzNCwtNzMuODUwNDAxNzgwMzA0MjFdLAogICAgICAgICAgICAgICAgewogICJidWJibGluZ01vdXNlRXZlbnRzIjogdHJ1ZSwKICAiY29sb3IiOiAiI2ZmYjM2MCIsCiAgImRhc2hBcnJheSI6IG51bGwsCiAgImRhc2hPZmZzZXQiOiBudWxsLAogICJmaWxsIjogdHJ1ZSwKICAiZmlsbENvbG9yIjogIiNmZmIzNjAiLAogICJmaWxsT3BhY2l0eSI6IDAuNywKICAiZmlsbFJ1bGUiOiAiZXZlbm9kZCIsCiAgImxpbmVDYXAiOiAicm91bmQiLAogICJsaW5lSm9pbiI6ICJyb3VuZCIsCiAgIm9wYWNpdHkiOiAxLjAsCiAgInJhZGl1cyI6IDUsCiAgInN0cm9rZSI6IHRydWUsCiAgIndlaWdodCI6IDMKfQogICAgICAgICAgICAgICAgKS5hZGRUbyhtYXBfNzFhYWRhOWI2NGU5NGZhOGFhY2ZjZDdjNzgyZWI1NjEpOwogICAgICAgICAgICAKICAgIAogICAgICAgICAgICB2YXIgcG9wdXBfYmJiMmMzNGQ1YzFlNDkzYmEwYjNmOTYwNTJlNzY1M2IgPSBMLnBvcHVwKHttYXhXaWR0aDogJzMwMCd9KTsKCiAgICAgICAgICAgIAogICAgICAgICAgICAgICAgdmFyIGh0bWxfMGFjNDg4NDFiMTE1NDRlOWJhYWQ0NjdhMDFkODU4Y2QgPSAkKCc8ZGl2IGlkPSJodG1sXzBhYzQ4ODQxYjExNTQ0ZTliYWFkNDY3YTAxZDg1OGNkIiBzdHlsZT0id2lkdGg6IDEwMC4wJTsgaGVpZ2h0OiAxMDAuMCU7Ij5Nb3JyaXMgUGFyayBDbHVzdGVyIDQ8L2Rpdj4nKVswXTsKICAgICAgICAgICAgICAgIHBvcHVwX2JiYjJjMzRkNWMxZTQ5M2JhMGIzZjk2MDUyZTc2NTNiLnNldENvbnRlbnQoaHRtbF8wYWM0ODg0MWIxMTU0NGU5YmFhZDQ2N2EwMWQ4NThjZCk7CiAgICAgICAgICAgIAoKICAgICAgICAgICAgY2lyY2xlX21hcmtlcl81NDE4ZjZjMTNiYTI0YWI2YWRkN2FhMzk1NmQwMWE4My5iaW5kUG9wdXAocG9wdXBfYmJiMmMzNGQ1YzFlNDkzYmEwYjNmOTYwNTJlNzY1M2IpOwoKICAgICAgICAgICAgCiAgICAgICAgCiAgICAKICAgICAgICAgICAgdmFyIGNpcmNsZV9tYXJrZXJfOGI0ODM5ZTIyNjFlNGNkODhhZGJiZjBmNWUxMDlhZTEgPSBMLmNpcmNsZU1hcmtlcigKICAgICAgICAgICAgICAgIFs0MC44NTcyNzcxMDA3Mzg5NSwtNzMuODg4NDUxOTYxMzQ4MDRdLAogICAgICAgICAgICAgICAgewogICJidWJibGluZ01vdXNlRXZlbnRzIjogdHJ1ZSwKICAiY29sb3IiOiAiI2ZmYjM2MCIsCiAgImRhc2hBcnJheSI6IG51bGwsCiAgImRhc2hPZmZzZXQiOiBudWxsLAogICJmaWxsIjogdHJ1ZSwKICAiZmlsbENvbG9yIjogIiNmZmIzNjAiLAogICJmaWxsT3BhY2l0eSI6IDAuNywKICAiZmlsbFJ1bGUiOiAiZXZlbm9kZCIsCiAgImxpbmVDYXAiOiAicm91bmQiLAogICJsaW5lSm9pbiI6ICJyb3VuZCIsCiAgIm9wYWNpdHkiOiAxLjAsCiAgInJhZGl1cyI6IDUsCiAgInN0cm9rZSI6IHRydWUsCiAgIndlaWdodCI6IDMKfQogICAgICAgICAgICAgICAgKS5hZGRUbyhtYXBfNzFhYWRhOWI2NGU5NGZhOGFhY2ZjZDdjNzgyZWI1NjEpOwogICAgICAgICAgICAKICAgIAogICAgICAgICAgICB2YXIgcG9wdXBfODczYzE3ZDdmOTIwNDNlMDhiOWU5ZTA1NzA3YTQ2NTAgPSBMLnBvcHVwKHttYXhXaWR0aDogJzMwMCd9KTsKCiAgICAgICAgICAgIAogICAgICAgICAgICAgICAgdmFyIGh0bWxfNjA2ZDk2ZjQxM2QxNDJhZWFiMzBmZGU5ODE0NmMyYjMgPSAkKCc8ZGl2IGlkPSJodG1sXzYwNmQ5NmY0MTNkMTQyYWVhYjMwZmRlOTgxNDZjMmIzIiBzdHlsZT0id2lkdGg6IDEwMC4wJTsgaGVpZ2h0OiAxMDAuMCU7Ij5CZWxtb250IENsdXN0ZXIgNDwvZGl2PicpWzBdOwogICAgICAgICAgICAgICAgcG9wdXBfODczYzE3ZDdmOTIwNDNlMDhiOWU5ZTA1NzA3YTQ2NTAuc2V0Q29udGVudChodG1sXzYwNmQ5NmY0MTNkMTQyYWVhYjMwZmRlOTgxNDZjMmIzKTsKICAgICAgICAgICAgCgogICAgICAgICAgICBjaXJjbGVfbWFya2VyXzhiNDgzOWUyMjYxZTRjZDg4YWRiYmYwZjVlMTA5YWUxLmJpbmRQb3B1cChwb3B1cF84NzNjMTdkN2Y5MjA0M2UwOGI5ZTllMDU3MDdhNDY1MCk7CgogICAgICAgICAgICAKICAgICAgICAKICAgIAogICAgICAgICAgICB2YXIgY2lyY2xlX21hcmtlcl9jOGU0MmZkNjM5OWE0MzAzOWFlMGVkNmE5MjU5Yjg4ZCA9IEwuY2lyY2xlTWFya2VyKAogICAgICAgICAgICAgICAgWzQwLjg4MTM5NDk3NzI3MDg2LC03My45MTcxOTA0ODIxMDM5M10sCiAgICAgICAgICAgICAgICB7CiAgImJ1YmJsaW5nTW91c2VFdmVudHMiOiB0cnVlLAogICJjb2xvciI6ICIjZmZiMzYwIiwKICAiZGFzaEFycmF5IjogbnVsbCwKICAiZGFzaE9mZnNldCI6IG51bGwsCiAgImZpbGwiOiB0cnVlLAogICJmaWxsQ29sb3IiOiAiI2ZmYjM2MCIsCiAgImZpbGxPcGFjaXR5IjogMC43LAogICJmaWxsUnVsZSI6ICJldmVub2RkIiwKICAibGluZUNhcCI6ICJyb3VuZCIsCiAgImxpbmVKb2luIjogInJvdW5kIiwKICAib3BhY2l0eSI6IDEuMCwKICAicmFkaXVzIjogNSwKICAic3Ryb2tlIjogdHJ1ZSwKICAid2VpZ2h0IjogMwp9CiAgICAgICAgICAgICAgICApLmFkZFRvKG1hcF83MWFhZGE5YjY0ZTk0ZmE4YWFjZmNkN2M3ODJlYjU2MSk7CiAgICAgICAgICAgIAogICAgCiAgICAgICAgICAgIHZhciBwb3B1cF9jZDYyNDMxNjgyNGY0YmU3OGE2ZjAwMmEzZjliNGY3MCA9IEwucG9wdXAoe21heFdpZHRoOiAnMzAwJ30pOwoKICAgICAgICAgICAgCiAgICAgICAgICAgICAgICB2YXIgaHRtbF8yOWE4NWUyN2NkYjk0ODAxYjVlODg4M2VmYTc3Y2RiYSA9ICQoJzxkaXYgaWQ9Imh0bWxfMjlhODVlMjdjZGI5NDgwMWI1ZTg4ODNlZmE3N2NkYmEiIHN0eWxlPSJ3aWR0aDogMTAwLjAlOyBoZWlnaHQ6IDEwMC4wJTsiPlNwdXl0ZW4gRHV5dmlsIENsdXN0ZXIgNDwvZGl2PicpWzBdOwogICAgICAgICAgICAgICAgcG9wdXBfY2Q2MjQzMTY4MjRmNGJlNzhhNmYwMDJhM2Y5YjRmNzAuc2V0Q29udGVudChodG1sXzI5YTg1ZTI3Y2RiOTQ4MDFiNWU4ODgzZWZhNzdjZGJhKTsKICAgICAgICAgICAgCgogICAgICAgICAgICBjaXJjbGVfbWFya2VyX2M4ZTQyZmQ2Mzk5YTQzMDM5YWUwZWQ2YTkyNTliODhkLmJpbmRQb3B1cChwb3B1cF9jZDYyNDMxNjgyNGY0YmU3OGE2ZjAwMmEzZjliNGY3MCk7CgogICAgICAgICAgICAKICAgICAgICAKICAgIAogICAgICAgICAgICB2YXIgY2lyY2xlX21hcmtlcl9jNzk0MGMwYjJiMWQ0YWIyODQwOTA0ZjEyZjQxNjgwNSA9IEwuY2lyY2xlTWFya2VyKAogICAgICAgICAgICAgICAgWzQwLjkwODU0MjgyOTUwNjY2LC03My45MDQ1MzA1NDkwODkyN10sCiAgICAgICAgICAgICAgICB7CiAgImJ1YmJsaW5nTW91c2VFdmVudHMiOiB0cnVlLAogICJjb2xvciI6ICIjZmZiMzYwIiwKICAiZGFzaEFycmF5IjogbnVsbCwKICAiZGFzaE9mZnNldCI6IG51bGwsCiAgImZpbGwiOiB0cnVlLAogICJmaWxsQ29sb3IiOiAiI2ZmYjM2MCIsCiAgImZpbGxPcGFjaXR5IjogMC43LAogICJmaWxsUnVsZSI6ICJldmVub2RkIiwKICAibGluZUNhcCI6ICJyb3VuZCIsCiAgImxpbmVKb2luIjogInJvdW5kIiwKICAib3BhY2l0eSI6IDEuMCwKICAicmFkaXVzIjogNSwKICAic3Ryb2tlIjogdHJ1ZSwKICAid2VpZ2h0IjogMwp9CiAgICAgICAgICAgICAgICApLmFkZFRvKG1hcF83MWFhZGE5YjY0ZTk0ZmE4YWFjZmNkN2M3ODJlYjU2MSk7CiAgICAgICAgICAgIAogICAgCiAgICAgICAgICAgIHZhciBwb3B1cF9jYWQ4NGFlYmZjODY0YzdhOGMzNTFhZWY3YWEzNDIyMSA9IEwucG9wdXAoe21heFdpZHRoOiAnMzAwJ30pOwoKICAgICAgICAgICAgCiAgICAgICAgICAgICAgICB2YXIgaHRtbF84OTE1NmM2MzJiYWY0ZGNmYWQ2MGEzMTEyYjdiYzkxYyA9ICQoJzxkaXYgaWQ9Imh0bWxfODkxNTZjNjMyYmFmNGRjZmFkNjBhMzExMmI3YmM5MWMiIHN0eWxlPSJ3aWR0aDogMTAwLjAlOyBoZWlnaHQ6IDEwMC4wJTsiPk5vcnRoIFJpdmVyZGFsZSBDbHVzdGVyIDQ8L2Rpdj4nKVswXTsKICAgICAgICAgICAgICAgIHBvcHVwX2NhZDg0YWViZmM4NjRjN2E4YzM1MWFlZjdhYTM0MjIxLnNldENvbnRlbnQoaHRtbF84OTE1NmM2MzJiYWY0ZGNmYWQ2MGEzMTEyYjdiYzkxYyk7CiAgICAgICAgICAgIAoKICAgICAgICAgICAgY2lyY2xlX21hcmtlcl9jNzk0MGMwYjJiMWQ0YWIyODQwOTA0ZjEyZjQxNjgwNS5iaW5kUG9wdXAocG9wdXBfY2FkODRhZWJmYzg2NGM3YThjMzUxYWVmN2FhMzQyMjEpOwoKICAgICAgICAgICAgCiAgICAgICAgCiAgICAKICAgICAgICAgICAgdmFyIGNpcmNsZV9tYXJrZXJfZjZmNGVmY2QwOTU4NDk0NDg5YWE0N2M3NTUzYzJjZWQgPSBMLmNpcmNsZU1hcmtlcigKICAgICAgICAgICAgICAgIFs0MC44NTA2NDE0MDk0MDMzNSwtNzMuODMyMDczNzgyNDA0N10sCiAgICAgICAgICAgICAgICB7CiAgImJ1YmJsaW5nTW91c2VFdmVudHMiOiB0cnVlLAogICJjb2xvciI6ICIjZmZiMzYwIiwKICAiZGFzaEFycmF5IjogbnVsbCwKICAiZGFzaE9mZnNldCI6IG51bGwsCiAgImZpbGwiOiB0cnVlLAogICJmaWxsQ29sb3IiOiAiI2ZmYjM2MCIsCiAgImZpbGxPcGFjaXR5IjogMC43LAogICJmaWxsUnVsZSI6ICJldmVub2RkIiwKICAibGluZUNhcCI6ICJyb3VuZCIsCiAgImxpbmVKb2luIjogInJvdW5kIiwKICAib3BhY2l0eSI6IDEuMCwKICAicmFkaXVzIjogNSwKICAic3Ryb2tlIjogdHJ1ZSwKICAid2VpZ2h0IjogMwp9CiAgICAgICAgICAgICAgICApLmFkZFRvKG1hcF83MWFhZGE5YjY0ZTk0ZmE4YWFjZmNkN2M3ODJlYjU2MSk7CiAgICAgICAgICAgIAogICAgCiAgICAgICAgICAgIHZhciBwb3B1cF8yNWQ5NjI1ZDIwYWY0MjVhOGM0ZTMwMTkwMzkyNzI4YSA9IEwucG9wdXAoe21heFdpZHRoOiAnMzAwJ30pOwoKICAgICAgICAgICAgCiAgICAgICAgICAgICAgICB2YXIgaHRtbF9mMDVhZDdjODZiZTg0ZTMxOGY4MGNmZTI0ZThhOGUwNSA9ICQoJzxkaXYgaWQ9Imh0bWxfZjA1YWQ3Yzg2YmU4NGUzMThmODBjZmUyNGU4YThlMDUiIHN0eWxlPSJ3aWR0aDogMTAwLjAlOyBoZWlnaHQ6IDEwMC4wJTsiPlBlbGhhbSBCYXkgQ2x1c3RlciA0PC9kaXY+JylbMF07CiAgICAgICAgICAgICAgICBwb3B1cF8yNWQ5NjI1ZDIwYWY0MjVhOGM0ZTMwMTkwMzkyNzI4YS5zZXRDb250ZW50KGh0bWxfZjA1YWQ3Yzg2YmU4NGUzMThmODBjZmUyNGU4YThlMDUpOwogICAgICAgICAgICAKCiAgICAgICAgICAgIGNpcmNsZV9tYXJrZXJfZjZmNGVmY2QwOTU4NDk0NDg5YWE0N2M3NTUzYzJjZWQuYmluZFBvcHVwKHBvcHVwXzI1ZDk2MjVkMjBhZjQyNWE4YzRlMzAxOTAzOTI3MjhhKTsKCiAgICAgICAgICAgIAogICAgICAgIAogICAgCiAgICAgICAgICAgIHZhciBjaXJjbGVfbWFya2VyXzJmYzVkYTdiMDQ1YjQyNmRiZjE3MDE2OWIyZDc1ZGMyID0gTC5jaXJjbGVNYXJrZXIoCiAgICAgICAgICAgICAgICBbNDAuODI2NTc5NTE2ODY5MjIsLTczLjgyNjIwMjc1OTk0MDczXSwKICAgICAgICAgICAgICAgIHsKICAiYnViYmxpbmdNb3VzZUV2ZW50cyI6IHRydWUsCiAgImNvbG9yIjogIiNmZmIzNjAiLAogICJkYXNoQXJyYXkiOiBudWxsLAogICJkYXNoT2Zmc2V0IjogbnVsbCwKICAiZmlsbCI6IHRydWUsCiAgImZpbGxDb2xvciI6ICIjZmZiMzYwIiwKICAiZmlsbE9wYWNpdHkiOiAwLjcsCiAgImZpbGxSdWxlIjogImV2ZW5vZGQiLAogICJsaW5lQ2FwIjogInJvdW5kIiwKICAibGluZUpvaW4iOiAicm91bmQiLAogICJvcGFjaXR5IjogMS4wLAogICJyYWRpdXMiOiA1LAogICJzdHJva2UiOiB0cnVlLAogICJ3ZWlnaHQiOiAzCn0KICAgICAgICAgICAgICAgICkuYWRkVG8obWFwXzcxYWFkYTliNjRlOTRmYThhYWNmY2Q3Yzc4MmViNTYxKTsKICAgICAgICAgICAgCiAgICAKICAgICAgICAgICAgdmFyIHBvcHVwX2RiODBjM2MxY2M4YjQ4NDA4ZTgwYWE5Yzc4NTc3ZWVjID0gTC5wb3B1cCh7bWF4V2lkdGg6ICczMDAnfSk7CgogICAgICAgICAgICAKICAgICAgICAgICAgICAgIHZhciBodG1sXzVlZjgzNWFlMWE0YTRmYjU4OTBlYzRmZWZhNzUwZWVmID0gJCgnPGRpdiBpZD0iaHRtbF81ZWY4MzVhZTFhNGE0ZmI1ODkwZWM0ZmVmYTc1MGVlZiIgc3R5bGU9IndpZHRoOiAxMDAuMCU7IGhlaWdodDogMTAwLjAlOyI+U2NodXlsZXJ2aWxsZSBDbHVzdGVyIDQ8L2Rpdj4nKVswXTsKICAgICAgICAgICAgICAgIHBvcHVwX2RiODBjM2MxY2M4YjQ4NDA4ZTgwYWE5Yzc4NTc3ZWVjLnNldENvbnRlbnQoaHRtbF81ZWY4MzVhZTFhNGE0ZmI1ODkwZWM0ZmVmYTc1MGVlZik7CiAgICAgICAgICAgIAoKICAgICAgICAgICAgY2lyY2xlX21hcmtlcl8yZmM1ZGE3YjA0NWI0MjZkYmYxNzAxNjliMmQ3NWRjMi5iaW5kUG9wdXAocG9wdXBfZGI4MGMzYzFjYzhiNDg0MDhlODBhYTljNzg1NzdlZWMpOwoKICAgICAgICAgICAgCiAgICAgICAgCiAgICAKICAgICAgICAgICAgdmFyIGNpcmNsZV9tYXJrZXJfZjViNmIwZWVjNDcwNDg1MTljYzhjYzE2ZTYzNGVmYjYgPSBMLmNpcmNsZU1hcmtlcigKICAgICAgICAgICAgICAgIFs0MC44MjE5ODYxMTgxNjM0OTQsLTczLjgxMzg4NTE0NDI4NjE5XSwKICAgICAgICAgICAgICAgIHsKICAiYnViYmxpbmdNb3VzZUV2ZW50cyI6IHRydWUsCiAgImNvbG9yIjogIiNmZmIzNjAiLAogICJkYXNoQXJyYXkiOiBudWxsLAogICJkYXNoT2Zmc2V0IjogbnVsbCwKICAiZmlsbCI6IHRydWUsCiAgImZpbGxDb2xvciI6ICIjZmZiMzYwIiwKICAiZmlsbE9wYWNpdHkiOiAwLjcsCiAgImZpbGxSdWxlIjogImV2ZW5vZGQiLAogICJsaW5lQ2FwIjogInJvdW5kIiwKICAibGluZUpvaW4iOiAicm91bmQiLAogICJvcGFjaXR5IjogMS4wLAogICJyYWRpdXMiOiA1LAogICJzdHJva2UiOiB0cnVlLAogICJ3ZWlnaHQiOiAzCn0KICAgICAgICAgICAgICAgICkuYWRkVG8obWFwXzcxYWFkYTliNjRlOTRmYThhYWNmY2Q3Yzc4MmViNTYxKTsKICAgICAgICAgICAgCiAgICAKICAgICAgICAgICAgdmFyIHBvcHVwX2M4OTkwM2Q5MTM0NjRhMDdhZTFhZGY3NWU5OTMyNjAxID0gTC5wb3B1cCh7bWF4V2lkdGg6ICczMDAnfSk7CgogICAgICAgICAgICAKICAgICAgICAgICAgICAgIHZhciBodG1sXzA0Y2ZlODFjYWQwOTRmOGI4ZWQ4YjgwMTFlOWFlNTI1ID0gJCgnPGRpdiBpZD0iaHRtbF8wNGNmZTgxY2FkMDk0ZjhiOGVkOGI4MDExZTlhZTUyNSIgc3R5bGU9IndpZHRoOiAxMDAuMCU7IGhlaWdodDogMTAwLjAlOyI+RWRnZXdhdGVyIFBhcmsgQ2x1c3RlciA0PC9kaXY+JylbMF07CiAgICAgICAgICAgICAgICBwb3B1cF9jODk5MDNkOTEzNDY0YTA3YWUxYWRmNzVlOTkzMjYwMS5zZXRDb250ZW50KGh0bWxfMDRjZmU4MWNhZDA5NGY4YjhlZDhiODAxMWU5YWU1MjUpOwogICAgICAgICAgICAKCiAgICAgICAgICAgIGNpcmNsZV9tYXJrZXJfZjViNmIwZWVjNDcwNDg1MTljYzhjYzE2ZTYzNGVmYjYuYmluZFBvcHVwKHBvcHVwX2M4OTkwM2Q5MTM0NjRhMDdhZTFhZGY3NWU5OTMyNjAxKTsKCiAgICAgICAgICAgIAogICAgICAgIAogICAgCiAgICAgICAgICAgIHZhciBjaXJjbGVfbWFya2VyX2ZkOTkzMjVjYTQxMTRhZjViNzI2MjA3YmViMDY1NGZhID0gTC5jaXJjbGVNYXJrZXIoCiAgICAgICAgICAgICAgICBbNDAuODE5MDE0Mzc2OTg4MzE0LC03My44NDgwMjcyOTU4MjczNV0sCiAgICAgICAgICAgICAgICB7CiAgImJ1YmJsaW5nTW91c2VFdmVudHMiOiB0cnVlLAogICJjb2xvciI6ICIjZmZiMzYwIiwKICAiZGFzaEFycmF5IjogbnVsbCwKICAiZGFzaE9mZnNldCI6IG51bGwsCiAgImZpbGwiOiB0cnVlLAogICJmaWxsQ29sb3IiOiAiI2ZmYjM2MCIsCiAgImZpbGxPcGFjaXR5IjogMC43LAogICJmaWxsUnVsZSI6ICJldmVub2RkIiwKICAibGluZUNhcCI6ICJyb3VuZCIsCiAgImxpbmVKb2luIjogInJvdW5kIiwKICAib3BhY2l0eSI6IDEuMCwKICAicmFkaXVzIjogNSwKICAic3Ryb2tlIjogdHJ1ZSwKICAid2VpZ2h0IjogMwp9CiAgICAgICAgICAgICAgICApLmFkZFRvKG1hcF83MWFhZGE5YjY0ZTk0ZmE4YWFjZmNkN2M3ODJlYjU2MSk7CiAgICAgICAgICAgIAogICAgCiAgICAgICAgICAgIHZhciBwb3B1cF80OTUwODY1YTYzNmM0ZTg1OTEwNTJlNGY2NTVjNDkzOCA9IEwucG9wdXAoe21heFdpZHRoOiAnMzAwJ30pOwoKICAgICAgICAgICAgCiAgICAgICAgICAgICAgICB2YXIgaHRtbF81ODdmNWQzYjBkZjQ0MGFhOTNmZTEzMDg1NDA1MDU4YSA9ICQoJzxkaXYgaWQ9Imh0bWxfNTg3ZjVkM2IwZGY0NDBhYTkzZmUxMzA4NTQwNTA1OGEiIHN0eWxlPSJ3aWR0aDogMTAwLjAlOyBoZWlnaHQ6IDEwMC4wJTsiPkNhc3RsZSBIaWxsIENsdXN0ZXIgNDwvZGl2PicpWzBdOwogICAgICAgICAgICAgICAgcG9wdXBfNDk1MDg2NWE2MzZjNGU4NTkxMDUyZTRmNjU1YzQ5Mzguc2V0Q29udGVudChodG1sXzU4N2Y1ZDNiMGRmNDQwYWE5M2ZlMTMwODU0MDUwNThhKTsKICAgICAgICAgICAgCgogICAgICAgICAgICBjaXJjbGVfbWFya2VyX2ZkOTkzMjVjYTQxMTRhZjViNzI2MjA3YmViMDY1NGZhLmJpbmRQb3B1cChwb3B1cF80OTUwODY1YTYzNmM0ZTg1OTEwNTJlNGY2NTVjNDkzOCk7CgogICAgICAgICAgICAKICAgICAgICAKICAgIAogICAgICAgICAgICB2YXIgY2lyY2xlX21hcmtlcl9jYzNlNzMzNDBhYjM0YjQ0YTM1MDIyYWY2ZGY3MzQ5ZCA9IEwuY2lyY2xlTWFya2VyKAogICAgICAgICAgICAgICAgWzQwLjg3MTM3MDc4MTkyMzcxLC03My44NjMzMjM2MTY1Mjc3N10sCiAgICAgICAgICAgICAgICB7CiAgImJ1YmJsaW5nTW91c2VFdmVudHMiOiB0cnVlLAogICJjb2xvciI6ICIjZmZiMzYwIiwKICAiZGFzaEFycmF5IjogbnVsbCwKICAiZGFzaE9mZnNldCI6IG51bGwsCiAgImZpbGwiOiB0cnVlLAogICJmaWxsQ29sb3IiOiAiI2ZmYjM2MCIsCiAgImZpbGxPcGFjaXR5IjogMC43LAogICJmaWxsUnVsZSI6ICJldmVub2RkIiwKICAibGluZUNhcCI6ICJyb3VuZCIsCiAgImxpbmVKb2luIjogInJvdW5kIiwKICAib3BhY2l0eSI6IDEuMCwKICAicmFkaXVzIjogNSwKICAic3Ryb2tlIjogdHJ1ZSwKICAid2VpZ2h0IjogMwp9CiAgICAgICAgICAgICAgICApLmFkZFRvKG1hcF83MWFhZGE5YjY0ZTk0ZmE4YWFjZmNkN2M3ODJlYjU2MSk7CiAgICAgICAgICAgIAogICAgCiAgICAgICAgICAgIHZhciBwb3B1cF81YzdjNzViY2M3NTk0NDFhOTMxNzkxODk3MTNhZTc3NCA9IEwucG9wdXAoe21heFdpZHRoOiAnMzAwJ30pOwoKICAgICAgICAgICAgCiAgICAgICAgICAgICAgICB2YXIgaHRtbF9jM2I5MmNiMThmMTQ0OTQ3YjQxMmU4NTcwMWFkYjE5YSA9ICQoJzxkaXYgaWQ9Imh0bWxfYzNiOTJjYjE4ZjE0NDk0N2I0MTJlODU3MDFhZGIxOWEiIHN0eWxlPSJ3aWR0aDogMTAwLjAlOyBoZWlnaHQ6IDEwMC4wJTsiPk9saW52aWxsZSBDbHVzdGVyIDQ8L2Rpdj4nKVswXTsKICAgICAgICAgICAgICAgIHBvcHVwXzVjN2M3NWJjYzc1OTQ0MWE5MzE3OTE4OTcxM2FlNzc0LnNldENvbnRlbnQoaHRtbF9jM2I5MmNiMThmMTQ0OTQ3YjQxMmU4NTcwMWFkYjE5YSk7CiAgICAgICAgICAgIAoKICAgICAgICAgICAgY2lyY2xlX21hcmtlcl9jYzNlNzMzNDBhYjM0YjQ0YTM1MDIyYWY2ZGY3MzQ5ZC5iaW5kUG9wdXAocG9wdXBfNWM3Yzc1YmNjNzU5NDQxYTkzMTc5MTg5NzEzYWU3NzQpOwoKICAgICAgICAgICAgCiAgICAgICAgCiAgICAKICAgICAgICAgICAgdmFyIGNpcmNsZV9tYXJrZXJfMjQ1N2JiZTczOWE1NDBmZmJmNTQ5NDNiMzAwNmVjZTIgPSBMLmNpcmNsZU1hcmtlcigKICAgICAgICAgICAgICAgIFs0MC44NjI5NjU2MjQ3Nzk5OCwtNzMuODQxNjExOTQ4MzEyMjNdLAogICAgICAgICAgICAgICAgewogICJidWJibGluZ01vdXNlRXZlbnRzIjogdHJ1ZSwKICAiY29sb3IiOiAiI2ZmYjM2MCIsCiAgImRhc2hBcnJheSI6IG51bGwsCiAgImRhc2hPZmZzZXQiOiBudWxsLAogICJmaWxsIjogdHJ1ZSwKICAiZmlsbENvbG9yIjogIiNmZmIzNjAiLAogICJmaWxsT3BhY2l0eSI6IDAuNywKICAiZmlsbFJ1bGUiOiAiZXZlbm9kZCIsCiAgImxpbmVDYXAiOiAicm91bmQiLAogICJsaW5lSm9pbiI6ICJyb3VuZCIsCiAgIm9wYWNpdHkiOiAxLjAsCiAgInJhZGl1cyI6IDUsCiAgInN0cm9rZSI6IHRydWUsCiAgIndlaWdodCI6IDMKfQogICAgICAgICAgICAgICAgKS5hZGRUbyhtYXBfNzFhYWRhOWI2NGU5NGZhOGFhY2ZjZDdjNzgyZWI1NjEpOwogICAgICAgICAgICAKICAgIAogICAgICAgICAgICB2YXIgcG9wdXBfMDU3Yjg4OGQ2ZmFjNGNlYzk3YmU0NTUxMDg5ZGM5NmMgPSBMLnBvcHVwKHttYXhXaWR0aDogJzMwMCd9KTsKCiAgICAgICAgICAgIAogICAgICAgICAgICAgICAgdmFyIGh0bWxfZTkxNTM3YjllMWY5NDM3YmEwM2MwMWYxZTM5ZjRjYzEgPSAkKCc8ZGl2IGlkPSJodG1sX2U5MTUzN2I5ZTFmOTQzN2JhMDNjMDFmMWUzOWY0Y2MxIiBzdHlsZT0id2lkdGg6IDEwMC4wJTsgaGVpZ2h0OiAxMDAuMCU7Ij5QZWxoYW0gR2FyZGVucyBDbHVzdGVyIDQ8L2Rpdj4nKVswXTsKICAgICAgICAgICAgICAgIHBvcHVwXzA1N2I4ODhkNmZhYzRjZWM5N2JlNDU1MTA4OWRjOTZjLnNldENvbnRlbnQoaHRtbF9lOTE1MzdiOWUxZjk0MzdiYTAzYzAxZjFlMzlmNGNjMSk7CiAgICAgICAgICAgIAoKICAgICAgICAgICAgY2lyY2xlX21hcmtlcl8yNDU3YmJlNzM5YTU0MGZmYmY1NDk0M2IzMDA2ZWNlMi5iaW5kUG9wdXAocG9wdXBfMDU3Yjg4OGQ2ZmFjNGNlYzk3YmU0NTUxMDg5ZGM5NmMpOwoKICAgICAgICAgICAgCiAgICAgICAgCiAgICAKICAgICAgICAgICAgdmFyIGNpcmNsZV9tYXJrZXJfNmU4ZjIyZTYwZWNmNDNlNjg3MGI1OTQ3NGI0MDkxNGQgPSBMLmNpcmNsZU1hcmtlcigKICAgICAgICAgICAgICAgIFs0MC44MzQyODM4MDczMzg1MSwtNzMuOTE1NTg5NDE3NzM0NDRdLAogICAgICAgICAgICAgICAgewogICJidWJibGluZ01vdXNlRXZlbnRzIjogdHJ1ZSwKICAiY29sb3IiOiAiI2ZmYjM2MCIsCiAgImRhc2hBcnJheSI6IG51bGwsCiAgImRhc2hPZmZzZXQiOiBudWxsLAogICJmaWxsIjogdHJ1ZSwKICAiZmlsbENvbG9yIjogIiNmZmIzNjAiLAogICJmaWxsT3BhY2l0eSI6IDAuNywKICAiZmlsbFJ1bGUiOiAiZXZlbm9kZCIsCiAgImxpbmVDYXAiOiAicm91bmQiLAogICJsaW5lSm9pbiI6ICJyb3VuZCIsCiAgIm9wYWNpdHkiOiAxLjAsCiAgInJhZGl1cyI6IDUsCiAgInN0cm9rZSI6IHRydWUsCiAgIndlaWdodCI6IDMKfQogICAgICAgICAgICAgICAgKS5hZGRUbyhtYXBfNzFhYWRhOWI2NGU5NGZhOGFhY2ZjZDdjNzgyZWI1NjEpOwogICAgICAgICAgICAKICAgIAogICAgICAgICAgICB2YXIgcG9wdXBfYWIxNjhkZWJkY2NiNDAxN2IwZjhlOGJmMjhiOTk3YjAgPSBMLnBvcHVwKHttYXhXaWR0aDogJzMwMCd9KTsKCiAgICAgICAgICAgIAogICAgICAgICAgICAgICAgdmFyIGh0bWxfMDQ5OGJhNjg3MDM1NDI2ZGFmZTVlMGM1NDQyNzIwOTcgPSAkKCc8ZGl2IGlkPSJodG1sXzA0OThiYTY4NzAzNTQyNmRhZmU1ZTBjNTQ0MjcyMDk3IiBzdHlsZT0id2lkdGg6IDEwMC4wJTsgaGVpZ2h0OiAxMDAuMCU7Ij5Db25jb3Vyc2UgQ2x1c3RlciA0PC9kaXY+JylbMF07CiAgICAgICAgICAgICAgICBwb3B1cF9hYjE2OGRlYmRjY2I0MDE3YjBmOGU4YmYyOGI5OTdiMC5zZXRDb250ZW50KGh0bWxfMDQ5OGJhNjg3MDM1NDI2ZGFmZTVlMGM1NDQyNzIwOTcpOwogICAgICAgICAgICAKCiAgICAgICAgICAgIGNpcmNsZV9tYXJrZXJfNmU4ZjIyZTYwZWNmNDNlNjg3MGI1OTQ3NGI0MDkxNGQuYmluZFBvcHVwKHBvcHVwX2FiMTY4ZGViZGNjYjQwMTdiMGY4ZThiZjI4Yjk5N2IwKTsKCiAgICAgICAgICAgIAogICAgICAgIAogICAgCiAgICAgICAgICAgIHZhciBjaXJjbGVfbWFya2VyXzQ4ZGJjMWY0ZjgxYTRjMjliMDMyOWIwNmYzYzVjMjczID0gTC5jaXJjbGVNYXJrZXIoCiAgICAgICAgICAgICAgICBbNDAuODI5Nzc0Mjk3ODcxNjEsLTczLjg1MDUzNTI0NDUxOTM1XSwKICAgICAgICAgICAgICAgIHsKICAiYnViYmxpbmdNb3VzZUV2ZW50cyI6IHRydWUsCiAgImNvbG9yIjogIiNmZmIzNjAiLAogICJkYXNoQXJyYXkiOiBudWxsLAogICJkYXNoT2Zmc2V0IjogbnVsbCwKICAiZmlsbCI6IHRydWUsCiAgImZpbGxDb2xvciI6ICIjZmZiMzYwIiwKICAiZmlsbE9wYWNpdHkiOiAwLjcsCiAgImZpbGxSdWxlIjogImV2ZW5vZGQiLAogICJsaW5lQ2FwIjogInJvdW5kIiwKICAibGluZUpvaW4iOiAicm91bmQiLAogICJvcGFjaXR5IjogMS4wLAogICJyYWRpdXMiOiA1LAogICJzdHJva2UiOiB0cnVlLAogICJ3ZWlnaHQiOiAzCn0KICAgICAgICAgICAgICAgICkuYWRkVG8obWFwXzcxYWFkYTliNjRlOTRmYThhYWNmY2Q3Yzc4MmViNTYxKTsKICAgICAgICAgICAgCiAgICAKICAgICAgICAgICAgdmFyIHBvcHVwXzEyZDdlZjRlZTllOTQxNmU5NGZkNmJhYTRhZDdhZGI0ID0gTC5wb3B1cCh7bWF4V2lkdGg6ICczMDAnfSk7CgogICAgICAgICAgICAKICAgICAgICAgICAgICAgIHZhciBodG1sXzk2OGFjNDAzNDkzNzRmMDhhMTQyNTZhN2M0NDM2Y2FiID0gJCgnPGRpdiBpZD0iaHRtbF85NjhhYzQwMzQ5Mzc0ZjA4YTE0MjU2YTdjNDQzNmNhYiIgc3R5bGU9IndpZHRoOiAxMDAuMCU7IGhlaWdodDogMTAwLjAlOyI+VW5pb25wb3J0IENsdXN0ZXIgNDwvZGl2PicpWzBdOwogICAgICAgICAgICAgICAgcG9wdXBfMTJkN2VmNGVlOWU5NDE2ZTk0ZmQ2YmFhNGFkN2FkYjQuc2V0Q29udGVudChodG1sXzk2OGFjNDAzNDkzNzRmMDhhMTQyNTZhN2M0NDM2Y2FiKTsKICAgICAgICAgICAgCgogICAgICAgICAgICBjaXJjbGVfbWFya2VyXzQ4ZGJjMWY0ZjgxYTRjMjliMDMyOWIwNmYzYzVjMjczLmJpbmRQb3B1cChwb3B1cF8xMmQ3ZWY0ZWU5ZTk0MTZlOTRmZDZiYWE0YWQ3YWRiNCk7CgogICAgICAgICAgICAKICAgICAgICAKICAgIAogICAgICAgICAgICB2YXIgY2lyY2xlX21hcmtlcl82YzNiNGZjNzcxMGY0YjAxOGRhZmIyYzc0MzBiODg1MyA9IEwuY2lyY2xlTWFya2VyKAogICAgICAgICAgICAgICAgWzQwLjg4NDU2MTMwMzAzNzMyLC03My44NDgwODI3MTg3NzE2OF0sCiAgICAgICAgICAgICAgICB7CiAgImJ1YmJsaW5nTW91c2VFdmVudHMiOiB0cnVlLAogICJjb2xvciI6ICIjZmZiMzYwIiwKICAiZGFzaEFycmF5IjogbnVsbCwKICAiZGFzaE9mZnNldCI6IG51bGwsCiAgImZpbGwiOiB0cnVlLAogICJmaWxsQ29sb3IiOiAiI2ZmYjM2MCIsCiAgImZpbGxPcGFjaXR5IjogMC43LAogICJmaWxsUnVsZSI6ICJldmVub2RkIiwKICAibGluZUNhcCI6ICJyb3VuZCIsCiAgImxpbmVKb2luIjogInJvdW5kIiwKICAib3BhY2l0eSI6IDEuMCwKICAicmFkaXVzIjogNSwKICAic3Ryb2tlIjogdHJ1ZSwKICAid2VpZ2h0IjogMwp9CiAgICAgICAgICAgICAgICApLmFkZFRvKG1hcF83MWFhZGE5YjY0ZTk0ZmE4YWFjZmNkN2M3ODJlYjU2MSk7CiAgICAgICAgICAgIAogICAgCiAgICAgICAgICAgIHZhciBwb3B1cF83MTBiOGEzMjk1M2U0MmFjODZmNjFmOGFjN2VkMjlkMyA9IEwucG9wdXAoe21heFdpZHRoOiAnMzAwJ30pOwoKICAgICAgICAgICAgCiAgICAgICAgICAgICAgICB2YXIgaHRtbF82MTUxZGM4YzhiMzA0ZWI4OGY4NTAwMGQ0MjdlODE2YiA9ICQoJzxkaXYgaWQ9Imh0bWxfNjE1MWRjOGM4YjMwNGViODhmODUwMDBkNDI3ZTgxNmIiIHN0eWxlPSJ3aWR0aDogMTAwLjAlOyBoZWlnaHQ6IDEwMC4wJTsiPkVkZW53YWxkIENsdXN0ZXIgNDwvZGl2PicpWzBdOwogICAgICAgICAgICAgICAgcG9wdXBfNzEwYjhhMzI5NTNlNDJhYzg2ZjYxZjhhYzdlZDI5ZDMuc2V0Q29udGVudChodG1sXzYxNTFkYzhjOGIzMDRlYjg4Zjg1MDAwZDQyN2U4MTZiKTsKICAgICAgICAgICAgCgogICAgICAgICAgICBjaXJjbGVfbWFya2VyXzZjM2I0ZmM3NzEwZjRiMDE4ZGFmYjJjNzQzMGI4ODUzLmJpbmRQb3B1cChwb3B1cF83MTBiOGEzMjk1M2U0MmFjODZmNjFmOGFjN2VkMjlkMyk7CgogICAgICAgICAgICAKICAgICAgICAKICAgIAogICAgICAgICAgICB2YXIgY2lyY2xlX21hcmtlcl9jYmNmY2I1NzUyMGU0M2FkYjc4NDZjMmVlYWNiOGFlZCA9IEwuY2lyY2xlTWFya2VyKAogICAgICAgICAgICAgICAgWzQwLjYyNTgwMTA2NTAxMDY1NiwtNzQuMDMwNjIwNjkzNTM4MTNdLAogICAgICAgICAgICAgICAgewogICJidWJibGluZ01vdXNlRXZlbnRzIjogdHJ1ZSwKICAiY29sb3IiOiAiIzgwZmZiNCIsCiAgImRhc2hBcnJheSI6IG51bGwsCiAgImRhc2hPZmZzZXQiOiBudWxsLAogICJmaWxsIjogdHJ1ZSwKICAiZmlsbENvbG9yIjogIiM4MGZmYjQiLAogICJmaWxsT3BhY2l0eSI6IDAuNywKICAiZmlsbFJ1bGUiOiAiZXZlbm9kZCIsCiAgImxpbmVDYXAiOiAicm91bmQiLAogICJsaW5lSm9pbiI6ICJyb3VuZCIsCiAgIm9wYWNpdHkiOiAxLjAsCiAgInJhZGl1cyI6IDUsCiAgInN0cm9rZSI6IHRydWUsCiAgIndlaWdodCI6IDMKfQogICAgICAgICAgICAgICAgKS5hZGRUbyhtYXBfNzFhYWRhOWI2NGU5NGZhOGFhY2ZjZDdjNzgyZWI1NjEpOwogICAgICAgICAgICAKICAgIAogICAgICAgICAgICB2YXIgcG9wdXBfOGRhYzM2M2EyNDY5NDI4NjhlZmJjYTllNDY0N2I3ZTcgPSBMLnBvcHVwKHttYXhXaWR0aDogJzMwMCd9KTsKCiAgICAgICAgICAgIAogICAgICAgICAgICAgICAgdmFyIGh0bWxfNjY2MDAxYjJhOWE3NGQyYzg1Y2JmNWIxYWE4MTUzZjcgPSAkKCc8ZGl2IGlkPSJodG1sXzY2NjAwMWIyYTlhNzRkMmM4NWNiZjViMWFhODE1M2Y3IiBzdHlsZT0id2lkdGg6IDEwMC4wJTsgaGVpZ2h0OiAxMDAuMCU7Ij5CYXkgUmlkZ2UgQ2x1c3RlciAzPC9kaXY+JylbMF07CiAgICAgICAgICAgICAgICBwb3B1cF84ZGFjMzYzYTI0Njk0Mjg2OGVmYmNhOWU0NjQ3YjdlNy5zZXRDb250ZW50KGh0bWxfNjY2MDAxYjJhOWE3NGQyYzg1Y2JmNWIxYWE4MTUzZjcpOwogICAgICAgICAgICAKCiAgICAgICAgICAgIGNpcmNsZV9tYXJrZXJfY2JjZmNiNTc1MjBlNDNhZGI3ODQ2YzJlZWFjYjhhZWQuYmluZFBvcHVwKHBvcHVwXzhkYWMzNjNhMjQ2OTQyODY4ZWZiY2E5ZTQ2NDdiN2U3KTsKCiAgICAgICAgICAgIAogICAgICAgIAogICAgCiAgICAgICAgICAgIHZhciBjaXJjbGVfbWFya2VyXzUzOGU5YWU3ZTZiYjQwMDE5NDVjZDE4MzJiMThhYmE1ID0gTC5jaXJjbGVNYXJrZXIoCiAgICAgICAgICAgICAgICBbNDAuNjExMDA4OTAyMDIwNDQsLTczLjk5NTE3OTk4MzgwNzI5XSwKICAgICAgICAgICAgICAgIHsKICAiYnViYmxpbmdNb3VzZUV2ZW50cyI6IHRydWUsCiAgImNvbG9yIjogIiM4MGZmYjQiLAogICJkYXNoQXJyYXkiOiBudWxsLAogICJkYXNoT2Zmc2V0IjogbnVsbCwKICAiZmlsbCI6IHRydWUsCiAgImZpbGxDb2xvciI6ICIjODBmZmI0IiwKICAiZmlsbE9wYWNpdHkiOiAwLjcsCiAgImZpbGxSdWxlIjogImV2ZW5vZGQiLAogICJsaW5lQ2FwIjogInJvdW5kIiwKICAibGluZUpvaW4iOiAicm91bmQiLAogICJvcGFjaXR5IjogMS4wLAogICJyYWRpdXMiOiA1LAogICJzdHJva2UiOiB0cnVlLAogICJ3ZWlnaHQiOiAzCn0KICAgICAgICAgICAgICAgICkuYWRkVG8obWFwXzcxYWFkYTliNjRlOTRmYThhYWNmY2Q3Yzc4MmViNTYxKTsKICAgICAgICAgICAgCiAgICAKICAgICAgICAgICAgdmFyIHBvcHVwX2JlNzg0ZGI4NTg1MjQwYTdhNDgyMGE1OGYwZjZiOWVhID0gTC5wb3B1cCh7bWF4V2lkdGg6ICczMDAnfSk7CgogICAgICAgICAgICAKICAgICAgICAgICAgICAgIHZhciBodG1sXzBlNzY4NGIxY2ExODQzNzFhODYyODA0NmUwNzExMGM5ID0gJCgnPGRpdiBpZD0iaHRtbF8wZTc2ODRiMWNhMTg0MzcxYTg2MjgwNDZlMDcxMTBjOSIgc3R5bGU9IndpZHRoOiAxMDAuMCU7IGhlaWdodDogMTAwLjAlOyI+QmVuc29uaHVyc3QgQ2x1c3RlciAzPC9kaXY+JylbMF07CiAgICAgICAgICAgICAgICBwb3B1cF9iZTc4NGRiODU4NTI0MGE3YTQ4MjBhNThmMGY2YjllYS5zZXRDb250ZW50KGh0bWxfMGU3Njg0YjFjYTE4NDM3MWE4NjI4MDQ2ZTA3MTEwYzkpOwogICAgICAgICAgICAKCiAgICAgICAgICAgIGNpcmNsZV9tYXJrZXJfNTM4ZTlhZTdlNmJiNDAwMTk0NWNkMTgzMmIxOGFiYTUuYmluZFBvcHVwKHBvcHVwX2JlNzg0ZGI4NTg1MjQwYTdhNDgyMGE1OGYwZjZiOWVhKTsKCiAgICAgICAgICAgIAogICAgICAgIAogICAgCiAgICAgICAgICAgIHZhciBjaXJjbGVfbWFya2VyX2Q2NTlmMTJmN2MyNjQ3Yzk5ZTNmNTUxNjQ0MmM2NGUwID0gTC5jaXJjbGVNYXJrZXIoCiAgICAgICAgICAgICAgICBbNDAuNjQ1MTAyOTQ5MjU0MjksLTc0LjAxMDMxNjE4NTI3Nzg0XSwKICAgICAgICAgICAgICAgIHsKICAiYnViYmxpbmdNb3VzZUV2ZW50cyI6IHRydWUsCiAgImNvbG9yIjogIiM4MGZmYjQiLAogICJkYXNoQXJyYXkiOiBudWxsLAogICJkYXNoT2Zmc2V0IjogbnVsbCwKICAiZmlsbCI6IHRydWUsCiAgImZpbGxDb2xvciI6ICIjODBmZmI0IiwKICAiZmlsbE9wYWNpdHkiOiAwLjcsCiAgImZpbGxSdWxlIjogImV2ZW5vZGQiLAogICJsaW5lQ2FwIjogInJvdW5kIiwKICAibGluZUpvaW4iOiAicm91bmQiLAogICJvcGFjaXR5IjogMS4wLAogICJyYWRpdXMiOiA1LAogICJzdHJva2UiOiB0cnVlLAogICJ3ZWlnaHQiOiAzCn0KICAgICAgICAgICAgICAgICkuYWRkVG8obWFwXzcxYWFkYTliNjRlOTRmYThhYWNmY2Q3Yzc4MmViNTYxKTsKICAgICAgICAgICAgCiAgICAKICAgICAgICAgICAgdmFyIHBvcHVwXzdiZmI5NjRjZjNiYjQyNmE5NDUzODg5NGRkYWRjMzE5ID0gTC5wb3B1cCh7bWF4V2lkdGg6ICczMDAnfSk7CgogICAgICAgICAgICAKICAgICAgICAgICAgICAgIHZhciBodG1sXzEzMjc2ODI4MTEyYjRmY2E4Y2U0OTYxYzliODYzNjNkID0gJCgnPGRpdiBpZD0iaHRtbF8xMzI3NjgyODExMmI0ZmNhOGNlNDk2MWM5Yjg2MzYzZCIgc3R5bGU9IndpZHRoOiAxMDAuMCU7IGhlaWdodDogMTAwLjAlOyI+U3Vuc2V0IFBhcmsgQ2x1c3RlciAzPC9kaXY+JylbMF07CiAgICAgICAgICAgICAgICBwb3B1cF83YmZiOTY0Y2YzYmI0MjZhOTQ1Mzg4OTRkZGFkYzMxOS5zZXRDb250ZW50KGh0bWxfMTMyNzY4MjgxMTJiNGZjYThjZTQ5NjFjOWI4NjM2M2QpOwogICAgICAgICAgICAKCiAgICAgICAgICAgIGNpcmNsZV9tYXJrZXJfZDY1OWYxMmY3YzI2NDdjOTllM2Y1NTE2NDQyYzY0ZTAuYmluZFBvcHVwKHBvcHVwXzdiZmI5NjRjZjNiYjQyNmE5NDUzODg5NGRkYWRjMzE5KTsKCiAgICAgICAgICAgIAogICAgICAgIAogICAgCiAgICAgICAgICAgIHZhciBjaXJjbGVfbWFya2VyXzk5NTAyOTU5NTA3YTQ0MjRiNTBiMDcwNWRmZjE2YzVmID0gTC5jaXJjbGVNYXJrZXIoCiAgICAgICAgICAgICAgICBbNDAuNzMwMjAwOTg0ODY0NywtNzMuOTU0MjQwOTMxMjczOTNdLAogICAgICAgICAgICAgICAgewogICJidWJibGluZ01vdXNlRXZlbnRzIjogdHJ1ZSwKICAiY29sb3IiOiAiIzAwYjVlYiIsCiAgImRhc2hBcnJheSI6IG51bGwsCiAgImRhc2hPZmZzZXQiOiBudWxsLAogICJmaWxsIjogdHJ1ZSwKICAiZmlsbENvbG9yIjogIiMwMGI1ZWIiLAogICJmaWxsT3BhY2l0eSI6IDAuNywKICAiZmlsbFJ1bGUiOiAiZXZlbm9kZCIsCiAgImxpbmVDYXAiOiAicm91bmQiLAogICJsaW5lSm9pbiI6ICJyb3VuZCIsCiAgIm9wYWNpdHkiOiAxLjAsCiAgInJhZGl1cyI6IDUsCiAgInN0cm9rZSI6IHRydWUsCiAgIndlaWdodCI6IDMKfQogICAgICAgICAgICAgICAgKS5hZGRUbyhtYXBfNzFhYWRhOWI2NGU5NGZhOGFhY2ZjZDdjNzgyZWI1NjEpOwogICAgICAgICAgICAKICAgIAogICAgICAgICAgICB2YXIgcG9wdXBfZGQzNDM0NzFmMDg5NGYxMjhkOTgyZDJhNzkyODNmZDEgPSBMLnBvcHVwKHttYXhXaWR0aDogJzMwMCd9KTsKCiAgICAgICAgICAgIAogICAgICAgICAgICAgICAgdmFyIGh0bWxfODM2MjgyMDEzNGM5NGI2ZjhkY2FlZTY3ZGUxZDk2ZjYgPSAkKCc8ZGl2IGlkPSJodG1sXzgzNjI4MjAxMzRjOTRiNmY4ZGNhZWU2N2RlMWQ5NmY2IiBzdHlsZT0id2lkdGg6IDEwMC4wJTsgaGVpZ2h0OiAxMDAuMCU7Ij5HcmVlbnBvaW50IENsdXN0ZXIgMjwvZGl2PicpWzBdOwogICAgICAgICAgICAgICAgcG9wdXBfZGQzNDM0NzFmMDg5NGYxMjhkOTgyZDJhNzkyODNmZDEuc2V0Q29udGVudChodG1sXzgzNjI4MjAxMzRjOTRiNmY4ZGNhZWU2N2RlMWQ5NmY2KTsKICAgICAgICAgICAgCgogICAgICAgICAgICBjaXJjbGVfbWFya2VyXzk5NTAyOTU5NTA3YTQ0MjRiNTBiMDcwNWRmZjE2YzVmLmJpbmRQb3B1cChwb3B1cF9kZDM0MzQ3MWYwODk0ZjEyOGQ5ODJkMmE3OTI4M2ZkMSk7CgogICAgICAgICAgICAKICAgICAgICAKICAgIAogICAgICAgICAgICB2YXIgY2lyY2xlX21hcmtlcl9jNGYxNzYwOWVhNTg0ZGVhYTcwMDQ4MDkxNjliODFjNyA9IEwuY2lyY2xlTWFya2VyKAogICAgICAgICAgICAgICAgWzQwLjU5NTI2MDAxMzA2NTkzLC03My45NzM0NzA4NzcwODQ0NV0sCiAgICAgICAgICAgICAgICB7CiAgImJ1YmJsaW5nTW91c2VFdmVudHMiOiB0cnVlLAogICJjb2xvciI6ICIjODBmZmI0IiwKICAiZGFzaEFycmF5IjogbnVsbCwKICAiZGFzaE9mZnNldCI6IG51bGwsCiAgImZpbGwiOiB0cnVlLAogICJmaWxsQ29sb3IiOiAiIzgwZmZiNCIsCiAgImZpbGxPcGFjaXR5IjogMC43LAogICJmaWxsUnVsZSI6ICJldmVub2RkIiwKICAibGluZUNhcCI6ICJyb3VuZCIsCiAgImxpbmVKb2luIjogInJvdW5kIiwKICAib3BhY2l0eSI6IDEuMCwKICAicmFkaXVzIjogNSwKICAic3Ryb2tlIjogdHJ1ZSwKICAid2VpZ2h0IjogMwp9CiAgICAgICAgICAgICAgICApLmFkZFRvKG1hcF83MWFhZGE5YjY0ZTk0ZmE4YWFjZmNkN2M3ODJlYjU2MSk7CiAgICAgICAgICAgIAogICAgCiAgICAgICAgICAgIHZhciBwb3B1cF80MWZhZThhMmZmY2Y0MzA0OTk2ODZmMTkzZWRkNDE2YiA9IEwucG9wdXAoe21heFdpZHRoOiAnMzAwJ30pOwoKICAgICAgICAgICAgCiAgICAgICAgICAgICAgICB2YXIgaHRtbF9jY2I0NTM3NzhiZjM0OTA1OTc4YjUxOWY4MTdlMzRkYSA9ICQoJzxkaXYgaWQ9Imh0bWxfY2NiNDUzNzc4YmYzNDkwNTk3OGI1MTlmODE3ZTM0ZGEiIHN0eWxlPSJ3aWR0aDogMTAwLjAlOyBoZWlnaHQ6IDEwMC4wJTsiPkdyYXZlc2VuZCBDbHVzdGVyIDM8L2Rpdj4nKVswXTsKICAgICAgICAgICAgICAgIHBvcHVwXzQxZmFlOGEyZmZjZjQzMDQ5OTY4NmYxOTNlZGQ0MTZiLnNldENvbnRlbnQoaHRtbF9jY2I0NTM3NzhiZjM0OTA1OTc4YjUxOWY4MTdlMzRkYSk7CiAgICAgICAgICAgIAoKICAgICAgICAgICAgY2lyY2xlX21hcmtlcl9jNGYxNzYwOWVhNTg0ZGVhYTcwMDQ4MDkxNjliODFjNy5iaW5kUG9wdXAocG9wdXBfNDFmYWU4YTJmZmNmNDMwNDk5Njg2ZjE5M2VkZDQxNmIpOwoKICAgICAgICAgICAgCiAgICAgICAgCiAgICAKICAgICAgICAgICAgdmFyIGNpcmNsZV9tYXJrZXJfMmVjMjBkYzkwMTU0NGE4ZmExNGY4OTc5MjRlMDQ5ZWMgPSBMLmNpcmNsZU1hcmtlcigKICAgICAgICAgICAgICAgIFs0MC41NzY4MjUwNjU2NjYwNCwtNzMuOTY1MDk0NDg3ODUzMzZdLAogICAgICAgICAgICAgICAgewogICJidWJibGluZ01vdXNlRXZlbnRzIjogdHJ1ZSwKICAiY29sb3IiOiAiIzgwZmZiNCIsCiAgImRhc2hBcnJheSI6IG51bGwsCiAgImRhc2hPZmZzZXQiOiBudWxsLAogICJmaWxsIjogdHJ1ZSwKICAiZmlsbENvbG9yIjogIiM4MGZmYjQiLAogICJmaWxsT3BhY2l0eSI6IDAuNywKICAiZmlsbFJ1bGUiOiAiZXZlbm9kZCIsCiAgImxpbmVDYXAiOiAicm91bmQiLAogICJsaW5lSm9pbiI6ICJyb3VuZCIsCiAgIm9wYWNpdHkiOiAxLjAsCiAgInJhZGl1cyI6IDUsCiAgInN0cm9rZSI6IHRydWUsCiAgIndlaWdodCI6IDMKfQogICAgICAgICAgICAgICAgKS5hZGRUbyhtYXBfNzFhYWRhOWI2NGU5NGZhOGFhY2ZjZDdjNzgyZWI1NjEpOwogICAgICAgICAgICAKICAgIAogICAgICAgICAgICB2YXIgcG9wdXBfYzI3MjM4Nzc5OTZmNGQ5ZTgyZmFiMjQ0ZDFlMGFlZWMgPSBMLnBvcHVwKHttYXhXaWR0aDogJzMwMCd9KTsKCiAgICAgICAgICAgIAogICAgICAgICAgICAgICAgdmFyIGh0bWxfYTJmMDAzMmYwMTUxNGI2MTk3ZGNkZDUyYTdhOGEwOWEgPSAkKCc8ZGl2IGlkPSJodG1sX2EyZjAwMzJmMDE1MTRiNjE5N2RjZGQ1MmE3YThhMDlhIiBzdHlsZT0id2lkdGg6IDEwMC4wJTsgaGVpZ2h0OiAxMDAuMCU7Ij5CcmlnaHRvbiBCZWFjaCBDbHVzdGVyIDM8L2Rpdj4nKVswXTsKICAgICAgICAgICAgICAgIHBvcHVwX2MyNzIzODc3OTk2ZjRkOWU4MmZhYjI0NGQxZTBhZWVjLnNldENvbnRlbnQoaHRtbF9hMmYwMDMyZjAxNTE0YjYxOTdkY2RkNTJhN2E4YTA5YSk7CiAgICAgICAgICAgIAoKICAgICAgICAgICAgY2lyY2xlX21hcmtlcl8yZWMyMGRjOTAxNTQ0YThmYTE0Zjg5NzkyNGUwNDllYy5iaW5kUG9wdXAocG9wdXBfYzI3MjM4Nzc5OTZmNGQ5ZTgyZmFiMjQ0ZDFlMGFlZWMpOwoKICAgICAgICAgICAgCiAgICAgICAgCiAgICAKICAgICAgICAgICAgdmFyIGNpcmNsZV9tYXJrZXJfMWQwOWEwMGU3Mzk3NDZkMDhkOTFiZTE4MzE3OTQ4OGYgPSBMLmNpcmNsZU1hcmtlcigKICAgICAgICAgICAgICAgIFs0MC41ODY4OTAxMjY3ODM4NCwtNzMuOTQzMTg2NDA0ODI5NzldLAogICAgICAgICAgICAgICAgewogICJidWJibGluZ01vdXNlRXZlbnRzIjogdHJ1ZSwKICAiY29sb3IiOiAiIzgwZmZiNCIsCiAgImRhc2hBcnJheSI6IG51bGwsCiAgImRhc2hPZmZzZXQiOiBudWxsLAogICJmaWxsIjogdHJ1ZSwKICAiZmlsbENvbG9yIjogIiM4MGZmYjQiLAogICJmaWxsT3BhY2l0eSI6IDAuNywKICAiZmlsbFJ1bGUiOiAiZXZlbm9kZCIsCiAgImxpbmVDYXAiOiAicm91bmQiLAogICJsaW5lSm9pbiI6ICJyb3VuZCIsCiAgIm9wYWNpdHkiOiAxLjAsCiAgInJhZGl1cyI6IDUsCiAgInN0cm9rZSI6IHRydWUsCiAgIndlaWdodCI6IDMKfQogICAgICAgICAgICAgICAgKS5hZGRUbyhtYXBfNzFhYWRhOWI2NGU5NGZhOGFhY2ZjZDdjNzgyZWI1NjEpOwogICAgICAgICAgICAKICAgIAogICAgICAgICAgICB2YXIgcG9wdXBfNmUxM2NlZWMyMzc2NDJjYmE1M2ViYjI3NzBmMTIyZTggPSBMLnBvcHVwKHttYXhXaWR0aDogJzMwMCd9KTsKCiAgICAgICAgICAgIAogICAgICAgICAgICAgICAgdmFyIGh0bWxfMTc1YjMwMDUzN2FkNDk1MGI3MzY4MTA5NWY5Y2ZjY2QgPSAkKCc8ZGl2IGlkPSJodG1sXzE3NWIzMDA1MzdhZDQ5NTBiNzM2ODEwOTVmOWNmY2NkIiBzdHlsZT0id2lkdGg6IDEwMC4wJTsgaGVpZ2h0OiAxMDAuMCU7Ij5TaGVlcHNoZWFkIEJheSBDbHVzdGVyIDM8L2Rpdj4nKVswXTsKICAgICAgICAgICAgICAgIHBvcHVwXzZlMTNjZWVjMjM3NjQyY2JhNTNlYmIyNzcwZjEyMmU4LnNldENvbnRlbnQoaHRtbF8xNzViMzAwNTM3YWQ0OTUwYjczNjgxMDk1ZjljZmNjZCk7CiAgICAgICAgICAgIAoKICAgICAgICAgICAgY2lyY2xlX21hcmtlcl8xZDA5YTAwZTczOTc0NmQwOGQ5MWJlMTgzMTc5NDg4Zi5iaW5kUG9wdXAocG9wdXBfNmUxM2NlZWMyMzc2NDJjYmE1M2ViYjI3NzBmMTIyZTgpOwoKICAgICAgICAgICAgCiAgICAgICAgCiAgICAKICAgICAgICAgICAgdmFyIGNpcmNsZV9tYXJrZXJfNjViYjI5ZTU1YWI0NDdmZDlkZmY0Mzg4MDZiY2JjN2MgPSBMLmNpcmNsZU1hcmtlcigKICAgICAgICAgICAgICAgIFs0MC42MTQ0MzI1MTMzNTA5OCwtNzMuOTU3NDM4NDA1NTk5MzldLAogICAgICAgICAgICAgICAgewogICJidWJibGluZ01vdXNlRXZlbnRzIjogdHJ1ZSwKICAiY29sb3IiOiAiIzgwZmZiNCIsCiAgImRhc2hBcnJheSI6IG51bGwsCiAgImRhc2hPZmZzZXQiOiBudWxsLAogICJmaWxsIjogdHJ1ZSwKICAiZmlsbENvbG9yIjogIiM4MGZmYjQiLAogICJmaWxsT3BhY2l0eSI6IDAuNywKICAiZmlsbFJ1bGUiOiAiZXZlbm9kZCIsCiAgImxpbmVDYXAiOiAicm91bmQiLAogICJsaW5lSm9pbiI6ICJyb3VuZCIsCiAgIm9wYWNpdHkiOiAxLjAsCiAgInJhZGl1cyI6IDUsCiAgInN0cm9rZSI6IHRydWUsCiAgIndlaWdodCI6IDMKfQogICAgICAgICAgICAgICAgKS5hZGRUbyhtYXBfNzFhYWRhOWI2NGU5NGZhOGFhY2ZjZDdjNzgyZWI1NjEpOwogICAgICAgICAgICAKICAgIAogICAgICAgICAgICB2YXIgcG9wdXBfNmJjYTc2NTFiNzJlNGJhZmE0NmM3NWRkZmJhOTE0ZmUgPSBMLnBvcHVwKHttYXhXaWR0aDogJzMwMCd9KTsKCiAgICAgICAgICAgIAogICAgICAgICAgICAgICAgdmFyIGh0bWxfN2U3NGNkNmQyNTU2NDY0MzhhYTNlZGNkNmMwOWI3ZDUgPSAkKCc8ZGl2IGlkPSJodG1sXzdlNzRjZDZkMjU1NjQ2NDM4YWEzZWRjZDZjMDliN2Q1IiBzdHlsZT0id2lkdGg6IDEwMC4wJTsgaGVpZ2h0OiAxMDAuMCU7Ij5NYW5oYXR0YW4gVGVycmFjZSBDbHVzdGVyIDM8L2Rpdj4nKVswXTsKICAgICAgICAgICAgICAgIHBvcHVwXzZiY2E3NjUxYjcyZTRiYWZhNDZjNzVkZGZiYTkxNGZlLnNldENvbnRlbnQoaHRtbF83ZTc0Y2Q2ZDI1NTY0NjQzOGFhM2VkY2Q2YzA5YjdkNSk7CiAgICAgICAgICAgIAoKICAgICAgICAgICAgY2lyY2xlX21hcmtlcl82NWJiMjllNTVhYjQ0N2ZkOWRmZjQzODgwNmJjYmM3Yy5iaW5kUG9wdXAocG9wdXBfNmJjYTc2NTFiNzJlNGJhZmE0NmM3NWRkZmJhOTE0ZmUpOwoKICAgICAgICAgICAgCiAgICAgICAgCiAgICAKICAgICAgICAgICAgdmFyIGNpcmNsZV9tYXJrZXJfM2Q3N2IwZmNmNDcyNDAzNjg4M2U2MTY2OGNlYWYyMDQgPSBMLmNpcmNsZU1hcmtlcigKICAgICAgICAgICAgICAgIFs0MC42MzYzMjU4OTAyNjY3NywtNzMuOTU4NDAxMDY1MzM5MDNdLAogICAgICAgICAgICAgICAgewogICJidWJibGluZ01vdXNlRXZlbnRzIjogdHJ1ZSwKICAiY29sb3IiOiAiIzgwZmZiNCIsCiAgImRhc2hBcnJheSI6IG51bGwsCiAgImRhc2hPZmZzZXQiOiBudWxsLAogICJmaWxsIjogdHJ1ZSwKICAiZmlsbENvbG9yIjogIiM4MGZmYjQiLAogICJmaWxsT3BhY2l0eSI6IDAuNywKICAiZmlsbFJ1bGUiOiAiZXZlbm9kZCIsCiAgImxpbmVDYXAiOiAicm91bmQiLAogICJsaW5lSm9pbiI6ICJyb3VuZCIsCiAgIm9wYWNpdHkiOiAxLjAsCiAgInJhZGl1cyI6IDUsCiAgInN0cm9rZSI6IHRydWUsCiAgIndlaWdodCI6IDMKfQogICAgICAgICAgICAgICAgKS5hZGRUbyhtYXBfNzFhYWRhOWI2NGU5NGZhOGFhY2ZjZDdjNzgyZWI1NjEpOwogICAgICAgICAgICAKICAgIAogICAgICAgICAgICB2YXIgcG9wdXBfMjUzMDA2OWFhYWYyNDZlNDhjMmEwNTVjMTM2ZjEwZGEgPSBMLnBvcHVwKHttYXhXaWR0aDogJzMwMCd9KTsKCiAgICAgICAgICAgIAogICAgICAgICAgICAgICAgdmFyIGh0bWxfY2UzYzdmZDE1MmJjNDE0Njk1YzZiOTU1Y2ZlNWE5Y2UgPSAkKCc8ZGl2IGlkPSJodG1sX2NlM2M3ZmQxNTJiYzQxNDY5NWM2Yjk1NWNmZTVhOWNlIiBzdHlsZT0id2lkdGg6IDEwMC4wJTsgaGVpZ2h0OiAxMDAuMCU7Ij5GbGF0YnVzaCBDbHVzdGVyIDM8L2Rpdj4nKVswXTsKICAgICAgICAgICAgICAgIHBvcHVwXzI1MzAwNjlhYWFmMjQ2ZTQ4YzJhMDU1YzEzNmYxMGRhLnNldENvbnRlbnQoaHRtbF9jZTNjN2ZkMTUyYmM0MTQ2OTVjNmI5NTVjZmU1YTljZSk7CiAgICAgICAgICAgIAoKICAgICAgICAgICAgY2lyY2xlX21hcmtlcl8zZDc3YjBmY2Y0NzI0MDM2ODgzZTYxNjY4Y2VhZjIwNC5iaW5kUG9wdXAocG9wdXBfMjUzMDA2OWFhYWYyNDZlNDhjMmEwNTVjMTM2ZjEwZGEpOwoKICAgICAgICAgICAgCiAgICAgICAgCiAgICAKICAgICAgICAgICAgdmFyIGNpcmNsZV9tYXJrZXJfZmMyYzUyZTY5NGVjNDhhNWEyZGYzYjJlY2YyZmY0YTMgPSBMLmNpcmNsZU1hcmtlcigKICAgICAgICAgICAgICAgIFs0MC42NzA4MjkxNzY5NTI5NCwtNzMuOTQzMjkxMTkwNzM1ODJdLAogICAgICAgICAgICAgICAgewogICJidWJibGluZ01vdXNlRXZlbnRzIjogdHJ1ZSwKICAiY29sb3IiOiAiIzgwZmZiNCIsCiAgImRhc2hBcnJheSI6IG51bGwsCiAgImRhc2hPZmZzZXQiOiBudWxsLAogICJmaWxsIjogdHJ1ZSwKICAiZmlsbENvbG9yIjogIiM4MGZmYjQiLAogICJmaWxsT3BhY2l0eSI6IDAuNywKICAiZmlsbFJ1bGUiOiAiZXZlbm9kZCIsCiAgImxpbmVDYXAiOiAicm91bmQiLAogICJsaW5lSm9pbiI6ICJyb3VuZCIsCiAgIm9wYWNpdHkiOiAxLjAsCiAgInJhZGl1cyI6IDUsCiAgInN0cm9rZSI6IHRydWUsCiAgIndlaWdodCI6IDMKfQogICAgICAgICAgICAgICAgKS5hZGRUbyhtYXBfNzFhYWRhOWI2NGU5NGZhOGFhY2ZjZDdjNzgyZWI1NjEpOwogICAgICAgICAgICAKICAgIAogICAgICAgICAgICB2YXIgcG9wdXBfMmM3NTgyN2RiNmEwNDJkNDgwMDk0NDVhOTA5YjMyMDQgPSBMLnBvcHVwKHttYXhXaWR0aDogJzMwMCd9KTsKCiAgICAgICAgICAgIAogICAgICAgICAgICAgICAgdmFyIGh0bWxfNGM0NjQ0ZTNmMjBhNDE4MjlhMzRlMWFjNDM1MGNmNjMgPSAkKCc8ZGl2IGlkPSJodG1sXzRjNDY0NGUzZjIwYTQxODI5YTM0ZTFhYzQzNTBjZjYzIiBzdHlsZT0id2lkdGg6IDEwMC4wJTsgaGVpZ2h0OiAxMDAuMCU7Ij5Dcm93biBIZWlnaHRzIENsdXN0ZXIgMzwvZGl2PicpWzBdOwogICAgICAgICAgICAgICAgcG9wdXBfMmM3NTgyN2RiNmEwNDJkNDgwMDk0NDVhOTA5YjMyMDQuc2V0Q29udGVudChodG1sXzRjNDY0NGUzZjIwYTQxODI5YTM0ZTFhYzQzNTBjZjYzKTsKICAgICAgICAgICAgCgogICAgICAgICAgICBjaXJjbGVfbWFya2VyX2ZjMmM1MmU2OTRlYzQ4YTVhMmRmM2IyZWNmMmZmNGEzLmJpbmRQb3B1cChwb3B1cF8yYzc1ODI3ZGI2YTA0MmQ0ODAwOTQ0NWE5MDliMzIwNCk7CgogICAgICAgICAgICAKICAgICAgICAKICAgIAogICAgICAgICAgICB2YXIgY2lyY2xlX21hcmtlcl9mYWNlOTQ4YzMyZmY0Mzg2YTExMzE4MTFhNjIzNWZjOSA9IEwuY2lyY2xlTWFya2VyKAogICAgICAgICAgICAgICAgWzQwLjY0MTcxNzc2NjY4OTYxLC03My45MzYxMDI1NjE4NTgzNl0sCiAgICAgICAgICAgICAgICB7CiAgImJ1YmJsaW5nTW91c2VFdmVudHMiOiB0cnVlLAogICJjb2xvciI6ICIjODBmZmI0IiwKICAiZGFzaEFycmF5IjogbnVsbCwKICAiZGFzaE9mZnNldCI6IG51bGwsCiAgImZpbGwiOiB0cnVlLAogICJmaWxsQ29sb3IiOiAiIzgwZmZiNCIsCiAgImZpbGxPcGFjaXR5IjogMC43LAogICJmaWxsUnVsZSI6ICJldmVub2RkIiwKICAibGluZUNhcCI6ICJyb3VuZCIsCiAgImxpbmVKb2luIjogInJvdW5kIiwKICAib3BhY2l0eSI6IDEuMCwKICAicmFkaXVzIjogNSwKICAic3Ryb2tlIjogdHJ1ZSwKICAid2VpZ2h0IjogMwp9CiAgICAgICAgICAgICAgICApLmFkZFRvKG1hcF83MWFhZGE5YjY0ZTk0ZmE4YWFjZmNkN2M3ODJlYjU2MSk7CiAgICAgICAgICAgIAogICAgCiAgICAgICAgICAgIHZhciBwb3B1cF9hNTM5NGM3OTAxOTI0MDU3OWJiYjVhNjczYmU0MmVjYiA9IEwucG9wdXAoe21heFdpZHRoOiAnMzAwJ30pOwoKICAgICAgICAgICAgCiAgICAgICAgICAgICAgICB2YXIgaHRtbF9hOTYzYWYzOTQ2ZGY0YmY4OGIyNjkyMjdiY2E0NTUxYSA9ICQoJzxkaXYgaWQ9Imh0bWxfYTk2M2FmMzk0NmRmNGJmODhiMjY5MjI3YmNhNDU1MWEiIHN0eWxlPSJ3aWR0aDogMTAwLjAlOyBoZWlnaHQ6IDEwMC4wJTsiPkVhc3QgRmxhdGJ1c2ggQ2x1c3RlciAzPC9kaXY+JylbMF07CiAgICAgICAgICAgICAgICBwb3B1cF9hNTM5NGM3OTAxOTI0MDU3OWJiYjVhNjczYmU0MmVjYi5zZXRDb250ZW50KGh0bWxfYTk2M2FmMzk0NmRmNGJmODhiMjY5MjI3YmNhNDU1MWEpOwogICAgICAgICAgICAKCiAgICAgICAgICAgIGNpcmNsZV9tYXJrZXJfZmFjZTk0OGMzMmZmNDM4NmExMTMxODExYTYyMzVmYzkuYmluZFBvcHVwKHBvcHVwX2E1Mzk0Yzc5MDE5MjQwNTc5YmJiNWE2NzNiZTQyZWNiKTsKCiAgICAgICAgICAgIAogICAgICAgIAogICAgCiAgICAgICAgICAgIHZhciBjaXJjbGVfbWFya2VyXzhhMzc0ODE4MzYzZTQ0YWFiZmQ4NGNhNjBkNmNkZTVlID0gTC5jaXJjbGVNYXJrZXIoCiAgICAgICAgICAgICAgICBbNDAuNjQyMzgxOTU4MDAzNTI2LC03My45ODA0MjExMDU1OTQ3NF0sCiAgICAgICAgICAgICAgICB7CiAgImJ1YmJsaW5nTW91c2VFdmVudHMiOiB0cnVlLAogICJjb2xvciI6ICIjODBmZmI0IiwKICAiZGFzaEFycmF5IjogbnVsbCwKICAiZGFzaE9mZnNldCI6IG51bGwsCiAgImZpbGwiOiB0cnVlLAogICJmaWxsQ29sb3IiOiAiIzgwZmZiNCIsCiAgImZpbGxPcGFjaXR5IjogMC43LAogICJmaWxsUnVsZSI6ICJldmVub2RkIiwKICAibGluZUNhcCI6ICJyb3VuZCIsCiAgImxpbmVKb2luIjogInJvdW5kIiwKICAib3BhY2l0eSI6IDEuMCwKICAicmFkaXVzIjogNSwKICAic3Ryb2tlIjogdHJ1ZSwKICAid2VpZ2h0IjogMwp9CiAgICAgICAgICAgICAgICApLmFkZFRvKG1hcF83MWFhZGE5YjY0ZTk0ZmE4YWFjZmNkN2M3ODJlYjU2MSk7CiAgICAgICAgICAgIAogICAgCiAgICAgICAgICAgIHZhciBwb3B1cF85MTFlYzYzZjQzNzk0NTgyOGViZjBjY2FlMzRjZmM2MyA9IEwucG9wdXAoe21heFdpZHRoOiAnMzAwJ30pOwoKICAgICAgICAgICAgCiAgICAgICAgICAgICAgICB2YXIgaHRtbF9mMWQ5OTA1MmE1MjY0ZWYzYjNiMjk5NmZiNjc4YzlmZCA9ICQoJzxkaXYgaWQ9Imh0bWxfZjFkOTkwNTJhNTI2NGVmM2IzYjI5OTZmYjY3OGM5ZmQiIHN0eWxlPSJ3aWR0aDogMTAwLjAlOyBoZWlnaHQ6IDEwMC4wJTsiPktlbnNpbmd0b24gQ2x1c3RlciAzPC9kaXY+JylbMF07CiAgICAgICAgICAgICAgICBwb3B1cF85MTFlYzYzZjQzNzk0NTgyOGViZjBjY2FlMzRjZmM2My5zZXRDb250ZW50KGh0bWxfZjFkOTkwNTJhNTI2NGVmM2IzYjI5OTZmYjY3OGM5ZmQpOwogICAgICAgICAgICAKCiAgICAgICAgICAgIGNpcmNsZV9tYXJrZXJfOGEzNzQ4MTgzNjNlNDRhYWJmZDg0Y2E2MGQ2Y2RlNWUuYmluZFBvcHVwKHBvcHVwXzkxMWVjNjNmNDM3OTQ1ODI4ZWJmMGNjYWUzNGNmYzYzKTsKCiAgICAgICAgICAgIAogICAgICAgIAogICAgCiAgICAgICAgICAgIHZhciBjaXJjbGVfbWFya2VyXzE3MjdhYmZjODJiYjQwODlhOTIyZDE0MWM5M2I1MTE2ID0gTC5jaXJjbGVNYXJrZXIoCiAgICAgICAgICAgICAgICBbNDAuNjU2OTQ1ODM1NzUxMDQsLTczLjk4MDA3MzQwNDMwMTcyXSwKICAgICAgICAgICAgICAgIHsKICAiYnViYmxpbmdNb3VzZUV2ZW50cyI6IHRydWUsCiAgImNvbG9yIjogIiM4MGZmYjQiLAogICJkYXNoQXJyYXkiOiBudWxsLAogICJkYXNoT2Zmc2V0IjogbnVsbCwKICAiZmlsbCI6IHRydWUsCiAgImZpbGxDb2xvciI6ICIjODBmZmI0IiwKICAiZmlsbE9wYWNpdHkiOiAwLjcsCiAgImZpbGxSdWxlIjogImV2ZW5vZGQiLAogICJsaW5lQ2FwIjogInJvdW5kIiwKICAibGluZUpvaW4iOiAicm91bmQiLAogICJvcGFjaXR5IjogMS4wLAogICJyYWRpdXMiOiA1LAogICJzdHJva2UiOiB0cnVlLAogICJ3ZWlnaHQiOiAzCn0KICAgICAgICAgICAgICAgICkuYWRkVG8obWFwXzcxYWFkYTliNjRlOTRmYThhYWNmY2Q3Yzc4MmViNTYxKTsKICAgICAgICAgICAgCiAgICAKICAgICAgICAgICAgdmFyIHBvcHVwXzI3OGEzMTA5YWQ0NzRjM2RhOGQ5ZGFhNDFhMWNlYzVmID0gTC5wb3B1cCh7bWF4V2lkdGg6ICczMDAnfSk7CgogICAgICAgICAgICAKICAgICAgICAgICAgICAgIHZhciBodG1sX2EwOGMzZGE2ZmMzNTQwNWI4M2RjZTk5YzExYzUzZWE4ID0gJCgnPGRpdiBpZD0iaHRtbF9hMDhjM2RhNmZjMzU0MDViODNkY2U5OWMxMWM1M2VhOCIgc3R5bGU9IndpZHRoOiAxMDAuMCU7IGhlaWdodDogMTAwLjAlOyI+V2luZHNvciBUZXJyYWNlIENsdXN0ZXIgMzwvZGl2PicpWzBdOwogICAgICAgICAgICAgICAgcG9wdXBfMjc4YTMxMDlhZDQ3NGMzZGE4ZDlkYWE0MWExY2VjNWYuc2V0Q29udGVudChodG1sX2EwOGMzZGE2ZmMzNTQwNWI4M2RjZTk5YzExYzUzZWE4KTsKICAgICAgICAgICAgCgogICAgICAgICAgICBjaXJjbGVfbWFya2VyXzE3MjdhYmZjODJiYjQwODlhOTIyZDE0MWM5M2I1MTE2LmJpbmRQb3B1cChwb3B1cF8yNzhhMzEwOWFkNDc0YzNkYThkOWRhYTQxYTFjZWM1Zik7CgogICAgICAgICAgICAKICAgICAgICAKICAgIAogICAgICAgICAgICB2YXIgY2lyY2xlX21hcmtlcl8yZTk1NTdmMTFiYjg0MjZmYTg5YjNiOGU2NWE0M2Y1ZCA9IEwuY2lyY2xlTWFya2VyKAogICAgICAgICAgICAgICAgWzQwLjY3NjgyMjI2MjI1NDcyNCwtNzMuOTY0ODU5MjQyNjI2OV0sCiAgICAgICAgICAgICAgICB7CiAgImJ1YmJsaW5nTW91c2VFdmVudHMiOiB0cnVlLAogICJjb2xvciI6ICIjODBmZmI0IiwKICAiZGFzaEFycmF5IjogbnVsbCwKICAiZGFzaE9mZnNldCI6IG51bGwsCiAgImZpbGwiOiB0cnVlLAogICJmaWxsQ29sb3IiOiAiIzgwZmZiNCIsCiAgImZpbGxPcGFjaXR5IjogMC43LAogICJmaWxsUnVsZSI6ICJldmVub2RkIiwKICAibGluZUNhcCI6ICJyb3VuZCIsCiAgImxpbmVKb2luIjogInJvdW5kIiwKICAib3BhY2l0eSI6IDEuMCwKICAicmFkaXVzIjogNSwKICAic3Ryb2tlIjogdHJ1ZSwKICAid2VpZ2h0IjogMwp9CiAgICAgICAgICAgICAgICApLmFkZFRvKG1hcF83MWFhZGE5YjY0ZTk0ZmE4YWFjZmNkN2M3ODJlYjU2MSk7CiAgICAgICAgICAgIAogICAgCiAgICAgICAgICAgIHZhciBwb3B1cF85YjU5MjllZjM5ZTk0YmY1OGNjY2JkMTY4NjFjOTIzNiA9IEwucG9wdXAoe21heFdpZHRoOiAnMzAwJ30pOwoKICAgICAgICAgICAgCiAgICAgICAgICAgICAgICB2YXIgaHRtbF80OTc2MzJmM2UwMmM0N2ExOTc1NmFkNWNjNTYyMzgxOCA9ICQoJzxkaXYgaWQ9Imh0bWxfNDk3NjMyZjNlMDJjNDdhMTk3NTZhZDVjYzU2MjM4MTgiIHN0eWxlPSJ3aWR0aDogMTAwLjAlOyBoZWlnaHQ6IDEwMC4wJTsiPlByb3NwZWN0IEhlaWdodHMgQ2x1c3RlciAzPC9kaXY+JylbMF07CiAgICAgICAgICAgICAgICBwb3B1cF85YjU5MjllZjM5ZTk0YmY1OGNjY2JkMTY4NjFjOTIzNi5zZXRDb250ZW50KGh0bWxfNDk3NjMyZjNlMDJjNDdhMTk3NTZhZDVjYzU2MjM4MTgpOwogICAgICAgICAgICAKCiAgICAgICAgICAgIGNpcmNsZV9tYXJrZXJfMmU5NTU3ZjExYmI4NDI2ZmE4OWIzYjhlNjVhNDNmNWQuYmluZFBvcHVwKHBvcHVwXzliNTkyOWVmMzllOTRiZjU4Y2NjYmQxNjg2MWM5MjM2KTsKCiAgICAgICAgICAgIAogICAgICAgIAogICAgCiAgICAgICAgICAgIHZhciBjaXJjbGVfbWFya2VyXzk5OGMxZTM3NTAwMzQ1ZWQ5YThmNTAzZjE3YzIzNjEwID0gTC5jaXJjbGVNYXJrZXIoCiAgICAgICAgICAgICAgICBbNDAuNjYzOTQ5OTQzMzk3NTUsLTczLjkxMDIzNTM2MTc2NjA3XSwKICAgICAgICAgICAgICAgIHsKICAiYnViYmxpbmdNb3VzZUV2ZW50cyI6IHRydWUsCiAgImNvbG9yIjogIiM4MGZmYjQiLAogICJkYXNoQXJyYXkiOiBudWxsLAogICJkYXNoT2Zmc2V0IjogbnVsbCwKICAiZmlsbCI6IHRydWUsCiAgImZpbGxDb2xvciI6ICIjODBmZmI0IiwKICAiZmlsbE9wYWNpdHkiOiAwLjcsCiAgImZpbGxSdWxlIjogImV2ZW5vZGQiLAogICJsaW5lQ2FwIjogInJvdW5kIiwKICAibGluZUpvaW4iOiAicm91bmQiLAogICJvcGFjaXR5IjogMS4wLAogICJyYWRpdXMiOiA1LAogICJzdHJva2UiOiB0cnVlLAogICJ3ZWlnaHQiOiAzCn0KICAgICAgICAgICAgICAgICkuYWRkVG8obWFwXzcxYWFkYTliNjRlOTRmYThhYWNmY2Q3Yzc4MmViNTYxKTsKICAgICAgICAgICAgCiAgICAKICAgICAgICAgICAgdmFyIHBvcHVwXzBjZjc3M2ViNzRiMjQ0YTY4NDJlY2Y4M2E4ZjEyZWM0ID0gTC5wb3B1cCh7bWF4V2lkdGg6ICczMDAnfSk7CgogICAgICAgICAgICAKICAgICAgICAgICAgICAgIHZhciBodG1sXzE0NmNjNmYwN2ZiZTQyZThhMjRmMGM2OGZkZjhlYjNjID0gJCgnPGRpdiBpZD0iaHRtbF8xNDZjYzZmMDdmYmU0MmU4YTI0ZjBjNjhmZGY4ZWIzYyIgc3R5bGU9IndpZHRoOiAxMDAuMCU7IGhlaWdodDogMTAwLjAlOyI+QnJvd25zdmlsbGUgQ2x1c3RlciAzPC9kaXY+JylbMF07CiAgICAgICAgICAgICAgICBwb3B1cF8wY2Y3NzNlYjc0YjI0NGE2ODQyZWNmODNhOGYxMmVjNC5zZXRDb250ZW50KGh0bWxfMTQ2Y2M2ZjA3ZmJlNDJlOGEyNGYwYzY4ZmRmOGViM2MpOwogICAgICAgICAgICAKCiAgICAgICAgICAgIGNpcmNsZV9tYXJrZXJfOTk4YzFlMzc1MDAzNDVlZDlhOGY1MDNmMTdjMjM2MTAuYmluZFBvcHVwKHBvcHVwXzBjZjc3M2ViNzRiMjQ0YTY4NDJlY2Y4M2E4ZjEyZWM0KTsKCiAgICAgICAgICAgIAogICAgICAgIAogICAgCiAgICAgICAgICAgIHZhciBjaXJjbGVfbWFya2VyX2FjNDQ4NjM4OGFiODRmM2JiOGExMTZmZDVjMTVkMmE4ID0gTC5jaXJjbGVNYXJrZXIoCiAgICAgICAgICAgICAgICBbNDAuNzA3MTQ0MzkzNDQyNTEsLTczLjk1ODExNTI5MjIwOTI3XSwKICAgICAgICAgICAgICAgIHsKICAiYnViYmxpbmdNb3VzZUV2ZW50cyI6IHRydWUsCiAgImNvbG9yIjogIiMwMGI1ZWIiLAogICJkYXNoQXJyYXkiOiBudWxsLAogICJkYXNoT2Zmc2V0IjogbnVsbCwKICAiZmlsbCI6IHRydWUsCiAgImZpbGxDb2xvciI6ICIjMDBiNWViIiwKICAiZmlsbE9wYWNpdHkiOiAwLjcsCiAgImZpbGxSdWxlIjogImV2ZW5vZGQiLAogICJsaW5lQ2FwIjogInJvdW5kIiwKICAibGluZUpvaW4iOiAicm91bmQiLAogICJvcGFjaXR5IjogMS4wLAogICJyYWRpdXMiOiA1LAogICJzdHJva2UiOiB0cnVlLAogICJ3ZWlnaHQiOiAzCn0KICAgICAgICAgICAgICAgICkuYWRkVG8obWFwXzcxYWFkYTliNjRlOTRmYThhYWNmY2Q3Yzc4MmViNTYxKTsKICAgICAgICAgICAgCiAgICAKICAgICAgICAgICAgdmFyIHBvcHVwX2NjMDQ4ZWJiMmIyMjQyNzhhMzVmOTk2NjQ2ZDczOTJlID0gTC5wb3B1cCh7bWF4V2lkdGg6ICczMDAnfSk7CgogICAgICAgICAgICAKICAgICAgICAgICAgICAgIHZhciBodG1sXzI5MTdmZTUyODNkMDRiN2ZiODRmYTBmMWZlYTA3ZjI2ID0gJCgnPGRpdiBpZD0iaHRtbF8yOTE3ZmU1MjgzZDA0YjdmYjg0ZmEwZjFmZWEwN2YyNiIgc3R5bGU9IndpZHRoOiAxMDAuMCU7IGhlaWdodDogMTAwLjAlOyI+V2lsbGlhbXNidXJnIENsdXN0ZXIgMjwvZGl2PicpWzBdOwogICAgICAgICAgICAgICAgcG9wdXBfY2MwNDhlYmIyYjIyNDI3OGEzNWY5OTY2NDZkNzM5MmUuc2V0Q29udGVudChodG1sXzI5MTdmZTUyODNkMDRiN2ZiODRmYTBmMWZlYTA3ZjI2KTsKICAgICAgICAgICAgCgogICAgICAgICAgICBjaXJjbGVfbWFya2VyX2FjNDQ4NjM4OGFiODRmM2JiOGExMTZmZDVjMTVkMmE4LmJpbmRQb3B1cChwb3B1cF9jYzA0OGViYjJiMjI0Mjc4YTM1Zjk5NjY0NmQ3MzkyZSk7CgogICAgICAgICAgICAKICAgICAgICAKICAgIAogICAgICAgICAgICB2YXIgY2lyY2xlX21hcmtlcl9kY2ZjMzk0ZWVkYzE0OGUxYjY5NjAwOWJkODI0Y2QxMSA9IEwuY2lyY2xlTWFya2VyKAogICAgICAgICAgICAgICAgWzQwLjY5ODExNjExMDE3OTAxLC03My45MjUyNTc5NzQ4NzA0NV0sCiAgICAgICAgICAgICAgICB7CiAgImJ1YmJsaW5nTW91c2VFdmVudHMiOiB0cnVlLAogICJjb2xvciI6ICIjMDBiNWViIiwKICAiZGFzaEFycmF5IjogbnVsbCwKICAiZGFzaE9mZnNldCI6IG51bGwsCiAgImZpbGwiOiB0cnVlLAogICJmaWxsQ29sb3IiOiAiIzAwYjVlYiIsCiAgImZpbGxPcGFjaXR5IjogMC43LAogICJmaWxsUnVsZSI6ICJldmVub2RkIiwKICAibGluZUNhcCI6ICJyb3VuZCIsCiAgImxpbmVKb2luIjogInJvdW5kIiwKICAib3BhY2l0eSI6IDEuMCwKICAicmFkaXVzIjogNSwKICAic3Ryb2tlIjogdHJ1ZSwKICAid2VpZ2h0IjogMwp9CiAgICAgICAgICAgICAgICApLmFkZFRvKG1hcF83MWFhZGE5YjY0ZTk0ZmE4YWFjZmNkN2M3ODJlYjU2MSk7CiAgICAgICAgICAgIAogICAgCiAgICAgICAgICAgIHZhciBwb3B1cF80MDBhYzJkZDBjZWU0YjMxOTgwOGQzMThkYzIwNTBiNyA9IEwucG9wdXAoe21heFdpZHRoOiAnMzAwJ30pOwoKICAgICAgICAgICAgCiAgICAgICAgICAgICAgICB2YXIgaHRtbF8wMTFmYmRiN2U5ODg0ZWI4ODUzOTY3MjAyOTE0YTZkOSA9ICQoJzxkaXYgaWQ9Imh0bWxfMDExZmJkYjdlOTg4NGViODg1Mzk2NzIwMjkxNGE2ZDkiIHN0eWxlPSJ3aWR0aDogMTAwLjAlOyBoZWlnaHQ6IDEwMC4wJTsiPkJ1c2h3aWNrIENsdXN0ZXIgMjwvZGl2PicpWzBdOwogICAgICAgICAgICAgICAgcG9wdXBfNDAwYWMyZGQwY2VlNGIzMTk4MDhkMzE4ZGMyMDUwYjcuc2V0Q29udGVudChodG1sXzAxMWZiZGI3ZTk4ODRlYjg4NTM5NjcyMDI5MTRhNmQ5KTsKICAgICAgICAgICAgCgogICAgICAgICAgICBjaXJjbGVfbWFya2VyX2RjZmMzOTRlZWRjMTQ4ZTFiNjk2MDA5YmQ4MjRjZDExLmJpbmRQb3B1cChwb3B1cF80MDBhYzJkZDBjZWU0YjMxOTgwOGQzMThkYzIwNTBiNyk7CgogICAgICAgICAgICAKICAgICAgICAKICAgIAogICAgICAgICAgICB2YXIgY2lyY2xlX21hcmtlcl85ZmY1NmRmMTBmMmQ0NDFmYWMwN2JkODFlYTMxZmUyNCA9IEwuY2lyY2xlTWFya2VyKAogICAgICAgICAgICAgICAgWzQwLjY4NzIzMTYwNzcyMDQ1NiwtNzMuOTQxNzg0ODg2OTAyOTddLAogICAgICAgICAgICAgICAgewogICJidWJibGluZ01vdXNlRXZlbnRzIjogdHJ1ZSwKICAiY29sb3IiOiAiIzAwYjVlYiIsCiAgImRhc2hBcnJheSI6IG51bGwsCiAgImRhc2hPZmZzZXQiOiBudWxsLAogICJmaWxsIjogdHJ1ZSwKICAiZmlsbENvbG9yIjogIiMwMGI1ZWIiLAogICJmaWxsT3BhY2l0eSI6IDAuNywKICAiZmlsbFJ1bGUiOiAiZXZlbm9kZCIsCiAgImxpbmVDYXAiOiAicm91bmQiLAogICJsaW5lSm9pbiI6ICJyb3VuZCIsCiAgIm9wYWNpdHkiOiAxLjAsCiAgInJhZGl1cyI6IDUsCiAgInN0cm9rZSI6IHRydWUsCiAgIndlaWdodCI6IDMKfQogICAgICAgICAgICAgICAgKS5hZGRUbyhtYXBfNzFhYWRhOWI2NGU5NGZhOGFhY2ZjZDdjNzgyZWI1NjEpOwogICAgICAgICAgICAKICAgIAogICAgICAgICAgICB2YXIgcG9wdXBfOGY2MjdkZGYyNTdjNDIwNGJmZTUzOGNkYTgyZDZkNWYgPSBMLnBvcHVwKHttYXhXaWR0aDogJzMwMCd9KTsKCiAgICAgICAgICAgIAogICAgICAgICAgICAgICAgdmFyIGh0bWxfMTJkMjQyMjIyY2ZiNGU2YjhkNTA5YzEwY2M4MWU1YzAgPSAkKCc8ZGl2IGlkPSJodG1sXzEyZDI0MjIyMmNmYjRlNmI4ZDUwOWMxMGNjODFlNWMwIiBzdHlsZT0id2lkdGg6IDEwMC4wJTsgaGVpZ2h0OiAxMDAuMCU7Ij5CZWRmb3JkIFN0dXl2ZXNhbnQgQ2x1c3RlciAyPC9kaXY+JylbMF07CiAgICAgICAgICAgICAgICBwb3B1cF84ZjYyN2RkZjI1N2M0MjA0YmZlNTM4Y2RhODJkNmQ1Zi5zZXRDb250ZW50KGh0bWxfMTJkMjQyMjIyY2ZiNGU2YjhkNTA5YzEwY2M4MWU1YzApOwogICAgICAgICAgICAKCiAgICAgICAgICAgIGNpcmNsZV9tYXJrZXJfOWZmNTZkZjEwZjJkNDQxZmFjMDdiZDgxZWEzMWZlMjQuYmluZFBvcHVwKHBvcHVwXzhmNjI3ZGRmMjU3YzQyMDRiZmU1MzhjZGE4MmQ2ZDVmKTsKCiAgICAgICAgICAgIAogICAgICAgIAogICAgCiAgICAgICAgICAgIHZhciBjaXJjbGVfbWFya2VyXzFlOGVjODcxZjliZTQzZDA4Zjk5MDhlNTg2Yjc2YTU3ID0gTC5jaXJjbGVNYXJrZXIoCiAgICAgICAgICAgICAgICBbNDAuNjk1ODYzNzIyNzI0MDg0LC03My45OTM3ODIyNTQ5NjQyNF0sCiAgICAgICAgICAgICAgICB7CiAgImJ1YmJsaW5nTW91c2VFdmVudHMiOiB0cnVlLAogICJjb2xvciI6ICIjMDBiNWViIiwKICAiZGFzaEFycmF5IjogbnVsbCwKICAiZGFzaE9mZnNldCI6IG51bGwsCiAgImZpbGwiOiB0cnVlLAogICJmaWxsQ29sb3IiOiAiIzAwYjVlYiIsCiAgImZpbGxPcGFjaXR5IjogMC43LAogICJmaWxsUnVsZSI6ICJldmVub2RkIiwKICAibGluZUNhcCI6ICJyb3VuZCIsCiAgImxpbmVKb2luIjogInJvdW5kIiwKICAib3BhY2l0eSI6IDEuMCwKICAicmFkaXVzIjogNSwKICAic3Ryb2tlIjogdHJ1ZSwKICAid2VpZ2h0IjogMwp9CiAgICAgICAgICAgICAgICApLmFkZFRvKG1hcF83MWFhZGE5YjY0ZTk0ZmE4YWFjZmNkN2M3ODJlYjU2MSk7CiAgICAgICAgICAgIAogICAgCiAgICAgICAgICAgIHZhciBwb3B1cF9lNGEwODQ0YTE0ODI0YzNhYTkxY2FjODI3OThiNGYxOCA9IEwucG9wdXAoe21heFdpZHRoOiAnMzAwJ30pOwoKICAgICAgICAgICAgCiAgICAgICAgICAgICAgICB2YXIgaHRtbF83Zjg0MTk2ZDkyMmI0ODA0OTUzNWM5Njg3OWE4NzU5YSA9ICQoJzxkaXYgaWQ9Imh0bWxfN2Y4NDE5NmQ5MjJiNDgwNDk1MzVjOTY4NzlhODc1OWEiIHN0eWxlPSJ3aWR0aDogMTAwLjAlOyBoZWlnaHQ6IDEwMC4wJTsiPkJyb29rbHluIEhlaWdodHMgQ2x1c3RlciAyPC9kaXY+JylbMF07CiAgICAgICAgICAgICAgICBwb3B1cF9lNGEwODQ0YTE0ODI0YzNhYTkxY2FjODI3OThiNGYxOC5zZXRDb250ZW50KGh0bWxfN2Y4NDE5NmQ5MjJiNDgwNDk1MzVjOTY4NzlhODc1OWEpOwogICAgICAgICAgICAKCiAgICAgICAgICAgIGNpcmNsZV9tYXJrZXJfMWU4ZWM4NzFmOWJlNDNkMDhmOTkwOGU1ODZiNzZhNTcuYmluZFBvcHVwKHBvcHVwX2U0YTA4NDRhMTQ4MjRjM2FhOTFjYWM4Mjc5OGI0ZjE4KTsKCiAgICAgICAgICAgIAogICAgICAgIAogICAgCiAgICAgICAgICAgIHZhciBjaXJjbGVfbWFya2VyXzEzYTQ4N2M2MzEwNDRmZDFhZjUwNjA3OTIxNDk5ZGQwID0gTC5jaXJjbGVNYXJrZXIoCiAgICAgICAgICAgICAgICBbNDAuNjg3OTE5NzIyNDg1NTc0LC03My45OTg1NjEzOTIxODQ2M10sCiAgICAgICAgICAgICAgICB7CiAgImJ1YmJsaW5nTW91c2VFdmVudHMiOiB0cnVlLAogICJjb2xvciI6ICIjMDBiNWViIiwKICAiZGFzaEFycmF5IjogbnVsbCwKICAiZGFzaE9mZnNldCI6IG51bGwsCiAgImZpbGwiOiB0cnVlLAogICJmaWxsQ29sb3IiOiAiIzAwYjVlYiIsCiAgImZpbGxPcGFjaXR5IjogMC43LAogICJmaWxsUnVsZSI6ICJldmVub2RkIiwKICAibGluZUNhcCI6ICJyb3VuZCIsCiAgImxpbmVKb2luIjogInJvdW5kIiwKICAib3BhY2l0eSI6IDEuMCwKICAicmFkaXVzIjogNSwKICAic3Ryb2tlIjogdHJ1ZSwKICAid2VpZ2h0IjogMwp9CiAgICAgICAgICAgICAgICApLmFkZFRvKG1hcF83MWFhZGE5YjY0ZTk0ZmE4YWFjZmNkN2M3ODJlYjU2MSk7CiAgICAgICAgICAgIAogICAgCiAgICAgICAgICAgIHZhciBwb3B1cF85MWU5ZDcyZjM5MWQ0ZjMyYmUxY2JiNDU0MmU5YjQ4NyA9IEwucG9wdXAoe21heFdpZHRoOiAnMzAwJ30pOwoKICAgICAgICAgICAgCiAgICAgICAgICAgICAgICB2YXIgaHRtbF9jOGEyOGM3ODllYzg0MDFkYjQ1NTNjNTU2NjFlZjMyYyA9ICQoJzxkaXYgaWQ9Imh0bWxfYzhhMjhjNzg5ZWM4NDAxZGI0NTUzYzU1NjYxZWYzMmMiIHN0eWxlPSJ3aWR0aDogMTAwLjAlOyBoZWlnaHQ6IDEwMC4wJTsiPkNvYmJsZSBIaWxsIENsdXN0ZXIgMjwvZGl2PicpWzBdOwogICAgICAgICAgICAgICAgcG9wdXBfOTFlOWQ3MmYzOTFkNGYzMmJlMWNiYjQ1NDJlOWI0ODcuc2V0Q29udGVudChodG1sX2M4YTI4Yzc4OWVjODQwMWRiNDU1M2M1NTY2MWVmMzJjKTsKICAgICAgICAgICAgCgogICAgICAgICAgICBjaXJjbGVfbWFya2VyXzEzYTQ4N2M2MzEwNDRmZDFhZjUwNjA3OTIxNDk5ZGQwLmJpbmRQb3B1cChwb3B1cF85MWU5ZDcyZjM5MWQ0ZjMyYmUxY2JiNDU0MmU5YjQ4Nyk7CgogICAgICAgICAgICAKICAgICAgICAKICAgIAogICAgICAgICAgICB2YXIgY2lyY2xlX21hcmtlcl84ZjdjZTdkY2U2NTI0M2E2YTFkMTdhZTZlM2Y0ZjJhMSA9IEwuY2lyY2xlTWFya2VyKAogICAgICAgICAgICAgICAgWzQwLjY4MDU0MDIzMTA3NjQ4NSwtNzMuOTk0NjUzNzI4MjgwMDZdLAogICAgICAgICAgICAgICAgewogICJidWJibGluZ01vdXNlRXZlbnRzIjogdHJ1ZSwKICAiY29sb3IiOiAiIzAwYjVlYiIsCiAgImRhc2hBcnJheSI6IG51bGwsCiAgImRhc2hPZmZzZXQiOiBudWxsLAogICJmaWxsIjogdHJ1ZSwKICAiZmlsbENvbG9yIjogIiMwMGI1ZWIiLAogICJmaWxsT3BhY2l0eSI6IDAuNywKICAiZmlsbFJ1bGUiOiAiZXZlbm9kZCIsCiAgImxpbmVDYXAiOiAicm91bmQiLAogICJsaW5lSm9pbiI6ICJyb3VuZCIsCiAgIm9wYWNpdHkiOiAxLjAsCiAgInJhZGl1cyI6IDUsCiAgInN0cm9rZSI6IHRydWUsCiAgIndlaWdodCI6IDMKfQogICAgICAgICAgICAgICAgKS5hZGRUbyhtYXBfNzFhYWRhOWI2NGU5NGZhOGFhY2ZjZDdjNzgyZWI1NjEpOwogICAgICAgICAgICAKICAgIAogICAgICAgICAgICB2YXIgcG9wdXBfYjZiZjU1OWRkNWE5NGIzNjk4MzQwMDc3Mjc4OTQzNzYgPSBMLnBvcHVwKHttYXhXaWR0aDogJzMwMCd9KTsKCiAgICAgICAgICAgIAogICAgICAgICAgICAgICAgdmFyIGh0bWxfYzc5MzVlMTU2MjgxNGIyNTlhNmNkODIxYWYwNzRlYWEgPSAkKCc8ZGl2IGlkPSJodG1sX2M3OTM1ZTE1NjI4MTRiMjU5YTZjZDgyMWFmMDc0ZWFhIiBzdHlsZT0id2lkdGg6IDEwMC4wJTsgaGVpZ2h0OiAxMDAuMCU7Ij5DYXJyb2xsIEdhcmRlbnMgQ2x1c3RlciAyPC9kaXY+JylbMF07CiAgICAgICAgICAgICAgICBwb3B1cF9iNmJmNTU5ZGQ1YTk0YjM2OTgzNDAwNzcyNzg5NDM3Ni5zZXRDb250ZW50KGh0bWxfYzc5MzVlMTU2MjgxNGIyNTlhNmNkODIxYWYwNzRlYWEpOwogICAgICAgICAgICAKCiAgICAgICAgICAgIGNpcmNsZV9tYXJrZXJfOGY3Y2U3ZGNlNjUyNDNhNmExZDE3YWU2ZTNmNGYyYTEuYmluZFBvcHVwKHBvcHVwX2I2YmY1NTlkZDVhOTRiMzY5ODM0MDA3NzI3ODk0Mzc2KTsKCiAgICAgICAgICAgIAogICAgICAgIAogICAgCiAgICAgICAgICAgIHZhciBjaXJjbGVfbWFya2VyX2JjYTljOGNlODBiODQyOGZiZWUyYTM1Y2VjYTA1YTY2ID0gTC5jaXJjbGVNYXJrZXIoCiAgICAgICAgICAgICAgICBbNDAuNjc2MjUzMjMwMjUwODg2LC03NC4wMTI3NTg5NzQ3MzU2XSwKICAgICAgICAgICAgICAgIHsKICAiYnViYmxpbmdNb3VzZUV2ZW50cyI6IHRydWUsCiAgImNvbG9yIjogIiMwMGI1ZWIiLAogICJkYXNoQXJyYXkiOiBudWxsLAogICJkYXNoT2Zmc2V0IjogbnVsbCwKICAiZmlsbCI6IHRydWUsCiAgImZpbGxDb2xvciI6ICIjMDBiNWViIiwKICAiZmlsbE9wYWNpdHkiOiAwLjcsCiAgImZpbGxSdWxlIjogImV2ZW5vZGQiLAogICJsaW5lQ2FwIjogInJvdW5kIiwKICAibGluZUpvaW4iOiAicm91bmQiLAogICJvcGFjaXR5IjogMS4wLAogICJyYWRpdXMiOiA1LAogICJzdHJva2UiOiB0cnVlLAogICJ3ZWlnaHQiOiAzCn0KICAgICAgICAgICAgICAgICkuYWRkVG8obWFwXzcxYWFkYTliNjRlOTRmYThhYWNmY2Q3Yzc4MmViNTYxKTsKICAgICAgICAgICAgCiAgICAKICAgICAgICAgICAgdmFyIHBvcHVwXzU1N2I3Zjg3ZjMyMzRmZTVhMzIwNjViNGI5ZDE2NTllID0gTC5wb3B1cCh7bWF4V2lkdGg6ICczMDAnfSk7CgogICAgICAgICAgICAKICAgICAgICAgICAgICAgIHZhciBodG1sX2M1ZWM2OWFlYWJkMzQxOGZhN2I5YTY4NjdiMTcxMmJlID0gJCgnPGRpdiBpZD0iaHRtbF9jNWVjNjlhZWFiZDM0MThmYTdiOWE2ODY3YjE3MTJiZSIgc3R5bGU9IndpZHRoOiAxMDAuMCU7IGhlaWdodDogMTAwLjAlOyI+UmVkIEhvb2sgQ2x1c3RlciAyPC9kaXY+JylbMF07CiAgICAgICAgICAgICAgICBwb3B1cF81NTdiN2Y4N2YzMjM0ZmU1YTMyMDY1YjRiOWQxNjU5ZS5zZXRDb250ZW50KGh0bWxfYzVlYzY5YWVhYmQzNDE4ZmE3YjlhNjg2N2IxNzEyYmUpOwogICAgICAgICAgICAKCiAgICAgICAgICAgIGNpcmNsZV9tYXJrZXJfYmNhOWM4Y2U4MGI4NDI4ZmJlZTJhMzVjZWNhMDVhNjYuYmluZFBvcHVwKHBvcHVwXzU1N2I3Zjg3ZjMyMzRmZTVhMzIwNjViNGI5ZDE2NTllKTsKCiAgICAgICAgICAgIAogICAgICAgIAogICAgCiAgICAgICAgICAgIHZhciBjaXJjbGVfbWFya2VyXzJhZmU5ZTgxY2VhMDQ2NzBhMDI2YzUwYzAyNTQ0NWUwID0gTC5jaXJjbGVNYXJrZXIoCiAgICAgICAgICAgICAgICBbNDAuNjczOTMxMTQzMTg3MTU0LC03My45OTQ0NDA4NzE0NTMzOV0sCiAgICAgICAgICAgICAgICB7CiAgImJ1YmJsaW5nTW91c2VFdmVudHMiOiB0cnVlLAogICJjb2xvciI6ICIjMDBiNWViIiwKICAiZGFzaEFycmF5IjogbnVsbCwKICAiZGFzaE9mZnNldCI6IG51bGwsCiAgImZpbGwiOiB0cnVlLAogICJmaWxsQ29sb3IiOiAiIzAwYjVlYiIsCiAgImZpbGxPcGFjaXR5IjogMC43LAogICJmaWxsUnVsZSI6ICJldmVub2RkIiwKICAibGluZUNhcCI6ICJyb3VuZCIsCiAgImxpbmVKb2luIjogInJvdW5kIiwKICAib3BhY2l0eSI6IDEuMCwKICAicmFkaXVzIjogNSwKICAic3Ryb2tlIjogdHJ1ZSwKICAid2VpZ2h0IjogMwp9CiAgICAgICAgICAgICAgICApLmFkZFRvKG1hcF83MWFhZGE5YjY0ZTk0ZmE4YWFjZmNkN2M3ODJlYjU2MSk7CiAgICAgICAgICAgIAogICAgCiAgICAgICAgICAgIHZhciBwb3B1cF9kNjE2OTdhOTVlOGM0MGJmYWE1NGNiYzI3NDRiYTEzNyA9IEwucG9wdXAoe21heFdpZHRoOiAnMzAwJ30pOwoKICAgICAgICAgICAgCiAgICAgICAgICAgICAgICB2YXIgaHRtbF83NjAzNTM1N2FkYWQ0NWQ0ODc3MGFiMWYxNGEzODZhMiA9ICQoJzxkaXYgaWQ9Imh0bWxfNzYwMzUzNTdhZGFkNDVkNDg3NzBhYjFmMTRhMzg2YTIiIHN0eWxlPSJ3aWR0aDogMTAwLjAlOyBoZWlnaHQ6IDEwMC4wJTsiPkdvd2FudXMgQ2x1c3RlciAyPC9kaXY+JylbMF07CiAgICAgICAgICAgICAgICBwb3B1cF9kNjE2OTdhOTVlOGM0MGJmYWE1NGNiYzI3NDRiYTEzNy5zZXRDb250ZW50KGh0bWxfNzYwMzUzNTdhZGFkNDVkNDg3NzBhYjFmMTRhMzg2YTIpOwogICAgICAgICAgICAKCiAgICAgICAgICAgIGNpcmNsZV9tYXJrZXJfMmFmZTllODFjZWEwNDY3MGEwMjZjNTBjMDI1NDQ1ZTAuYmluZFBvcHVwKHBvcHVwX2Q2MTY5N2E5NWU4YzQwYmZhYTU0Y2JjMjc0NGJhMTM3KTsKCiAgICAgICAgICAgIAogICAgICAgIAogICAgCiAgICAgICAgICAgIHZhciBjaXJjbGVfbWFya2VyXzBiYjQzNDViNGQ1MjRkMWJiNmYxODY0Y2MzMzY0YmMyID0gTC5jaXJjbGVNYXJrZXIoCiAgICAgICAgICAgICAgICBbNDAuNjg4NTI3MjYwMTg5NzcsLTczLjk3MjkwNTc0MzY5MDkyXSwKICAgICAgICAgICAgICAgIHsKICAiYnViYmxpbmdNb3VzZUV2ZW50cyI6IHRydWUsCiAgImNvbG9yIjogIiMwMGI1ZWIiLAogICJkYXNoQXJyYXkiOiBudWxsLAogICJkYXNoT2Zmc2V0IjogbnVsbCwKICAiZmlsbCI6IHRydWUsCiAgImZpbGxDb2xvciI6ICIjMDBiNWViIiwKICAiZmlsbE9wYWNpdHkiOiAwLjcsCiAgImZpbGxSdWxlIjogImV2ZW5vZGQiLAogICJsaW5lQ2FwIjogInJvdW5kIiwKICAibGluZUpvaW4iOiAicm91bmQiLAogICJvcGFjaXR5IjogMS4wLAogICJyYWRpdXMiOiA1LAogICJzdHJva2UiOiB0cnVlLAogICJ3ZWlnaHQiOiAzCn0KICAgICAgICAgICAgICAgICkuYWRkVG8obWFwXzcxYWFkYTliNjRlOTRmYThhYWNmY2Q3Yzc4MmViNTYxKTsKICAgICAgICAgICAgCiAgICAKICAgICAgICAgICAgdmFyIHBvcHVwXzA5ZWMyYmFmNGEyZjQ0YmU4MWY3ZmZlZDI3YmFjNGExID0gTC5wb3B1cCh7bWF4V2lkdGg6ICczMDAnfSk7CgogICAgICAgICAgICAKICAgICAgICAgICAgICAgIHZhciBodG1sXzM4MzYzODQxZTlhYjQ1ZDk4MWZjYzkyMDI3NjAwMzdhID0gJCgnPGRpdiBpZD0iaHRtbF8zODM2Mzg0MWU5YWI0NWQ5ODFmY2M5MjAyNzYwMDM3YSIgc3R5bGU9IndpZHRoOiAxMDAuMCU7IGhlaWdodDogMTAwLjAlOyI+Rm9ydCBHcmVlbmUgQ2x1c3RlciAyPC9kaXY+JylbMF07CiAgICAgICAgICAgICAgICBwb3B1cF8wOWVjMmJhZjRhMmY0NGJlODFmN2ZmZWQyN2JhYzRhMS5zZXRDb250ZW50KGh0bWxfMzgzNjM4NDFlOWFiNDVkOTgxZmNjOTIwMjc2MDAzN2EpOwogICAgICAgICAgICAKCiAgICAgICAgICAgIGNpcmNsZV9tYXJrZXJfMGJiNDM0NWI0ZDUyNGQxYmI2ZjE4NjRjYzMzNjRiYzIuYmluZFBvcHVwKHBvcHVwXzA5ZWMyYmFmNGEyZjQ0YmU4MWY3ZmZlZDI3YmFjNGExKTsKCiAgICAgICAgICAgIAogICAgICAgIAogICAgCiAgICAgICAgICAgIHZhciBjaXJjbGVfbWFya2VyXzMwN2QzNGIyNDYwMzQ1MjhhMGNjYTczNmQ1NGY4MjhmID0gTC5jaXJjbGVNYXJrZXIoCiAgICAgICAgICAgICAgICBbNDAuNjcyMzIwNTIyNjgxOTcsLTczLjk3NzA1MDMwMTgzOTI0XSwKICAgICAgICAgICAgICAgIHsKICAiYnViYmxpbmdNb3VzZUV2ZW50cyI6IHRydWUsCiAgImNvbG9yIjogIiM4MGZmYjQiLAogICJkYXNoQXJyYXkiOiBudWxsLAogICJkYXNoT2Zmc2V0IjogbnVsbCwKICAiZmlsbCI6IHRydWUsCiAgImZpbGxDb2xvciI6ICIjODBmZmI0IiwKICAiZmlsbE9wYWNpdHkiOiAwLjcsCiAgImZpbGxSdWxlIjogImV2ZW5vZGQiLAogICJsaW5lQ2FwIjogInJvdW5kIiwKICAibGluZUpvaW4iOiAicm91bmQiLAogICJvcGFjaXR5IjogMS4wLAogICJyYWRpdXMiOiA1LAogICJzdHJva2UiOiB0cnVlLAogICJ3ZWlnaHQiOiAzCn0KICAgICAgICAgICAgICAgICkuYWRkVG8obWFwXzcxYWFkYTliNjRlOTRmYThhYWNmY2Q3Yzc4MmViNTYxKTsKICAgICAgICAgICAgCiAgICAKICAgICAgICAgICAgdmFyIHBvcHVwXzNmNmMxZTA2NDBkZjQwMzZhMTFmNDFmYjJmMjA2YzIyID0gTC5wb3B1cCh7bWF4V2lkdGg6ICczMDAnfSk7CgogICAgICAgICAgICAKICAgICAgICAgICAgICAgIHZhciBodG1sX2I2NmQyZDg3OTA5YTRiOTI4NThhZTJjZjVlZjZlNTk2ID0gJCgnPGRpdiBpZD0iaHRtbF9iNjZkMmQ4NzkwOWE0YjkyODU4YWUyY2Y1ZWY2ZTU5NiIgc3R5bGU9IndpZHRoOiAxMDAuMCU7IGhlaWdodDogMTAwLjAlOyI+UGFyayBTbG9wZSBDbHVzdGVyIDM8L2Rpdj4nKVswXTsKICAgICAgICAgICAgICAgIHBvcHVwXzNmNmMxZTA2NDBkZjQwMzZhMTFmNDFmYjJmMjA2YzIyLnNldENvbnRlbnQoaHRtbF9iNjZkMmQ4NzkwOWE0YjkyODU4YWUyY2Y1ZWY2ZTU5Nik7CiAgICAgICAgICAgIAoKICAgICAgICAgICAgY2lyY2xlX21hcmtlcl8zMDdkMzRiMjQ2MDM0NTI4YTBjY2E3MzZkNTRmODI4Zi5iaW5kUG9wdXAocG9wdXBfM2Y2YzFlMDY0MGRmNDAzNmExMWY0MWZiMmYyMDZjMjIpOwoKICAgICAgICAgICAgCiAgICAgICAgCiAgICAKICAgICAgICAgICAgdmFyIGNpcmNsZV9tYXJrZXJfZGVkNTM5YjQ5MTcyNDBmYzljNmRlY2I3MTYwMTYyNGIgPSBMLmNpcmNsZU1hcmtlcigKICAgICAgICAgICAgICAgIFs0MC42ODIzOTEwMTE0NDIxMSwtNzMuODc2NjE1OTY0NTcyOTZdLAogICAgICAgICAgICAgICAgewogICJidWJibGluZ01vdXNlRXZlbnRzIjogdHJ1ZSwKICAiY29sb3IiOiAiI2ZmMDAwMCIsCiAgImRhc2hBcnJheSI6IG51bGwsCiAgImRhc2hPZmZzZXQiOiBudWxsLAogICJmaWxsIjogdHJ1ZSwKICAiZmlsbENvbG9yIjogIiNmZjAwMDAiLAogICJmaWxsT3BhY2l0eSI6IDAuNywKICAiZmlsbFJ1bGUiOiAiZXZlbm9kZCIsCiAgImxpbmVDYXAiOiAicm91bmQiLAogICJsaW5lSm9pbiI6ICJyb3VuZCIsCiAgIm9wYWNpdHkiOiAxLjAsCiAgInJhZGl1cyI6IDUsCiAgInN0cm9rZSI6IHRydWUsCiAgIndlaWdodCI6IDMKfQogICAgICAgICAgICAgICAgKS5hZGRUbyhtYXBfNzFhYWRhOWI2NGU5NGZhOGFhY2ZjZDdjNzgyZWI1NjEpOwogICAgICAgICAgICAKICAgIAogICAgICAgICAgICB2YXIgcG9wdXBfODk4ZWIxMTdlOGZkNGRmOTg3OTAzM2M1NDU5MDAxMTYgPSBMLnBvcHVwKHttYXhXaWR0aDogJzMwMCd9KTsKCiAgICAgICAgICAgIAogICAgICAgICAgICAgICAgdmFyIGh0bWxfNjFlMWEzMGJkMzIzNDIzMGJjMDc5YjI0NzdhOTU0NGEgPSAkKCc8ZGl2IGlkPSJodG1sXzYxZTFhMzBiZDMyMzQyMzBiYzA3OWIyNDc3YTk1NDRhIiBzdHlsZT0id2lkdGg6IDEwMC4wJTsgaGVpZ2h0OiAxMDAuMCU7Ij5DeXByZXNzIEhpbGxzIENsdXN0ZXIgMDwvZGl2PicpWzBdOwogICAgICAgICAgICAgICAgcG9wdXBfODk4ZWIxMTdlOGZkNGRmOTg3OTAzM2M1NDU5MDAxMTYuc2V0Q29udGVudChodG1sXzYxZTFhMzBiZDMyMzQyMzBiYzA3OWIyNDc3YTk1NDRhKTsKICAgICAgICAgICAgCgogICAgICAgICAgICBjaXJjbGVfbWFya2VyX2RlZDUzOWI0OTE3MjQwZmM5YzZkZWNiNzE2MDE2MjRiLmJpbmRQb3B1cChwb3B1cF84OThlYjExN2U4ZmQ0ZGY5ODc5MDMzYzU0NTkwMDExNik7CgogICAgICAgICAgICAKICAgICAgICAKICAgIAogICAgICAgICAgICB2YXIgY2lyY2xlX21hcmtlcl9mNjMxODIwMjE1ZGY0ODkwYTU3MGYyMzQ2ZjlmNjUyZiA9IEwuY2lyY2xlTWFya2VyKAogICAgICAgICAgICAgICAgWzQwLjY2OTkyNTcwMDg0NzA0NSwtNzMuODgwNjk4NjM5MTczNjZdLAogICAgICAgICAgICAgICAgewogICJidWJibGluZ01vdXNlRXZlbnRzIjogdHJ1ZSwKICAiY29sb3IiOiAiIzgwZmZiNCIsCiAgImRhc2hBcnJheSI6IG51bGwsCiAgImRhc2hPZmZzZXQiOiBudWxsLAogICJmaWxsIjogdHJ1ZSwKICAiZmlsbENvbG9yIjogIiM4MGZmYjQiLAogICJmaWxsT3BhY2l0eSI6IDAuNywKICAiZmlsbFJ1bGUiOiAiZXZlbm9kZCIsCiAgImxpbmVDYXAiOiAicm91bmQiLAogICJsaW5lSm9pbiI6ICJyb3VuZCIsCiAgIm9wYWNpdHkiOiAxLjAsCiAgInJhZGl1cyI6IDUsCiAgInN0cm9rZSI6IHRydWUsCiAgIndlaWdodCI6IDMKfQogICAgICAgICAgICAgICAgKS5hZGRUbyhtYXBfNzFhYWRhOWI2NGU5NGZhOGFhY2ZjZDdjNzgyZWI1NjEpOwogICAgICAgICAgICAKICAgIAogICAgICAgICAgICB2YXIgcG9wdXBfMjdlN2YxNDBhM2M1NDgwZmEwMzU5ZDVkZGU3MGI3YzkgPSBMLnBvcHVwKHttYXhXaWR0aDogJzMwMCd9KTsKCiAgICAgICAgICAgIAogICAgICAgICAgICAgICAgdmFyIGh0bWxfNDQwYzQ4MTA5YmViNGMzZjg4N2VhNTg3MDk2YmNhMTMgPSAkKCc8ZGl2IGlkPSJodG1sXzQ0MGM0ODEwOWJlYjRjM2Y4ODdlYTU4NzA5NmJjYTEzIiBzdHlsZT0id2lkdGg6IDEwMC4wJTsgaGVpZ2h0OiAxMDAuMCU7Ij5FYXN0IE5ldyBZb3JrIENsdXN0ZXIgMzwvZGl2PicpWzBdOwogICAgICAgICAgICAgICAgcG9wdXBfMjdlN2YxNDBhM2M1NDgwZmEwMzU5ZDVkZGU3MGI3Yzkuc2V0Q29udGVudChodG1sXzQ0MGM0ODEwOWJlYjRjM2Y4ODdlYTU4NzA5NmJjYTEzKTsKICAgICAgICAgICAgCgogICAgICAgICAgICBjaXJjbGVfbWFya2VyX2Y2MzE4MjAyMTVkZjQ4OTBhNTcwZjIzNDZmOWY2NTJmLmJpbmRQb3B1cChwb3B1cF8yN2U3ZjE0MGEzYzU0ODBmYTAzNTlkNWRkZTcwYjdjOSk7CgogICAgICAgICAgICAKICAgICAgICAKICAgIAogICAgICAgICAgICB2YXIgY2lyY2xlX21hcmtlcl82YjZiNGVlOWFlYTc0OGVlOTA1MmFjZDA5NGY2ODM5OSA9IEwuY2lyY2xlTWFya2VyKAogICAgICAgICAgICAgICAgWzQwLjY0NzU4OTA1MjMwODc0LC03My44NzkzNjk3MDA0NTg3NV0sCiAgICAgICAgICAgICAgICB7CiAgImJ1YmJsaW5nTW91c2VFdmVudHMiOiB0cnVlLAogICJjb2xvciI6ICIjODBmZmI0IiwKICAiZGFzaEFycmF5IjogbnVsbCwKICAiZGFzaE9mZnNldCI6IG51bGwsCiAgImZpbGwiOiB0cnVlLAogICJmaWxsQ29sb3IiOiAiIzgwZmZiNCIsCiAgImZpbGxPcGFjaXR5IjogMC43LAogICJmaWxsUnVsZSI6ICJldmVub2RkIiwKICAibGluZUNhcCI6ICJyb3VuZCIsCiAgImxpbmVKb2luIjogInJvdW5kIiwKICAib3BhY2l0eSI6IDEuMCwKICAicmFkaXVzIjogNSwKICAic3Ryb2tlIjogdHJ1ZSwKICAid2VpZ2h0IjogMwp9CiAgICAgICAgICAgICAgICApLmFkZFRvKG1hcF83MWFhZGE5YjY0ZTk0ZmE4YWFjZmNkN2M3ODJlYjU2MSk7CiAgICAgICAgICAgIAogICAgCiAgICAgICAgICAgIHZhciBwb3B1cF9iOTQzNzYwOTlkODg0YzJhYmRiN2Q1NzE1Njk5YTFjNCA9IEwucG9wdXAoe21heFdpZHRoOiAnMzAwJ30pOwoKICAgICAgICAgICAgCiAgICAgICAgICAgICAgICB2YXIgaHRtbF8wOWQzY2YwNjE3Mzc0Y2NlYTc2ODMyZTQyMjMyYzhkYiA9ICQoJzxkaXYgaWQ9Imh0bWxfMDlkM2NmMDYxNzM3NGNjZWE3NjgzMmU0MjIzMmM4ZGIiIHN0eWxlPSJ3aWR0aDogMTAwLjAlOyBoZWlnaHQ6IDEwMC4wJTsiPlN0YXJyZXR0IENpdHkgQ2x1c3RlciAzPC9kaXY+JylbMF07CiAgICAgICAgICAgICAgICBwb3B1cF9iOTQzNzYwOTlkODg0YzJhYmRiN2Q1NzE1Njk5YTFjNC5zZXRDb250ZW50KGh0bWxfMDlkM2NmMDYxNzM3NGNjZWE3NjgzMmU0MjIzMmM4ZGIpOwogICAgICAgICAgICAKCiAgICAgICAgICAgIGNpcmNsZV9tYXJrZXJfNmI2YjRlZTlhZWE3NDhlZTkwNTJhY2QwOTRmNjgzOTkuYmluZFBvcHVwKHBvcHVwX2I5NDM3NjA5OWQ4ODRjMmFiZGI3ZDU3MTU2OTlhMWM0KTsKCiAgICAgICAgICAgIAogICAgICAgIAogICAgCiAgICAgICAgICAgIHZhciBjaXJjbGVfbWFya2VyXzcxNTFhMjc3YjkxNTRjYjFhYWUxZGJiM2IwMWU2NTc5ID0gTC5jaXJjbGVNYXJrZXIoCiAgICAgICAgICAgICAgICBbNDAuNjM1NTY0MzI3OTc0MjgsLTczLjkwMjA5MjY5Nzc4OTY2XSwKICAgICAgICAgICAgICAgIHsKICAiYnViYmxpbmdNb3VzZUV2ZW50cyI6IHRydWUsCiAgImNvbG9yIjogIiM4MGZmYjQiLAogICJkYXNoQXJyYXkiOiBudWxsLAogICJkYXNoT2Zmc2V0IjogbnVsbCwKICAiZmlsbCI6IHRydWUsCiAgImZpbGxDb2xvciI6ICIjODBmZmI0IiwKICAiZmlsbE9wYWNpdHkiOiAwLjcsCiAgImZpbGxSdWxlIjogImV2ZW5vZGQiLAogICJsaW5lQ2FwIjogInJvdW5kIiwKICAibGluZUpvaW4iOiAicm91bmQiLAogICJvcGFjaXR5IjogMS4wLAogICJyYWRpdXMiOiA1LAogICJzdHJva2UiOiB0cnVlLAogICJ3ZWlnaHQiOiAzCn0KICAgICAgICAgICAgICAgICkuYWRkVG8obWFwXzcxYWFkYTliNjRlOTRmYThhYWNmY2Q3Yzc4MmViNTYxKTsKICAgICAgICAgICAgCiAgICAKICAgICAgICAgICAgdmFyIHBvcHVwX2M2NjFkMTlkNDg0MjQ2MTdiMjc2ZTBmODA3MTU5OWFmID0gTC5wb3B1cCh7bWF4V2lkdGg6ICczMDAnfSk7CgogICAgICAgICAgICAKICAgICAgICAgICAgICAgIHZhciBodG1sXzU0NmJlMmI0M2I4MjRiYjlhZjk1ODQzNGU2MWNiNTcxID0gJCgnPGRpdiBpZD0iaHRtbF81NDZiZTJiNDNiODI0YmI5YWY5NTg0MzRlNjFjYjU3MSIgc3R5bGU9IndpZHRoOiAxMDAuMCU7IGhlaWdodDogMTAwLjAlOyI+Q2FuYXJzaWUgQ2x1c3RlciAzPC9kaXY+JylbMF07CiAgICAgICAgICAgICAgICBwb3B1cF9jNjYxZDE5ZDQ4NDI0NjE3YjI3NmUwZjgwNzE1OTlhZi5zZXRDb250ZW50KGh0bWxfNTQ2YmUyYjQzYjgyNGJiOWFmOTU4NDM0ZTYxY2I1NzEpOwogICAgICAgICAgICAKCiAgICAgICAgICAgIGNpcmNsZV9tYXJrZXJfNzE1MWEyNzdiOTE1NGNiMWFhZTFkYmIzYjAxZTY1NzkuYmluZFBvcHVwKHBvcHVwX2M2NjFkMTlkNDg0MjQ2MTdiMjc2ZTBmODA3MTU5OWFmKTsKCiAgICAgICAgICAgIAogICAgICAgIAogICAgCiAgICAgICAgICAgIHZhciBjaXJjbGVfbWFya2VyX2NiNjQyMTkwMzI5NTRiNWU5OTVjOGQwNzFiY2Y1MTU1ID0gTC5jaXJjbGVNYXJrZXIoCiAgICAgICAgICAgICAgICBbNDAuNjMwNDQ2MDQzNzU3NDY2LC03My45MjkxMTMwMjY0NDY3NF0sCiAgICAgICAgICAgICAgICB7CiAgImJ1YmJsaW5nTW91c2VFdmVudHMiOiB0cnVlLAogICJjb2xvciI6ICIjODBmZmI0IiwKICAiZGFzaEFycmF5IjogbnVsbCwKICAiZGFzaE9mZnNldCI6IG51bGwsCiAgImZpbGwiOiB0cnVlLAogICJmaWxsQ29sb3IiOiAiIzgwZmZiNCIsCiAgImZpbGxPcGFjaXR5IjogMC43LAogICJmaWxsUnVsZSI6ICJldmVub2RkIiwKICAibGluZUNhcCI6ICJyb3VuZCIsCiAgImxpbmVKb2luIjogInJvdW5kIiwKICAib3BhY2l0eSI6IDEuMCwKICAicmFkaXVzIjogNSwKICAic3Ryb2tlIjogdHJ1ZSwKICAid2VpZ2h0IjogMwp9CiAgICAgICAgICAgICAgICApLmFkZFRvKG1hcF83MWFhZGE5YjY0ZTk0ZmE4YWFjZmNkN2M3ODJlYjU2MSk7CiAgICAgICAgICAgIAogICAgCiAgICAgICAgICAgIHZhciBwb3B1cF83ZWFhYzFkZjBiOTI0YzMxYTI1YTUwNDBmNWM0ODdiOCA9IEwucG9wdXAoe21heFdpZHRoOiAnMzAwJ30pOwoKICAgICAgICAgICAgCiAgICAgICAgICAgICAgICB2YXIgaHRtbF83NzRhYTAzMjlmMTY0NGE3YTlkMTM4ZTFiOTRhZDliNyA9ICQoJzxkaXYgaWQ9Imh0bWxfNzc0YWEwMzI5ZjE2NDRhN2E5ZDEzOGUxYjk0YWQ5YjciIHN0eWxlPSJ3aWR0aDogMTAwLjAlOyBoZWlnaHQ6IDEwMC4wJTsiPkZsYXRsYW5kcyBDbHVzdGVyIDM8L2Rpdj4nKVswXTsKICAgICAgICAgICAgICAgIHBvcHVwXzdlYWFjMWRmMGI5MjRjMzFhMjVhNTA0MGY1YzQ4N2I4LnNldENvbnRlbnQoaHRtbF83NzRhYTAzMjlmMTY0NGE3YTlkMTM4ZTFiOTRhZDliNyk7CiAgICAgICAgICAgIAoKICAgICAgICAgICAgY2lyY2xlX21hcmtlcl9jYjY0MjE5MDMyOTU0YjVlOTk1YzhkMDcxYmNmNTE1NS5iaW5kUG9wdXAocG9wdXBfN2VhYWMxZGYwYjkyNGMzMWEyNWE1MDQwZjVjNDg3YjgpOwoKICAgICAgICAgICAgCiAgICAgICAgCiAgICAKICAgICAgICAgICAgdmFyIGNpcmNsZV9tYXJrZXJfNTRmMmYxYzBhZTdkNGRmOGJiZWUyMTMwMmUzOGQzNDQgPSBMLmNpcmNsZU1hcmtlcigKICAgICAgICAgICAgICAgIFs0MC42MDYzMzY0MjE2ODU2MjYsLTczLjkwODE4NTcxNzc3NDIzXSwKICAgICAgICAgICAgICAgIHsKICAiYnViYmxpbmdNb3VzZUV2ZW50cyI6IHRydWUsCiAgImNvbG9yIjogIiM4MGZmYjQiLAogICJkYXNoQXJyYXkiOiBudWxsLAogICJkYXNoT2Zmc2V0IjogbnVsbCwKICAiZmlsbCI6IHRydWUsCiAgImZpbGxDb2xvciI6ICIjODBmZmI0IiwKICAiZmlsbE9wYWNpdHkiOiAwLjcsCiAgImZpbGxSdWxlIjogImV2ZW5vZGQiLAogICJsaW5lQ2FwIjogInJvdW5kIiwKICAibGluZUpvaW4iOiAicm91bmQiLAogICJvcGFjaXR5IjogMS4wLAogICJyYWRpdXMiOiA1LAogICJzdHJva2UiOiB0cnVlLAogICJ3ZWlnaHQiOiAzCn0KICAgICAgICAgICAgICAgICkuYWRkVG8obWFwXzcxYWFkYTliNjRlOTRmYThhYWNmY2Q3Yzc4MmViNTYxKTsKICAgICAgICAgICAgCiAgICAKICAgICAgICAgICAgdmFyIHBvcHVwX2M4OTEyMmU3MTkyYjQzZjhiYTQ0MDBjNWRmZjFmNDlhID0gTC5wb3B1cCh7bWF4V2lkdGg6ICczMDAnfSk7CgogICAgICAgICAgICAKICAgICAgICAgICAgICAgIHZhciBodG1sXzllMjMxZTg3YTg1NDQ2NzFiMTBjM2EyMDg2NzkxMDM2ID0gJCgnPGRpdiBpZD0iaHRtbF85ZTIzMWU4N2E4NTQ0NjcxYjEwYzNhMjA4Njc5MTAzNiIgc3R5bGU9IndpZHRoOiAxMDAuMCU7IGhlaWdodDogMTAwLjAlOyI+TWlsbCBJc2xhbmQgQ2x1c3RlciAzPC9kaXY+JylbMF07CiAgICAgICAgICAgICAgICBwb3B1cF9jODkxMjJlNzE5MmI0M2Y4YmE0NDAwYzVkZmYxZjQ5YS5zZXRDb250ZW50KGh0bWxfOWUyMzFlODdhODU0NDY3MWIxMGMzYTIwODY3OTEwMzYpOwogICAgICAgICAgICAKCiAgICAgICAgICAgIGNpcmNsZV9tYXJrZXJfNTRmMmYxYzBhZTdkNGRmOGJiZWUyMTMwMmUzOGQzNDQuYmluZFBvcHVwKHBvcHVwX2M4OTEyMmU3MTkyYjQzZjhiYTQ0MDBjNWRmZjFmNDlhKTsKCiAgICAgICAgICAgIAogICAgICAgIAogICAgCiAgICAgICAgICAgIHZhciBjaXJjbGVfbWFya2VyXzhhODk0ZWE1MzVlMjQzZTE4YmQzYjkxMGEyMTg4MDZiID0gTC5jaXJjbGVNYXJrZXIoCiAgICAgICAgICAgICAgICBbNDAuNTc3OTEzNTAzMDg2NTcsLTczLjk0MzUzNzIyODkxODg2XSwKICAgICAgICAgICAgICAgIHsKICAiYnViYmxpbmdNb3VzZUV2ZW50cyI6IHRydWUsCiAgImNvbG9yIjogIiM4MGZmYjQiLAogICJkYXNoQXJyYXkiOiBudWxsLAogICJkYXNoT2Zmc2V0IjogbnVsbCwKICAiZmlsbCI6IHRydWUsCiAgImZpbGxDb2xvciI6ICIjODBmZmI0IiwKICAiZmlsbE9wYWNpdHkiOiAwLjcsCiAgImZpbGxSdWxlIjogImV2ZW5vZGQiLAogICJsaW5lQ2FwIjogInJvdW5kIiwKICAibGluZUpvaW4iOiAicm91bmQiLAogICJvcGFjaXR5IjogMS4wLAogICJyYWRpdXMiOiA1LAogICJzdHJva2UiOiB0cnVlLAogICJ3ZWlnaHQiOiAzCn0KICAgICAgICAgICAgICAgICkuYWRkVG8obWFwXzcxYWFkYTliNjRlOTRmYThhYWNmY2Q3Yzc4MmViNTYxKTsKICAgICAgICAgICAgCiAgICAKICAgICAgICAgICAgdmFyIHBvcHVwXzZhYTM3ZmNjNWQzNzRhNTJhYWI3NmQwMmE3Y2FkMjk5ID0gTC5wb3B1cCh7bWF4V2lkdGg6ICczMDAnfSk7CgogICAgICAgICAgICAKICAgICAgICAgICAgICAgIHZhciBodG1sX2EzMmFhM2Y0NDFhNDQ1MDdhOWRkMjM2Y2Q5MDk2YTIyID0gJCgnPGRpdiBpZD0iaHRtbF9hMzJhYTNmNDQxYTQ0NTA3YTlkZDIzNmNkOTA5NmEyMiIgc3R5bGU9IndpZHRoOiAxMDAuMCU7IGhlaWdodDogMTAwLjAlOyI+TWFuaGF0dGFuIEJlYWNoIENsdXN0ZXIgMzwvZGl2PicpWzBdOwogICAgICAgICAgICAgICAgcG9wdXBfNmFhMzdmY2M1ZDM3NGE1MmFhYjc2ZDAyYTdjYWQyOTkuc2V0Q29udGVudChodG1sX2EzMmFhM2Y0NDFhNDQ1MDdhOWRkMjM2Y2Q5MDk2YTIyKTsKICAgICAgICAgICAgCgogICAgICAgICAgICBjaXJjbGVfbWFya2VyXzhhODk0ZWE1MzVlMjQzZTE4YmQzYjkxMGEyMTg4MDZiLmJpbmRQb3B1cChwb3B1cF82YWEzN2ZjYzVkMzc0YTUyYWFiNzZkMDJhN2NhZDI5OSk7CgogICAgICAgICAgICAKICAgICAgICAKICAgIAogICAgICAgICAgICB2YXIgY2lyY2xlX21hcmtlcl85Y2NlMTFlZjM4MGE0MWRjYWFiZmE2ZDE0YjFiZTAxMCA9IEwuY2lyY2xlTWFya2VyKAogICAgICAgICAgICAgICAgWzQwLjU3NDI5MjU2NDcxNjAxLC03My45ODg2ODI5NTgyMTYzN10sCiAgICAgICAgICAgICAgICB7CiAgImJ1YmJsaW5nTW91c2VFdmVudHMiOiB0cnVlLAogICJjb2xvciI6ICIjODBmZmI0IiwKICAiZGFzaEFycmF5IjogbnVsbCwKICAiZGFzaE9mZnNldCI6IG51bGwsCiAgImZpbGwiOiB0cnVlLAogICJmaWxsQ29sb3IiOiAiIzgwZmZiNCIsCiAgImZpbGxPcGFjaXR5IjogMC43LAogICJmaWxsUnVsZSI6ICJldmVub2RkIiwKICAibGluZUNhcCI6ICJyb3VuZCIsCiAgImxpbmVKb2luIjogInJvdW5kIiwKICAib3BhY2l0eSI6IDEuMCwKICAicmFkaXVzIjogNSwKICAic3Ryb2tlIjogdHJ1ZSwKICAid2VpZ2h0IjogMwp9CiAgICAgICAgICAgICAgICApLmFkZFRvKG1hcF83MWFhZGE5YjY0ZTk0ZmE4YWFjZmNkN2M3ODJlYjU2MSk7CiAgICAgICAgICAgIAogICAgCiAgICAgICAgICAgIHZhciBwb3B1cF9kYjgyMGI5ZWZjZDI0YmFhYmJiNzM0NDEyMjM1M2Y5MSA9IEwucG9wdXAoe21heFdpZHRoOiAnMzAwJ30pOwoKICAgICAgICAgICAgCiAgICAgICAgICAgICAgICB2YXIgaHRtbF82OWRkN2RmODEzN2Q0MGU0ODA2OWJhNmI1MjNlMTMxZCA9ICQoJzxkaXYgaWQ9Imh0bWxfNjlkZDdkZjgxMzdkNDBlNDgwNjliYTZiNTIzZTEzMWQiIHN0eWxlPSJ3aWR0aDogMTAwLjAlOyBoZWlnaHQ6IDEwMC4wJTsiPkNvbmV5IElzbGFuZCBDbHVzdGVyIDM8L2Rpdj4nKVswXTsKICAgICAgICAgICAgICAgIHBvcHVwX2RiODIwYjllZmNkMjRiYWFiYmI3MzQ0MTIyMzUzZjkxLnNldENvbnRlbnQoaHRtbF82OWRkN2RmODEzN2Q0MGU0ODA2OWJhNmI1MjNlMTMxZCk7CiAgICAgICAgICAgIAoKICAgICAgICAgICAgY2lyY2xlX21hcmtlcl85Y2NlMTFlZjM4MGE0MWRjYWFiZmE2ZDE0YjFiZTAxMC5iaW5kUG9wdXAocG9wdXBfZGI4MjBiOWVmY2QyNGJhYWJiYjczNDQxMjIzNTNmOTEpOwoKICAgICAgICAgICAgCiAgICAgICAgCiAgICAKICAgICAgICAgICAgdmFyIGNpcmNsZV9tYXJrZXJfYTQ3YTcxNjFhY2E5NGNkMWIyYmJiYzYxNTAxYjdlNjIgPSBMLmNpcmNsZU1hcmtlcigKICAgICAgICAgICAgICAgIFs0MC41OTk1MTg3MDI4MjIzOCwtNzMuOTk4NzUyMjE0NDM1MTldLAogICAgICAgICAgICAgICAgewogICJidWJibGluZ01vdXNlRXZlbnRzIjogdHJ1ZSwKICAiY29sb3IiOiAiIzgwZmZiNCIsCiAgImRhc2hBcnJheSI6IG51bGwsCiAgImRhc2hPZmZzZXQiOiBudWxsLAogICJmaWxsIjogdHJ1ZSwKICAiZmlsbENvbG9yIjogIiM4MGZmYjQiLAogICJmaWxsT3BhY2l0eSI6IDAuNywKICAiZmlsbFJ1bGUiOiAiZXZlbm9kZCIsCiAgImxpbmVDYXAiOiAicm91bmQiLAogICJsaW5lSm9pbiI6ICJyb3VuZCIsCiAgIm9wYWNpdHkiOiAxLjAsCiAgInJhZGl1cyI6IDUsCiAgInN0cm9rZSI6IHRydWUsCiAgIndlaWdodCI6IDMKfQogICAgICAgICAgICAgICAgKS5hZGRUbyhtYXBfNzFhYWRhOWI2NGU5NGZhOGFhY2ZjZDdjNzgyZWI1NjEpOwogICAgICAgICAgICAKICAgIAogICAgICAgICAgICB2YXIgcG9wdXBfNTRmODI2MTQ3NWRhNGQ4MGE0OGNkMDcyZjU3NjY0MGEgPSBMLnBvcHVwKHttYXhXaWR0aDogJzMwMCd9KTsKCiAgICAgICAgICAgIAogICAgICAgICAgICAgICAgdmFyIGh0bWxfMGM3NThjZjE0M2ExNDg5MDhiNmU0ZDA3OWRiOGUyZWUgPSAkKCc8ZGl2IGlkPSJodG1sXzBjNzU4Y2YxNDNhMTQ4OTA4YjZlNGQwNzlkYjhlMmVlIiBzdHlsZT0id2lkdGg6IDEwMC4wJTsgaGVpZ2h0OiAxMDAuMCU7Ij5CYXRoIEJlYWNoIENsdXN0ZXIgMzwvZGl2PicpWzBdOwogICAgICAgICAgICAgICAgcG9wdXBfNTRmODI2MTQ3NWRhNGQ4MGE0OGNkMDcyZjU3NjY0MGEuc2V0Q29udGVudChodG1sXzBjNzU4Y2YxNDNhMTQ4OTA4YjZlNGQwNzlkYjhlMmVlKTsKICAgICAgICAgICAgCgogICAgICAgICAgICBjaXJjbGVfbWFya2VyX2E0N2E3MTYxYWNhOTRjZDFiMmJiYmM2MTUwMWI3ZTYyLmJpbmRQb3B1cChwb3B1cF81NGY4MjYxNDc1ZGE0ZDgwYTQ4Y2QwNzJmNTc2NjQwYSk7CgogICAgICAgICAgICAKICAgICAgICAKICAgIAogICAgICAgICAgICB2YXIgY2lyY2xlX21hcmtlcl8zMTYwOWRlYTc2Yjk0MDgyODM4OGNlYTY3ZDAyNGNhNiA9IEwuY2lyY2xlTWFya2VyKAogICAgICAgICAgICAgICAgWzQwLjYzMzEzMDUxMjc1ODAxNSwtNzMuOTkwNDk4MjMwNDQ4MTFdLAogICAgICAgICAgICAgICAgewogICJidWJibGluZ01vdXNlRXZlbnRzIjogdHJ1ZSwKICAiY29sb3IiOiAiIzgwZmZiNCIsCiAgImRhc2hBcnJheSI6IG51bGwsCiAgImRhc2hPZmZzZXQiOiBudWxsLAogICJmaWxsIjogdHJ1ZSwKICAiZmlsbENvbG9yIjogIiM4MGZmYjQiLAogICJmaWxsT3BhY2l0eSI6IDAuNywKICAiZmlsbFJ1bGUiOiAiZXZlbm9kZCIsCiAgImxpbmVDYXAiOiAicm91bmQiLAogICJsaW5lSm9pbiI6ICJyb3VuZCIsCiAgIm9wYWNpdHkiOiAxLjAsCiAgInJhZGl1cyI6IDUsCiAgInN0cm9rZSI6IHRydWUsCiAgIndlaWdodCI6IDMKfQogICAgICAgICAgICAgICAgKS5hZGRUbyhtYXBfNzFhYWRhOWI2NGU5NGZhOGFhY2ZjZDdjNzgyZWI1NjEpOwogICAgICAgICAgICAKICAgIAogICAgICAgICAgICB2YXIgcG9wdXBfYzc2MjEyZTU1NjllNDAyOGFiMjFmNjJhZWM5MzAwMmMgPSBMLnBvcHVwKHttYXhXaWR0aDogJzMwMCd9KTsKCiAgICAgICAgICAgIAogICAgICAgICAgICAgICAgdmFyIGh0bWxfMmVhZDhhNmQ1ZGMyNDQ5Y2IzN2RlMTgyZWMyODQyYTcgPSAkKCc8ZGl2IGlkPSJodG1sXzJlYWQ4YTZkNWRjMjQ0OWNiMzdkZTE4MmVjMjg0MmE3IiBzdHlsZT0id2lkdGg6IDEwMC4wJTsgaGVpZ2h0OiAxMDAuMCU7Ij5Cb3JvdWdoIFBhcmsgQ2x1c3RlciAzPC9kaXY+JylbMF07CiAgICAgICAgICAgICAgICBwb3B1cF9jNzYyMTJlNTU2OWU0MDI4YWIyMWY2MmFlYzkzMDAyYy5zZXRDb250ZW50KGh0bWxfMmVhZDhhNmQ1ZGMyNDQ5Y2IzN2RlMTgyZWMyODQyYTcpOwogICAgICAgICAgICAKCiAgICAgICAgICAgIGNpcmNsZV9tYXJrZXJfMzE2MDlkZWE3NmI5NDA4MjgzODhjZWE2N2QwMjRjYTYuYmluZFBvcHVwKHBvcHVwX2M3NjIxMmU1NTY5ZTQwMjhhYjIxZjYyYWVjOTMwMDJjKTsKCiAgICAgICAgICAgIAogICAgICAgIAogICAgCiAgICAgICAgICAgIHZhciBjaXJjbGVfbWFya2VyXzNhYWExZWQyMWU1ODQ3YWFiZmJlNDBmZDhlNGFkNDE1ID0gTC5jaXJjbGVNYXJrZXIoCiAgICAgICAgICAgICAgICBbNDAuNjE5MjE5NDU3NzIyNjM2LC03NC4wMTkzMTM3NTYzNjAyMl0sCiAgICAgICAgICAgICAgICB7CiAgImJ1YmJsaW5nTW91c2VFdmVudHMiOiB0cnVlLAogICJjb2xvciI6ICIjODBmZmI0IiwKICAiZGFzaEFycmF5IjogbnVsbCwKICAiZGFzaE9mZnNldCI6IG51bGwsCiAgImZpbGwiOiB0cnVlLAogICJmaWxsQ29sb3IiOiAiIzgwZmZiNCIsCiAgImZpbGxPcGFjaXR5IjogMC43LAogICJmaWxsUnVsZSI6ICJldmVub2RkIiwKICAibGluZUNhcCI6ICJyb3VuZCIsCiAgImxpbmVKb2luIjogInJvdW5kIiwKICAib3BhY2l0eSI6IDEuMCwKICAicmFkaXVzIjogNSwKICAic3Ryb2tlIjogdHJ1ZSwKICAid2VpZ2h0IjogMwp9CiAgICAgICAgICAgICAgICApLmFkZFRvKG1hcF83MWFhZGE5YjY0ZTk0ZmE4YWFjZmNkN2M3ODJlYjU2MSk7CiAgICAgICAgICAgIAogICAgCiAgICAgICAgICAgIHZhciBwb3B1cF8wZjU4YjhlMDY2NDQ0YTVjODk0NTMwZTY0ZGE1Yzg2ZiA9IEwucG9wdXAoe21heFdpZHRoOiAnMzAwJ30pOwoKICAgICAgICAgICAgCiAgICAgICAgICAgICAgICB2YXIgaHRtbF82MTIzMjcwYjdjZjY0N2ExYTlhZWI0OGZmNGU1ZDEwZiA9ICQoJzxkaXYgaWQ9Imh0bWxfNjEyMzI3MGI3Y2Y2NDdhMWE5YWViNDhmZjRlNWQxMGYiIHN0eWxlPSJ3aWR0aDogMTAwLjAlOyBoZWlnaHQ6IDEwMC4wJTsiPkR5a2VyIEhlaWdodHMgQ2x1c3RlciAzPC9kaXY+JylbMF07CiAgICAgICAgICAgICAgICBwb3B1cF8wZjU4YjhlMDY2NDQ0YTVjODk0NTMwZTY0ZGE1Yzg2Zi5zZXRDb250ZW50KGh0bWxfNjEyMzI3MGI3Y2Y2NDdhMWE5YWViNDhmZjRlNWQxMGYpOwogICAgICAgICAgICAKCiAgICAgICAgICAgIGNpcmNsZV9tYXJrZXJfM2FhYTFlZDIxZTU4NDdhYWJmYmU0MGZkOGU0YWQ0MTUuYmluZFBvcHVwKHBvcHVwXzBmNThiOGUwNjY0NDRhNWM4OTQ1MzBlNjRkYTVjODZmKTsKCiAgICAgICAgICAgIAogICAgICAgIAogICAgCiAgICAgICAgICAgIHZhciBjaXJjbGVfbWFya2VyXzZkZjA3MmUzYzYxYzRkMGI4YzQyYjQxNDU0MmNjYTVmID0gTC5jaXJjbGVNYXJrZXIoCiAgICAgICAgICAgICAgICBbNDAuNTkwODQ4NDMzOTAyMDQ2LC03My45MzAxMDE3MDY5MTE5Nl0sCiAgICAgICAgICAgICAgICB7CiAgImJ1YmJsaW5nTW91c2VFdmVudHMiOiB0cnVlLAogICJjb2xvciI6ICIjODBmZmI0IiwKICAiZGFzaEFycmF5IjogbnVsbCwKICAiZGFzaE9mZnNldCI6IG51bGwsCiAgImZpbGwiOiB0cnVlLAogICJmaWxsQ29sb3IiOiAiIzgwZmZiNCIsCiAgImZpbGxPcGFjaXR5IjogMC43LAogICJmaWxsUnVsZSI6ICJldmVub2RkIiwKICAibGluZUNhcCI6ICJyb3VuZCIsCiAgImxpbmVKb2luIjogInJvdW5kIiwKICAib3BhY2l0eSI6IDEuMCwKICAicmFkaXVzIjogNSwKICAic3Ryb2tlIjogdHJ1ZSwKICAid2VpZ2h0IjogMwp9CiAgICAgICAgICAgICAgICApLmFkZFRvKG1hcF83MWFhZGE5YjY0ZTk0ZmE4YWFjZmNkN2M3ODJlYjU2MSk7CiAgICAgICAgICAgIAogICAgCiAgICAgICAgICAgIHZhciBwb3B1cF81YWMyNjdiNzRhMGQ0MzNjOWNjNDM5YzdlYzM3ZmZiNCA9IEwucG9wdXAoe21heFdpZHRoOiAnMzAwJ30pOwoKICAgICAgICAgICAgCiAgICAgICAgICAgICAgICB2YXIgaHRtbF82ODc3NjI0ZGYwYWY0MzFjOGQ3MWI1YmU3NTQ4MGViZSA9ICQoJzxkaXYgaWQ9Imh0bWxfNjg3NzYyNGRmMGFmNDMxYzhkNzFiNWJlNzU0ODBlYmUiIHN0eWxlPSJ3aWR0aDogMTAwLjAlOyBoZWlnaHQ6IDEwMC4wJTsiPkdlcnJpdHNlbiBCZWFjaCBDbHVzdGVyIDM8L2Rpdj4nKVswXTsKICAgICAgICAgICAgICAgIHBvcHVwXzVhYzI2N2I3NGEwZDQzM2M5Y2M0MzljN2VjMzdmZmI0LnNldENvbnRlbnQoaHRtbF82ODc3NjI0ZGYwYWY0MzFjOGQ3MWI1YmU3NTQ4MGViZSk7CiAgICAgICAgICAgIAoKICAgICAgICAgICAgY2lyY2xlX21hcmtlcl82ZGYwNzJlM2M2MWM0ZDBiOGM0MmI0MTQ1NDJjY2E1Zi5iaW5kUG9wdXAocG9wdXBfNWFjMjY3Yjc0YTBkNDMzYzljYzQzOWM3ZWMzN2ZmYjQpOwoKICAgICAgICAgICAgCiAgICAgICAgCiAgICAKICAgICAgICAgICAgdmFyIGNpcmNsZV9tYXJrZXJfOTQ2NGUzNGRjMTUyNGRkZDk0ODNhODFiM2Y3OTJjNmYgPSBMLmNpcmNsZU1hcmtlcigKICAgICAgICAgICAgICAgIFs0MC42MDk3NDc3Nzk4OTQ2MDQsLTczLjkzMTM0NDA0MTA4NDk3XSwKICAgICAgICAgICAgICAgIHsKICAiYnViYmxpbmdNb3VzZUV2ZW50cyI6IHRydWUsCiAgImNvbG9yIjogIiM4MGZmYjQiLAogICJkYXNoQXJyYXkiOiBudWxsLAogICJkYXNoT2Zmc2V0IjogbnVsbCwKICAiZmlsbCI6IHRydWUsCiAgImZpbGxDb2xvciI6ICIjODBmZmI0IiwKICAiZmlsbE9wYWNpdHkiOiAwLjcsCiAgImZpbGxSdWxlIjogImV2ZW5vZGQiLAogICJsaW5lQ2FwIjogInJvdW5kIiwKICAibGluZUpvaW4iOiAicm91bmQiLAogICJvcGFjaXR5IjogMS4wLAogICJyYWRpdXMiOiA1LAogICJzdHJva2UiOiB0cnVlLAogICJ3ZWlnaHQiOiAzCn0KICAgICAgICAgICAgICAgICkuYWRkVG8obWFwXzcxYWFkYTliNjRlOTRmYThhYWNmY2Q3Yzc4MmViNTYxKTsKICAgICAgICAgICAgCiAgICAKICAgICAgICAgICAgdmFyIHBvcHVwX2YwMTI5YzY3ODhjNjRiOThiZTQ0NGQzMDQzMGUxNDE5ID0gTC5wb3B1cCh7bWF4V2lkdGg6ICczMDAnfSk7CgogICAgICAgICAgICAKICAgICAgICAgICAgICAgIHZhciBodG1sXzBlOTA1NjhmMGNkYTRlZGI4OWI5ODRjZTJkMzFmZmUxID0gJCgnPGRpdiBpZD0iaHRtbF8wZTkwNTY4ZjBjZGE0ZWRiODliOTg0Y2UyZDMxZmZlMSIgc3R5bGU9IndpZHRoOiAxMDAuMCU7IGhlaWdodDogMTAwLjAlOyI+TWFyaW5lIFBhcmsgQ2x1c3RlciAzPC9kaXY+JylbMF07CiAgICAgICAgICAgICAgICBwb3B1cF9mMDEyOWM2Nzg4YzY0Yjk4YmU0NDRkMzA0MzBlMTQxOS5zZXRDb250ZW50KGh0bWxfMGU5MDU2OGYwY2RhNGVkYjg5Yjk4NGNlMmQzMWZmZTEpOwogICAgICAgICAgICAKCiAgICAgICAgICAgIGNpcmNsZV9tYXJrZXJfOTQ2NGUzNGRjMTUyNGRkZDk0ODNhODFiM2Y3OTJjNmYuYmluZFBvcHVwKHBvcHVwX2YwMTI5YzY3ODhjNjRiOThiZTQ0NGQzMDQzMGUxNDE5KTsKCiAgICAgICAgICAgIAogICAgICAgIAogICAgCiAgICAgICAgICAgIHZhciBjaXJjbGVfbWFya2VyX2Y1ZGNlMjU1NTY1NzQzNmM5NWEwMmU4ZTYxZGIyZDY5ID0gTC5jaXJjbGVNYXJrZXIoCiAgICAgICAgICAgICAgICBbNDAuNjkzMjI5NDIxODgxNTA0LC03My45Njc4NDMwNjIxNjM2N10sCiAgICAgICAgICAgICAgICB7CiAgImJ1YmJsaW5nTW91c2VFdmVudHMiOiB0cnVlLAogICJjb2xvciI6ICIjMDBiNWViIiwKICAiZGFzaEFycmF5IjogbnVsbCwKICAiZGFzaE9mZnNldCI6IG51bGwsCiAgImZpbGwiOiB0cnVlLAogICJmaWxsQ29sb3IiOiAiIzAwYjVlYiIsCiAgImZpbGxPcGFjaXR5IjogMC43LAogICJmaWxsUnVsZSI6ICJldmVub2RkIiwKICAibGluZUNhcCI6ICJyb3VuZCIsCiAgImxpbmVKb2luIjogInJvdW5kIiwKICAib3BhY2l0eSI6IDEuMCwKICAicmFkaXVzIjogNSwKICAic3Ryb2tlIjogdHJ1ZSwKICAid2VpZ2h0IjogMwp9CiAgICAgICAgICAgICAgICApLmFkZFRvKG1hcF83MWFhZGE5YjY0ZTk0ZmE4YWFjZmNkN2M3ODJlYjU2MSk7CiAgICAgICAgICAgIAogICAgCiAgICAgICAgICAgIHZhciBwb3B1cF9hMzA3MzI4MDAyNjY0NzQwYTljM2RlYTg3ZTNlNWZjYiA9IEwucG9wdXAoe21heFdpZHRoOiAnMzAwJ30pOwoKICAgICAgICAgICAgCiAgICAgICAgICAgICAgICB2YXIgaHRtbF8yYjg3MGNiODAxN2U0MDY2OWZkZjYyZTU5ZmI2OTA3MSA9ICQoJzxkaXYgaWQ9Imh0bWxfMmI4NzBjYjgwMTdlNDA2NjlmZGY2MmU1OWZiNjkwNzEiIHN0eWxlPSJ3aWR0aDogMTAwLjAlOyBoZWlnaHQ6IDEwMC4wJTsiPkNsaW50b24gSGlsbCBDbHVzdGVyIDI8L2Rpdj4nKVswXTsKICAgICAgICAgICAgICAgIHBvcHVwX2EzMDczMjgwMDI2NjQ3NDBhOWMzZGVhODdlM2U1ZmNiLnNldENvbnRlbnQoaHRtbF8yYjg3MGNiODAxN2U0MDY2OWZkZjYyZTU5ZmI2OTA3MSk7CiAgICAgICAgICAgIAoKICAgICAgICAgICAgY2lyY2xlX21hcmtlcl9mNWRjZTI1NTU2NTc0MzZjOTVhMDJlOGU2MWRiMmQ2OS5iaW5kUG9wdXAocG9wdXBfYTMwNzMyODAwMjY2NDc0MGE5YzNkZWE4N2UzZTVmY2IpOwoKICAgICAgICAgICAgCiAgICAgICAgCiAgICAKICAgICAgICAgICAgdmFyIGNpcmNsZV9tYXJrZXJfMWU2YWNiMjI5NWRlNDE0NDk2NjE3MzA4MTE2MDFhOTkgPSBMLmNpcmNsZU1hcmtlcigKICAgICAgICAgICAgICAgIFs0MC41NzYzNzUzNzg5MDIyNCwtNzQuMDA3ODczMTEyMDAyNF0sCiAgICAgICAgICAgICAgICB7CiAgImJ1YmJsaW5nTW91c2VFdmVudHMiOiB0cnVlLAogICJjb2xvciI6ICIjODBmZmI0IiwKICAiZGFzaEFycmF5IjogbnVsbCwKICAiZGFzaE9mZnNldCI6IG51bGwsCiAgImZpbGwiOiB0cnVlLAogICJmaWxsQ29sb3IiOiAiIzgwZmZiNCIsCiAgImZpbGxPcGFjaXR5IjogMC43LAogICJmaWxsUnVsZSI6ICJldmVub2RkIiwKICAibGluZUNhcCI6ICJyb3VuZCIsCiAgImxpbmVKb2luIjogInJvdW5kIiwKICAib3BhY2l0eSI6IDEuMCwKICAicmFkaXVzIjogNSwKICAic3Ryb2tlIjogdHJ1ZSwKICAid2VpZ2h0IjogMwp9CiAgICAgICAgICAgICAgICApLmFkZFRvKG1hcF83MWFhZGE5YjY0ZTk0ZmE4YWFjZmNkN2M3ODJlYjU2MSk7CiAgICAgICAgICAgIAogICAgCiAgICAgICAgICAgIHZhciBwb3B1cF9iMDFiNjJiN2Q2MjU0ZjMzOGQxYWUwNzcxNTEwMTZkNiA9IEwucG9wdXAoe21heFdpZHRoOiAnMzAwJ30pOwoKICAgICAgICAgICAgCiAgICAgICAgICAgICAgICB2YXIgaHRtbF8wZGFiYjI3ZGZmMTc0MDY5OTc1NGNhOTI0NjA2MzYwNSA9ICQoJzxkaXYgaWQ9Imh0bWxfMGRhYmIyN2RmZjE3NDA2OTk3NTRjYTkyNDYwNjM2MDUiIHN0eWxlPSJ3aWR0aDogMTAwLjAlOyBoZWlnaHQ6IDEwMC4wJTsiPlNlYSBHYXRlIENsdXN0ZXIgMzwvZGl2PicpWzBdOwogICAgICAgICAgICAgICAgcG9wdXBfYjAxYjYyYjdkNjI1NGYzMzhkMWFlMDc3MTUxMDE2ZDYuc2V0Q29udGVudChodG1sXzBkYWJiMjdkZmYxNzQwNjk5NzU0Y2E5MjQ2MDYzNjA1KTsKICAgICAgICAgICAgCgogICAgICAgICAgICBjaXJjbGVfbWFya2VyXzFlNmFjYjIyOTVkZTQxNDQ5NjYxNzMwODExNjAxYTk5LmJpbmRQb3B1cChwb3B1cF9iMDFiNjJiN2Q2MjU0ZjMzOGQxYWUwNzcxNTEwMTZkNik7CgogICAgICAgICAgICAKICAgICAgICAKICAgIAogICAgICAgICAgICB2YXIgY2lyY2xlX21hcmtlcl84ZjM0NjA2ODE3NDE0NzQzOTdlMjQzM2Y5OWJiZWQ1YiA9IEwuY2lyY2xlTWFya2VyKAogICAgICAgICAgICAgICAgWzQwLjY5MDg0NDAyMTA5ODAyLC03My45ODM0NjMzNzQzMTA5OV0sCiAgICAgICAgICAgICAgICB7CiAgImJ1YmJsaW5nTW91c2VFdmVudHMiOiB0cnVlLAogICJjb2xvciI6ICIjMDBiNWViIiwKICAiZGFzaEFycmF5IjogbnVsbCwKICAiZGFzaE9mZnNldCI6IG51bGwsCiAgImZpbGwiOiB0cnVlLAogICJmaWxsQ29sb3IiOiAiIzAwYjVlYiIsCiAgImZpbGxPcGFjaXR5IjogMC43LAogICJmaWxsUnVsZSI6ICJldmVub2RkIiwKICAibGluZUNhcCI6ICJyb3VuZCIsCiAgImxpbmVKb2luIjogInJvdW5kIiwKICAib3BhY2l0eSI6IDEuMCwKICAicmFkaXVzIjogNSwKICAic3Ryb2tlIjogdHJ1ZSwKICAid2VpZ2h0IjogMwp9CiAgICAgICAgICAgICAgICApLmFkZFRvKG1hcF83MWFhZGE5YjY0ZTk0ZmE4YWFjZmNkN2M3ODJlYjU2MSk7CiAgICAgICAgICAgIAogICAgCiAgICAgICAgICAgIHZhciBwb3B1cF9kZWNkMDRjZDE0OWM0ZDcwYjMzODY5NThlODAxM2MzOSA9IEwucG9wdXAoe21heFdpZHRoOiAnMzAwJ30pOwoKICAgICAgICAgICAgCiAgICAgICAgICAgICAgICB2YXIgaHRtbF8yMWNkZmRjMjBmZjM0ZWNlYWNlMDM1NjlkMTdhOTRmZiA9ICQoJzxkaXYgaWQ9Imh0bWxfMjFjZGZkYzIwZmYzNGVjZWFjZTAzNTY5ZDE3YTk0ZmYiIHN0eWxlPSJ3aWR0aDogMTAwLjAlOyBoZWlnaHQ6IDEwMC4wJTsiPkRvd250b3duIENsdXN0ZXIgMjwvZGl2PicpWzBdOwogICAgICAgICAgICAgICAgcG9wdXBfZGVjZDA0Y2QxNDljNGQ3MGIzMzg2OTU4ZTgwMTNjMzkuc2V0Q29udGVudChodG1sXzIxY2RmZGMyMGZmMzRlY2VhY2UwMzU2OWQxN2E5NGZmKTsKICAgICAgICAgICAgCgogICAgICAgICAgICBjaXJjbGVfbWFya2VyXzhmMzQ2MDY4MTc0MTQ3NDM5N2UyNDMzZjk5YmJlZDViLmJpbmRQb3B1cChwb3B1cF9kZWNkMDRjZDE0OWM0ZDcwYjMzODY5NThlODAxM2MzOSk7CgogICAgICAgICAgICAKICAgICAgICAKICAgIAogICAgICAgICAgICB2YXIgY2lyY2xlX21hcmtlcl9iZjRmZmFjNDQ1ODY0NWIwYWZmZjJmZjMyOGJlZTE0OSA9IEwuY2lyY2xlTWFya2VyKAogICAgICAgICAgICAgICAgWzQwLjY4NTY4MjkxMjA5MTQ0NCwtNzMuOTgzNzQ4MjQxMTU3OThdLAogICAgICAgICAgICAgICAgewogICJidWJibGluZ01vdXNlRXZlbnRzIjogdHJ1ZSwKICAiY29sb3IiOiAiIzAwYjVlYiIsCiAgImRhc2hBcnJheSI6IG51bGwsCiAgImRhc2hPZmZzZXQiOiBudWxsLAogICJmaWxsIjogdHJ1ZSwKICAiZmlsbENvbG9yIjogIiMwMGI1ZWIiLAogICJmaWxsT3BhY2l0eSI6IDAuNywKICAiZmlsbFJ1bGUiOiAiZXZlbm9kZCIsCiAgImxpbmVDYXAiOiAicm91bmQiLAogICJsaW5lSm9pbiI6ICJyb3VuZCIsCiAgIm9wYWNpdHkiOiAxLjAsCiAgInJhZGl1cyI6IDUsCiAgInN0cm9rZSI6IHRydWUsCiAgIndlaWdodCI6IDMKfQogICAgICAgICAgICAgICAgKS5hZGRUbyhtYXBfNzFhYWRhOWI2NGU5NGZhOGFhY2ZjZDdjNzgyZWI1NjEpOwogICAgICAgICAgICAKICAgIAogICAgICAgICAgICB2YXIgcG9wdXBfZTY5Njg1NWIzOWY5NDk5ZmIzNDkzYmIxZDYwYjA0ZDggPSBMLnBvcHVwKHttYXhXaWR0aDogJzMwMCd9KTsKCiAgICAgICAgICAgIAogICAgICAgICAgICAgICAgdmFyIGh0bWxfOWM4NTRmMjMwNGU4NDJjMzg4N2ZlYmZmZjI4Y2EzODQgPSAkKCc8ZGl2IGlkPSJodG1sXzljODU0ZjIzMDRlODQyYzM4ODdmZWJmZmYyOGNhMzg0IiBzdHlsZT0id2lkdGg6IDEwMC4wJTsgaGVpZ2h0OiAxMDAuMCU7Ij5Cb2VydW0gSGlsbCBDbHVzdGVyIDI8L2Rpdj4nKVswXTsKICAgICAgICAgICAgICAgIHBvcHVwX2U2OTY4NTViMzlmOTQ5OWZiMzQ5M2JiMWQ2MGIwNGQ4LnNldENvbnRlbnQoaHRtbF85Yzg1NGYyMzA0ZTg0MmMzODg3ZmViZmZmMjhjYTM4NCk7CiAgICAgICAgICAgIAoKICAgICAgICAgICAgY2lyY2xlX21hcmtlcl9iZjRmZmFjNDQ1ODY0NWIwYWZmZjJmZjMyOGJlZTE0OS5iaW5kUG9wdXAocG9wdXBfZTY5Njg1NWIzOWY5NDk5ZmIzNDkzYmIxZDYwYjA0ZDgpOwoKICAgICAgICAgICAgCiAgICAgICAgCiAgICAKICAgICAgICAgICAgdmFyIGNpcmNsZV9tYXJrZXJfNDczZWVhOGQ0MzNlNDQ3MThiZTQwMWRjNTg3MDAxZmQgPSBMLmNpcmNsZU1hcmtlcigKICAgICAgICAgICAgICAgIFs0MC42NTg0MjAwMTc0Njk4MTUsLTczLjk1NDg5ODY3MDc3NzEzXSwKICAgICAgICAgICAgICAgIHsKICAiYnViYmxpbmdNb3VzZUV2ZW50cyI6IHRydWUsCiAgImNvbG9yIjogIiM4MGZmYjQiLAogICJkYXNoQXJyYXkiOiBudWxsLAogICJkYXNoT2Zmc2V0IjogbnVsbCwKICAiZmlsbCI6IHRydWUsCiAgImZpbGxDb2xvciI6ICIjODBmZmI0IiwKICAiZmlsbE9wYWNpdHkiOiAwLjcsCiAgImZpbGxSdWxlIjogImV2ZW5vZGQiLAogICJsaW5lQ2FwIjogInJvdW5kIiwKICAibGluZUpvaW4iOiAicm91bmQiLAogICJvcGFjaXR5IjogMS4wLAogICJyYWRpdXMiOiA1LAogICJzdHJva2UiOiB0cnVlLAogICJ3ZWlnaHQiOiAzCn0KICAgICAgICAgICAgICAgICkuYWRkVG8obWFwXzcxYWFkYTliNjRlOTRmYThhYWNmY2Q3Yzc4MmViNTYxKTsKICAgICAgICAgICAgCiAgICAKICAgICAgICAgICAgdmFyIHBvcHVwX2I4ZDkyNDA4NjRhNTQ4ODJhMDEyOTYyYmYyYWZlMmU5ID0gTC5wb3B1cCh7bWF4V2lkdGg6ICczMDAnfSk7CgogICAgICAgICAgICAKICAgICAgICAgICAgICAgIHZhciBodG1sXzM4YWMwMTQyNGIwYTRhMDE4YjVlNWNjOWFmNGE3Yjg2ID0gJCgnPGRpdiBpZD0iaHRtbF8zOGFjMDE0MjRiMGE0YTAxOGI1ZTVjYzlhZjRhN2I4NiIgc3R5bGU9IndpZHRoOiAxMDAuMCU7IGhlaWdodDogMTAwLjAlOyI+UHJvc3BlY3QgTGVmZmVydHMgR2FyZGVucyBDbHVzdGVyIDM8L2Rpdj4nKVswXTsKICAgICAgICAgICAgICAgIHBvcHVwX2I4ZDkyNDA4NjRhNTQ4ODJhMDEyOTYyYmYyYWZlMmU5LnNldENvbnRlbnQoaHRtbF8zOGFjMDE0MjRiMGE0YTAxOGI1ZTVjYzlhZjRhN2I4Nik7CiAgICAgICAgICAgIAoKICAgICAgICAgICAgY2lyY2xlX21hcmtlcl80NzNlZWE4ZDQzM2U0NDcxOGJlNDAxZGM1ODcwMDFmZC5iaW5kUG9wdXAocG9wdXBfYjhkOTI0MDg2NGE1NDg4MmEwMTI5NjJiZjJhZmUyZTkpOwoKICAgICAgICAgICAgCiAgICAgICAgCiAgICAKICAgICAgICAgICAgdmFyIGNpcmNsZV9tYXJrZXJfMDBmN2ZlMzM2YzRlNDdkZDkyNGIyYTZiNjE5YTViOGMgPSBMLmNpcmNsZU1hcmtlcigKICAgICAgICAgICAgICAgIFs0MC42Nzg0MDI1NTQ3OTUzNTUsLTczLjkxMzA2ODMxNzg3Mzk1XSwKICAgICAgICAgICAgICAgIHsKICAiYnViYmxpbmdNb3VzZUV2ZW50cyI6IHRydWUsCiAgImNvbG9yIjogIiM4MGZmYjQiLAogICJkYXNoQXJyYXkiOiBudWxsLAogICJkYXNoT2Zmc2V0IjogbnVsbCwKICAiZmlsbCI6IHRydWUsCiAgImZpbGxDb2xvciI6ICIjODBmZmI0IiwKICAiZmlsbE9wYWNpdHkiOiAwLjcsCiAgImZpbGxSdWxlIjogImV2ZW5vZGQiLAogICJsaW5lQ2FwIjogInJvdW5kIiwKICAibGluZUpvaW4iOiAicm91bmQiLAogICJvcGFjaXR5IjogMS4wLAogICJyYWRpdXMiOiA1LAogICJzdHJva2UiOiB0cnVlLAogICJ3ZWlnaHQiOiAzCn0KICAgICAgICAgICAgICAgICkuYWRkVG8obWFwXzcxYWFkYTliNjRlOTRmYThhYWNmY2Q3Yzc4MmViNTYxKTsKICAgICAgICAgICAgCiAgICAKICAgICAgICAgICAgdmFyIHBvcHVwX2ZlYTY5NjBmM2MxNTQxMTE4NDRkOWE4N2JhYzJlN2E1ID0gTC5wb3B1cCh7bWF4V2lkdGg6ICczMDAnfSk7CgogICAgICAgICAgICAKICAgICAgICAgICAgICAgIHZhciBodG1sX2RlOTE3NTRjMmQ1MjRmMWM4MzhlMTNkMGU5NTgxNzM0ID0gJCgnPGRpdiBpZD0iaHRtbF9kZTkxNzU0YzJkNTI0ZjFjODM4ZTEzZDBlOTU4MTczNCIgc3R5bGU9IndpZHRoOiAxMDAuMCU7IGhlaWdodDogMTAwLjAlOyI+T2NlYW4gSGlsbCBDbHVzdGVyIDM8L2Rpdj4nKVswXTsKICAgICAgICAgICAgICAgIHBvcHVwX2ZlYTY5NjBmM2MxNTQxMTE4NDRkOWE4N2JhYzJlN2E1LnNldENvbnRlbnQoaHRtbF9kZTkxNzU0YzJkNTI0ZjFjODM4ZTEzZDBlOTU4MTczNCk7CiAgICAgICAgICAgIAoKICAgICAgICAgICAgY2lyY2xlX21hcmtlcl8wMGY3ZmUzMzZjNGU0N2RkOTI0YjJhNmI2MTlhNWI4Yy5iaW5kUG9wdXAocG9wdXBfZmVhNjk2MGYzYzE1NDExMTg0NGQ5YTg3YmFjMmU3YTUpOwoKICAgICAgICAgICAgCiAgICAgICAgCiAgICAKICAgICAgICAgICAgdmFyIGNpcmNsZV9tYXJrZXJfYjg1M2M3MDRhODYwNDU5NGE3Y2UzY2JiYjc1NTZhZTEgPSBMLmNpcmNsZU1hcmtlcigKICAgICAgICAgICAgICAgIFs0MC42Nzg1Njk5NTcyNzQ3OSwtNzMuODY3OTc1OTgwODEzMzRdLAogICAgICAgICAgICAgICAgewogICJidWJibGluZ01vdXNlRXZlbnRzIjogdHJ1ZSwKICAiY29sb3IiOiAiI2ZmMDAwMCIsCiAgImRhc2hBcnJheSI6IG51bGwsCiAgImRhc2hPZmZzZXQiOiBudWxsLAogICJmaWxsIjogdHJ1ZSwKICAiZmlsbENvbG9yIjogIiNmZjAwMDAiLAogICJmaWxsT3BhY2l0eSI6IDAuNywKICAiZmlsbFJ1bGUiOiAiZXZlbm9kZCIsCiAgImxpbmVDYXAiOiAicm91bmQiLAogICJsaW5lSm9pbiI6ICJyb3VuZCIsCiAgIm9wYWNpdHkiOiAxLjAsCiAgInJhZGl1cyI6IDUsCiAgInN0cm9rZSI6IHRydWUsCiAgIndlaWdodCI6IDMKfQogICAgICAgICAgICAgICAgKS5hZGRUbyhtYXBfNzFhYWRhOWI2NGU5NGZhOGFhY2ZjZDdjNzgyZWI1NjEpOwogICAgICAgICAgICAKICAgIAogICAgICAgICAgICB2YXIgcG9wdXBfYjRhNTMxYzliMGYwNGJhMTg4ZjM1NjFhNWU1NWIyNzEgPSBMLnBvcHVwKHttYXhXaWR0aDogJzMwMCd9KTsKCiAgICAgICAgICAgIAogICAgICAgICAgICAgICAgdmFyIGh0bWxfYmQ3NzIwNjZlNzNmNDNlYzk3N2M1OTFiMDJiMDQ3MWYgPSAkKCc8ZGl2IGlkPSJodG1sX2JkNzcyMDY2ZTczZjQzZWM5NzdjNTkxYjAyYjA0NzFmIiBzdHlsZT0id2lkdGg6IDEwMC4wJTsgaGVpZ2h0OiAxMDAuMCU7Ij5DaXR5IExpbmUgQ2x1c3RlciAwPC9kaXY+JylbMF07CiAgICAgICAgICAgICAgICBwb3B1cF9iNGE1MzFjOWIwZjA0YmExODhmMzU2MWE1ZTU1YjI3MS5zZXRDb250ZW50KGh0bWxfYmQ3NzIwNjZlNzNmNDNlYzk3N2M1OTFiMDJiMDQ3MWYpOwogICAgICAgICAgICAKCiAgICAgICAgICAgIGNpcmNsZV9tYXJrZXJfYjg1M2M3MDRhODYwNDU5NGE3Y2UzY2JiYjc1NTZhZTEuYmluZFBvcHVwKHBvcHVwX2I0YTUzMWM5YjBmMDRiYTE4OGYzNTYxYTVlNTViMjcxKTsKCiAgICAgICAgICAgIAogICAgICAgIAogICAgCiAgICAgICAgICAgIHZhciBjaXJjbGVfbWFya2VyX2Q1NDlhNTNkZmM1NDQ1OWViYTkxNzIzNTViYzJkMTE0ID0gTC5jaXJjbGVNYXJrZXIoCiAgICAgICAgICAgICAgICBbNDAuNjE1MTQ5NTUwNDUzMDgsLTczLjg5ODU1NjMzNjMwMzE3XSwKICAgICAgICAgICAgICAgIHsKICAiYnViYmxpbmdNb3VzZUV2ZW50cyI6IHRydWUsCiAgImNvbG9yIjogIiM4MGZmYjQiLAogICJkYXNoQXJyYXkiOiBudWxsLAogICJkYXNoT2Zmc2V0IjogbnVsbCwKICAiZmlsbCI6IHRydWUsCiAgImZpbGxDb2xvciI6ICIjODBmZmI0IiwKICAiZmlsbE9wYWNpdHkiOiAwLjcsCiAgImZpbGxSdWxlIjogImV2ZW5vZGQiLAogICJsaW5lQ2FwIjogInJvdW5kIiwKICAibGluZUpvaW4iOiAicm91bmQiLAogICJvcGFjaXR5IjogMS4wLAogICJyYWRpdXMiOiA1LAogICJzdHJva2UiOiB0cnVlLAogICJ3ZWlnaHQiOiAzCn0KICAgICAgICAgICAgICAgICkuYWRkVG8obWFwXzcxYWFkYTliNjRlOTRmYThhYWNmY2Q3Yzc4MmViNTYxKTsKICAgICAgICAgICAgCiAgICAKICAgICAgICAgICAgdmFyIHBvcHVwX2Y3ZGI5ZTgyZjAxYjQwYzQ4ZGQ5NDE3ZDk4MjUxZDE3ID0gTC5wb3B1cCh7bWF4V2lkdGg6ICczMDAnfSk7CgogICAgICAgICAgICAKICAgICAgICAgICAgICAgIHZhciBodG1sX2YzYzZiODc3ZDU1YjQ1NmVhYTJlNjE1YmIxMzA0YWViID0gJCgnPGRpdiBpZD0iaHRtbF9mM2M2Yjg3N2Q1NWI0NTZlYWEyZTYxNWJiMTMwNGFlYiIgc3R5bGU9IndpZHRoOiAxMDAuMCU7IGhlaWdodDogMTAwLjAlOyI+QmVyZ2VuIEJlYWNoIENsdXN0ZXIgMzwvZGl2PicpWzBdOwogICAgICAgICAgICAgICAgcG9wdXBfZjdkYjllODJmMDFiNDBjNDhkZDk0MTdkOTgyNTFkMTcuc2V0Q29udGVudChodG1sX2YzYzZiODc3ZDU1YjQ1NmVhYTJlNjE1YmIxMzA0YWViKTsKICAgICAgICAgICAgCgogICAgICAgICAgICBjaXJjbGVfbWFya2VyX2Q1NDlhNTNkZmM1NDQ1OWViYTkxNzIzNTViYzJkMTE0LmJpbmRQb3B1cChwb3B1cF9mN2RiOWU4MmYwMWI0MGM0OGRkOTQxN2Q5ODI1MWQxNyk7CgogICAgICAgICAgICAKICAgICAgICAKICAgIAogICAgICAgICAgICB2YXIgY2lyY2xlX21hcmtlcl8yZGE1ZGIyMjkzN2M0OTNiYmQ0OWJiYzQ3ODJiMWIyZiA9IEwuY2lyY2xlTWFya2VyKAogICAgICAgICAgICAgICAgWzQwLjYyNTU5NTg5ODY5ODQzLC03My45NTc1OTUyMzQ4OTgzOF0sCiAgICAgICAgICAgICAgICB7CiAgImJ1YmJsaW5nTW91c2VFdmVudHMiOiB0cnVlLAogICJjb2xvciI6ICIjODBmZmI0IiwKICAiZGFzaEFycmF5IjogbnVsbCwKICAiZGFzaE9mZnNldCI6IG51bGwsCiAgImZpbGwiOiB0cnVlLAogICJmaWxsQ29sb3IiOiAiIzgwZmZiNCIsCiAgImZpbGxPcGFjaXR5IjogMC43LAogICJmaWxsUnVsZSI6ICJldmVub2RkIiwKICAibGluZUNhcCI6ICJyb3VuZCIsCiAgImxpbmVKb2luIjogInJvdW5kIiwKICAib3BhY2l0eSI6IDEuMCwKICAicmFkaXVzIjogNSwKICAic3Ryb2tlIjogdHJ1ZSwKICAid2VpZ2h0IjogMwp9CiAgICAgICAgICAgICAgICApLmFkZFRvKG1hcF83MWFhZGE5YjY0ZTk0ZmE4YWFjZmNkN2M3ODJlYjU2MSk7CiAgICAgICAgICAgIAogICAgCiAgICAgICAgICAgIHZhciBwb3B1cF84NDg5NzZjMjlmZTA0ZDRhOWRjOGFmNDJiYWI3MTk1OCA9IEwucG9wdXAoe21heFdpZHRoOiAnMzAwJ30pOwoKICAgICAgICAgICAgCiAgICAgICAgICAgICAgICB2YXIgaHRtbF81NjczZGM5MmNjZTc0NGNiYmUyMDBmNWNhNmU1Nzc5NyA9ICQoJzxkaXYgaWQ9Imh0bWxfNTY3M2RjOTJjY2U3NDRjYmJlMjAwZjVjYTZlNTc3OTciIHN0eWxlPSJ3aWR0aDogMTAwLjAlOyBoZWlnaHQ6IDEwMC4wJTsiPk1pZHdvb2QgQ2x1c3RlciAzPC9kaXY+JylbMF07CiAgICAgICAgICAgICAgICBwb3B1cF84NDg5NzZjMjlmZTA0ZDRhOWRjOGFmNDJiYWI3MTk1OC5zZXRDb250ZW50KGh0bWxfNTY3M2RjOTJjY2U3NDRjYmJlMjAwZjVjYTZlNTc3OTcpOwogICAgICAgICAgICAKCiAgICAgICAgICAgIGNpcmNsZV9tYXJrZXJfMmRhNWRiMjI5MzdjNDkzYmJkNDliYmM0NzgyYjFiMmYuYmluZFBvcHVwKHBvcHVwXzg0ODk3NmMyOWZlMDRkNGE5ZGM4YWY0MmJhYjcxOTU4KTsKCiAgICAgICAgICAgIAogICAgICAgIAogICAgCiAgICAgICAgICAgIHZhciBjaXJjbGVfbWFya2VyXzljZWE0OTlkOGM0OTRhMzU5NDc4NWRkYmJjNTE1ZDFmID0gTC5jaXJjbGVNYXJrZXIoCiAgICAgICAgICAgICAgICBbNDAuNjQ3MDA4NjAzMTg1MTg1LC03My45NjI2MTMxNjcxNjA0OF0sCiAgICAgICAgICAgICAgICB7CiAgImJ1YmJsaW5nTW91c2VFdmVudHMiOiB0cnVlLAogICJjb2xvciI6ICIjODBmZmI0IiwKICAiZGFzaEFycmF5IjogbnVsbCwKICAiZGFzaE9mZnNldCI6IG51bGwsCiAgImZpbGwiOiB0cnVlLAogICJmaWxsQ29sb3IiOiAiIzgwZmZiNCIsCiAgImZpbGxPcGFjaXR5IjogMC43LAogICJmaWxsUnVsZSI6ICJldmVub2RkIiwKICAibGluZUNhcCI6ICJyb3VuZCIsCiAgImxpbmVKb2luIjogInJvdW5kIiwKICAib3BhY2l0eSI6IDEuMCwKICAicmFkaXVzIjogNSwKICAic3Ryb2tlIjogdHJ1ZSwKICAid2VpZ2h0IjogMwp9CiAgICAgICAgICAgICAgICApLmFkZFRvKG1hcF83MWFhZGE5YjY0ZTk0ZmE4YWFjZmNkN2M3ODJlYjU2MSk7CiAgICAgICAgICAgIAogICAgCiAgICAgICAgICAgIHZhciBwb3B1cF83NDliMDc0NzhlYzU0MmY2ODg4ZDVlZmI3NDZjNjgwMyA9IEwucG9wdXAoe21heFdpZHRoOiAnMzAwJ30pOwoKICAgICAgICAgICAgCiAgICAgICAgICAgICAgICB2YXIgaHRtbF85NTQ2MGJmMTEzMmM0MGQ4ODg1YTZiYmI3YTQ0YWMyNCA9ICQoJzxkaXYgaWQ9Imh0bWxfOTU0NjBiZjExMzJjNDBkODg4NWE2YmJiN2E0NGFjMjQiIHN0eWxlPSJ3aWR0aDogMTAwLjAlOyBoZWlnaHQ6IDEwMC4wJTsiPlByb3NwZWN0IFBhcmsgU291dGggQ2x1c3RlciAzPC9kaXY+JylbMF07CiAgICAgICAgICAgICAgICBwb3B1cF83NDliMDc0NzhlYzU0MmY2ODg4ZDVlZmI3NDZjNjgwMy5zZXRDb250ZW50KGh0bWxfOTU0NjBiZjExMzJjNDBkODg4NWE2YmJiN2E0NGFjMjQpOwogICAgICAgICAgICAKCiAgICAgICAgICAgIGNpcmNsZV9tYXJrZXJfOWNlYTQ5OWQ4YzQ5NGEzNTk0Nzg1ZGRiYmM1MTVkMWYuYmluZFBvcHVwKHBvcHVwXzc0OWIwNzQ3OGVjNTQyZjY4ODhkNWVmYjc0NmM2ODAzKTsKCiAgICAgICAgICAgIAogICAgICAgIAogICAgCiAgICAgICAgICAgIHZhciBjaXJjbGVfbWFya2VyX2I3ZGJiNTY1NjQyYTRjNzE5ZjhjYmFiY2FjMWNjOTIxID0gTC5jaXJjbGVNYXJrZXIoCiAgICAgICAgICAgICAgICBbNDAuNjIzODQ1MjQ0Nzg0MTksLTczLjkxNjA3NDgzOTUxMzI0XSwKICAgICAgICAgICAgICAgIHsKICAiYnViYmxpbmdNb3VzZUV2ZW50cyI6IHRydWUsCiAgImNvbG9yIjogIiM4MGZmYjQiLAogICJkYXNoQXJyYXkiOiBudWxsLAogICJkYXNoT2Zmc2V0IjogbnVsbCwKICAiZmlsbCI6IHRydWUsCiAgImZpbGxDb2xvciI6ICIjODBmZmI0IiwKICAiZmlsbE9wYWNpdHkiOiAwLjcsCiAgImZpbGxSdWxlIjogImV2ZW5vZGQiLAogICJsaW5lQ2FwIjogInJvdW5kIiwKICAibGluZUpvaW4iOiAicm91bmQiLAogICJvcGFjaXR5IjogMS4wLAogICJyYWRpdXMiOiA1LAogICJzdHJva2UiOiB0cnVlLAogICJ3ZWlnaHQiOiAzCn0KICAgICAgICAgICAgICAgICkuYWRkVG8obWFwXzcxYWFkYTliNjRlOTRmYThhYWNmY2Q3Yzc4MmViNTYxKTsKICAgICAgICAgICAgCiAgICAKICAgICAgICAgICAgdmFyIHBvcHVwX2NlNGExYjdlNjFjZDQyMTY4ZDM0OGJiNTRkOTU3MzRmID0gTC5wb3B1cCh7bWF4V2lkdGg6ICczMDAnfSk7CgogICAgICAgICAgICAKICAgICAgICAgICAgICAgIHZhciBodG1sX2YxMWRmMzk5MjM2ZTRlNjQ4MjFjYmYzY2NiNGJlODdkID0gJCgnPGRpdiBpZD0iaHRtbF9mMTFkZjM5OTIzNmU0ZTY0ODIxY2JmM2NjYjRiZTg3ZCIgc3R5bGU9IndpZHRoOiAxMDAuMCU7IGhlaWdodDogMTAwLjAlOyI+R2VvcmdldG93biBDbHVzdGVyIDM8L2Rpdj4nKVswXTsKICAgICAgICAgICAgICAgIHBvcHVwX2NlNGExYjdlNjFjZDQyMTY4ZDM0OGJiNTRkOTU3MzRmLnNldENvbnRlbnQoaHRtbF9mMTFkZjM5OTIzNmU0ZTY0ODIxY2JmM2NjYjRiZTg3ZCk7CiAgICAgICAgICAgIAoKICAgICAgICAgICAgY2lyY2xlX21hcmtlcl9iN2RiYjU2NTY0MmE0YzcxOWY4Y2JhYmNhYzFjYzkyMS5iaW5kUG9wdXAocG9wdXBfY2U0YTFiN2U2MWNkNDIxNjhkMzQ4YmI1NGQ5NTczNGYpOwoKICAgICAgICAgICAgCiAgICAgICAgCiAgICAKICAgICAgICAgICAgdmFyIGNpcmNsZV9tYXJrZXJfYThiZmM3OTI1NTU2NGE5OGIwNGY0MmQxMzUwZGYyNWMgPSBMLmNpcmNsZU1hcmtlcigKICAgICAgICAgICAgICAgIFs0MC43MDg0OTI0MTA0MTU0OCwtNzMuOTM4ODU4MTUyNjkxOTVdLAogICAgICAgICAgICAgICAgewogICJidWJibGluZ01vdXNlRXZlbnRzIjogdHJ1ZSwKICAiY29sb3IiOiAiIzAwYjVlYiIsCiAgImRhc2hBcnJheSI6IG51bGwsCiAgImRhc2hPZmZzZXQiOiBudWxsLAogICJmaWxsIjogdHJ1ZSwKICAiZmlsbENvbG9yIjogIiMwMGI1ZWIiLAogICJmaWxsT3BhY2l0eSI6IDAuNywKICAiZmlsbFJ1bGUiOiAiZXZlbm9kZCIsCiAgImxpbmVDYXAiOiAicm91bmQiLAogICJsaW5lSm9pbiI6ICJyb3VuZCIsCiAgIm9wYWNpdHkiOiAxLjAsCiAgInJhZGl1cyI6IDUsCiAgInN0cm9rZSI6IHRydWUsCiAgIndlaWdodCI6IDMKfQogICAgICAgICAgICAgICAgKS5hZGRUbyhtYXBfNzFhYWRhOWI2NGU5NGZhOGFhY2ZjZDdjNzgyZWI1NjEpOwogICAgICAgICAgICAKICAgIAogICAgICAgICAgICB2YXIgcG9wdXBfZjA5NGQzNmY2Y2MzNGMzZWI1NGYwYTQ4N2ZhZjhlMmUgPSBMLnBvcHVwKHttYXhXaWR0aDogJzMwMCd9KTsKCiAgICAgICAgICAgIAogICAgICAgICAgICAgICAgdmFyIGh0bWxfNzJmYzkzNTU1Y2ZiNDJjZWE4OGE1Y2UwODZhN2JlNDkgPSAkKCc8ZGl2IGlkPSJodG1sXzcyZmM5MzU1NWNmYjQyY2VhODhhNWNlMDg2YTdiZTQ5IiBzdHlsZT0id2lkdGg6IDEwMC4wJTsgaGVpZ2h0OiAxMDAuMCU7Ij5FYXN0IFdpbGxpYW1zYnVyZyBDbHVzdGVyIDI8L2Rpdj4nKVswXTsKICAgICAgICAgICAgICAgIHBvcHVwX2YwOTRkMzZmNmNjMzRjM2ViNTRmMGE0ODdmYWY4ZTJlLnNldENvbnRlbnQoaHRtbF83MmZjOTM1NTVjZmI0MmNlYTg4YTVjZTA4NmE3YmU0OSk7CiAgICAgICAgICAgIAoKICAgICAgICAgICAgY2lyY2xlX21hcmtlcl9hOGJmYzc5MjU1NTY0YTk4YjA0ZjQyZDEzNTBkZjI1Yy5iaW5kUG9wdXAocG9wdXBfZjA5NGQzNmY2Y2MzNGMzZWI1NGYwYTQ4N2ZhZjhlMmUpOwoKICAgICAgICAgICAgCiAgICAgICAgCiAgICAKICAgICAgICAgICAgdmFyIGNpcmNsZV9tYXJrZXJfOTgxZjQ3MGI1Mjc0NDM4ZGI0YTY1ZTg0ZWVjNGM5ODkgPSBMLmNpcmNsZU1hcmtlcigKICAgICAgICAgICAgICAgIFs0MC43MTQ4MjI5MDY1MzIwMTQsLTczLjk1ODgwODU3NTg3NTgyXSwKICAgICAgICAgICAgICAgIHsKICAiYnViYmxpbmdNb3VzZUV2ZW50cyI6IHRydWUsCiAgImNvbG9yIjogIiMwMGI1ZWIiLAogICJkYXNoQXJyYXkiOiBudWxsLAogICJkYXNoT2Zmc2V0IjogbnVsbCwKICAiZmlsbCI6IHRydWUsCiAgImZpbGxDb2xvciI6ICIjMDBiNWViIiwKICAiZmlsbE9wYWNpdHkiOiAwLjcsCiAgImZpbGxSdWxlIjogImV2ZW5vZGQiLAogICJsaW5lQ2FwIjogInJvdW5kIiwKICAibGluZUpvaW4iOiAicm91bmQiLAogICJvcGFjaXR5IjogMS4wLAogICJyYWRpdXMiOiA1LAogICJzdHJva2UiOiB0cnVlLAogICJ3ZWlnaHQiOiAzCn0KICAgICAgICAgICAgICAgICkuYWRkVG8obWFwXzcxYWFkYTliNjRlOTRmYThhYWNmY2Q3Yzc4MmViNTYxKTsKICAgICAgICAgICAgCiAgICAKICAgICAgICAgICAgdmFyIHBvcHVwXzNiYTkxOWQxNGM5YTQ3ODFhMTc5ZmMyY2E4YjMzMmQ4ID0gTC5wb3B1cCh7bWF4V2lkdGg6ICczMDAnfSk7CgogICAgICAgICAgICAKICAgICAgICAgICAgICAgIHZhciBodG1sXzUwN2MwYzRlYzIxYTQ3MGNiOTYwZWE3YjI5MmVmNDMzID0gJCgnPGRpdiBpZD0iaHRtbF81MDdjMGM0ZWMyMWE0NzBjYjk2MGVhN2IyOTJlZjQzMyIgc3R5bGU9IndpZHRoOiAxMDAuMCU7IGhlaWdodDogMTAwLjAlOyI+Tm9ydGggU2lkZSBDbHVzdGVyIDI8L2Rpdj4nKVswXTsKICAgICAgICAgICAgICAgIHBvcHVwXzNiYTkxOWQxNGM5YTQ3ODFhMTc5ZmMyY2E4YjMzMmQ4LnNldENvbnRlbnQoaHRtbF81MDdjMGM0ZWMyMWE0NzBjYjk2MGVhN2IyOTJlZjQzMyk7CiAgICAgICAgICAgIAoKICAgICAgICAgICAgY2lyY2xlX21hcmtlcl85ODFmNDcwYjUyNzQ0MzhkYjRhNjVlODRlZWM0Yzk4OS5iaW5kUG9wdXAocG9wdXBfM2JhOTE5ZDE0YzlhNDc4MWExNzlmYzJjYThiMzMyZDgpOwoKICAgICAgICAgICAgCiAgICAgICAgCiAgICAKICAgICAgICAgICAgdmFyIGNpcmNsZV9tYXJrZXJfYzEyYTE5ZjIwYTc2NGU0YWE1NDhjYjEzMmIwZjg0MDEgPSBMLmNpcmNsZU1hcmtlcigKICAgICAgICAgICAgICAgIFs0MC43MTA4NjE0NzI2NTA2NCwtNzMuOTU4MDAwOTUxNTMzMzFdLAogICAgICAgICAgICAgICAgewogICJidWJibGluZ01vdXNlRXZlbnRzIjogdHJ1ZSwKICAiY29sb3IiOiAiIzAwYjVlYiIsCiAgImRhc2hBcnJheSI6IG51bGwsCiAgImRhc2hPZmZzZXQiOiBudWxsLAogICJmaWxsIjogdHJ1ZSwKICAiZmlsbENvbG9yIjogIiMwMGI1ZWIiLAogICJmaWxsT3BhY2l0eSI6IDAuNywKICAiZmlsbFJ1bGUiOiAiZXZlbm9kZCIsCiAgImxpbmVDYXAiOiAicm91bmQiLAogICJsaW5lSm9pbiI6ICJyb3VuZCIsCiAgIm9wYWNpdHkiOiAxLjAsCiAgInJhZGl1cyI6IDUsCiAgInN0cm9rZSI6IHRydWUsCiAgIndlaWdodCI6IDMKfQogICAgICAgICAgICAgICAgKS5hZGRUbyhtYXBfNzFhYWRhOWI2NGU5NGZhOGFhY2ZjZDdjNzgyZWI1NjEpOwogICAgICAgICAgICAKICAgIAogICAgICAgICAgICB2YXIgcG9wdXBfMTg5ZjQ5NmU5NmEyNGEwNDk3YTc4Y2ViNDUxMWFiYTggPSBMLnBvcHVwKHttYXhXaWR0aDogJzMwMCd9KTsKCiAgICAgICAgICAgIAogICAgICAgICAgICAgICAgdmFyIGh0bWxfZGU0YTNlYmRhMzZiNGQ5YjlhNjMxNDg2ZTc5ZGNlYTQgPSAkKCc8ZGl2IGlkPSJodG1sX2RlNGEzZWJkYTM2YjRkOWI5YTYzMTQ4NmU3OWRjZWE0IiBzdHlsZT0id2lkdGg6IDEwMC4wJTsgaGVpZ2h0OiAxMDAuMCU7Ij5Tb3V0aCBTaWRlIENsdXN0ZXIgMjwvZGl2PicpWzBdOwogICAgICAgICAgICAgICAgcG9wdXBfMTg5ZjQ5NmU5NmEyNGEwNDk3YTc4Y2ViNDUxMWFiYTguc2V0Q29udGVudChodG1sX2RlNGEzZWJkYTM2YjRkOWI5YTYzMTQ4NmU3OWRjZWE0KTsKICAgICAgICAgICAgCgogICAgICAgICAgICBjaXJjbGVfbWFya2VyX2MxMmExOWYyMGE3NjRlNGFhNTQ4Y2IxMzJiMGY4NDAxLmJpbmRQb3B1cChwb3B1cF8xODlmNDk2ZTk2YTI0YTA0OTdhNzhjZWI0NTExYWJhOCk7CgogICAgICAgICAgICAKICAgICAgICAKICAgIAogICAgICAgICAgICB2YXIgY2lyY2xlX21hcmtlcl9lZWIyYWQ1YTJlOWE0ZjZkOGE4NDA5ZjU4M2FhMmM3OCA9IEwuY2lyY2xlTWFya2VyKAogICAgICAgICAgICAgICAgWzQwLjYxMzA1OTc2NjY3OTQyLC03My45NjgzNjY3ODAzNTU0MV0sCiAgICAgICAgICAgICAgICB7CiAgImJ1YmJsaW5nTW91c2VFdmVudHMiOiB0cnVlLAogICJjb2xvciI6ICIjODBmZmI0IiwKICAiZGFzaEFycmF5IjogbnVsbCwKICAiZGFzaE9mZnNldCI6IG51bGwsCiAgImZpbGwiOiB0cnVlLAogICJmaWxsQ29sb3IiOiAiIzgwZmZiNCIsCiAgImZpbGxPcGFjaXR5IjogMC43LAogICJmaWxsUnVsZSI6ICJldmVub2RkIiwKICAibGluZUNhcCI6ICJyb3VuZCIsCiAgImxpbmVKb2luIjogInJvdW5kIiwKICAib3BhY2l0eSI6IDEuMCwKICAicmFkaXVzIjogNSwKICAic3Ryb2tlIjogdHJ1ZSwKICAid2VpZ2h0IjogMwp9CiAgICAgICAgICAgICAgICApLmFkZFRvKG1hcF83MWFhZGE5YjY0ZTk0ZmE4YWFjZmNkN2M3ODJlYjU2MSk7CiAgICAgICAgICAgIAogICAgCiAgICAgICAgICAgIHZhciBwb3B1cF8xMTUxMTk4ZGI3M2I0OWUzOTc0ZDI2YTc1MWZkOTA2MiA9IEwucG9wdXAoe21heFdpZHRoOiAnMzAwJ30pOwoKICAgICAgICAgICAgCiAgICAgICAgICAgICAgICB2YXIgaHRtbF8zM2ZkZDdkOGFjOWM0Y2Q3YTZhNzM5NTMxN2E1MjcxOSA9ICQoJzxkaXYgaWQ9Imh0bWxfMzNmZGQ3ZDhhYzljNGNkN2E2YTczOTUzMTdhNTI3MTkiIHN0eWxlPSJ3aWR0aDogMTAwLjAlOyBoZWlnaHQ6IDEwMC4wJTsiPk9jZWFuIFBhcmt3YXkgQ2x1c3RlciAzPC9kaXY+JylbMF07CiAgICAgICAgICAgICAgICBwb3B1cF8xMTUxMTk4ZGI3M2I0OWUzOTc0ZDI2YTc1MWZkOTA2Mi5zZXRDb250ZW50KGh0bWxfMzNmZGQ3ZDhhYzljNGNkN2E2YTczOTUzMTdhNTI3MTkpOwogICAgICAgICAgICAKCiAgICAgICAgICAgIGNpcmNsZV9tYXJrZXJfZWViMmFkNWEyZTlhNGY2ZDhhODQwOWY1ODNhYTJjNzguYmluZFBvcHVwKHBvcHVwXzExNTExOThkYjczYjQ5ZTM5NzRkMjZhNzUxZmQ5MDYyKTsKCiAgICAgICAgICAgIAogICAgICAgIAogICAgCiAgICAgICAgICAgIHZhciBjaXJjbGVfbWFya2VyX2M0ZDMyMmFiOTZiMjQ2YmU5M2I2OWM5YmJhNDg3NTQ2ID0gTC5jaXJjbGVNYXJrZXIoCiAgICAgICAgICAgICAgICBbNDAuNjE0NzY4MTI2OTQyMjYsLTc0LjAzMTk3OTE0NTM3OTg0XSwKICAgICAgICAgICAgICAgIHsKICAiYnViYmxpbmdNb3VzZUV2ZW50cyI6IHRydWUsCiAgImNvbG9yIjogIiM4MGZmYjQiLAogICJkYXNoQXJyYXkiOiBudWxsLAogICJkYXNoT2Zmc2V0IjogbnVsbCwKICAiZmlsbCI6IHRydWUsCiAgImZpbGxDb2xvciI6ICIjODBmZmI0IiwKICAiZmlsbE9wYWNpdHkiOiAwLjcsCiAgImZpbGxSdWxlIjogImV2ZW5vZGQiLAogICJsaW5lQ2FwIjogInJvdW5kIiwKICAibGluZUpvaW4iOiAicm91bmQiLAogICJvcGFjaXR5IjogMS4wLAogICJyYWRpdXMiOiA1LAogICJzdHJva2UiOiB0cnVlLAogICJ3ZWlnaHQiOiAzCn0KICAgICAgICAgICAgICAgICkuYWRkVG8obWFwXzcxYWFkYTliNjRlOTRmYThhYWNmY2Q3Yzc4MmViNTYxKTsKICAgICAgICAgICAgCiAgICAKICAgICAgICAgICAgdmFyIHBvcHVwX2RhY2E1N2NhYzBhNzRlMzZhMjQ0MDZlMDc2NWM1NjA4ID0gTC5wb3B1cCh7bWF4V2lkdGg6ICczMDAnfSk7CgogICAgICAgICAgICAKICAgICAgICAgICAgICAgIHZhciBodG1sXzBmOGQ2ODU0NzVhZjRiMmE5YTBhYjQyNzZjNWFiMDBhID0gJCgnPGRpdiBpZD0iaHRtbF8wZjhkNjg1NDc1YWY0YjJhOWEwYWI0Mjc2YzVhYjAwYSIgc3R5bGU9IndpZHRoOiAxMDAuMCU7IGhlaWdodDogMTAwLjAlOyI+Rm9ydCBIYW1pbHRvbiBDbHVzdGVyIDM8L2Rpdj4nKVswXTsKICAgICAgICAgICAgICAgIHBvcHVwX2RhY2E1N2NhYzBhNzRlMzZhMjQ0MDZlMDc2NWM1NjA4LnNldENvbnRlbnQoaHRtbF8wZjhkNjg1NDc1YWY0YjJhOWEwYWI0Mjc2YzVhYjAwYSk7CiAgICAgICAgICAgIAoKICAgICAgICAgICAgY2lyY2xlX21hcmtlcl9jNGQzMjJhYjk2YjI0NmJlOTNiNjljOWJiYTQ4NzU0Ni5iaW5kUG9wdXAocG9wdXBfZGFjYTU3Y2FjMGE3NGUzNmEyNDQwNmUwNzY1YzU2MDgpOwoKICAgICAgICAgICAgCiAgICAgICAgCiAgICAKICAgICAgICAgICAgdmFyIGNpcmNsZV9tYXJrZXJfN2VlMmYyNzYwYmMxNGY2OTgzMjdlYjI4MWVhNjYyMjIgPSBMLmNpcmNsZU1hcmtlcigKICAgICAgICAgICAgICAgIFs0MC43MTU2MTg0MjIzMTQzMiwtNzMuOTk0Mjc5MzYyNTU5NzhdLAogICAgICAgICAgICAgICAgewogICJidWJibGluZ01vdXNlRXZlbnRzIjogdHJ1ZSwKICAiY29sb3IiOiAiIzAwYjVlYiIsCiAgImRhc2hBcnJheSI6IG51bGwsCiAgImRhc2hPZmZzZXQiOiBudWxsLAogICJmaWxsIjogdHJ1ZSwKICAiZmlsbENvbG9yIjogIiMwMGI1ZWIiLAogICJmaWxsT3BhY2l0eSI6IDAuNywKICAiZmlsbFJ1bGUiOiAiZXZlbm9kZCIsCiAgImxpbmVDYXAiOiAicm91bmQiLAogICJsaW5lSm9pbiI6ICJyb3VuZCIsCiAgIm9wYWNpdHkiOiAxLjAsCiAgInJhZGl1cyI6IDUsCiAgInN0cm9rZSI6IHRydWUsCiAgIndlaWdodCI6IDMKfQogICAgICAgICAgICAgICAgKS5hZGRUbyhtYXBfNzFhYWRhOWI2NGU5NGZhOGFhY2ZjZDdjNzgyZWI1NjEpOwogICAgICAgICAgICAKICAgIAogICAgICAgICAgICB2YXIgcG9wdXBfOWNmMjNmZmNmYTA0NGI0ZmIwYTcyYmZjZWEzNmE0NGEgPSBMLnBvcHVwKHttYXhXaWR0aDogJzMwMCd9KTsKCiAgICAgICAgICAgIAogICAgICAgICAgICAgICAgdmFyIGh0bWxfNmU4ZmZiZmViNWFjNDc0Mjg2NzQzNjdiMWUyZDNiYjQgPSAkKCc8ZGl2IGlkPSJodG1sXzZlOGZmYmZlYjVhYzQ3NDI4Njc0MzY3YjFlMmQzYmI0IiBzdHlsZT0id2lkdGg6IDEwMC4wJTsgaGVpZ2h0OiAxMDAuMCU7Ij5DaGluYXRvd24gQ2x1c3RlciAyPC9kaXY+JylbMF07CiAgICAgICAgICAgICAgICBwb3B1cF85Y2YyM2ZmY2ZhMDQ0YjRmYjBhNzJiZmNlYTM2YTQ0YS5zZXRDb250ZW50KGh0bWxfNmU4ZmZiZmViNWFjNDc0Mjg2NzQzNjdiMWUyZDNiYjQpOwogICAgICAgICAgICAKCiAgICAgICAgICAgIGNpcmNsZV9tYXJrZXJfN2VlMmYyNzYwYmMxNGY2OTgzMjdlYjI4MWVhNjYyMjIuYmluZFBvcHVwKHBvcHVwXzljZjIzZmZjZmEwNDRiNGZiMGE3MmJmY2VhMzZhNDRhKTsKCiAgICAgICAgICAgIAogICAgICAgIAogICAgCiAgICAgICAgICAgIHZhciBjaXJjbGVfbWFya2VyX2U5MWFjNTg1ODY1NDQ1NzE4Mzg5NWI4MmU1Zjc5Mzg2ID0gTC5jaXJjbGVNYXJrZXIoCiAgICAgICAgICAgICAgICBbNDAuODUxOTAyNTI1NTUzMDUsLTczLjkzNjkwMDI3OTg1MjM0XSwKICAgICAgICAgICAgICAgIHsKICAiYnViYmxpbmdNb3VzZUV2ZW50cyI6IHRydWUsCiAgImNvbG9yIjogIiNmZmIzNjAiLAogICJkYXNoQXJyYXkiOiBudWxsLAogICJkYXNoT2Zmc2V0IjogbnVsbCwKICAiZmlsbCI6IHRydWUsCiAgImZpbGxDb2xvciI6ICIjZmZiMzYwIiwKICAiZmlsbE9wYWNpdHkiOiAwLjcsCiAgImZpbGxSdWxlIjogImV2ZW5vZGQiLAogICJsaW5lQ2FwIjogInJvdW5kIiwKICAibGluZUpvaW4iOiAicm91bmQiLAogICJvcGFjaXR5IjogMS4wLAogICJyYWRpdXMiOiA1LAogICJzdHJva2UiOiB0cnVlLAogICJ3ZWlnaHQiOiAzCn0KICAgICAgICAgICAgICAgICkuYWRkVG8obWFwXzcxYWFkYTliNjRlOTRmYThhYWNmY2Q3Yzc4MmViNTYxKTsKICAgICAgICAgICAgCiAgICAKICAgICAgICAgICAgdmFyIHBvcHVwXzBiODI1OGJmYjA5YTQwYWM5NzY3YzFmMTgxZWJiZDk1ID0gTC5wb3B1cCh7bWF4V2lkdGg6ICczMDAnfSk7CgogICAgICAgICAgICAKICAgICAgICAgICAgICAgIHZhciBodG1sXzM2NzgyZTZjYTZiMTRjMjc4YTFiZDMyOWQ5MzU0OTQwID0gJCgnPGRpdiBpZD0iaHRtbF8zNjc4MmU2Y2E2YjE0YzI3OGExYmQzMjlkOTM1NDk0MCIgc3R5bGU9IndpZHRoOiAxMDAuMCU7IGhlaWdodDogMTAwLjAlOyI+V2FzaGluZ3RvbiBIZWlnaHRzIENsdXN0ZXIgNDwvZGl2PicpWzBdOwogICAgICAgICAgICAgICAgcG9wdXBfMGI4MjU4YmZiMDlhNDBhYzk3NjdjMWYxODFlYmJkOTUuc2V0Q29udGVudChodG1sXzM2NzgyZTZjYTZiMTRjMjc4YTFiZDMyOWQ5MzU0OTQwKTsKICAgICAgICAgICAgCgogICAgICAgICAgICBjaXJjbGVfbWFya2VyX2U5MWFjNTg1ODY1NDQ1NzE4Mzg5NWI4MmU1Zjc5Mzg2LmJpbmRQb3B1cChwb3B1cF8wYjgyNThiZmIwOWE0MGFjOTc2N2MxZjE4MWViYmQ5NSk7CgogICAgICAgICAgICAKICAgICAgICAKICAgIAogICAgICAgICAgICB2YXIgY2lyY2xlX21hcmtlcl8xN2Q3ZWY5Yzk1ZDU0MzUwYjc3MThkODM3NGY3YjQyOSA9IEwuY2lyY2xlTWFya2VyKAogICAgICAgICAgICAgICAgWzQwLjg2NzY4Mzk2NDQ5OTE1LC03My45MjEyMTA0MjIwMzg5N10sCiAgICAgICAgICAgICAgICB7CiAgImJ1YmJsaW5nTW91c2VFdmVudHMiOiB0cnVlLAogICJjb2xvciI6ICIjZmZiMzYwIiwKICAiZGFzaEFycmF5IjogbnVsbCwKICAiZGFzaE9mZnNldCI6IG51bGwsCiAgImZpbGwiOiB0cnVlLAogICJmaWxsQ29sb3IiOiAiI2ZmYjM2MCIsCiAgImZpbGxPcGFjaXR5IjogMC43LAogICJmaWxsUnVsZSI6ICJldmVub2RkIiwKICAibGluZUNhcCI6ICJyb3VuZCIsCiAgImxpbmVKb2luIjogInJvdW5kIiwKICAib3BhY2l0eSI6IDEuMCwKICAicmFkaXVzIjogNSwKICAic3Ryb2tlIjogdHJ1ZSwKICAid2VpZ2h0IjogMwp9CiAgICAgICAgICAgICAgICApLmFkZFRvKG1hcF83MWFhZGE5YjY0ZTk0ZmE4YWFjZmNkN2M3ODJlYjU2MSk7CiAgICAgICAgICAgIAogICAgCiAgICAgICAgICAgIHZhciBwb3B1cF84YTUyOGMyMWJmOTQ0NTAxYjAxNDRkOWRmOTllNzNlMiA9IEwucG9wdXAoe21heFdpZHRoOiAnMzAwJ30pOwoKICAgICAgICAgICAgCiAgICAgICAgICAgICAgICB2YXIgaHRtbF83MDNhZjZlNWQ2Mjg0MDZjYTU0MmMxZDYyZmM1ZmE4NiA9ICQoJzxkaXYgaWQ9Imh0bWxfNzAzYWY2ZTVkNjI4NDA2Y2E1NDJjMWQ2MmZjNWZhODYiIHN0eWxlPSJ3aWR0aDogMTAwLjAlOyBoZWlnaHQ6IDEwMC4wJTsiPklud29vZCBDbHVzdGVyIDQ8L2Rpdj4nKVswXTsKICAgICAgICAgICAgICAgIHBvcHVwXzhhNTI4YzIxYmY5NDQ1MDFiMDE0NGQ5ZGY5OWU3M2UyLnNldENvbnRlbnQoaHRtbF83MDNhZjZlNWQ2Mjg0MDZjYTU0MmMxZDYyZmM1ZmE4Nik7CiAgICAgICAgICAgIAoKICAgICAgICAgICAgY2lyY2xlX21hcmtlcl8xN2Q3ZWY5Yzk1ZDU0MzUwYjc3MThkODM3NGY3YjQyOS5iaW5kUG9wdXAocG9wdXBfOGE1MjhjMjFiZjk0NDUwMWIwMTQ0ZDlkZjk5ZTczZTIpOwoKICAgICAgICAgICAgCiAgICAgICAgCiAgICAKICAgICAgICAgICAgdmFyIGNpcmNsZV9tYXJrZXJfM2Y0ZTIxMzdlZTM2NDU1ZWE4YjBhZDY4YjBjMDllZmEgPSBMLmNpcmNsZU1hcmtlcigKICAgICAgICAgICAgICAgIFs0MC44MjM2MDQyODQ4MTE5MzUsLTczLjk0OTY4NzkxODgzMzY2XSwKICAgICAgICAgICAgICAgIHsKICAiYnViYmxpbmdNb3VzZUV2ZW50cyI6IHRydWUsCiAgImNvbG9yIjogIiNmZmIzNjAiLAogICJkYXNoQXJyYXkiOiBudWxsLAogICJkYXNoT2Zmc2V0IjogbnVsbCwKICAiZmlsbCI6IHRydWUsCiAgImZpbGxDb2xvciI6ICIjZmZiMzYwIiwKICAiZmlsbE9wYWNpdHkiOiAwLjcsCiAgImZpbGxSdWxlIjogImV2ZW5vZGQiLAogICJsaW5lQ2FwIjogInJvdW5kIiwKICAibGluZUpvaW4iOiAicm91bmQiLAogICJvcGFjaXR5IjogMS4wLAogICJyYWRpdXMiOiA1LAogICJzdHJva2UiOiB0cnVlLAogICJ3ZWlnaHQiOiAzCn0KICAgICAgICAgICAgICAgICkuYWRkVG8obWFwXzcxYWFkYTliNjRlOTRmYThhYWNmY2Q3Yzc4MmViNTYxKTsKICAgICAgICAgICAgCiAgICAKICAgICAgICAgICAgdmFyIHBvcHVwXzg2YmIxMzE1MjI3ODRmMjRhYWM1NWU0YmRjYzU0OTg1ID0gTC5wb3B1cCh7bWF4V2lkdGg6ICczMDAnfSk7CgogICAgICAgICAgICAKICAgICAgICAgICAgICAgIHZhciBodG1sXzE5M2E0NDI3YjBhNjQ5NDI5YmQ4ZDM2ZGU1YTcxYzBkID0gJCgnPGRpdiBpZD0iaHRtbF8xOTNhNDQyN2IwYTY0OTQyOWJkOGQzNmRlNWE3MWMwZCIgc3R5bGU9IndpZHRoOiAxMDAuMCU7IGhlaWdodDogMTAwLjAlOyI+SGFtaWx0b24gSGVpZ2h0cyBDbHVzdGVyIDQ8L2Rpdj4nKVswXTsKICAgICAgICAgICAgICAgIHBvcHVwXzg2YmIxMzE1MjI3ODRmMjRhYWM1NWU0YmRjYzU0OTg1LnNldENvbnRlbnQoaHRtbF8xOTNhNDQyN2IwYTY0OTQyOWJkOGQzNmRlNWE3MWMwZCk7CiAgICAgICAgICAgIAoKICAgICAgICAgICAgY2lyY2xlX21hcmtlcl8zZjRlMjEzN2VlMzY0NTVlYThiMGFkNjhiMGMwOWVmYS5iaW5kUG9wdXAocG9wdXBfODZiYjEzMTUyMjc4NGYyNGFhYzU1ZTRiZGNjNTQ5ODUpOwoKICAgICAgICAgICAgCiAgICAgICAgCiAgICAKICAgICAgICAgICAgdmFyIGNpcmNsZV9tYXJrZXJfZTdhNTk5NDA0ODNkNGI4YzkzMmYzZmQzMjQ5ODVjNmYgPSBMLmNpcmNsZU1hcmtlcigKICAgICAgICAgICAgICAgIFs0MC44MTY5MzQ0Mjk0OTc4LC03My45NTczODUzOTM1MTg4XSwKICAgICAgICAgICAgICAgIHsKICAiYnViYmxpbmdNb3VzZUV2ZW50cyI6IHRydWUsCiAgImNvbG9yIjogIiMwMGI1ZWIiLAogICJkYXNoQXJyYXkiOiBudWxsLAogICJkYXNoT2Zmc2V0IjogbnVsbCwKICAiZmlsbCI6IHRydWUsCiAgImZpbGxDb2xvciI6ICIjMDBiNWViIiwKICAiZmlsbE9wYWNpdHkiOiAwLjcsCiAgImZpbGxSdWxlIjogImV2ZW5vZGQiLAogICJsaW5lQ2FwIjogInJvdW5kIiwKICAibGluZUpvaW4iOiAicm91bmQiLAogICJvcGFjaXR5IjogMS4wLAogICJyYWRpdXMiOiA1LAogICJzdHJva2UiOiB0cnVlLAogICJ3ZWlnaHQiOiAzCn0KICAgICAgICAgICAgICAgICkuYWRkVG8obWFwXzcxYWFkYTliNjRlOTRmYThhYWNmY2Q3Yzc4MmViNTYxKTsKICAgICAgICAgICAgCiAgICAKICAgICAgICAgICAgdmFyIHBvcHVwXzM0YjBkYjM5NGMzMzQ1ODJiMmUzZDY4ZDMyYWYwMjM1ID0gTC5wb3B1cCh7bWF4V2lkdGg6ICczMDAnfSk7CgogICAgICAgICAgICAKICAgICAgICAgICAgICAgIHZhciBodG1sXzY4MDdkNjUzMWFiZjQxZjlhNjNmOThiMDllOWNkNjlmID0gJCgnPGRpdiBpZD0iaHRtbF82ODA3ZDY1MzFhYmY0MWY5YTYzZjk4YjA5ZTljZDY5ZiIgc3R5bGU9IndpZHRoOiAxMDAuMCU7IGhlaWdodDogMTAwLjAlOyI+TWFuaGF0dGFudmlsbGUgQ2x1c3RlciAyPC9kaXY+JylbMF07CiAgICAgICAgICAgICAgICBwb3B1cF8zNGIwZGIzOTRjMzM0NTgyYjJlM2Q2OGQzMmFmMDIzNS5zZXRDb250ZW50KGh0bWxfNjgwN2Q2NTMxYWJmNDFmOWE2M2Y5OGIwOWU5Y2Q2OWYpOwogICAgICAgICAgICAKCiAgICAgICAgICAgIGNpcmNsZV9tYXJrZXJfZTdhNTk5NDA0ODNkNGI4YzkzMmYzZmQzMjQ5ODVjNmYuYmluZFBvcHVwKHBvcHVwXzM0YjBkYjM5NGMzMzQ1ODJiMmUzZDY4ZDMyYWYwMjM1KTsKCiAgICAgICAgICAgIAogICAgICAgIAogICAgCiAgICAgICAgICAgIHZhciBjaXJjbGVfbWFya2VyX2U1ZWQ3YWE4N2ExOTRlZjE5NWMyZDk4YjgyYTM4Yjk4ID0gTC5jaXJjbGVNYXJrZXIoCiAgICAgICAgICAgICAgICBbNDAuODE1OTc2MDY3NDI0MTQsLTczLjk0MzIxMTEyNjAzOTA1XSwKICAgICAgICAgICAgICAgIHsKICAiYnViYmxpbmdNb3VzZUV2ZW50cyI6IHRydWUsCiAgImNvbG9yIjogIiNmZmIzNjAiLAogICJkYXNoQXJyYXkiOiBudWxsLAogICJkYXNoT2Zmc2V0IjogbnVsbCwKICAiZmlsbCI6IHRydWUsCiAgImZpbGxDb2xvciI6ICIjZmZiMzYwIiwKICAiZmlsbE9wYWNpdHkiOiAwLjcsCiAgImZpbGxSdWxlIjogImV2ZW5vZGQiLAogICJsaW5lQ2FwIjogInJvdW5kIiwKICAibGluZUpvaW4iOiAicm91bmQiLAogICJvcGFjaXR5IjogMS4wLAogICJyYWRpdXMiOiA1LAogICJzdHJva2UiOiB0cnVlLAogICJ3ZWlnaHQiOiAzCn0KICAgICAgICAgICAgICAgICkuYWRkVG8obWFwXzcxYWFkYTliNjRlOTRmYThhYWNmY2Q3Yzc4MmViNTYxKTsKICAgICAgICAgICAgCiAgICAKICAgICAgICAgICAgdmFyIHBvcHVwXzk5OGY3ODI1MjVhOTQ2OTRhODUxMWJjOWU4YTU4MzIwID0gTC5wb3B1cCh7bWF4V2lkdGg6ICczMDAnfSk7CgogICAgICAgICAgICAKICAgICAgICAgICAgICAgIHZhciBodG1sXzliYWY4ZDc5NDYxNzQxZDVhODg0ZmM5MzFmM2Y4OTRhID0gJCgnPGRpdiBpZD0iaHRtbF85YmFmOGQ3OTQ2MTc0MWQ1YTg4NGZjOTMxZjNmODk0YSIgc3R5bGU9IndpZHRoOiAxMDAuMCU7IGhlaWdodDogMTAwLjAlOyI+Q2VudHJhbCBIYXJsZW0gQ2x1c3RlciA0PC9kaXY+JylbMF07CiAgICAgICAgICAgICAgICBwb3B1cF85OThmNzgyNTI1YTk0Njk0YTg1MTFiYzllOGE1ODMyMC5zZXRDb250ZW50KGh0bWxfOWJhZjhkNzk0NjE3NDFkNWE4ODRmYzkzMWYzZjg5NGEpOwogICAgICAgICAgICAKCiAgICAgICAgICAgIGNpcmNsZV9tYXJrZXJfZTVlZDdhYTg3YTE5NGVmMTk1YzJkOThiODJhMzhiOTguYmluZFBvcHVwKHBvcHVwXzk5OGY3ODI1MjVhOTQ2OTRhODUxMWJjOWU4YTU4MzIwKTsKCiAgICAgICAgICAgIAogICAgICAgIAogICAgCiAgICAgICAgICAgIHZhciBjaXJjbGVfbWFya2VyXzNkODY2NjVlOGJlNzRlYTk5MTRkOWMxZGI3ZWU4MTI0ID0gTC5jaXJjbGVNYXJrZXIoCiAgICAgICAgICAgICAgICBbNDAuNzkyMjQ5NDY2NjMwMzMsLTczLjk0NDE4MjIzMTQ4NTI0XSwKICAgICAgICAgICAgICAgIHsKICAiYnViYmxpbmdNb3VzZUV2ZW50cyI6IHRydWUsCiAgImNvbG9yIjogIiMwMGI1ZWIiLAogICJkYXNoQXJyYXkiOiBudWxsLAogICJkYXNoT2Zmc2V0IjogbnVsbCwKICAiZmlsbCI6IHRydWUsCiAgImZpbGxDb2xvciI6ICIjMDBiNWViIiwKICAiZmlsbE9wYWNpdHkiOiAwLjcsCiAgImZpbGxSdWxlIjogImV2ZW5vZGQiLAogICJsaW5lQ2FwIjogInJvdW5kIiwKICAibGluZUpvaW4iOiAicm91bmQiLAogICJvcGFjaXR5IjogMS4wLAogICJyYWRpdXMiOiA1LAogICJzdHJva2UiOiB0cnVlLAogICJ3ZWlnaHQiOiAzCn0KICAgICAgICAgICAgICAgICkuYWRkVG8obWFwXzcxYWFkYTliNjRlOTRmYThhYWNmY2Q3Yzc4MmViNTYxKTsKICAgICAgICAgICAgCiAgICAKICAgICAgICAgICAgdmFyIHBvcHVwX2JhNTExODA2MDRkYTQ1MzJiMmYwNGY1MjkwNjNhOWQyID0gTC5wb3B1cCh7bWF4V2lkdGg6ICczMDAnfSk7CgogICAgICAgICAgICAKICAgICAgICAgICAgICAgIHZhciBodG1sX2MxYjViY2QzYTgxMzQ2ZDg4OTU1MzYwM2UyYzBmMDBmID0gJCgnPGRpdiBpZD0iaHRtbF9jMWI1YmNkM2E4MTM0NmQ4ODk1NTM2MDNlMmMwZjAwZiIgc3R5bGU9IndpZHRoOiAxMDAuMCU7IGhlaWdodDogMTAwLjAlOyI+RWFzdCBIYXJsZW0gQ2x1c3RlciAyPC9kaXY+JylbMF07CiAgICAgICAgICAgICAgICBwb3B1cF9iYTUxMTgwNjA0ZGE0NTMyYjJmMDRmNTI5MDYzYTlkMi5zZXRDb250ZW50KGh0bWxfYzFiNWJjZDNhODEzNDZkODg5NTUzNjAzZTJjMGYwMGYpOwogICAgICAgICAgICAKCiAgICAgICAgICAgIGNpcmNsZV9tYXJrZXJfM2Q4NjY2NWU4YmU3NGVhOTkxNGQ5YzFkYjdlZTgxMjQuYmluZFBvcHVwKHBvcHVwX2JhNTExODA2MDRkYTQ1MzJiMmYwNGY1MjkwNjNhOWQyKTsKCiAgICAgICAgICAgIAogICAgICAgIAogICAgCiAgICAgICAgICAgIHZhciBjaXJjbGVfbWFya2VyXzU2MTAzOGU0ZjFiMjQyZjY5ZDUwMmM4NzBmOGFiYTA4ID0gTC5jaXJjbGVNYXJrZXIoCiAgICAgICAgICAgICAgICBbNDAuNzc1NjM4NTczMzAxODA1LC03My45NjA1MDc2MzEzNV0sCiAgICAgICAgICAgICAgICB7CiAgImJ1YmJsaW5nTW91c2VFdmVudHMiOiB0cnVlLAogICJjb2xvciI6ICIjMDBiNWViIiwKICAiZGFzaEFycmF5IjogbnVsbCwKICAiZGFzaE9mZnNldCI6IG51bGwsCiAgImZpbGwiOiB0cnVlLAogICJmaWxsQ29sb3IiOiAiIzAwYjVlYiIsCiAgImZpbGxPcGFjaXR5IjogMC43LAogICJmaWxsUnVsZSI6ICJldmVub2RkIiwKICAibGluZUNhcCI6ICJyb3VuZCIsCiAgImxpbmVKb2luIjogInJvdW5kIiwKICAib3BhY2l0eSI6IDEuMCwKICAicmFkaXVzIjogNSwKICAic3Ryb2tlIjogdHJ1ZSwKICAid2VpZ2h0IjogMwp9CiAgICAgICAgICAgICAgICApLmFkZFRvKG1hcF83MWFhZGE5YjY0ZTk0ZmE4YWFjZmNkN2M3ODJlYjU2MSk7CiAgICAgICAgICAgIAogICAgCiAgICAgICAgICAgIHZhciBwb3B1cF82MGNkZmFiNDgyMmU0Njk1ODU5ZjAxOTQwNTAzNDMzNCA9IEwucG9wdXAoe21heFdpZHRoOiAnMzAwJ30pOwoKICAgICAgICAgICAgCiAgICAgICAgICAgICAgICB2YXIgaHRtbF82MGY4MTUyYTRkNDA0YWE1YjFmNDQ4Yzk0YzcwNDEyYiA9ICQoJzxkaXYgaWQ9Imh0bWxfNjBmODE1MmE0ZDQwNGFhNWIxZjQ0OGM5NGM3MDQxMmIiIHN0eWxlPSJ3aWR0aDogMTAwLjAlOyBoZWlnaHQ6IDEwMC4wJTsiPlVwcGVyIEVhc3QgU2lkZSBDbHVzdGVyIDI8L2Rpdj4nKVswXTsKICAgICAgICAgICAgICAgIHBvcHVwXzYwY2RmYWI0ODIyZTQ2OTU4NTlmMDE5NDA1MDM0MzM0LnNldENvbnRlbnQoaHRtbF82MGY4MTUyYTRkNDA0YWE1YjFmNDQ4Yzk0YzcwNDEyYik7CiAgICAgICAgICAgIAoKICAgICAgICAgICAgY2lyY2xlX21hcmtlcl81NjEwMzhlNGYxYjI0MmY2OWQ1MDJjODcwZjhhYmEwOC5iaW5kUG9wdXAocG9wdXBfNjBjZGZhYjQ4MjJlNDY5NTg1OWYwMTk0MDUwMzQzMzQpOwoKICAgICAgICAgICAgCiAgICAgICAgCiAgICAKICAgICAgICAgICAgdmFyIGNpcmNsZV9tYXJrZXJfNzdmZTg2OTM4ZmRmNDJhMGExNDM5YjJkYmRkMjQ0MmMgPSBMLmNpcmNsZU1hcmtlcigKICAgICAgICAgICAgICAgIFs0MC43NzU5Mjk4NDk4ODQ4NzUsLTczLjk0NzExNzg0NDcxODI2XSwKICAgICAgICAgICAgICAgIHsKICAiYnViYmxpbmdNb3VzZUV2ZW50cyI6IHRydWUsCiAgImNvbG9yIjogIiMwMGI1ZWIiLAogICJkYXNoQXJyYXkiOiBudWxsLAogICJkYXNoT2Zmc2V0IjogbnVsbCwKICAiZmlsbCI6IHRydWUsCiAgImZpbGxDb2xvciI6ICIjMDBiNWViIiwKICAiZmlsbE9wYWNpdHkiOiAwLjcsCiAgImZpbGxSdWxlIjogImV2ZW5vZGQiLAogICJsaW5lQ2FwIjogInJvdW5kIiwKICAibGluZUpvaW4iOiAicm91bmQiLAogICJvcGFjaXR5IjogMS4wLAogICJyYWRpdXMiOiA1LAogICJzdHJva2UiOiB0cnVlLAogICJ3ZWlnaHQiOiAzCn0KICAgICAgICAgICAgICAgICkuYWRkVG8obWFwXzcxYWFkYTliNjRlOTRmYThhYWNmY2Q3Yzc4MmViNTYxKTsKICAgICAgICAgICAgCiAgICAKICAgICAgICAgICAgdmFyIHBvcHVwX2YxNmI5NGVkODQyNzQwYTViZjgyODE0MGNlZjI4MTJjID0gTC5wb3B1cCh7bWF4V2lkdGg6ICczMDAnfSk7CgogICAgICAgICAgICAKICAgICAgICAgICAgICAgIHZhciBodG1sX2QyYjRlZjNhMWIwYjQwNDc4MDJkNDJmNjkyMTU1Y2E1ID0gJCgnPGRpdiBpZD0iaHRtbF9kMmI0ZWYzYTFiMGI0MDQ3ODAyZDQyZjY5MjE1NWNhNSIgc3R5bGU9IndpZHRoOiAxMDAuMCU7IGhlaWdodDogMTAwLjAlOyI+WW9ya3ZpbGxlIENsdXN0ZXIgMjwvZGl2PicpWzBdOwogICAgICAgICAgICAgICAgcG9wdXBfZjE2Yjk0ZWQ4NDI3NDBhNWJmODI4MTQwY2VmMjgxMmMuc2V0Q29udGVudChodG1sX2QyYjRlZjNhMWIwYjQwNDc4MDJkNDJmNjkyMTU1Y2E1KTsKICAgICAgICAgICAgCgogICAgICAgICAgICBjaXJjbGVfbWFya2VyXzc3ZmU4NjkzOGZkZjQyYTBhMTQzOWIyZGJkZDI0NDJjLmJpbmRQb3B1cChwb3B1cF9mMTZiOTRlZDg0Mjc0MGE1YmY4MjgxNDBjZWYyODEyYyk7CgogICAgICAgICAgICAKICAgICAgICAKICAgIAogICAgICAgICAgICB2YXIgY2lyY2xlX21hcmtlcl80MjBiMWRhNjFhYTU0NzUyOTZkZmQ5MDIyZjYyMWE1YyA9IEwuY2lyY2xlTWFya2VyKAogICAgICAgICAgICAgICAgWzQwLjc2ODExMjY1ODI4NzMzLC03My45NTg4NTk2ODgxMzc2XSwKICAgICAgICAgICAgICAgIHsKICAiYnViYmxpbmdNb3VzZUV2ZW50cyI6IHRydWUsCiAgImNvbG9yIjogIiMwMGI1ZWIiLAogICJkYXNoQXJyYXkiOiBudWxsLAogICJkYXNoT2Zmc2V0IjogbnVsbCwKICAiZmlsbCI6IHRydWUsCiAgImZpbGxDb2xvciI6ICIjMDBiNWViIiwKICAiZmlsbE9wYWNpdHkiOiAwLjcsCiAgImZpbGxSdWxlIjogImV2ZW5vZGQiLAogICJsaW5lQ2FwIjogInJvdW5kIiwKICAibGluZUpvaW4iOiAicm91bmQiLAogICJvcGFjaXR5IjogMS4wLAogICJyYWRpdXMiOiA1LAogICJzdHJva2UiOiB0cnVlLAogICJ3ZWlnaHQiOiAzCn0KICAgICAgICAgICAgICAgICkuYWRkVG8obWFwXzcxYWFkYTliNjRlOTRmYThhYWNmY2Q3Yzc4MmViNTYxKTsKICAgICAgICAgICAgCiAgICAKICAgICAgICAgICAgdmFyIHBvcHVwXzZjZjc1ZTNjMTk2MTRjMTQ4MWZlZWE4MTVjNjY1YTJmID0gTC5wb3B1cCh7bWF4V2lkdGg6ICczMDAnfSk7CgogICAgICAgICAgICAKICAgICAgICAgICAgICAgIHZhciBodG1sX2JmNzVhMGI2ZGNkZTQ4YWE5OGY3YmNlMDNjYmU1Y2FkID0gJCgnPGRpdiBpZD0iaHRtbF9iZjc1YTBiNmRjZGU0OGFhOThmN2JjZTAzY2JlNWNhZCIgc3R5bGU9IndpZHRoOiAxMDAuMCU7IGhlaWdodDogMTAwLjAlOyI+TGVub3ggSGlsbCBDbHVzdGVyIDI8L2Rpdj4nKVswXTsKICAgICAgICAgICAgICAgIHBvcHVwXzZjZjc1ZTNjMTk2MTRjMTQ4MWZlZWE4MTVjNjY1YTJmLnNldENvbnRlbnQoaHRtbF9iZjc1YTBiNmRjZGU0OGFhOThmN2JjZTAzY2JlNWNhZCk7CiAgICAgICAgICAgIAoKICAgICAgICAgICAgY2lyY2xlX21hcmtlcl80MjBiMWRhNjFhYTU0NzUyOTZkZmQ5MDIyZjYyMWE1Yy5iaW5kUG9wdXAocG9wdXBfNmNmNzVlM2MxOTYxNGMxNDgxZmVlYTgxNWM2NjVhMmYpOwoKICAgICAgICAgICAgCiAgICAgICAgCiAgICAKICAgICAgICAgICAgdmFyIGNpcmNsZV9tYXJrZXJfNzNkMzkxYjJjZjY2NDhkY2I0NTI5ODcwNzU5NTJiOWUgPSBMLmNpcmNsZU1hcmtlcigKICAgICAgICAgICAgICAgIFs0MC43NjIxNTk2MDU3NjI4MywtNzMuOTQ5MTY3NjkyMjc5NTNdLAogICAgICAgICAgICAgICAgewogICJidWJibGluZ01vdXNlRXZlbnRzIjogdHJ1ZSwKICAiY29sb3IiOiAiIzAwYjVlYiIsCiAgImRhc2hBcnJheSI6IG51bGwsCiAgImRhc2hPZmZzZXQiOiBudWxsLAogICJmaWxsIjogdHJ1ZSwKICAiZmlsbENvbG9yIjogIiMwMGI1ZWIiLAogICJmaWxsT3BhY2l0eSI6IDAuNywKICAiZmlsbFJ1bGUiOiAiZXZlbm9kZCIsCiAgImxpbmVDYXAiOiAicm91bmQiLAogICJsaW5lSm9pbiI6ICJyb3VuZCIsCiAgIm9wYWNpdHkiOiAxLjAsCiAgInJhZGl1cyI6IDUsCiAgInN0cm9rZSI6IHRydWUsCiAgIndlaWdodCI6IDMKfQogICAgICAgICAgICAgICAgKS5hZGRUbyhtYXBfNzFhYWRhOWI2NGU5NGZhOGFhY2ZjZDdjNzgyZWI1NjEpOwogICAgICAgICAgICAKICAgIAogICAgICAgICAgICB2YXIgcG9wdXBfNDI5YTc5ODg3Njk5NGNhNmJlZWY4NzBmMjM0NjkwMzIgPSBMLnBvcHVwKHttYXhXaWR0aDogJzMwMCd9KTsKCiAgICAgICAgICAgIAogICAgICAgICAgICAgICAgdmFyIGh0bWxfY2M5NWMwNDg5MjY3NDQ1MmFkODEyNzNjOGZjZWMyN2UgPSAkKCc8ZGl2IGlkPSJodG1sX2NjOTVjMDQ4OTI2NzQ0NTJhZDgxMjczYzhmY2VjMjdlIiBzdHlsZT0id2lkdGg6IDEwMC4wJTsgaGVpZ2h0OiAxMDAuMCU7Ij5Sb29zZXZlbHQgSXNsYW5kIENsdXN0ZXIgMjwvZGl2PicpWzBdOwogICAgICAgICAgICAgICAgcG9wdXBfNDI5YTc5ODg3Njk5NGNhNmJlZWY4NzBmMjM0NjkwMzIuc2V0Q29udGVudChodG1sX2NjOTVjMDQ4OTI2NzQ0NTJhZDgxMjczYzhmY2VjMjdlKTsKICAgICAgICAgICAgCgogICAgICAgICAgICBjaXJjbGVfbWFya2VyXzczZDM5MWIyY2Y2NjQ4ZGNiNDUyOTg3MDc1OTUyYjllLmJpbmRQb3B1cChwb3B1cF80MjlhNzk4ODc2OTk0Y2E2YmVlZjg3MGYyMzQ2OTAzMik7CgogICAgICAgICAgICAKICAgICAgICAKICAgIAogICAgICAgICAgICB2YXIgY2lyY2xlX21hcmtlcl85M2M1MTZmNmQ3ZGM0ZjE1OGYwZGRiZDYwMmUyZjE5NCA9IEwuY2lyY2xlTWFya2VyKAogICAgICAgICAgICAgICAgWzQwLjc4NzY1Nzk5ODUzNDg1NCwtNzMuOTc3MDU5MjM2MzA2MDNdLAogICAgICAgICAgICAgICAgewogICJidWJibGluZ01vdXNlRXZlbnRzIjogdHJ1ZSwKICAiY29sb3IiOiAiIzAwYjVlYiIsCiAgImRhc2hBcnJheSI6IG51bGwsCiAgImRhc2hPZmZzZXQiOiBudWxsLAogICJmaWxsIjogdHJ1ZSwKICAiZmlsbENvbG9yIjogIiMwMGI1ZWIiLAogICJmaWxsT3BhY2l0eSI6IDAuNywKICAiZmlsbFJ1bGUiOiAiZXZlbm9kZCIsCiAgImxpbmVDYXAiOiAicm91bmQiLAogICJsaW5lSm9pbiI6ICJyb3VuZCIsCiAgIm9wYWNpdHkiOiAxLjAsCiAgInJhZGl1cyI6IDUsCiAgInN0cm9rZSI6IHRydWUsCiAgIndlaWdodCI6IDMKfQogICAgICAgICAgICAgICAgKS5hZGRUbyhtYXBfNzFhYWRhOWI2NGU5NGZhOGFhY2ZjZDdjNzgyZWI1NjEpOwogICAgICAgICAgICAKICAgIAogICAgICAgICAgICB2YXIgcG9wdXBfNzE4M2JjNDczMDUxNDJlMTlmYzAyNGU2MzFmODIyOWUgPSBMLnBvcHVwKHttYXhXaWR0aDogJzMwMCd9KTsKCiAgICAgICAgICAgIAogICAgICAgICAgICAgICAgdmFyIGh0bWxfMTdiNGY0NWZiN2QyNDgzYmIyOWUxMTc2OTI2ODRhM2IgPSAkKCc8ZGl2IGlkPSJodG1sXzE3YjRmNDVmYjdkMjQ4M2JiMjllMTE3NjkyNjg0YTNiIiBzdHlsZT0id2lkdGg6IDEwMC4wJTsgaGVpZ2h0OiAxMDAuMCU7Ij5VcHBlciBXZXN0IFNpZGUgQ2x1c3RlciAyPC9kaXY+JylbMF07CiAgICAgICAgICAgICAgICBwb3B1cF83MTgzYmM0NzMwNTE0MmUxOWZjMDI0ZTYzMWY4MjI5ZS5zZXRDb250ZW50KGh0bWxfMTdiNGY0NWZiN2QyNDgzYmIyOWUxMTc2OTI2ODRhM2IpOwogICAgICAgICAgICAKCiAgICAgICAgICAgIGNpcmNsZV9tYXJrZXJfOTNjNTE2ZjZkN2RjNGYxNThmMGRkYmQ2MDJlMmYxOTQuYmluZFBvcHVwKHBvcHVwXzcxODNiYzQ3MzA1MTQyZTE5ZmMwMjRlNjMxZjgyMjllKTsKCiAgICAgICAgICAgIAogICAgICAgIAogICAgCiAgICAgICAgICAgIHZhciBjaXJjbGVfbWFya2VyXzllOTJmMjJhZTNjZTQ3ZTliNmE2ODc1NGQ5ZmQ3ZDA1ID0gTC5jaXJjbGVNYXJrZXIoCiAgICAgICAgICAgICAgICBbNDAuNzczNTI4ODg5NDIxNjYsLTczLjk4NTMzNzc3MDAxMjYyXSwKICAgICAgICAgICAgICAgIHsKICAiYnViYmxpbmdNb3VzZUV2ZW50cyI6IHRydWUsCiAgImNvbG9yIjogIiMwMGI1ZWIiLAogICJkYXNoQXJyYXkiOiBudWxsLAogICJkYXNoT2Zmc2V0IjogbnVsbCwKICAiZmlsbCI6IHRydWUsCiAgImZpbGxDb2xvciI6ICIjMDBiNWViIiwKICAiZmlsbE9wYWNpdHkiOiAwLjcsCiAgImZpbGxSdWxlIjogImV2ZW5vZGQiLAogICJsaW5lQ2FwIjogInJvdW5kIiwKICAibGluZUpvaW4iOiAicm91bmQiLAogICJvcGFjaXR5IjogMS4wLAogICJyYWRpdXMiOiA1LAogICJzdHJva2UiOiB0cnVlLAogICJ3ZWlnaHQiOiAzCn0KICAgICAgICAgICAgICAgICkuYWRkVG8obWFwXzcxYWFkYTliNjRlOTRmYThhYWNmY2Q3Yzc4MmViNTYxKTsKICAgICAgICAgICAgCiAgICAKICAgICAgICAgICAgdmFyIHBvcHVwXzhkNmU0YjNmMDc2ODQ3MGE4MGVhMzFhMjYyMzlmZWU3ID0gTC5wb3B1cCh7bWF4V2lkdGg6ICczMDAnfSk7CgogICAgICAgICAgICAKICAgICAgICAgICAgICAgIHZhciBodG1sX2U5ODMwMzExMzU5ZTRkZDZiNGJhNzY4NDI3MDFhNjBiID0gJCgnPGRpdiBpZD0iaHRtbF9lOTgzMDMxMTM1OWU0ZGQ2YjRiYTc2ODQyNzAxYTYwYiIgc3R5bGU9IndpZHRoOiAxMDAuMCU7IGhlaWdodDogMTAwLjAlOyI+TGluY29sbiBTcXVhcmUgQ2x1c3RlciAyPC9kaXY+JylbMF07CiAgICAgICAgICAgICAgICBwb3B1cF84ZDZlNGIzZjA3Njg0NzBhODBlYTMxYTI2MjM5ZmVlNy5zZXRDb250ZW50KGh0bWxfZTk4MzAzMTEzNTllNGRkNmI0YmE3Njg0MjcwMWE2MGIpOwogICAgICAgICAgICAKCiAgICAgICAgICAgIGNpcmNsZV9tYXJrZXJfOWU5MmYyMmFlM2NlNDdlOWI2YTY4NzU0ZDlmZDdkMDUuYmluZFBvcHVwKHBvcHVwXzhkNmU0YjNmMDc2ODQ3MGE4MGVhMzFhMjYyMzlmZWU3KTsKCiAgICAgICAgICAgIAogICAgICAgIAogICAgCiAgICAgICAgICAgIHZhciBjaXJjbGVfbWFya2VyXzc1YjcyZWY1NjE3NjRlZjU4YTMzNTc0Y2NmNDc3OWIxID0gTC5jaXJjbGVNYXJrZXIoCiAgICAgICAgICAgICAgICBbNDAuNzU5MTAwODkxNDYyMTIsLTczLjk5NjExOTM2MzA5NDc5XSwKICAgICAgICAgICAgICAgIHsKICAiYnViYmxpbmdNb3VzZUV2ZW50cyI6IHRydWUsCiAgImNvbG9yIjogIiMwMGI1ZWIiLAogICJkYXNoQXJyYXkiOiBudWxsLAogICJkYXNoT2Zmc2V0IjogbnVsbCwKICAiZmlsbCI6IHRydWUsCiAgImZpbGxDb2xvciI6ICIjMDBiNWViIiwKICAiZmlsbE9wYWNpdHkiOiAwLjcsCiAgImZpbGxSdWxlIjogImV2ZW5vZGQiLAogICJsaW5lQ2FwIjogInJvdW5kIiwKICAibGluZUpvaW4iOiAicm91bmQiLAogICJvcGFjaXR5IjogMS4wLAogICJyYWRpdXMiOiA1LAogICJzdHJva2UiOiB0cnVlLAogICJ3ZWlnaHQiOiAzCn0KICAgICAgICAgICAgICAgICkuYWRkVG8obWFwXzcxYWFkYTliNjRlOTRmYThhYWNmY2Q3Yzc4MmViNTYxKTsKICAgICAgICAgICAgCiAgICAKICAgICAgICAgICAgdmFyIHBvcHVwXzA4NjZjMDRjYzk5MDQ1ZGRhMjQ1Y2NkMDY5Y2RhZWE3ID0gTC5wb3B1cCh7bWF4V2lkdGg6ICczMDAnfSk7CgogICAgICAgICAgICAKICAgICAgICAgICAgICAgIHZhciBodG1sX2ZkNzI1MjAyZWQwZjRjNDg4NWQ3NjMwZGM5ZmZiN2Y2ID0gJCgnPGRpdiBpZD0iaHRtbF9mZDcyNTIwMmVkMGY0YzQ4ODVkNzYzMGRjOWZmYjdmNiIgc3R5bGU9IndpZHRoOiAxMDAuMCU7IGhlaWdodDogMTAwLjAlOyI+Q2xpbnRvbiBDbHVzdGVyIDI8L2Rpdj4nKVswXTsKICAgICAgICAgICAgICAgIHBvcHVwXzA4NjZjMDRjYzk5MDQ1ZGRhMjQ1Y2NkMDY5Y2RhZWE3LnNldENvbnRlbnQoaHRtbF9mZDcyNTIwMmVkMGY0YzQ4ODVkNzYzMGRjOWZmYjdmNik7CiAgICAgICAgICAgIAoKICAgICAgICAgICAgY2lyY2xlX21hcmtlcl83NWI3MmVmNTYxNzY0ZWY1OGEzMzU3NGNjZjQ3NzliMS5iaW5kUG9wdXAocG9wdXBfMDg2NmMwNGNjOTkwNDVkZGEyNDVjY2QwNjljZGFlYTcpOwoKICAgICAgICAgICAgCiAgICAgICAgCiAgICAKICAgICAgICAgICAgdmFyIGNpcmNsZV9tYXJrZXJfNmNkYThkMTJjMTdkNGRjMmIzZjNmYzJhYTVkNTcyM2IgPSBMLmNpcmNsZU1hcmtlcigKICAgICAgICAgICAgICAgIFs0MC43NTQ2OTExMDI3MDYyMywtNzMuOTgxNjY4ODI3MzAzMDRdLAogICAgICAgICAgICAgICAgewogICJidWJibGluZ01vdXNlRXZlbnRzIjogdHJ1ZSwKICAiY29sb3IiOiAiIzAwYjVlYiIsCiAgImRhc2hBcnJheSI6IG51bGwsCiAgImRhc2hPZmZzZXQiOiBudWxsLAogICJmaWxsIjogdHJ1ZSwKICAiZmlsbENvbG9yIjogIiMwMGI1ZWIiLAogICJmaWxsT3BhY2l0eSI6IDAuNywKICAiZmlsbFJ1bGUiOiAiZXZlbm9kZCIsCiAgImxpbmVDYXAiOiAicm91bmQiLAogICJsaW5lSm9pbiI6ICJyb3VuZCIsCiAgIm9wYWNpdHkiOiAxLjAsCiAgInJhZGl1cyI6IDUsCiAgInN0cm9rZSI6IHRydWUsCiAgIndlaWdodCI6IDMKfQogICAgICAgICAgICAgICAgKS5hZGRUbyhtYXBfNzFhYWRhOWI2NGU5NGZhOGFhY2ZjZDdjNzgyZWI1NjEpOwogICAgICAgICAgICAKICAgIAogICAgICAgICAgICB2YXIgcG9wdXBfNDk1MzI3YmFhMjk4NDc3NzkwM2JlNDUxNTNkZDY3MGYgPSBMLnBvcHVwKHttYXhXaWR0aDogJzMwMCd9KTsKCiAgICAgICAgICAgIAogICAgICAgICAgICAgICAgdmFyIGh0bWxfNjVmZWRlYThkOTdjNDY5MTgxN2FmZGE5ZWFlMjYxYmMgPSAkKCc8ZGl2IGlkPSJodG1sXzY1ZmVkZWE4ZDk3YzQ2OTE4MTdhZmRhOWVhZTI2MWJjIiBzdHlsZT0id2lkdGg6IDEwMC4wJTsgaGVpZ2h0OiAxMDAuMCU7Ij5NaWR0b3duIENsdXN0ZXIgMjwvZGl2PicpWzBdOwogICAgICAgICAgICAgICAgcG9wdXBfNDk1MzI3YmFhMjk4NDc3NzkwM2JlNDUxNTNkZDY3MGYuc2V0Q29udGVudChodG1sXzY1ZmVkZWE4ZDk3YzQ2OTE4MTdhZmRhOWVhZTI2MWJjKTsKICAgICAgICAgICAgCgogICAgICAgICAgICBjaXJjbGVfbWFya2VyXzZjZGE4ZDEyYzE3ZDRkYzJiM2YzZmMyYWE1ZDU3MjNiLmJpbmRQb3B1cChwb3B1cF80OTUzMjdiYWEyOTg0Nzc3OTAzYmU0NTE1M2RkNjcwZik7CgogICAgICAgICAgICAKICAgICAgICAKICAgIAogICAgICAgICAgICB2YXIgY2lyY2xlX21hcmtlcl8xZDAwNzJmMDMwMDc0NTRlYTZmN2I4NDQ2MTM2OTNjNCA9IEwuY2lyY2xlTWFya2VyKAogICAgICAgICAgICAgICAgWzQwLjc0ODMwMzA3NzI1MjE3NCwtNzMuOTc4MzMyMDc5MjQxMjddLAogICAgICAgICAgICAgICAgewogICJidWJibGluZ01vdXNlRXZlbnRzIjogdHJ1ZSwKICAiY29sb3IiOiAiIzAwYjVlYiIsCiAgImRhc2hBcnJheSI6IG51bGwsCiAgImRhc2hPZmZzZXQiOiBudWxsLAogICJmaWxsIjogdHJ1ZSwKICAiZmlsbENvbG9yIjogIiMwMGI1ZWIiLAogICJmaWxsT3BhY2l0eSI6IDAuNywKICAiZmlsbFJ1bGUiOiAiZXZlbm9kZCIsCiAgImxpbmVDYXAiOiAicm91bmQiLAogICJsaW5lSm9pbiI6ICJyb3VuZCIsCiAgIm9wYWNpdHkiOiAxLjAsCiAgInJhZGl1cyI6IDUsCiAgInN0cm9rZSI6IHRydWUsCiAgIndlaWdodCI6IDMKfQogICAgICAgICAgICAgICAgKS5hZGRUbyhtYXBfNzFhYWRhOWI2NGU5NGZhOGFhY2ZjZDdjNzgyZWI1NjEpOwogICAgICAgICAgICAKICAgIAogICAgICAgICAgICB2YXIgcG9wdXBfNTQ3MWQ4NWZmYTU5NDFkNjk2ZWQ4ZjM0YzA2YTU5MGMgPSBMLnBvcHVwKHttYXhXaWR0aDogJzMwMCd9KTsKCiAgICAgICAgICAgIAogICAgICAgICAgICAgICAgdmFyIGh0bWxfZWUzNWUzZTA5NTdjNGRkNWJkZGQ4ODU5ODNjZjFkYTcgPSAkKCc8ZGl2IGlkPSJodG1sX2VlMzVlM2UwOTU3YzRkZDViZGRkODg1OTgzY2YxZGE3IiBzdHlsZT0id2lkdGg6IDEwMC4wJTsgaGVpZ2h0OiAxMDAuMCU7Ij5NdXJyYXkgSGlsbCBDbHVzdGVyIDI8L2Rpdj4nKVswXTsKICAgICAgICAgICAgICAgIHBvcHVwXzU0NzFkODVmZmE1OTQxZDY5NmVkOGYzNGMwNmE1OTBjLnNldENvbnRlbnQoaHRtbF9lZTM1ZTNlMDk1N2M0ZGQ1YmRkZDg4NTk4M2NmMWRhNyk7CiAgICAgICAgICAgIAoKICAgICAgICAgICAgY2lyY2xlX21hcmtlcl8xZDAwNzJmMDMwMDc0NTRlYTZmN2I4NDQ2MTM2OTNjNC5iaW5kUG9wdXAocG9wdXBfNTQ3MWQ4NWZmYTU5NDFkNjk2ZWQ4ZjM0YzA2YTU5MGMpOwoKICAgICAgICAgICAgCiAgICAgICAgCiAgICAKICAgICAgICAgICAgdmFyIGNpcmNsZV9tYXJrZXJfOTM5YTZjYjQ3ZjQzNGRmYTk2NjZlNGI1YWI1NzViM2MgPSBMLmNpcmNsZU1hcmtlcigKICAgICAgICAgICAgICAgIFs0MC43NDQwMzQ3MDY3NDc5NzUsLTc0LjAwMzExNjMzNDcyODEzXSwKICAgICAgICAgICAgICAgIHsKICAiYnViYmxpbmdNb3VzZUV2ZW50cyI6IHRydWUsCiAgImNvbG9yIjogIiMwMGI1ZWIiLAogICJkYXNoQXJyYXkiOiBudWxsLAogICJkYXNoT2Zmc2V0IjogbnVsbCwKICAiZmlsbCI6IHRydWUsCiAgImZpbGxDb2xvciI6ICIjMDBiNWViIiwKICAiZmlsbE9wYWNpdHkiOiAwLjcsCiAgImZpbGxSdWxlIjogImV2ZW5vZGQiLAogICJsaW5lQ2FwIjogInJvdW5kIiwKICAibGluZUpvaW4iOiAicm91bmQiLAogICJvcGFjaXR5IjogMS4wLAogICJyYWRpdXMiOiA1LAogICJzdHJva2UiOiB0cnVlLAogICJ3ZWlnaHQiOiAzCn0KICAgICAgICAgICAgICAgICkuYWRkVG8obWFwXzcxYWFkYTliNjRlOTRmYThhYWNmY2Q3Yzc4MmViNTYxKTsKICAgICAgICAgICAgCiAgICAKICAgICAgICAgICAgdmFyIHBvcHVwXzM1NmQyYWNmZDdmOTQ3ODFhYjRkOTJhOWJlNzcyYmMwID0gTC5wb3B1cCh7bWF4V2lkdGg6ICczMDAnfSk7CgogICAgICAgICAgICAKICAgICAgICAgICAgICAgIHZhciBodG1sXzkwN2M0MGI3NWJjMDRjMWJhZmIyNGRiYmJlODc3ODlhID0gJCgnPGRpdiBpZD0iaHRtbF85MDdjNDBiNzViYzA0YzFiYWZiMjRkYmJiZTg3Nzg5YSIgc3R5bGU9IndpZHRoOiAxMDAuMCU7IGhlaWdodDogMTAwLjAlOyI+Q2hlbHNlYSBDbHVzdGVyIDI8L2Rpdj4nKVswXTsKICAgICAgICAgICAgICAgIHBvcHVwXzM1NmQyYWNmZDdmOTQ3ODFhYjRkOTJhOWJlNzcyYmMwLnNldENvbnRlbnQoaHRtbF85MDdjNDBiNzViYzA0YzFiYWZiMjRkYmJiZTg3Nzg5YSk7CiAgICAgICAgICAgIAoKICAgICAgICAgICAgY2lyY2xlX21hcmtlcl85MzlhNmNiNDdmNDM0ZGZhOTY2NmU0YjVhYjU3NWIzYy5iaW5kUG9wdXAocG9wdXBfMzU2ZDJhY2ZkN2Y5NDc4MWFiNGQ5MmE5YmU3NzJiYzApOwoKICAgICAgICAgICAgCiAgICAgICAgCiAgICAKICAgICAgICAgICAgdmFyIGNpcmNsZV9tYXJrZXJfZmM5OGZmN2NiZjFjNGNjYzhhMjMyNzk0ZDVhM2M3Y2QgPSBMLmNpcmNsZU1hcmtlcigKICAgICAgICAgICAgICAgIFs0MC43MjY5MzI4ODUzNjEyOCwtNzMuOTk5OTE0MDI5NDU5MDJdLAogICAgICAgICAgICAgICAgewogICJidWJibGluZ01vdXNlRXZlbnRzIjogdHJ1ZSwKICAiY29sb3IiOiAiIzAwYjVlYiIsCiAgImRhc2hBcnJheSI6IG51bGwsCiAgImRhc2hPZmZzZXQiOiBudWxsLAogICJmaWxsIjogdHJ1ZSwKICAiZmlsbENvbG9yIjogIiMwMGI1ZWIiLAogICJmaWxsT3BhY2l0eSI6IDAuNywKICAiZmlsbFJ1bGUiOiAiZXZlbm9kZCIsCiAgImxpbmVDYXAiOiAicm91bmQiLAogICJsaW5lSm9pbiI6ICJyb3VuZCIsCiAgIm9wYWNpdHkiOiAxLjAsCiAgInJhZGl1cyI6IDUsCiAgInN0cm9rZSI6IHRydWUsCiAgIndlaWdodCI6IDMKfQogICAgICAgICAgICAgICAgKS5hZGRUbyhtYXBfNzFhYWRhOWI2NGU5NGZhOGFhY2ZjZDdjNzgyZWI1NjEpOwogICAgICAgICAgICAKICAgIAogICAgICAgICAgICB2YXIgcG9wdXBfNWUyY2RmMmE1ZGZjNDk2Zjk0OTQ3MWFmYWY2MTkxMmMgPSBMLnBvcHVwKHttYXhXaWR0aDogJzMwMCd9KTsKCiAgICAgICAgICAgIAogICAgICAgICAgICAgICAgdmFyIGh0bWxfZWRiNjcxNTUwOTg0NDU1Y2JiYjBiZDFiNGJjMzk0MjYgPSAkKCc8ZGl2IGlkPSJodG1sX2VkYjY3MTU1MDk4NDQ1NWNiYmIwYmQxYjRiYzM5NDI2IiBzdHlsZT0id2lkdGg6IDEwMC4wJTsgaGVpZ2h0OiAxMDAuMCU7Ij5HcmVlbndpY2ggVmlsbGFnZSBDbHVzdGVyIDI8L2Rpdj4nKVswXTsKICAgICAgICAgICAgICAgIHBvcHVwXzVlMmNkZjJhNWRmYzQ5NmY5NDk0NzFhZmFmNjE5MTJjLnNldENvbnRlbnQoaHRtbF9lZGI2NzE1NTA5ODQ0NTVjYmJiMGJkMWI0YmMzOTQyNik7CiAgICAgICAgICAgIAoKICAgICAgICAgICAgY2lyY2xlX21hcmtlcl9mYzk4ZmY3Y2JmMWM0Y2NjOGEyMzI3OTRkNWEzYzdjZC5iaW5kUG9wdXAocG9wdXBfNWUyY2RmMmE1ZGZjNDk2Zjk0OTQ3MWFmYWY2MTkxMmMpOwoKICAgICAgICAgICAgCiAgICAgICAgCiAgICAKICAgICAgICAgICAgdmFyIGNpcmNsZV9tYXJrZXJfYmY5NWNiYzQyZTRjNGY0MTkyYjkxZjc4ZWVmMWQzYjQgPSBMLmNpcmNsZU1hcmtlcigKICAgICAgICAgICAgICAgIFs0MC43Mjc4NDY3NzcyNzAyNDQsLTczLjk4MjIyNjE2NTA2NDE2XSwKICAgICAgICAgICAgICAgIHsKICAiYnViYmxpbmdNb3VzZUV2ZW50cyI6IHRydWUsCiAgImNvbG9yIjogIiMwMGI1ZWIiLAogICJkYXNoQXJyYXkiOiBudWxsLAogICJkYXNoT2Zmc2V0IjogbnVsbCwKICAiZmlsbCI6IHRydWUsCiAgImZpbGxDb2xvciI6ICIjMDBiNWViIiwKICAiZmlsbE9wYWNpdHkiOiAwLjcsCiAgImZpbGxSdWxlIjogImV2ZW5vZGQiLAogICJsaW5lQ2FwIjogInJvdW5kIiwKICAibGluZUpvaW4iOiAicm91bmQiLAogICJvcGFjaXR5IjogMS4wLAogICJyYWRpdXMiOiA1LAogICJzdHJva2UiOiB0cnVlLAogICJ3ZWlnaHQiOiAzCn0KICAgICAgICAgICAgICAgICkuYWRkVG8obWFwXzcxYWFkYTliNjRlOTRmYThhYWNmY2Q3Yzc4MmViNTYxKTsKICAgICAgICAgICAgCiAgICAKICAgICAgICAgICAgdmFyIHBvcHVwX2QyNmJmNDdhZDQzZTQ1YjdiMzNjMmY3YmE1YzU0YzUyID0gTC5wb3B1cCh7bWF4V2lkdGg6ICczMDAnfSk7CgogICAgICAgICAgICAKICAgICAgICAgICAgICAgIHZhciBodG1sXzgxNmZmZTI1YWU4YzRkMGI4NmI5MzRiZDQ5YTliY2ExID0gJCgnPGRpdiBpZD0iaHRtbF84MTZmZmUyNWFlOGM0ZDBiODZiOTM0YmQ0OWE5YmNhMSIgc3R5bGU9IndpZHRoOiAxMDAuMCU7IGhlaWdodDogMTAwLjAlOyI+RWFzdCBWaWxsYWdlIENsdXN0ZXIgMjwvZGl2PicpWzBdOwogICAgICAgICAgICAgICAgcG9wdXBfZDI2YmY0N2FkNDNlNDViN2IzM2MyZjdiYTVjNTRjNTIuc2V0Q29udGVudChodG1sXzgxNmZmZTI1YWU4YzRkMGI4NmI5MzRiZDQ5YTliY2ExKTsKICAgICAgICAgICAgCgogICAgICAgICAgICBjaXJjbGVfbWFya2VyX2JmOTVjYmM0MmU0YzRmNDE5MmI5MWY3OGVlZjFkM2I0LmJpbmRQb3B1cChwb3B1cF9kMjZiZjQ3YWQ0M2U0NWI3YjMzYzJmN2JhNWM1NGM1Mik7CgogICAgICAgICAgICAKICAgICAgICAKICAgIAogICAgICAgICAgICB2YXIgY2lyY2xlX21hcmtlcl9hYzYzM2E3YTg2ZWY0ZTc5ODgxNmIyOTkwODg4ZjYwNyA9IEwuY2lyY2xlTWFya2VyKAogICAgICAgICAgICAgICAgWzQwLjcxNzgwNjc0ODkyNzY1LC03My45ODA4OTAzMTk5OTI5MV0sCiAgICAgICAgICAgICAgICB7CiAgImJ1YmJsaW5nTW91c2VFdmVudHMiOiB0cnVlLAogICJjb2xvciI6ICIjMDBiNWViIiwKICAiZGFzaEFycmF5IjogbnVsbCwKICAiZGFzaE9mZnNldCI6IG51bGwsCiAgImZpbGwiOiB0cnVlLAogICJmaWxsQ29sb3IiOiAiIzAwYjVlYiIsCiAgImZpbGxPcGFjaXR5IjogMC43LAogICJmaWxsUnVsZSI6ICJldmVub2RkIiwKICAibGluZUNhcCI6ICJyb3VuZCIsCiAgImxpbmVKb2luIjogInJvdW5kIiwKICAib3BhY2l0eSI6IDEuMCwKICAicmFkaXVzIjogNSwKICAic3Ryb2tlIjogdHJ1ZSwKICAid2VpZ2h0IjogMwp9CiAgICAgICAgICAgICAgICApLmFkZFRvKG1hcF83MWFhZGE5YjY0ZTk0ZmE4YWFjZmNkN2M3ODJlYjU2MSk7CiAgICAgICAgICAgIAogICAgCiAgICAgICAgICAgIHZhciBwb3B1cF80ZDkzYzVjNzNhMDU0NTVkYWFhMzk1YmFlYTYyMjliNyA9IEwucG9wdXAoe21heFdpZHRoOiAnMzAwJ30pOwoKICAgICAgICAgICAgCiAgICAgICAgICAgICAgICB2YXIgaHRtbF8xNzYwYjJkNzVmY2Y0NmM0YTA4OWY1NmMwZmM5MzBlOCA9ICQoJzxkaXYgaWQ9Imh0bWxfMTc2MGIyZDc1ZmNmNDZjNGEwODlmNTZjMGZjOTMwZTgiIHN0eWxlPSJ3aWR0aDogMTAwLjAlOyBoZWlnaHQ6IDEwMC4wJTsiPkxvd2VyIEVhc3QgU2lkZSBDbHVzdGVyIDI8L2Rpdj4nKVswXTsKICAgICAgICAgICAgICAgIHBvcHVwXzRkOTNjNWM3M2EwNTQ1NWRhYWEzOTViYWVhNjIyOWI3LnNldENvbnRlbnQoaHRtbF8xNzYwYjJkNzVmY2Y0NmM0YTA4OWY1NmMwZmM5MzBlOCk7CiAgICAgICAgICAgIAoKICAgICAgICAgICAgY2lyY2xlX21hcmtlcl9hYzYzM2E3YTg2ZWY0ZTc5ODgxNmIyOTkwODg4ZjYwNy5iaW5kUG9wdXAocG9wdXBfNGQ5M2M1YzczYTA1NDU1ZGFhYTM5NWJhZWE2MjI5YjcpOwoKICAgICAgICAgICAgCiAgICAgICAgCiAgICAKICAgICAgICAgICAgdmFyIGNpcmNsZV9tYXJrZXJfMTI1ZmUzZTgxZWFiNDhmZDhjMDI5YzUxYjQwODRlYTcgPSBMLmNpcmNsZU1hcmtlcigKICAgICAgICAgICAgICAgIFs0MC43MjE1MjE5Njc0NDMyMTYsLTc0LjAxMDY4MzI4NTU5MDg3XSwKICAgICAgICAgICAgICAgIHsKICAiYnViYmxpbmdNb3VzZUV2ZW50cyI6IHRydWUsCiAgImNvbG9yIjogIiMwMGI1ZWIiLAogICJkYXNoQXJyYXkiOiBudWxsLAogICJkYXNoT2Zmc2V0IjogbnVsbCwKICAiZmlsbCI6IHRydWUsCiAgImZpbGxDb2xvciI6ICIjMDBiNWViIiwKICAiZmlsbE9wYWNpdHkiOiAwLjcsCiAgImZpbGxSdWxlIjogImV2ZW5vZGQiLAogICJsaW5lQ2FwIjogInJvdW5kIiwKICAibGluZUpvaW4iOiAicm91bmQiLAogICJvcGFjaXR5IjogMS4wLAogICJyYWRpdXMiOiA1LAogICJzdHJva2UiOiB0cnVlLAogICJ3ZWlnaHQiOiAzCn0KICAgICAgICAgICAgICAgICkuYWRkVG8obWFwXzcxYWFkYTliNjRlOTRmYThhYWNmY2Q3Yzc4MmViNTYxKTsKICAgICAgICAgICAgCiAgICAKICAgICAgICAgICAgdmFyIHBvcHVwX2NmM2QzMGQyYTM5MDQ3ZTY5MzJiZDBkNTQzM2M3YTBkID0gTC5wb3B1cCh7bWF4V2lkdGg6ICczMDAnfSk7CgogICAgICAgICAgICAKICAgICAgICAgICAgICAgIHZhciBodG1sXzYxYWZjODFhZGZhNzQxNjZhY2ViMzI1ZWYyMmQyZmI5ID0gJCgnPGRpdiBpZD0iaHRtbF82MWFmYzgxYWRmYTc0MTY2YWNlYjMyNWVmMjJkMmZiOSIgc3R5bGU9IndpZHRoOiAxMDAuMCU7IGhlaWdodDogMTAwLjAlOyI+VHJpYmVjYSBDbHVzdGVyIDI8L2Rpdj4nKVswXTsKICAgICAgICAgICAgICAgIHBvcHVwX2NmM2QzMGQyYTM5MDQ3ZTY5MzJiZDBkNTQzM2M3YTBkLnNldENvbnRlbnQoaHRtbF82MWFmYzgxYWRmYTc0MTY2YWNlYjMyNWVmMjJkMmZiOSk7CiAgICAgICAgICAgIAoKICAgICAgICAgICAgY2lyY2xlX21hcmtlcl8xMjVmZTNlODFlYWI0OGZkOGMwMjljNTFiNDA4NGVhNy5iaW5kUG9wdXAocG9wdXBfY2YzZDMwZDJhMzkwNDdlNjkzMmJkMGQ1NDMzYzdhMGQpOwoKICAgICAgICAgICAgCiAgICAgICAgCiAgICAKICAgICAgICAgICAgdmFyIGNpcmNsZV9tYXJrZXJfMzVmYTMwN2E2MzA1NDdhNmExOTQ1Mjg5YjI1NjcyYTEgPSBMLmNpcmNsZU1hcmtlcigKICAgICAgICAgICAgICAgIFs0MC43MTkzMjM3OTM5NTkwNywtNzMuOTk3MzA0NjcyMDgwNzNdLAogICAgICAgICAgICAgICAgewogICJidWJibGluZ01vdXNlRXZlbnRzIjogdHJ1ZSwKICAiY29sb3IiOiAiIzAwYjVlYiIsCiAgImRhc2hBcnJheSI6IG51bGwsCiAgImRhc2hPZmZzZXQiOiBudWxsLAogICJmaWxsIjogdHJ1ZSwKICAiZmlsbENvbG9yIjogIiMwMGI1ZWIiLAogICJmaWxsT3BhY2l0eSI6IDAuNywKICAiZmlsbFJ1bGUiOiAiZXZlbm9kZCIsCiAgImxpbmVDYXAiOiAicm91bmQiLAogICJsaW5lSm9pbiI6ICJyb3VuZCIsCiAgIm9wYWNpdHkiOiAxLjAsCiAgInJhZGl1cyI6IDUsCiAgInN0cm9rZSI6IHRydWUsCiAgIndlaWdodCI6IDMKfQogICAgICAgICAgICAgICAgKS5hZGRUbyhtYXBfNzFhYWRhOWI2NGU5NGZhOGFhY2ZjZDdjNzgyZWI1NjEpOwogICAgICAgICAgICAKICAgIAogICAgICAgICAgICB2YXIgcG9wdXBfNjQ3MWNkMzQzZjI2NGVkMWI2ODc1ZGVhYjdhZWJiNzEgPSBMLnBvcHVwKHttYXhXaWR0aDogJzMwMCd9KTsKCiAgICAgICAgICAgIAogICAgICAgICAgICAgICAgdmFyIGh0bWxfY2FkY2YxMzAzZWZjNGYzOTlhYzE3NmRiYjdmYWM3NGQgPSAkKCc8ZGl2IGlkPSJodG1sX2NhZGNmMTMwM2VmYzRmMzk5YWMxNzZkYmI3ZmFjNzRkIiBzdHlsZT0id2lkdGg6IDEwMC4wJTsgaGVpZ2h0OiAxMDAuMCU7Ij5MaXR0bGUgSXRhbHkgQ2x1c3RlciAyPC9kaXY+JylbMF07CiAgICAgICAgICAgICAgICBwb3B1cF82NDcxY2QzNDNmMjY0ZWQxYjY4NzVkZWFiN2FlYmI3MS5zZXRDb250ZW50KGh0bWxfY2FkY2YxMzAzZWZjNGYzOTlhYzE3NmRiYjdmYWM3NGQpOwogICAgICAgICAgICAKCiAgICAgICAgICAgIGNpcmNsZV9tYXJrZXJfMzVmYTMwN2E2MzA1NDdhNmExOTQ1Mjg5YjI1NjcyYTEuYmluZFBvcHVwKHBvcHVwXzY0NzFjZDM0M2YyNjRlZDFiNjg3NWRlYWI3YWViYjcxKTsKCiAgICAgICAgICAgIAogICAgICAgIAogICAgCiAgICAgICAgICAgIHZhciBjaXJjbGVfbWFya2VyX2Q0NTVjYjc1MDI2MzQ5MGI5NmZiMDQyNjI2ZDA3Mjg0ID0gTC5jaXJjbGVNYXJrZXIoCiAgICAgICAgICAgICAgICBbNDAuNzIyMTgzODQxMzE3OTQsLTc0LjAwMDY1NjY2OTU5NzU5XSwKICAgICAgICAgICAgICAgIHsKICAiYnViYmxpbmdNb3VzZUV2ZW50cyI6IHRydWUsCiAgImNvbG9yIjogIiMwMGI1ZWIiLAogICJkYXNoQXJyYXkiOiBudWxsLAogICJkYXNoT2Zmc2V0IjogbnVsbCwKICAiZmlsbCI6IHRydWUsCiAgImZpbGxDb2xvciI6ICIjMDBiNWViIiwKICAiZmlsbE9wYWNpdHkiOiAwLjcsCiAgImZpbGxSdWxlIjogImV2ZW5vZGQiLAogICJsaW5lQ2FwIjogInJvdW5kIiwKICAibGluZUpvaW4iOiAicm91bmQiLAogICJvcGFjaXR5IjogMS4wLAogICJyYWRpdXMiOiA1LAogICJzdHJva2UiOiB0cnVlLAogICJ3ZWlnaHQiOiAzCn0KICAgICAgICAgICAgICAgICkuYWRkVG8obWFwXzcxYWFkYTliNjRlOTRmYThhYWNmY2Q3Yzc4MmViNTYxKTsKICAgICAgICAgICAgCiAgICAKICAgICAgICAgICAgdmFyIHBvcHVwXzE0M2QwY2FhYzExMjQ4ZWI5YmQ3YTJiNGJlZjY0YzYxID0gTC5wb3B1cCh7bWF4V2lkdGg6ICczMDAnfSk7CgogICAgICAgICAgICAKICAgICAgICAgICAgICAgIHZhciBodG1sX2ZlYmUyY2VkOTgzMjRkYzJhNzM3NmJlYzY5YjgyZTFlID0gJCgnPGRpdiBpZD0iaHRtbF9mZWJlMmNlZDk4MzI0ZGMyYTczNzZiZWM2OWI4MmUxZSIgc3R5bGU9IndpZHRoOiAxMDAuMCU7IGhlaWdodDogMTAwLjAlOyI+U29obyBDbHVzdGVyIDI8L2Rpdj4nKVswXTsKICAgICAgICAgICAgICAgIHBvcHVwXzE0M2QwY2FhYzExMjQ4ZWI5YmQ3YTJiNGJlZjY0YzYxLnNldENvbnRlbnQoaHRtbF9mZWJlMmNlZDk4MzI0ZGMyYTczNzZiZWM2OWI4MmUxZSk7CiAgICAgICAgICAgIAoKICAgICAgICAgICAgY2lyY2xlX21hcmtlcl9kNDU1Y2I3NTAyNjM0OTBiOTZmYjA0MjYyNmQwNzI4NC5iaW5kUG9wdXAocG9wdXBfMTQzZDBjYWFjMTEyNDhlYjliZDdhMmI0YmVmNjRjNjEpOwoKICAgICAgICAgICAgCiAgICAgICAgCiAgICAKICAgICAgICAgICAgdmFyIGNpcmNsZV9tYXJrZXJfMDgzNzc0NzZlMmQyNGE3MWFiMTMzM2UwYWRlYzFmODggPSBMLmNpcmNsZU1hcmtlcigKICAgICAgICAgICAgICAgIFs0MC43MzQ0MzM5MzU3MjQzNCwtNzQuMDA2MTc5OTgxMjY4MTJdLAogICAgICAgICAgICAgICAgewogICJidWJibGluZ01vdXNlRXZlbnRzIjogdHJ1ZSwKICAiY29sb3IiOiAiIzAwYjVlYiIsCiAgImRhc2hBcnJheSI6IG51bGwsCiAgImRhc2hPZmZzZXQiOiBudWxsLAogICJmaWxsIjogdHJ1ZSwKICAiZmlsbENvbG9yIjogIiMwMGI1ZWIiLAogICJmaWxsT3BhY2l0eSI6IDAuNywKICAiZmlsbFJ1bGUiOiAiZXZlbm9kZCIsCiAgImxpbmVDYXAiOiAicm91bmQiLAogICJsaW5lSm9pbiI6ICJyb3VuZCIsCiAgIm9wYWNpdHkiOiAxLjAsCiAgInJhZGl1cyI6IDUsCiAgInN0cm9rZSI6IHRydWUsCiAgIndlaWdodCI6IDMKfQogICAgICAgICAgICAgICAgKS5hZGRUbyhtYXBfNzFhYWRhOWI2NGU5NGZhOGFhY2ZjZDdjNzgyZWI1NjEpOwogICAgICAgICAgICAKICAgIAogICAgICAgICAgICB2YXIgcG9wdXBfZGI5ZDJlN2I2YWJhNDBmYzlhNzY3YzNjYzc4ODAwOWIgPSBMLnBvcHVwKHttYXhXaWR0aDogJzMwMCd9KTsKCiAgICAgICAgICAgIAogICAgICAgICAgICAgICAgdmFyIGh0bWxfZmEwNmY5YmM2ZDc2NDM3NGFiZmFhOGFiMTM5MzBhYzcgPSAkKCc8ZGl2IGlkPSJodG1sX2ZhMDZmOWJjNmQ3NjQzNzRhYmZhYThhYjEzOTMwYWM3IiBzdHlsZT0id2lkdGg6IDEwMC4wJTsgaGVpZ2h0OiAxMDAuMCU7Ij5XZXN0IFZpbGxhZ2UgQ2x1c3RlciAyPC9kaXY+JylbMF07CiAgICAgICAgICAgICAgICBwb3B1cF9kYjlkMmU3YjZhYmE0MGZjOWE3NjdjM2NjNzg4MDA5Yi5zZXRDb250ZW50KGh0bWxfZmEwNmY5YmM2ZDc2NDM3NGFiZmFhOGFiMTM5MzBhYzcpOwogICAgICAgICAgICAKCiAgICAgICAgICAgIGNpcmNsZV9tYXJrZXJfMDgzNzc0NzZlMmQyNGE3MWFiMTMzM2UwYWRlYzFmODguYmluZFBvcHVwKHBvcHVwX2RiOWQyZTdiNmFiYTQwZmM5YTc2N2MzY2M3ODgwMDliKTsKCiAgICAgICAgICAgIAogICAgICAgIAogICAgCiAgICAgICAgICAgIHZhciBjaXJjbGVfbWFya2VyXzNhZjAyNzk1YjZlNzQ1MGI5MzExNWUwNTg2ODMzYTEzID0gTC5jaXJjbGVNYXJrZXIoCiAgICAgICAgICAgICAgICBbNDAuNzk3MzA3MDQxNzAyODY1LC03My45NjQyODYxNzc0MDY1NV0sCiAgICAgICAgICAgICAgICB7CiAgImJ1YmJsaW5nTW91c2VFdmVudHMiOiB0cnVlLAogICJjb2xvciI6ICIjMDBiNWViIiwKICAiZGFzaEFycmF5IjogbnVsbCwKICAiZGFzaE9mZnNldCI6IG51bGwsCiAgImZpbGwiOiB0cnVlLAogICJmaWxsQ29sb3IiOiAiIzAwYjVlYiIsCiAgImZpbGxPcGFjaXR5IjogMC43LAogICJmaWxsUnVsZSI6ICJldmVub2RkIiwKICAibGluZUNhcCI6ICJyb3VuZCIsCiAgImxpbmVKb2luIjogInJvdW5kIiwKICAib3BhY2l0eSI6IDEuMCwKICAicmFkaXVzIjogNSwKICAic3Ryb2tlIjogdHJ1ZSwKICAid2VpZ2h0IjogMwp9CiAgICAgICAgICAgICAgICApLmFkZFRvKG1hcF83MWFhZGE5YjY0ZTk0ZmE4YWFjZmNkN2M3ODJlYjU2MSk7CiAgICAgICAgICAgIAogICAgCiAgICAgICAgICAgIHZhciBwb3B1cF81OGEzYTNiMWZlNmI0Nzk5YjNkZjI0NzQ1MDFhNTVlZSA9IEwucG9wdXAoe21heFdpZHRoOiAnMzAwJ30pOwoKICAgICAgICAgICAgCiAgICAgICAgICAgICAgICB2YXIgaHRtbF8wNjQ0YTY1NGFjMDM0NmE2ODJkOTA3ZDdiNjM4MDI1YSA9ICQoJzxkaXYgaWQ9Imh0bWxfMDY0NGE2NTRhYzAzNDZhNjgyZDkwN2Q3YjYzODAyNWEiIHN0eWxlPSJ3aWR0aDogMTAwLjAlOyBoZWlnaHQ6IDEwMC4wJTsiPk1hbmhhdHRhbiBWYWxsZXkgQ2x1c3RlciAyPC9kaXY+JylbMF07CiAgICAgICAgICAgICAgICBwb3B1cF81OGEzYTNiMWZlNmI0Nzk5YjNkZjI0NzQ1MDFhNTVlZS5zZXRDb250ZW50KGh0bWxfMDY0NGE2NTRhYzAzNDZhNjgyZDkwN2Q3YjYzODAyNWEpOwogICAgICAgICAgICAKCiAgICAgICAgICAgIGNpcmNsZV9tYXJrZXJfM2FmMDI3OTViNmU3NDUwYjkzMTE1ZTA1ODY4MzNhMTMuYmluZFBvcHVwKHBvcHVwXzU4YTNhM2IxZmU2YjQ3OTliM2RmMjQ3NDUwMWE1NWVlKTsKCiAgICAgICAgICAgIAogICAgICAgIAogICAgCiAgICAgICAgICAgIHZhciBjaXJjbGVfbWFya2VyXzFhZTQxMmYwNGEwNTRkYjQ4MmUzNDk2NzY0NjRkNTE0ID0gTC5jaXJjbGVNYXJrZXIoCiAgICAgICAgICAgICAgICBbNDAuODA3OTk5NzM4MTY1ODI2LC03My45NjM4OTYyNzkwNTMzMl0sCiAgICAgICAgICAgICAgICB7CiAgImJ1YmJsaW5nTW91c2VFdmVudHMiOiB0cnVlLAogICJjb2xvciI6ICIjMDBiNWViIiwKICAiZGFzaEFycmF5IjogbnVsbCwKICAiZGFzaE9mZnNldCI6IG51bGwsCiAgImZpbGwiOiB0cnVlLAogICJmaWxsQ29sb3IiOiAiIzAwYjVlYiIsCiAgImZpbGxPcGFjaXR5IjogMC43LAogICJmaWxsUnVsZSI6ICJldmVub2RkIiwKICAibGluZUNhcCI6ICJyb3VuZCIsCiAgImxpbmVKb2luIjogInJvdW5kIiwKICAib3BhY2l0eSI6IDEuMCwKICAicmFkaXVzIjogNSwKICAic3Ryb2tlIjogdHJ1ZSwKICAid2VpZ2h0IjogMwp9CiAgICAgICAgICAgICAgICApLmFkZFRvKG1hcF83MWFhZGE5YjY0ZTk0ZmE4YWFjZmNkN2M3ODJlYjU2MSk7CiAgICAgICAgICAgIAogICAgCiAgICAgICAgICAgIHZhciBwb3B1cF82ZWZkZDc4NWNiNWY0Nzg0OTZkMjM2Y2RlMGEwMjYzMSA9IEwucG9wdXAoe21heFdpZHRoOiAnMzAwJ30pOwoKICAgICAgICAgICAgCiAgICAgICAgICAgICAgICB2YXIgaHRtbF9jYTQ4YzA2Yzc2Mzc0YTcxOWQ0NDVhODMzYmY5YjQwMSA9ICQoJzxkaXYgaWQ9Imh0bWxfY2E0OGMwNmM3NjM3NGE3MTlkNDQ1YTgzM2JmOWI0MDEiIHN0eWxlPSJ3aWR0aDogMTAwLjAlOyBoZWlnaHQ6IDEwMC4wJTsiPk1vcm5pbmdzaWRlIEhlaWdodHMgQ2x1c3RlciAyPC9kaXY+JylbMF07CiAgICAgICAgICAgICAgICBwb3B1cF82ZWZkZDc4NWNiNWY0Nzg0OTZkMjM2Y2RlMGEwMjYzMS5zZXRDb250ZW50KGh0bWxfY2E0OGMwNmM3NjM3NGE3MTlkNDQ1YTgzM2JmOWI0MDEpOwogICAgICAgICAgICAKCiAgICAgICAgICAgIGNpcmNsZV9tYXJrZXJfMWFlNDEyZjA0YTA1NGRiNDgyZTM0OTY3NjQ2NGQ1MTQuYmluZFBvcHVwKHBvcHVwXzZlZmRkNzg1Y2I1ZjQ3ODQ5NmQyMzZjZGUwYTAyNjMxKTsKCiAgICAgICAgICAgIAogICAgICAgIAogICAgCiAgICAgICAgICAgIHZhciBjaXJjbGVfbWFya2VyXzNiMDUwMzNiNzRkODQwZDliOTM1ZWU2YTVjOTA2MWRmID0gTC5jaXJjbGVNYXJrZXIoCiAgICAgICAgICAgICAgICBbNDAuNzM3MjA5ODMyNzE1LC03My45ODEzNzU5NDgzMzU0MV0sCiAgICAgICAgICAgICAgICB7CiAgImJ1YmJsaW5nTW91c2VFdmVudHMiOiB0cnVlLAogICJjb2xvciI6ICIjMDBiNWViIiwKICAiZGFzaEFycmF5IjogbnVsbCwKICAiZGFzaE9mZnNldCI6IG51bGwsCiAgImZpbGwiOiB0cnVlLAogICJmaWxsQ29sb3IiOiAiIzAwYjVlYiIsCiAgImZpbGxPcGFjaXR5IjogMC43LAogICJmaWxsUnVsZSI6ICJldmVub2RkIiwKICAibGluZUNhcCI6ICJyb3VuZCIsCiAgImxpbmVKb2luIjogInJvdW5kIiwKICAib3BhY2l0eSI6IDEuMCwKICAicmFkaXVzIjogNSwKICAic3Ryb2tlIjogdHJ1ZSwKICAid2VpZ2h0IjogMwp9CiAgICAgICAgICAgICAgICApLmFkZFRvKG1hcF83MWFhZGE5YjY0ZTk0ZmE4YWFjZmNkN2M3ODJlYjU2MSk7CiAgICAgICAgICAgIAogICAgCiAgICAgICAgICAgIHZhciBwb3B1cF8xNGY2YjYxZDFjNWM0ZGRjOTgyODNjY2M0ZTNlMjMzZCA9IEwucG9wdXAoe21heFdpZHRoOiAnMzAwJ30pOwoKICAgICAgICAgICAgCiAgICAgICAgICAgICAgICB2YXIgaHRtbF9lOGQzNTQxOGU0YWM0MzFlYTc0ODMxNWZjYmViMmRhZSA9ICQoJzxkaXYgaWQ9Imh0bWxfZThkMzU0MThlNGFjNDMxZWE3NDgzMTVmY2JlYjJkYWUiIHN0eWxlPSJ3aWR0aDogMTAwLjAlOyBoZWlnaHQ6IDEwMC4wJTsiPkdyYW1lcmN5IENsdXN0ZXIgMjwvZGl2PicpWzBdOwogICAgICAgICAgICAgICAgcG9wdXBfMTRmNmI2MWQxYzVjNGRkYzk4MjgzY2NjNGUzZTIzM2Quc2V0Q29udGVudChodG1sX2U4ZDM1NDE4ZTRhYzQzMWVhNzQ4MzE1ZmNiZWIyZGFlKTsKICAgICAgICAgICAgCgogICAgICAgICAgICBjaXJjbGVfbWFya2VyXzNiMDUwMzNiNzRkODQwZDliOTM1ZWU2YTVjOTA2MWRmLmJpbmRQb3B1cChwb3B1cF8xNGY2YjYxZDFjNWM0ZGRjOTgyODNjY2M0ZTNlMjMzZCk7CgogICAgICAgICAgICAKICAgICAgICAKICAgIAogICAgICAgICAgICB2YXIgY2lyY2xlX21hcmtlcl8zNDllZmFiOGEyZjI0OTIzOWU1Mjg5ZDg5YWM5NjljOSA9IEwuY2lyY2xlTWFya2VyKAogICAgICAgICAgICAgICAgWzQwLjcxMTkzMTk4Mzk0NTY1LC03NC4wMTY4NjkzMDUwODYxN10sCiAgICAgICAgICAgICAgICB7CiAgImJ1YmJsaW5nTW91c2VFdmVudHMiOiB0cnVlLAogICJjb2xvciI6ICIjMDBiNWViIiwKICAiZGFzaEFycmF5IjogbnVsbCwKICAiZGFzaE9mZnNldCI6IG51bGwsCiAgImZpbGwiOiB0cnVlLAogICJmaWxsQ29sb3IiOiAiIzAwYjVlYiIsCiAgImZpbGxPcGFjaXR5IjogMC43LAogICJmaWxsUnVsZSI6ICJldmVub2RkIiwKICAibGluZUNhcCI6ICJyb3VuZCIsCiAgImxpbmVKb2luIjogInJvdW5kIiwKICAib3BhY2l0eSI6IDEuMCwKICAicmFkaXVzIjogNSwKICAic3Ryb2tlIjogdHJ1ZSwKICAid2VpZ2h0IjogMwp9CiAgICAgICAgICAgICAgICApLmFkZFRvKG1hcF83MWFhZGE5YjY0ZTk0ZmE4YWFjZmNkN2M3ODJlYjU2MSk7CiAgICAgICAgICAgIAogICAgCiAgICAgICAgICAgIHZhciBwb3B1cF8xY2MxZjFhMDIzNGM0OGRhYjc5Y2U5YzAyNDFjZmViNyA9IEwucG9wdXAoe21heFdpZHRoOiAnMzAwJ30pOwoKICAgICAgICAgICAgCiAgICAgICAgICAgICAgICB2YXIgaHRtbF81M2E3MjAyNGRkYTA0OGEwYTY2NTRmNzgyOWFjOTQ3MiA9ICQoJzxkaXYgaWQ9Imh0bWxfNTNhNzIwMjRkZGEwNDhhMGE2NjU0Zjc4MjlhYzk0NzIiIHN0eWxlPSJ3aWR0aDogMTAwLjAlOyBoZWlnaHQ6IDEwMC4wJTsiPkJhdHRlcnkgUGFyayBDaXR5IENsdXN0ZXIgMjwvZGl2PicpWzBdOwogICAgICAgICAgICAgICAgcG9wdXBfMWNjMWYxYTAyMzRjNDhkYWI3OWNlOWMwMjQxY2ZlYjcuc2V0Q29udGVudChodG1sXzUzYTcyMDI0ZGRhMDQ4YTBhNjY1NGY3ODI5YWM5NDcyKTsKICAgICAgICAgICAgCgogICAgICAgICAgICBjaXJjbGVfbWFya2VyXzM0OWVmYWI4YTJmMjQ5MjM5ZTUyODlkODlhYzk2OWM5LmJpbmRQb3B1cChwb3B1cF8xY2MxZjFhMDIzNGM0OGRhYjc5Y2U5YzAyNDFjZmViNyk7CgogICAgICAgICAgICAKICAgICAgICAKICAgIAogICAgICAgICAgICB2YXIgY2lyY2xlX21hcmtlcl82YWIwY2ZkNTdmYjU0YzMzYjFkNzYwZmY0ODJhYzAwMSA9IEwuY2lyY2xlTWFya2VyKAogICAgICAgICAgICAgICAgWzQwLjcwNzEwNzEwNzI3MDQ4LC03NC4wMTA2NjU0NDUyMTI3XSwKICAgICAgICAgICAgICAgIHsKICAiYnViYmxpbmdNb3VzZUV2ZW50cyI6IHRydWUsCiAgImNvbG9yIjogIiMwMGI1ZWIiLAogICJkYXNoQXJyYXkiOiBudWxsLAogICJkYXNoT2Zmc2V0IjogbnVsbCwKICAiZmlsbCI6IHRydWUsCiAgImZpbGxDb2xvciI6ICIjMDBiNWViIiwKICAiZmlsbE9wYWNpdHkiOiAwLjcsCiAgImZpbGxSdWxlIjogImV2ZW5vZGQiLAogICJsaW5lQ2FwIjogInJvdW5kIiwKICAibGluZUpvaW4iOiAicm91bmQiLAogICJvcGFjaXR5IjogMS4wLAogICJyYWRpdXMiOiA1LAogICJzdHJva2UiOiB0cnVlLAogICJ3ZWlnaHQiOiAzCn0KICAgICAgICAgICAgICAgICkuYWRkVG8obWFwXzcxYWFkYTliNjRlOTRmYThhYWNmY2Q3Yzc4MmViNTYxKTsKICAgICAgICAgICAgCiAgICAKICAgICAgICAgICAgdmFyIHBvcHVwX2I5YzE4NDFiYjFiYzQ3YTc4ZGJkMTFmYzIwZTg5Y2EwID0gTC5wb3B1cCh7bWF4V2lkdGg6ICczMDAnfSk7CgogICAgICAgICAgICAKICAgICAgICAgICAgICAgIHZhciBodG1sXzE2NmQ0NzJlMThmZjRkNzdhNzM3NDRlNGM2ZTJkOWYxID0gJCgnPGRpdiBpZD0iaHRtbF8xNjZkNDcyZTE4ZmY0ZDc3YTczNzQ0ZTRjNmUyZDlmMSIgc3R5bGU9IndpZHRoOiAxMDAuMCU7IGhlaWdodDogMTAwLjAlOyI+RmluYW5jaWFsIERpc3RyaWN0IENsdXN0ZXIgMjwvZGl2PicpWzBdOwogICAgICAgICAgICAgICAgcG9wdXBfYjljMTg0MWJiMWJjNDdhNzhkYmQxMWZjMjBlODljYTAuc2V0Q29udGVudChodG1sXzE2NmQ0NzJlMThmZjRkNzdhNzM3NDRlNGM2ZTJkOWYxKTsKICAgICAgICAgICAgCgogICAgICAgICAgICBjaXJjbGVfbWFya2VyXzZhYjBjZmQ1N2ZiNTRjMzNiMWQ3NjBmZjQ4MmFjMDAxLmJpbmRQb3B1cChwb3B1cF9iOWMxODQxYmIxYmM0N2E3OGRiZDExZmMyMGU4OWNhMCk7CgogICAgICAgICAgICAKICAgICAgICAKICAgIAogICAgICAgICAgICB2YXIgY2lyY2xlX21hcmtlcl9jZTljMTI4OWE3ZGE0MWIyYjk4Zjk0NGM4MDNkZmFlOCA9IEwuY2lyY2xlTWFya2VyKAogICAgICAgICAgICAgICAgWzQwLjc2ODUwODU5MzM1NDkyLC03My45MTU2NTM3NDMwNDIzNF0sCiAgICAgICAgICAgICAgICB7CiAgImJ1YmJsaW5nTW91c2VFdmVudHMiOiB0cnVlLAogICJjb2xvciI6ICIjMDBiNWViIiwKICAiZGFzaEFycmF5IjogbnVsbCwKICAiZGFzaE9mZnNldCI6IG51bGwsCiAgImZpbGwiOiB0cnVlLAogICJmaWxsQ29sb3IiOiAiIzAwYjVlYiIsCiAgImZpbGxPcGFjaXR5IjogMC43LAogICJmaWxsUnVsZSI6ICJldmVub2RkIiwKICAibGluZUNhcCI6ICJyb3VuZCIsCiAgImxpbmVKb2luIjogInJvdW5kIiwKICAib3BhY2l0eSI6IDEuMCwKICAicmFkaXVzIjogNSwKICAic3Ryb2tlIjogdHJ1ZSwKICAid2VpZ2h0IjogMwp9CiAgICAgICAgICAgICAgICApLmFkZFRvKG1hcF83MWFhZGE5YjY0ZTk0ZmE4YWFjZmNkN2M3ODJlYjU2MSk7CiAgICAgICAgICAgIAogICAgCiAgICAgICAgICAgIHZhciBwb3B1cF81NjIwM2E0ZDM0Mjk0NmFmOGI2ZjE2MzkyNjI3ZjI1OCA9IEwucG9wdXAoe21heFdpZHRoOiAnMzAwJ30pOwoKICAgICAgICAgICAgCiAgICAgICAgICAgICAgICB2YXIgaHRtbF80Nzk3NjhiMjI5MDQ0ZTUwOTlhYzZjNThjNWU4ODhkMSA9ICQoJzxkaXYgaWQ9Imh0bWxfNDc5NzY4YjIyOTA0NGU1MDk5YWM2YzU4YzVlODg4ZDEiIHN0eWxlPSJ3aWR0aDogMTAwLjAlOyBoZWlnaHQ6IDEwMC4wJTsiPkFzdG9yaWEgQ2x1c3RlciAyPC9kaXY+JylbMF07CiAgICAgICAgICAgICAgICBwb3B1cF81NjIwM2E0ZDM0Mjk0NmFmOGI2ZjE2MzkyNjI3ZjI1OC5zZXRDb250ZW50KGh0bWxfNDc5NzY4YjIyOTA0NGU1MDk5YWM2YzU4YzVlODg4ZDEpOwogICAgICAgICAgICAKCiAgICAgICAgICAgIGNpcmNsZV9tYXJrZXJfY2U5YzEyODlhN2RhNDFiMmI5OGY5NDRjODAzZGZhZTguYmluZFBvcHVwKHBvcHVwXzU2MjAzYTRkMzQyOTQ2YWY4YjZmMTYzOTI2MjdmMjU4KTsKCiAgICAgICAgICAgIAogICAgICAgIAogICAgCiAgICAgICAgICAgIHZhciBjaXJjbGVfbWFya2VyXzg5MzdkZTU1YTE1ODQwNzk4MTIxODcwMGQyYjY0NmIyID0gTC5jaXJjbGVNYXJrZXIoCiAgICAgICAgICAgICAgICBbNDAuNzQ2MzQ5MDg4NjAyMjIsLTczLjkwMTg0MTY2ODM4Mjg0XSwKICAgICAgICAgICAgICAgIHsKICAiYnViYmxpbmdNb3VzZUV2ZW50cyI6IHRydWUsCiAgImNvbG9yIjogIiMwMGI1ZWIiLAogICJkYXNoQXJyYXkiOiBudWxsLAogICJkYXNoT2Zmc2V0IjogbnVsbCwKICAiZmlsbCI6IHRydWUsCiAgImZpbGxDb2xvciI6ICIjMDBiNWViIiwKICAiZmlsbE9wYWNpdHkiOiAwLjcsCiAgImZpbGxSdWxlIjogImV2ZW5vZGQiLAogICJsaW5lQ2FwIjogInJvdW5kIiwKICAibGluZUpvaW4iOiAicm91bmQiLAogICJvcGFjaXR5IjogMS4wLAogICJyYWRpdXMiOiA1LAogICJzdHJva2UiOiB0cnVlLAogICJ3ZWlnaHQiOiAzCn0KICAgICAgICAgICAgICAgICkuYWRkVG8obWFwXzcxYWFkYTliNjRlOTRmYThhYWNmY2Q3Yzc4MmViNTYxKTsKICAgICAgICAgICAgCiAgICAKICAgICAgICAgICAgdmFyIHBvcHVwXzkzMTJmNmFkYmNjNTQ3ZGY5OGIwMTUzNmI4ZDk2NGE2ID0gTC5wb3B1cCh7bWF4V2lkdGg6ICczMDAnfSk7CgogICAgICAgICAgICAKICAgICAgICAgICAgICAgIHZhciBodG1sXzc5YjRkMGE5NjEzYzRkOWM4NzFhZDJhNmQwMDkwNmJkID0gJCgnPGRpdiBpZD0iaHRtbF83OWI0ZDBhOTYxM2M0ZDljODcxYWQyYTZkMDA5MDZiZCIgc3R5bGU9IndpZHRoOiAxMDAuMCU7IGhlaWdodDogMTAwLjAlOyI+V29vZHNpZGUgQ2x1c3RlciAyPC9kaXY+JylbMF07CiAgICAgICAgICAgICAgICBwb3B1cF85MzEyZjZhZGJjYzU0N2RmOThiMDE1MzZiOGQ5NjRhNi5zZXRDb250ZW50KGh0bWxfNzliNGQwYTk2MTNjNGQ5Yzg3MWFkMmE2ZDAwOTA2YmQpOwogICAgICAgICAgICAKCiAgICAgICAgICAgIGNpcmNsZV9tYXJrZXJfODkzN2RlNTVhMTU4NDA3OTgxMjE4NzAwZDJiNjQ2YjIuYmluZFBvcHVwKHBvcHVwXzkzMTJmNmFkYmNjNTQ3ZGY5OGIwMTUzNmI4ZDk2NGE2KTsKCiAgICAgICAgICAgIAogICAgICAgIAogICAgCiAgICAgICAgICAgIHZhciBjaXJjbGVfbWFya2VyXzBkYmYzNjVkYmExNjRiYThiZmZiOTFiOTlmMmU0NDVmID0gTC5jaXJjbGVNYXJrZXIoCiAgICAgICAgICAgICAgICBbNDAuNzUxOTgxMzgwMDczNjcsLTczLjg4MjgyMTA5MTY0MzY1XSwKICAgICAgICAgICAgICAgIHsKICAiYnViYmxpbmdNb3VzZUV2ZW50cyI6IHRydWUsCiAgImNvbG9yIjogIiMwMGI1ZWIiLAogICJkYXNoQXJyYXkiOiBudWxsLAogICJkYXNoT2Zmc2V0IjogbnVsbCwKICAiZmlsbCI6IHRydWUsCiAgImZpbGxDb2xvciI6ICIjMDBiNWViIiwKICAiZmlsbE9wYWNpdHkiOiAwLjcsCiAgImZpbGxSdWxlIjogImV2ZW5vZGQiLAogICJsaW5lQ2FwIjogInJvdW5kIiwKICAibGluZUpvaW4iOiAicm91bmQiLAogICJvcGFjaXR5IjogMS4wLAogICJyYWRpdXMiOiA1LAogICJzdHJva2UiOiB0cnVlLAogICJ3ZWlnaHQiOiAzCn0KICAgICAgICAgICAgICAgICkuYWRkVG8obWFwXzcxYWFkYTliNjRlOTRmYThhYWNmY2Q3Yzc4MmViNTYxKTsKICAgICAgICAgICAgCiAgICAKICAgICAgICAgICAgdmFyIHBvcHVwXzc2Y2IxZWI4OGJkMDRiZjQ5NTBlOTM2YWRiOTFmYWMxID0gTC5wb3B1cCh7bWF4V2lkdGg6ICczMDAnfSk7CgogICAgICAgICAgICAKICAgICAgICAgICAgICAgIHZhciBodG1sXzY1OTU0NDBmZjNlMjQ5YThhZjFjMTk5YTNlYjhlODkwID0gJCgnPGRpdiBpZD0iaHRtbF82NTk1NDQwZmYzZTI0OWE4YWYxYzE5OWEzZWI4ZTg5MCIgc3R5bGU9IndpZHRoOiAxMDAuMCU7IGhlaWdodDogMTAwLjAlOyI+SmFja3NvbiBIZWlnaHRzIENsdXN0ZXIgMjwvZGl2PicpWzBdOwogICAgICAgICAgICAgICAgcG9wdXBfNzZjYjFlYjg4YmQwNGJmNDk1MGU5MzZhZGI5MWZhYzEuc2V0Q29udGVudChodG1sXzY1OTU0NDBmZjNlMjQ5YThhZjFjMTk5YTNlYjhlODkwKTsKICAgICAgICAgICAgCgogICAgICAgICAgICBjaXJjbGVfbWFya2VyXzBkYmYzNjVkYmExNjRiYThiZmZiOTFiOTlmMmU0NDVmLmJpbmRQb3B1cChwb3B1cF83NmNiMWViODhiZDA0YmY0OTUwZTkzNmFkYjkxZmFjMSk7CgogICAgICAgICAgICAKICAgICAgICAKICAgIAogICAgICAgICAgICB2YXIgY2lyY2xlX21hcmtlcl9mOTJhY2ViY2Q5OTY0OGNhYTgwYTRlMzYyZmU5OWNjNyA9IEwuY2lyY2xlTWFya2VyKAogICAgICAgICAgICAgICAgWzQwLjc0NDA0ODUwNTEyMjAyNCwtNzMuODgxNjU2MjIyODgzODhdLAogICAgICAgICAgICAgICAgewogICJidWJibGluZ01vdXNlRXZlbnRzIjogdHJ1ZSwKICAiY29sb3IiOiAiIzAwYjVlYiIsCiAgImRhc2hBcnJheSI6IG51bGwsCiAgImRhc2hPZmZzZXQiOiBudWxsLAogICJmaWxsIjogdHJ1ZSwKICAiZmlsbENvbG9yIjogIiMwMGI1ZWIiLAogICJmaWxsT3BhY2l0eSI6IDAuNywKICAiZmlsbFJ1bGUiOiAiZXZlbm9kZCIsCiAgImxpbmVDYXAiOiAicm91bmQiLAogICJsaW5lSm9pbiI6ICJyb3VuZCIsCiAgIm9wYWNpdHkiOiAxLjAsCiAgInJhZGl1cyI6IDUsCiAgInN0cm9rZSI6IHRydWUsCiAgIndlaWdodCI6IDMKfQogICAgICAgICAgICAgICAgKS5hZGRUbyhtYXBfNzFhYWRhOWI2NGU5NGZhOGFhY2ZjZDdjNzgyZWI1NjEpOwogICAgICAgICAgICAKICAgIAogICAgICAgICAgICB2YXIgcG9wdXBfZjE4ZGM1M2Q1MDQzNGNiMzkyOTM5OTc3YzM4NDc4ZWUgPSBMLnBvcHVwKHttYXhXaWR0aDogJzMwMCd9KTsKCiAgICAgICAgICAgIAogICAgICAgICAgICAgICAgdmFyIGh0bWxfOWRkYjUyMzVhYWI1NDQ1MGFlZDkzMDBmNDkzM2UxYzYgPSAkKCc8ZGl2IGlkPSJodG1sXzlkZGI1MjM1YWFiNTQ0NTBhZWQ5MzAwZjQ5MzNlMWM2IiBzdHlsZT0id2lkdGg6IDEwMC4wJTsgaGVpZ2h0OiAxMDAuMCU7Ij5FbG1odXJzdCBDbHVzdGVyIDI8L2Rpdj4nKVswXTsKICAgICAgICAgICAgICAgIHBvcHVwX2YxOGRjNTNkNTA0MzRjYjM5MjkzOTk3N2MzODQ3OGVlLnNldENvbnRlbnQoaHRtbF85ZGRiNTIzNWFhYjU0NDUwYWVkOTMwMGY0OTMzZTFjNik7CiAgICAgICAgICAgIAoKICAgICAgICAgICAgY2lyY2xlX21hcmtlcl9mOTJhY2ViY2Q5OTY0OGNhYTgwYTRlMzYyZmU5OWNjNy5iaW5kUG9wdXAocG9wdXBfZjE4ZGM1M2Q1MDQzNGNiMzkyOTM5OTc3YzM4NDc4ZWUpOwoKICAgICAgICAgICAgCiAgICAgICAgCiAgICAKICAgICAgICAgICAgdmFyIGNpcmNsZV9tYXJrZXJfODdkYzI2ODE5NDY5NGVhNThlMTJiZGM3YWRlODI5OGMgPSBMLmNpcmNsZU1hcmtlcigKICAgICAgICAgICAgICAgIFs0MC42NTQyMjUyNzczODQ4NywtNzMuODM4MTM3NjQ2MDAyOF0sCiAgICAgICAgICAgICAgICB7CiAgImJ1YmJsaW5nTW91c2VFdmVudHMiOiB0cnVlLAogICJjb2xvciI6ICIjZmYwMDAwIiwKICAiZGFzaEFycmF5IjogbnVsbCwKICAiZGFzaE9mZnNldCI6IG51bGwsCiAgImZpbGwiOiB0cnVlLAogICJmaWxsQ29sb3IiOiAiI2ZmMDAwMCIsCiAgImZpbGxPcGFjaXR5IjogMC43LAogICJmaWxsUnVsZSI6ICJldmVub2RkIiwKICAibGluZUNhcCI6ICJyb3VuZCIsCiAgImxpbmVKb2luIjogInJvdW5kIiwKICAib3BhY2l0eSI6IDEuMCwKICAicmFkaXVzIjogNSwKICAic3Ryb2tlIjogdHJ1ZSwKICAid2VpZ2h0IjogMwp9CiAgICAgICAgICAgICAgICApLmFkZFRvKG1hcF83MWFhZGE5YjY0ZTk0ZmE4YWFjZmNkN2M3ODJlYjU2MSk7CiAgICAgICAgICAgIAogICAgCiAgICAgICAgICAgIHZhciBwb3B1cF9kMjJkZmJkOThlZjc0NDllODViNjU0ZDY4OWNiNTQ3MyA9IEwucG9wdXAoe21heFdpZHRoOiAnMzAwJ30pOwoKICAgICAgICAgICAgCiAgICAgICAgICAgICAgICB2YXIgaHRtbF84ZTdlY2JjZGM4YWU0OTNjODQwZDA3ODQzZWRhNmJmMyA9ICQoJzxkaXYgaWQ9Imh0bWxfOGU3ZWNiY2RjOGFlNDkzYzg0MGQwNzg0M2VkYTZiZjMiIHN0eWxlPSJ3aWR0aDogMTAwLjAlOyBoZWlnaHQ6IDEwMC4wJTsiPkhvd2FyZCBCZWFjaCBDbHVzdGVyIDA8L2Rpdj4nKVswXTsKICAgICAgICAgICAgICAgIHBvcHVwX2QyMmRmYmQ5OGVmNzQ0OWU4NWI2NTRkNjg5Y2I1NDczLnNldENvbnRlbnQoaHRtbF84ZTdlY2JjZGM4YWU0OTNjODQwZDA3ODQzZWRhNmJmMyk7CiAgICAgICAgICAgIAoKICAgICAgICAgICAgY2lyY2xlX21hcmtlcl84N2RjMjY4MTk0Njk0ZWE1OGUxMmJkYzdhZGU4Mjk4Yy5iaW5kUG9wdXAocG9wdXBfZDIyZGZiZDk4ZWY3NDQ5ZTg1YjY1NGQ2ODljYjU0NzMpOwoKICAgICAgICAgICAgCiAgICAgICAgCiAgICAKICAgICAgICAgICAgdmFyIGNpcmNsZV9tYXJrZXJfMzVhN2IyMmFlOGY3NGM4YjliZDVhZGQxNWJkYThhOGQgPSBMLmNpcmNsZU1hcmtlcigKICAgICAgICAgICAgICAgIFs0MC43NDIzODE3NTAxNTY2NywtNzMuODU2ODI0OTczNDUyNThdLAogICAgICAgICAgICAgICAgewogICJidWJibGluZ01vdXNlRXZlbnRzIjogdHJ1ZSwKICAiY29sb3IiOiAiI2ZmMDAwMCIsCiAgImRhc2hBcnJheSI6IG51bGwsCiAgImRhc2hPZmZzZXQiOiBudWxsLAogICJmaWxsIjogdHJ1ZSwKICAiZmlsbENvbG9yIjogIiNmZjAwMDAiLAogICJmaWxsT3BhY2l0eSI6IDAuNywKICAiZmlsbFJ1bGUiOiAiZXZlbm9kZCIsCiAgImxpbmVDYXAiOiAicm91bmQiLAogICJsaW5lSm9pbiI6ICJyb3VuZCIsCiAgIm9wYWNpdHkiOiAxLjAsCiAgInJhZGl1cyI6IDUsCiAgInN0cm9rZSI6IHRydWUsCiAgIndlaWdodCI6IDMKfQogICAgICAgICAgICAgICAgKS5hZGRUbyhtYXBfNzFhYWRhOWI2NGU5NGZhOGFhY2ZjZDdjNzgyZWI1NjEpOwogICAgICAgICAgICAKICAgIAogICAgICAgICAgICB2YXIgcG9wdXBfOWQ0ZTRhODViZTcxNDZiYmEwMDVhMzQxZDAxMjU3NWIgPSBMLnBvcHVwKHttYXhXaWR0aDogJzMwMCd9KTsKCiAgICAgICAgICAgIAogICAgICAgICAgICAgICAgdmFyIGh0bWxfZTM2NzdiNzYwNjhkNDA3Nzg0MzA1OWI0YjNjM2VlZDQgPSAkKCc8ZGl2IGlkPSJodG1sX2UzNjc3Yjc2MDY4ZDQwNzc4NDMwNTliNGIzYzNlZWQ0IiBzdHlsZT0id2lkdGg6IDEwMC4wJTsgaGVpZ2h0OiAxMDAuMCU7Ij5Db3JvbmEgQ2x1c3RlciAwPC9kaXY+JylbMF07CiAgICAgICAgICAgICAgICBwb3B1cF85ZDRlNGE4NWJlNzE0NmJiYTAwNWEzNDFkMDEyNTc1Yi5zZXRDb250ZW50KGh0bWxfZTM2NzdiNzYwNjhkNDA3Nzg0MzA1OWI0YjNjM2VlZDQpOwogICAgICAgICAgICAKCiAgICAgICAgICAgIGNpcmNsZV9tYXJrZXJfMzVhN2IyMmFlOGY3NGM4YjliZDVhZGQxNWJkYThhOGQuYmluZFBvcHVwKHBvcHVwXzlkNGU0YTg1YmU3MTQ2YmJhMDA1YTM0MWQwMTI1NzViKTsKCiAgICAgICAgICAgIAogICAgICAgIAogICAgCiAgICAgICAgICAgIHZhciBjaXJjbGVfbWFya2VyXzY0ZDU3ZDUxNjg4NzQxMzZhMWJmYTFkZGJiMDE0YmFmID0gTC5jaXJjbGVNYXJrZXIoCiAgICAgICAgICAgICAgICBbNDAuNzI1MjYzNzgyMTY1MDMsLTczLjg0NDQ3NTAwNzg4OTgzXSwKICAgICAgICAgICAgICAgIHsKICAiYnViYmxpbmdNb3VzZUV2ZW50cyI6IHRydWUsCiAgImNvbG9yIjogIiNmZjAwMDAiLAogICJkYXNoQXJyYXkiOiBudWxsLAogICJkYXNoT2Zmc2V0IjogbnVsbCwKICAiZmlsbCI6IHRydWUsCiAgImZpbGxDb2xvciI6ICIjZmYwMDAwIiwKICAiZmlsbE9wYWNpdHkiOiAwLjcsCiAgImZpbGxSdWxlIjogImV2ZW5vZGQiLAogICJsaW5lQ2FwIjogInJvdW5kIiwKICAibGluZUpvaW4iOiAicm91bmQiLAogICJvcGFjaXR5IjogMS4wLAogICJyYWRpdXMiOiA1LAogICJzdHJva2UiOiB0cnVlLAogICJ3ZWlnaHQiOiAzCn0KICAgICAgICAgICAgICAgICkuYWRkVG8obWFwXzcxYWFkYTliNjRlOTRmYThhYWNmY2Q3Yzc4MmViNTYxKTsKICAgICAgICAgICAgCiAgICAKICAgICAgICAgICAgdmFyIHBvcHVwX2ExYWJhMWUyODQyNjRjY2U4MGQwZDI4NTI2NTQyMWQyID0gTC5wb3B1cCh7bWF4V2lkdGg6ICczMDAnfSk7CgogICAgICAgICAgICAKICAgICAgICAgICAgICAgIHZhciBodG1sX2Y4NDM3YzZkNTNiMDQ2YzhhYWVkN2FlYjg5NzVmNjEyID0gJCgnPGRpdiBpZD0iaHRtbF9mODQzN2M2ZDUzYjA0NmM4YWFlZDdhZWI4OTc1ZjYxMiIgc3R5bGU9IndpZHRoOiAxMDAuMCU7IGhlaWdodDogMTAwLjAlOyI+Rm9yZXN0IEhpbGxzIENsdXN0ZXIgMDwvZGl2PicpWzBdOwogICAgICAgICAgICAgICAgcG9wdXBfYTFhYmExZTI4NDI2NGNjZTgwZDBkMjg1MjY1NDIxZDIuc2V0Q29udGVudChodG1sX2Y4NDM3YzZkNTNiMDQ2YzhhYWVkN2FlYjg5NzVmNjEyKTsKICAgICAgICAgICAgCgogICAgICAgICAgICBjaXJjbGVfbWFya2VyXzY0ZDU3ZDUxNjg4NzQxMzZhMWJmYTFkZGJiMDE0YmFmLmJpbmRQb3B1cChwb3B1cF9hMWFiYTFlMjg0MjY0Y2NlODBkMGQyODUyNjU0MjFkMik7CgogICAgICAgICAgICAKICAgICAgICAKICAgIAogICAgICAgICAgICB2YXIgY2lyY2xlX21hcmtlcl9hZGJkOTg1MzI3YTA0ZTE4OGI5OTQ3Njg0ZGUyMmZlYiA9IEwuY2lyY2xlTWFya2VyKAogICAgICAgICAgICAgICAgWzQwLjcwNTE3OTAzNTQxNDgsLTczLjgyOTgxOTA1ODI1NzAzXSwKICAgICAgICAgICAgICAgIHsKICAiYnViYmxpbmdNb3VzZUV2ZW50cyI6IHRydWUsCiAgImNvbG9yIjogIiNmZjAwMDAiLAogICJkYXNoQXJyYXkiOiBudWxsLAogICJkYXNoT2Zmc2V0IjogbnVsbCwKICAiZmlsbCI6IHRydWUsCiAgImZpbGxDb2xvciI6ICIjZmYwMDAwIiwKICAiZmlsbE9wYWNpdHkiOiAwLjcsCiAgImZpbGxSdWxlIjogImV2ZW5vZGQiLAogICJsaW5lQ2FwIjogInJvdW5kIiwKICAibGluZUpvaW4iOiAicm91bmQiLAogICJvcGFjaXR5IjogMS4wLAogICJyYWRpdXMiOiA1LAogICJzdHJva2UiOiB0cnVlLAogICJ3ZWlnaHQiOiAzCn0KICAgICAgICAgICAgICAgICkuYWRkVG8obWFwXzcxYWFkYTliNjRlOTRmYThhYWNmY2Q3Yzc4MmViNTYxKTsKICAgICAgICAgICAgCiAgICAKICAgICAgICAgICAgdmFyIHBvcHVwXzk0NzQ2ZTRlZGUwMTQ0NjQ5NTE5NWI5Mzc2NjMxMTk2ID0gTC5wb3B1cCh7bWF4V2lkdGg6ICczMDAnfSk7CgogICAgICAgICAgICAKICAgICAgICAgICAgICAgIHZhciBodG1sX2IzOTMzYTU5ODMwZjQzYWY4NTU1YjgzMDNjZjcyNGEwID0gJCgnPGRpdiBpZD0iaHRtbF9iMzkzM2E1OTgzMGY0M2FmODU1NWI4MzAzY2Y3MjRhMCIgc3R5bGU9IndpZHRoOiAxMDAuMCU7IGhlaWdodDogMTAwLjAlOyI+S2V3IEdhcmRlbnMgQ2x1c3RlciAwPC9kaXY+JylbMF07CiAgICAgICAgICAgICAgICBwb3B1cF85NDc0NmU0ZWRlMDE0NDY0OTUxOTViOTM3NjYzMTE5Ni5zZXRDb250ZW50KGh0bWxfYjM5MzNhNTk4MzBmNDNhZjg1NTViODMwM2NmNzI0YTApOwogICAgICAgICAgICAKCiAgICAgICAgICAgIGNpcmNsZV9tYXJrZXJfYWRiZDk4NTMyN2EwNGUxODhiOTk0NzY4NGRlMjJmZWIuYmluZFBvcHVwKHBvcHVwXzk0NzQ2ZTRlZGUwMTQ0NjQ5NTE5NWI5Mzc2NjMxMTk2KTsKCiAgICAgICAgICAgIAogICAgICAgIAogICAgCiAgICAgICAgICAgIHZhciBjaXJjbGVfbWFya2VyXzI5NjU5NWZhMjYzOTQ0ZWJiYzI5YTk1ZTExMDU0ODM0ID0gTC5jaXJjbGVNYXJrZXIoCiAgICAgICAgICAgICAgICBbNDAuNjk3OTQ3MzE0NzE3NjMsLTczLjgzMTgzMzIxNDQ2ODg3XSwKICAgICAgICAgICAgICAgIHsKICAiYnViYmxpbmdNb3VzZUV2ZW50cyI6IHRydWUsCiAgImNvbG9yIjogIiNmZjAwMDAiLAogICJkYXNoQXJyYXkiOiBudWxsLAogICJkYXNoT2Zmc2V0IjogbnVsbCwKICAiZmlsbCI6IHRydWUsCiAgImZpbGxDb2xvciI6ICIjZmYwMDAwIiwKICAiZmlsbE9wYWNpdHkiOiAwLjcsCiAgImZpbGxSdWxlIjogImV2ZW5vZGQiLAogICJsaW5lQ2FwIjogInJvdW5kIiwKICAibGluZUpvaW4iOiAicm91bmQiLAogICJvcGFjaXR5IjogMS4wLAogICJyYWRpdXMiOiA1LAogICJzdHJva2UiOiB0cnVlLAogICJ3ZWlnaHQiOiAzCn0KICAgICAgICAgICAgICAgICkuYWRkVG8obWFwXzcxYWFkYTliNjRlOTRmYThhYWNmY2Q3Yzc4MmViNTYxKTsKICAgICAgICAgICAgCiAgICAKICAgICAgICAgICAgdmFyIHBvcHVwX2JlMDA0NTEzZWJiNjQ2MzM4NmFjNjhkOTczZmI1MTEyID0gTC5wb3B1cCh7bWF4V2lkdGg6ICczMDAnfSk7CgogICAgICAgICAgICAKICAgICAgICAgICAgICAgIHZhciBodG1sXzE4ZTM0NTBkMjU3NDQxYjNiNWUwYTUxZTJhZDQ2ZjRiID0gJCgnPGRpdiBpZD0iaHRtbF8xOGUzNDUwZDI1NzQ0MWIzYjVlMGE1MWUyYWQ0NmY0YiIgc3R5bGU9IndpZHRoOiAxMDAuMCU7IGhlaWdodDogMTAwLjAlOyI+UmljaG1vbmQgSGlsbCBDbHVzdGVyIDA8L2Rpdj4nKVswXTsKICAgICAgICAgICAgICAgIHBvcHVwX2JlMDA0NTEzZWJiNjQ2MzM4NmFjNjhkOTczZmI1MTEyLnNldENvbnRlbnQoaHRtbF8xOGUzNDUwZDI1NzQ0MWIzYjVlMGE1MWUyYWQ0NmY0Yik7CiAgICAgICAgICAgIAoKICAgICAgICAgICAgY2lyY2xlX21hcmtlcl8yOTY1OTVmYTI2Mzk0NGViYmMyOWE5NWUxMTA1NDgzNC5iaW5kUG9wdXAocG9wdXBfYmUwMDQ1MTNlYmI2NDYzMzg2YWM2OGQ5NzNmYjUxMTIpOwoKICAgICAgICAgICAgCiAgICAgICAgCiAgICAKICAgICAgICAgICAgdmFyIGNpcmNsZV9tYXJrZXJfMTZjZDgzNTNjYWYzNDliODk0ZmVkNjAwYmIyY2NmMTIgPSBMLmNpcmNsZU1hcmtlcigKICAgICAgICAgICAgICAgIFs0MC43NjQ0NTQxOTY5Nzg0NiwtNzMuODMxNzczMDAzMjk1ODJdLAogICAgICAgICAgICAgICAgewogICJidWJibGluZ01vdXNlRXZlbnRzIjogdHJ1ZSwKICAiY29sb3IiOiAiI2ZmMDAwMCIsCiAgImRhc2hBcnJheSI6IG51bGwsCiAgImRhc2hPZmZzZXQiOiBudWxsLAogICJmaWxsIjogdHJ1ZSwKICAiZmlsbENvbG9yIjogIiNmZjAwMDAiLAogICJmaWxsT3BhY2l0eSI6IDAuNywKICAiZmlsbFJ1bGUiOiAiZXZlbm9kZCIsCiAgImxpbmVDYXAiOiAicm91bmQiLAogICJsaW5lSm9pbiI6ICJyb3VuZCIsCiAgIm9wYWNpdHkiOiAxLjAsCiAgInJhZGl1cyI6IDUsCiAgInN0cm9rZSI6IHRydWUsCiAgIndlaWdodCI6IDMKfQogICAgICAgICAgICAgICAgKS5hZGRUbyhtYXBfNzFhYWRhOWI2NGU5NGZhOGFhY2ZjZDdjNzgyZWI1NjEpOwogICAgICAgICAgICAKICAgIAogICAgICAgICAgICB2YXIgcG9wdXBfYzc5NzExNDVlZDc1NDFkNTk4ZjVhNDUyNDYyMmVhNmUgPSBMLnBvcHVwKHttYXhXaWR0aDogJzMwMCd9KTsKCiAgICAgICAgICAgIAogICAgICAgICAgICAgICAgdmFyIGh0bWxfN2E3MWE3OTNlMzRhNDU1ZGI0YzE2YmE5Y2JiNTczZWIgPSAkKCc8ZGl2IGlkPSJodG1sXzdhNzFhNzkzZTM0YTQ1NWRiNGMxNmJhOWNiYjU3M2ViIiBzdHlsZT0id2lkdGg6IDEwMC4wJTsgaGVpZ2h0OiAxMDAuMCU7Ij5GbHVzaGluZyBDbHVzdGVyIDA8L2Rpdj4nKVswXTsKICAgICAgICAgICAgICAgIHBvcHVwX2M3OTcxMTQ1ZWQ3NTQxZDU5OGY1YTQ1MjQ2MjJlYTZlLnNldENvbnRlbnQoaHRtbF83YTcxYTc5M2UzNGE0NTVkYjRjMTZiYTljYmI1NzNlYik7CiAgICAgICAgICAgIAoKICAgICAgICAgICAgY2lyY2xlX21hcmtlcl8xNmNkODM1M2NhZjM0OWI4OTRmZWQ2MDBiYjJjY2YxMi5iaW5kUG9wdXAocG9wdXBfYzc5NzExNDVlZDc1NDFkNTk4ZjVhNDUyNDYyMmVhNmUpOwoKICAgICAgICAgICAgCiAgICAgICAgCiAgICAKICAgICAgICAgICAgdmFyIGNpcmNsZV9tYXJrZXJfNzc0ODM0MWUzYmZkNGQ5OWEwZTk0M2VmMzZiMjIwZDAgPSBMLmNpcmNsZU1hcmtlcigKICAgICAgICAgICAgICAgIFs0MC43NTAyMTczNDYxMDUyOCwtNzMuOTM5MjAyMjM5MTU1MDVdLAogICAgICAgICAgICAgICAgewogICJidWJibGluZ01vdXNlRXZlbnRzIjogdHJ1ZSwKICAiY29sb3IiOiAiIzAwYjVlYiIsCiAgImRhc2hBcnJheSI6IG51bGwsCiAgImRhc2hPZmZzZXQiOiBudWxsLAogICJmaWxsIjogdHJ1ZSwKICAiZmlsbENvbG9yIjogIiMwMGI1ZWIiLAogICJmaWxsT3BhY2l0eSI6IDAuNywKICAiZmlsbFJ1bGUiOiAiZXZlbm9kZCIsCiAgImxpbmVDYXAiOiAicm91bmQiLAogICJsaW5lSm9pbiI6ICJyb3VuZCIsCiAgIm9wYWNpdHkiOiAxLjAsCiAgInJhZGl1cyI6IDUsCiAgInN0cm9rZSI6IHRydWUsCiAgIndlaWdodCI6IDMKfQogICAgICAgICAgICAgICAgKS5hZGRUbyhtYXBfNzFhYWRhOWI2NGU5NGZhOGFhY2ZjZDdjNzgyZWI1NjEpOwogICAgICAgICAgICAKICAgIAogICAgICAgICAgICB2YXIgcG9wdXBfMjg1NTExZTFkYzU3NDlmM2FkMmY5ZjUwYTIzNTFkMDIgPSBMLnBvcHVwKHttYXhXaWR0aDogJzMwMCd9KTsKCiAgICAgICAgICAgIAogICAgICAgICAgICAgICAgdmFyIGh0bWxfMzkyMzJkMzk0YzEyNDEzZGJjYjNjNmNjMjhhNDQyODggPSAkKCc8ZGl2IGlkPSJodG1sXzM5MjMyZDM5NGMxMjQxM2RiY2IzYzZjYzI4YTQ0Mjg4IiBzdHlsZT0id2lkdGg6IDEwMC4wJTsgaGVpZ2h0OiAxMDAuMCU7Ij5Mb25nIElzbGFuZCBDaXR5IENsdXN0ZXIgMjwvZGl2PicpWzBdOwogICAgICAgICAgICAgICAgcG9wdXBfMjg1NTExZTFkYzU3NDlmM2FkMmY5ZjUwYTIzNTFkMDIuc2V0Q29udGVudChodG1sXzM5MjMyZDM5NGMxMjQxM2RiY2IzYzZjYzI4YTQ0Mjg4KTsKICAgICAgICAgICAgCgogICAgICAgICAgICBjaXJjbGVfbWFya2VyXzc3NDgzNDFlM2JmZDRkOTlhMGU5NDNlZjM2YjIyMGQwLmJpbmRQb3B1cChwb3B1cF8yODU1MTFlMWRjNTc0OWYzYWQyZjlmNTBhMjM1MWQwMik7CgogICAgICAgICAgICAKICAgICAgICAKICAgIAogICAgICAgICAgICB2YXIgY2lyY2xlX21hcmtlcl8zODhiZDI5MzdlMGQ0MTMxODlkODMyZmU0NWEwYTE2MSA9IEwuY2lyY2xlTWFya2VyKAogICAgICAgICAgICAgICAgWzQwLjc0MDE3NjI4MzUxOTI0LC03My45MjY5MTYxNzU2MTU3N10sCiAgICAgICAgICAgICAgICB7CiAgImJ1YmJsaW5nTW91c2VFdmVudHMiOiB0cnVlLAogICJjb2xvciI6ICIjMDBiNWViIiwKICAiZGFzaEFycmF5IjogbnVsbCwKICAiZGFzaE9mZnNldCI6IG51bGwsCiAgImZpbGwiOiB0cnVlLAogICJmaWxsQ29sb3IiOiAiIzAwYjVlYiIsCiAgImZpbGxPcGFjaXR5IjogMC43LAogICJmaWxsUnVsZSI6ICJldmVub2RkIiwKICAibGluZUNhcCI6ICJyb3VuZCIsCiAgImxpbmVKb2luIjogInJvdW5kIiwKICAib3BhY2l0eSI6IDEuMCwKICAicmFkaXVzIjogNSwKICAic3Ryb2tlIjogdHJ1ZSwKICAid2VpZ2h0IjogMwp9CiAgICAgICAgICAgICAgICApLmFkZFRvKG1hcF83MWFhZGE5YjY0ZTk0ZmE4YWFjZmNkN2M3ODJlYjU2MSk7CiAgICAgICAgICAgIAogICAgCiAgICAgICAgICAgIHZhciBwb3B1cF85OWI0NTUyYjFkMzA0ZmYyODU5ZDdhNjBjMDFlODA5MCA9IEwucG9wdXAoe21heFdpZHRoOiAnMzAwJ30pOwoKICAgICAgICAgICAgCiAgICAgICAgICAgICAgICB2YXIgaHRtbF8wMWJjNjdjZDVhNjU0MDZmOTJlZGUwYjNlZjJkZjk1MCA9ICQoJzxkaXYgaWQ9Imh0bWxfMDFiYzY3Y2Q1YTY1NDA2ZjkyZWRlMGIzZWYyZGY5NTAiIHN0eWxlPSJ3aWR0aDogMTAwLjAlOyBoZWlnaHQ6IDEwMC4wJTsiPlN1bm55c2lkZSBDbHVzdGVyIDI8L2Rpdj4nKVswXTsKICAgICAgICAgICAgICAgIHBvcHVwXzk5YjQ1NTJiMWQzMDRmZjI4NTlkN2E2MGMwMWU4MDkwLnNldENvbnRlbnQoaHRtbF8wMWJjNjdjZDVhNjU0MDZmOTJlZGUwYjNlZjJkZjk1MCk7CiAgICAgICAgICAgIAoKICAgICAgICAgICAgY2lyY2xlX21hcmtlcl8zODhiZDI5MzdlMGQ0MTMxODlkODMyZmU0NWEwYTE2MS5iaW5kUG9wdXAocG9wdXBfOTliNDU1MmIxZDMwNGZmMjg1OWQ3YTYwYzAxZTgwOTApOwoKICAgICAgICAgICAgCiAgICAgICAgCiAgICAKICAgICAgICAgICAgdmFyIGNpcmNsZV9tYXJrZXJfMTcyNGJhODViNzIzNDVmY2EzMTJjZThjYTlmZTc3NWEgPSBMLmNpcmNsZU1hcmtlcigKICAgICAgICAgICAgICAgIFs0MC43NjQwNzMyMzg4MzA5MSwtNzMuODY3MDQxNDc2NTg3NzJdLAogICAgICAgICAgICAgICAgewogICJidWJibGluZ01vdXNlRXZlbnRzIjogdHJ1ZSwKICAiY29sb3IiOiAiI2ZmYjM2MCIsCiAgImRhc2hBcnJheSI6IG51bGwsCiAgImRhc2hPZmZzZXQiOiBudWxsLAogICJmaWxsIjogdHJ1ZSwKICAiZmlsbENvbG9yIjogIiNmZmIzNjAiLAogICJmaWxsT3BhY2l0eSI6IDAuNywKICAiZmlsbFJ1bGUiOiAiZXZlbm9kZCIsCiAgImxpbmVDYXAiOiAicm91bmQiLAogICJsaW5lSm9pbiI6ICJyb3VuZCIsCiAgIm9wYWNpdHkiOiAxLjAsCiAgInJhZGl1cyI6IDUsCiAgInN0cm9rZSI6IHRydWUsCiAgIndlaWdodCI6IDMKfQogICAgICAgICAgICAgICAgKS5hZGRUbyhtYXBfNzFhYWRhOWI2NGU5NGZhOGFhY2ZjZDdjNzgyZWI1NjEpOwogICAgICAgICAgICAKICAgIAogICAgICAgICAgICB2YXIgcG9wdXBfM2I1OWM3ZDhhY2ViNDhjNjhjMzExZDIwNjg5NjBlZTMgPSBMLnBvcHVwKHttYXhXaWR0aDogJzMwMCd9KTsKCiAgICAgICAgICAgIAogICAgICAgICAgICAgICAgdmFyIGh0bWxfNjJiYzA5YTBiZjdkNDRkOTkwNDExYzJkMGE1NWJkYzggPSAkKCc8ZGl2IGlkPSJodG1sXzYyYmMwOWEwYmY3ZDQ0ZDk5MDQxMWMyZDBhNTViZGM4IiBzdHlsZT0id2lkdGg6IDEwMC4wJTsgaGVpZ2h0OiAxMDAuMCU7Ij5FYXN0IEVsbWh1cnN0IENsdXN0ZXIgNDwvZGl2PicpWzBdOwogICAgICAgICAgICAgICAgcG9wdXBfM2I1OWM3ZDhhY2ViNDhjNjhjMzExZDIwNjg5NjBlZTMuc2V0Q29udGVudChodG1sXzYyYmMwOWEwYmY3ZDQ0ZDk5MDQxMWMyZDBhNTViZGM4KTsKICAgICAgICAgICAgCgogICAgICAgICAgICBjaXJjbGVfbWFya2VyXzE3MjRiYTg1YjcyMzQ1ZmNhMzEyY2U4Y2E5ZmU3NzVhLmJpbmRQb3B1cChwb3B1cF8zYjU5YzdkOGFjZWI0OGM2OGMzMTFkMjA2ODk2MGVlMyk7CgogICAgICAgICAgICAKICAgICAgICAKICAgIAogICAgICAgICAgICB2YXIgY2lyY2xlX21hcmtlcl9jNWQxZmIyNzE2Nzg0ODEwOGRiYmJmNDRiMTFiZWY4NyA9IEwuY2lyY2xlTWFya2VyKAogICAgICAgICAgICAgICAgWzQwLjcyNTQyNzM3NDA5MzYwNiwtNzMuODk2MjE3MTM2MjY4NTldLAogICAgICAgICAgICAgICAgewogICJidWJibGluZ01vdXNlRXZlbnRzIjogdHJ1ZSwKICAiY29sb3IiOiAiIzAwYjVlYiIsCiAgImRhc2hBcnJheSI6IG51bGwsCiAgImRhc2hPZmZzZXQiOiBudWxsLAogICJmaWxsIjogdHJ1ZSwKICAiZmlsbENvbG9yIjogIiMwMGI1ZWIiLAogICJmaWxsT3BhY2l0eSI6IDAuNywKICAiZmlsbFJ1bGUiOiAiZXZlbm9kZCIsCiAgImxpbmVDYXAiOiAicm91bmQiLAogICJsaW5lSm9pbiI6ICJyb3VuZCIsCiAgIm9wYWNpdHkiOiAxLjAsCiAgInJhZGl1cyI6IDUsCiAgInN0cm9rZSI6IHRydWUsCiAgIndlaWdodCI6IDMKfQogICAgICAgICAgICAgICAgKS5hZGRUbyhtYXBfNzFhYWRhOWI2NGU5NGZhOGFhY2ZjZDdjNzgyZWI1NjEpOwogICAgICAgICAgICAKICAgIAogICAgICAgICAgICB2YXIgcG9wdXBfNGU0MTI2OTIyZjVhNDZiMjkxNWZkMjBjYzUzZTU0MjAgPSBMLnBvcHVwKHttYXhXaWR0aDogJzMwMCd9KTsKCiAgICAgICAgICAgIAogICAgICAgICAgICAgICAgdmFyIGh0bWxfNGNkNDQyYjVkYzA3NGIzM2E5Y2E1ZGZiZWYyNDI0NzQgPSAkKCc8ZGl2IGlkPSJodG1sXzRjZDQ0MmI1ZGMwNzRiMzNhOWNhNWRmYmVmMjQyNDc0IiBzdHlsZT0id2lkdGg6IDEwMC4wJTsgaGVpZ2h0OiAxMDAuMCU7Ij5NYXNwZXRoIENsdXN0ZXIgMjwvZGl2PicpWzBdOwogICAgICAgICAgICAgICAgcG9wdXBfNGU0MTI2OTIyZjVhNDZiMjkxNWZkMjBjYzUzZTU0MjAuc2V0Q29udGVudChodG1sXzRjZDQ0MmI1ZGMwNzRiMzNhOWNhNWRmYmVmMjQyNDc0KTsKICAgICAgICAgICAgCgogICAgICAgICAgICBjaXJjbGVfbWFya2VyX2M1ZDFmYjI3MTY3ODQ4MTA4ZGJiYmY0NGIxMWJlZjg3LmJpbmRQb3B1cChwb3B1cF80ZTQxMjY5MjJmNWE0NmIyOTE1ZmQyMGNjNTNlNTQyMCk7CgogICAgICAgICAgICAKICAgICAgICAKICAgIAogICAgICAgICAgICB2YXIgY2lyY2xlX21hcmtlcl8yNzM5NjhkODk4YmQ0MGYxYjVjYjliOTc5MmQxY2ZkNyA9IEwuY2lyY2xlTWFya2VyKAogICAgICAgICAgICAgICAgWzQwLjcwODMyMzE1NjEzODU4LC03My45MDE0MzUxNzU1OTU4OV0sCiAgICAgICAgICAgICAgICB7CiAgImJ1YmJsaW5nTW91c2VFdmVudHMiOiB0cnVlLAogICJjb2xvciI6ICIjMDBiNWViIiwKICAiZGFzaEFycmF5IjogbnVsbCwKICAiZGFzaE9mZnNldCI6IG51bGwsCiAgImZpbGwiOiB0cnVlLAogICJmaWxsQ29sb3IiOiAiIzAwYjVlYiIsCiAgImZpbGxPcGFjaXR5IjogMC43LAogICJmaWxsUnVsZSI6ICJldmVub2RkIiwKICAibGluZUNhcCI6ICJyb3VuZCIsCiAgImxpbmVKb2luIjogInJvdW5kIiwKICAib3BhY2l0eSI6IDEuMCwKICAicmFkaXVzIjogNSwKICAic3Ryb2tlIjogdHJ1ZSwKICAid2VpZ2h0IjogMwp9CiAgICAgICAgICAgICAgICApLmFkZFRvKG1hcF83MWFhZGE5YjY0ZTk0ZmE4YWFjZmNkN2M3ODJlYjU2MSk7CiAgICAgICAgICAgIAogICAgCiAgICAgICAgICAgIHZhciBwb3B1cF8yM2U0YTczZGRiNjE0MmY2YTNlNzBiYWIxOWM0MzAwMCA9IEwucG9wdXAoe21heFdpZHRoOiAnMzAwJ30pOwoKICAgICAgICAgICAgCiAgICAgICAgICAgICAgICB2YXIgaHRtbF9iOWJiOGViOGViYmQ0NGI2OGM4NGRlNWQxMDg5Zjk5NSA9ICQoJzxkaXYgaWQ9Imh0bWxfYjliYjhlYjhlYmJkNDRiNjhjODRkZTVkMTA4OWY5OTUiIHN0eWxlPSJ3aWR0aDogMTAwLjAlOyBoZWlnaHQ6IDEwMC4wJTsiPlJpZGdld29vZCBDbHVzdGVyIDI8L2Rpdj4nKVswXTsKICAgICAgICAgICAgICAgIHBvcHVwXzIzZTRhNzNkZGI2MTQyZjZhM2U3MGJhYjE5YzQzMDAwLnNldENvbnRlbnQoaHRtbF9iOWJiOGViOGViYmQ0NGI2OGM4NGRlNWQxMDg5Zjk5NSk7CiAgICAgICAgICAgIAoKICAgICAgICAgICAgY2lyY2xlX21hcmtlcl8yNzM5NjhkODk4YmQ0MGYxYjVjYjliOTc5MmQxY2ZkNy5iaW5kUG9wdXAocG9wdXBfMjNlNGE3M2RkYjYxNDJmNmEzZTcwYmFiMTljNDMwMDApOwoKICAgICAgICAgICAgCiAgICAgICAgCiAgICAKICAgICAgICAgICAgdmFyIGNpcmNsZV9tYXJrZXJfOTQ3Mjg2YzQwMmVlNDlkYWFiNmNiZTkzYTJiMTk4YTAgPSBMLmNpcmNsZU1hcmtlcigKICAgICAgICAgICAgICAgIFs0MC43MDI3NjI0Mjk2NzgzOCwtNzMuODcwNzQxNjc0MzU2MDVdLAogICAgICAgICAgICAgICAgewogICJidWJibGluZ01vdXNlRXZlbnRzIjogdHJ1ZSwKICAiY29sb3IiOiAiI2ZmMDAwMCIsCiAgImRhc2hBcnJheSI6IG51bGwsCiAgImRhc2hPZmZzZXQiOiBudWxsLAogICJmaWxsIjogdHJ1ZSwKICAiZmlsbENvbG9yIjogIiNmZjAwMDAiLAogICJmaWxsT3BhY2l0eSI6IDAuNywKICAiZmlsbFJ1bGUiOiAiZXZlbm9kZCIsCiAgImxpbmVDYXAiOiAicm91bmQiLAogICJsaW5lSm9pbiI6ICJyb3VuZCIsCiAgIm9wYWNpdHkiOiAxLjAsCiAgInJhZGl1cyI6IDUsCiAgInN0cm9rZSI6IHRydWUsCiAgIndlaWdodCI6IDMKfQogICAgICAgICAgICAgICAgKS5hZGRUbyhtYXBfNzFhYWRhOWI2NGU5NGZhOGFhY2ZjZDdjNzgyZWI1NjEpOwogICAgICAgICAgICAKICAgIAogICAgICAgICAgICB2YXIgcG9wdXBfZDczMTg5ZDcxYmJkNDY1NThhZDU5NTYwOWRjZGEzZmQgPSBMLnBvcHVwKHttYXhXaWR0aDogJzMwMCd9KTsKCiAgICAgICAgICAgIAogICAgICAgICAgICAgICAgdmFyIGh0bWxfMTJlNzUwNTNmN2MxNGEzNTg2ZWYwMWM0ZDZkMTQ4ODQgPSAkKCc8ZGl2IGlkPSJodG1sXzEyZTc1MDUzZjdjMTRhMzU4NmVmMDFjNGQ2ZDE0ODg0IiBzdHlsZT0id2lkdGg6IDEwMC4wJTsgaGVpZ2h0OiAxMDAuMCU7Ij5HbGVuZGFsZSBDbHVzdGVyIDA8L2Rpdj4nKVswXTsKICAgICAgICAgICAgICAgIHBvcHVwX2Q3MzE4OWQ3MWJiZDQ2NTU4YWQ1OTU2MDlkY2RhM2ZkLnNldENvbnRlbnQoaHRtbF8xMmU3NTA1M2Y3YzE0YTM1ODZlZjAxYzRkNmQxNDg4NCk7CiAgICAgICAgICAgIAoKICAgICAgICAgICAgY2lyY2xlX21hcmtlcl85NDcyODZjNDAyZWU0OWRhYWI2Y2JlOTNhMmIxOThhMC5iaW5kUG9wdXAocG9wdXBfZDczMTg5ZDcxYmJkNDY1NThhZDU5NTYwOWRjZGEzZmQpOwoKICAgICAgICAgICAgCiAgICAgICAgCiAgICAKICAgICAgICAgICAgdmFyIGNpcmNsZV9tYXJrZXJfOTllZjViNTI3OTU0NGFhNjlkOGFmNzQ0YzFhYzA2YzIgPSBMLmNpcmNsZU1hcmtlcigKICAgICAgICAgICAgICAgIFs0MC43Mjg5NzQwOTQ4MDczNSwtNzMuODU3ODI2ODY5MDUzN10sCiAgICAgICAgICAgICAgICB7CiAgImJ1YmJsaW5nTW91c2VFdmVudHMiOiB0cnVlLAogICJjb2xvciI6ICIjZmYwMDAwIiwKICAiZGFzaEFycmF5IjogbnVsbCwKICAiZGFzaE9mZnNldCI6IG51bGwsCiAgImZpbGwiOiB0cnVlLAogICJmaWxsQ29sb3IiOiAiI2ZmMDAwMCIsCiAgImZpbGxPcGFjaXR5IjogMC43LAogICJmaWxsUnVsZSI6ICJldmVub2RkIiwKICAibGluZUNhcCI6ICJyb3VuZCIsCiAgImxpbmVKb2luIjogInJvdW5kIiwKICAib3BhY2l0eSI6IDEuMCwKICAicmFkaXVzIjogNSwKICAic3Ryb2tlIjogdHJ1ZSwKICAid2VpZ2h0IjogMwp9CiAgICAgICAgICAgICAgICApLmFkZFRvKG1hcF83MWFhZGE5YjY0ZTk0ZmE4YWFjZmNkN2M3ODJlYjU2MSk7CiAgICAgICAgICAgIAogICAgCiAgICAgICAgICAgIHZhciBwb3B1cF9hY2U2NTI3NGQ3MzU0YzY5OWQ0ODQ2ZWIyNzc5MDZkNyA9IEwucG9wdXAoe21heFdpZHRoOiAnMzAwJ30pOwoKICAgICAgICAgICAgCiAgICAgICAgICAgICAgICB2YXIgaHRtbF82NjYwM2NkOGI2NWU0ZWJjODBkZmI1YjZkNDY2MzQ4OSA9ICQoJzxkaXYgaWQ9Imh0bWxfNjY2MDNjZDhiNjVlNGViYzgwZGZiNWI2ZDQ2NjM0ODkiIHN0eWxlPSJ3aWR0aDogMTAwLjAlOyBoZWlnaHQ6IDEwMC4wJTsiPlJlZ28gUGFyayBDbHVzdGVyIDA8L2Rpdj4nKVswXTsKICAgICAgICAgICAgICAgIHBvcHVwX2FjZTY1Mjc0ZDczNTRjNjk5ZDQ4NDZlYjI3NzkwNmQ3LnNldENvbnRlbnQoaHRtbF82NjYwM2NkOGI2NWU0ZWJjODBkZmI1YjZkNDY2MzQ4OSk7CiAgICAgICAgICAgIAoKICAgICAgICAgICAgY2lyY2xlX21hcmtlcl85OWVmNWI1Mjc5NTQ0YWE2OWQ4YWY3NDRjMWFjMDZjMi5iaW5kUG9wdXAocG9wdXBfYWNlNjUyNzRkNzM1NGM2OTlkNDg0NmViMjc3OTA2ZDcpOwoKICAgICAgICAgICAgCiAgICAgICAgCiAgICAKICAgICAgICAgICAgdmFyIGNpcmNsZV9tYXJrZXJfOTYxODU2NzZjOGFjNDc3MDliYTU5NzkxNWEwOGUxZjAgPSBMLmNpcmNsZU1hcmtlcigKICAgICAgICAgICAgICAgIFs0MC42ODk4ODY4NzkxNTc4OSwtNzMuODU4MTEwNDY1NTQzMl0sCiAgICAgICAgICAgICAgICB7CiAgImJ1YmJsaW5nTW91c2VFdmVudHMiOiB0cnVlLAogICJjb2xvciI6ICIjZmYwMDAwIiwKICAiZGFzaEFycmF5IjogbnVsbCwKICAiZGFzaE9mZnNldCI6IG51bGwsCiAgImZpbGwiOiB0cnVlLAogICJmaWxsQ29sb3IiOiAiI2ZmMDAwMCIsCiAgImZpbGxPcGFjaXR5IjogMC43LAogICJmaWxsUnVsZSI6ICJldmVub2RkIiwKICAibGluZUNhcCI6ICJyb3VuZCIsCiAgImxpbmVKb2luIjogInJvdW5kIiwKICAib3BhY2l0eSI6IDEuMCwKICAicmFkaXVzIjogNSwKICAic3Ryb2tlIjogdHJ1ZSwKICAid2VpZ2h0IjogMwp9CiAgICAgICAgICAgICAgICApLmFkZFRvKG1hcF83MWFhZGE5YjY0ZTk0ZmE4YWFjZmNkN2M3ODJlYjU2MSk7CiAgICAgICAgICAgIAogICAgCiAgICAgICAgICAgIHZhciBwb3B1cF8zMWFkNTI0ZDA3NjY0NzUwYWU5Njk3NmZkNWI0ZmJkMiA9IEwucG9wdXAoe21heFdpZHRoOiAnMzAwJ30pOwoKICAgICAgICAgICAgCiAgICAgICAgICAgICAgICB2YXIgaHRtbF84ZGUxYTFhZDlkYTc0NzIzOTcxZGQzZDcxZjdkNDYxZiA9ICQoJzxkaXYgaWQ9Imh0bWxfOGRlMWExYWQ5ZGE3NDcyMzk3MWRkM2Q3MWY3ZDQ2MWYiIHN0eWxlPSJ3aWR0aDogMTAwLjAlOyBoZWlnaHQ6IDEwMC4wJTsiPldvb2RoYXZlbiBDbHVzdGVyIDA8L2Rpdj4nKVswXTsKICAgICAgICAgICAgICAgIHBvcHVwXzMxYWQ1MjRkMDc2NjQ3NTBhZTk2OTc2ZmQ1YjRmYmQyLnNldENvbnRlbnQoaHRtbF84ZGUxYTFhZDlkYTc0NzIzOTcxZGQzZDcxZjdkNDYxZik7CiAgICAgICAgICAgIAoKICAgICAgICAgICAgY2lyY2xlX21hcmtlcl85NjE4NTY3NmM4YWM0NzcwOWJhNTk3OTE1YTA4ZTFmMC5iaW5kUG9wdXAocG9wdXBfMzFhZDUyNGQwNzY2NDc1MGFlOTY5NzZmZDViNGZiZDIpOwoKICAgICAgICAgICAgCiAgICAgICAgCiAgICAKICAgICAgICAgICAgdmFyIGNpcmNsZV9tYXJrZXJfNGMwNmFlNTMxNjIwNGI5M2I5NDYyZjgyNGFjZTVmZjMgPSBMLmNpcmNsZU1hcmtlcigKICAgICAgICAgICAgICAgIFs0MC42ODA3MDg0NjgyNjU0MTUsLTczLjg0MzIwMjY2MTczNDQ3XSwKICAgICAgICAgICAgICAgIHsKICAiYnViYmxpbmdNb3VzZUV2ZW50cyI6IHRydWUsCiAgImNvbG9yIjogIiNmZjAwMDAiLAogICJkYXNoQXJyYXkiOiBudWxsLAogICJkYXNoT2Zmc2V0IjogbnVsbCwKICAiZmlsbCI6IHRydWUsCiAgImZpbGxDb2xvciI6ICIjZmYwMDAwIiwKICAiZmlsbE9wYWNpdHkiOiAwLjcsCiAgImZpbGxSdWxlIjogImV2ZW5vZGQiLAogICJsaW5lQ2FwIjogInJvdW5kIiwKICAibGluZUpvaW4iOiAicm91bmQiLAogICJvcGFjaXR5IjogMS4wLAogICJyYWRpdXMiOiA1LAogICJzdHJva2UiOiB0cnVlLAogICJ3ZWlnaHQiOiAzCn0KICAgICAgICAgICAgICAgICkuYWRkVG8obWFwXzcxYWFkYTliNjRlOTRmYThhYWNmY2Q3Yzc4MmViNTYxKTsKICAgICAgICAgICAgCiAgICAKICAgICAgICAgICAgdmFyIHBvcHVwXzdhNGY1NmYwZjEzNzQzOWQ4Zjc2YzcxMDVhYjRjOTA4ID0gTC5wb3B1cCh7bWF4V2lkdGg6ICczMDAnfSk7CgogICAgICAgICAgICAKICAgICAgICAgICAgICAgIHZhciBodG1sXzRlYzg4YzgwMTQxYjQxYTZiYTc3OGU5YmFkMTEyNmY4ID0gJCgnPGRpdiBpZD0iaHRtbF80ZWM4OGM4MDE0MWI0MWE2YmE3NzhlOWJhZDExMjZmOCIgc3R5bGU9IndpZHRoOiAxMDAuMCU7IGhlaWdodDogMTAwLjAlOyI+T3pvbmUgUGFyayBDbHVzdGVyIDA8L2Rpdj4nKVswXTsKICAgICAgICAgICAgICAgIHBvcHVwXzdhNGY1NmYwZjEzNzQzOWQ4Zjc2YzcxMDVhYjRjOTA4LnNldENvbnRlbnQoaHRtbF80ZWM4OGM4MDE0MWI0MWE2YmE3NzhlOWJhZDExMjZmOCk7CiAgICAgICAgICAgIAoKICAgICAgICAgICAgY2lyY2xlX21hcmtlcl80YzA2YWU1MzE2MjA0YjkzYjk0NjJmODI0YWNlNWZmMy5iaW5kUG9wdXAocG9wdXBfN2E0ZjU2ZjBmMTM3NDM5ZDhmNzZjNzEwNWFiNGM5MDgpOwoKICAgICAgICAgICAgCiAgICAgICAgCiAgICAKICAgICAgICAgICAgdmFyIGNpcmNsZV9tYXJrZXJfNmNkZmMwODZiOGY4NDM4ZWIwMzE2ZDExZWNkZjFmNjEgPSBMLmNpcmNsZU1hcmtlcigKICAgICAgICAgICAgICAgIFs0MC42Njg1NDk1Nzc2NzE5NSwtNzMuODA5ODY0Nzg2NDkwNDFdLAogICAgICAgICAgICAgICAgewogICJidWJibGluZ01vdXNlRXZlbnRzIjogdHJ1ZSwKICAiY29sb3IiOiAiI2ZmMDAwMCIsCiAgImRhc2hBcnJheSI6IG51bGwsCiAgImRhc2hPZmZzZXQiOiBudWxsLAogICJmaWxsIjogdHJ1ZSwKICAiZmlsbENvbG9yIjogIiNmZjAwMDAiLAogICJmaWxsT3BhY2l0eSI6IDAuNywKICAiZmlsbFJ1bGUiOiAiZXZlbm9kZCIsCiAgImxpbmVDYXAiOiAicm91bmQiLAogICJsaW5lSm9pbiI6ICJyb3VuZCIsCiAgIm9wYWNpdHkiOiAxLjAsCiAgInJhZGl1cyI6IDUsCiAgInN0cm9rZSI6IHRydWUsCiAgIndlaWdodCI6IDMKfQogICAgICAgICAgICAgICAgKS5hZGRUbyhtYXBfNzFhYWRhOWI2NGU5NGZhOGFhY2ZjZDdjNzgyZWI1NjEpOwogICAgICAgICAgICAKICAgIAogICAgICAgICAgICB2YXIgcG9wdXBfZTljMzUxMTIyNDQ5NDZiY2ExMDE5MzI5MzFiMzJjMWMgPSBMLnBvcHVwKHttYXhXaWR0aDogJzMwMCd9KTsKCiAgICAgICAgICAgIAogICAgICAgICAgICAgICAgdmFyIGh0bWxfNGE0NzY5M2ZhNTczNDNkZGJkNTFiZjMyOTQ3YWQzM2IgPSAkKCc8ZGl2IGlkPSJodG1sXzRhNDc2OTNmYTU3MzQzZGRiZDUxYmYzMjk0N2FkMzNiIiBzdHlsZT0id2lkdGg6IDEwMC4wJTsgaGVpZ2h0OiAxMDAuMCU7Ij5Tb3V0aCBPem9uZSBQYXJrIENsdXN0ZXIgMDwvZGl2PicpWzBdOwogICAgICAgICAgICAgICAgcG9wdXBfZTljMzUxMTIyNDQ5NDZiY2ExMDE5MzI5MzFiMzJjMWMuc2V0Q29udGVudChodG1sXzRhNDc2OTNmYTU3MzQzZGRiZDUxYmYzMjk0N2FkMzNiKTsKICAgICAgICAgICAgCgogICAgICAgICAgICBjaXJjbGVfbWFya2VyXzZjZGZjMDg2YjhmODQzOGViMDMxNmQxMWVjZGYxZjYxLmJpbmRQb3B1cChwb3B1cF9lOWMzNTExMjI0NDk0NmJjYTEwMTkzMjkzMWIzMmMxYyk7CgogICAgICAgICAgICAKICAgICAgICAKICAgIAogICAgICAgICAgICB2YXIgY2lyY2xlX21hcmtlcl8yZjA1NDdmYzQwZDQ0OGJjYjc2YjlhMDNhNjgwMDdhOSA9IEwuY2lyY2xlTWFya2VyKAogICAgICAgICAgICAgICAgWzQwLjc4NDkwMjc0OTI2MDIwNSwtNzMuODQzMDQ1Mjg4OTYxMjVdLAogICAgICAgICAgICAgICAgewogICJidWJibGluZ01vdXNlRXZlbnRzIjogdHJ1ZSwKICAiY29sb3IiOiAiI2ZmYjM2MCIsCiAgImRhc2hBcnJheSI6IG51bGwsCiAgImRhc2hPZmZzZXQiOiBudWxsLAogICJmaWxsIjogdHJ1ZSwKICAiZmlsbENvbG9yIjogIiNmZmIzNjAiLAogICJmaWxsT3BhY2l0eSI6IDAuNywKICAiZmlsbFJ1bGUiOiAiZXZlbm9kZCIsCiAgImxpbmVDYXAiOiAicm91bmQiLAogICJsaW5lSm9pbiI6ICJyb3VuZCIsCiAgIm9wYWNpdHkiOiAxLjAsCiAgInJhZGl1cyI6IDUsCiAgInN0cm9rZSI6IHRydWUsCiAgIndlaWdodCI6IDMKfQogICAgICAgICAgICAgICAgKS5hZGRUbyhtYXBfNzFhYWRhOWI2NGU5NGZhOGFhY2ZjZDdjNzgyZWI1NjEpOwogICAgICAgICAgICAKICAgIAogICAgICAgICAgICB2YXIgcG9wdXBfOWMyYTFiZjdlYjdmNDMyNTllOTk2MDdkYWZlMjRjNWQgPSBMLnBvcHVwKHttYXhXaWR0aDogJzMwMCd9KTsKCiAgICAgICAgICAgIAogICAgICAgICAgICAgICAgdmFyIGh0bWxfODgwNWM5NTNkNDc4NGI5ZmE2MTcyODUwNTYzYzFjZTIgPSAkKCc8ZGl2IGlkPSJodG1sXzg4MDVjOTUzZDQ3ODRiOWZhNjE3Mjg1MDU2M2MxY2UyIiBzdHlsZT0id2lkdGg6IDEwMC4wJTsgaGVpZ2h0OiAxMDAuMCU7Ij5Db2xsZWdlIFBvaW50IENsdXN0ZXIgNDwvZGl2PicpWzBdOwogICAgICAgICAgICAgICAgcG9wdXBfOWMyYTFiZjdlYjdmNDMyNTllOTk2MDdkYWZlMjRjNWQuc2V0Q29udGVudChodG1sXzg4MDVjOTUzZDQ3ODRiOWZhNjE3Mjg1MDU2M2MxY2UyKTsKICAgICAgICAgICAgCgogICAgICAgICAgICBjaXJjbGVfbWFya2VyXzJmMDU0N2ZjNDBkNDQ4YmNiNzZiOWEwM2E2ODAwN2E5LmJpbmRQb3B1cChwb3B1cF85YzJhMWJmN2ViN2Y0MzI1OWU5OTYwN2RhZmUyNGM1ZCk7CgogICAgICAgICAgICAKICAgICAgICAKICAgIAogICAgICAgICAgICB2YXIgY2lyY2xlX21hcmtlcl82ODllYWUyZmE1YzA0ZDdmYjQwOGE5YjBlODliMjFlNSA9IEwuY2lyY2xlTWFya2VyKAogICAgICAgICAgICAgICAgWzQwLjc4MTI5MDc2NjAyNjk0LC03My44MTQyMDIxNjYxMDg2M10sCiAgICAgICAgICAgICAgICB7CiAgImJ1YmJsaW5nTW91c2VFdmVudHMiOiB0cnVlLAogICJjb2xvciI6ICIjZmYwMDAwIiwKICAiZGFzaEFycmF5IjogbnVsbCwKICAiZGFzaE9mZnNldCI6IG51bGwsCiAgImZpbGwiOiB0cnVlLAogICJmaWxsQ29sb3IiOiAiI2ZmMDAwMCIsCiAgImZpbGxPcGFjaXR5IjogMC43LAogICJmaWxsUnVsZSI6ICJldmVub2RkIiwKICAibGluZUNhcCI6ICJyb3VuZCIsCiAgImxpbmVKb2luIjogInJvdW5kIiwKICAib3BhY2l0eSI6IDEuMCwKICAicmFkaXVzIjogNSwKICAic3Ryb2tlIjogdHJ1ZSwKICAid2VpZ2h0IjogMwp9CiAgICAgICAgICAgICAgICApLmFkZFRvKG1hcF83MWFhZGE5YjY0ZTk0ZmE4YWFjZmNkN2M3ODJlYjU2MSk7CiAgICAgICAgICAgIAogICAgCiAgICAgICAgICAgIHZhciBwb3B1cF83MDdkMDFkYzhkMjU0ZDI4OTA5M2I4NTAyYjBkZDhlOSA9IEwucG9wdXAoe21heFdpZHRoOiAnMzAwJ30pOwoKICAgICAgICAgICAgCiAgICAgICAgICAgICAgICB2YXIgaHRtbF83ZjdhODU0M2U0NGU0ZTgyYTZmYzE3ODg1MjkzMTlhNSA9ICQoJzxkaXYgaWQ9Imh0bWxfN2Y3YTg1NDNlNDRlNGU4MmE2ZmMxNzg4NTI5MzE5YTUiIHN0eWxlPSJ3aWR0aDogMTAwLjAlOyBoZWlnaHQ6IDEwMC4wJTsiPldoaXRlc3RvbmUgQ2x1c3RlciAwPC9kaXY+JylbMF07CiAgICAgICAgICAgICAgICBwb3B1cF83MDdkMDFkYzhkMjU0ZDI4OTA5M2I4NTAyYjBkZDhlOS5zZXRDb250ZW50KGh0bWxfN2Y3YTg1NDNlNDRlNGU4MmE2ZmMxNzg4NTI5MzE5YTUpOwogICAgICAgICAgICAKCiAgICAgICAgICAgIGNpcmNsZV9tYXJrZXJfNjg5ZWFlMmZhNWMwNGQ3ZmI0MDhhOWIwZTg5YjIxZTUuYmluZFBvcHVwKHBvcHVwXzcwN2QwMWRjOGQyNTRkMjg5MDkzYjg1MDJiMGRkOGU5KTsKCiAgICAgICAgICAgIAogICAgICAgIAogICAgCiAgICAgICAgICAgIHZhciBjaXJjbGVfbWFya2VyX2JmZDVkNzhmYzZhMDQwYzQ4MzdmYjA0OTUyODlmZmYwID0gTC5jaXJjbGVNYXJrZXIoCiAgICAgICAgICAgICAgICBbNDAuNzY2MDQwNjMyODEwNjQsLTczLjc3NDI3MzYzMDY4NjddLAogICAgICAgICAgICAgICAgewogICJidWJibGluZ01vdXNlRXZlbnRzIjogdHJ1ZSwKICAiY29sb3IiOiAiI2ZmMDAwMCIsCiAgImRhc2hBcnJheSI6IG51bGwsCiAgImRhc2hPZmZzZXQiOiBudWxsLAogICJmaWxsIjogdHJ1ZSwKICAiZmlsbENvbG9yIjogIiNmZjAwMDAiLAogICJmaWxsT3BhY2l0eSI6IDAuNywKICAiZmlsbFJ1bGUiOiAiZXZlbm9kZCIsCiAgImxpbmVDYXAiOiAicm91bmQiLAogICJsaW5lSm9pbiI6ICJyb3VuZCIsCiAgIm9wYWNpdHkiOiAxLjAsCiAgInJhZGl1cyI6IDUsCiAgInN0cm9rZSI6IHRydWUsCiAgIndlaWdodCI6IDMKfQogICAgICAgICAgICAgICAgKS5hZGRUbyhtYXBfNzFhYWRhOWI2NGU5NGZhOGFhY2ZjZDdjNzgyZWI1NjEpOwogICAgICAgICAgICAKICAgIAogICAgICAgICAgICB2YXIgcG9wdXBfOGE5Yjk3N2Y5YTliNGE4YmI1ZTMyYjg3M2M3YzVkY2EgPSBMLnBvcHVwKHttYXhXaWR0aDogJzMwMCd9KTsKCiAgICAgICAgICAgIAogICAgICAgICAgICAgICAgdmFyIGh0bWxfYTJjNTNiMWRmMzVmNDM2NWFhMDFiYjQ0MmZjNjE1N2QgPSAkKCc8ZGl2IGlkPSJodG1sX2EyYzUzYjFkZjM1ZjQzNjVhYTAxYmI0NDJmYzYxNTdkIiBzdHlsZT0id2lkdGg6IDEwMC4wJTsgaGVpZ2h0OiAxMDAuMCU7Ij5CYXlzaWRlIENsdXN0ZXIgMDwvZGl2PicpWzBdOwogICAgICAgICAgICAgICAgcG9wdXBfOGE5Yjk3N2Y5YTliNGE4YmI1ZTMyYjg3M2M3YzVkY2Euc2V0Q29udGVudChodG1sX2EyYzUzYjFkZjM1ZjQzNjVhYTAxYmI0NDJmYzYxNTdkKTsKICAgICAgICAgICAgCgogICAgICAgICAgICBjaXJjbGVfbWFya2VyX2JmZDVkNzhmYzZhMDQwYzQ4MzdmYjA0OTUyODlmZmYwLmJpbmRQb3B1cChwb3B1cF84YTliOTc3ZjlhOWI0YThiYjVlMzJiODczYzdjNWRjYSk7CgogICAgICAgICAgICAKICAgICAgICAKICAgIAogICAgICAgICAgICB2YXIgY2lyY2xlX21hcmtlcl8wOTJjMDE2NTc3MTM0YTc4YjVhM2Q2NjcwNmIyY2M4MCA9IEwuY2lyY2xlTWFya2VyKAogICAgICAgICAgICAgICAgWzQwLjc2MTcyOTU0OTAzMjYyLC03My43OTE3NjI0MzcyODA2MV0sCiAgICAgICAgICAgICAgICB7CiAgImJ1YmJsaW5nTW91c2VFdmVudHMiOiB0cnVlLAogICJjb2xvciI6ICIjZmYwMDAwIiwKICAiZGFzaEFycmF5IjogbnVsbCwKICAiZGFzaE9mZnNldCI6IG51bGwsCiAgImZpbGwiOiB0cnVlLAogICJmaWxsQ29sb3IiOiAiI2ZmMDAwMCIsCiAgImZpbGxPcGFjaXR5IjogMC43LAogICJmaWxsUnVsZSI6ICJldmVub2RkIiwKICAibGluZUNhcCI6ICJyb3VuZCIsCiAgImxpbmVKb2luIjogInJvdW5kIiwKICAib3BhY2l0eSI6IDEuMCwKICAicmFkaXVzIjogNSwKICAic3Ryb2tlIjogdHJ1ZSwKICAid2VpZ2h0IjogMwp9CiAgICAgICAgICAgICAgICApLmFkZFRvKG1hcF83MWFhZGE5YjY0ZTk0ZmE4YWFjZmNkN2M3ODJlYjU2MSk7CiAgICAgICAgICAgIAogICAgCiAgICAgICAgICAgIHZhciBwb3B1cF9kMDVmYWI5YmE5MzQ0NjY4YTNhNDg2NjFjMjMyNjhiMiA9IEwucG9wdXAoe21heFdpZHRoOiAnMzAwJ30pOwoKICAgICAgICAgICAgCiAgICAgICAgICAgICAgICB2YXIgaHRtbF82ZGQxNjM3NWM0N2U0YjU1OTQyZmFkN2M5ODQ1MjA3OSA9ICQoJzxkaXYgaWQ9Imh0bWxfNmRkMTYzNzVjNDdlNGI1NTk0MmZhZDdjOTg0NTIwNzkiIHN0eWxlPSJ3aWR0aDogMTAwLjAlOyBoZWlnaHQ6IDEwMC4wJTsiPkF1YnVybmRhbGUgQ2x1c3RlciAwPC9kaXY+JylbMF07CiAgICAgICAgICAgICAgICBwb3B1cF9kMDVmYWI5YmE5MzQ0NjY4YTNhNDg2NjFjMjMyNjhiMi5zZXRDb250ZW50KGh0bWxfNmRkMTYzNzVjNDdlNGI1NTk0MmZhZDdjOTg0NTIwNzkpOwogICAgICAgICAgICAKCiAgICAgICAgICAgIGNpcmNsZV9tYXJrZXJfMDkyYzAxNjU3NzEzNGE3OGI1YTNkNjY3MDZiMmNjODAuYmluZFBvcHVwKHBvcHVwX2QwNWZhYjliYTkzNDQ2NjhhM2E0ODY2MWMyMzI2OGIyKTsKCiAgICAgICAgICAgIAogICAgICAgIAogICAgCiAgICAgICAgICAgIHZhciBjaXJjbGVfbWFya2VyX2VhZjFiNDMxMDc3YzQ5MWFhOGNhNGU5MGQ3ZjUwZjZlID0gTC5jaXJjbGVNYXJrZXIoCiAgICAgICAgICAgICAgICBbNDAuNzcwODI2MTkyODI2NywtNzMuNzM4ODk3NzU1ODA3NF0sCiAgICAgICAgICAgICAgICB7CiAgImJ1YmJsaW5nTW91c2VFdmVudHMiOiB0cnVlLAogICJjb2xvciI6ICIjZmYwMDAwIiwKICAiZGFzaEFycmF5IjogbnVsbCwKICAiZGFzaE9mZnNldCI6IG51bGwsCiAgImZpbGwiOiB0cnVlLAogICJmaWxsQ29sb3IiOiAiI2ZmMDAwMCIsCiAgImZpbGxPcGFjaXR5IjogMC43LAogICJmaWxsUnVsZSI6ICJldmVub2RkIiwKICAibGluZUNhcCI6ICJyb3VuZCIsCiAgImxpbmVKb2luIjogInJvdW5kIiwKICAib3BhY2l0eSI6IDEuMCwKICAicmFkaXVzIjogNSwKICAic3Ryb2tlIjogdHJ1ZSwKICAid2VpZ2h0IjogMwp9CiAgICAgICAgICAgICAgICApLmFkZFRvKG1hcF83MWFhZGE5YjY0ZTk0ZmE4YWFjZmNkN2M3ODJlYjU2MSk7CiAgICAgICAgICAgIAogICAgCiAgICAgICAgICAgIHZhciBwb3B1cF8wZDY1OTJmZjg5NmI0NjkzYmJkZWYwYzdjNzNkNjlmZiA9IEwucG9wdXAoe21heFdpZHRoOiAnMzAwJ30pOwoKICAgICAgICAgICAgCiAgICAgICAgICAgICAgICB2YXIgaHRtbF9hZjk4NTlhODAxNGQ0MWVjODA2ZWI3YzM4ZmI3ZTA3ZiA9ICQoJzxkaXYgaWQ9Imh0bWxfYWY5ODU5YTgwMTRkNDFlYzgwNmViN2MzOGZiN2UwN2YiIHN0eWxlPSJ3aWR0aDogMTAwLjAlOyBoZWlnaHQ6IDEwMC4wJTsiPkxpdHRsZSBOZWNrIENsdXN0ZXIgMDwvZGl2PicpWzBdOwogICAgICAgICAgICAgICAgcG9wdXBfMGQ2NTkyZmY4OTZiNDY5M2JiZGVmMGM3YzczZDY5ZmYuc2V0Q29udGVudChodG1sX2FmOTg1OWE4MDE0ZDQxZWM4MDZlYjdjMzhmYjdlMDdmKTsKICAgICAgICAgICAgCgogICAgICAgICAgICBjaXJjbGVfbWFya2VyX2VhZjFiNDMxMDc3YzQ5MWFhOGNhNGU5MGQ3ZjUwZjZlLmJpbmRQb3B1cChwb3B1cF8wZDY1OTJmZjg5NmI0NjkzYmJkZWYwYzdjNzNkNjlmZik7CgogICAgICAgICAgICAKICAgICAgICAKICAgIAogICAgICAgICAgICB2YXIgY2lyY2xlX21hcmtlcl85YTdiZTBlZWNhMzM0ZmM5YjUzZmY4YWJlYTgxYWRlYiA9IEwuY2lyY2xlTWFya2VyKAogICAgICAgICAgICAgICAgWzQwLjc2Njg0NjA5NzkwNzYzLC03My43NDI0OTgyMDcyNzMzXSwKICAgICAgICAgICAgICAgIHsKICAiYnViYmxpbmdNb3VzZUV2ZW50cyI6IHRydWUsCiAgImNvbG9yIjogIiNmZjAwMDAiLAogICJkYXNoQXJyYXkiOiBudWxsLAogICJkYXNoT2Zmc2V0IjogbnVsbCwKICAiZmlsbCI6IHRydWUsCiAgImZpbGxDb2xvciI6ICIjZmYwMDAwIiwKICAiZmlsbE9wYWNpdHkiOiAwLjcsCiAgImZpbGxSdWxlIjogImV2ZW5vZGQiLAogICJsaW5lQ2FwIjogInJvdW5kIiwKICAibGluZUpvaW4iOiAicm91bmQiLAogICJvcGFjaXR5IjogMS4wLAogICJyYWRpdXMiOiA1LAogICJzdHJva2UiOiB0cnVlLAogICJ3ZWlnaHQiOiAzCn0KICAgICAgICAgICAgICAgICkuYWRkVG8obWFwXzcxYWFkYTliNjRlOTRmYThhYWNmY2Q3Yzc4MmViNTYxKTsKICAgICAgICAgICAgCiAgICAKICAgICAgICAgICAgdmFyIHBvcHVwXzI2OTIyMzc3OGJjMDRjNDY5ZWE2YTNkOTMxZGEyNDZkID0gTC5wb3B1cCh7bWF4V2lkdGg6ICczMDAnfSk7CgogICAgICAgICAgICAKICAgICAgICAgICAgICAgIHZhciBodG1sXzhhYTIxMGRiMzc2MTRhOWRhNDdlYjA5MjA2YmE1OGRkID0gJCgnPGRpdiBpZD0iaHRtbF84YWEyMTBkYjM3NjE0YTlkYTQ3ZWIwOTIwNmJhNThkZCIgc3R5bGU9IndpZHRoOiAxMDAuMCU7IGhlaWdodDogMTAwLjAlOyI+RG91Z2xhc3RvbiBDbHVzdGVyIDA8L2Rpdj4nKVswXTsKICAgICAgICAgICAgICAgIHBvcHVwXzI2OTIyMzc3OGJjMDRjNDY5ZWE2YTNkOTMxZGEyNDZkLnNldENvbnRlbnQoaHRtbF84YWEyMTBkYjM3NjE0YTlkYTQ3ZWIwOTIwNmJhNThkZCk7CiAgICAgICAgICAgIAoKICAgICAgICAgICAgY2lyY2xlX21hcmtlcl85YTdiZTBlZWNhMzM0ZmM5YjUzZmY4YWJlYTgxYWRlYi5iaW5kUG9wdXAocG9wdXBfMjY5MjIzNzc4YmMwNGM0NjllYTZhM2Q5MzFkYTI0NmQpOwoKICAgICAgICAgICAgCiAgICAgICAgCiAgICAKICAgICAgICAgICAgdmFyIGNpcmNsZV9tYXJrZXJfZjE0OWEzMzZkMjU2NGU2YjlmNGU3MzVhNjZmMjFlMzMgPSBMLmNpcmNsZU1hcmtlcigKICAgICAgICAgICAgICAgIFs0MC43NDk0NDA3OTk3NDMzMiwtNzMuNzE1NDgxMTg5OTkxNDVdLAogICAgICAgICAgICAgICAgewogICJidWJibGluZ01vdXNlRXZlbnRzIjogdHJ1ZSwKICAiY29sb3IiOiAiI2ZmMDAwMCIsCiAgImRhc2hBcnJheSI6IG51bGwsCiAgImRhc2hPZmZzZXQiOiBudWxsLAogICJmaWxsIjogdHJ1ZSwKICAiZmlsbENvbG9yIjogIiNmZjAwMDAiLAogICJmaWxsT3BhY2l0eSI6IDAuNywKICAiZmlsbFJ1bGUiOiAiZXZlbm9kZCIsCiAgImxpbmVDYXAiOiAicm91bmQiLAogICJsaW5lSm9pbiI6ICJyb3VuZCIsCiAgIm9wYWNpdHkiOiAxLjAsCiAgInJhZGl1cyI6IDUsCiAgInN0cm9rZSI6IHRydWUsCiAgIndlaWdodCI6IDMKfQogICAgICAgICAgICAgICAgKS5hZGRUbyhtYXBfNzFhYWRhOWI2NGU5NGZhOGFhY2ZjZDdjNzgyZWI1NjEpOwogICAgICAgICAgICAKICAgIAogICAgICAgICAgICB2YXIgcG9wdXBfMzM2Mzg2NTFlYzY2NGZlNGEyMWIxMjEyYWFjNjZkYjUgPSBMLnBvcHVwKHttYXhXaWR0aDogJzMwMCd9KTsKCiAgICAgICAgICAgIAogICAgICAgICAgICAgICAgdmFyIGh0bWxfMjE0NzJkNjE0MGMwNDAwNDhmMzljMjNlYzA4M2RmNTUgPSAkKCc8ZGl2IGlkPSJodG1sXzIxNDcyZDYxNDBjMDQwMDQ4ZjM5YzIzZWMwODNkZjU1IiBzdHlsZT0id2lkdGg6IDEwMC4wJTsgaGVpZ2h0OiAxMDAuMCU7Ij5HbGVuIE9ha3MgQ2x1c3RlciAwPC9kaXY+JylbMF07CiAgICAgICAgICAgICAgICBwb3B1cF8zMzYzODY1MWVjNjY0ZmU0YTIxYjEyMTJhYWM2NmRiNS5zZXRDb250ZW50KGh0bWxfMjE0NzJkNjE0MGMwNDAwNDhmMzljMjNlYzA4M2RmNTUpOwogICAgICAgICAgICAKCiAgICAgICAgICAgIGNpcmNsZV9tYXJrZXJfZjE0OWEzMzZkMjU2NGU2YjlmNGU3MzVhNjZmMjFlMzMuYmluZFBvcHVwKHBvcHVwXzMzNjM4NjUxZWM2NjRmZTRhMjFiMTIxMmFhYzY2ZGI1KTsKCiAgICAgICAgICAgIAogICAgICAgIAogICAgCiAgICAgICAgICAgIHZhciBjaXJjbGVfbWFya2VyXzg1NGE5OTA0ZGE1ZTQ2ZmE4ZWU3NmZjMzM0NWI5Y2JhID0gTC5jaXJjbGVNYXJrZXIoCiAgICAgICAgICAgICAgICBbNDAuNzI4NTczMTgxNzY2NzUsLTczLjcyMDEyODE0ODI2OTAzXSwKICAgICAgICAgICAgICAgIHsKICAiYnViYmxpbmdNb3VzZUV2ZW50cyI6IHRydWUsCiAgImNvbG9yIjogIiNmZjAwMDAiLAogICJkYXNoQXJyYXkiOiBudWxsLAogICJkYXNoT2Zmc2V0IjogbnVsbCwKICAiZmlsbCI6IHRydWUsCiAgImZpbGxDb2xvciI6ICIjZmYwMDAwIiwKICAiZmlsbE9wYWNpdHkiOiAwLjcsCiAgImZpbGxSdWxlIjogImV2ZW5vZGQiLAogICJsaW5lQ2FwIjogInJvdW5kIiwKICAibGluZUpvaW4iOiAicm91bmQiLAogICJvcGFjaXR5IjogMS4wLAogICJyYWRpdXMiOiA1LAogICJzdHJva2UiOiB0cnVlLAogICJ3ZWlnaHQiOiAzCn0KICAgICAgICAgICAgICAgICkuYWRkVG8obWFwXzcxYWFkYTliNjRlOTRmYThhYWNmY2Q3Yzc4MmViNTYxKTsKICAgICAgICAgICAgCiAgICAKICAgICAgICAgICAgdmFyIHBvcHVwXzY5OGY1MjliNGUzMDQ5NWE5MTJhZWY1YTRiMjA4MWY5ID0gTC5wb3B1cCh7bWF4V2lkdGg6ICczMDAnfSk7CgogICAgICAgICAgICAKICAgICAgICAgICAgICAgIHZhciBodG1sXzQ2MjQyN2ExN2RkNTQzYTdiMWRmODE1ODkwNTg2NTgxID0gJCgnPGRpdiBpZD0iaHRtbF80NjI0MjdhMTdkZDU0M2E3YjFkZjgxNTg5MDU4NjU4MSIgc3R5bGU9IndpZHRoOiAxMDAuMCU7IGhlaWdodDogMTAwLjAlOyI+QmVsbGVyb3NlIENsdXN0ZXIgMDwvZGl2PicpWzBdOwogICAgICAgICAgICAgICAgcG9wdXBfNjk4ZjUyOWI0ZTMwNDk1YTkxMmFlZjVhNGIyMDgxZjkuc2V0Q29udGVudChodG1sXzQ2MjQyN2ExN2RkNTQzYTdiMWRmODE1ODkwNTg2NTgxKTsKICAgICAgICAgICAgCgogICAgICAgICAgICBjaXJjbGVfbWFya2VyXzg1NGE5OTA0ZGE1ZTQ2ZmE4ZWU3NmZjMzM0NWI5Y2JhLmJpbmRQb3B1cChwb3B1cF82OThmNTI5YjRlMzA0OTVhOTEyYWVmNWE0YjIwODFmOSk7CgogICAgICAgICAgICAKICAgICAgICAKICAgIAogICAgICAgICAgICB2YXIgY2lyY2xlX21hcmtlcl8xYTdmMTU5OTBiNzg0NjBkOTQ5NzYzNDI1ZWIzMDhmNSA9IEwuY2lyY2xlTWFya2VyKAogICAgICAgICAgICAgICAgWzQwLjcyMjU3ODI0NDIyODA0NiwtNzMuODIwODc3NjQ5MzM1NjZdLAogICAgICAgICAgICAgICAgewogICJidWJibGluZ01vdXNlRXZlbnRzIjogdHJ1ZSwKICAiY29sb3IiOiAiI2ZmMDAwMCIsCiAgImRhc2hBcnJheSI6IG51bGwsCiAgImRhc2hPZmZzZXQiOiBudWxsLAogICJmaWxsIjogdHJ1ZSwKICAiZmlsbENvbG9yIjogIiNmZjAwMDAiLAogICJmaWxsT3BhY2l0eSI6IDAuNywKICAiZmlsbFJ1bGUiOiAiZXZlbm9kZCIsCiAgImxpbmVDYXAiOiAicm91bmQiLAogICJsaW5lSm9pbiI6ICJyb3VuZCIsCiAgIm9wYWNpdHkiOiAxLjAsCiAgInJhZGl1cyI6IDUsCiAgInN0cm9rZSI6IHRydWUsCiAgIndlaWdodCI6IDMKfQogICAgICAgICAgICAgICAgKS5hZGRUbyhtYXBfNzFhYWRhOWI2NGU5NGZhOGFhY2ZjZDdjNzgyZWI1NjEpOwogICAgICAgICAgICAKICAgIAogICAgICAgICAgICB2YXIgcG9wdXBfODQyZGZhYTk4NTBkNDAzNTlmOGM1MTI1N2I5Y2VjYmEgPSBMLnBvcHVwKHttYXhXaWR0aDogJzMwMCd9KTsKCiAgICAgICAgICAgIAogICAgICAgICAgICAgICAgdmFyIGh0bWxfODE2MThlOGI3OWEzNDNiZGIwNjE1NTRmZTQzNWYwYmQgPSAkKCc8ZGl2IGlkPSJodG1sXzgxNjE4ZThiNzlhMzQzYmRiMDYxNTU0ZmU0MzVmMGJkIiBzdHlsZT0id2lkdGg6IDEwMC4wJTsgaGVpZ2h0OiAxMDAuMCU7Ij5LZXcgR2FyZGVucyBIaWxscyBDbHVzdGVyIDA8L2Rpdj4nKVswXTsKICAgICAgICAgICAgICAgIHBvcHVwXzg0MmRmYWE5ODUwZDQwMzU5ZjhjNTEyNTdiOWNlY2JhLnNldENvbnRlbnQoaHRtbF84MTYxOGU4Yjc5YTM0M2JkYjA2MTU1NGZlNDM1ZjBiZCk7CiAgICAgICAgICAgIAoKICAgICAgICAgICAgY2lyY2xlX21hcmtlcl8xYTdmMTU5OTBiNzg0NjBkOTQ5NzYzNDI1ZWIzMDhmNS5iaW5kUG9wdXAocG9wdXBfODQyZGZhYTk4NTBkNDAzNTlmOGM1MTI1N2I5Y2VjYmEpOwoKICAgICAgICAgICAgCiAgICAgICAgCiAgICAKICAgICAgICAgICAgdmFyIGNpcmNsZV9tYXJrZXJfY2MyZmZjNTYxMzU2NDM0NGFiODc2ZjgyYTA0ZGE2MzUgPSBMLmNpcmNsZU1hcmtlcigKICAgICAgICAgICAgICAgIFs0MC43MzQzOTQ0NjUzMzEzLC03My43ODI3MTMzNzAwMzI2NF0sCiAgICAgICAgICAgICAgICB7CiAgImJ1YmJsaW5nTW91c2VFdmVudHMiOiB0cnVlLAogICJjb2xvciI6ICIjZmYwMDAwIiwKICAiZGFzaEFycmF5IjogbnVsbCwKICAiZGFzaE9mZnNldCI6IG51bGwsCiAgImZpbGwiOiB0cnVlLAogICJmaWxsQ29sb3IiOiAiI2ZmMDAwMCIsCiAgImZpbGxPcGFjaXR5IjogMC43LAogICJmaWxsUnVsZSI6ICJldmVub2RkIiwKICAibGluZUNhcCI6ICJyb3VuZCIsCiAgImxpbmVKb2luIjogInJvdW5kIiwKICAib3BhY2l0eSI6IDEuMCwKICAicmFkaXVzIjogNSwKICAic3Ryb2tlIjogdHJ1ZSwKICAid2VpZ2h0IjogMwp9CiAgICAgICAgICAgICAgICApLmFkZFRvKG1hcF83MWFhZGE5YjY0ZTk0ZmE4YWFjZmNkN2M3ODJlYjU2MSk7CiAgICAgICAgICAgIAogICAgCiAgICAgICAgICAgIHZhciBwb3B1cF81Y2NkNGMzODI0OWE0ZjM4YTcxM2RiOGI1OGYzMzY0ZiA9IEwucG9wdXAoe21heFdpZHRoOiAnMzAwJ30pOwoKICAgICAgICAgICAgCiAgICAgICAgICAgICAgICB2YXIgaHRtbF9kMDQ4NmEzM2VhYWE0ZTgxYjUzM2YzMmRhNWY2M2NhZiA9ICQoJzxkaXYgaWQ9Imh0bWxfZDA0ODZhMzNlYWFhNGU4MWI1MzNmMzJkYTVmNjNjYWYiIHN0eWxlPSJ3aWR0aDogMTAwLjAlOyBoZWlnaHQ6IDEwMC4wJTsiPkZyZXNoIE1lYWRvd3MgQ2x1c3RlciAwPC9kaXY+JylbMF07CiAgICAgICAgICAgICAgICBwb3B1cF81Y2NkNGMzODI0OWE0ZjM4YTcxM2RiOGI1OGYzMzY0Zi5zZXRDb250ZW50KGh0bWxfZDA0ODZhMzNlYWFhNGU4MWI1MzNmMzJkYTVmNjNjYWYpOwogICAgICAgICAgICAKCiAgICAgICAgICAgIGNpcmNsZV9tYXJrZXJfY2MyZmZjNTYxMzU2NDM0NGFiODc2ZjgyYTA0ZGE2MzUuYmluZFBvcHVwKHBvcHVwXzVjY2Q0YzM4MjQ5YTRmMzhhNzEzZGI4YjU4ZjMzNjRmKTsKCiAgICAgICAgICAgIAogICAgICAgIAogICAgCiAgICAgICAgICAgIHZhciBjaXJjbGVfbWFya2VyX2VhODc3YzcyYmMzNDQ5NTBhOGY2NGY3ZTJlMGVkYTZjID0gTC5jaXJjbGVNYXJrZXIoCiAgICAgICAgICAgICAgICBbNDAuNzEwOTM1NDcyNTIyNzEsLTczLjgxMTc0ODIyNDU4NjM0XSwKICAgICAgICAgICAgICAgIHsKICAiYnViYmxpbmdNb3VzZUV2ZW50cyI6IHRydWUsCiAgImNvbG9yIjogIiNmZjAwMDAiLAogICJkYXNoQXJyYXkiOiBudWxsLAogICJkYXNoT2Zmc2V0IjogbnVsbCwKICAiZmlsbCI6IHRydWUsCiAgImZpbGxDb2xvciI6ICIjZmYwMDAwIiwKICAiZmlsbE9wYWNpdHkiOiAwLjcsCiAgImZpbGxSdWxlIjogImV2ZW5vZGQiLAogICJsaW5lQ2FwIjogInJvdW5kIiwKICAibGluZUpvaW4iOiAicm91bmQiLAogICJvcGFjaXR5IjogMS4wLAogICJyYWRpdXMiOiA1LAogICJzdHJva2UiOiB0cnVlLAogICJ3ZWlnaHQiOiAzCn0KICAgICAgICAgICAgICAgICkuYWRkVG8obWFwXzcxYWFkYTliNjRlOTRmYThhYWNmY2Q3Yzc4MmViNTYxKTsKICAgICAgICAgICAgCiAgICAKICAgICAgICAgICAgdmFyIHBvcHVwXzI4ZDA0ZTkxZWJkZjRiYzlhOTdmNmMzYzEwN2NkODUxID0gTC5wb3B1cCh7bWF4V2lkdGg6ICczMDAnfSk7CgogICAgICAgICAgICAKICAgICAgICAgICAgICAgIHZhciBodG1sXzJlOGY1NjAzNWUzNzQ3NDViNTllYWIwMzU0NGQ4YTM3ID0gJCgnPGRpdiBpZD0iaHRtbF8yZThmNTYwMzVlMzc0NzQ1YjU5ZWFiMDM1NDRkOGEzNyIgc3R5bGU9IndpZHRoOiAxMDAuMCU7IGhlaWdodDogMTAwLjAlOyI+QnJpYXJ3b29kIENsdXN0ZXIgMDwvZGl2PicpWzBdOwogICAgICAgICAgICAgICAgcG9wdXBfMjhkMDRlOTFlYmRmNGJjOWE5N2Y2YzNjMTA3Y2Q4NTEuc2V0Q29udGVudChodG1sXzJlOGY1NjAzNWUzNzQ3NDViNTllYWIwMzU0NGQ4YTM3KTsKICAgICAgICAgICAgCgogICAgICAgICAgICBjaXJjbGVfbWFya2VyX2VhODc3YzcyYmMzNDQ5NTBhOGY2NGY3ZTJlMGVkYTZjLmJpbmRQb3B1cChwb3B1cF8yOGQwNGU5MWViZGY0YmM5YTk3ZjZjM2MxMDdjZDg1MSk7CgogICAgICAgICAgICAKICAgICAgICAKICAgIAogICAgICAgICAgICB2YXIgY2lyY2xlX21hcmtlcl9jZDBlNWE1M2I1YjU0NDRiYmQzYzU0ZDkwNTJhN2E3MyA9IEwuY2lyY2xlTWFya2VyKAogICAgICAgICAgICAgICAgWzQwLjcwNDY1NzM2MDY4NzE3LC03My43OTY5MDE2NTg4ODI4OV0sCiAgICAgICAgICAgICAgICB7CiAgImJ1YmJsaW5nTW91c2VFdmVudHMiOiB0cnVlLAogICJjb2xvciI6ICIjZmYwMDAwIiwKICAiZGFzaEFycmF5IjogbnVsbCwKICAiZGFzaE9mZnNldCI6IG51bGwsCiAgImZpbGwiOiB0cnVlLAogICJmaWxsQ29sb3IiOiAiI2ZmMDAwMCIsCiAgImZpbGxPcGFjaXR5IjogMC43LAogICJmaWxsUnVsZSI6ICJldmVub2RkIiwKICAibGluZUNhcCI6ICJyb3VuZCIsCiAgImxpbmVKb2luIjogInJvdW5kIiwKICAib3BhY2l0eSI6IDEuMCwKICAicmFkaXVzIjogNSwKICAic3Ryb2tlIjogdHJ1ZSwKICAid2VpZ2h0IjogMwp9CiAgICAgICAgICAgICAgICApLmFkZFRvKG1hcF83MWFhZGE5YjY0ZTk0ZmE4YWFjZmNkN2M3ODJlYjU2MSk7CiAgICAgICAgICAgIAogICAgCiAgICAgICAgICAgIHZhciBwb3B1cF9jOTczZGQzMjdlODk0NmRiODI2ODhiZWJkZTc3NzdiZSA9IEwucG9wdXAoe21heFdpZHRoOiAnMzAwJ30pOwoKICAgICAgICAgICAgCiAgICAgICAgICAgICAgICB2YXIgaHRtbF83NDNjNjIzODNhZWI0ZGRhYTdjZWRlMjUzMjMwZDUwOSA9ICQoJzxkaXYgaWQ9Imh0bWxfNzQzYzYyMzgzYWViNGRkYWE3Y2VkZTI1MzIzMGQ1MDkiIHN0eWxlPSJ3aWR0aDogMTAwLjAlOyBoZWlnaHQ6IDEwMC4wJTsiPkphbWFpY2EgQ2VudGVyIENsdXN0ZXIgMDwvZGl2PicpWzBdOwogICAgICAgICAgICAgICAgcG9wdXBfYzk3M2RkMzI3ZTg5NDZkYjgyNjg4YmViZGU3Nzc3YmUuc2V0Q29udGVudChodG1sXzc0M2M2MjM4M2FlYjRkZGFhN2NlZGUyNTMyMzBkNTA5KTsKICAgICAgICAgICAgCgogICAgICAgICAgICBjaXJjbGVfbWFya2VyX2NkMGU1YTUzYjViNTQ0NGJiZDNjNTRkOTA1MmE3YTczLmJpbmRQb3B1cChwb3B1cF9jOTczZGQzMjdlODk0NmRiODI2ODhiZWJkZTc3NzdiZSk7CgogICAgICAgICAgICAKICAgICAgICAKICAgIAogICAgICAgICAgICB2YXIgY2lyY2xlX21hcmtlcl9iZTM4OGM0ZmU0ZjQ0NTI4ODk4YjczMWE4ZWFiNmVjNyA9IEwuY2lyY2xlTWFya2VyKAogICAgICAgICAgICAgICAgWzQwLjc0NTYxODU3MTQxODU1LC03My43NTQ5NDk3NjIzNDMzMl0sCiAgICAgICAgICAgICAgICB7CiAgImJ1YmJsaW5nTW91c2VFdmVudHMiOiB0cnVlLAogICJjb2xvciI6ICIjZmYwMDAwIiwKICAiZGFzaEFycmF5IjogbnVsbCwKICAiZGFzaE9mZnNldCI6IG51bGwsCiAgImZpbGwiOiB0cnVlLAogICJmaWxsQ29sb3IiOiAiI2ZmMDAwMCIsCiAgImZpbGxPcGFjaXR5IjogMC43LAogICJmaWxsUnVsZSI6ICJldmVub2RkIiwKICAibGluZUNhcCI6ICJyb3VuZCIsCiAgImxpbmVKb2luIjogInJvdW5kIiwKICAib3BhY2l0eSI6IDEuMCwKICAicmFkaXVzIjogNSwKICAic3Ryb2tlIjogdHJ1ZSwKICAid2VpZ2h0IjogMwp9CiAgICAgICAgICAgICAgICApLmFkZFRvKG1hcF83MWFhZGE5YjY0ZTk0ZmE4YWFjZmNkN2M3ODJlYjU2MSk7CiAgICAgICAgICAgIAogICAgCiAgICAgICAgICAgIHZhciBwb3B1cF9lZGEyYzA3ZDE5Njc0NTUzYWViZGJlYTU5NWUyNThjMiA9IEwucG9wdXAoe21heFdpZHRoOiAnMzAwJ30pOwoKICAgICAgICAgICAgCiAgICAgICAgICAgICAgICB2YXIgaHRtbF9iMGEzMjI4MDI2YTE0OGI0YjBiYjkyNTk3YzhiMmFhYyA9ICQoJzxkaXYgaWQ9Imh0bWxfYjBhMzIyODAyNmExNDhiNGIwYmI5MjU5N2M4YjJhYWMiIHN0eWxlPSJ3aWR0aDogMTAwLjAlOyBoZWlnaHQ6IDEwMC4wJTsiPk9ha2xhbmQgR2FyZGVucyBDbHVzdGVyIDA8L2Rpdj4nKVswXTsKICAgICAgICAgICAgICAgIHBvcHVwX2VkYTJjMDdkMTk2NzQ1NTNhZWJkYmVhNTk1ZTI1OGMyLnNldENvbnRlbnQoaHRtbF9iMGEzMjI4MDI2YTE0OGI0YjBiYjkyNTk3YzhiMmFhYyk7CiAgICAgICAgICAgIAoKICAgICAgICAgICAgY2lyY2xlX21hcmtlcl9iZTM4OGM0ZmU0ZjQ0NTI4ODk4YjczMWE4ZWFiNmVjNy5iaW5kUG9wdXAocG9wdXBfZWRhMmMwN2QxOTY3NDU1M2FlYmRiZWE1OTVlMjU4YzIpOwoKICAgICAgICAgICAgCiAgICAgICAgCiAgICAKICAgICAgICAgICAgdmFyIGNpcmNsZV9tYXJrZXJfZWE0NjEzM2RjNGVkNGNmMGFhYzU1ZmUwYmQyNGQ2NGYgPSBMLmNpcmNsZU1hcmtlcigKICAgICAgICAgICAgICAgIFs0MC43MTg4OTMwOTIxNjczNTYsLTczLjczODcxNDg0NTc4NDI0XSwKICAgICAgICAgICAgICAgIHsKICAiYnViYmxpbmdNb3VzZUV2ZW50cyI6IHRydWUsCiAgImNvbG9yIjogIiNmZjAwMDAiLAogICJkYXNoQXJyYXkiOiBudWxsLAogICJkYXNoT2Zmc2V0IjogbnVsbCwKICAiZmlsbCI6IHRydWUsCiAgImZpbGxDb2xvciI6ICIjZmYwMDAwIiwKICAiZmlsbE9wYWNpdHkiOiAwLjcsCiAgImZpbGxSdWxlIjogImV2ZW5vZGQiLAogICJsaW5lQ2FwIjogInJvdW5kIiwKICAibGluZUpvaW4iOiAicm91bmQiLAogICJvcGFjaXR5IjogMS4wLAogICJyYWRpdXMiOiA1LAogICJzdHJva2UiOiB0cnVlLAogICJ3ZWlnaHQiOiAzCn0KICAgICAgICAgICAgICAgICkuYWRkVG8obWFwXzcxYWFkYTliNjRlOTRmYThhYWNmY2Q3Yzc4MmViNTYxKTsKICAgICAgICAgICAgCiAgICAKICAgICAgICAgICAgdmFyIHBvcHVwXzc4NjBiNDM2YWFmMTRkNGI5ZjEwNDM4ZTIxMDgwZDRmID0gTC5wb3B1cCh7bWF4V2lkdGg6ICczMDAnfSk7CgogICAgICAgICAgICAKICAgICAgICAgICAgICAgIHZhciBodG1sX2Y3ODA5YWUyZjc4ZTRlNTBhMDFmMWI5MzA3YjYxNzU4ID0gJCgnPGRpdiBpZD0iaHRtbF9mNzgwOWFlMmY3OGU0ZTUwYTAxZjFiOTMwN2I2MTc1OCIgc3R5bGU9IndpZHRoOiAxMDAuMCU7IGhlaWdodDogMTAwLjAlOyI+UXVlZW5zIFZpbGxhZ2UgQ2x1c3RlciAwPC9kaXY+JylbMF07CiAgICAgICAgICAgICAgICBwb3B1cF83ODYwYjQzNmFhZjE0ZDRiOWYxMDQzOGUyMTA4MGQ0Zi5zZXRDb250ZW50KGh0bWxfZjc4MDlhZTJmNzhlNGU1MGEwMWYxYjkzMDdiNjE3NTgpOwogICAgICAgICAgICAKCiAgICAgICAgICAgIGNpcmNsZV9tYXJrZXJfZWE0NjEzM2RjNGVkNGNmMGFhYzU1ZmUwYmQyNGQ2NGYuYmluZFBvcHVwKHBvcHVwXzc4NjBiNDM2YWFmMTRkNGI5ZjEwNDM4ZTIxMDgwZDRmKTsKCiAgICAgICAgICAgIAogICAgICAgIAogICAgCiAgICAgICAgICAgIHZhciBjaXJjbGVfbWFya2VyXzIxZTY2OWVkYzkzMDQzYWI5ZWI2YWI5NTFmYjAzYjIxID0gTC5jaXJjbGVNYXJrZXIoCiAgICAgICAgICAgICAgICBbNDAuNzExMjQzNDQxOTE5MDQsLTczLjc1OTI1MDA5MzM1NTk0XSwKICAgICAgICAgICAgICAgIHsKICAiYnViYmxpbmdNb3VzZUV2ZW50cyI6IHRydWUsCiAgImNvbG9yIjogIiNmZjAwMDAiLAogICJkYXNoQXJyYXkiOiBudWxsLAogICJkYXNoT2Zmc2V0IjogbnVsbCwKICAiZmlsbCI6IHRydWUsCiAgImZpbGxDb2xvciI6ICIjZmYwMDAwIiwKICAiZmlsbE9wYWNpdHkiOiAwLjcsCiAgImZpbGxSdWxlIjogImV2ZW5vZGQiLAogICJsaW5lQ2FwIjogInJvdW5kIiwKICAibGluZUpvaW4iOiAicm91bmQiLAogICJvcGFjaXR5IjogMS4wLAogICJyYWRpdXMiOiA1LAogICJzdHJva2UiOiB0cnVlLAogICJ3ZWlnaHQiOiAzCn0KICAgICAgICAgICAgICAgICkuYWRkVG8obWFwXzcxYWFkYTliNjRlOTRmYThhYWNmY2Q3Yzc4MmViNTYxKTsKICAgICAgICAgICAgCiAgICAKICAgICAgICAgICAgdmFyIHBvcHVwXzgyZjBkZTRlZTY4YTRjMTM5ZmIwN2Q0NjQxMDA5MjljID0gTC5wb3B1cCh7bWF4V2lkdGg6ICczMDAnfSk7CgogICAgICAgICAgICAKICAgICAgICAgICAgICAgIHZhciBodG1sXzhhMTNlNmIxODA1NTRlMGZiYzZlMGFmODZkZjIxYzdmID0gJCgnPGRpdiBpZD0iaHRtbF84YTEzZTZiMTgwNTU0ZTBmYmM2ZTBhZjg2ZGYyMWM3ZiIgc3R5bGU9IndpZHRoOiAxMDAuMCU7IGhlaWdodDogMTAwLjAlOyI+SG9sbGlzIENsdXN0ZXIgMDwvZGl2PicpWzBdOwogICAgICAgICAgICAgICAgcG9wdXBfODJmMGRlNGVlNjhhNGMxMzlmYjA3ZDQ2NDEwMDkyOWMuc2V0Q29udGVudChodG1sXzhhMTNlNmIxODA1NTRlMGZiYzZlMGFmODZkZjIxYzdmKTsKICAgICAgICAgICAgCgogICAgICAgICAgICBjaXJjbGVfbWFya2VyXzIxZTY2OWVkYzkzMDQzYWI5ZWI2YWI5NTFmYjAzYjIxLmJpbmRQb3B1cChwb3B1cF84MmYwZGU0ZWU2OGE0YzEzOWZiMDdkNDY0MTAwOTI5Yyk7CgogICAgICAgICAgICAKICAgICAgICAKICAgIAogICAgICAgICAgICB2YXIgY2lyY2xlX21hcmtlcl9jYWI4ZmU1ZTFhNzM0MTBkOTdhMmZiOGE5NzJjMDEzMyA9IEwuY2lyY2xlTWFya2VyKAogICAgICAgICAgICAgICAgWzQwLjY5NjkxMTI1Mzc4OTg4NSwtNzMuNzkwNDI2MTMxMzU1NF0sCiAgICAgICAgICAgICAgICB7CiAgImJ1YmJsaW5nTW91c2VFdmVudHMiOiB0cnVlLAogICJjb2xvciI6ICIjZmYwMDAwIiwKICAiZGFzaEFycmF5IjogbnVsbCwKICAiZGFzaE9mZnNldCI6IG51bGwsCiAgImZpbGwiOiB0cnVlLAogICJmaWxsQ29sb3IiOiAiI2ZmMDAwMCIsCiAgImZpbGxPcGFjaXR5IjogMC43LAogICJmaWxsUnVsZSI6ICJldmVub2RkIiwKICAibGluZUNhcCI6ICJyb3VuZCIsCiAgImxpbmVKb2luIjogInJvdW5kIiwKICAib3BhY2l0eSI6IDEuMCwKICAicmFkaXVzIjogNSwKICAic3Ryb2tlIjogdHJ1ZSwKICAid2VpZ2h0IjogMwp9CiAgICAgICAgICAgICAgICApLmFkZFRvKG1hcF83MWFhZGE5YjY0ZTk0ZmE4YWFjZmNkN2M3ODJlYjU2MSk7CiAgICAgICAgICAgIAogICAgCiAgICAgICAgICAgIHZhciBwb3B1cF84ZmE3ZDBjODllNjY0MjE4YTNlMGI4NTk3ZDJkZmQ0YyA9IEwucG9wdXAoe21heFdpZHRoOiAnMzAwJ30pOwoKICAgICAgICAgICAgCiAgICAgICAgICAgICAgICB2YXIgaHRtbF9mZTg5MWFlNjE0YWU0ODM1OTlhMTU0OTkxZjcyNjlkMCA9ICQoJzxkaXYgaWQ9Imh0bWxfZmU4OTFhZTYxNGFlNDgzNTk5YTE1NDk5MWY3MjY5ZDAiIHN0eWxlPSJ3aWR0aDogMTAwLjAlOyBoZWlnaHQ6IDEwMC4wJTsiPlNvdXRoIEphbWFpY2EgQ2x1c3RlciAwPC9kaXY+JylbMF07CiAgICAgICAgICAgICAgICBwb3B1cF84ZmE3ZDBjODllNjY0MjE4YTNlMGI4NTk3ZDJkZmQ0Yy5zZXRDb250ZW50KGh0bWxfZmU4OTFhZTYxNGFlNDgzNTk5YTE1NDk5MWY3MjY5ZDApOwogICAgICAgICAgICAKCiAgICAgICAgICAgIGNpcmNsZV9tYXJrZXJfY2FiOGZlNWUxYTczNDEwZDk3YTJmYjhhOTcyYzAxMzMuYmluZFBvcHVwKHBvcHVwXzhmYTdkMGM4OWU2NjQyMThhM2UwYjg1OTdkMmRmZDRjKTsKCiAgICAgICAgICAgIAogICAgICAgIAogICAgCiAgICAgICAgICAgIHZhciBjaXJjbGVfbWFya2VyXzY4MmI5ODg5ZjM5ZTQyMDFiYWVlZWQ0YWM0OGNkN2FlID0gTC5jaXJjbGVNYXJrZXIoCiAgICAgICAgICAgICAgICBbNDAuNjk0NDQ1Mzg1MjIzNTksLTczLjc1ODY3NjAzNzI3NzE3XSwKICAgICAgICAgICAgICAgIHsKICAiYnViYmxpbmdNb3VzZUV2ZW50cyI6IHRydWUsCiAgImNvbG9yIjogIiNmZjAwMDAiLAogICJkYXNoQXJyYXkiOiBudWxsLAogICJkYXNoT2Zmc2V0IjogbnVsbCwKICAiZmlsbCI6IHRydWUsCiAgImZpbGxDb2xvciI6ICIjZmYwMDAwIiwKICAiZmlsbE9wYWNpdHkiOiAwLjcsCiAgImZpbGxSdWxlIjogImV2ZW5vZGQiLAogICJsaW5lQ2FwIjogInJvdW5kIiwKICAibGluZUpvaW4iOiAicm91bmQiLAogICJvcGFjaXR5IjogMS4wLAogICJyYWRpdXMiOiA1LAogICJzdHJva2UiOiB0cnVlLAogICJ3ZWlnaHQiOiAzCn0KICAgICAgICAgICAgICAgICkuYWRkVG8obWFwXzcxYWFkYTliNjRlOTRmYThhYWNmY2Q3Yzc4MmViNTYxKTsKICAgICAgICAgICAgCiAgICAKICAgICAgICAgICAgdmFyIHBvcHVwXzMzMTJkM2U0MjJmNDQ4YTBiMTk2ZTBkMGZkMTZhZjNiID0gTC5wb3B1cCh7bWF4V2lkdGg6ICczMDAnfSk7CgogICAgICAgICAgICAKICAgICAgICAgICAgICAgIHZhciBodG1sXzU0OTU3YWMzZjAwYTRhZGJiY2NkNDk4MjhjYTg5MzBiID0gJCgnPGRpdiBpZD0iaHRtbF81NDk1N2FjM2YwMGE0YWRiYmNjZDQ5ODI4Y2E4OTMwYiIgc3R5bGU9IndpZHRoOiAxMDAuMCU7IGhlaWdodDogMTAwLjAlOyI+U3QuIEFsYmFucyBDbHVzdGVyIDA8L2Rpdj4nKVswXTsKICAgICAgICAgICAgICAgIHBvcHVwXzMzMTJkM2U0MjJmNDQ4YTBiMTk2ZTBkMGZkMTZhZjNiLnNldENvbnRlbnQoaHRtbF81NDk1N2FjM2YwMGE0YWRiYmNjZDQ5ODI4Y2E4OTMwYik7CiAgICAgICAgICAgIAoKICAgICAgICAgICAgY2lyY2xlX21hcmtlcl82ODJiOTg4OWYzOWU0MjAxYmFlZWVkNGFjNDhjZDdhZS5iaW5kUG9wdXAocG9wdXBfMzMxMmQzZTQyMmY0NDhhMGIxOTZlMGQwZmQxNmFmM2IpOwoKICAgICAgICAgICAgCiAgICAgICAgCiAgICAKICAgICAgICAgICAgdmFyIGNpcmNsZV9tYXJrZXJfYjhkNzg0Mjc4NTcxNGU4OTk4ZTlkNjgzMzg3NjMyYzAgPSBMLmNpcmNsZU1hcmtlcigKICAgICAgICAgICAgICAgIFs0MC42NzUyMTEzOTU5MTczMywtNzMuNzcyNTg3ODc2MjA5MDZdLAogICAgICAgICAgICAgICAgewogICJidWJibGluZ01vdXNlRXZlbnRzIjogdHJ1ZSwKICAiY29sb3IiOiAiI2ZmMDAwMCIsCiAgImRhc2hBcnJheSI6IG51bGwsCiAgImRhc2hPZmZzZXQiOiBudWxsLAogICJmaWxsIjogdHJ1ZSwKICAiZmlsbENvbG9yIjogIiNmZjAwMDAiLAogICJmaWxsT3BhY2l0eSI6IDAuNywKICAiZmlsbFJ1bGUiOiAiZXZlbm9kZCIsCiAgImxpbmVDYXAiOiAicm91bmQiLAogICJsaW5lSm9pbiI6ICJyb3VuZCIsCiAgIm9wYWNpdHkiOiAxLjAsCiAgInJhZGl1cyI6IDUsCiAgInN0cm9rZSI6IHRydWUsCiAgIndlaWdodCI6IDMKfQogICAgICAgICAgICAgICAgKS5hZGRUbyhtYXBfNzFhYWRhOWI2NGU5NGZhOGFhY2ZjZDdjNzgyZWI1NjEpOwogICAgICAgICAgICAKICAgIAogICAgICAgICAgICB2YXIgcG9wdXBfZmI1N2Y2ZTg0MjY0NGQyMGJjMTRiZmY5N2JlM2M5MTMgPSBMLnBvcHVwKHttYXhXaWR0aDogJzMwMCd9KTsKCiAgICAgICAgICAgIAogICAgICAgICAgICAgICAgdmFyIGh0bWxfNmRmZWNiYjc2ZmM0NGNlY2I3OWRmNjhkOGEzYTk3Y2IgPSAkKCc8ZGl2IGlkPSJodG1sXzZkZmVjYmI3NmZjNDRjZWNiNzlkZjY4ZDhhM2E5N2NiIiBzdHlsZT0id2lkdGg6IDEwMC4wJTsgaGVpZ2h0OiAxMDAuMCU7Ij5Sb2NoZGFsZSBDbHVzdGVyIDA8L2Rpdj4nKVswXTsKICAgICAgICAgICAgICAgIHBvcHVwX2ZiNTdmNmU4NDI2NDRkMjBiYzE0YmZmOTdiZTNjOTEzLnNldENvbnRlbnQoaHRtbF82ZGZlY2JiNzZmYzQ0Y2VjYjc5ZGY2OGQ4YTNhOTdjYik7CiAgICAgICAgICAgIAoKICAgICAgICAgICAgY2lyY2xlX21hcmtlcl9iOGQ3ODQyNzg1NzE0ZTg5OThlOWQ2ODMzODc2MzJjMC5iaW5kUG9wdXAocG9wdXBfZmI1N2Y2ZTg0MjY0NGQyMGJjMTRiZmY5N2JlM2M5MTMpOwoKICAgICAgICAgICAgCiAgICAgICAgCiAgICAKICAgICAgICAgICAgdmFyIGNpcmNsZV9tYXJrZXJfOTYwZDY3MzE4ODE2NGEyYTkyMTI1NDcxYTZkOWZjMWUgPSBMLmNpcmNsZU1hcmtlcigKICAgICAgICAgICAgICAgIFs0MC42NjYyMzA0OTAzNjg1ODQsLTczLjc2MDQyMDkyNjgyMjg3XSwKICAgICAgICAgICAgICAgIHsKICAiYnViYmxpbmdNb3VzZUV2ZW50cyI6IHRydWUsCiAgImNvbG9yIjogIiNmZjAwMDAiLAogICJkYXNoQXJyYXkiOiBudWxsLAogICJkYXNoT2Zmc2V0IjogbnVsbCwKICAiZmlsbCI6IHRydWUsCiAgImZpbGxDb2xvciI6ICIjZmYwMDAwIiwKICAiZmlsbE9wYWNpdHkiOiAwLjcsCiAgImZpbGxSdWxlIjogImV2ZW5vZGQiLAogICJsaW5lQ2FwIjogInJvdW5kIiwKICAibGluZUpvaW4iOiAicm91bmQiLAogICJvcGFjaXR5IjogMS4wLAogICJyYWRpdXMiOiA1LAogICJzdHJva2UiOiB0cnVlLAogICJ3ZWlnaHQiOiAzCn0KICAgICAgICAgICAgICAgICkuYWRkVG8obWFwXzcxYWFkYTliNjRlOTRmYThhYWNmY2Q3Yzc4MmViNTYxKTsKICAgICAgICAgICAgCiAgICAKICAgICAgICAgICAgdmFyIHBvcHVwX2VmMGY0N2U4ODYwYTRjODQ4ZDg2NWM5NzZhZjQzMmU4ID0gTC5wb3B1cCh7bWF4V2lkdGg6ICczMDAnfSk7CgogICAgICAgICAgICAKICAgICAgICAgICAgICAgIHZhciBodG1sXzQ0ZTM5ZTc1YjdjNTQ5ZTFiZDkzZWZmZGU4M2YyODllID0gJCgnPGRpdiBpZD0iaHRtbF80NGUzOWU3NWI3YzU0OWUxYmQ5M2VmZmRlODNmMjg5ZSIgc3R5bGU9IndpZHRoOiAxMDAuMCU7IGhlaWdodDogMTAwLjAlOyI+U3ByaW5nZmllbGQgR2FyZGVucyBDbHVzdGVyIDA8L2Rpdj4nKVswXTsKICAgICAgICAgICAgICAgIHBvcHVwX2VmMGY0N2U4ODYwYTRjODQ4ZDg2NWM5NzZhZjQzMmU4LnNldENvbnRlbnQoaHRtbF80NGUzOWU3NWI3YzU0OWUxYmQ5M2VmZmRlODNmMjg5ZSk7CiAgICAgICAgICAgIAoKICAgICAgICAgICAgY2lyY2xlX21hcmtlcl85NjBkNjczMTg4MTY0YTJhOTIxMjU0NzFhNmQ5ZmMxZS5iaW5kUG9wdXAocG9wdXBfZWYwZjQ3ZTg4NjBhNGM4NDhkODY1Yzk3NmFmNDMyZTgpOwoKICAgICAgICAgICAgCiAgICAgICAgCiAgICAKICAgICAgICAgICAgdmFyIGNpcmNsZV9tYXJrZXJfNGJlYjI2ZTg1OTM0NGE5MzllM2Y3Yjk3MWU1MTc5MmUgPSBMLmNpcmNsZU1hcmtlcigKICAgICAgICAgICAgICAgIFs0MC42OTI3NzQ2MzkxNjA4NDUsLTczLjczNTI2ODczNzA4MDI2XSwKICAgICAgICAgICAgICAgIHsKICAiYnViYmxpbmdNb3VzZUV2ZW50cyI6IHRydWUsCiAgImNvbG9yIjogIiNmZjAwMDAiLAogICJkYXNoQXJyYXkiOiBudWxsLAogICJkYXNoT2Zmc2V0IjogbnVsbCwKICAiZmlsbCI6IHRydWUsCiAgImZpbGxDb2xvciI6ICIjZmYwMDAwIiwKICAiZmlsbE9wYWNpdHkiOiAwLjcsCiAgImZpbGxSdWxlIjogImV2ZW5vZGQiLAogICJsaW5lQ2FwIjogInJvdW5kIiwKICAibGluZUpvaW4iOiAicm91bmQiLAogICJvcGFjaXR5IjogMS4wLAogICJyYWRpdXMiOiA1LAogICJzdHJva2UiOiB0cnVlLAogICJ3ZWlnaHQiOiAzCn0KICAgICAgICAgICAgICAgICkuYWRkVG8obWFwXzcxYWFkYTliNjRlOTRmYThhYWNmY2Q3Yzc4MmViNTYxKTsKICAgICAgICAgICAgCiAgICAKICAgICAgICAgICAgdmFyIHBvcHVwXzE1ZDlhOTM3M2UyYjQzYTliZGIwNmZkMDdhNjM4ZmI1ID0gTC5wb3B1cCh7bWF4V2lkdGg6ICczMDAnfSk7CgogICAgICAgICAgICAKICAgICAgICAgICAgICAgIHZhciBodG1sXzEyZmM0MDcwYTVkNzRkNGI4MGY1YjE2YTAxZTVhYTYwID0gJCgnPGRpdiBpZD0iaHRtbF8xMmZjNDA3MGE1ZDc0ZDRiODBmNWIxNmEwMWU1YWE2MCIgc3R5bGU9IndpZHRoOiAxMDAuMCU7IGhlaWdodDogMTAwLjAlOyI+Q2FtYnJpYSBIZWlnaHRzIENsdXN0ZXIgMDwvZGl2PicpWzBdOwogICAgICAgICAgICAgICAgcG9wdXBfMTVkOWE5MzczZTJiNDNhOWJkYjA2ZmQwN2E2MzhmYjUuc2V0Q29udGVudChodG1sXzEyZmM0MDcwYTVkNzRkNGI4MGY1YjE2YTAxZTVhYTYwKTsKICAgICAgICAgICAgCgogICAgICAgICAgICBjaXJjbGVfbWFya2VyXzRiZWIyNmU4NTkzNDRhOTM5ZTNmN2I5NzFlNTE3OTJlLmJpbmRQb3B1cChwb3B1cF8xNWQ5YTkzNzNlMmI0M2E5YmRiMDZmZDA3YTYzOGZiNSk7CgogICAgICAgICAgICAKICAgICAgICAKICAgIAogICAgICAgICAgICB2YXIgY2lyY2xlX21hcmtlcl81ZTE2Y2RlMGMxMGQ0MjE5OTI5NTYwZTE0MmUyYTQ3NCA9IEwuY2lyY2xlTWFya2VyKAogICAgICAgICAgICAgICAgWzQwLjY1OTgxNjQzMzQyODA4NCwtNzMuNzM1MjYwNzk0MjgyNzhdLAogICAgICAgICAgICAgICAgewogICJidWJibGluZ01vdXNlRXZlbnRzIjogdHJ1ZSwKICAiY29sb3IiOiAiI2ZmMDAwMCIsCiAgImRhc2hBcnJheSI6IG51bGwsCiAgImRhc2hPZmZzZXQiOiBudWxsLAogICJmaWxsIjogdHJ1ZSwKICAiZmlsbENvbG9yIjogIiNmZjAwMDAiLAogICJmaWxsT3BhY2l0eSI6IDAuNywKICAiZmlsbFJ1bGUiOiAiZXZlbm9kZCIsCiAgImxpbmVDYXAiOiAicm91bmQiLAogICJsaW5lSm9pbiI6ICJyb3VuZCIsCiAgIm9wYWNpdHkiOiAxLjAsCiAgInJhZGl1cyI6IDUsCiAgInN0cm9rZSI6IHRydWUsCiAgIndlaWdodCI6IDMKfQogICAgICAgICAgICAgICAgKS5hZGRUbyhtYXBfNzFhYWRhOWI2NGU5NGZhOGFhY2ZjZDdjNzgyZWI1NjEpOwogICAgICAgICAgICAKICAgIAogICAgICAgICAgICB2YXIgcG9wdXBfNjU1YmQzOWY1NDQ4NGIxMWI2ZWVhMDM1MzI5OTllY2IgPSBMLnBvcHVwKHttYXhXaWR0aDogJzMwMCd9KTsKCiAgICAgICAgICAgIAogICAgICAgICAgICAgICAgdmFyIGh0bWxfZDA0NjhlMGEyOWY5NDY4NDgwMTA4ZGE5ZjhiNDBlOWEgPSAkKCc8ZGl2IGlkPSJodG1sX2QwNDY4ZTBhMjlmOTQ2ODQ4MDEwOGRhOWY4YjQwZTlhIiBzdHlsZT0id2lkdGg6IDEwMC4wJTsgaGVpZ2h0OiAxMDAuMCU7Ij5Sb3NlZGFsZSBDbHVzdGVyIDA8L2Rpdj4nKVswXTsKICAgICAgICAgICAgICAgIHBvcHVwXzY1NWJkMzlmNTQ0ODRiMTFiNmVlYTAzNTMyOTk5ZWNiLnNldENvbnRlbnQoaHRtbF9kMDQ2OGUwYTI5Zjk0Njg0ODAxMDhkYTlmOGI0MGU5YSk7CiAgICAgICAgICAgIAoKICAgICAgICAgICAgY2lyY2xlX21hcmtlcl81ZTE2Y2RlMGMxMGQ0MjE5OTI5NTYwZTE0MmUyYTQ3NC5iaW5kUG9wdXAocG9wdXBfNjU1YmQzOWY1NDQ4NGIxMWI2ZWVhMDM1MzI5OTllY2IpOwoKICAgICAgICAgICAgCiAgICAgICAgCiAgICAKICAgICAgICAgICAgdmFyIGNpcmNsZV9tYXJrZXJfMTk2NTM4YjAwOTMxNDA1MDlmMTFjZjI1MzhiMTUyZTUgPSBMLmNpcmNsZU1hcmtlcigKICAgICAgICAgICAgICAgIFs0MC42MDMxMzQ0MzI1MDA4OTQsLTczLjc1NDk3OTY4MDQzODcyXSwKICAgICAgICAgICAgICAgIHsKICAiYnViYmxpbmdNb3VzZUV2ZW50cyI6IHRydWUsCiAgImNvbG9yIjogIiNmZjAwMDAiLAogICJkYXNoQXJyYXkiOiBudWxsLAogICJkYXNoT2Zmc2V0IjogbnVsbCwKICAiZmlsbCI6IHRydWUsCiAgImZpbGxDb2xvciI6ICIjZmYwMDAwIiwKICAiZmlsbE9wYWNpdHkiOiAwLjcsCiAgImZpbGxSdWxlIjogImV2ZW5vZGQiLAogICJsaW5lQ2FwIjogInJvdW5kIiwKICAibGluZUpvaW4iOiAicm91bmQiLAogICJvcGFjaXR5IjogMS4wLAogICJyYWRpdXMiOiA1LAogICJzdHJva2UiOiB0cnVlLAogICJ3ZWlnaHQiOiAzCn0KICAgICAgICAgICAgICAgICkuYWRkVG8obWFwXzcxYWFkYTliNjRlOTRmYThhYWNmY2Q3Yzc4MmViNTYxKTsKICAgICAgICAgICAgCiAgICAKICAgICAgICAgICAgdmFyIHBvcHVwXzJmMTMyNmU4M2ViZjRhNGRhZTExYjM1MjYzZWI5NjE4ID0gTC5wb3B1cCh7bWF4V2lkdGg6ICczMDAnfSk7CgogICAgICAgICAgICAKICAgICAgICAgICAgICAgIHZhciBodG1sXzdjMzhjOGRiM2M0NzQ1YmVhMzdkYTc1MTc3ODRiNGViID0gJCgnPGRpdiBpZD0iaHRtbF83YzM4YzhkYjNjNDc0NWJlYTM3ZGE3NTE3Nzg0YjRlYiIgc3R5bGU9IndpZHRoOiAxMDAuMCU7IGhlaWdodDogMTAwLjAlOyI+RmFyIFJvY2thd2F5IENsdXN0ZXIgMDwvZGl2PicpWzBdOwogICAgICAgICAgICAgICAgcG9wdXBfMmYxMzI2ZTgzZWJmNGE0ZGFlMTFiMzUyNjNlYjk2MTguc2V0Q29udGVudChodG1sXzdjMzhjOGRiM2M0NzQ1YmVhMzdkYTc1MTc3ODRiNGViKTsKICAgICAgICAgICAgCgogICAgICAgICAgICBjaXJjbGVfbWFya2VyXzE5NjUzOGIwMDkzMTQwNTA5ZjExY2YyNTM4YjE1MmU1LmJpbmRQb3B1cChwb3B1cF8yZjEzMjZlODNlYmY0YTRkYWUxMWIzNTI2M2ViOTYxOCk7CgogICAgICAgICAgICAKICAgICAgICAKICAgIAogICAgICAgICAgICB2YXIgY2lyY2xlX21hcmtlcl8yY2YxN2FhMzIzYjY0NDEyYTY2ZGY3MzBkZDk0ZGNmZSA9IEwuY2lyY2xlTWFya2VyKAogICAgICAgICAgICAgICAgWzQwLjYwMzAyNjU4MzUxMjM4LC03My44MjAwNTQ4OTExMDMyXSwKICAgICAgICAgICAgICAgIHsKICAiYnViYmxpbmdNb3VzZUV2ZW50cyI6IHRydWUsCiAgImNvbG9yIjogIiNmZjAwMDAiLAogICJkYXNoQXJyYXkiOiBudWxsLAogICJkYXNoT2Zmc2V0IjogbnVsbCwKICAiZmlsbCI6IHRydWUsCiAgImZpbGxDb2xvciI6ICIjZmYwMDAwIiwKICAiZmlsbE9wYWNpdHkiOiAwLjcsCiAgImZpbGxSdWxlIjogImV2ZW5vZGQiLAogICJsaW5lQ2FwIjogInJvdW5kIiwKICAibGluZUpvaW4iOiAicm91bmQiLAogICJvcGFjaXR5IjogMS4wLAogICJyYWRpdXMiOiA1LAogICJzdHJva2UiOiB0cnVlLAogICJ3ZWlnaHQiOiAzCn0KICAgICAgICAgICAgICAgICkuYWRkVG8obWFwXzcxYWFkYTliNjRlOTRmYThhYWNmY2Q3Yzc4MmViNTYxKTsKICAgICAgICAgICAgCiAgICAKICAgICAgICAgICAgdmFyIHBvcHVwXzUxYThhZDk2YjVlYTQyMzRhOWFhOTJkODA0ZWZiZDJmID0gTC5wb3B1cCh7bWF4V2lkdGg6ICczMDAnfSk7CgogICAgICAgICAgICAKICAgICAgICAgICAgICAgIHZhciBodG1sXzEzMDA3MTZjZjkzZDQzMTY5NjAxZWE4YTE1MDY5ZDUxID0gJCgnPGRpdiBpZD0iaHRtbF8xMzAwNzE2Y2Y5M2Q0MzE2OTYwMWVhOGExNTA2OWQ1MSIgc3R5bGU9IndpZHRoOiAxMDAuMCU7IGhlaWdodDogMTAwLjAlOyI+QnJvYWQgQ2hhbm5lbCBDbHVzdGVyIDA8L2Rpdj4nKVswXTsKICAgICAgICAgICAgICAgIHBvcHVwXzUxYThhZDk2YjVlYTQyMzRhOWFhOTJkODA0ZWZiZDJmLnNldENvbnRlbnQoaHRtbF8xMzAwNzE2Y2Y5M2Q0MzE2OTYwMWVhOGExNTA2OWQ1MSk7CiAgICAgICAgICAgIAoKICAgICAgICAgICAgY2lyY2xlX21hcmtlcl8yY2YxN2FhMzIzYjY0NDEyYTY2ZGY3MzBkZDk0ZGNmZS5iaW5kUG9wdXAocG9wdXBfNTFhOGFkOTZiNWVhNDIzNGE5YWE5MmQ4MDRlZmJkMmYpOwoKICAgICAgICAgICAgCiAgICAgICAgCiAgICAKICAgICAgICAgICAgdmFyIGNpcmNsZV9tYXJrZXJfN2ZkMTVkMWM4OWJkNGM1ZTgzODYyNTc5NzgxY2M0MzcgPSBMLmNpcmNsZU1hcmtlcigKICAgICAgICAgICAgICAgIFs0MC41NTc0MDEyODg0NTQ1MiwtNzMuOTI1NTExOTY5OTQxNjhdLAogICAgICAgICAgICAgICAgewogICJidWJibGluZ01vdXNlRXZlbnRzIjogdHJ1ZSwKICAiY29sb3IiOiAiIzgwZmZiNCIsCiAgImRhc2hBcnJheSI6IG51bGwsCiAgImRhc2hPZmZzZXQiOiBudWxsLAogICJmaWxsIjogdHJ1ZSwKICAiZmlsbENvbG9yIjogIiM4MGZmYjQiLAogICJmaWxsT3BhY2l0eSI6IDAuNywKICAiZmlsbFJ1bGUiOiAiZXZlbm9kZCIsCiAgImxpbmVDYXAiOiAicm91bmQiLAogICJsaW5lSm9pbiI6ICJyb3VuZCIsCiAgIm9wYWNpdHkiOiAxLjAsCiAgInJhZGl1cyI6IDUsCiAgInN0cm9rZSI6IHRydWUsCiAgIndlaWdodCI6IDMKfQogICAgICAgICAgICAgICAgKS5hZGRUbyhtYXBfNzFhYWRhOWI2NGU5NGZhOGFhY2ZjZDdjNzgyZWI1NjEpOwogICAgICAgICAgICAKICAgIAogICAgICAgICAgICB2YXIgcG9wdXBfYjdlNWRjYzg3YmZhNDc4ZWIwMmEwMGExYThkMTQwY2MgPSBMLnBvcHVwKHttYXhXaWR0aDogJzMwMCd9KTsKCiAgICAgICAgICAgIAogICAgICAgICAgICAgICAgdmFyIGh0bWxfYzQyNGIwZjMyNjcyNGM3ZDgwNzI2MjRjNWQ1ZWRhZmYgPSAkKCc8ZGl2IGlkPSJodG1sX2M0MjRiMGYzMjY3MjRjN2Q4MDcyNjI0YzVkNWVkYWZmIiBzdHlsZT0id2lkdGg6IDEwMC4wJTsgaGVpZ2h0OiAxMDAuMCU7Ij5CcmVlenkgUG9pbnQgQ2x1c3RlciAzPC9kaXY+JylbMF07CiAgICAgICAgICAgICAgICBwb3B1cF9iN2U1ZGNjODdiZmE0NzhlYjAyYTAwYTFhOGQxNDBjYy5zZXRDb250ZW50KGh0bWxfYzQyNGIwZjMyNjcyNGM3ZDgwNzI2MjRjNWQ1ZWRhZmYpOwogICAgICAgICAgICAKCiAgICAgICAgICAgIGNpcmNsZV9tYXJrZXJfN2ZkMTVkMWM4OWJkNGM1ZTgzODYyNTc5NzgxY2M0MzcuYmluZFBvcHVwKHBvcHVwX2I3ZTVkY2M4N2JmYTQ3OGViMDJhMDBhMWE4ZDE0MGNjKTsKCiAgICAgICAgICAgIAogICAgICAgIAogICAgCiAgICAgICAgICAgIHZhciBjaXJjbGVfbWFya2VyX2E4OGUzZTQ4YThlNjQyOWFiNTExMGY0ZjMxM2E1ZWU5ID0gTC5jaXJjbGVNYXJrZXIoCiAgICAgICAgICAgICAgICBbNDAuNzc1OTIzMDE1NjQyODk2LC03My45MDIyODk2MDM5MTY3M10sCiAgICAgICAgICAgICAgICB7CiAgImJ1YmJsaW5nTW91c2VFdmVudHMiOiB0cnVlLAogICJjb2xvciI6ICIjZmZiMzYwIiwKICAiZGFzaEFycmF5IjogbnVsbCwKICAiZGFzaE9mZnNldCI6IG51bGwsCiAgImZpbGwiOiB0cnVlLAogICJmaWxsQ29sb3IiOiAiI2ZmYjM2MCIsCiAgImZpbGxPcGFjaXR5IjogMC43LAogICJmaWxsUnVsZSI6ICJldmVub2RkIiwKICAibGluZUNhcCI6ICJyb3VuZCIsCiAgImxpbmVKb2luIjogInJvdW5kIiwKICAib3BhY2l0eSI6IDEuMCwKICAicmFkaXVzIjogNSwKICAic3Ryb2tlIjogdHJ1ZSwKICAid2VpZ2h0IjogMwp9CiAgICAgICAgICAgICAgICApLmFkZFRvKG1hcF83MWFhZGE5YjY0ZTk0ZmE4YWFjZmNkN2M3ODJlYjU2MSk7CiAgICAgICAgICAgIAogICAgCiAgICAgICAgICAgIHZhciBwb3B1cF85YWY5MjI0YzdlYjM0OWUxODhjMjUzOTg0MjMyOWQ4YyA9IEwucG9wdXAoe21heFdpZHRoOiAnMzAwJ30pOwoKICAgICAgICAgICAgCiAgICAgICAgICAgICAgICB2YXIgaHRtbF8zMTI4MzgyZTQ2YWI0NzQyODA4NWZiZDNiYjIzYTU3YyA9ICQoJzxkaXYgaWQ9Imh0bWxfMzEyODM4MmU0NmFiNDc0MjgwODVmYmQzYmIyM2E1N2MiIHN0eWxlPSJ3aWR0aDogMTAwLjAlOyBoZWlnaHQ6IDEwMC4wJTsiPlN0ZWlud2F5IENsdXN0ZXIgNDwvZGl2PicpWzBdOwogICAgICAgICAgICAgICAgcG9wdXBfOWFmOTIyNGM3ZWIzNDllMTg4YzI1Mzk4NDIzMjlkOGMuc2V0Q29udGVudChodG1sXzMxMjgzODJlNDZhYjQ3NDI4MDg1ZmJkM2JiMjNhNTdjKTsKICAgICAgICAgICAgCgogICAgICAgICAgICBjaXJjbGVfbWFya2VyX2E4OGUzZTQ4YThlNjQyOWFiNTExMGY0ZjMxM2E1ZWU5LmJpbmRQb3B1cChwb3B1cF85YWY5MjI0YzdlYjM0OWUxODhjMjUzOTg0MjMyOWQ4Yyk7CgogICAgICAgICAgICAKICAgICAgICAKICAgIAogICAgICAgICAgICB2YXIgY2lyY2xlX21hcmtlcl8yOGVjZWY3ZDViZGY0ZWQzYTdlNGIzYzg3OTVkYmI2OCA9IEwuY2lyY2xlTWFya2VyKAogICAgICAgICAgICAgICAgWzQwLjc5Mjc4MTQwMzYwMDQ4LC03My44MDQzNjQ1MTcyMDk4OF0sCiAgICAgICAgICAgICAgICB7CiAgImJ1YmJsaW5nTW91c2VFdmVudHMiOiB0cnVlLAogICJjb2xvciI6ICIjZmZiMzYwIiwKICAiZGFzaEFycmF5IjogbnVsbCwKICAiZGFzaE9mZnNldCI6IG51bGwsCiAgImZpbGwiOiB0cnVlLAogICJmaWxsQ29sb3IiOiAiI2ZmYjM2MCIsCiAgImZpbGxPcGFjaXR5IjogMC43LAogICJmaWxsUnVsZSI6ICJldmVub2RkIiwKICAibGluZUNhcCI6ICJyb3VuZCIsCiAgImxpbmVKb2luIjogInJvdW5kIiwKICAib3BhY2l0eSI6IDEuMCwKICAicmFkaXVzIjogNSwKICAic3Ryb2tlIjogdHJ1ZSwKICAid2VpZ2h0IjogMwp9CiAgICAgICAgICAgICAgICApLmFkZFRvKG1hcF83MWFhZGE5YjY0ZTk0ZmE4YWFjZmNkN2M3ODJlYjU2MSk7CiAgICAgICAgICAgIAogICAgCiAgICAgICAgICAgIHZhciBwb3B1cF83ZTYzZWU0ZDczNWY0N2E1ODFlNjNkZTYzZGQxMmVkMCA9IEwucG9wdXAoe21heFdpZHRoOiAnMzAwJ30pOwoKICAgICAgICAgICAgCiAgICAgICAgICAgICAgICB2YXIgaHRtbF84ZGQyYWRmNDc0NjY0OGE1OWRhMDgzNzRiNDEwZTg0MSA9ICQoJzxkaXYgaWQ9Imh0bWxfOGRkMmFkZjQ3NDY2NDhhNTlkYTA4Mzc0YjQxMGU4NDEiIHN0eWxlPSJ3aWR0aDogMTAwLjAlOyBoZWlnaHQ6IDEwMC4wJTsiPkJlZWNoaHVyc3QgQ2x1c3RlciA0PC9kaXY+JylbMF07CiAgICAgICAgICAgICAgICBwb3B1cF83ZTYzZWU0ZDczNWY0N2E1ODFlNjNkZTYzZGQxMmVkMC5zZXRDb250ZW50KGh0bWxfOGRkMmFkZjQ3NDY2NDhhNTlkYTA4Mzc0YjQxMGU4NDEpOwogICAgICAgICAgICAKCiAgICAgICAgICAgIGNpcmNsZV9tYXJrZXJfMjhlY2VmN2Q1YmRmNGVkM2E3ZTRiM2M4Nzk1ZGJiNjguYmluZFBvcHVwKHBvcHVwXzdlNjNlZTRkNzM1ZjQ3YTU4MWU2M2RlNjNkZDEyZWQwKTsKCiAgICAgICAgICAgIAogICAgICAgIAogICAgCiAgICAgICAgICAgIHZhciBjaXJjbGVfbWFya2VyX2I1OTcwOWUzOTEzODQ3N2FhNDg3ZTY0NjZhNzJiYWRjID0gTC5jaXJjbGVNYXJrZXIoCiAgICAgICAgICAgICAgICBbNDAuNzgyODQyODA2MjQ1NTU0LC03My43NzY4MDIyMjYyMTU4XSwKICAgICAgICAgICAgICAgIHsKICAiYnViYmxpbmdNb3VzZUV2ZW50cyI6IHRydWUsCiAgImNvbG9yIjogIiNmZjAwMDAiLAogICJkYXNoQXJyYXkiOiBudWxsLAogICJkYXNoT2Zmc2V0IjogbnVsbCwKICAiZmlsbCI6IHRydWUsCiAgImZpbGxDb2xvciI6ICIjZmYwMDAwIiwKICAiZmlsbE9wYWNpdHkiOiAwLjcsCiAgImZpbGxSdWxlIjogImV2ZW5vZGQiLAogICJsaW5lQ2FwIjogInJvdW5kIiwKICAibGluZUpvaW4iOiAicm91bmQiLAogICJvcGFjaXR5IjogMS4wLAogICJyYWRpdXMiOiA1LAogICJzdHJva2UiOiB0cnVlLAogICJ3ZWlnaHQiOiAzCn0KICAgICAgICAgICAgICAgICkuYWRkVG8obWFwXzcxYWFkYTliNjRlOTRmYThhYWNmY2Q3Yzc4MmViNTYxKTsKICAgICAgICAgICAgCiAgICAKICAgICAgICAgICAgdmFyIHBvcHVwXzRiY2QzMzE0YWY3ZTQxOWZhMGI3NDdjNWRiZmMzM2MwID0gTC5wb3B1cCh7bWF4V2lkdGg6ICczMDAnfSk7CgogICAgICAgICAgICAKICAgICAgICAgICAgICAgIHZhciBodG1sXzc3YTI2NWU4N2VkNDQ4NjZiZjQ5ZGE0YjA3OWY0MzM4ID0gJCgnPGRpdiBpZD0iaHRtbF83N2EyNjVlODdlZDQ0ODY2YmY0OWRhNGIwNzlmNDMzOCIgc3R5bGU9IndpZHRoOiAxMDAuMCU7IGhlaWdodDogMTAwLjAlOyI+QmF5IFRlcnJhY2UgQ2x1c3RlciAwPC9kaXY+JylbMF07CiAgICAgICAgICAgICAgICBwb3B1cF80YmNkMzMxNGFmN2U0MTlmYTBiNzQ3YzVkYmZjMzNjMC5zZXRDb250ZW50KGh0bWxfNzdhMjY1ZTg3ZWQ0NDg2NmJmNDlkYTRiMDc5ZjQzMzgpOwogICAgICAgICAgICAKCiAgICAgICAgICAgIGNpcmNsZV9tYXJrZXJfYjU5NzA5ZTM5MTM4NDc3YWE0ODdlNjQ2NmE3MmJhZGMuYmluZFBvcHVwKHBvcHVwXzRiY2QzMzE0YWY3ZTQxOWZhMGI3NDdjNWRiZmMzM2MwKTsKCiAgICAgICAgICAgIAogICAgICAgIAogICAgCiAgICAgICAgICAgIHZhciBjaXJjbGVfbWFya2VyX2YxNDJhMzVhZDdhODRlZWFiYzAzMTIxNDM5NWI2NjMzID0gTC5jaXJjbGVNYXJrZXIoCiAgICAgICAgICAgICAgICBbNDAuNTk1NjQxODA3MzY4NDk0LC03My43NzYxMzI4MjM5MTcwNV0sCiAgICAgICAgICAgICAgICB7CiAgImJ1YmJsaW5nTW91c2VFdmVudHMiOiB0cnVlLAogICJjb2xvciI6ICIjZmYwMDAwIiwKICAiZGFzaEFycmF5IjogbnVsbCwKICAiZGFzaE9mZnNldCI6IG51bGwsCiAgImZpbGwiOiB0cnVlLAogICJmaWxsQ29sb3IiOiAiI2ZmMDAwMCIsCiAgImZpbGxPcGFjaXR5IjogMC43LAogICJmaWxsUnVsZSI6ICJldmVub2RkIiwKICAibGluZUNhcCI6ICJyb3VuZCIsCiAgImxpbmVKb2luIjogInJvdW5kIiwKICAib3BhY2l0eSI6IDEuMCwKICAicmFkaXVzIjogNSwKICAic3Ryb2tlIjogdHJ1ZSwKICAid2VpZ2h0IjogMwp9CiAgICAgICAgICAgICAgICApLmFkZFRvKG1hcF83MWFhZGE5YjY0ZTk0ZmE4YWFjZmNkN2M3ODJlYjU2MSk7CiAgICAgICAgICAgIAogICAgCiAgICAgICAgICAgIHZhciBwb3B1cF83MWQ1OGMyNzQwNTE0ZTRmOWMyYTc5NjNiYjMyN2UxYiA9IEwucG9wdXAoe21heFdpZHRoOiAnMzAwJ30pOwoKICAgICAgICAgICAgCiAgICAgICAgICAgICAgICB2YXIgaHRtbF85MTkxZmYyZDFmOWI0NDY2YjViNmJhMGMyYzQ4YzMwZiA9ICQoJzxkaXYgaWQ9Imh0bWxfOTE5MWZmMmQxZjliNDQ2NmI1YjZiYTBjMmM0OGMzMGYiIHN0eWxlPSJ3aWR0aDogMTAwLjAlOyBoZWlnaHQ6IDEwMC4wJTsiPkVkZ2VtZXJlIENsdXN0ZXIgMDwvZGl2PicpWzBdOwogICAgICAgICAgICAgICAgcG9wdXBfNzFkNThjMjc0MDUxNGU0ZjljMmE3OTYzYmIzMjdlMWIuc2V0Q29udGVudChodG1sXzkxOTFmZjJkMWY5YjQ0NjZiNWI2YmEwYzJjNDhjMzBmKTsKICAgICAgICAgICAgCgogICAgICAgICAgICBjaXJjbGVfbWFya2VyX2YxNDJhMzVhZDdhODRlZWFiYzAzMTIxNDM5NWI2NjMzLmJpbmRQb3B1cChwb3B1cF83MWQ1OGMyNzQwNTE0ZTRmOWMyYTc5NjNiYjMyN2UxYik7CgogICAgICAgICAgICAKICAgICAgICAKICAgIAogICAgICAgICAgICB2YXIgY2lyY2xlX21hcmtlcl9kYWQ5MTRiYWQzMTQ0OTk4ODYyZjc0MmM1MzMyMWQyNCA9IEwuY2lyY2xlTWFya2VyKAogICAgICAgICAgICAgICAgWzQwLjU4OTE0Mzk0MzcyOTcxLC03My43OTE5OTIzMzEzNjk0M10sCiAgICAgICAgICAgICAgICB7CiAgImJ1YmJsaW5nTW91c2VFdmVudHMiOiB0cnVlLAogICJjb2xvciI6ICIjZmYwMDAwIiwKICAiZGFzaEFycmF5IjogbnVsbCwKICAiZGFzaE9mZnNldCI6IG51bGwsCiAgImZpbGwiOiB0cnVlLAogICJmaWxsQ29sb3IiOiAiI2ZmMDAwMCIsCiAgImZpbGxPcGFjaXR5IjogMC43LAogICJmaWxsUnVsZSI6ICJldmVub2RkIiwKICAibGluZUNhcCI6ICJyb3VuZCIsCiAgImxpbmVKb2luIjogInJvdW5kIiwKICAib3BhY2l0eSI6IDEuMCwKICAicmFkaXVzIjogNSwKICAic3Ryb2tlIjogdHJ1ZSwKICAid2VpZ2h0IjogMwp9CiAgICAgICAgICAgICAgICApLmFkZFRvKG1hcF83MWFhZGE5YjY0ZTk0ZmE4YWFjZmNkN2M3ODJlYjU2MSk7CiAgICAgICAgICAgIAogICAgCiAgICAgICAgICAgIHZhciBwb3B1cF8wOTdmYWYzODYzOTY0YzI3OTdkOTdmNTkyMWQ4YmNlZiA9IEwucG9wdXAoe21heFdpZHRoOiAnMzAwJ30pOwoKICAgICAgICAgICAgCiAgICAgICAgICAgICAgICB2YXIgaHRtbF8zZjg2ZTEyMDJhOTI0YjAwODRlOWZjNWM2ZjJjMWFlMCA9ICQoJzxkaXYgaWQ9Imh0bWxfM2Y4NmUxMjAyYTkyNGIwMDg0ZTlmYzVjNmYyYzFhZTAiIHN0eWxlPSJ3aWR0aDogMTAwLjAlOyBoZWlnaHQ6IDEwMC4wJTsiPkFydmVybmUgQ2x1c3RlciAwPC9kaXY+JylbMF07CiAgICAgICAgICAgICAgICBwb3B1cF8wOTdmYWYzODYzOTY0YzI3OTdkOTdmNTkyMWQ4YmNlZi5zZXRDb250ZW50KGh0bWxfM2Y4NmUxMjAyYTkyNGIwMDg0ZTlmYzVjNmYyYzFhZTApOwogICAgICAgICAgICAKCiAgICAgICAgICAgIGNpcmNsZV9tYXJrZXJfZGFkOTE0YmFkMzE0NDk5ODg2MmY3NDJjNTMzMjFkMjQuYmluZFBvcHVwKHBvcHVwXzA5N2ZhZjM4NjM5NjRjMjc5N2Q5N2Y1OTIxZDhiY2VmKTsKCiAgICAgICAgICAgIAogICAgICAgIAogICAgCiAgICAgICAgICAgIHZhciBjaXJjbGVfbWFya2VyX2JmYmQ2YjE2YzUwNTQ5ZjE4ZTM2NDJiNDM0YTNhMmE0ID0gTC5jaXJjbGVNYXJrZXIoCiAgICAgICAgICAgICAgICBbNDAuNTgyODAxNjk2ODQ1NTg2LC03My44MjIzNjEyMTA4ODc1MV0sCiAgICAgICAgICAgICAgICB7CiAgImJ1YmJsaW5nTW91c2VFdmVudHMiOiB0cnVlLAogICJjb2xvciI6ICIjZmYwMDAwIiwKICAiZGFzaEFycmF5IjogbnVsbCwKICAiZGFzaE9mZnNldCI6IG51bGwsCiAgImZpbGwiOiB0cnVlLAogICJmaWxsQ29sb3IiOiAiI2ZmMDAwMCIsCiAgImZpbGxPcGFjaXR5IjogMC43LAogICJmaWxsUnVsZSI6ICJldmVub2RkIiwKICAibGluZUNhcCI6ICJyb3VuZCIsCiAgImxpbmVKb2luIjogInJvdW5kIiwKICAib3BhY2l0eSI6IDEuMCwKICAicmFkaXVzIjogNSwKICAic3Ryb2tlIjogdHJ1ZSwKICAid2VpZ2h0IjogMwp9CiAgICAgICAgICAgICAgICApLmFkZFRvKG1hcF83MWFhZGE5YjY0ZTk0ZmE4YWFjZmNkN2M3ODJlYjU2MSk7CiAgICAgICAgICAgIAogICAgCiAgICAgICAgICAgIHZhciBwb3B1cF9jODQwNGJiYTJiM2Y0MmVmODY4YzNkYTQ3YjRmNzFhYSA9IEwucG9wdXAoe21heFdpZHRoOiAnMzAwJ30pOwoKICAgICAgICAgICAgCiAgICAgICAgICAgICAgICB2YXIgaHRtbF9jYjcwODllMmQ1MTk0Yjc1ODQxZGE2NDVmMzczMWJhMCA9ICQoJzxkaXYgaWQ9Imh0bWxfY2I3MDg5ZTJkNTE5NGI3NTg0MWRhNjQ1ZjM3MzFiYTAiIHN0eWxlPSJ3aWR0aDogMTAwLjAlOyBoZWlnaHQ6IDEwMC4wJTsiPlJvY2thd2F5IEJlYWNoIENsdXN0ZXIgMDwvZGl2PicpWzBdOwogICAgICAgICAgICAgICAgcG9wdXBfYzg0MDRiYmEyYjNmNDJlZjg2OGMzZGE0N2I0ZjcxYWEuc2V0Q29udGVudChodG1sX2NiNzA4OWUyZDUxOTRiNzU4NDFkYTY0NWYzNzMxYmEwKTsKICAgICAgICAgICAgCgogICAgICAgICAgICBjaXJjbGVfbWFya2VyX2JmYmQ2YjE2YzUwNTQ5ZjE4ZTM2NDJiNDM0YTNhMmE0LmJpbmRQb3B1cChwb3B1cF9jODQwNGJiYTJiM2Y0MmVmODY4YzNkYTQ3YjRmNzFhYSk7CgogICAgICAgICAgICAKICAgICAgICAKICAgIAogICAgICAgICAgICB2YXIgY2lyY2xlX21hcmtlcl81MGYwY2FjMzdmYjQ0MjhhYjk0N2NkYTQ4MWVhMzQyMCA9IEwuY2lyY2xlTWFya2VyKAogICAgICAgICAgICAgICAgWzQwLjU3MjAzNjczMDIxNzAxNSwtNzMuODU3NTQ2NzI0MTA4MjddLAogICAgICAgICAgICAgICAgewogICJidWJibGluZ01vdXNlRXZlbnRzIjogdHJ1ZSwKICAiY29sb3IiOiAiIzgwZmZiNCIsCiAgImRhc2hBcnJheSI6IG51bGwsCiAgImRhc2hPZmZzZXQiOiBudWxsLAogICJmaWxsIjogdHJ1ZSwKICAiZmlsbENvbG9yIjogIiM4MGZmYjQiLAogICJmaWxsT3BhY2l0eSI6IDAuNywKICAiZmlsbFJ1bGUiOiAiZXZlbm9kZCIsCiAgImxpbmVDYXAiOiAicm91bmQiLAogICJsaW5lSm9pbiI6ICJyb3VuZCIsCiAgIm9wYWNpdHkiOiAxLjAsCiAgInJhZGl1cyI6IDUsCiAgInN0cm9rZSI6IHRydWUsCiAgIndlaWdodCI6IDMKfQogICAgICAgICAgICAgICAgKS5hZGRUbyhtYXBfNzFhYWRhOWI2NGU5NGZhOGFhY2ZjZDdjNzgyZWI1NjEpOwogICAgICAgICAgICAKICAgIAogICAgICAgICAgICB2YXIgcG9wdXBfMGVhNTQ5ZDc5MzlhNGUzZjgwMDRlZmYzZjc4MWU0YTYgPSBMLnBvcHVwKHttYXhXaWR0aDogJzMwMCd9KTsKCiAgICAgICAgICAgIAogICAgICAgICAgICAgICAgdmFyIGh0bWxfNGM1OTAyNjkwMGU5NGQ0MmJjN2Q1MGUzNThhNDcyODggPSAkKCc8ZGl2IGlkPSJodG1sXzRjNTkwMjY5MDBlOTRkNDJiYzdkNTBlMzU4YTQ3Mjg4IiBzdHlsZT0id2lkdGg6IDEwMC4wJTsgaGVpZ2h0OiAxMDAuMCU7Ij5OZXBvbnNpdCBDbHVzdGVyIDM8L2Rpdj4nKVswXTsKICAgICAgICAgICAgICAgIHBvcHVwXzBlYTU0OWQ3OTM5YTRlM2Y4MDA0ZWZmM2Y3ODFlNGE2LnNldENvbnRlbnQoaHRtbF80YzU5MDI2OTAwZTk0ZDQyYmM3ZDUwZTM1OGE0NzI4OCk7CiAgICAgICAgICAgIAoKICAgICAgICAgICAgY2lyY2xlX21hcmtlcl81MGYwY2FjMzdmYjQ0MjhhYjk0N2NkYTQ4MWVhMzQyMC5iaW5kUG9wdXAocG9wdXBfMGVhNTQ5ZDc5MzlhNGUzZjgwMDRlZmYzZjc4MWU0YTYpOwoKICAgICAgICAgICAgCiAgICAgICAgCiAgICAKICAgICAgICAgICAgdmFyIGNpcmNsZV9tYXJrZXJfMDcxYWMwODhkNDZhNGY2Mzg2NGQ3OWQ1YWQ3ZWMzZDUgPSBMLmNpcmNsZU1hcmtlcigKICAgICAgICAgICAgICAgIFs0MC43NDEzNzg0MjE5NDU0MzQsLTczLjcwODg0NzA1ODg5MjQ2XSwKICAgICAgICAgICAgICAgIHsKICAiYnViYmxpbmdNb3VzZUV2ZW50cyI6IHRydWUsCiAgImNvbG9yIjogIiNmZjAwMDAiLAogICJkYXNoQXJyYXkiOiBudWxsLAogICJkYXNoT2Zmc2V0IjogbnVsbCwKICAiZmlsbCI6IHRydWUsCiAgImZpbGxDb2xvciI6ICIjZmYwMDAwIiwKICAiZmlsbE9wYWNpdHkiOiAwLjcsCiAgImZpbGxSdWxlIjogImV2ZW5vZGQiLAogICJsaW5lQ2FwIjogInJvdW5kIiwKICAibGluZUpvaW4iOiAicm91bmQiLAogICJvcGFjaXR5IjogMS4wLAogICJyYWRpdXMiOiA1LAogICJzdHJva2UiOiB0cnVlLAogICJ3ZWlnaHQiOiAzCn0KICAgICAgICAgICAgICAgICkuYWRkVG8obWFwXzcxYWFkYTliNjRlOTRmYThhYWNmY2Q3Yzc4MmViNTYxKTsKICAgICAgICAgICAgCiAgICAKICAgICAgICAgICAgdmFyIHBvcHVwXzg0YWQ4NjE2ZDNkOTQyZWE5Mjk3OTI2MjhhMGM3ZjAzID0gTC5wb3B1cCh7bWF4V2lkdGg6ICczMDAnfSk7CgogICAgICAgICAgICAKICAgICAgICAgICAgICAgIHZhciBodG1sX2YzNWNhNWM4OTM1NDQxODdhNjk0ZDg1MmRhNTQ2YTI0ID0gJCgnPGRpdiBpZD0iaHRtbF9mMzVjYTVjODkzNTQ0MTg3YTY5NGQ4NTJkYTU0NmEyNCIgc3R5bGU9IndpZHRoOiAxMDAuMCU7IGhlaWdodDogMTAwLjAlOyI+RmxvcmFsIFBhcmsgQ2x1c3RlciAwPC9kaXY+JylbMF07CiAgICAgICAgICAgICAgICBwb3B1cF84NGFkODYxNmQzZDk0MmVhOTI5NzkyNjI4YTBjN2YwMy5zZXRDb250ZW50KGh0bWxfZjM1Y2E1Yzg5MzU0NDE4N2E2OTRkODUyZGE1NDZhMjQpOwogICAgICAgICAgICAKCiAgICAgICAgICAgIGNpcmNsZV9tYXJrZXJfMDcxYWMwODhkNDZhNGY2Mzg2NGQ3OWQ1YWQ3ZWMzZDUuYmluZFBvcHVwKHBvcHVwXzg0YWQ4NjE2ZDNkOTQyZWE5Mjk3OTI2MjhhMGM3ZjAzKTsKCiAgICAgICAgICAgIAogICAgICAgIAogICAgCiAgICAgICAgICAgIHZhciBjaXJjbGVfbWFya2VyXzg5NmI0YTEyNjc0YzQ5ZmFiZDA4M2JlM2E0OTcyNjUzID0gTC5jaXJjbGVNYXJrZXIoCiAgICAgICAgICAgICAgICBbNDAuNzIwOTU3MjA3NjQ0NCwtNzMuNzY3MTQxNjY3MTQ3MjldLAogICAgICAgICAgICAgICAgewogICJidWJibGluZ01vdXNlRXZlbnRzIjogdHJ1ZSwKICAiY29sb3IiOiAiI2ZmMDAwMCIsCiAgImRhc2hBcnJheSI6IG51bGwsCiAgImRhc2hPZmZzZXQiOiBudWxsLAogICJmaWxsIjogdHJ1ZSwKICAiZmlsbENvbG9yIjogIiNmZjAwMDAiLAogICJmaWxsT3BhY2l0eSI6IDAuNywKICAiZmlsbFJ1bGUiOiAiZXZlbm9kZCIsCiAgImxpbmVDYXAiOiAicm91bmQiLAogICJsaW5lSm9pbiI6ICJyb3VuZCIsCiAgIm9wYWNpdHkiOiAxLjAsCiAgInJhZGl1cyI6IDUsCiAgInN0cm9rZSI6IHRydWUsCiAgIndlaWdodCI6IDMKfQogICAgICAgICAgICAgICAgKS5hZGRUbyhtYXBfNzFhYWRhOWI2NGU5NGZhOGFhY2ZjZDdjNzgyZWI1NjEpOwogICAgICAgICAgICAKICAgIAogICAgICAgICAgICB2YXIgcG9wdXBfYzExNWFjYmFhMGZiNDZjNThlZTg0NjA2YWE4MTZiNmEgPSBMLnBvcHVwKHttYXhXaWR0aDogJzMwMCd9KTsKCiAgICAgICAgICAgIAogICAgICAgICAgICAgICAgdmFyIGh0bWxfNDJiZWI1ZjUwM2E4NDZlMDk2NzU2M2Q2YTBkZTU5YjcgPSAkKCc8ZGl2IGlkPSJodG1sXzQyYmViNWY1MDNhODQ2ZTA5Njc1NjNkNmEwZGU1OWI3IiBzdHlsZT0id2lkdGg6IDEwMC4wJTsgaGVpZ2h0OiAxMDAuMCU7Ij5Ib2xsaXN3b29kIENsdXN0ZXIgMDwvZGl2PicpWzBdOwogICAgICAgICAgICAgICAgcG9wdXBfYzExNWFjYmFhMGZiNDZjNThlZTg0NjA2YWE4MTZiNmEuc2V0Q29udGVudChodG1sXzQyYmViNWY1MDNhODQ2ZTA5Njc1NjNkNmEwZGU1OWI3KTsKICAgICAgICAgICAgCgogICAgICAgICAgICBjaXJjbGVfbWFya2VyXzg5NmI0YTEyNjc0YzQ5ZmFiZDA4M2JlM2E0OTcyNjUzLmJpbmRQb3B1cChwb3B1cF9jMTE1YWNiYWEwZmI0NmM1OGVlODQ2MDZhYTgxNmI2YSk7CgogICAgICAgICAgICAKICAgICAgICAKICAgIAogICAgICAgICAgICB2YXIgY2lyY2xlX21hcmtlcl9hMWU2YmI1ZTg4MzE0ZTU3ODYxYzEzYjUwMDUxYzVjMSA9IEwuY2lyY2xlTWFya2VyKAogICAgICAgICAgICAgICAgWzQwLjcxNjgwNDgzMDE0NjEzLC03My43ODcyMjY5NjkzNjY2XSwKICAgICAgICAgICAgICAgIHsKICAiYnViYmxpbmdNb3VzZUV2ZW50cyI6IHRydWUsCiAgImNvbG9yIjogIiNmZjAwMDAiLAogICJkYXNoQXJyYXkiOiBudWxsLAogICJkYXNoT2Zmc2V0IjogbnVsbCwKICAiZmlsbCI6IHRydWUsCiAgImZpbGxDb2xvciI6ICIjZmYwMDAwIiwKICAiZmlsbE9wYWNpdHkiOiAwLjcsCiAgImZpbGxSdWxlIjogImV2ZW5vZGQiLAogICJsaW5lQ2FwIjogInJvdW5kIiwKICAibGluZUpvaW4iOiAicm91bmQiLAogICJvcGFjaXR5IjogMS4wLAogICJyYWRpdXMiOiA1LAogICJzdHJva2UiOiB0cnVlLAogICJ3ZWlnaHQiOiAzCn0KICAgICAgICAgICAgICAgICkuYWRkVG8obWFwXzcxYWFkYTliNjRlOTRmYThhYWNmY2Q3Yzc4MmViNTYxKTsKICAgICAgICAgICAgCiAgICAKICAgICAgICAgICAgdmFyIHBvcHVwXzliOTk3MWY3OWQ5ZjQyNzJhYjNjOGFmZjdhYjQ5MGU4ID0gTC5wb3B1cCh7bWF4V2lkdGg6ICczMDAnfSk7CgogICAgICAgICAgICAKICAgICAgICAgICAgICAgIHZhciBodG1sX2M4MDkzMDY3N2JkNjQ2NjA4N2E4MmNhMWQ1YmE2MTcxID0gJCgnPGRpdiBpZD0iaHRtbF9jODA5MzA2NzdiZDY0NjYwODdhODJjYTFkNWJhNjE3MSIgc3R5bGU9IndpZHRoOiAxMDAuMCU7IGhlaWdodDogMTAwLjAlOyI+SmFtYWljYSBFc3RhdGVzIENsdXN0ZXIgMDwvZGl2PicpWzBdOwogICAgICAgICAgICAgICAgcG9wdXBfOWI5OTcxZjc5ZDlmNDI3MmFiM2M4YWZmN2FiNDkwZTguc2V0Q29udGVudChodG1sX2M4MDkzMDY3N2JkNjQ2NjA4N2E4MmNhMWQ1YmE2MTcxKTsKICAgICAgICAgICAgCgogICAgICAgICAgICBjaXJjbGVfbWFya2VyX2ExZTZiYjVlODgzMTRlNTc4NjFjMTNiNTAwNTFjNWMxLmJpbmRQb3B1cChwb3B1cF85Yjk5NzFmNzlkOWY0MjcyYWIzYzhhZmY3YWI0OTBlOCk7CgogICAgICAgICAgICAKICAgICAgICAKICAgIAogICAgICAgICAgICB2YXIgY2lyY2xlX21hcmtlcl8yNDlkZDhmYTQxNzA0YTJhYjQ5YmViYjZkN2QyZjAyZCA9IEwuY2lyY2xlTWFya2VyKAogICAgICAgICAgICAgICAgWzQwLjc0NDU3MjMwOTI4NjcsLTczLjgyNTgwOTE1MTEwNTU5XSwKICAgICAgICAgICAgICAgIHsKICAiYnViYmxpbmdNb3VzZUV2ZW50cyI6IHRydWUsCiAgImNvbG9yIjogIiNmZjAwMDAiLAogICJkYXNoQXJyYXkiOiBudWxsLAogICJkYXNoT2Zmc2V0IjogbnVsbCwKICAiZmlsbCI6IHRydWUsCiAgImZpbGxDb2xvciI6ICIjZmYwMDAwIiwKICAiZmlsbE9wYWNpdHkiOiAwLjcsCiAgImZpbGxSdWxlIjogImV2ZW5vZGQiLAogICJsaW5lQ2FwIjogInJvdW5kIiwKICAibGluZUpvaW4iOiAicm91bmQiLAogICJvcGFjaXR5IjogMS4wLAogICJyYWRpdXMiOiA1LAogICJzdHJva2UiOiB0cnVlLAogICJ3ZWlnaHQiOiAzCn0KICAgICAgICAgICAgICAgICkuYWRkVG8obWFwXzcxYWFkYTliNjRlOTRmYThhYWNmY2Q3Yzc4MmViNTYxKTsKICAgICAgICAgICAgCiAgICAKICAgICAgICAgICAgdmFyIHBvcHVwX2M5MTdjMWRjMzI5MTQyNWNhNzE2NjZkN2MwNzIyZTYwID0gTC5wb3B1cCh7bWF4V2lkdGg6ICczMDAnfSk7CgogICAgICAgICAgICAKICAgICAgICAgICAgICAgIHZhciBodG1sX2JlMjhkOTAxMDMxYzQzMjdhYzJkNTk3NmM3ZDAxMTg1ID0gJCgnPGRpdiBpZD0iaHRtbF9iZTI4ZDkwMTAzMWM0MzI3YWMyZDU5NzZjN2QwMTE4NSIgc3R5bGU9IndpZHRoOiAxMDAuMCU7IGhlaWdodDogMTAwLjAlOyI+UXVlZW5zYm9ybyBIaWxsIENsdXN0ZXIgMDwvZGl2PicpWzBdOwogICAgICAgICAgICAgICAgcG9wdXBfYzkxN2MxZGMzMjkxNDI1Y2E3MTY2NmQ3YzA3MjJlNjAuc2V0Q29udGVudChodG1sX2JlMjhkOTAxMDMxYzQzMjdhYzJkNTk3NmM3ZDAxMTg1KTsKICAgICAgICAgICAgCgogICAgICAgICAgICBjaXJjbGVfbWFya2VyXzI0OWRkOGZhNDE3MDRhMmFiNDliZWJiNmQ3ZDJmMDJkLmJpbmRQb3B1cChwb3B1cF9jOTE3YzFkYzMyOTE0MjVjYTcxNjY2ZDdjMDcyMmU2MCk7CgogICAgICAgICAgICAKICAgICAgICAKICAgIAogICAgICAgICAgICB2YXIgY2lyY2xlX21hcmtlcl9kZjVkMzY0YTUwZDI0YWZjOGVmZjJhNWZjNGJhN2NjZiA9IEwuY2lyY2xlTWFya2VyKAogICAgICAgICAgICAgICAgWzQwLjcyMzgyNDkwMTgyOTIwNCwtNzMuNzk3NjAzMDA5MTI2NzJdLAogICAgICAgICAgICAgICAgewogICJidWJibGluZ01vdXNlRXZlbnRzIjogdHJ1ZSwKICAiY29sb3IiOiAiI2ZmMDAwMCIsCiAgImRhc2hBcnJheSI6IG51bGwsCiAgImRhc2hPZmZzZXQiOiBudWxsLAogICJmaWxsIjogdHJ1ZSwKICAiZmlsbENvbG9yIjogIiNmZjAwMDAiLAogICJmaWxsT3BhY2l0eSI6IDAuNywKICAiZmlsbFJ1bGUiOiAiZXZlbm9kZCIsCiAgImxpbmVDYXAiOiAicm91bmQiLAogICJsaW5lSm9pbiI6ICJyb3VuZCIsCiAgIm9wYWNpdHkiOiAxLjAsCiAgInJhZGl1cyI6IDUsCiAgInN0cm9rZSI6IHRydWUsCiAgIndlaWdodCI6IDMKfQogICAgICAgICAgICAgICAgKS5hZGRUbyhtYXBfNzFhYWRhOWI2NGU5NGZhOGFhY2ZjZDdjNzgyZWI1NjEpOwogICAgICAgICAgICAKICAgIAogICAgICAgICAgICB2YXIgcG9wdXBfOTNiYjA2NGE5YzMwNDVhOTllMDE1OWVlNGU0NzQ4NjkgPSBMLnBvcHVwKHttYXhXaWR0aDogJzMwMCd9KTsKCiAgICAgICAgICAgIAogICAgICAgICAgICAgICAgdmFyIGh0bWxfZGE5N2Q4NDhkNmQyNGRkMzkzNDQyYTQyMzUxN2FjYmUgPSAkKCc8ZGl2IGlkPSJodG1sX2RhOTdkODQ4ZDZkMjRkZDM5MzQ0MmE0MjM1MTdhY2JlIiBzdHlsZT0id2lkdGg6IDEwMC4wJTsgaGVpZ2h0OiAxMDAuMCU7Ij5IaWxsY3Jlc3QgQ2x1c3RlciAwPC9kaXY+JylbMF07CiAgICAgICAgICAgICAgICBwb3B1cF85M2JiMDY0YTljMzA0NWE5OWUwMTU5ZWU0ZTQ3NDg2OS5zZXRDb250ZW50KGh0bWxfZGE5N2Q4NDhkNmQyNGRkMzkzNDQyYTQyMzUxN2FjYmUpOwogICAgICAgICAgICAKCiAgICAgICAgICAgIGNpcmNsZV9tYXJrZXJfZGY1ZDM2NGE1MGQyNGFmYzhlZmYyYTVmYzRiYTdjY2YuYmluZFBvcHVwKHBvcHVwXzkzYmIwNjRhOWMzMDQ1YTk5ZTAxNTllZTRlNDc0ODY5KTsKCiAgICAgICAgICAgIAogICAgICAgIAogICAgCiAgICAgICAgICAgIHZhciBjaXJjbGVfbWFya2VyX2IzMzJmMjhhODUwZjQ0YWM4MGI2ZWM5YTJkYTlmZmUzID0gTC5jaXJjbGVNYXJrZXIoCiAgICAgICAgICAgICAgICBbNDAuNzYxNzA0NTI2MDU0MTQ2LC03My45MzE1NzUwNjA3Mjg3OF0sCiAgICAgICAgICAgICAgICB7CiAgImJ1YmJsaW5nTW91c2VFdmVudHMiOiB0cnVlLAogICJjb2xvciI6ICIjMDBiNWViIiwKICAiZGFzaEFycmF5IjogbnVsbCwKICAiZGFzaE9mZnNldCI6IG51bGwsCiAgImZpbGwiOiB0cnVlLAogICJmaWxsQ29sb3IiOiAiIzAwYjVlYiIsCiAgImZpbGxPcGFjaXR5IjogMC43LAogICJmaWxsUnVsZSI6ICJldmVub2RkIiwKICAibGluZUNhcCI6ICJyb3VuZCIsCiAgImxpbmVKb2luIjogInJvdW5kIiwKICAib3BhY2l0eSI6IDEuMCwKICAicmFkaXVzIjogNSwKICAic3Ryb2tlIjogdHJ1ZSwKICAid2VpZ2h0IjogMwp9CiAgICAgICAgICAgICAgICApLmFkZFRvKG1hcF83MWFhZGE5YjY0ZTk0ZmE4YWFjZmNkN2M3ODJlYjU2MSk7CiAgICAgICAgICAgIAogICAgCiAgICAgICAgICAgIHZhciBwb3B1cF9lYjkwZTBmNmZlZDI0YmE2YTZiZTA3OTM0ZjNmMjE0YyA9IEwucG9wdXAoe21heFdpZHRoOiAnMzAwJ30pOwoKICAgICAgICAgICAgCiAgICAgICAgICAgICAgICB2YXIgaHRtbF8yYTdiZjQyODk2NjI0YjdjYjAxMzBkZDUxYTNiM2ZjMCA9ICQoJzxkaXYgaWQ9Imh0bWxfMmE3YmY0Mjg5NjYyNGI3Y2IwMTMwZGQ1MWEzYjNmYzAiIHN0eWxlPSJ3aWR0aDogMTAwLjAlOyBoZWlnaHQ6IDEwMC4wJTsiPlJhdmVuc3dvb2QgQ2x1c3RlciAyPC9kaXY+JylbMF07CiAgICAgICAgICAgICAgICBwb3B1cF9lYjkwZTBmNmZlZDI0YmE2YTZiZTA3OTM0ZjNmMjE0Yy5zZXRDb250ZW50KGh0bWxfMmE3YmY0Mjg5NjYyNGI3Y2IwMTMwZGQ1MWEzYjNmYzApOwogICAgICAgICAgICAKCiAgICAgICAgICAgIGNpcmNsZV9tYXJrZXJfYjMzMmYyOGE4NTBmNDRhYzgwYjZlYzlhMmRhOWZmZTMuYmluZFBvcHVwKHBvcHVwX2ViOTBlMGY2ZmVkMjRiYTZhNmJlMDc5MzRmM2YyMTRjKTsKCiAgICAgICAgICAgIAogICAgICAgIAogICAgCiAgICAgICAgICAgIHZhciBjaXJjbGVfbWFya2VyX2M3Y2QxOGRjOGExMTRkZjdhNjMxMjkyODhmMTAwMDkyID0gTC5jaXJjbGVNYXJrZXIoCiAgICAgICAgICAgICAgICBbNDAuNjYzOTE4NDE5MjUxMzksLTczLjg0OTYzNzgyNDAyNDQxXSwKICAgICAgICAgICAgICAgIHsKICAiYnViYmxpbmdNb3VzZUV2ZW50cyI6IHRydWUsCiAgImNvbG9yIjogIiNmZjAwMDAiLAogICJkYXNoQXJyYXkiOiBudWxsLAogICJkYXNoT2Zmc2V0IjogbnVsbCwKICAiZmlsbCI6IHRydWUsCiAgImZpbGxDb2xvciI6ICIjZmYwMDAwIiwKICAiZmlsbE9wYWNpdHkiOiAwLjcsCiAgImZpbGxSdWxlIjogImV2ZW5vZGQiLAogICJsaW5lQ2FwIjogInJvdW5kIiwKICAibGluZUpvaW4iOiAicm91bmQiLAogICJvcGFjaXR5IjogMS4wLAogICJyYWRpdXMiOiA1LAogICJzdHJva2UiOiB0cnVlLAogICJ3ZWlnaHQiOiAzCn0KICAgICAgICAgICAgICAgICkuYWRkVG8obWFwXzcxYWFkYTliNjRlOTRmYThhYWNmY2Q3Yzc4MmViNTYxKTsKICAgICAgICAgICAgCiAgICAKICAgICAgICAgICAgdmFyIHBvcHVwXzU1NGExZTNkNDk2ZDRkZWQ4ZDFiMWNiNTFmMDNlY2ExID0gTC5wb3B1cCh7bWF4V2lkdGg6ICczMDAnfSk7CgogICAgICAgICAgICAKICAgICAgICAgICAgICAgIHZhciBodG1sX2U3ZDdhYmY5YTQ4YjRhMmY4YTA1ZjMyN2RhMGNlYjc4ID0gJCgnPGRpdiBpZD0iaHRtbF9lN2Q3YWJmOWE0OGI0YTJmOGEwNWYzMjdkYTBjZWI3OCIgc3R5bGU9IndpZHRoOiAxMDAuMCU7IGhlaWdodDogMTAwLjAlOyI+TGluZGVud29vZCBDbHVzdGVyIDA8L2Rpdj4nKVswXTsKICAgICAgICAgICAgICAgIHBvcHVwXzU1NGExZTNkNDk2ZDRkZWQ4ZDFiMWNiNTFmMDNlY2ExLnNldENvbnRlbnQoaHRtbF9lN2Q3YWJmOWE0OGI0YTJmOGEwNWYzMjdkYTBjZWI3OCk7CiAgICAgICAgICAgIAoKICAgICAgICAgICAgY2lyY2xlX21hcmtlcl9jN2NkMThkYzhhMTE0ZGY3YTYzMTI5Mjg4ZjEwMDA5Mi5iaW5kUG9wdXAocG9wdXBfNTU0YTFlM2Q0OTZkNGRlZDhkMWIxY2I1MWYwM2VjYTEpOwoKICAgICAgICAgICAgCiAgICAgICAgCiAgICAKICAgICAgICAgICAgdmFyIGNpcmNsZV9tYXJrZXJfNzgzZDI3N2VjMTc1NDY1NGE2NmU2MjY5ZTk2NTE2MTUgPSBMLmNpcmNsZU1hcmtlcigKICAgICAgICAgICAgICAgIFs0MC42Njc4ODM4OTY2MDI0NywtNzMuNzQwMjU2MDc5ODk4MjJdLAogICAgICAgICAgICAgICAgewogICJidWJibGluZ01vdXNlRXZlbnRzIjogdHJ1ZSwKICAiY29sb3IiOiAiI2ZmMDAwMCIsCiAgImRhc2hBcnJheSI6IG51bGwsCiAgImRhc2hPZmZzZXQiOiBudWxsLAogICJmaWxsIjogdHJ1ZSwKICAiZmlsbENvbG9yIjogIiNmZjAwMDAiLAogICJmaWxsT3BhY2l0eSI6IDAuNywKICAiZmlsbFJ1bGUiOiAiZXZlbm9kZCIsCiAgImxpbmVDYXAiOiAicm91bmQiLAogICJsaW5lSm9pbiI6ICJyb3VuZCIsCiAgIm9wYWNpdHkiOiAxLjAsCiAgInJhZGl1cyI6IDUsCiAgInN0cm9rZSI6IHRydWUsCiAgIndlaWdodCI6IDMKfQogICAgICAgICAgICAgICAgKS5hZGRUbyhtYXBfNzFhYWRhOWI2NGU5NGZhOGFhY2ZjZDdjNzgyZWI1NjEpOwogICAgICAgICAgICAKICAgIAogICAgICAgICAgICB2YXIgcG9wdXBfNDAzYTk2OGRhYTE0NDEwYWFiNGJjYWMwMTY0Y2E2NTcgPSBMLnBvcHVwKHttYXhXaWR0aDogJzMwMCd9KTsKCiAgICAgICAgICAgIAogICAgICAgICAgICAgICAgdmFyIGh0bWxfMjg1NWQ2NjNlNGVmNGY3MWExYzYzZGIyYmRkMWM5YjEgPSAkKCc8ZGl2IGlkPSJodG1sXzI4NTVkNjYzZTRlZjRmNzFhMWM2M2RiMmJkZDFjOWIxIiBzdHlsZT0id2lkdGg6IDEwMC4wJTsgaGVpZ2h0OiAxMDAuMCU7Ij5MYXVyZWx0b24gQ2x1c3RlciAwPC9kaXY+JylbMF07CiAgICAgICAgICAgICAgICBwb3B1cF80MDNhOTY4ZGFhMTQ0MTBhYWI0YmNhYzAxNjRjYTY1Ny5zZXRDb250ZW50KGh0bWxfMjg1NWQ2NjNlNGVmNGY3MWExYzYzZGIyYmRkMWM5YjEpOwogICAgICAgICAgICAKCiAgICAgICAgICAgIGNpcmNsZV9tYXJrZXJfNzgzZDI3N2VjMTc1NDY1NGE2NmU2MjY5ZTk2NTE2MTUuYmluZFBvcHVwKHBvcHVwXzQwM2E5NjhkYWExNDQxMGFhYjRiY2FjMDE2NGNhNjU3KTsKCiAgICAgICAgICAgIAogICAgICAgIAogICAgCiAgICAgICAgICAgIHZhciBjaXJjbGVfbWFya2VyX2UzN2NjY2ViNTgxZjQ2NTRhODliZjY2OTNjNWUzMGUwID0gTC5jaXJjbGVNYXJrZXIoCiAgICAgICAgICAgICAgICBbNDAuNzM2MDc0NTcwODMwNzk1LC03My44NjI1MjQ3MTQxMzc0XSwKICAgICAgICAgICAgICAgIHsKICAiYnViYmxpbmdNb3VzZUV2ZW50cyI6IHRydWUsCiAgImNvbG9yIjogIiNmZjAwMDAiLAogICJkYXNoQXJyYXkiOiBudWxsLAogICJkYXNoT2Zmc2V0IjogbnVsbCwKICAiZmlsbCI6IHRydWUsCiAgImZpbGxDb2xvciI6ICIjZmYwMDAwIiwKICAiZmlsbE9wYWNpdHkiOiAwLjcsCiAgImZpbGxSdWxlIjogImV2ZW5vZGQiLAogICJsaW5lQ2FwIjogInJvdW5kIiwKICAibGluZUpvaW4iOiAicm91bmQiLAogICJvcGFjaXR5IjogMS4wLAogICJyYWRpdXMiOiA1LAogICJzdHJva2UiOiB0cnVlLAogICJ3ZWlnaHQiOiAzCn0KICAgICAgICAgICAgICAgICkuYWRkVG8obWFwXzcxYWFkYTliNjRlOTRmYThhYWNmY2Q3Yzc4MmViNTYxKTsKICAgICAgICAgICAgCiAgICAKICAgICAgICAgICAgdmFyIHBvcHVwX2M5OTc2YmFiOTcyNzRmNzc5ZjBlZGQ5ZDg2ZDg1M2RlID0gTC5wb3B1cCh7bWF4V2lkdGg6ICczMDAnfSk7CgogICAgICAgICAgICAKICAgICAgICAgICAgICAgIHZhciBodG1sXzAzYTM5OWZmYzAxYjRlNzRhOGIwYWM0Y2NmM2E5MTQ0ID0gJCgnPGRpdiBpZD0iaHRtbF8wM2EzOTlmZmMwMWI0ZTc0YThiMGFjNGNjZjNhOTE0NCIgc3R5bGU9IndpZHRoOiAxMDAuMCU7IGhlaWdodDogMTAwLjAlOyI+TGVmcmFrIENpdHkgQ2x1c3RlciAwPC9kaXY+JylbMF07CiAgICAgICAgICAgICAgICBwb3B1cF9jOTk3NmJhYjk3Mjc0Zjc3OWYwZWRkOWQ4NmQ4NTNkZS5zZXRDb250ZW50KGh0bWxfMDNhMzk5ZmZjMDFiNGU3NGE4YjBhYzRjY2YzYTkxNDQpOwogICAgICAgICAgICAKCiAgICAgICAgICAgIGNpcmNsZV9tYXJrZXJfZTM3Y2NjZWI1ODFmNDY1NGE4OWJmNjY5M2M1ZTMwZTAuYmluZFBvcHVwKHBvcHVwX2M5OTc2YmFiOTcyNzRmNzc5ZjBlZGQ5ZDg2ZDg1M2RlKTsKCiAgICAgICAgICAgIAogICAgICAgIAogICAgCiAgICAgICAgICAgIHZhciBjaXJjbGVfbWFya2VyXzI5MWIzMDc3MDFiZjQ1ZmNiNGUwMTBjZWQ0YzYwMzQyID0gTC5jaXJjbGVNYXJrZXIoCiAgICAgICAgICAgICAgICBbNDAuNTc2MTU1NTY1NDMxMDksLTczLjg1NDAxNzUwMzkyNTJdLAogICAgICAgICAgICAgICAgewogICJidWJibGluZ01vdXNlRXZlbnRzIjogdHJ1ZSwKICAiY29sb3IiOiAiIzgwZmZiNCIsCiAgImRhc2hBcnJheSI6IG51bGwsCiAgImRhc2hPZmZzZXQiOiBudWxsLAogICJmaWxsIjogdHJ1ZSwKICAiZmlsbENvbG9yIjogIiM4MGZmYjQiLAogICJmaWxsT3BhY2l0eSI6IDAuNywKICAiZmlsbFJ1bGUiOiAiZXZlbm9kZCIsCiAgImxpbmVDYXAiOiAicm91bmQiLAogICJsaW5lSm9pbiI6ICJyb3VuZCIsCiAgIm9wYWNpdHkiOiAxLjAsCiAgInJhZGl1cyI6IDUsCiAgInN0cm9rZSI6IHRydWUsCiAgIndlaWdodCI6IDMKfQogICAgICAgICAgICAgICAgKS5hZGRUbyhtYXBfNzFhYWRhOWI2NGU5NGZhOGFhY2ZjZDdjNzgyZWI1NjEpOwogICAgICAgICAgICAKICAgIAogICAgICAgICAgICB2YXIgcG9wdXBfMGQwYmZlNzAxNTdiNDM1NjgxYjgxOTE5NmRlMzE0MzEgPSBMLnBvcHVwKHttYXhXaWR0aDogJzMwMCd9KTsKCiAgICAgICAgICAgIAogICAgICAgICAgICAgICAgdmFyIGh0bWxfMzA5NGYyYTMzY2YzNDI2MmIxYjQ1YTA5MGQ5MDQzOWYgPSAkKCc8ZGl2IGlkPSJodG1sXzMwOTRmMmEzM2NmMzQyNjJiMWI0NWEwOTBkOTA0MzlmIiBzdHlsZT0id2lkdGg6IDEwMC4wJTsgaGVpZ2h0OiAxMDAuMCU7Ij5CZWxsZSBIYXJib3IgQ2x1c3RlciAzPC9kaXY+JylbMF07CiAgICAgICAgICAgICAgICBwb3B1cF8wZDBiZmU3MDE1N2I0MzU2ODFiODE5MTk2ZGUzMTQzMS5zZXRDb250ZW50KGh0bWxfMzA5NGYyYTMzY2YzNDI2MmIxYjQ1YTA5MGQ5MDQzOWYpOwogICAgICAgICAgICAKCiAgICAgICAgICAgIGNpcmNsZV9tYXJrZXJfMjkxYjMwNzcwMWJmNDVmY2I0ZTAxMGNlZDRjNjAzNDIuYmluZFBvcHVwKHBvcHVwXzBkMGJmZTcwMTU3YjQzNTY4MWI4MTkxOTZkZTMxNDMxKTsKCiAgICAgICAgICAgIAogICAgICAgIAogICAgCiAgICAgICAgICAgIHZhciBjaXJjbGVfbWFya2VyXzFkNmJjYzRmZTA0MDQ3MmI5MzYwZmQ4MjI3OWZkMDM3ID0gTC5jaXJjbGVNYXJrZXIoCiAgICAgICAgICAgICAgICBbNDAuNTgwMzQyOTU2NDYxMzEsLTczLjg0MTUzMzcwMjI2MTg2XSwKICAgICAgICAgICAgICAgIHsKICAiYnViYmxpbmdNb3VzZUV2ZW50cyI6IHRydWUsCiAgImNvbG9yIjogIiM4MGZmYjQiLAogICJkYXNoQXJyYXkiOiBudWxsLAogICJkYXNoT2Zmc2V0IjogbnVsbCwKICAiZmlsbCI6IHRydWUsCiAgImZpbGxDb2xvciI6ICIjODBmZmI0IiwKICAiZmlsbE9wYWNpdHkiOiAwLjcsCiAgImZpbGxSdWxlIjogImV2ZW5vZGQiLAogICJsaW5lQ2FwIjogInJvdW5kIiwKICAibGluZUpvaW4iOiAicm91bmQiLAogICJvcGFjaXR5IjogMS4wLAogICJyYWRpdXMiOiA1LAogICJzdHJva2UiOiB0cnVlLAogICJ3ZWlnaHQiOiAzCn0KICAgICAgICAgICAgICAgICkuYWRkVG8obWFwXzcxYWFkYTliNjRlOTRmYThhYWNmY2Q3Yzc4MmViNTYxKTsKICAgICAgICAgICAgCiAgICAKICAgICAgICAgICAgdmFyIHBvcHVwX2RjOTc4YzRkN2JlNzQxNmFiZGE2N2M3ZTliMjdiNmUwID0gTC5wb3B1cCh7bWF4V2lkdGg6ICczMDAnfSk7CgogICAgICAgICAgICAKICAgICAgICAgICAgICAgIHZhciBodG1sXzEzMTZmOTNhZjcwZjQwNTFiMWExNDNiZmI1YWEzZjg0ID0gJCgnPGRpdiBpZD0iaHRtbF8xMzE2ZjkzYWY3MGY0MDUxYjFhMTQzYmZiNWFhM2Y4NCIgc3R5bGU9IndpZHRoOiAxMDAuMCU7IGhlaWdodDogMTAwLjAlOyI+Um9ja2F3YXkgUGFyayBDbHVzdGVyIDM8L2Rpdj4nKVswXTsKICAgICAgICAgICAgICAgIHBvcHVwX2RjOTc4YzRkN2JlNzQxNmFiZGE2N2M3ZTliMjdiNmUwLnNldENvbnRlbnQoaHRtbF8xMzE2ZjkzYWY3MGY0MDUxYjFhMTQzYmZiNWFhM2Y4NCk7CiAgICAgICAgICAgIAoKICAgICAgICAgICAgY2lyY2xlX21hcmtlcl8xZDZiY2M0ZmUwNDA0NzJiOTM2MGZkODIyNzlmZDAzNy5iaW5kUG9wdXAocG9wdXBfZGM5NzhjNGQ3YmU3NDE2YWJkYTY3YzdlOWIyN2I2ZTApOwoKICAgICAgICAgICAgCiAgICAgICAgCiAgICAKICAgICAgICAgICAgdmFyIGNpcmNsZV9tYXJrZXJfNzkzZGI0NzNkNzVhNGMzYWE0NjU4N2RlYzc3NGRlNTkgPSBMLmNpcmNsZU1hcmtlcigKICAgICAgICAgICAgICAgIFs0MC41OTc3MTA2MTU2NTc2OCwtNzMuNzk2NjQ3NTA4NDQwNDddLAogICAgICAgICAgICAgICAgewogICJidWJibGluZ01vdXNlRXZlbnRzIjogdHJ1ZSwKICAiY29sb3IiOiAiI2ZmMDAwMCIsCiAgImRhc2hBcnJheSI6IG51bGwsCiAgImRhc2hPZmZzZXQiOiBudWxsLAogICJmaWxsIjogdHJ1ZSwKICAiZmlsbENvbG9yIjogIiNmZjAwMDAiLAogICJmaWxsT3BhY2l0eSI6IDAuNywKICAiZmlsbFJ1bGUiOiAiZXZlbm9kZCIsCiAgImxpbmVDYXAiOiAicm91bmQiLAogICJsaW5lSm9pbiI6ICJyb3VuZCIsCiAgIm9wYWNpdHkiOiAxLjAsCiAgInJhZGl1cyI6IDUsCiAgInN0cm9rZSI6IHRydWUsCiAgIndlaWdodCI6IDMKfQogICAgICAgICAgICAgICAgKS5hZGRUbyhtYXBfNzFhYWRhOWI2NGU5NGZhOGFhY2ZjZDdjNzgyZWI1NjEpOwogICAgICAgICAgICAKICAgIAogICAgICAgICAgICB2YXIgcG9wdXBfMmRhMjI5M2JlMTU4NGJiOGIzY2MwNzE0ZmM3ODUxZGIgPSBMLnBvcHVwKHttYXhXaWR0aDogJzMwMCd9KTsKCiAgICAgICAgICAgIAogICAgICAgICAgICAgICAgdmFyIGh0bWxfNmFiMTUyNzM2NWM4NGI5NGFhNWMyMGUwOTgzY2M2NzQgPSAkKCc8ZGl2IGlkPSJodG1sXzZhYjE1MjczNjVjODRiOTRhYTVjMjBlMDk4M2NjNjc0IiBzdHlsZT0id2lkdGg6IDEwMC4wJTsgaGVpZ2h0OiAxMDAuMCU7Ij5Tb21lcnZpbGxlIENsdXN0ZXIgMDwvZGl2PicpWzBdOwogICAgICAgICAgICAgICAgcG9wdXBfMmRhMjI5M2JlMTU4NGJiOGIzY2MwNzE0ZmM3ODUxZGIuc2V0Q29udGVudChodG1sXzZhYjE1MjczNjVjODRiOTRhYTVjMjBlMDk4M2NjNjc0KTsKICAgICAgICAgICAgCgogICAgICAgICAgICBjaXJjbGVfbWFya2VyXzc5M2RiNDczZDc1YTRjM2FhNDY1ODdkZWM3NzRkZTU5LmJpbmRQb3B1cChwb3B1cF8yZGEyMjkzYmUxNTg0YmI4YjNjYzA3MTRmYzc4NTFkYik7CgogICAgICAgICAgICAKICAgICAgICAKICAgIAogICAgICAgICAgICB2YXIgY2lyY2xlX21hcmtlcl8xN2NhZTg2NDI2ZGQ0OWNjYjkwOWEwOWQ0NGU3YjllMCA9IEwuY2lyY2xlTWFya2VyKAogICAgICAgICAgICAgICAgWzQwLjY2MDAwMzIyNzMzNjEzLC03My43NTE3NTMxMDczMTE1M10sCiAgICAgICAgICAgICAgICB7CiAgImJ1YmJsaW5nTW91c2VFdmVudHMiOiB0cnVlLAogICJjb2xvciI6ICIjZmYwMDAwIiwKICAiZGFzaEFycmF5IjogbnVsbCwKICAiZGFzaE9mZnNldCI6IG51bGwsCiAgImZpbGwiOiB0cnVlLAogICJmaWxsQ29sb3IiOiAiI2ZmMDAwMCIsCiAgImZpbGxPcGFjaXR5IjogMC43LAogICJmaWxsUnVsZSI6ICJldmVub2RkIiwKICAibGluZUNhcCI6ICJyb3VuZCIsCiAgImxpbmVKb2luIjogInJvdW5kIiwKICAib3BhY2l0eSI6IDEuMCwKICAicmFkaXVzIjogNSwKICAic3Ryb2tlIjogdHJ1ZSwKICAid2VpZ2h0IjogMwp9CiAgICAgICAgICAgICAgICApLmFkZFRvKG1hcF83MWFhZGE5YjY0ZTk0ZmE4YWFjZmNkN2M3ODJlYjU2MSk7CiAgICAgICAgICAgIAogICAgCiAgICAgICAgICAgIHZhciBwb3B1cF9mMjY3YmM0N2Q2YmQ0NTVhYjNiMGJhNDRmYzRlMmZjMCA9IEwucG9wdXAoe21heFdpZHRoOiAnMzAwJ30pOwoKICAgICAgICAgICAgCiAgICAgICAgICAgICAgICB2YXIgaHRtbF84Y2EwMDk3YjBhNTg0ODY1YjJkOWQ2OGJjMTNiNjZhMCA9ICQoJzxkaXYgaWQ9Imh0bWxfOGNhMDA5N2IwYTU4NDg2NWIyZDlkNjhiYzEzYjY2YTAiIHN0eWxlPSJ3aWR0aDogMTAwLjAlOyBoZWlnaHQ6IDEwMC4wJTsiPkJyb29rdmlsbGUgQ2x1c3RlciAwPC9kaXY+JylbMF07CiAgICAgICAgICAgICAgICBwb3B1cF9mMjY3YmM0N2Q2YmQ0NTVhYjNiMGJhNDRmYzRlMmZjMC5zZXRDb250ZW50KGh0bWxfOGNhMDA5N2IwYTU4NDg2NWIyZDlkNjhiYzEzYjY2YTApOwogICAgICAgICAgICAKCiAgICAgICAgICAgIGNpcmNsZV9tYXJrZXJfMTdjYWU4NjQyNmRkNDljY2I5MDlhMDlkNDRlN2I5ZTAuYmluZFBvcHVwKHBvcHVwX2YyNjdiYzQ3ZDZiZDQ1NWFiM2IwYmE0NGZjNGUyZmMwKTsKCiAgICAgICAgICAgIAogICAgICAgIAogICAgCiAgICAgICAgICAgIHZhciBjaXJjbGVfbWFya2VyXzJmNWE1NTBmZDQ1MzRmNGViNjVhNTIyNTJmNmQ4Nzc2ID0gTC5jaXJjbGVNYXJrZXIoCiAgICAgICAgICAgICAgICBbNDAuNzMzMDE0MDQwMjc4MzQsLTczLjczODg5MTk4OTEyNDgxXSwKICAgICAgICAgICAgICAgIHsKICAiYnViYmxpbmdNb3VzZUV2ZW50cyI6IHRydWUsCiAgImNvbG9yIjogIiNmZjAwMDAiLAogICJkYXNoQXJyYXkiOiBudWxsLAogICJkYXNoT2Zmc2V0IjogbnVsbCwKICAiZmlsbCI6IHRydWUsCiAgImZpbGxDb2xvciI6ICIjZmYwMDAwIiwKICAiZmlsbE9wYWNpdHkiOiAwLjcsCiAgImZpbGxSdWxlIjogImV2ZW5vZGQiLAogICJsaW5lQ2FwIjogInJvdW5kIiwKICAibGluZUpvaW4iOiAicm91bmQiLAogICJvcGFjaXR5IjogMS4wLAogICJyYWRpdXMiOiA1LAogICJzdHJva2UiOiB0cnVlLAogICJ3ZWlnaHQiOiAzCn0KICAgICAgICAgICAgICAgICkuYWRkVG8obWFwXzcxYWFkYTliNjRlOTRmYThhYWNmY2Q3Yzc4MmViNTYxKTsKICAgICAgICAgICAgCiAgICAKICAgICAgICAgICAgdmFyIHBvcHVwXzNmYzJiOGY4YWFjYzRhZmE4YmVmM2I2MWJkOWU2MmYzID0gTC5wb3B1cCh7bWF4V2lkdGg6ICczMDAnfSk7CgogICAgICAgICAgICAKICAgICAgICAgICAgICAgIHZhciBodG1sXzhjNDQxMGU2ZTc3OTRkMWZhZTlmODAzZDJhMTg5ZWRjID0gJCgnPGRpdiBpZD0iaHRtbF84YzQ0MTBlNmU3Nzk0ZDFmYWU5ZjgwM2QyYTE4OWVkYyIgc3R5bGU9IndpZHRoOiAxMDAuMCU7IGhlaWdodDogMTAwLjAlOyI+QmVsbGFpcmUgQ2x1c3RlciAwPC9kaXY+JylbMF07CiAgICAgICAgICAgICAgICBwb3B1cF8zZmMyYjhmOGFhY2M0YWZhOGJlZjNiNjFiZDllNjJmMy5zZXRDb250ZW50KGh0bWxfOGM0NDEwZTZlNzc5NGQxZmFlOWY4MDNkMmExODllZGMpOwogICAgICAgICAgICAKCiAgICAgICAgICAgIGNpcmNsZV9tYXJrZXJfMmY1YTU1MGZkNDUzNGY0ZWI2NWE1MjI1MmY2ZDg3NzYuYmluZFBvcHVwKHBvcHVwXzNmYzJiOGY4YWFjYzRhZmE4YmVmM2I2MWJkOWU2MmYzKTsKCiAgICAgICAgICAgIAogICAgICAgIAogICAgCiAgICAgICAgICAgIHZhciBjaXJjbGVfbWFya2VyX2EzYTgzODVhODFjNDRhMWVhYTc3MGNmY2MyNGM3NmE4ID0gTC5jaXJjbGVNYXJrZXIoCiAgICAgICAgICAgICAgICBbNDAuNzU0MDcwOTk5MDQ4OSwtNzMuODU3NTE3OTA2NzY0NDddLAogICAgICAgICAgICAgICAgewogICJidWJibGluZ01vdXNlRXZlbnRzIjogdHJ1ZSwKICAiY29sb3IiOiAiI2ZmMDAwMCIsCiAgImRhc2hBcnJheSI6IG51bGwsCiAgImRhc2hPZmZzZXQiOiBudWxsLAogICJmaWxsIjogdHJ1ZSwKICAiZmlsbENvbG9yIjogIiNmZjAwMDAiLAogICJmaWxsT3BhY2l0eSI6IDAuNywKICAiZmlsbFJ1bGUiOiAiZXZlbm9kZCIsCiAgImxpbmVDYXAiOiAicm91bmQiLAogICJsaW5lSm9pbiI6ICJyb3VuZCIsCiAgIm9wYWNpdHkiOiAxLjAsCiAgInJhZGl1cyI6IDUsCiAgInN0cm9rZSI6IHRydWUsCiAgIndlaWdodCI6IDMKfQogICAgICAgICAgICAgICAgKS5hZGRUbyhtYXBfNzFhYWRhOWI2NGU5NGZhOGFhY2ZjZDdjNzgyZWI1NjEpOwogICAgICAgICAgICAKICAgIAogICAgICAgICAgICB2YXIgcG9wdXBfODRiZjk4MmU3YTkyNDBmN2JjNjAwZjk5ODMyZDQ2MDIgPSBMLnBvcHVwKHttYXhXaWR0aDogJzMwMCd9KTsKCiAgICAgICAgICAgIAogICAgICAgICAgICAgICAgdmFyIGh0bWxfM2I3MTAwOWUwYTlhNDkzOTgyNzY3YzMzNjY4NmM0OGMgPSAkKCc8ZGl2IGlkPSJodG1sXzNiNzEwMDllMGE5YTQ5Mzk4Mjc2N2MzMzY2ODZjNDhjIiBzdHlsZT0id2lkdGg6IDEwMC4wJTsgaGVpZ2h0OiAxMDAuMCU7Ij5Ob3J0aCBDb3JvbmEgQ2x1c3RlciAwPC9kaXY+JylbMF07CiAgICAgICAgICAgICAgICBwb3B1cF84NGJmOTgyZTdhOTI0MGY3YmM2MDBmOTk4MzJkNDYwMi5zZXRDb250ZW50KGh0bWxfM2I3MTAwOWUwYTlhNDkzOTgyNzY3YzMzNjY4NmM0OGMpOwogICAgICAgICAgICAKCiAgICAgICAgICAgIGNpcmNsZV9tYXJrZXJfYTNhODM4NWE4MWM0NGExZWFhNzcwY2ZjYzI0Yzc2YTguYmluZFBvcHVwKHBvcHVwXzg0YmY5ODJlN2E5MjQwZjdiYzYwMGY5OTgzMmQ0NjAyKTsKCiAgICAgICAgICAgIAogICAgICAgIAogICAgCiAgICAgICAgICAgIHZhciBjaXJjbGVfbWFya2VyXzk4ZjQxNDlmMTdkNTQ4ZmM5NzM3NjRmZGU2NjZkNmY5ID0gTC5jaXJjbGVNYXJrZXIoCiAgICAgICAgICAgICAgICBbNDAuNzE0NjExMDgxNTExNywtNzMuODQxMDIyMTEyMzQwMV0sCiAgICAgICAgICAgICAgICB7CiAgImJ1YmJsaW5nTW91c2VFdmVudHMiOiB0cnVlLAogICJjb2xvciI6ICIjZmYwMDAwIiwKICAiZGFzaEFycmF5IjogbnVsbCwKICAiZGFzaE9mZnNldCI6IG51bGwsCiAgImZpbGwiOiB0cnVlLAogICJmaWxsQ29sb3IiOiAiI2ZmMDAwMCIsCiAgImZpbGxPcGFjaXR5IjogMC43LAogICJmaWxsUnVsZSI6ICJldmVub2RkIiwKICAibGluZUNhcCI6ICJyb3VuZCIsCiAgImxpbmVKb2luIjogInJvdW5kIiwKICAib3BhY2l0eSI6IDEuMCwKICAicmFkaXVzIjogNSwKICAic3Ryb2tlIjogdHJ1ZSwKICAid2VpZ2h0IjogMwp9CiAgICAgICAgICAgICAgICApLmFkZFRvKG1hcF83MWFhZGE5YjY0ZTk0ZmE4YWFjZmNkN2M3ODJlYjU2MSk7CiAgICAgICAgICAgIAogICAgCiAgICAgICAgICAgIHZhciBwb3B1cF80Y2YxMGFlYTM0ZWQ0NmMxYTc2NmNjYzdkMzhhOTk1ZCA9IEwucG9wdXAoe21heFdpZHRoOiAnMzAwJ30pOwoKICAgICAgICAgICAgCiAgICAgICAgICAgICAgICB2YXIgaHRtbF85Y2U3MDIwMTY5YjM0MjcxOGY2MWIxZDIzNjlkNWY3YyA9ICQoJzxkaXYgaWQ9Imh0bWxfOWNlNzAyMDE2OWIzNDI3MThmNjFiMWQyMzY5ZDVmN2MiIHN0eWxlPSJ3aWR0aDogMTAwLjAlOyBoZWlnaHQ6IDEwMC4wJTsiPkZvcmVzdCBIaWxscyBHYXJkZW5zIENsdXN0ZXIgMDwvZGl2PicpWzBdOwogICAgICAgICAgICAgICAgcG9wdXBfNGNmMTBhZWEzNGVkNDZjMWE3NjZjY2M3ZDM4YTk5NWQuc2V0Q29udGVudChodG1sXzljZTcwMjAxNjliMzQyNzE4ZjYxYjFkMjM2OWQ1ZjdjKTsKICAgICAgICAgICAgCgogICAgICAgICAgICBjaXJjbGVfbWFya2VyXzk4ZjQxNDlmMTdkNTQ4ZmM5NzM3NjRmZGU2NjZkNmY5LmJpbmRQb3B1cChwb3B1cF80Y2YxMGFlYTM0ZWQ0NmMxYTc2NmNjYzdkMzhhOTk1ZCk7CgogICAgICAgICAgICAKICAgICAgICAKICAgIAogICAgICAgICAgICB2YXIgY2lyY2xlX21hcmtlcl8xNGFkYjk2MDBjYTA0NzlmYmExZmRjOGQ0ODM3OWFmZiA9IEwuY2lyY2xlTWFya2VyKAogICAgICAgICAgICAgICAgWzQwLjY0NDk4MTU3MTAwNDQsLTc0LjA3OTM1MzEyNTEyNzk3XSwKICAgICAgICAgICAgICAgIHsKICAiYnViYmxpbmdNb3VzZUV2ZW50cyI6IHRydWUsCiAgImNvbG9yIjogIiM4MDAwZmYiLAogICJkYXNoQXJyYXkiOiBudWxsLAogICJkYXNoT2Zmc2V0IjogbnVsbCwKICAiZmlsbCI6IHRydWUsCiAgImZpbGxDb2xvciI6ICIjODAwMGZmIiwKICAiZmlsbE9wYWNpdHkiOiAwLjcsCiAgImZpbGxSdWxlIjogImV2ZW5vZGQiLAogICJsaW5lQ2FwIjogInJvdW5kIiwKICAibGluZUpvaW4iOiAicm91bmQiLAogICJvcGFjaXR5IjogMS4wLAogICJyYWRpdXMiOiA1LAogICJzdHJva2UiOiB0cnVlLAogICJ3ZWlnaHQiOiAzCn0KICAgICAgICAgICAgICAgICkuYWRkVG8obWFwXzcxYWFkYTliNjRlOTRmYThhYWNmY2Q3Yzc4MmViNTYxKTsKICAgICAgICAgICAgCiAgICAKICAgICAgICAgICAgdmFyIHBvcHVwX2ZmYjY3M2UxNzAxOTQxNTU4NmRhZTdmZWNjYWVmOGVlID0gTC5wb3B1cCh7bWF4V2lkdGg6ICczMDAnfSk7CgogICAgICAgICAgICAKICAgICAgICAgICAgICAgIHZhciBodG1sX2I1ZDllOTMxYWIxNDQ4ZThhYmFjMjdmMzcyOTAxN2MyID0gJCgnPGRpdiBpZD0iaHRtbF9iNWQ5ZTkzMWFiMTQ0OGU4YWJhYzI3ZjM3MjkwMTdjMiIgc3R5bGU9IndpZHRoOiAxMDAuMCU7IGhlaWdodDogMTAwLjAlOyI+U3QuIEdlb3JnZSBDbHVzdGVyIDE8L2Rpdj4nKVswXTsKICAgICAgICAgICAgICAgIHBvcHVwX2ZmYjY3M2UxNzAxOTQxNTU4NmRhZTdmZWNjYWVmOGVlLnNldENvbnRlbnQoaHRtbF9iNWQ5ZTkzMWFiMTQ0OGU4YWJhYzI3ZjM3MjkwMTdjMik7CiAgICAgICAgICAgIAoKICAgICAgICAgICAgY2lyY2xlX21hcmtlcl8xNGFkYjk2MDBjYTA0NzlmYmExZmRjOGQ0ODM3OWFmZi5iaW5kUG9wdXAocG9wdXBfZmZiNjczZTE3MDE5NDE1NTg2ZGFlN2ZlY2NhZWY4ZWUpOwoKICAgICAgICAgICAgCiAgICAgICAgCiAgICAKICAgICAgICAgICAgdmFyIGNpcmNsZV9tYXJrZXJfMmM0NzVmZGI2YTc5NDdjZWI5NzQzNjM3ZDViZjk3NWIgPSBMLmNpcmNsZU1hcmtlcigKICAgICAgICAgICAgICAgIFs0MC42NDA2MTQ1NTkxMzUxMSwtNzQuMDg3MDE2NTA1MTY2MjVdLAogICAgICAgICAgICAgICAgewogICJidWJibGluZ01vdXNlRXZlbnRzIjogdHJ1ZSwKICAiY29sb3IiOiAiIzgwMDBmZiIsCiAgImRhc2hBcnJheSI6IG51bGwsCiAgImRhc2hPZmZzZXQiOiBudWxsLAogICJmaWxsIjogdHJ1ZSwKICAiZmlsbENvbG9yIjogIiM4MDAwZmYiLAogICJmaWxsT3BhY2l0eSI6IDAuNywKICAiZmlsbFJ1bGUiOiAiZXZlbm9kZCIsCiAgImxpbmVDYXAiOiAicm91bmQiLAogICJsaW5lSm9pbiI6ICJyb3VuZCIsCiAgIm9wYWNpdHkiOiAxLjAsCiAgInJhZGl1cyI6IDUsCiAgInN0cm9rZSI6IHRydWUsCiAgIndlaWdodCI6IDMKfQogICAgICAgICAgICAgICAgKS5hZGRUbyhtYXBfNzFhYWRhOWI2NGU5NGZhOGFhY2ZjZDdjNzgyZWI1NjEpOwogICAgICAgICAgICAKICAgIAogICAgICAgICAgICB2YXIgcG9wdXBfNTJmYWE1OTFlODMxNDhmNzk1ZDQ5M2Y2MzRiNmY5OGMgPSBMLnBvcHVwKHttYXhXaWR0aDogJzMwMCd9KTsKCiAgICAgICAgICAgIAogICAgICAgICAgICAgICAgdmFyIGh0bWxfNTU3MDU5NTM1OWMyNGY1YzgxMjJhYjQwM2ZkYjczNjMgPSAkKCc8ZGl2IGlkPSJodG1sXzU1NzA1OTUzNTljMjRmNWM4MTIyYWI0MDNmZGI3MzYzIiBzdHlsZT0id2lkdGg6IDEwMC4wJTsgaGVpZ2h0OiAxMDAuMCU7Ij5OZXcgQnJpZ2h0b24gQ2x1c3RlciAxPC9kaXY+JylbMF07CiAgICAgICAgICAgICAgICBwb3B1cF81MmZhYTU5MWU4MzE0OGY3OTVkNDkzZjYzNGI2Zjk4Yy5zZXRDb250ZW50KGh0bWxfNTU3MDU5NTM1OWMyNGY1YzgxMjJhYjQwM2ZkYjczNjMpOwogICAgICAgICAgICAKCiAgICAgICAgICAgIGNpcmNsZV9tYXJrZXJfMmM0NzVmZGI2YTc5NDdjZWI5NzQzNjM3ZDViZjk3NWIuYmluZFBvcHVwKHBvcHVwXzUyZmFhNTkxZTgzMTQ4Zjc5NWQ0OTNmNjM0YjZmOThjKTsKCiAgICAgICAgICAgIAogICAgICAgIAogICAgCiAgICAgICAgICAgIHZhciBjaXJjbGVfbWFya2VyX2Q4MzlkZDM2ZmI0NjQ3MTY5ZmY2ZTUwMjcyZGEwNGM3ID0gTC5jaXJjbGVNYXJrZXIoCiAgICAgICAgICAgICAgICBbNDAuNjI2OTI3NjI1MzgxNzYsLTc0LjA3NzkwMTkyNjYwMDY2XSwKICAgICAgICAgICAgICAgIHsKICAiYnViYmxpbmdNb3VzZUV2ZW50cyI6IHRydWUsCiAgImNvbG9yIjogIiM4MDAwZmYiLAogICJkYXNoQXJyYXkiOiBudWxsLAogICJkYXNoT2Zmc2V0IjogbnVsbCwKICAiZmlsbCI6IHRydWUsCiAgImZpbGxDb2xvciI6ICIjODAwMGZmIiwKICAiZmlsbE9wYWNpdHkiOiAwLjcsCiAgImZpbGxSdWxlIjogImV2ZW5vZGQiLAogICJsaW5lQ2FwIjogInJvdW5kIiwKICAibGluZUpvaW4iOiAicm91bmQiLAogICJvcGFjaXR5IjogMS4wLAogICJyYWRpdXMiOiA1LAogICJzdHJva2UiOiB0cnVlLAogICJ3ZWlnaHQiOiAzCn0KICAgICAgICAgICAgICAgICkuYWRkVG8obWFwXzcxYWFkYTliNjRlOTRmYThhYWNmY2Q3Yzc4MmViNTYxKTsKICAgICAgICAgICAgCiAgICAKICAgICAgICAgICAgdmFyIHBvcHVwX2FjZTE1OThmY2M5ZjRmNzY5NzgyYjJjZjRhYTg0NWI4ID0gTC5wb3B1cCh7bWF4V2lkdGg6ICczMDAnfSk7CgogICAgICAgICAgICAKICAgICAgICAgICAgICAgIHZhciBodG1sXzYxNmU0MmIwMDEzNTRkOWQ4OGFmYmNmODZhZjVmYTAzID0gJCgnPGRpdiBpZD0iaHRtbF82MTZlNDJiMDAxMzU0ZDlkODhhZmJjZjg2YWY1ZmEwMyIgc3R5bGU9IndpZHRoOiAxMDAuMCU7IGhlaWdodDogMTAwLjAlOyI+U3RhcGxldG9uIENsdXN0ZXIgMTwvZGl2PicpWzBdOwogICAgICAgICAgICAgICAgcG9wdXBfYWNlMTU5OGZjYzlmNGY3Njk3ODJiMmNmNGFhODQ1Yjguc2V0Q29udGVudChodG1sXzYxNmU0MmIwMDEzNTRkOWQ4OGFmYmNmODZhZjVmYTAzKTsKICAgICAgICAgICAgCgogICAgICAgICAgICBjaXJjbGVfbWFya2VyX2Q4MzlkZDM2ZmI0NjQ3MTY5ZmY2ZTUwMjcyZGEwNGM3LmJpbmRQb3B1cChwb3B1cF9hY2UxNTk4ZmNjOWY0Zjc2OTc4MmIyY2Y0YWE4NDViOCk7CgogICAgICAgICAgICAKICAgICAgICAKICAgIAogICAgICAgICAgICB2YXIgY2lyY2xlX21hcmtlcl84NWVkOTBlZGY2NWM0NTFjODg0ZTRiZTY0ZjRiYWQ5NyA9IEwuY2lyY2xlTWFya2VyKAogICAgICAgICAgICAgICAgWzQwLjYxNTMwNDk0NjUyNzYxLC03NC4wNjk4MDUyNjcxNjE0MV0sCiAgICAgICAgICAgICAgICB7CiAgImJ1YmJsaW5nTW91c2VFdmVudHMiOiB0cnVlLAogICJjb2xvciI6ICIjODAwMGZmIiwKICAiZGFzaEFycmF5IjogbnVsbCwKICAiZGFzaE9mZnNldCI6IG51bGwsCiAgImZpbGwiOiB0cnVlLAogICJmaWxsQ29sb3IiOiAiIzgwMDBmZiIsCiAgImZpbGxPcGFjaXR5IjogMC43LAogICJmaWxsUnVsZSI6ICJldmVub2RkIiwKICAibGluZUNhcCI6ICJyb3VuZCIsCiAgImxpbmVKb2luIjogInJvdW5kIiwKICAib3BhY2l0eSI6IDEuMCwKICAicmFkaXVzIjogNSwKICAic3Ryb2tlIjogdHJ1ZSwKICAid2VpZ2h0IjogMwp9CiAgICAgICAgICAgICAgICApLmFkZFRvKG1hcF83MWFhZGE5YjY0ZTk0ZmE4YWFjZmNkN2M3ODJlYjU2MSk7CiAgICAgICAgICAgIAogICAgCiAgICAgICAgICAgIHZhciBwb3B1cF8yNGZmNTUyYmU2NjQ0ZTNkOTgzODQxYTQ4YWEyMWNmOSA9IEwucG9wdXAoe21heFdpZHRoOiAnMzAwJ30pOwoKICAgICAgICAgICAgCiAgICAgICAgICAgICAgICB2YXIgaHRtbF9hNzMxZGMyMTY5MzI0ZmJjODFjNjE1MDJmN2VmNjg5NCA9ICQoJzxkaXYgaWQ9Imh0bWxfYTczMWRjMjE2OTMyNGZiYzgxYzYxNTAyZjdlZjY4OTQiIHN0eWxlPSJ3aWR0aDogMTAwLjAlOyBoZWlnaHQ6IDEwMC4wJTsiPlJvc2ViYW5rIENsdXN0ZXIgMTwvZGl2PicpWzBdOwogICAgICAgICAgICAgICAgcG9wdXBfMjRmZjU1MmJlNjY0NGUzZDk4Mzg0MWE0OGFhMjFjZjkuc2V0Q29udGVudChodG1sX2E3MzFkYzIxNjkzMjRmYmM4MWM2MTUwMmY3ZWY2ODk0KTsKICAgICAgICAgICAgCgogICAgICAgICAgICBjaXJjbGVfbWFya2VyXzg1ZWQ5MGVkZjY1YzQ1MWM4ODRlNGJlNjRmNGJhZDk3LmJpbmRQb3B1cChwb3B1cF8yNGZmNTUyYmU2NjQ0ZTNkOTgzODQxYTQ4YWEyMWNmOSk7CgogICAgICAgICAgICAKICAgICAgICAKICAgIAogICAgICAgICAgICB2YXIgY2lyY2xlX21hcmtlcl9iZjdhOWM5YWZhNTE0NTY5YTM4OWFlMWIzOGE1ZWJlMiA9IEwuY2lyY2xlTWFya2VyKAogICAgICAgICAgICAgICAgWzQwLjYzMTg3ODkyNjU0NjA3LC03NC4xMDcxODE3ODI2NTYxXSwKICAgICAgICAgICAgICAgIHsKICAiYnViYmxpbmdNb3VzZUV2ZW50cyI6IHRydWUsCiAgImNvbG9yIjogIiM4MDAwZmYiLAogICJkYXNoQXJyYXkiOiBudWxsLAogICJkYXNoT2Zmc2V0IjogbnVsbCwKICAiZmlsbCI6IHRydWUsCiAgImZpbGxDb2xvciI6ICIjODAwMGZmIiwKICAiZmlsbE9wYWNpdHkiOiAwLjcsCiAgImZpbGxSdWxlIjogImV2ZW5vZGQiLAogICJsaW5lQ2FwIjogInJvdW5kIiwKICAibGluZUpvaW4iOiAicm91bmQiLAogICJvcGFjaXR5IjogMS4wLAogICJyYWRpdXMiOiA1LAogICJzdHJva2UiOiB0cnVlLAogICJ3ZWlnaHQiOiAzCn0KICAgICAgICAgICAgICAgICkuYWRkVG8obWFwXzcxYWFkYTliNjRlOTRmYThhYWNmY2Q3Yzc4MmViNTYxKTsKICAgICAgICAgICAgCiAgICAKICAgICAgICAgICAgdmFyIHBvcHVwXzAxYTJiMGI4NWYwYTQ0MzZhMjIyODY2MjU1MjkxOTM2ID0gTC5wb3B1cCh7bWF4V2lkdGg6ICczMDAnfSk7CgogICAgICAgICAgICAKICAgICAgICAgICAgICAgIHZhciBodG1sXzZjMWExNDRiYjA2MzQ2NThhZmFkMDljM2QwN2M0OTRkID0gJCgnPGRpdiBpZD0iaHRtbF82YzFhMTQ0YmIwNjM0NjU4YWZhZDA5YzNkMDdjNDk0ZCIgc3R5bGU9IndpZHRoOiAxMDAuMCU7IGhlaWdodDogMTAwLjAlOyI+V2VzdCBCcmlnaHRvbiBDbHVzdGVyIDE8L2Rpdj4nKVswXTsKICAgICAgICAgICAgICAgIHBvcHVwXzAxYTJiMGI4NWYwYTQ0MzZhMjIyODY2MjU1MjkxOTM2LnNldENvbnRlbnQoaHRtbF82YzFhMTQ0YmIwNjM0NjU4YWZhZDA5YzNkMDdjNDk0ZCk7CiAgICAgICAgICAgIAoKICAgICAgICAgICAgY2lyY2xlX21hcmtlcl9iZjdhOWM5YWZhNTE0NTY5YTM4OWFlMWIzOGE1ZWJlMi5iaW5kUG9wdXAocG9wdXBfMDFhMmIwYjg1ZjBhNDQzNmEyMjI4NjYyNTUyOTE5MzYpOwoKICAgICAgICAgICAgCiAgICAgICAgCiAgICAKICAgICAgICAgICAgdmFyIGNpcmNsZV9tYXJrZXJfOGRhNThkNjhkMDE0NDZkZTgyN2JkNTA3Nzk1MTNjYTkgPSBMLmNpcmNsZU1hcmtlcigKICAgICAgICAgICAgICAgIFs0MC42MjQxODQ3OTEzMTMwMDYsLTc0LjA4NzI0ODE5OTgzNzI5XSwKICAgICAgICAgICAgICAgIHsKICAiYnViYmxpbmdNb3VzZUV2ZW50cyI6IHRydWUsCiAgImNvbG9yIjogIiM4MDAwZmYiLAogICJkYXNoQXJyYXkiOiBudWxsLAogICJkYXNoT2Zmc2V0IjogbnVsbCwKICAiZmlsbCI6IHRydWUsCiAgImZpbGxDb2xvciI6ICIjODAwMGZmIiwKICAiZmlsbE9wYWNpdHkiOiAwLjcsCiAgImZpbGxSdWxlIjogImV2ZW5vZGQiLAogICJsaW5lQ2FwIjogInJvdW5kIiwKICAibGluZUpvaW4iOiAicm91bmQiLAogICJvcGFjaXR5IjogMS4wLAogICJyYWRpdXMiOiA1LAogICJzdHJva2UiOiB0cnVlLAogICJ3ZWlnaHQiOiAzCn0KICAgICAgICAgICAgICAgICkuYWRkVG8obWFwXzcxYWFkYTliNjRlOTRmYThhYWNmY2Q3Yzc4MmViNTYxKTsKICAgICAgICAgICAgCiAgICAKICAgICAgICAgICAgdmFyIHBvcHVwXzhjMGZhZjFkZDgyYzRiN2Q5YjNiMTZhZDQxZTdjYWE2ID0gTC5wb3B1cCh7bWF4V2lkdGg6ICczMDAnfSk7CgogICAgICAgICAgICAKICAgICAgICAgICAgICAgIHZhciBodG1sXzZkNWVmZWU1MzhjMTQwOGFhYmQwYWFmNmExNjZmNWM4ID0gJCgnPGRpdiBpZD0iaHRtbF82ZDVlZmVlNTM4YzE0MDhhYWJkMGFhZjZhMTY2ZjVjOCIgc3R5bGU9IndpZHRoOiAxMDAuMCU7IGhlaWdodDogMTAwLjAlOyI+R3J5bWVzIEhpbGwgQ2x1c3RlciAxPC9kaXY+JylbMF07CiAgICAgICAgICAgICAgICBwb3B1cF84YzBmYWYxZGQ4MmM0YjdkOWIzYjE2YWQ0MWU3Y2FhNi5zZXRDb250ZW50KGh0bWxfNmQ1ZWZlZTUzOGMxNDA4YWFiZDBhYWY2YTE2NmY1YzgpOwogICAgICAgICAgICAKCiAgICAgICAgICAgIGNpcmNsZV9tYXJrZXJfOGRhNThkNjhkMDE0NDZkZTgyN2JkNTA3Nzk1MTNjYTkuYmluZFBvcHVwKHBvcHVwXzhjMGZhZjFkZDgyYzRiN2Q5YjNiMTZhZDQxZTdjYWE2KTsKCiAgICAgICAgICAgIAogICAgICAgIAogICAgCiAgICAgICAgICAgIHZhciBjaXJjbGVfbWFya2VyX2Q2ZWExY2NmYmUwYzQ2NTZhNDY4NTczYzdjNTlmMzRiID0gTC5jaXJjbGVNYXJrZXIoCiAgICAgICAgICAgICAgICBbNDAuNTk3MDY4NTE4MTQ2NzMsLTc0LjExMTMyODgxODAwODhdLAogICAgICAgICAgICAgICAgewogICJidWJibGluZ01vdXNlRXZlbnRzIjogdHJ1ZSwKICAiY29sb3IiOiAiIzgwMDBmZiIsCiAgImRhc2hBcnJheSI6IG51bGwsCiAgImRhc2hPZmZzZXQiOiBudWxsLAogICJmaWxsIjogdHJ1ZSwKICAiZmlsbENvbG9yIjogIiM4MDAwZmYiLAogICJmaWxsT3BhY2l0eSI6IDAuNywKICAiZmlsbFJ1bGUiOiAiZXZlbm9kZCIsCiAgImxpbmVDYXAiOiAicm91bmQiLAogICJsaW5lSm9pbiI6ICJyb3VuZCIsCiAgIm9wYWNpdHkiOiAxLjAsCiAgInJhZGl1cyI6IDUsCiAgInN0cm9rZSI6IHRydWUsCiAgIndlaWdodCI6IDMKfQogICAgICAgICAgICAgICAgKS5hZGRUbyhtYXBfNzFhYWRhOWI2NGU5NGZhOGFhY2ZjZDdjNzgyZWI1NjEpOwogICAgICAgICAgICAKICAgIAogICAgICAgICAgICB2YXIgcG9wdXBfMjM2NjgwODI5YWMzNDUwZmI1OTkzYzUxYTNiODlkMjkgPSBMLnBvcHVwKHttYXhXaWR0aDogJzMwMCd9KTsKCiAgICAgICAgICAgIAogICAgICAgICAgICAgICAgdmFyIGh0bWxfMmU4ODM1Yjk2NDdjNDcxYmE3Nzk5NzJjMDRhY2M5NDkgPSAkKCc8ZGl2IGlkPSJodG1sXzJlODgzNWI5NjQ3YzQ3MWJhNzc5OTcyYzA0YWNjOTQ5IiBzdHlsZT0id2lkdGg6IDEwMC4wJTsgaGVpZ2h0OiAxMDAuMCU7Ij5Ub2R0IEhpbGwgQ2x1c3RlciAxPC9kaXY+JylbMF07CiAgICAgICAgICAgICAgICBwb3B1cF8yMzY2ODA4MjlhYzM0NTBmYjU5OTNjNTFhM2I4OWQyOS5zZXRDb250ZW50KGh0bWxfMmU4ODM1Yjk2NDdjNDcxYmE3Nzk5NzJjMDRhY2M5NDkpOwogICAgICAgICAgICAKCiAgICAgICAgICAgIGNpcmNsZV9tYXJrZXJfZDZlYTFjY2ZiZTBjNDY1NmE0Njg1NzNjN2M1OWYzNGIuYmluZFBvcHVwKHBvcHVwXzIzNjY4MDgyOWFjMzQ1MGZiNTk5M2M1MWEzYjg5ZDI5KTsKCiAgICAgICAgICAgIAogICAgICAgIAogICAgCiAgICAgICAgICAgIHZhciBjaXJjbGVfbWFya2VyXzg0M2Y3YWRlYWUwNzRhZjZhZDE5YmYzOTlmOWI5MzU2ID0gTC5jaXJjbGVNYXJrZXIoCiAgICAgICAgICAgICAgICBbNDAuNTgwMjQ3NDEzNTA5NTYsLTc0LjA3OTU1MjkyNTM5ODJdLAogICAgICAgICAgICAgICAgewogICJidWJibGluZ01vdXNlRXZlbnRzIjogdHJ1ZSwKICAiY29sb3IiOiAiIzgwMDBmZiIsCiAgImRhc2hBcnJheSI6IG51bGwsCiAgImRhc2hPZmZzZXQiOiBudWxsLAogICJmaWxsIjogdHJ1ZSwKICAiZmlsbENvbG9yIjogIiM4MDAwZmYiLAogICJmaWxsT3BhY2l0eSI6IDAuNywKICAiZmlsbFJ1bGUiOiAiZXZlbm9kZCIsCiAgImxpbmVDYXAiOiAicm91bmQiLAogICJsaW5lSm9pbiI6ICJyb3VuZCIsCiAgIm9wYWNpdHkiOiAxLjAsCiAgInJhZGl1cyI6IDUsCiAgInN0cm9rZSI6IHRydWUsCiAgIndlaWdodCI6IDMKfQogICAgICAgICAgICAgICAgKS5hZGRUbyhtYXBfNzFhYWRhOWI2NGU5NGZhOGFhY2ZjZDdjNzgyZWI1NjEpOwogICAgICAgICAgICAKICAgIAogICAgICAgICAgICB2YXIgcG9wdXBfMjg3YjRkNGY2YzJlNDM1MDhjODJjMGZhNDBiNmE4YzQgPSBMLnBvcHVwKHttYXhXaWR0aDogJzMwMCd9KTsKCiAgICAgICAgICAgIAogICAgICAgICAgICAgICAgdmFyIGh0bWxfMjlkMmUzNGQ4ZDI1NDBhMGE0OTRiNTUzNTg1Yzc5YmMgPSAkKCc8ZGl2IGlkPSJodG1sXzI5ZDJlMzRkOGQyNTQwYTBhNDk0YjU1MzU4NWM3OWJjIiBzdHlsZT0id2lkdGg6IDEwMC4wJTsgaGVpZ2h0OiAxMDAuMCU7Ij5Tb3V0aCBCZWFjaCBDbHVzdGVyIDE8L2Rpdj4nKVswXTsKICAgICAgICAgICAgICAgIHBvcHVwXzI4N2I0ZDRmNmMyZTQzNTA4YzgyYzBmYTQwYjZhOGM0LnNldENvbnRlbnQoaHRtbF8yOWQyZTM0ZDhkMjU0MGEwYTQ5NGI1NTM1ODVjNzliYyk7CiAgICAgICAgICAgIAoKICAgICAgICAgICAgY2lyY2xlX21hcmtlcl84NDNmN2FkZWFlMDc0YWY2YWQxOWJmMzk5ZjliOTM1Ni5iaW5kUG9wdXAocG9wdXBfMjg3YjRkNGY2YzJlNDM1MDhjODJjMGZhNDBiNmE4YzQpOwoKICAgICAgICAgICAgCiAgICAgICAgCiAgICAKICAgICAgICAgICAgdmFyIGNpcmNsZV9tYXJrZXJfZjJkZGEwZGRkZDM1NDlkOGE1ZDQyMTlkYzlmNjhkN2UgPSBMLmNpcmNsZU1hcmtlcigKICAgICAgICAgICAgICAgIFs0MC42MzM2NjkzMDU1NDM2NSwtNzQuMTI5NDM0MjY3OTcwMDhdLAogICAgICAgICAgICAgICAgewogICJidWJibGluZ01vdXNlRXZlbnRzIjogdHJ1ZSwKICAiY29sb3IiOiAiIzgwMDBmZiIsCiAgImRhc2hBcnJheSI6IG51bGwsCiAgImRhc2hPZmZzZXQiOiBudWxsLAogICJmaWxsIjogdHJ1ZSwKICAiZmlsbENvbG9yIjogIiM4MDAwZmYiLAogICJmaWxsT3BhY2l0eSI6IDAuNywKICAiZmlsbFJ1bGUiOiAiZXZlbm9kZCIsCiAgImxpbmVDYXAiOiAicm91bmQiLAogICJsaW5lSm9pbiI6ICJyb3VuZCIsCiAgIm9wYWNpdHkiOiAxLjAsCiAgInJhZGl1cyI6IDUsCiAgInN0cm9rZSI6IHRydWUsCiAgIndlaWdodCI6IDMKfQogICAgICAgICAgICAgICAgKS5hZGRUbyhtYXBfNzFhYWRhOWI2NGU5NGZhOGFhY2ZjZDdjNzgyZWI1NjEpOwogICAgICAgICAgICAKICAgIAogICAgICAgICAgICB2YXIgcG9wdXBfMmNkMjA3YTExMWUyNDg0YmEyMzVjZmZjZjMyNTY2YmYgPSBMLnBvcHVwKHttYXhXaWR0aDogJzMwMCd9KTsKCiAgICAgICAgICAgIAogICAgICAgICAgICAgICAgdmFyIGh0bWxfMzBmNDIxZjQyZWUyNGQwYjg3MTIzZDJhMzZjOWZlOTQgPSAkKCc8ZGl2IGlkPSJodG1sXzMwZjQyMWY0MmVlMjRkMGI4NzEyM2QyYTM2YzlmZTk0IiBzdHlsZT0id2lkdGg6IDEwMC4wJTsgaGVpZ2h0OiAxMDAuMCU7Ij5Qb3J0IFJpY2htb25kIENsdXN0ZXIgMTwvZGl2PicpWzBdOwogICAgICAgICAgICAgICAgcG9wdXBfMmNkMjA3YTExMWUyNDg0YmEyMzVjZmZjZjMyNTY2YmYuc2V0Q29udGVudChodG1sXzMwZjQyMWY0MmVlMjRkMGI4NzEyM2QyYTM2YzlmZTk0KTsKICAgICAgICAgICAgCgogICAgICAgICAgICBjaXJjbGVfbWFya2VyX2YyZGRhMGRkZGQzNTQ5ZDhhNWQ0MjE5ZGM5ZjY4ZDdlLmJpbmRQb3B1cChwb3B1cF8yY2QyMDdhMTExZTI0ODRiYTIzNWNmZmNmMzI1NjZiZik7CgogICAgICAgICAgICAKICAgICAgICAKICAgIAogICAgICAgICAgICB2YXIgY2lyY2xlX21hcmtlcl9lN2FjN2Q2NGFkNWQ0NmRlOGNjZjJjZGNiMGFmMmQ2NSA9IEwuY2lyY2xlTWFya2VyKAogICAgICAgICAgICAgICAgWzQwLjYzMjU0NjM5MDQ4MTEyNCwtNzQuMTUwMDg1MzcwNDY5ODFdLAogICAgICAgICAgICAgICAgewogICJidWJibGluZ01vdXNlRXZlbnRzIjogdHJ1ZSwKICAiY29sb3IiOiAiIzgwMDBmZiIsCiAgImRhc2hBcnJheSI6IG51bGwsCiAgImRhc2hPZmZzZXQiOiBudWxsLAogICJmaWxsIjogdHJ1ZSwKICAiZmlsbENvbG9yIjogIiM4MDAwZmYiLAogICJmaWxsT3BhY2l0eSI6IDAuNywKICAiZmlsbFJ1bGUiOiAiZXZlbm9kZCIsCiAgImxpbmVDYXAiOiAicm91bmQiLAogICJsaW5lSm9pbiI6ICJyb3VuZCIsCiAgIm9wYWNpdHkiOiAxLjAsCiAgInJhZGl1cyI6IDUsCiAgInN0cm9rZSI6IHRydWUsCiAgIndlaWdodCI6IDMKfQogICAgICAgICAgICAgICAgKS5hZGRUbyhtYXBfNzFhYWRhOWI2NGU5NGZhOGFhY2ZjZDdjNzgyZWI1NjEpOwogICAgICAgICAgICAKICAgIAogICAgICAgICAgICB2YXIgcG9wdXBfMGU1YTk0ODA2NDRlNDA2MzgwMjNiMTU5YTMwYmEyNjMgPSBMLnBvcHVwKHttYXhXaWR0aDogJzMwMCd9KTsKCiAgICAgICAgICAgIAogICAgICAgICAgICAgICAgdmFyIGh0bWxfZTQ5NjdmNTI3MGE3NDRhNzhhYjRhOGJjMGY5M2YyYjggPSAkKCc8ZGl2IGlkPSJodG1sX2U0OTY3ZjUyNzBhNzQ0YTc4YWI0YThiYzBmOTNmMmI4IiBzdHlsZT0id2lkdGg6IDEwMC4wJTsgaGVpZ2h0OiAxMDAuMCU7Ij5NYXJpbmVyJiMzOTtzIEhhcmJvciBDbHVzdGVyIDE8L2Rpdj4nKVswXTsKICAgICAgICAgICAgICAgIHBvcHVwXzBlNWE5NDgwNjQ0ZTQwNjM4MDIzYjE1OWEzMGJhMjYzLnNldENvbnRlbnQoaHRtbF9lNDk2N2Y1MjcwYTc0NGE3OGFiNGE4YmMwZjkzZjJiOCk7CiAgICAgICAgICAgIAoKICAgICAgICAgICAgY2lyY2xlX21hcmtlcl9lN2FjN2Q2NGFkNWQ0NmRlOGNjZjJjZGNiMGFmMmQ2NS5iaW5kUG9wdXAocG9wdXBfMGU1YTk0ODA2NDRlNDA2MzgwMjNiMTU5YTMwYmEyNjMpOwoKICAgICAgICAgICAgCiAgICAgICAgCiAgICAKICAgICAgICAgICAgdmFyIGNpcmNsZV9tYXJrZXJfNzU3MTk1M2NiODM1NDJlZDg5YmUwYzcyZDg0NzU0YTUgPSBMLmNpcmNsZU1hcmtlcigKICAgICAgICAgICAgICAgIFs0MC42Mzk2ODI5Nzg0NTU0MiwtNzQuMTc0NjQ1MzI5OTM1NDJdLAogICAgICAgICAgICAgICAgewogICJidWJibGluZ01vdXNlRXZlbnRzIjogdHJ1ZSwKICAiY29sb3IiOiAiIzgwMDBmZiIsCiAgImRhc2hBcnJheSI6IG51bGwsCiAgImRhc2hPZmZzZXQiOiBudWxsLAogICJmaWxsIjogdHJ1ZSwKICAiZmlsbENvbG9yIjogIiM4MDAwZmYiLAogICJmaWxsT3BhY2l0eSI6IDAuNywKICAiZmlsbFJ1bGUiOiAiZXZlbm9kZCIsCiAgImxpbmVDYXAiOiAicm91bmQiLAogICJsaW5lSm9pbiI6ICJyb3VuZCIsCiAgIm9wYWNpdHkiOiAxLjAsCiAgInJhZGl1cyI6IDUsCiAgInN0cm9rZSI6IHRydWUsCiAgIndlaWdodCI6IDMKfQogICAgICAgICAgICAgICAgKS5hZGRUbyhtYXBfNzFhYWRhOWI2NGU5NGZhOGFhY2ZjZDdjNzgyZWI1NjEpOwogICAgICAgICAgICAKICAgIAogICAgICAgICAgICB2YXIgcG9wdXBfZjJiODMyZDkzYTQ2NDFkM2JmNjc5YmI0M2ZlNjczZTYgPSBMLnBvcHVwKHttYXhXaWR0aDogJzMwMCd9KTsKCiAgICAgICAgICAgIAogICAgICAgICAgICAgICAgdmFyIGh0bWxfYjRiMTczMGVjM2M5NGY3ODgyOWRjYzQ3MjQ4NGVlZTkgPSAkKCc8ZGl2IGlkPSJodG1sX2I0YjE3MzBlYzNjOTRmNzg4MjlkY2M0NzI0ODRlZWU5IiBzdHlsZT0id2lkdGg6IDEwMC4wJTsgaGVpZ2h0OiAxMDAuMCU7Ij5Qb3J0IEl2b3J5IENsdXN0ZXIgMTwvZGl2PicpWzBdOwogICAgICAgICAgICAgICAgcG9wdXBfZjJiODMyZDkzYTQ2NDFkM2JmNjc5YmI0M2ZlNjczZTYuc2V0Q29udGVudChodG1sX2I0YjE3MzBlYzNjOTRmNzg4MjlkY2M0NzI0ODRlZWU5KTsKICAgICAgICAgICAgCgogICAgICAgICAgICBjaXJjbGVfbWFya2VyXzc1NzE5NTNjYjgzNTQyZWQ4OWJlMGM3MmQ4NDc1NGE1LmJpbmRQb3B1cChwb3B1cF9mMmI4MzJkOTNhNDY0MWQzYmY2NzliYjQzZmU2NzNlNik7CgogICAgICAgICAgICAKICAgICAgICAKICAgIAogICAgICAgICAgICB2YXIgY2lyY2xlX21hcmtlcl9iOTYxNzMwYzhmNjA0NGQwODkxMzY5YjNjNDZiMTI4MSA9IEwuY2lyY2xlTWFya2VyKAogICAgICAgICAgICAgICAgWzQwLjYxMzMzNTkzNzY2NzQyLC03NC4xMTkxODA1ODUzNDg0Ml0sCiAgICAgICAgICAgICAgICB7CiAgImJ1YmJsaW5nTW91c2VFdmVudHMiOiB0cnVlLAogICJjb2xvciI6ICIjODAwMGZmIiwKICAiZGFzaEFycmF5IjogbnVsbCwKICAiZGFzaE9mZnNldCI6IG51bGwsCiAgImZpbGwiOiB0cnVlLAogICJmaWxsQ29sb3IiOiAiIzgwMDBmZiIsCiAgImZpbGxPcGFjaXR5IjogMC43LAogICJmaWxsUnVsZSI6ICJldmVub2RkIiwKICAibGluZUNhcCI6ICJyb3VuZCIsCiAgImxpbmVKb2luIjogInJvdW5kIiwKICAib3BhY2l0eSI6IDEuMCwKICAicmFkaXVzIjogNSwKICAic3Ryb2tlIjogdHJ1ZSwKICAid2VpZ2h0IjogMwp9CiAgICAgICAgICAgICAgICApLmFkZFRvKG1hcF83MWFhZGE5YjY0ZTk0ZmE4YWFjZmNkN2M3ODJlYjU2MSk7CiAgICAgICAgICAgIAogICAgCiAgICAgICAgICAgIHZhciBwb3B1cF85ODJkMjA4NTZkZTM0YTc4YTNhOGY5MmMyZTc0ZTE4OSA9IEwucG9wdXAoe21heFdpZHRoOiAnMzAwJ30pOwoKICAgICAgICAgICAgCiAgICAgICAgICAgICAgICB2YXIgaHRtbF80ZTM1YjJjYmZlODM0YjEwODU5YTQ2OGQ1NTc4OTVmOSA9ICQoJzxkaXYgaWQ9Imh0bWxfNGUzNWIyY2JmZTgzNGIxMDg1OWE0NjhkNTU3ODk1ZjkiIHN0eWxlPSJ3aWR0aDogMTAwLjAlOyBoZWlnaHQ6IDEwMC4wJTsiPkNhc3RsZXRvbiBDb3JuZXJzIENsdXN0ZXIgMTwvZGl2PicpWzBdOwogICAgICAgICAgICAgICAgcG9wdXBfOTgyZDIwODU2ZGUzNGE3OGEzYThmOTJjMmU3NGUxODkuc2V0Q29udGVudChodG1sXzRlMzViMmNiZmU4MzRiMTA4NTlhNDY4ZDU1Nzg5NWY5KTsKICAgICAgICAgICAgCgogICAgICAgICAgICBjaXJjbGVfbWFya2VyX2I5NjE3MzBjOGY2MDQ0ZDA4OTEzNjliM2M0NmIxMjgxLmJpbmRQb3B1cChwb3B1cF85ODJkMjA4NTZkZTM0YTc4YTNhOGY5MmMyZTc0ZTE4OSk7CgogICAgICAgICAgICAKICAgICAgICAKICAgIAogICAgICAgICAgICB2YXIgY2lyY2xlX21hcmtlcl9iNjcyZGQ5NzlkNmI0OTZiOWRhY2IzNTRlMDY0MjI5NyA9IEwuY2lyY2xlTWFya2VyKAogICAgICAgICAgICAgICAgWzQwLjU5NDI1MjM3OTE2MTY5NSwtNzQuMTY0OTYwMzEzMjk4MjddLAogICAgICAgICAgICAgICAgewogICJidWJibGluZ01vdXNlRXZlbnRzIjogdHJ1ZSwKICAiY29sb3IiOiAiIzgwMDBmZiIsCiAgImRhc2hBcnJheSI6IG51bGwsCiAgImRhc2hPZmZzZXQiOiBudWxsLAogICJmaWxsIjogdHJ1ZSwKICAiZmlsbENvbG9yIjogIiM4MDAwZmYiLAogICJmaWxsT3BhY2l0eSI6IDAuNywKICAiZmlsbFJ1bGUiOiAiZXZlbm9kZCIsCiAgImxpbmVDYXAiOiAicm91bmQiLAogICJsaW5lSm9pbiI6ICJyb3VuZCIsCiAgIm9wYWNpdHkiOiAxLjAsCiAgInJhZGl1cyI6IDUsCiAgInN0cm9rZSI6IHRydWUsCiAgIndlaWdodCI6IDMKfQogICAgICAgICAgICAgICAgKS5hZGRUbyhtYXBfNzFhYWRhOWI2NGU5NGZhOGFhY2ZjZDdjNzgyZWI1NjEpOwogICAgICAgICAgICAKICAgIAogICAgICAgICAgICB2YXIgcG9wdXBfOGI5NDFjYTAzZjcyNGFkNDgyMzNkZmIxM2ZiMDExNGMgPSBMLnBvcHVwKHttYXhXaWR0aDogJzMwMCd9KTsKCiAgICAgICAgICAgIAogICAgICAgICAgICAgICAgdmFyIGh0bWxfY2U5N2JlNjNhYWNmNDQzNWFiMzc2NDA1MzIzMDU5ODIgPSAkKCc8ZGl2IGlkPSJodG1sX2NlOTdiZTYzYWFjZjQ0MzVhYjM3NjQwNTMyMzA1OTgyIiBzdHlsZT0id2lkdGg6IDEwMC4wJTsgaGVpZ2h0OiAxMDAuMCU7Ij5OZXcgU3ByaW5ndmlsbGUgQ2x1c3RlciAxPC9kaXY+JylbMF07CiAgICAgICAgICAgICAgICBwb3B1cF84Yjk0MWNhMDNmNzI0YWQ0ODIzM2RmYjEzZmIwMTE0Yy5zZXRDb250ZW50KGh0bWxfY2U5N2JlNjNhYWNmNDQzNWFiMzc2NDA1MzIzMDU5ODIpOwogICAgICAgICAgICAKCiAgICAgICAgICAgIGNpcmNsZV9tYXJrZXJfYjY3MmRkOTc5ZDZiNDk2YjlkYWNiMzU0ZTA2NDIyOTcuYmluZFBvcHVwKHBvcHVwXzhiOTQxY2EwM2Y3MjRhZDQ4MjMzZGZiMTNmYjAxMTRjKTsKCiAgICAgICAgICAgIAogICAgICAgIAogICAgCiAgICAgICAgICAgIHZhciBjaXJjbGVfbWFya2VyXzJhNDUxODJiMzQ0MjQ0MWQ4MGZjMDNjZmFjODVhMzQxID0gTC5jaXJjbGVNYXJrZXIoCiAgICAgICAgICAgICAgICBbNDAuNTg2MzEzNzUxMDMyODEsLTc0LjE5MDczNzE3NTM4MTE2XSwKICAgICAgICAgICAgICAgIHsKICAiYnViYmxpbmdNb3VzZUV2ZW50cyI6IHRydWUsCiAgImNvbG9yIjogIiM4MDAwZmYiLAogICJkYXNoQXJyYXkiOiBudWxsLAogICJkYXNoT2Zmc2V0IjogbnVsbCwKICAiZmlsbCI6IHRydWUsCiAgImZpbGxDb2xvciI6ICIjODAwMGZmIiwKICAiZmlsbE9wYWNpdHkiOiAwLjcsCiAgImZpbGxSdWxlIjogImV2ZW5vZGQiLAogICJsaW5lQ2FwIjogInJvdW5kIiwKICAibGluZUpvaW4iOiAicm91bmQiLAogICJvcGFjaXR5IjogMS4wLAogICJyYWRpdXMiOiA1LAogICJzdHJva2UiOiB0cnVlLAogICJ3ZWlnaHQiOiAzCn0KICAgICAgICAgICAgICAgICkuYWRkVG8obWFwXzcxYWFkYTliNjRlOTRmYThhYWNmY2Q3Yzc4MmViNTYxKTsKICAgICAgICAgICAgCiAgICAKICAgICAgICAgICAgdmFyIHBvcHVwX2FiZDhhNzNjZjc5ZDQ0NTU5YWFmODFlMGQwOWI2NDYxID0gTC5wb3B1cCh7bWF4V2lkdGg6ICczMDAnfSk7CgogICAgICAgICAgICAKICAgICAgICAgICAgICAgIHZhciBodG1sX2FlOGMyZjVlNDYwNzQzNzg5Y2ZkNmUwOTkzMDczZDRhID0gJCgnPGRpdiBpZD0iaHRtbF9hZThjMmY1ZTQ2MDc0Mzc4OWNmZDZlMDk5MzA3M2Q0YSIgc3R5bGU9IndpZHRoOiAxMDAuMCU7IGhlaWdodDogMTAwLjAlOyI+VHJhdmlzIENsdXN0ZXIgMTwvZGl2PicpWzBdOwogICAgICAgICAgICAgICAgcG9wdXBfYWJkOGE3M2NmNzlkNDQ1NTlhYWY4MWUwZDA5YjY0NjEuc2V0Q29udGVudChodG1sX2FlOGMyZjVlNDYwNzQzNzg5Y2ZkNmUwOTkzMDczZDRhKTsKICAgICAgICAgICAgCgogICAgICAgICAgICBjaXJjbGVfbWFya2VyXzJhNDUxODJiMzQ0MjQ0MWQ4MGZjMDNjZmFjODVhMzQxLmJpbmRQb3B1cChwb3B1cF9hYmQ4YTczY2Y3OWQ0NDU1OWFhZjgxZTBkMDliNjQ2MSk7CgogICAgICAgICAgICAKICAgICAgICAKICAgIAogICAgICAgICAgICB2YXIgY2lyY2xlX21hcmtlcl85NWUwNzA0ZDUwNzA0MTcxOTJmNDFmNjM0M2RiZDkzOCA9IEwuY2lyY2xlTWFya2VyKAogICAgICAgICAgICAgICAgWzQwLjU3MjU3MjMxODIwNjMyLC03NC4xMTY0Nzk0MzYwNjM4XSwKICAgICAgICAgICAgICAgIHsKICAiYnViYmxpbmdNb3VzZUV2ZW50cyI6IHRydWUsCiAgImNvbG9yIjogIiM4MDAwZmYiLAogICJkYXNoQXJyYXkiOiBudWxsLAogICJkYXNoT2Zmc2V0IjogbnVsbCwKICAiZmlsbCI6IHRydWUsCiAgImZpbGxDb2xvciI6ICIjODAwMGZmIiwKICAiZmlsbE9wYWNpdHkiOiAwLjcsCiAgImZpbGxSdWxlIjogImV2ZW5vZGQiLAogICJsaW5lQ2FwIjogInJvdW5kIiwKICAibGluZUpvaW4iOiAicm91bmQiLAogICJvcGFjaXR5IjogMS4wLAogICJyYWRpdXMiOiA1LAogICJzdHJva2UiOiB0cnVlLAogICJ3ZWlnaHQiOiAzCn0KICAgICAgICAgICAgICAgICkuYWRkVG8obWFwXzcxYWFkYTliNjRlOTRmYThhYWNmY2Q3Yzc4MmViNTYxKTsKICAgICAgICAgICAgCiAgICAKICAgICAgICAgICAgdmFyIHBvcHVwX2Q3YjNhMGE0ZmNjMTQ2Y2Y5YmE4MDBiZmJiN2ZkYTRiID0gTC5wb3B1cCh7bWF4V2lkdGg6ICczMDAnfSk7CgogICAgICAgICAgICAKICAgICAgICAgICAgICAgIHZhciBodG1sX2U3YWU1MGQ0ODE3MjRmZGZiNzQ4YzUwODJiZDM1ZmJjID0gJCgnPGRpdiBpZD0iaHRtbF9lN2FlNTBkNDgxNzI0ZmRmYjc0OGM1MDgyYmQzNWZiYyIgc3R5bGU9IndpZHRoOiAxMDAuMCU7IGhlaWdodDogMTAwLjAlOyI+TmV3IERvcnAgQ2x1c3RlciAxPC9kaXY+JylbMF07CiAgICAgICAgICAgICAgICBwb3B1cF9kN2IzYTBhNGZjYzE0NmNmOWJhODAwYmZiYjdmZGE0Yi5zZXRDb250ZW50KGh0bWxfZTdhZTUwZDQ4MTcyNGZkZmI3NDhjNTA4MmJkMzVmYmMpOwogICAgICAgICAgICAKCiAgICAgICAgICAgIGNpcmNsZV9tYXJrZXJfOTVlMDcwNGQ1MDcwNDE3MTkyZjQxZjYzNDNkYmQ5MzguYmluZFBvcHVwKHBvcHVwX2Q3YjNhMGE0ZmNjMTQ2Y2Y5YmE4MDBiZmJiN2ZkYTRiKTsKCiAgICAgICAgICAgIAogICAgICAgIAogICAgCiAgICAgICAgICAgIHZhciBjaXJjbGVfbWFya2VyXzhhYjYxYzQ0NTkwZDRlM2U5MzZjNTY3OGIyNWZjZTJkID0gTC5jaXJjbGVNYXJrZXIoCiAgICAgICAgICAgICAgICBbNDAuNTU4NDYyMjQzMjg4OCwtNzQuMTIxNTY1OTM3NzE4OTZdLAogICAgICAgICAgICAgICAgewogICJidWJibGluZ01vdXNlRXZlbnRzIjogdHJ1ZSwKICAiY29sb3IiOiAiIzgwMDBmZiIsCiAgImRhc2hBcnJheSI6IG51bGwsCiAgImRhc2hPZmZzZXQiOiBudWxsLAogICJmaWxsIjogdHJ1ZSwKICAiZmlsbENvbG9yIjogIiM4MDAwZmYiLAogICJmaWxsT3BhY2l0eSI6IDAuNywKICAiZmlsbFJ1bGUiOiAiZXZlbm9kZCIsCiAgImxpbmVDYXAiOiAicm91bmQiLAogICJsaW5lSm9pbiI6ICJyb3VuZCIsCiAgIm9wYWNpdHkiOiAxLjAsCiAgInJhZGl1cyI6IDUsCiAgInN0cm9rZSI6IHRydWUsCiAgIndlaWdodCI6IDMKfQogICAgICAgICAgICAgICAgKS5hZGRUbyhtYXBfNzFhYWRhOWI2NGU5NGZhOGFhY2ZjZDdjNzgyZWI1NjEpOwogICAgICAgICAgICAKICAgIAogICAgICAgICAgICB2YXIgcG9wdXBfYWJhZGM4Yzk3NDUxNGEyZWI2NjgxMjFhZjEwYmJkNjkgPSBMLnBvcHVwKHttYXhXaWR0aDogJzMwMCd9KTsKCiAgICAgICAgICAgIAogICAgICAgICAgICAgICAgdmFyIGh0bWxfYTdjNTM1MTc5MjQ4NDQ0YThiNzNkZThhOTAyZGYyMDcgPSAkKCc8ZGl2IGlkPSJodG1sX2E3YzUzNTE3OTI0ODQ0NGE4YjczZGU4YTkwMmRmMjA3IiBzdHlsZT0id2lkdGg6IDEwMC4wJTsgaGVpZ2h0OiAxMDAuMCU7Ij5PYWt3b29kIENsdXN0ZXIgMTwvZGl2PicpWzBdOwogICAgICAgICAgICAgICAgcG9wdXBfYWJhZGM4Yzk3NDUxNGEyZWI2NjgxMjFhZjEwYmJkNjkuc2V0Q29udGVudChodG1sX2E3YzUzNTE3OTI0ODQ0NGE4YjczZGU4YTkwMmRmMjA3KTsKICAgICAgICAgICAgCgogICAgICAgICAgICBjaXJjbGVfbWFya2VyXzhhYjYxYzQ0NTkwZDRlM2U5MzZjNTY3OGIyNWZjZTJkLmJpbmRQb3B1cChwb3B1cF9hYmFkYzhjOTc0NTE0YTJlYjY2ODEyMWFmMTBiYmQ2OSk7CgogICAgICAgICAgICAKICAgICAgICAKICAgIAogICAgICAgICAgICB2YXIgY2lyY2xlX21hcmtlcl80ZmVhZTRmNDUzODU0YjRkYmRiZDMzMGYzMTUzZjBjNyA9IEwuY2lyY2xlTWFya2VyKAogICAgICAgICAgICAgICAgWzQwLjU0OTQ4MDIyODcxMzYwNSwtNzQuMTQ5MzIzODE0OTA5OTJdLAogICAgICAgICAgICAgICAgewogICJidWJibGluZ01vdXNlRXZlbnRzIjogdHJ1ZSwKICAiY29sb3IiOiAiIzgwMDBmZiIsCiAgImRhc2hBcnJheSI6IG51bGwsCiAgImRhc2hPZmZzZXQiOiBudWxsLAogICJmaWxsIjogdHJ1ZSwKICAiZmlsbENvbG9yIjogIiM4MDAwZmYiLAogICJmaWxsT3BhY2l0eSI6IDAuNywKICAiZmlsbFJ1bGUiOiAiZXZlbm9kZCIsCiAgImxpbmVDYXAiOiAicm91bmQiLAogICJsaW5lSm9pbiI6ICJyb3VuZCIsCiAgIm9wYWNpdHkiOiAxLjAsCiAgInJhZGl1cyI6IDUsCiAgInN0cm9rZSI6IHRydWUsCiAgIndlaWdodCI6IDMKfQogICAgICAgICAgICAgICAgKS5hZGRUbyhtYXBfNzFhYWRhOWI2NGU5NGZhOGFhY2ZjZDdjNzgyZWI1NjEpOwogICAgICAgICAgICAKICAgIAogICAgICAgICAgICB2YXIgcG9wdXBfNDU4MTEyMTYxY2MxNGY5ZWE1MmIzNWVhZjMwYzg3NjYgPSBMLnBvcHVwKHttYXhXaWR0aDogJzMwMCd9KTsKCiAgICAgICAgICAgIAogICAgICAgICAgICAgICAgdmFyIGh0bWxfZjA5MDM2MjVkMzU3NDZjM2I0MGMxMzgxZGRiMzUxNjggPSAkKCc8ZGl2IGlkPSJodG1sX2YwOTAzNjI1ZDM1NzQ2YzNiNDBjMTM4MWRkYjM1MTY4IiBzdHlsZT0id2lkdGg6IDEwMC4wJTsgaGVpZ2h0OiAxMDAuMCU7Ij5HcmVhdCBLaWxscyBDbHVzdGVyIDE8L2Rpdj4nKVswXTsKICAgICAgICAgICAgICAgIHBvcHVwXzQ1ODExMjE2MWNjMTRmOWVhNTJiMzVlYWYzMGM4NzY2LnNldENvbnRlbnQoaHRtbF9mMDkwMzYyNWQzNTc0NmMzYjQwYzEzODFkZGIzNTE2OCk7CiAgICAgICAgICAgIAoKICAgICAgICAgICAgY2lyY2xlX21hcmtlcl80ZmVhZTRmNDUzODU0YjRkYmRiZDMzMGYzMTUzZjBjNy5iaW5kUG9wdXAocG9wdXBfNDU4MTEyMTYxY2MxNGY5ZWE1MmIzNWVhZjMwYzg3NjYpOwoKICAgICAgICAgICAgCiAgICAgICAgCiAgICAKICAgICAgICAgICAgdmFyIGNpcmNsZV9tYXJrZXJfNTczOWVkYjZhMWI1NGM5MWE1ODlkMDA2YmNhYTE2YWYgPSBMLmNpcmNsZU1hcmtlcigKICAgICAgICAgICAgICAgIFs0MC41NDIyMzA3NDc0NTA3NDUsLTc0LjE2NDMzMDgwNDE5MzZdLAogICAgICAgICAgICAgICAgewogICJidWJibGluZ01vdXNlRXZlbnRzIjogdHJ1ZSwKICAiY29sb3IiOiAiIzgwMDBmZiIsCiAgImRhc2hBcnJheSI6IG51bGwsCiAgImRhc2hPZmZzZXQiOiBudWxsLAogICJmaWxsIjogdHJ1ZSwKICAiZmlsbENvbG9yIjogIiM4MDAwZmYiLAogICJmaWxsT3BhY2l0eSI6IDAuNywKICAiZmlsbFJ1bGUiOiAiZXZlbm9kZCIsCiAgImxpbmVDYXAiOiAicm91bmQiLAogICJsaW5lSm9pbiI6ICJyb3VuZCIsCiAgIm9wYWNpdHkiOiAxLjAsCiAgInJhZGl1cyI6IDUsCiAgInN0cm9rZSI6IHRydWUsCiAgIndlaWdodCI6IDMKfQogICAgICAgICAgICAgICAgKS5hZGRUbyhtYXBfNzFhYWRhOWI2NGU5NGZhOGFhY2ZjZDdjNzgyZWI1NjEpOwogICAgICAgICAgICAKICAgIAogICAgICAgICAgICB2YXIgcG9wdXBfOWM5YjcwZTZiYzk1NDE2YjgyMmU2MWMwNWU5YjJhNDYgPSBMLnBvcHVwKHttYXhXaWR0aDogJzMwMCd9KTsKCiAgICAgICAgICAgIAogICAgICAgICAgICAgICAgdmFyIGh0bWxfODhlNmE3ZjgzMjM3NDgwOGI5NWJlNDZhNzQ5NmFmOTYgPSAkKCc8ZGl2IGlkPSJodG1sXzg4ZTZhN2Y4MzIzNzQ4MDhiOTViZTQ2YTc0OTZhZjk2IiBzdHlsZT0id2lkdGg6IDEwMC4wJTsgaGVpZ2h0OiAxMDAuMCU7Ij5FbHRpbmd2aWxsZSBDbHVzdGVyIDE8L2Rpdj4nKVswXTsKICAgICAgICAgICAgICAgIHBvcHVwXzljOWI3MGU2YmM5NTQxNmI4MjJlNjFjMDVlOWIyYTQ2LnNldENvbnRlbnQoaHRtbF84OGU2YTdmODMyMzc0ODA4Yjk1YmU0NmE3NDk2YWY5Nik7CiAgICAgICAgICAgIAoKICAgICAgICAgICAgY2lyY2xlX21hcmtlcl81NzM5ZWRiNmExYjU0YzkxYTU4OWQwMDZiY2FhMTZhZi5iaW5kUG9wdXAocG9wdXBfOWM5YjcwZTZiYzk1NDE2YjgyMmU2MWMwNWU5YjJhNDYpOwoKICAgICAgICAgICAgCiAgICAgICAgCiAgICAKICAgICAgICAgICAgdmFyIGNpcmNsZV9tYXJrZXJfOWFkZDk3YzgxMWM4NDMzODljYTdiZWE3MDQzMTBmNDYgPSBMLmNpcmNsZU1hcmtlcigKICAgICAgICAgICAgICAgIFs0MC41MzgxMTQxNzQ3NDUwNywtNzQuMTc4NTQ4NjYxNjU4NzhdLAogICAgICAgICAgICAgICAgewogICJidWJibGluZ01vdXNlRXZlbnRzIjogdHJ1ZSwKICAiY29sb3IiOiAiIzgwMDBmZiIsCiAgImRhc2hBcnJheSI6IG51bGwsCiAgImRhc2hPZmZzZXQiOiBudWxsLAogICJmaWxsIjogdHJ1ZSwKICAiZmlsbENvbG9yIjogIiM4MDAwZmYiLAogICJmaWxsT3BhY2l0eSI6IDAuNywKICAiZmlsbFJ1bGUiOiAiZXZlbm9kZCIsCiAgImxpbmVDYXAiOiAicm91bmQiLAogICJsaW5lSm9pbiI6ICJyb3VuZCIsCiAgIm9wYWNpdHkiOiAxLjAsCiAgInJhZGl1cyI6IDUsCiAgInN0cm9rZSI6IHRydWUsCiAgIndlaWdodCI6IDMKfQogICAgICAgICAgICAgICAgKS5hZGRUbyhtYXBfNzFhYWRhOWI2NGU5NGZhOGFhY2ZjZDdjNzgyZWI1NjEpOwogICAgICAgICAgICAKICAgIAogICAgICAgICAgICB2YXIgcG9wdXBfZGJhZDNmN2ZlMGJhNGU0NTgyZDM1ZGRkNDZiNjY4MjEgPSBMLnBvcHVwKHttYXhXaWR0aDogJzMwMCd9KTsKCiAgICAgICAgICAgIAogICAgICAgICAgICAgICAgdmFyIGh0bWxfOTY0ZGI4OTM0NDkzNDM2NWI0NTkzOThkMzc4ZGQ0ZjUgPSAkKCc8ZGl2IGlkPSJodG1sXzk2NGRiODkzNDQ5MzQzNjViNDU5Mzk4ZDM3OGRkNGY1IiBzdHlsZT0id2lkdGg6IDEwMC4wJTsgaGVpZ2h0OiAxMDAuMCU7Ij5Bbm5hZGFsZSBDbHVzdGVyIDE8L2Rpdj4nKVswXTsKICAgICAgICAgICAgICAgIHBvcHVwX2RiYWQzZjdmZTBiYTRlNDU4MmQzNWRkZDQ2YjY2ODIxLnNldENvbnRlbnQoaHRtbF85NjRkYjg5MzQ0OTM0MzY1YjQ1OTM5OGQzNzhkZDRmNSk7CiAgICAgICAgICAgIAoKICAgICAgICAgICAgY2lyY2xlX21hcmtlcl85YWRkOTdjODExYzg0MzM4OWNhN2JlYTcwNDMxMGY0Ni5iaW5kUG9wdXAocG9wdXBfZGJhZDNmN2ZlMGJhNGU0NTgyZDM1ZGRkNDZiNjY4MjEpOwoKICAgICAgICAgICAgCiAgICAgICAgCiAgICAKICAgICAgICAgICAgdmFyIGNpcmNsZV9tYXJrZXJfN2MyNWI2Y2Q4ZTkyNGIyOTk4Y2IzM2ZhYTM4ZmQyNGEgPSBMLmNpcmNsZU1hcmtlcigKICAgICAgICAgICAgICAgIFs0MC41NDE5Njc2MjI4ODg3NTUsLTc0LjIwNTI0NTgyNDgwMzI2XSwKICAgICAgICAgICAgICAgIHsKICAiYnViYmxpbmdNb3VzZUV2ZW50cyI6IHRydWUsCiAgImNvbG9yIjogIiM4MDAwZmYiLAogICJkYXNoQXJyYXkiOiBudWxsLAogICJkYXNoT2Zmc2V0IjogbnVsbCwKICAiZmlsbCI6IHRydWUsCiAgImZpbGxDb2xvciI6ICIjODAwMGZmIiwKICAiZmlsbE9wYWNpdHkiOiAwLjcsCiAgImZpbGxSdWxlIjogImV2ZW5vZGQiLAogICJsaW5lQ2FwIjogInJvdW5kIiwKICAibGluZUpvaW4iOiAicm91bmQiLAogICJvcGFjaXR5IjogMS4wLAogICJyYWRpdXMiOiA1LAogICJzdHJva2UiOiB0cnVlLAogICJ3ZWlnaHQiOiAzCn0KICAgICAgICAgICAgICAgICkuYWRkVG8obWFwXzcxYWFkYTliNjRlOTRmYThhYWNmY2Q3Yzc4MmViNTYxKTsKICAgICAgICAgICAgCiAgICAKICAgICAgICAgICAgdmFyIHBvcHVwXzY0NTI1NTVlMzU0MzQ3ZDQ4OTM5ZjI3N2NlZDYxOGY3ID0gTC5wb3B1cCh7bWF4V2lkdGg6ICczMDAnfSk7CgogICAgICAgICAgICAKICAgICAgICAgICAgICAgIHZhciBodG1sX2VlNWU1YjA0MjYxNjRiYWE4ZDVkNGNlYzYzYzZiYTIyID0gJCgnPGRpdiBpZD0iaHRtbF9lZTVlNWIwNDI2MTY0YmFhOGQ1ZDRjZWM2M2M2YmEyMiIgc3R5bGU9IndpZHRoOiAxMDAuMCU7IGhlaWdodDogMTAwLjAlOyI+V29vZHJvdyBDbHVzdGVyIDE8L2Rpdj4nKVswXTsKICAgICAgICAgICAgICAgIHBvcHVwXzY0NTI1NTVlMzU0MzQ3ZDQ4OTM5ZjI3N2NlZDYxOGY3LnNldENvbnRlbnQoaHRtbF9lZTVlNWIwNDI2MTY0YmFhOGQ1ZDRjZWM2M2M2YmEyMik7CiAgICAgICAgICAgIAoKICAgICAgICAgICAgY2lyY2xlX21hcmtlcl83YzI1YjZjZDhlOTI0YjI5OThjYjMzZmFhMzhmZDI0YS5iaW5kUG9wdXAocG9wdXBfNjQ1MjU1NWUzNTQzNDdkNDg5MzlmMjc3Y2VkNjE4ZjcpOwoKICAgICAgICAgICAgCiAgICAgICAgCiAgICAKICAgICAgICAgICAgdmFyIGNpcmNsZV9tYXJrZXJfOTczZTY2ZjJhMDZmNDhlM2IzYTc0ZjQ4MmJkZWM4M2QgPSBMLmNpcmNsZU1hcmtlcigKICAgICAgICAgICAgICAgIFs0MC41MDUzMzM3NjExNTY0MiwtNzQuMjQ2NTY5MzQyMzUyODNdLAogICAgICAgICAgICAgICAgewogICJidWJibGluZ01vdXNlRXZlbnRzIjogdHJ1ZSwKICAiY29sb3IiOiAiIzgwMDBmZiIsCiAgImRhc2hBcnJheSI6IG51bGwsCiAgImRhc2hPZmZzZXQiOiBudWxsLAogICJmaWxsIjogdHJ1ZSwKICAiZmlsbENvbG9yIjogIiM4MDAwZmYiLAogICJmaWxsT3BhY2l0eSI6IDAuNywKICAiZmlsbFJ1bGUiOiAiZXZlbm9kZCIsCiAgImxpbmVDYXAiOiAicm91bmQiLAogICJsaW5lSm9pbiI6ICJyb3VuZCIsCiAgIm9wYWNpdHkiOiAxLjAsCiAgInJhZGl1cyI6IDUsCiAgInN0cm9rZSI6IHRydWUsCiAgIndlaWdodCI6IDMKfQogICAgICAgICAgICAgICAgKS5hZGRUbyhtYXBfNzFhYWRhOWI2NGU5NGZhOGFhY2ZjZDdjNzgyZWI1NjEpOwogICAgICAgICAgICAKICAgIAogICAgICAgICAgICB2YXIgcG9wdXBfNzEwYjJkMGIzMmU4NDU1OWJmZmU2MDQ5YTE5MWJkMWEgPSBMLnBvcHVwKHttYXhXaWR0aDogJzMwMCd9KTsKCiAgICAgICAgICAgIAogICAgICAgICAgICAgICAgdmFyIGh0bWxfZTVmNzNkZTA0MTU0NGRkYmE4ZGZjMjlhM2U1ZmNiZTAgPSAkKCc8ZGl2IGlkPSJodG1sX2U1ZjczZGUwNDE1NDRkZGJhOGRmYzI5YTNlNWZjYmUwIiBzdHlsZT0id2lkdGg6IDEwMC4wJTsgaGVpZ2h0OiAxMDAuMCU7Ij5Ub3R0ZW52aWxsZSBDbHVzdGVyIDE8L2Rpdj4nKVswXTsKICAgICAgICAgICAgICAgIHBvcHVwXzcxMGIyZDBiMzJlODQ1NTliZmZlNjA0OWExOTFiZDFhLnNldENvbnRlbnQoaHRtbF9lNWY3M2RlMDQxNTQ0ZGRiYThkZmMyOWEzZTVmY2JlMCk7CiAgICAgICAgICAgIAoKICAgICAgICAgICAgY2lyY2xlX21hcmtlcl85NzNlNjZmMmEwNmY0OGUzYjNhNzRmNDgyYmRlYzgzZC5iaW5kUG9wdXAocG9wdXBfNzEwYjJkMGIzMmU4NDU1OWJmZmU2MDQ5YTE5MWJkMWEpOwoKICAgICAgICAgICAgCiAgICAgICAgCiAgICAKICAgICAgICAgICAgdmFyIGNpcmNsZV9tYXJrZXJfNjY4ZjRkN2JlNjFhNGVhM2FmZTc0YzRjMTczODYyMGMgPSBMLmNpcmNsZU1hcmtlcigKICAgICAgICAgICAgICAgIFs0MC42MzczMTYwNjcxMTAzMjYsLTc0LjA4MDU1MzUxNzkwMTE1XSwKICAgICAgICAgICAgICAgIHsKICAiYnViYmxpbmdNb3VzZUV2ZW50cyI6IHRydWUsCiAgImNvbG9yIjogIiM4MDAwZmYiLAogICJkYXNoQXJyYXkiOiBudWxsLAogICJkYXNoT2Zmc2V0IjogbnVsbCwKICAiZmlsbCI6IHRydWUsCiAgImZpbGxDb2xvciI6ICIjODAwMGZmIiwKICAiZmlsbE9wYWNpdHkiOiAwLjcsCiAgImZpbGxSdWxlIjogImV2ZW5vZGQiLAogICJsaW5lQ2FwIjogInJvdW5kIiwKICAibGluZUpvaW4iOiAicm91bmQiLAogICJvcGFjaXR5IjogMS4wLAogICJyYWRpdXMiOiA1LAogICJzdHJva2UiOiB0cnVlLAogICJ3ZWlnaHQiOiAzCn0KICAgICAgICAgICAgICAgICkuYWRkVG8obWFwXzcxYWFkYTliNjRlOTRmYThhYWNmY2Q3Yzc4MmViNTYxKTsKICAgICAgICAgICAgCiAgICAKICAgICAgICAgICAgdmFyIHBvcHVwX2VmM2I5ZjkxMDQ0ODQ3NjY5OWM1M2ZlMTc3NjFlNWYzID0gTC5wb3B1cCh7bWF4V2lkdGg6ICczMDAnfSk7CgogICAgICAgICAgICAKICAgICAgICAgICAgICAgIHZhciBodG1sXzkzMGI4NjE4YWMxZTQ1YzhhNzhhMTM2MGM2YzAwZmExID0gJCgnPGRpdiBpZD0iaHRtbF85MzBiODYxOGFjMWU0NWM4YTc4YTEzNjBjNmMwMGZhMSIgc3R5bGU9IndpZHRoOiAxMDAuMCU7IGhlaWdodDogMTAwLjAlOyI+VG9tcGtpbnN2aWxsZSBDbHVzdGVyIDE8L2Rpdj4nKVswXTsKICAgICAgICAgICAgICAgIHBvcHVwX2VmM2I5ZjkxMDQ0ODQ3NjY5OWM1M2ZlMTc3NjFlNWYzLnNldENvbnRlbnQoaHRtbF85MzBiODYxOGFjMWU0NWM4YTc4YTEzNjBjNmMwMGZhMSk7CiAgICAgICAgICAgIAoKICAgICAgICAgICAgY2lyY2xlX21hcmtlcl82NjhmNGQ3YmU2MWE0ZWEzYWZlNzRjNGMxNzM4NjIwYy5iaW5kUG9wdXAocG9wdXBfZWYzYjlmOTEwNDQ4NDc2Njk5YzUzZmUxNzc2MWU1ZjMpOwoKICAgICAgICAgICAgCiAgICAgICAgCiAgICAKICAgICAgICAgICAgdmFyIGNpcmNsZV9tYXJrZXJfNzcyMGNlY2MyMDgzNGM4M2ExYmYyODk2ZGMwZjdhMjkgPSBMLmNpcmNsZU1hcmtlcigKICAgICAgICAgICAgICAgIFs0MC42MTkxOTMxMDc5MjY3NiwtNzQuMDk2MjkwMjkyMzU0NThdLAogICAgICAgICAgICAgICAgewogICJidWJibGluZ01vdXNlRXZlbnRzIjogdHJ1ZSwKICAiY29sb3IiOiAiIzgwMDBmZiIsCiAgImRhc2hBcnJheSI6IG51bGwsCiAgImRhc2hPZmZzZXQiOiBudWxsLAogICJmaWxsIjogdHJ1ZSwKICAiZmlsbENvbG9yIjogIiM4MDAwZmYiLAogICJmaWxsT3BhY2l0eSI6IDAuNywKICAiZmlsbFJ1bGUiOiAiZXZlbm9kZCIsCiAgImxpbmVDYXAiOiAicm91bmQiLAogICJsaW5lSm9pbiI6ICJyb3VuZCIsCiAgIm9wYWNpdHkiOiAxLjAsCiAgInJhZGl1cyI6IDUsCiAgInN0cm9rZSI6IHRydWUsCiAgIndlaWdodCI6IDMKfQogICAgICAgICAgICAgICAgKS5hZGRUbyhtYXBfNzFhYWRhOWI2NGU5NGZhOGFhY2ZjZDdjNzgyZWI1NjEpOwogICAgICAgICAgICAKICAgIAogICAgICAgICAgICB2YXIgcG9wdXBfN2M1Yjg4OWFhMDg1NDkyZGI2YmMzYTJiNDlmYWEzMGQgPSBMLnBvcHVwKHttYXhXaWR0aDogJzMwMCd9KTsKCiAgICAgICAgICAgIAogICAgICAgICAgICAgICAgdmFyIGh0bWxfZWJiMzkwMWIzNThlNGExYjg2NzA3ZTdmNzk2OWU1NzUgPSAkKCc8ZGl2IGlkPSJodG1sX2ViYjM5MDFiMzU4ZTRhMWI4NjcwN2U3Zjc5NjllNTc1IiBzdHlsZT0id2lkdGg6IDEwMC4wJTsgaGVpZ2h0OiAxMDAuMCU7Ij5TaWx2ZXIgTGFrZSBDbHVzdGVyIDE8L2Rpdj4nKVswXTsKICAgICAgICAgICAgICAgIHBvcHVwXzdjNWI4ODlhYTA4NTQ5MmRiNmJjM2EyYjQ5ZmFhMzBkLnNldENvbnRlbnQoaHRtbF9lYmIzOTAxYjM1OGU0YTFiODY3MDdlN2Y3OTY5ZTU3NSk7CiAgICAgICAgICAgIAoKICAgICAgICAgICAgY2lyY2xlX21hcmtlcl83NzIwY2VjYzIwODM0YzgzYTFiZjI4OTZkYzBmN2EyOS5iaW5kUG9wdXAocG9wdXBfN2M1Yjg4OWFhMDg1NDkyZGI2YmMzYTJiNDlmYWEzMGQpOwoKICAgICAgICAgICAgCiAgICAgICAgCiAgICAKICAgICAgICAgICAgdmFyIGNpcmNsZV9tYXJrZXJfYTFiYTk2N2Y2OWY5NGM4OWI0NzI4MTM5YTUwN2QwZjYgPSBMLmNpcmNsZU1hcmtlcigKICAgICAgICAgICAgICAgIFs0MC42NDM2NzUxODMzNDA5NzQsLTczLjk2MTAxMzEyNDY2Nzc5XSwKICAgICAgICAgICAgICAgIHsKICAiYnViYmxpbmdNb3VzZUV2ZW50cyI6IHRydWUsCiAgImNvbG9yIjogIiM4MGZmYjQiLAogICJkYXNoQXJyYXkiOiBudWxsLAogICJkYXNoT2Zmc2V0IjogbnVsbCwKICAiZmlsbCI6IHRydWUsCiAgImZpbGxDb2xvciI6ICIjODBmZmI0IiwKICAiZmlsbE9wYWNpdHkiOiAwLjcsCiAgImZpbGxSdWxlIjogImV2ZW5vZGQiLAogICJsaW5lQ2FwIjogInJvdW5kIiwKICAibGluZUpvaW4iOiAicm91bmQiLAogICJvcGFjaXR5IjogMS4wLAogICJyYWRpdXMiOiA1LAogICJzdHJva2UiOiB0cnVlLAogICJ3ZWlnaHQiOiAzCn0KICAgICAgICAgICAgICAgICkuYWRkVG8obWFwXzcxYWFkYTliNjRlOTRmYThhYWNmY2Q3Yzc4MmViNTYxKTsKICAgICAgICAgICAgCiAgICAKICAgICAgICAgICAgdmFyIHBvcHVwX2QxMjhlZTZhYWYyYTQ0ODI4Y2NjYjQ0MzA1Mzc3NGIwID0gTC5wb3B1cCh7bWF4V2lkdGg6ICczMDAnfSk7CgogICAgICAgICAgICAKICAgICAgICAgICAgICAgIHZhciBodG1sXzcxMjIwZWM5MWVhYTQwYTBhNDRkMzc0ZDkwMjg5NDZlID0gJCgnPGRpdiBpZD0iaHRtbF83MTIyMGVjOTFlYWE0MGEwYTQ0ZDM3NGQ5MDI4OTQ2ZSIgc3R5bGU9IndpZHRoOiAxMDAuMCU7IGhlaWdodDogMTAwLjAlOyI+RGl0bWFzIFBhcmsgQ2x1c3RlciAzPC9kaXY+JylbMF07CiAgICAgICAgICAgICAgICBwb3B1cF9kMTI4ZWU2YWFmMmE0NDgyOGNjY2I0NDMwNTM3NzRiMC5zZXRDb250ZW50KGh0bWxfNzEyMjBlYzkxZWFhNDBhMGE0NGQzNzRkOTAyODk0NmUpOwogICAgICAgICAgICAKCiAgICAgICAgICAgIGNpcmNsZV9tYXJrZXJfYTFiYTk2N2Y2OWY5NGM4OWI0NzI4MTM5YTUwN2QwZjYuYmluZFBvcHVwKHBvcHVwX2QxMjhlZTZhYWYyYTQ0ODI4Y2NjYjQ0MzA1Mzc3NGIwKTsKCiAgICAgICAgICAgIAogICAgICAgIAogICAgCiAgICAgICAgICAgIHZhciBjaXJjbGVfbWFya2VyXzI5NWZkMzMyZmRkZjQwNDg5YjI1MTk5NzIzMTJhNTMxID0gTC5jaXJjbGVNYXJrZXIoCiAgICAgICAgICAgICAgICBbNDAuNjYwOTQ2NTYxODgxMTEsLTczLjkzNzE4NjgwNTU5MzE0XSwKICAgICAgICAgICAgICAgIHsKICAiYnViYmxpbmdNb3VzZUV2ZW50cyI6IHRydWUsCiAgImNvbG9yIjogIiM4MGZmYjQiLAogICJkYXNoQXJyYXkiOiBudWxsLAogICJkYXNoT2Zmc2V0IjogbnVsbCwKICAiZmlsbCI6IHRydWUsCiAgImZpbGxDb2xvciI6ICIjODBmZmI0IiwKICAiZmlsbE9wYWNpdHkiOiAwLjcsCiAgImZpbGxSdWxlIjogImV2ZW5vZGQiLAogICJsaW5lQ2FwIjogInJvdW5kIiwKICAibGluZUpvaW4iOiAicm91bmQiLAogICJvcGFjaXR5IjogMS4wLAogICJyYWRpdXMiOiA1LAogICJzdHJva2UiOiB0cnVlLAogICJ3ZWlnaHQiOiAzCn0KICAgICAgICAgICAgICAgICkuYWRkVG8obWFwXzcxYWFkYTliNjRlOTRmYThhYWNmY2Q3Yzc4MmViNTYxKTsKICAgICAgICAgICAgCiAgICAKICAgICAgICAgICAgdmFyIHBvcHVwX2JiMWIxOWQ4NzY1ZTQ3M2Q5YzdhOTcwYjEyMDE2ZTA1ID0gTC5wb3B1cCh7bWF4V2lkdGg6ICczMDAnfSk7CgogICAgICAgICAgICAKICAgICAgICAgICAgICAgIHZhciBodG1sX2M3MjRmOWJkNTBjZTQyZjliZTRjOTcwZmUyMmI5OTIwID0gJCgnPGRpdiBpZD0iaHRtbF9jNzI0ZjliZDUwY2U0MmY5YmU0Yzk3MGZlMjJiOTkyMCIgc3R5bGU9IndpZHRoOiAxMDAuMCU7IGhlaWdodDogMTAwLjAlOyI+V2luZ2F0ZSBDbHVzdGVyIDM8L2Rpdj4nKVswXTsKICAgICAgICAgICAgICAgIHBvcHVwX2JiMWIxOWQ4NzY1ZTQ3M2Q5YzdhOTcwYjEyMDE2ZTA1LnNldENvbnRlbnQoaHRtbF9jNzI0ZjliZDUwY2U0MmY5YmU0Yzk3MGZlMjJiOTkyMCk7CiAgICAgICAgICAgIAoKICAgICAgICAgICAgY2lyY2xlX21hcmtlcl8yOTVmZDMzMmZkZGY0MDQ4OWIyNTE5OTcyMzEyYTUzMS5iaW5kUG9wdXAocG9wdXBfYmIxYjE5ZDg3NjVlNDczZDljN2E5NzBiMTIwMTZlMDUpOwoKICAgICAgICAgICAgCiAgICAgICAgCiAgICAKICAgICAgICAgICAgdmFyIGNpcmNsZV9tYXJrZXJfZmZlZThmYTYzZTQzNDE2N2EyODNkMjA3MDI1ZDdiYTkgPSBMLmNpcmNsZU1hcmtlcigKICAgICAgICAgICAgICAgIFs0MC42NTU1NzIzMTMyODA3NjQsLTczLjkyNjg4MjEyNjE2OTU1XSwKICAgICAgICAgICAgICAgIHsKICAiYnViYmxpbmdNb3VzZUV2ZW50cyI6IHRydWUsCiAgImNvbG9yIjogIiM4MGZmYjQiLAogICJkYXNoQXJyYXkiOiBudWxsLAogICJkYXNoT2Zmc2V0IjogbnVsbCwKICAiZmlsbCI6IHRydWUsCiAgImZpbGxDb2xvciI6ICIjODBmZmI0IiwKICAiZmlsbE9wYWNpdHkiOiAwLjcsCiAgImZpbGxSdWxlIjogImV2ZW5vZGQiLAogICJsaW5lQ2FwIjogInJvdW5kIiwKICAibGluZUpvaW4iOiAicm91bmQiLAogICJvcGFjaXR5IjogMS4wLAogICJyYWRpdXMiOiA1LAogICJzdHJva2UiOiB0cnVlLAogICJ3ZWlnaHQiOiAzCn0KICAgICAgICAgICAgICAgICkuYWRkVG8obWFwXzcxYWFkYTliNjRlOTRmYThhYWNmY2Q3Yzc4MmViNTYxKTsKICAgICAgICAgICAgCiAgICAKICAgICAgICAgICAgdmFyIHBvcHVwX2ZkNGQ4Mzg4ODFjNzQ0ZmZiNDY1MGNiNDU4NTk1ZjEyID0gTC5wb3B1cCh7bWF4V2lkdGg6ICczMDAnfSk7CgogICAgICAgICAgICAKICAgICAgICAgICAgICAgIHZhciBodG1sXzlhNjQ0MjU4Njk5YTQ1Nzc5MzJmZmNkMTM4MWQ0YmQ2ID0gJCgnPGRpdiBpZD0iaHRtbF85YTY0NDI1ODY5OWE0NTc3OTMyZmZjZDEzODFkNGJkNiIgc3R5bGU9IndpZHRoOiAxMDAuMCU7IGhlaWdodDogMTAwLjAlOyI+UnVnYnkgQ2x1c3RlciAzPC9kaXY+JylbMF07CiAgICAgICAgICAgICAgICBwb3B1cF9mZDRkODM4ODgxYzc0NGZmYjQ2NTBjYjQ1ODU5NWYxMi5zZXRDb250ZW50KGh0bWxfOWE2NDQyNTg2OTlhNDU3NzkzMmZmY2QxMzgxZDRiZDYpOwogICAgICAgICAgICAKCiAgICAgICAgICAgIGNpcmNsZV9tYXJrZXJfZmZlZThmYTYzZTQzNDE2N2EyODNkMjA3MDI1ZDdiYTkuYmluZFBvcHVwKHBvcHVwX2ZkNGQ4Mzg4ODFjNzQ0ZmZiNDY1MGNiNDU4NTk1ZjEyKTsKCiAgICAgICAgICAgIAogICAgICAgIAogICAgCiAgICAgICAgICAgIHZhciBjaXJjbGVfbWFya2VyXzJiMDUwMmY5YzZkYzRhNzhhMDQ1YWE0YjViMzBhN2QzID0gTC5jaXJjbGVNYXJrZXIoCiAgICAgICAgICAgICAgICBbNDAuNjA5MTkwNDQ0MzQ1NTgsLTc0LjA4MDE1NzM0OTM2Mjk2XSwKICAgICAgICAgICAgICAgIHsKICAiYnViYmxpbmdNb3VzZUV2ZW50cyI6IHRydWUsCiAgImNvbG9yIjogIiM4MDAwZmYiLAogICJkYXNoQXJyYXkiOiBudWxsLAogICJkYXNoT2Zmc2V0IjogbnVsbCwKICAiZmlsbCI6IHRydWUsCiAgImZpbGxDb2xvciI6ICIjODAwMGZmIiwKICAiZmlsbE9wYWNpdHkiOiAwLjcsCiAgImZpbGxSdWxlIjogImV2ZW5vZGQiLAogICJsaW5lQ2FwIjogInJvdW5kIiwKICAibGluZUpvaW4iOiAicm91bmQiLAogICJvcGFjaXR5IjogMS4wLAogICJyYWRpdXMiOiA1LAogICJzdHJva2UiOiB0cnVlLAogICJ3ZWlnaHQiOiAzCn0KICAgICAgICAgICAgICAgICkuYWRkVG8obWFwXzcxYWFkYTliNjRlOTRmYThhYWNmY2Q3Yzc4MmViNTYxKTsKICAgICAgICAgICAgCiAgICAKICAgICAgICAgICAgdmFyIHBvcHVwXzFhMzgwZjNlMzhmZjQ5NmViMzY1YmU0MTlkYTgyMzM4ID0gTC5wb3B1cCh7bWF4V2lkdGg6ICczMDAnfSk7CgogICAgICAgICAgICAKICAgICAgICAgICAgICAgIHZhciBodG1sXzEwY2QyOTg2YTNkZjRlMDNiNDFkNTBiMWY0MjNiYjAyID0gJCgnPGRpdiBpZD0iaHRtbF8xMGNkMjk4NmEzZGY0ZTAzYjQxZDUwYjFmNDIzYmIwMiIgc3R5bGU9IndpZHRoOiAxMDAuMCU7IGhlaWdodDogMTAwLjAlOyI+UGFyayBIaWxsIENsdXN0ZXIgMTwvZGl2PicpWzBdOwogICAgICAgICAgICAgICAgcG9wdXBfMWEzODBmM2UzOGZmNDk2ZWIzNjViZTQxOWRhODIzMzguc2V0Q29udGVudChodG1sXzEwY2QyOTg2YTNkZjRlMDNiNDFkNTBiMWY0MjNiYjAyKTsKICAgICAgICAgICAgCgogICAgICAgICAgICBjaXJjbGVfbWFya2VyXzJiMDUwMmY5YzZkYzRhNzhhMDQ1YWE0YjViMzBhN2QzLmJpbmRQb3B1cChwb3B1cF8xYTM4MGYzZTM4ZmY0OTZlYjM2NWJlNDE5ZGE4MjMzOCk7CgogICAgICAgICAgICAKICAgICAgICAKICAgIAogICAgICAgICAgICB2YXIgY2lyY2xlX21hcmtlcl8zYTZmMTA3MTQ5NjQ0MjExYmEyNmNhYzRiYzAzOTc4ZiA9IEwuY2lyY2xlTWFya2VyKAogICAgICAgICAgICAgICAgWzQwLjYyMTA5MDQ3Mjc1NDA5LC03NC4xMzMwNDE0Mzk1MTcwNF0sCiAgICAgICAgICAgICAgICB7CiAgImJ1YmJsaW5nTW91c2VFdmVudHMiOiB0cnVlLAogICJjb2xvciI6ICIjODAwMGZmIiwKICAiZGFzaEFycmF5IjogbnVsbCwKICAiZGFzaE9mZnNldCI6IG51bGwsCiAgImZpbGwiOiB0cnVlLAogICJmaWxsQ29sb3IiOiAiIzgwMDBmZiIsCiAgImZpbGxPcGFjaXR5IjogMC43LAogICJmaWxsUnVsZSI6ICJldmVub2RkIiwKICAibGluZUNhcCI6ICJyb3VuZCIsCiAgImxpbmVKb2luIjogInJvdW5kIiwKICAib3BhY2l0eSI6IDEuMCwKICAicmFkaXVzIjogNSwKICAic3Ryb2tlIjogdHJ1ZSwKICAid2VpZ2h0IjogMwp9CiAgICAgICAgICAgICAgICApLmFkZFRvKG1hcF83MWFhZGE5YjY0ZTk0ZmE4YWFjZmNkN2M3ODJlYjU2MSk7CiAgICAgICAgICAgIAogICAgCiAgICAgICAgICAgIHZhciBwb3B1cF9jZjcxYmQyODk2NDA0MTY0YmY5NzVjMmRlOGI4NTdkYyA9IEwucG9wdXAoe21heFdpZHRoOiAnMzAwJ30pOwoKICAgICAgICAgICAgCiAgICAgICAgICAgICAgICB2YXIgaHRtbF9iODA0YWVhMzZiNjM0OWJiYWU2NzVmYzMwMmMyOGU2OSA9ICQoJzxkaXYgaWQ9Imh0bWxfYjgwNGFlYTM2YjYzNDliYmFlNjc1ZmMzMDJjMjhlNjkiIHN0eWxlPSJ3aWR0aDogMTAwLjAlOyBoZWlnaHQ6IDEwMC4wJTsiPldlc3RlcmxlaWdoIENsdXN0ZXIgMTwvZGl2PicpWzBdOwogICAgICAgICAgICAgICAgcG9wdXBfY2Y3MWJkMjg5NjQwNDE2NGJmOTc1YzJkZThiODU3ZGMuc2V0Q29udGVudChodG1sX2I4MDRhZWEzNmI2MzQ5YmJhZTY3NWZjMzAyYzI4ZTY5KTsKICAgICAgICAgICAgCgogICAgICAgICAgICBjaXJjbGVfbWFya2VyXzNhNmYxMDcxNDk2NDQyMTFiYTI2Y2FjNGJjMDM5NzhmLmJpbmRQb3B1cChwb3B1cF9jZjcxYmQyODk2NDA0MTY0YmY5NzVjMmRlOGI4NTdkYyk7CgogICAgICAgICAgICAKICAgICAgICAKICAgIAogICAgICAgICAgICB2YXIgY2lyY2xlX21hcmtlcl9mZjdmNzdjZWViZTE0ZjE4OTYyZDExN2I3ZTdjNmZlNiA9IEwuY2lyY2xlTWFya2VyKAogICAgICAgICAgICAgICAgWzQwLjYyMDE3MTUxMjIzMTg4NCwtNzQuMTUzMTUyNDYzODc3NjJdLAogICAgICAgICAgICAgICAgewogICJidWJibGluZ01vdXNlRXZlbnRzIjogdHJ1ZSwKICAiY29sb3IiOiAiIzgwMDBmZiIsCiAgImRhc2hBcnJheSI6IG51bGwsCiAgImRhc2hPZmZzZXQiOiBudWxsLAogICJmaWxsIjogdHJ1ZSwKICAiZmlsbENvbG9yIjogIiM4MDAwZmYiLAogICJmaWxsT3BhY2l0eSI6IDAuNywKICAiZmlsbFJ1bGUiOiAiZXZlbm9kZCIsCiAgImxpbmVDYXAiOiAicm91bmQiLAogICJsaW5lSm9pbiI6ICJyb3VuZCIsCiAgIm9wYWNpdHkiOiAxLjAsCiAgInJhZGl1cyI6IDUsCiAgInN0cm9rZSI6IHRydWUsCiAgIndlaWdodCI6IDMKfQogICAgICAgICAgICAgICAgKS5hZGRUbyhtYXBfNzFhYWRhOWI2NGU5NGZhOGFhY2ZjZDdjNzgyZWI1NjEpOwogICAgICAgICAgICAKICAgIAogICAgICAgICAgICB2YXIgcG9wdXBfMTE0OWVlZWQzZDNmNDg5ODlkN2Q2ODI4NGRkNmZmMjQgPSBMLnBvcHVwKHttYXhXaWR0aDogJzMwMCd9KTsKCiAgICAgICAgICAgIAogICAgICAgICAgICAgICAgdmFyIGh0bWxfZTVjNjViZGY0MDQzNGUwYmJlYjYwNDBkMTEyMTg0MzMgPSAkKCc8ZGl2IGlkPSJodG1sX2U1YzY1YmRmNDA0MzRlMGJiZWI2MDQwZDExMjE4NDMzIiBzdHlsZT0id2lkdGg6IDEwMC4wJTsgaGVpZ2h0OiAxMDAuMCU7Ij5HcmFuaXRldmlsbGUgQ2x1c3RlciAxPC9kaXY+JylbMF07CiAgICAgICAgICAgICAgICBwb3B1cF8xMTQ5ZWVlZDNkM2Y0ODk4OWQ3ZDY4Mjg0ZGQ2ZmYyNC5zZXRDb250ZW50KGh0bWxfZTVjNjViZGY0MDQzNGUwYmJlYjYwNDBkMTEyMTg0MzMpOwogICAgICAgICAgICAKCiAgICAgICAgICAgIGNpcmNsZV9tYXJrZXJfZmY3Zjc3Y2VlYmUxNGYxODk2MmQxMTdiN2U3YzZmZTYuYmluZFBvcHVwKHBvcHVwXzExNDllZWVkM2QzZjQ4OTg5ZDdkNjgyODRkZDZmZjI0KTsKCiAgICAgICAgICAgIAogICAgICAgIAogICAgCiAgICAgICAgICAgIHZhciBjaXJjbGVfbWFya2VyX2IyMWE0MGNiNmI5NjQ4MTI4MmQ4ZjM2NjU1MmZkYTFkID0gTC5jaXJjbGVNYXJrZXIoCiAgICAgICAgICAgICAgICBbNDAuNjM1MzI1MDk5MTE0OTIsLTc0LjE2NTEwNDIwMjQxMTI0XSwKICAgICAgICAgICAgICAgIHsKICAiYnViYmxpbmdNb3VzZUV2ZW50cyI6IHRydWUsCiAgImNvbG9yIjogIiM4MDAwZmYiLAogICJkYXNoQXJyYXkiOiBudWxsLAogICJkYXNoT2Zmc2V0IjogbnVsbCwKICAiZmlsbCI6IHRydWUsCiAgImZpbGxDb2xvciI6ICIjODAwMGZmIiwKICAiZmlsbE9wYWNpdHkiOiAwLjcsCiAgImZpbGxSdWxlIjogImV2ZW5vZGQiLAogICJsaW5lQ2FwIjogInJvdW5kIiwKICAibGluZUpvaW4iOiAicm91bmQiLAogICJvcGFjaXR5IjogMS4wLAogICJyYWRpdXMiOiA1LAogICJzdHJva2UiOiB0cnVlLAogICJ3ZWlnaHQiOiAzCn0KICAgICAgICAgICAgICAgICkuYWRkVG8obWFwXzcxYWFkYTliNjRlOTRmYThhYWNmY2Q3Yzc4MmViNTYxKTsKICAgICAgICAgICAgCiAgICAKICAgICAgICAgICAgdmFyIHBvcHVwXzI1ODhmZTJjMDRkNjQzNzY4Y2I4ZmVhNDVmZjY0NDliID0gTC5wb3B1cCh7bWF4V2lkdGg6ICczMDAnfSk7CgogICAgICAgICAgICAKICAgICAgICAgICAgICAgIHZhciBodG1sXzYwOGYxN2Y2ODk0OTQyZGE4MWM1ZjEyNmViODY3ZWFiID0gJCgnPGRpdiBpZD0iaHRtbF82MDhmMTdmNjg5NDk0MmRhODFjNWYxMjZlYjg2N2VhYiIgc3R5bGU9IndpZHRoOiAxMDAuMCU7IGhlaWdodDogMTAwLjAlOyI+QXJsaW5ndG9uIENsdXN0ZXIgMTwvZGl2PicpWzBdOwogICAgICAgICAgICAgICAgcG9wdXBfMjU4OGZlMmMwNGQ2NDM3NjhjYjhmZWE0NWZmNjQ0OWIuc2V0Q29udGVudChodG1sXzYwOGYxN2Y2ODk0OTQyZGE4MWM1ZjEyNmViODY3ZWFiKTsKICAgICAgICAgICAgCgogICAgICAgICAgICBjaXJjbGVfbWFya2VyX2IyMWE0MGNiNmI5NjQ4MTI4MmQ4ZjM2NjU1MmZkYTFkLmJpbmRQb3B1cChwb3B1cF8yNTg4ZmUyYzA0ZDY0Mzc2OGNiOGZlYTQ1ZmY2NDQ5Yik7CgogICAgICAgICAgICAKICAgICAgICAKICAgIAogICAgICAgICAgICB2YXIgY2lyY2xlX21hcmtlcl9mZWJkZTMxM2M3ZGY0OTNiYWQ3NzVkNDVhZTFhOWU0OCA9IEwuY2lyY2xlTWFya2VyKAogICAgICAgICAgICAgICAgWzQwLjU5NjMxMjU3MTI3NjczNCwtNzQuMDY3MTIzNjMyMjU1NzRdLAogICAgICAgICAgICAgICAgewogICJidWJibGluZ01vdXNlRXZlbnRzIjogdHJ1ZSwKICAiY29sb3IiOiAiIzgwMDBmZiIsCiAgImRhc2hBcnJheSI6IG51bGwsCiAgImRhc2hPZmZzZXQiOiBudWxsLAogICJmaWxsIjogdHJ1ZSwKICAiZmlsbENvbG9yIjogIiM4MDAwZmYiLAogICJmaWxsT3BhY2l0eSI6IDAuNywKICAiZmlsbFJ1bGUiOiAiZXZlbm9kZCIsCiAgImxpbmVDYXAiOiAicm91bmQiLAogICJsaW5lSm9pbiI6ICJyb3VuZCIsCiAgIm9wYWNpdHkiOiAxLjAsCiAgInJhZGl1cyI6IDUsCiAgInN0cm9rZSI6IHRydWUsCiAgIndlaWdodCI6IDMKfQogICAgICAgICAgICAgICAgKS5hZGRUbyhtYXBfNzFhYWRhOWI2NGU5NGZhOGFhY2ZjZDdjNzgyZWI1NjEpOwogICAgICAgICAgICAKICAgIAogICAgICAgICAgICB2YXIgcG9wdXBfN2QzYWRlMWUyOGFhNDdlZmE3NGQ4MzE4YWVjM2Y1NGEgPSBMLnBvcHVwKHttYXhXaWR0aDogJzMwMCd9KTsKCiAgICAgICAgICAgIAogICAgICAgICAgICAgICAgdmFyIGh0bWxfNDU4YjNkYmNlYzA2NGQ4MGFmNTJlNTFmODU3YTJiMzIgPSAkKCc8ZGl2IGlkPSJodG1sXzQ1OGIzZGJjZWMwNjRkODBhZjUyZTUxZjg1N2EyYjMyIiBzdHlsZT0id2lkdGg6IDEwMC4wJTsgaGVpZ2h0OiAxMDAuMCU7Ij5BcnJvY2hhciBDbHVzdGVyIDE8L2Rpdj4nKVswXTsKICAgICAgICAgICAgICAgIHBvcHVwXzdkM2FkZTFlMjhhYTQ3ZWZhNzRkODMxOGFlYzNmNTRhLnNldENvbnRlbnQoaHRtbF80NThiM2RiY2VjMDY0ZDgwYWY1MmU1MWY4NTdhMmIzMik7CiAgICAgICAgICAgIAoKICAgICAgICAgICAgY2lyY2xlX21hcmtlcl9mZWJkZTMxM2M3ZGY0OTNiYWQ3NzVkNDVhZTFhOWU0OC5iaW5kUG9wdXAocG9wdXBfN2QzYWRlMWUyOGFhNDdlZmE3NGQ4MzE4YWVjM2Y1NGEpOwoKICAgICAgICAgICAgCiAgICAgICAgCiAgICAKICAgICAgICAgICAgdmFyIGNpcmNsZV9tYXJrZXJfMDFmM2UwMGI5NzhmNDViY2I3YWYxMGY3NzY4NWIxNmUgPSBMLmNpcmNsZU1hcmtlcigKICAgICAgICAgICAgICAgIFs0MC41OTgyNjgzNTk1OTk5MSwtNzQuMDc2Njc0MzYyNzkwNV0sCiAgICAgICAgICAgICAgICB7CiAgImJ1YmJsaW5nTW91c2VFdmVudHMiOiB0cnVlLAogICJjb2xvciI6ICIjODAwMGZmIiwKICAiZGFzaEFycmF5IjogbnVsbCwKICAiZGFzaE9mZnNldCI6IG51bGwsCiAgImZpbGwiOiB0cnVlLAogICJmaWxsQ29sb3IiOiAiIzgwMDBmZiIsCiAgImZpbGxPcGFjaXR5IjogMC43LAogICJmaWxsUnVsZSI6ICJldmVub2RkIiwKICAibGluZUNhcCI6ICJyb3VuZCIsCiAgImxpbmVKb2luIjogInJvdW5kIiwKICAib3BhY2l0eSI6IDEuMCwKICAicmFkaXVzIjogNSwKICAic3Ryb2tlIjogdHJ1ZSwKICAid2VpZ2h0IjogMwp9CiAgICAgICAgICAgICAgICApLmFkZFRvKG1hcF83MWFhZGE5YjY0ZTk0ZmE4YWFjZmNkN2M3ODJlYjU2MSk7CiAgICAgICAgICAgIAogICAgCiAgICAgICAgICAgIHZhciBwb3B1cF84YTczYjQyOGE5NWI0NTAyYTk0ZjQ1NTM1MzUzZGFjYSA9IEwucG9wdXAoe21heFdpZHRoOiAnMzAwJ30pOwoKICAgICAgICAgICAgCiAgICAgICAgICAgICAgICB2YXIgaHRtbF8zZWUxMTJhMWM0OTE0OGIyYjNmYmFhODg3OWJhNmViYiA9ICQoJzxkaXYgaWQ9Imh0bWxfM2VlMTEyYTFjNDkxNDhiMmIzZmJhYTg4NzliYTZlYmIiIHN0eWxlPSJ3aWR0aDogMTAwLjAlOyBoZWlnaHQ6IDEwMC4wJTsiPkdyYXNtZXJlIENsdXN0ZXIgMTwvZGl2PicpWzBdOwogICAgICAgICAgICAgICAgcG9wdXBfOGE3M2I0MjhhOTViNDUwMmE5NGY0NTUzNTM1M2RhY2Euc2V0Q29udGVudChodG1sXzNlZTExMmExYzQ5MTQ4YjJiM2ZiYWE4ODc5YmE2ZWJiKTsKICAgICAgICAgICAgCgogICAgICAgICAgICBjaXJjbGVfbWFya2VyXzAxZjNlMDBiOTc4ZjQ1YmNiN2FmMTBmNzc2ODViMTZlLmJpbmRQb3B1cChwb3B1cF84YTczYjQyOGE5NWI0NTAyYTk0ZjQ1NTM1MzUzZGFjYSk7CgogICAgICAgICAgICAKICAgICAgICAKICAgIAogICAgICAgICAgICB2YXIgY2lyY2xlX21hcmtlcl9kMjE3NGRiYzlmYTQ0NzcwYTc5ODg1NDQxOWIyMjAyMyA9IEwuY2lyY2xlTWFya2VyKAogICAgICAgICAgICAgICAgWzQwLjU5NjMyODkxMzc5NTEzLC03NC4wODc1MTExODAwNTU3OF0sCiAgICAgICAgICAgICAgICB7CiAgImJ1YmJsaW5nTW91c2VFdmVudHMiOiB0cnVlLAogICJjb2xvciI6ICIjODAwMGZmIiwKICAiZGFzaEFycmF5IjogbnVsbCwKICAiZGFzaE9mZnNldCI6IG51bGwsCiAgImZpbGwiOiB0cnVlLAogICJmaWxsQ29sb3IiOiAiIzgwMDBmZiIsCiAgImZpbGxPcGFjaXR5IjogMC43LAogICJmaWxsUnVsZSI6ICJldmVub2RkIiwKICAibGluZUNhcCI6ICJyb3VuZCIsCiAgImxpbmVKb2luIjogInJvdW5kIiwKICAib3BhY2l0eSI6IDEuMCwKICAicmFkaXVzIjogNSwKICAic3Ryb2tlIjogdHJ1ZSwKICAid2VpZ2h0IjogMwp9CiAgICAgICAgICAgICAgICApLmFkZFRvKG1hcF83MWFhZGE5YjY0ZTk0ZmE4YWFjZmNkN2M3ODJlYjU2MSk7CiAgICAgICAgICAgIAogICAgCiAgICAgICAgICAgIHZhciBwb3B1cF8zMTk5ZWYxZTBjNTU0N2RkODlkYmI3YWNkMzAyYTBiNyA9IEwucG9wdXAoe21heFdpZHRoOiAnMzAwJ30pOwoKICAgICAgICAgICAgCiAgICAgICAgICAgICAgICB2YXIgaHRtbF9lNGQwYjc4NDdkYzM0MzRkYTg0OWNiODNlODM0MGQwYSA9ICQoJzxkaXYgaWQ9Imh0bWxfZTRkMGI3ODQ3ZGMzNDM0ZGE4NDljYjgzZTgzNDBkMGEiIHN0eWxlPSJ3aWR0aDogMTAwLjAlOyBoZWlnaHQ6IDEwMC4wJTsiPk9sZCBUb3duIENsdXN0ZXIgMTwvZGl2PicpWzBdOwogICAgICAgICAgICAgICAgcG9wdXBfMzE5OWVmMWUwYzU1NDdkZDg5ZGJiN2FjZDMwMmEwYjcuc2V0Q29udGVudChodG1sX2U0ZDBiNzg0N2RjMzQzNGRhODQ5Y2I4M2U4MzQwZDBhKTsKICAgICAgICAgICAgCgogICAgICAgICAgICBjaXJjbGVfbWFya2VyX2QyMTc0ZGJjOWZhNDQ3NzBhNzk4ODU0NDE5YjIyMDIzLmJpbmRQb3B1cChwb3B1cF8zMTk5ZWYxZTBjNTU0N2RkODlkYmI3YWNkMzAyYTBiNyk7CgogICAgICAgICAgICAKICAgICAgICAKICAgIAogICAgICAgICAgICB2YXIgY2lyY2xlX21hcmtlcl9hY2Y2Y2I2MDJkNDk0YzM2OTc5NzI0ZDU4YjY4NjU0MiA9IEwuY2lyY2xlTWFya2VyKAogICAgICAgICAgICAgICAgWzQwLjU4ODY3Mjk0ODE5OTI3NSwtNzQuMDk2Mzk5MDUzMTI1MjFdLAogICAgICAgICAgICAgICAgewogICJidWJibGluZ01vdXNlRXZlbnRzIjogdHJ1ZSwKICAiY29sb3IiOiAiIzgwMDBmZiIsCiAgImRhc2hBcnJheSI6IG51bGwsCiAgImRhc2hPZmZzZXQiOiBudWxsLAogICJmaWxsIjogdHJ1ZSwKICAiZmlsbENvbG9yIjogIiM4MDAwZmYiLAogICJmaWxsT3BhY2l0eSI6IDAuNywKICAiZmlsbFJ1bGUiOiAiZXZlbm9kZCIsCiAgImxpbmVDYXAiOiAicm91bmQiLAogICJsaW5lSm9pbiI6ICJyb3VuZCIsCiAgIm9wYWNpdHkiOiAxLjAsCiAgInJhZGl1cyI6IDUsCiAgInN0cm9rZSI6IHRydWUsCiAgIndlaWdodCI6IDMKfQogICAgICAgICAgICAgICAgKS5hZGRUbyhtYXBfNzFhYWRhOWI2NGU5NGZhOGFhY2ZjZDdjNzgyZWI1NjEpOwogICAgICAgICAgICAKICAgIAogICAgICAgICAgICB2YXIgcG9wdXBfZmNkNmI0MzNiNDI5NGFiMDgwZGRlZDBiMDdkYzFlOTIgPSBMLnBvcHVwKHttYXhXaWR0aDogJzMwMCd9KTsKCiAgICAgICAgICAgIAogICAgICAgICAgICAgICAgdmFyIGh0bWxfMzNmM2E2MjU5NWU3NGM5NTk0ZDc1MjUxY2M2ZmI0YjAgPSAkKCc8ZGl2IGlkPSJodG1sXzMzZjNhNjI1OTVlNzRjOTU5NGQ3NTI1MWNjNmZiNGIwIiBzdHlsZT0id2lkdGg6IDEwMC4wJTsgaGVpZ2h0OiAxMDAuMCU7Ij5Eb25nYW4gSGlsbHMgQ2x1c3RlciAxPC9kaXY+JylbMF07CiAgICAgICAgICAgICAgICBwb3B1cF9mY2Q2YjQzM2I0Mjk0YWIwODBkZGVkMGIwN2RjMWU5Mi5zZXRDb250ZW50KGh0bWxfMzNmM2E2MjU5NWU3NGM5NTk0ZDc1MjUxY2M2ZmI0YjApOwogICAgICAgICAgICAKCiAgICAgICAgICAgIGNpcmNsZV9tYXJrZXJfYWNmNmNiNjAyZDQ5NGMzNjk3OTcyNGQ1OGI2ODY1NDIuYmluZFBvcHVwKHBvcHVwX2ZjZDZiNDMzYjQyOTRhYjA4MGRkZWQwYjA3ZGMxZTkyKTsKCiAgICAgICAgICAgIAogICAgICAgIAogICAgCiAgICAgICAgICAgIHZhciBjaXJjbGVfbWFya2VyX2I4ZjgwZmZjOGZjZTQ5NjE4YWY2YWViY2Y1NWIxODU5ID0gTC5jaXJjbGVNYXJrZXIoCiAgICAgICAgICAgICAgICBbNDAuNTczNTI2OTA1NzQyODMsLTc0LjA5MzQ4MjY2MzAzNTkxXSwKICAgICAgICAgICAgICAgIHsKICAiYnViYmxpbmdNb3VzZUV2ZW50cyI6IHRydWUsCiAgImNvbG9yIjogIiM4MDAwZmYiLAogICJkYXNoQXJyYXkiOiBudWxsLAogICJkYXNoT2Zmc2V0IjogbnVsbCwKICAiZmlsbCI6IHRydWUsCiAgImZpbGxDb2xvciI6ICIjODAwMGZmIiwKICAiZmlsbE9wYWNpdHkiOiAwLjcsCiAgImZpbGxSdWxlIjogImV2ZW5vZGQiLAogICJsaW5lQ2FwIjogInJvdW5kIiwKICAibGluZUpvaW4iOiAicm91bmQiLAogICJvcGFjaXR5IjogMS4wLAogICJyYWRpdXMiOiA1LAogICJzdHJva2UiOiB0cnVlLAogICJ3ZWlnaHQiOiAzCn0KICAgICAgICAgICAgICAgICkuYWRkVG8obWFwXzcxYWFkYTliNjRlOTRmYThhYWNmY2Q3Yzc4MmViNTYxKTsKICAgICAgICAgICAgCiAgICAKICAgICAgICAgICAgdmFyIHBvcHVwXzc3MjE4YWU1MmFiMTRhOWM5Y2MyNTBkYzNjZmFlZTBlID0gTC5wb3B1cCh7bWF4V2lkdGg6ICczMDAnfSk7CgogICAgICAgICAgICAKICAgICAgICAgICAgICAgIHZhciBodG1sXzY0YTY1MjExMzhkZDQ4OTViZDM0ZTgxOWE2NTZiMzg5ID0gJCgnPGRpdiBpZD0iaHRtbF82NGE2NTIxMTM4ZGQ0ODk1YmQzNGU4MTlhNjU2YjM4OSIgc3R5bGU9IndpZHRoOiAxMDAuMCU7IGhlaWdodDogMTAwLjAlOyI+TWlkbGFuZCBCZWFjaCBDbHVzdGVyIDE8L2Rpdj4nKVswXTsKICAgICAgICAgICAgICAgIHBvcHVwXzc3MjE4YWU1MmFiMTRhOWM5Y2MyNTBkYzNjZmFlZTBlLnNldENvbnRlbnQoaHRtbF82NGE2NTIxMTM4ZGQ0ODk1YmQzNGU4MTlhNjU2YjM4OSk7CiAgICAgICAgICAgIAoKICAgICAgICAgICAgY2lyY2xlX21hcmtlcl9iOGY4MGZmYzhmY2U0OTYxOGFmNmFlYmNmNTViMTg1OS5iaW5kUG9wdXAocG9wdXBfNzcyMThhZTUyYWIxNGE5YzljYzI1MGRjM2NmYWVlMGUpOwoKICAgICAgICAgICAgCiAgICAgICAgCiAgICAKICAgICAgICAgICAgdmFyIGNpcmNsZV9tYXJrZXJfYjc5NGE0NmQyNzI1NGUwNDkzMjYzMzc5YTE1ZTVmNzkgPSBMLmNpcmNsZU1hcmtlcigKICAgICAgICAgICAgICAgIFs0MC41NzYyMTU1ODcxMTc4OCwtNzQuMTA1ODU1OTg1NDU0MzRdLAogICAgICAgICAgICAgICAgewogICJidWJibGluZ01vdXNlRXZlbnRzIjogdHJ1ZSwKICAiY29sb3IiOiAiIzgwMDBmZiIsCiAgImRhc2hBcnJheSI6IG51bGwsCiAgImRhc2hPZmZzZXQiOiBudWxsLAogICJmaWxsIjogdHJ1ZSwKICAiZmlsbENvbG9yIjogIiM4MDAwZmYiLAogICJmaWxsT3BhY2l0eSI6IDAuNywKICAiZmlsbFJ1bGUiOiAiZXZlbm9kZCIsCiAgImxpbmVDYXAiOiAicm91bmQiLAogICJsaW5lSm9pbiI6ICJyb3VuZCIsCiAgIm9wYWNpdHkiOiAxLjAsCiAgInJhZGl1cyI6IDUsCiAgInN0cm9rZSI6IHRydWUsCiAgIndlaWdodCI6IDMKfQogICAgICAgICAgICAgICAgKS5hZGRUbyhtYXBfNzFhYWRhOWI2NGU5NGZhOGFhY2ZjZDdjNzgyZWI1NjEpOwogICAgICAgICAgICAKICAgIAogICAgICAgICAgICB2YXIgcG9wdXBfMmU2NjlhZWNmYzJiNGY0NGE1ZTMzNDU5ZTlmYThlMTAgPSBMLnBvcHVwKHttYXhXaWR0aDogJzMwMCd9KTsKCiAgICAgICAgICAgIAogICAgICAgICAgICAgICAgdmFyIGh0bWxfOGE0MTBhNjkzZTUzNDgyNGEwMzQ3ODUwMGVmMmRkM2YgPSAkKCc8ZGl2IGlkPSJodG1sXzhhNDEwYTY5M2U1MzQ4MjRhMDM0Nzg1MDBlZjJkZDNmIiBzdHlsZT0id2lkdGg6IDEwMC4wJTsgaGVpZ2h0OiAxMDAuMCU7Ij5HcmFudCBDaXR5IENsdXN0ZXIgMTwvZGl2PicpWzBdOwogICAgICAgICAgICAgICAgcG9wdXBfMmU2NjlhZWNmYzJiNGY0NGE1ZTMzNDU5ZTlmYThlMTAuc2V0Q29udGVudChodG1sXzhhNDEwYTY5M2U1MzQ4MjRhMDM0Nzg1MDBlZjJkZDNmKTsKICAgICAgICAgICAgCgogICAgICAgICAgICBjaXJjbGVfbWFya2VyX2I3OTRhNDZkMjcyNTRlMDQ5MzI2MzM3OWExNWU1Zjc5LmJpbmRQb3B1cChwb3B1cF8yZTY2OWFlY2ZjMmI0ZjQ0YTVlMzM0NTllOWZhOGUxMCk7CgogICAgICAgICAgICAKICAgICAgICAKICAgIAogICAgICAgICAgICB2YXIgY2lyY2xlX21hcmtlcl82NTMyNWNkY2I2ODU0MTY4OTcyZGRjMWVjMGZjZGZjZCA9IEwuY2lyY2xlTWFya2VyKAogICAgICAgICAgICAgICAgWzQwLjU2NDI1NTQ5MzA3MzM1LC03NC4xMDQzMjcwNzQ2OTEyNF0sCiAgICAgICAgICAgICAgICB7CiAgImJ1YmJsaW5nTW91c2VFdmVudHMiOiB0cnVlLAogICJjb2xvciI6ICIjODAwMGZmIiwKICAiZGFzaEFycmF5IjogbnVsbCwKICAiZGFzaE9mZnNldCI6IG51bGwsCiAgImZpbGwiOiB0cnVlLAogICJmaWxsQ29sb3IiOiAiIzgwMDBmZiIsCiAgImZpbGxPcGFjaXR5IjogMC43LAogICJmaWxsUnVsZSI6ICJldmVub2RkIiwKICAibGluZUNhcCI6ICJyb3VuZCIsCiAgImxpbmVKb2luIjogInJvdW5kIiwKICAib3BhY2l0eSI6IDEuMCwKICAicmFkaXVzIjogNSwKICAic3Ryb2tlIjogdHJ1ZSwKICAid2VpZ2h0IjogMwp9CiAgICAgICAgICAgICAgICApLmFkZFRvKG1hcF83MWFhZGE5YjY0ZTk0ZmE4YWFjZmNkN2M3ODJlYjU2MSk7CiAgICAgICAgICAgIAogICAgCiAgICAgICAgICAgIHZhciBwb3B1cF85NTc2MTlkZTRlMjk0YjI4YjEyOTVjY2MyMjA3ZTk5ZCA9IEwucG9wdXAoe21heFdpZHRoOiAnMzAwJ30pOwoKICAgICAgICAgICAgCiAgICAgICAgICAgICAgICB2YXIgaHRtbF9kZGQ1M2UzZmFjNzk0ODMyYTQ2NmZiMDdlMmI5NjI3ZSA9ICQoJzxkaXYgaWQ9Imh0bWxfZGRkNTNlM2ZhYzc5NDgzMmE0NjZmYjA3ZTJiOTYyN2UiIHN0eWxlPSJ3aWR0aDogMTAwLjAlOyBoZWlnaHQ6IDEwMC4wJTsiPk5ldyBEb3JwIEJlYWNoIENsdXN0ZXIgMTwvZGl2PicpWzBdOwogICAgICAgICAgICAgICAgcG9wdXBfOTU3NjE5ZGU0ZTI5NGIyOGIxMjk1Y2NjMjIwN2U5OWQuc2V0Q29udGVudChodG1sX2RkZDUzZTNmYWM3OTQ4MzJhNDY2ZmIwN2UyYjk2MjdlKTsKICAgICAgICAgICAgCgogICAgICAgICAgICBjaXJjbGVfbWFya2VyXzY1MzI1Y2RjYjY4NTQxNjg5NzJkZGMxZWMwZmNkZmNkLmJpbmRQb3B1cChwb3B1cF85NTc2MTlkZTRlMjk0YjI4YjEyOTVjY2MyMjA3ZTk5ZCk7CgogICAgICAgICAgICAKICAgICAgICAKICAgIAogICAgICAgICAgICB2YXIgY2lyY2xlX21hcmtlcl9iZDFjMjg0ODI5Y2E0NzljYTZjOWQxZTYxNmU5MzIzMCA9IEwuY2lyY2xlTWFya2VyKAogICAgICAgICAgICAgICAgWzQwLjUzMTkxMTkyMDQ4OTYwNSwtNzQuMTkxNzQxMDU3NDc4MTRdLAogICAgICAgICAgICAgICAgewogICJidWJibGluZ01vdXNlRXZlbnRzIjogdHJ1ZSwKICAiY29sb3IiOiAiIzgwMDBmZiIsCiAgImRhc2hBcnJheSI6IG51bGwsCiAgImRhc2hPZmZzZXQiOiBudWxsLAogICJmaWxsIjogdHJ1ZSwKICAiZmlsbENvbG9yIjogIiM4MDAwZmYiLAogICJmaWxsT3BhY2l0eSI6IDAuNywKICAiZmlsbFJ1bGUiOiAiZXZlbm9kZCIsCiAgImxpbmVDYXAiOiAicm91bmQiLAogICJsaW5lSm9pbiI6ICJyb3VuZCIsCiAgIm9wYWNpdHkiOiAxLjAsCiAgInJhZGl1cyI6IDUsCiAgInN0cm9rZSI6IHRydWUsCiAgIndlaWdodCI6IDMKfQogICAgICAgICAgICAgICAgKS5hZGRUbyhtYXBfNzFhYWRhOWI2NGU5NGZhOGFhY2ZjZDdjNzgyZWI1NjEpOwogICAgICAgICAgICAKICAgIAogICAgICAgICAgICB2YXIgcG9wdXBfNjhlNmY3ZDkxODIyNGVlY2E1NjViNWVmZTg2NDdhYmYgPSBMLnBvcHVwKHttYXhXaWR0aDogJzMwMCd9KTsKCiAgICAgICAgICAgIAogICAgICAgICAgICAgICAgdmFyIGh0bWxfMWM2ZGY1MTM4ZmE2NDNkOThlNjI1MDQyZGMxOTZiMWUgPSAkKCc8ZGl2IGlkPSJodG1sXzFjNmRmNTEzOGZhNjQzZDk4ZTYyNTA0MmRjMTk2YjFlIiBzdHlsZT0id2lkdGg6IDEwMC4wJTsgaGVpZ2h0OiAxMDAuMCU7Ij5IdWd1ZW5vdCBDbHVzdGVyIDE8L2Rpdj4nKVswXTsKICAgICAgICAgICAgICAgIHBvcHVwXzY4ZTZmN2Q5MTgyMjRlZWNhNTY1YjVlZmU4NjQ3YWJmLnNldENvbnRlbnQoaHRtbF8xYzZkZjUxMzhmYTY0M2Q5OGU2MjUwNDJkYzE5NmIxZSk7CiAgICAgICAgICAgIAoKICAgICAgICAgICAgY2lyY2xlX21hcmtlcl9iZDFjMjg0ODI5Y2E0NzljYTZjOWQxZTYxNmU5MzIzMC5iaW5kUG9wdXAocG9wdXBfNjhlNmY3ZDkxODIyNGVlY2E1NjViNWVmZTg2NDdhYmYpOwoKICAgICAgICAgICAgCiAgICAgICAgCiAgICAKICAgICAgICAgICAgdmFyIGNpcmNsZV9tYXJrZXJfOGIzMzk4MmNiYTdhNDgxN2FlY2M3MWU4MThiYTZlNDYgPSBMLmNpcmNsZU1hcmtlcigKICAgICAgICAgICAgICAgIFs0MC41MjQ2OTkzNzYxMTgxMzYsLTc0LjIxOTgzMTA2NjE2Nzc3XSwKICAgICAgICAgICAgICAgIHsKICAiYnViYmxpbmdNb3VzZUV2ZW50cyI6IHRydWUsCiAgImNvbG9yIjogIiM4MDAwZmYiLAogICJkYXNoQXJyYXkiOiBudWxsLAogICJkYXNoT2Zmc2V0IjogbnVsbCwKICAiZmlsbCI6IHRydWUsCiAgImZpbGxDb2xvciI6ICIjODAwMGZmIiwKICAiZmlsbE9wYWNpdHkiOiAwLjcsCiAgImZpbGxSdWxlIjogImV2ZW5vZGQiLAogICJsaW5lQ2FwIjogInJvdW5kIiwKICAibGluZUpvaW4iOiAicm91bmQiLAogICJvcGFjaXR5IjogMS4wLAogICJyYWRpdXMiOiA1LAogICJzdHJva2UiOiB0cnVlLAogICJ3ZWlnaHQiOiAzCn0KICAgICAgICAgICAgICAgICkuYWRkVG8obWFwXzcxYWFkYTliNjRlOTRmYThhYWNmY2Q3Yzc4MmViNTYxKTsKICAgICAgICAgICAgCiAgICAKICAgICAgICAgICAgdmFyIHBvcHVwXzQ0NTBiNDc0ZmRkNjRkY2NiMGVlODI2MjVmOTUyZjU5ID0gTC5wb3B1cCh7bWF4V2lkdGg6ICczMDAnfSk7CgogICAgICAgICAgICAKICAgICAgICAgICAgICAgIHZhciBodG1sXzJiOWY4NTgzMWZiMDQ2MDBhYmYyNGExMTc3NDY0ZDkxID0gJCgnPGRpdiBpZD0iaHRtbF8yYjlmODU4MzFmYjA0NjAwYWJmMjRhMTE3NzQ2NGQ5MSIgc3R5bGU9IndpZHRoOiAxMDAuMCU7IGhlaWdodDogMTAwLjAlOyI+UGxlYXNhbnQgUGxhaW5zIENsdXN0ZXIgMTwvZGl2PicpWzBdOwogICAgICAgICAgICAgICAgcG9wdXBfNDQ1MGI0NzRmZGQ2NGRjY2IwZWU4MjYyNWY5NTJmNTkuc2V0Q29udGVudChodG1sXzJiOWY4NTgzMWZiMDQ2MDBhYmYyNGExMTc3NDY0ZDkxKTsKICAgICAgICAgICAgCgogICAgICAgICAgICBjaXJjbGVfbWFya2VyXzhiMzM5ODJjYmE3YTQ4MTdhZWNjNzFlODE4YmE2ZTQ2LmJpbmRQb3B1cChwb3B1cF80NDUwYjQ3NGZkZDY0ZGNjYjBlZTgyNjI1Zjk1MmY1OSk7CgogICAgICAgICAgICAKICAgICAgICAKICAgIAogICAgICAgICAgICB2YXIgY2lyY2xlX21hcmtlcl83OWRjNzIyNDIyNzQ0NTMyYjYzMTE5N2Y1NTg0OGU4ZSA9IEwuY2lyY2xlTWFya2VyKAogICAgICAgICAgICAgICAgWzQwLjUwNjA4MTY1MzQ2MzA1LC03NC4yMjk1MDM1MDI2MDAyN10sCiAgICAgICAgICAgICAgICB7CiAgImJ1YmJsaW5nTW91c2VFdmVudHMiOiB0cnVlLAogICJjb2xvciI6ICIjODAwMGZmIiwKICAiZGFzaEFycmF5IjogbnVsbCwKICAiZGFzaE9mZnNldCI6IG51bGwsCiAgImZpbGwiOiB0cnVlLAogICJmaWxsQ29sb3IiOiAiIzgwMDBmZiIsCiAgImZpbGxPcGFjaXR5IjogMC43LAogICJmaWxsUnVsZSI6ICJldmVub2RkIiwKICAibGluZUNhcCI6ICJyb3VuZCIsCiAgImxpbmVKb2luIjogInJvdW5kIiwKICAib3BhY2l0eSI6IDEuMCwKICAicmFkaXVzIjogNSwKICAic3Ryb2tlIjogdHJ1ZSwKICAid2VpZ2h0IjogMwp9CiAgICAgICAgICAgICAgICApLmFkZFRvKG1hcF83MWFhZGE5YjY0ZTk0ZmE4YWFjZmNkN2M3ODJlYjU2MSk7CiAgICAgICAgICAgIAogICAgCiAgICAgICAgICAgIHZhciBwb3B1cF9jM2JkOTY3Njc4YWI0MWY1OWIwMmI2N2FiYzQ0YTBlMSA9IEwucG9wdXAoe21heFdpZHRoOiAnMzAwJ30pOwoKICAgICAgICAgICAgCiAgICAgICAgICAgICAgICB2YXIgaHRtbF8wOTI2YWFkNDI5OTU0YTNmODZmMGMwYmQ4OWFmN2FiYiA9ICQoJzxkaXYgaWQ9Imh0bWxfMDkyNmFhZDQyOTk1NGEzZjg2ZjBjMGJkODlhZjdhYmIiIHN0eWxlPSJ3aWR0aDogMTAwLjAlOyBoZWlnaHQ6IDEwMC4wJTsiPkJ1dGxlciBNYW5vciBDbHVzdGVyIDE8L2Rpdj4nKVswXTsKICAgICAgICAgICAgICAgIHBvcHVwX2MzYmQ5Njc2NzhhYjQxZjU5YjAyYjY3YWJjNDRhMGUxLnNldENvbnRlbnQoaHRtbF8wOTI2YWFkNDI5OTU0YTNmODZmMGMwYmQ4OWFmN2FiYik7CiAgICAgICAgICAgIAoKICAgICAgICAgICAgY2lyY2xlX21hcmtlcl83OWRjNzIyNDIyNzQ0NTMyYjYzMTE5N2Y1NTg0OGU4ZS5iaW5kUG9wdXAocG9wdXBfYzNiZDk2NzY3OGFiNDFmNTliMDJiNjdhYmM0NGEwZTEpOwoKICAgICAgICAgICAgCiAgICAgICAgCiAgICAKICAgICAgICAgICAgdmFyIGNpcmNsZV9tYXJrZXJfYjI2MmQ5MDAyZGZmNDcwZDkzMWMwNzQxOTc4NzhkMjAgPSBMLmNpcmNsZU1hcmtlcigKICAgICAgICAgICAgICAgIFs0MC41MzA1MzE0ODI4MzMxNCwtNzQuMjMyMTU3NzU4OTY1MjZdLAogICAgICAgICAgICAgICAgewogICJidWJibGluZ01vdXNlRXZlbnRzIjogdHJ1ZSwKICAiY29sb3IiOiAiIzgwMDBmZiIsCiAgImRhc2hBcnJheSI6IG51bGwsCiAgImRhc2hPZmZzZXQiOiBudWxsLAogICJmaWxsIjogdHJ1ZSwKICAiZmlsbENvbG9yIjogIiM4MDAwZmYiLAogICJmaWxsT3BhY2l0eSI6IDAuNywKICAiZmlsbFJ1bGUiOiAiZXZlbm9kZCIsCiAgImxpbmVDYXAiOiAicm91bmQiLAogICJsaW5lSm9pbiI6ICJyb3VuZCIsCiAgIm9wYWNpdHkiOiAxLjAsCiAgInJhZGl1cyI6IDUsCiAgInN0cm9rZSI6IHRydWUsCiAgIndlaWdodCI6IDMKfQogICAgICAgICAgICAgICAgKS5hZGRUbyhtYXBfNzFhYWRhOWI2NGU5NGZhOGFhY2ZjZDdjNzgyZWI1NjEpOwogICAgICAgICAgICAKICAgIAogICAgICAgICAgICB2YXIgcG9wdXBfYTIzN2Q0OGRmYWE5NGU3MmI1ZTNhNDczMjYyN2JhNTAgPSBMLnBvcHVwKHttYXhXaWR0aDogJzMwMCd9KTsKCiAgICAgICAgICAgIAogICAgICAgICAgICAgICAgdmFyIGh0bWxfOGY5ZWZhNTA2OTlhNDM4MmEzMWEzMjkzZDRjOTNlNzIgPSAkKCc8ZGl2IGlkPSJodG1sXzhmOWVmYTUwNjk5YTQzODJhMzFhMzI5M2Q0YzkzZTcyIiBzdHlsZT0id2lkdGg6IDEwMC4wJTsgaGVpZ2h0OiAxMDAuMCU7Ij5DaGFybGVzdG9uIENsdXN0ZXIgMTwvZGl2PicpWzBdOwogICAgICAgICAgICAgICAgcG9wdXBfYTIzN2Q0OGRmYWE5NGU3MmI1ZTNhNDczMjYyN2JhNTAuc2V0Q29udGVudChodG1sXzhmOWVmYTUwNjk5YTQzODJhMzFhMzI5M2Q0YzkzZTcyKTsKICAgICAgICAgICAgCgogICAgICAgICAgICBjaXJjbGVfbWFya2VyX2IyNjJkOTAwMmRmZjQ3MGQ5MzFjMDc0MTk3ODc4ZDIwLmJpbmRQb3B1cChwb3B1cF9hMjM3ZDQ4ZGZhYTk0ZTcyYjVlM2E0NzMyNjI3YmE1MCk7CgogICAgICAgICAgICAKICAgICAgICAKICAgIAogICAgICAgICAgICB2YXIgY2lyY2xlX21hcmtlcl80ZDZiZmIzNWI0NmI0NDViOTU4Nzg0Y2E2YThiZWM0YiA9IEwuY2lyY2xlTWFya2VyKAogICAgICAgICAgICAgICAgWzQwLjU0OTQwNDAwNjUwMDcyLC03NC4yMTU3Mjg1MTExMzk1Ml0sCiAgICAgICAgICAgICAgICB7CiAgImJ1YmJsaW5nTW91c2VFdmVudHMiOiB0cnVlLAogICJjb2xvciI6ICIjODAwMGZmIiwKICAiZGFzaEFycmF5IjogbnVsbCwKICAiZGFzaE9mZnNldCI6IG51bGwsCiAgImZpbGwiOiB0cnVlLAogICJmaWxsQ29sb3IiOiAiIzgwMDBmZiIsCiAgImZpbGxPcGFjaXR5IjogMC43LAogICJmaWxsUnVsZSI6ICJldmVub2RkIiwKICAibGluZUNhcCI6ICJyb3VuZCIsCiAgImxpbmVKb2luIjogInJvdW5kIiwKICAib3BhY2l0eSI6IDEuMCwKICAicmFkaXVzIjogNSwKICAic3Ryb2tlIjogdHJ1ZSwKICAid2VpZ2h0IjogMwp9CiAgICAgICAgICAgICAgICApLmFkZFRvKG1hcF83MWFhZGE5YjY0ZTk0ZmE4YWFjZmNkN2M3ODJlYjU2MSk7CiAgICAgICAgICAgIAogICAgCiAgICAgICAgICAgIHZhciBwb3B1cF9lYmRhYTM1NDE1ZWU0NWM0YTliZjI1YjYxNTZmNzNkNyA9IEwucG9wdXAoe21heFdpZHRoOiAnMzAwJ30pOwoKICAgICAgICAgICAgCiAgICAgICAgICAgICAgICB2YXIgaHRtbF8xMWJjZDc0ZjgxNzg0YWZiYTVlNjUxMTk2ZDVhZWMyYyA9ICQoJzxkaXYgaWQ9Imh0bWxfMTFiY2Q3NGY4MTc4NGFmYmE1ZTY1MTE5NmQ1YWVjMmMiIHN0eWxlPSJ3aWR0aDogMTAwLjAlOyBoZWlnaHQ6IDEwMC4wJTsiPlJvc3N2aWxsZSBDbHVzdGVyIDE8L2Rpdj4nKVswXTsKICAgICAgICAgICAgICAgIHBvcHVwX2ViZGFhMzU0MTVlZTQ1YzRhOWJmMjViNjE1NmY3M2Q3LnNldENvbnRlbnQoaHRtbF8xMWJjZDc0ZjgxNzg0YWZiYTVlNjUxMTk2ZDVhZWMyYyk7CiAgICAgICAgICAgIAoKICAgICAgICAgICAgY2lyY2xlX21hcmtlcl80ZDZiZmIzNWI0NmI0NDViOTU4Nzg0Y2E2YThiZWM0Yi5iaW5kUG9wdXAocG9wdXBfZWJkYWEzNTQxNWVlNDVjNGE5YmYyNWI2MTU2ZjczZDcpOwoKICAgICAgICAgICAgCiAgICAgICAgCiAgICAKICAgICAgICAgICAgdmFyIGNpcmNsZV9tYXJrZXJfNWI2NDc5MjUyMjgzNGRmOTkzZTM3ZDcwNmFjNjA5ZTEgPSBMLmNpcmNsZU1hcmtlcigKICAgICAgICAgICAgICAgIFs0MC41NDkyODU4MjI3ODMyMSwtNzQuMTg1ODg2NzQ1ODM4OTNdLAogICAgICAgICAgICAgICAgewogICJidWJibGluZ01vdXNlRXZlbnRzIjogdHJ1ZSwKICAiY29sb3IiOiAiIzgwMDBmZiIsCiAgImRhc2hBcnJheSI6IG51bGwsCiAgImRhc2hPZmZzZXQiOiBudWxsLAogICJmaWxsIjogdHJ1ZSwKICAiZmlsbENvbG9yIjogIiM4MDAwZmYiLAogICJmaWxsT3BhY2l0eSI6IDAuNywKICAiZmlsbFJ1bGUiOiAiZXZlbm9kZCIsCiAgImxpbmVDYXAiOiAicm91bmQiLAogICJsaW5lSm9pbiI6ICJyb3VuZCIsCiAgIm9wYWNpdHkiOiAxLjAsCiAgInJhZGl1cyI6IDUsCiAgInN0cm9rZSI6IHRydWUsCiAgIndlaWdodCI6IDMKfQogICAgICAgICAgICAgICAgKS5hZGRUbyhtYXBfNzFhYWRhOWI2NGU5NGZhOGFhY2ZjZDdjNzgyZWI1NjEpOwogICAgICAgICAgICAKICAgIAogICAgICAgICAgICB2YXIgcG9wdXBfMTliOGQzMGQyYmQ4NDk3Mjg2NzBjY2ZkY2JjMTg3NjEgPSBMLnBvcHVwKHttYXhXaWR0aDogJzMwMCd9KTsKCiAgICAgICAgICAgIAogICAgICAgICAgICAgICAgdmFyIGh0bWxfMjg1ZTIxMzE0MzBlNGIzZjk5MTk4MWVkNWY4MjVhMmIgPSAkKCc8ZGl2IGlkPSJodG1sXzI4NWUyMTMxNDMwZTRiM2Y5OTE5ODFlZDVmODI1YTJiIiBzdHlsZT0id2lkdGg6IDEwMC4wJTsgaGVpZ2h0OiAxMDAuMCU7Ij5BcmRlbiBIZWlnaHRzIENsdXN0ZXIgMTwvZGl2PicpWzBdOwogICAgICAgICAgICAgICAgcG9wdXBfMTliOGQzMGQyYmQ4NDk3Mjg2NzBjY2ZkY2JjMTg3NjEuc2V0Q29udGVudChodG1sXzI4NWUyMTMxNDMwZTRiM2Y5OTE5ODFlZDVmODI1YTJiKTsKICAgICAgICAgICAgCgogICAgICAgICAgICBjaXJjbGVfbWFya2VyXzViNjQ3OTI1MjI4MzRkZjk5M2UzN2Q3MDZhYzYwOWUxLmJpbmRQb3B1cChwb3B1cF8xOWI4ZDMwZDJiZDg0OTcyODY3MGNjZmRjYmMxODc2MSk7CgogICAgICAgICAgICAKICAgICAgICAKICAgIAogICAgICAgICAgICB2YXIgY2lyY2xlX21hcmtlcl9mNjI2MmY0YjY4YTc0Y2FjYTUzYjJhZjYzOTU2NWZjZSA9IEwuY2lyY2xlTWFya2VyKAogICAgICAgICAgICAgICAgWzQwLjU1NTI5NTIzNjE3MzE5NCwtNzQuMTcwNzk0MTQ3ODYwOTJdLAogICAgICAgICAgICAgICAgewogICJidWJibGluZ01vdXNlRXZlbnRzIjogdHJ1ZSwKICAiY29sb3IiOiAiIzgwMDBmZiIsCiAgImRhc2hBcnJheSI6IG51bGwsCiAgImRhc2hPZmZzZXQiOiBudWxsLAogICJmaWxsIjogdHJ1ZSwKICAiZmlsbENvbG9yIjogIiM4MDAwZmYiLAogICJmaWxsT3BhY2l0eSI6IDAuNywKICAiZmlsbFJ1bGUiOiAiZXZlbm9kZCIsCiAgImxpbmVDYXAiOiAicm91bmQiLAogICJsaW5lSm9pbiI6ICJyb3VuZCIsCiAgIm9wYWNpdHkiOiAxLjAsCiAgInJhZGl1cyI6IDUsCiAgInN0cm9rZSI6IHRydWUsCiAgIndlaWdodCI6IDMKfQogICAgICAgICAgICAgICAgKS5hZGRUbyhtYXBfNzFhYWRhOWI2NGU5NGZhOGFhY2ZjZDdjNzgyZWI1NjEpOwogICAgICAgICAgICAKICAgIAogICAgICAgICAgICB2YXIgcG9wdXBfYjU2MzIyYTRhNGJkNGEyODk3YWMxNGEyNmQ0MzNiYmUgPSBMLnBvcHVwKHttYXhXaWR0aDogJzMwMCd9KTsKCiAgICAgICAgICAgIAogICAgICAgICAgICAgICAgdmFyIGh0bWxfZTU3MjRlNjhmZDJjNGVmYTkzZjExYTcyOTY0MTg1Y2YgPSAkKCc8ZGl2IGlkPSJodG1sX2U1NzI0ZTY4ZmQyYzRlZmE5M2YxMWE3Mjk2NDE4NWNmIiBzdHlsZT0id2lkdGg6IDEwMC4wJTsgaGVpZ2h0OiAxMDAuMCU7Ij5HcmVlbnJpZGdlIENsdXN0ZXIgMTwvZGl2PicpWzBdOwogICAgICAgICAgICAgICAgcG9wdXBfYjU2MzIyYTRhNGJkNGEyODk3YWMxNGEyNmQ0MzNiYmUuc2V0Q29udGVudChodG1sX2U1NzI0ZTY4ZmQyYzRlZmE5M2YxMWE3Mjk2NDE4NWNmKTsKICAgICAgICAgICAgCgogICAgICAgICAgICBjaXJjbGVfbWFya2VyX2Y2MjYyZjRiNjhhNzRjYWNhNTNiMmFmNjM5NTY1ZmNlLmJpbmRQb3B1cChwb3B1cF9iNTYzMjJhNGE0YmQ0YTI4OTdhYzE0YTI2ZDQzM2JiZSk7CgogICAgICAgICAgICAKICAgICAgICAKICAgIAogICAgICAgICAgICB2YXIgY2lyY2xlX21hcmtlcl82ZjcyZmYzMjNlZmU0M2Y3OWYwMTMwNGIxMmNkMWNjMSA9IEwuY2lyY2xlTWFya2VyKAogICAgICAgICAgICAgICAgWzQwLjU4OTEzODk0ODc1MjgxLC03NC4xNTkwMjIwODE1NjYwMV0sCiAgICAgICAgICAgICAgICB7CiAgImJ1YmJsaW5nTW91c2VFdmVudHMiOiB0cnVlLAogICJjb2xvciI6ICIjODAwMGZmIiwKICAiZGFzaEFycmF5IjogbnVsbCwKICAiZGFzaE9mZnNldCI6IG51bGwsCiAgImZpbGwiOiB0cnVlLAogICJmaWxsQ29sb3IiOiAiIzgwMDBmZiIsCiAgImZpbGxPcGFjaXR5IjogMC43LAogICJmaWxsUnVsZSI6ICJldmVub2RkIiwKICAibGluZUNhcCI6ICJyb3VuZCIsCiAgImxpbmVKb2luIjogInJvdW5kIiwKICAib3BhY2l0eSI6IDEuMCwKICAicmFkaXVzIjogNSwKICAic3Ryb2tlIjogdHJ1ZSwKICAid2VpZ2h0IjogMwp9CiAgICAgICAgICAgICAgICApLmFkZFRvKG1hcF83MWFhZGE5YjY0ZTk0ZmE4YWFjZmNkN2M3ODJlYjU2MSk7CiAgICAgICAgICAgIAogICAgCiAgICAgICAgICAgIHZhciBwb3B1cF85M2YzY2U3YzY4YzI0MGY3YWMwYTc5ODc5NmM1YTRmMyA9IEwucG9wdXAoe21heFdpZHRoOiAnMzAwJ30pOwoKICAgICAgICAgICAgCiAgICAgICAgICAgICAgICB2YXIgaHRtbF9kODZmMTQ3YThjMzg0NDFiODFkMTZhZWU4MTViMzc4YSA9ICQoJzxkaXYgaWQ9Imh0bWxfZDg2ZjE0N2E4YzM4NDQxYjgxZDE2YWVlODE1YjM3OGEiIHN0eWxlPSJ3aWR0aDogMTAwLjAlOyBoZWlnaHQ6IDEwMC4wJTsiPkhlYXJ0bGFuZCBWaWxsYWdlIENsdXN0ZXIgMTwvZGl2PicpWzBdOwogICAgICAgICAgICAgICAgcG9wdXBfOTNmM2NlN2M2OGMyNDBmN2FjMGE3OTg3OTZjNWE0ZjMuc2V0Q29udGVudChodG1sX2Q4NmYxNDdhOGMzODQ0MWI4MWQxNmFlZTgxNWIzNzhhKTsKICAgICAgICAgICAgCgogICAgICAgICAgICBjaXJjbGVfbWFya2VyXzZmNzJmZjMyM2VmZTQzZjc5ZjAxMzA0YjEyY2QxY2MxLmJpbmRQb3B1cChwb3B1cF85M2YzY2U3YzY4YzI0MGY3YWMwYTc5ODc5NmM1YTRmMyk7CgogICAgICAgICAgICAKICAgICAgICAKICAgIAogICAgICAgICAgICB2YXIgY2lyY2xlX21hcmtlcl8wNWMyYzliNGY0MWQ0NDFlYWFlYTI3Y2QxYTc5NDU2NiA9IEwuY2lyY2xlTWFya2VyKAogICAgICAgICAgICAgICAgWzQwLjYwNTc3ODY4NDUyMzU4LC03NC4xODcyNTYzODM4MTU2N10sCiAgICAgICAgICAgICAgICB7CiAgImJ1YmJsaW5nTW91c2VFdmVudHMiOiB0cnVlLAogICJjb2xvciI6ICIjODAwMGZmIiwKICAiZGFzaEFycmF5IjogbnVsbCwKICAiZGFzaE9mZnNldCI6IG51bGwsCiAgImZpbGwiOiB0cnVlLAogICJmaWxsQ29sb3IiOiAiIzgwMDBmZiIsCiAgImZpbGxPcGFjaXR5IjogMC43LAogICJmaWxsUnVsZSI6ICJldmVub2RkIiwKICAibGluZUNhcCI6ICJyb3VuZCIsCiAgImxpbmVKb2luIjogInJvdW5kIiwKICAib3BhY2l0eSI6IDEuMCwKICAicmFkaXVzIjogNSwKICAic3Ryb2tlIjogdHJ1ZSwKICAid2VpZ2h0IjogMwp9CiAgICAgICAgICAgICAgICApLmFkZFRvKG1hcF83MWFhZGE5YjY0ZTk0ZmE4YWFjZmNkN2M3ODJlYjU2MSk7CiAgICAgICAgICAgIAogICAgCiAgICAgICAgICAgIHZhciBwb3B1cF82YzdlNzY0MDNjYzE0ZmI0ODUyMDY4ZDY4ZWI0ZGQ2YSA9IEwucG9wdXAoe21heFdpZHRoOiAnMzAwJ30pOwoKICAgICAgICAgICAgCiAgICAgICAgICAgICAgICB2YXIgaHRtbF8zMjdjODM2YmQwMzQ0YjZmODg5NmIyMjFmNjViYzRlZiA9ICQoJzxkaXYgaWQ9Imh0bWxfMzI3YzgzNmJkMDM0NGI2Zjg4OTZiMjIxZjY1YmM0ZWYiIHN0eWxlPSJ3aWR0aDogMTAwLjAlOyBoZWlnaHQ6IDEwMC4wJTsiPkJsb29tZmllbGQgQ2x1c3RlciAxPC9kaXY+JylbMF07CiAgICAgICAgICAgICAgICBwb3B1cF82YzdlNzY0MDNjYzE0ZmI0ODUyMDY4ZDY4ZWI0ZGQ2YS5zZXRDb250ZW50KGh0bWxfMzI3YzgzNmJkMDM0NGI2Zjg4OTZiMjIxZjY1YmM0ZWYpOwogICAgICAgICAgICAKCiAgICAgICAgICAgIGNpcmNsZV9tYXJrZXJfMDVjMmM5YjRmNDFkNDQxZWFhZWEyN2NkMWE3OTQ1NjYuYmluZFBvcHVwKHBvcHVwXzZjN2U3NjQwM2NjMTRmYjQ4NTIwNjhkNjhlYjRkZDZhKTsKCiAgICAgICAgICAgIAogICAgICAgIAogICAgCiAgICAgICAgICAgIHZhciBjaXJjbGVfbWFya2VyX2RlYTdmZDg0YzMwNjQ0NDFhODU0YjM4ZDljNzUxYjA1ID0gTC5jaXJjbGVNYXJrZXIoCiAgICAgICAgICAgICAgICBbNDAuNjA5NTkxODAwNDIwMywtNzQuMTU5NDA5NDg2NTcxMjJdLAogICAgICAgICAgICAgICAgewogICJidWJibGluZ01vdXNlRXZlbnRzIjogdHJ1ZSwKICAiY29sb3IiOiAiIzgwMDBmZiIsCiAgImRhc2hBcnJheSI6IG51bGwsCiAgImRhc2hPZmZzZXQiOiBudWxsLAogICJmaWxsIjogdHJ1ZSwKICAiZmlsbENvbG9yIjogIiM4MDAwZmYiLAogICJmaWxsT3BhY2l0eSI6IDAuNywKICAiZmlsbFJ1bGUiOiAiZXZlbm9kZCIsCiAgImxpbmVDYXAiOiAicm91bmQiLAogICJsaW5lSm9pbiI6ICJyb3VuZCIsCiAgIm9wYWNpdHkiOiAxLjAsCiAgInJhZGl1cyI6IDUsCiAgInN0cm9rZSI6IHRydWUsCiAgIndlaWdodCI6IDMKfQogICAgICAgICAgICAgICAgKS5hZGRUbyhtYXBfNzFhYWRhOWI2NGU5NGZhOGFhY2ZjZDdjNzgyZWI1NjEpOwogICAgICAgICAgICAKICAgIAogICAgICAgICAgICB2YXIgcG9wdXBfNGM1MjlkNGI2NjFlNDBkNzg0OGQ0MmQxNDU0YWEyMTYgPSBMLnBvcHVwKHttYXhXaWR0aDogJzMwMCd9KTsKCiAgICAgICAgICAgIAogICAgICAgICAgICAgICAgdmFyIGh0bWxfNTJkNjBhMTE3ZTQ1NGQwMzhmMzZmNGUwODYxZGEwYzAgPSAkKCc8ZGl2IGlkPSJodG1sXzUyZDYwYTExN2U0NTRkMDM4ZjM2ZjRlMDg2MWRhMGMwIiBzdHlsZT0id2lkdGg6IDEwMC4wJTsgaGVpZ2h0OiAxMDAuMCU7Ij5CdWxscyBIZWFkIENsdXN0ZXIgMTwvZGl2PicpWzBdOwogICAgICAgICAgICAgICAgcG9wdXBfNGM1MjlkNGI2NjFlNDBkNzg0OGQ0MmQxNDU0YWEyMTYuc2V0Q29udGVudChodG1sXzUyZDYwYTExN2U0NTRkMDM4ZjM2ZjRlMDg2MWRhMGMwKTsKICAgICAgICAgICAgCgogICAgICAgICAgICBjaXJjbGVfbWFya2VyX2RlYTdmZDg0YzMwNjQ0NDFhODU0YjM4ZDljNzUxYjA1LmJpbmRQb3B1cChwb3B1cF80YzUyOWQ0YjY2MWU0MGQ3ODQ4ZDQyZDE0NTRhYTIxNik7CgogICAgICAgICAgICAKICAgICAgICAKICAgIAogICAgICAgICAgICB2YXIgY2lyY2xlX21hcmtlcl8xNTA1YmViNzNmNTE0NzNkYjRhNjgzODJjNzMyZjkzZSA9IEwuY2lyY2xlTWFya2VyKAogICAgICAgICAgICAgICAgWzQwLjc4MjY4MjU2NzEyNTcsLTczLjk1MzI1NjQ2ODM3MTEyXSwKICAgICAgICAgICAgICAgIHsKICAiYnViYmxpbmdNb3VzZUV2ZW50cyI6IHRydWUsCiAgImNvbG9yIjogIiMwMGI1ZWIiLAogICJkYXNoQXJyYXkiOiBudWxsLAogICJkYXNoT2Zmc2V0IjogbnVsbCwKICAiZmlsbCI6IHRydWUsCiAgImZpbGxDb2xvciI6ICIjMDBiNWViIiwKICAiZmlsbE9wYWNpdHkiOiAwLjcsCiAgImZpbGxSdWxlIjogImV2ZW5vZGQiLAogICJsaW5lQ2FwIjogInJvdW5kIiwKICAibGluZUpvaW4iOiAicm91bmQiLAogICJvcGFjaXR5IjogMS4wLAogICJyYWRpdXMiOiA1LAogICJzdHJva2UiOiB0cnVlLAogICJ3ZWlnaHQiOiAzCn0KICAgICAgICAgICAgICAgICkuYWRkVG8obWFwXzcxYWFkYTliNjRlOTRmYThhYWNmY2Q3Yzc4MmViNTYxKTsKICAgICAgICAgICAgCiAgICAKICAgICAgICAgICAgdmFyIHBvcHVwX2ExODNiMGY5YTIzZTRjNzU5NjBkYzQwMWM3M2ExODg0ID0gTC5wb3B1cCh7bWF4V2lkdGg6ICczMDAnfSk7CgogICAgICAgICAgICAKICAgICAgICAgICAgICAgIHZhciBodG1sX2Q5NTgwNzRlNzJhNDQ1NDA4ODVkYWE1ZDAzYTRkZGQ0ID0gJCgnPGRpdiBpZD0iaHRtbF9kOTU4MDc0ZTcyYTQ0NTQwODg1ZGFhNWQwM2E0ZGRkNCIgc3R5bGU9IndpZHRoOiAxMDAuMCU7IGhlaWdodDogMTAwLjAlOyI+Q2FybmVnaWUgSGlsbCBDbHVzdGVyIDI8L2Rpdj4nKVswXTsKICAgICAgICAgICAgICAgIHBvcHVwX2ExODNiMGY5YTIzZTRjNzU5NjBkYzQwMWM3M2ExODg0LnNldENvbnRlbnQoaHRtbF9kOTU4MDc0ZTcyYTQ0NTQwODg1ZGFhNWQwM2E0ZGRkNCk7CiAgICAgICAgICAgIAoKICAgICAgICAgICAgY2lyY2xlX21hcmtlcl8xNTA1YmViNzNmNTE0NzNkYjRhNjgzODJjNzMyZjkzZS5iaW5kUG9wdXAocG9wdXBfYTE4M2IwZjlhMjNlNGM3NTk2MGRjNDAxYzczYTE4ODQpOwoKICAgICAgICAgICAgCiAgICAgICAgCiAgICAKICAgICAgICAgICAgdmFyIGNpcmNsZV9tYXJrZXJfODRkMTEwYjc3OGFlNGYxOTg5ZjAxYTBhZmRiZjIyMGIgPSBMLmNpcmNsZU1hcmtlcigKICAgICAgICAgICAgICAgIFs0MC43MjMyNTkwMTg4NTc2OCwtNzMuOTg4NDMzNjgwMjM1OTddLAogICAgICAgICAgICAgICAgewogICJidWJibGluZ01vdXNlRXZlbnRzIjogdHJ1ZSwKICAiY29sb3IiOiAiIzAwYjVlYiIsCiAgImRhc2hBcnJheSI6IG51bGwsCiAgImRhc2hPZmZzZXQiOiBudWxsLAogICJmaWxsIjogdHJ1ZSwKICAiZmlsbENvbG9yIjogIiMwMGI1ZWIiLAogICJmaWxsT3BhY2l0eSI6IDAuNywKICAiZmlsbFJ1bGUiOiAiZXZlbm9kZCIsCiAgImxpbmVDYXAiOiAicm91bmQiLAogICJsaW5lSm9pbiI6ICJyb3VuZCIsCiAgIm9wYWNpdHkiOiAxLjAsCiAgInJhZGl1cyI6IDUsCiAgInN0cm9rZSI6IHRydWUsCiAgIndlaWdodCI6IDMKfQogICAgICAgICAgICAgICAgKS5hZGRUbyhtYXBfNzFhYWRhOWI2NGU5NGZhOGFhY2ZjZDdjNzgyZWI1NjEpOwogICAgICAgICAgICAKICAgIAogICAgICAgICAgICB2YXIgcG9wdXBfYzY5MjFmZjAwY2JmNDQ3MzhhMDU3MzYzZGNlM2EwNzYgPSBMLnBvcHVwKHttYXhXaWR0aDogJzMwMCd9KTsKCiAgICAgICAgICAgIAogICAgICAgICAgICAgICAgdmFyIGh0bWxfNTVhZDcyMmYwOTgzNDk2YTg5NjMwMGNlOTYxMjA5ZDQgPSAkKCc8ZGl2IGlkPSJodG1sXzU1YWQ3MjJmMDk4MzQ5NmE4OTYzMDBjZTk2MTIwOWQ0IiBzdHlsZT0id2lkdGg6IDEwMC4wJTsgaGVpZ2h0OiAxMDAuMCU7Ij5Ob2hvIENsdXN0ZXIgMjwvZGl2PicpWzBdOwogICAgICAgICAgICAgICAgcG9wdXBfYzY5MjFmZjAwY2JmNDQ3MzhhMDU3MzYzZGNlM2EwNzYuc2V0Q29udGVudChodG1sXzU1YWQ3MjJmMDk4MzQ5NmE4OTYzMDBjZTk2MTIwOWQ0KTsKICAgICAgICAgICAgCgogICAgICAgICAgICBjaXJjbGVfbWFya2VyXzg0ZDExMGI3NzhhZTRmMTk4OWYwMWEwYWZkYmYyMjBiLmJpbmRQb3B1cChwb3B1cF9jNjkyMWZmMDBjYmY0NDczOGEwNTczNjNkY2UzYTA3Nik7CgogICAgICAgICAgICAKICAgICAgICAKICAgIAogICAgICAgICAgICB2YXIgY2lyY2xlX21hcmtlcl9jNDJiYjRhOWZlZjk0Y2U4YWY1NWFhOTNjZDI5NjYwNCA9IEwuY2lyY2xlTWFya2VyKAogICAgICAgICAgICAgICAgWzQwLjcxNTIyODkyMDQ2MjgyLC03NC4wMDU0MTUyOTg3MzM1NV0sCiAgICAgICAgICAgICAgICB7CiAgImJ1YmJsaW5nTW91c2VFdmVudHMiOiB0cnVlLAogICJjb2xvciI6ICIjMDBiNWViIiwKICAiZGFzaEFycmF5IjogbnVsbCwKICAiZGFzaE9mZnNldCI6IG51bGwsCiAgImZpbGwiOiB0cnVlLAogICJmaWxsQ29sb3IiOiAiIzAwYjVlYiIsCiAgImZpbGxPcGFjaXR5IjogMC43LAogICJmaWxsUnVsZSI6ICJldmVub2RkIiwKICAibGluZUNhcCI6ICJyb3VuZCIsCiAgImxpbmVKb2luIjogInJvdW5kIiwKICAib3BhY2l0eSI6IDEuMCwKICAicmFkaXVzIjogNSwKICAic3Ryb2tlIjogdHJ1ZSwKICAid2VpZ2h0IjogMwp9CiAgICAgICAgICAgICAgICApLmFkZFRvKG1hcF83MWFhZGE5YjY0ZTk0ZmE4YWFjZmNkN2M3ODJlYjU2MSk7CiAgICAgICAgICAgIAogICAgCiAgICAgICAgICAgIHZhciBwb3B1cF83YjIxN2RkNjJhMGM0YThjYTEyOTRjODk3NzQ5ODNhOSA9IEwucG9wdXAoe21heFdpZHRoOiAnMzAwJ30pOwoKICAgICAgICAgICAgCiAgICAgICAgICAgICAgICB2YXIgaHRtbF83MGE4ZjdlNDAxOTY0ODIwYWYwMTEyZGQ1OWI2MWFiOSA9ICQoJzxkaXYgaWQ9Imh0bWxfNzBhOGY3ZTQwMTk2NDgyMGFmMDExMmRkNTliNjFhYjkiIHN0eWxlPSJ3aWR0aDogMTAwLjAlOyBoZWlnaHQ6IDEwMC4wJTsiPkNpdmljIENlbnRlciBDbHVzdGVyIDI8L2Rpdj4nKVswXTsKICAgICAgICAgICAgICAgIHBvcHVwXzdiMjE3ZGQ2MmEwYzRhOGNhMTI5NGM4OTc3NDk4M2E5LnNldENvbnRlbnQoaHRtbF83MGE4ZjdlNDAxOTY0ODIwYWYwMTEyZGQ1OWI2MWFiOSk7CiAgICAgICAgICAgIAoKICAgICAgICAgICAgY2lyY2xlX21hcmtlcl9jNDJiYjRhOWZlZjk0Y2U4YWY1NWFhOTNjZDI5NjYwNC5iaW5kUG9wdXAocG9wdXBfN2IyMTdkZDYyYTBjNGE4Y2ExMjk0Yzg5Nzc0OTgzYTkpOwoKICAgICAgICAgICAgCiAgICAgICAgCiAgICAKICAgICAgICAgICAgdmFyIGNpcmNsZV9tYXJrZXJfZTI4NTYxOWNlNGM3NDgyNTkxZTFjNDEyNDIzY2EwNWQgPSBMLmNpcmNsZU1hcmtlcigKICAgICAgICAgICAgICAgIFs0MC43NDg1MDk2NjQzMTIyLC03My45ODg3MTMxMzI4NTI0N10sCiAgICAgICAgICAgICAgICB7CiAgImJ1YmJsaW5nTW91c2VFdmVudHMiOiB0cnVlLAogICJjb2xvciI6ICIjMDBiNWViIiwKICAiZGFzaEFycmF5IjogbnVsbCwKICAiZGFzaE9mZnNldCI6IG51bGwsCiAgImZpbGwiOiB0cnVlLAogICJmaWxsQ29sb3IiOiAiIzAwYjVlYiIsCiAgImZpbGxPcGFjaXR5IjogMC43LAogICJmaWxsUnVsZSI6ICJldmVub2RkIiwKICAibGluZUNhcCI6ICJyb3VuZCIsCiAgImxpbmVKb2luIjogInJvdW5kIiwKICAib3BhY2l0eSI6IDEuMCwKICAicmFkaXVzIjogNSwKICAic3Ryb2tlIjogdHJ1ZSwKICAid2VpZ2h0IjogMwp9CiAgICAgICAgICAgICAgICApLmFkZFRvKG1hcF83MWFhZGE5YjY0ZTk0ZmE4YWFjZmNkN2M3ODJlYjU2MSk7CiAgICAgICAgICAgIAogICAgCiAgICAgICAgICAgIHZhciBwb3B1cF83NDZiZWRlY2FhZjM0Yjk1OTY4Yzc1NDBmYTMzMjNhMyA9IEwucG9wdXAoe21heFdpZHRoOiAnMzAwJ30pOwoKICAgICAgICAgICAgCiAgICAgICAgICAgICAgICB2YXIgaHRtbF9hOTgyN2VmMjdkOWM0MDdkYjlkMWVmNjI4NmM4M2VkOSA9ICQoJzxkaXYgaWQ9Imh0bWxfYTk4MjdlZjI3ZDljNDA3ZGI5ZDFlZjYyODZjODNlZDkiIHN0eWxlPSJ3aWR0aDogMTAwLjAlOyBoZWlnaHQ6IDEwMC4wJTsiPk1pZHRvd24gU291dGggQ2x1c3RlciAyPC9kaXY+JylbMF07CiAgICAgICAgICAgICAgICBwb3B1cF83NDZiZWRlY2FhZjM0Yjk1OTY4Yzc1NDBmYTMzMjNhMy5zZXRDb250ZW50KGh0bWxfYTk4MjdlZjI3ZDljNDA3ZGI5ZDFlZjYyODZjODNlZDkpOwogICAgICAgICAgICAKCiAgICAgICAgICAgIGNpcmNsZV9tYXJrZXJfZTI4NTYxOWNlNGM3NDgyNTkxZTFjNDEyNDIzY2EwNWQuYmluZFBvcHVwKHBvcHVwXzc0NmJlZGVjYWFmMzRiOTU5NjhjNzU0MGZhMzMyM2EzKTsKCiAgICAgICAgICAgIAogICAgICAgIAogICAgCiAgICAgICAgICAgIHZhciBjaXJjbGVfbWFya2VyXzVkOTc1NjgzYTkzMDRjOTViYTc0NDY4NTMwZGY5ZDQwID0gTC5jaXJjbGVNYXJrZXIoCiAgICAgICAgICAgICAgICBbNDAuNTY5NjA1OTQyNzU1MDUsLTc0LjEzNDA1NzI5ODYyNTddLAogICAgICAgICAgICAgICAgewogICJidWJibGluZ01vdXNlRXZlbnRzIjogdHJ1ZSwKICAiY29sb3IiOiAiIzgwMDBmZiIsCiAgImRhc2hBcnJheSI6IG51bGwsCiAgImRhc2hPZmZzZXQiOiBudWxsLAogICJmaWxsIjogdHJ1ZSwKICAiZmlsbENvbG9yIjogIiM4MDAwZmYiLAogICJmaWxsT3BhY2l0eSI6IDAuNywKICAiZmlsbFJ1bGUiOiAiZXZlbm9kZCIsCiAgImxpbmVDYXAiOiAicm91bmQiLAogICJsaW5lSm9pbiI6ICJyb3VuZCIsCiAgIm9wYWNpdHkiOiAxLjAsCiAgInJhZGl1cyI6IDUsCiAgInN0cm9rZSI6IHRydWUsCiAgIndlaWdodCI6IDMKfQogICAgICAgICAgICAgICAgKS5hZGRUbyhtYXBfNzFhYWRhOWI2NGU5NGZhOGFhY2ZjZDdjNzgyZWI1NjEpOwogICAgICAgICAgICAKICAgIAogICAgICAgICAgICB2YXIgcG9wdXBfMjMyZjcxNjBmNzA1NDkwZWI1NGRmMWM0N2UxMDBmODUgPSBMLnBvcHVwKHttYXhXaWR0aDogJzMwMCd9KTsKCiAgICAgICAgICAgIAogICAgICAgICAgICAgICAgdmFyIGh0bWxfZjdmYzAwMDQzOTZhNDkwZWJiM2M3NjlmNzZlOTU3N2MgPSAkKCc8ZGl2IGlkPSJodG1sX2Y3ZmMwMDA0Mzk2YTQ5MGViYjNjNzY5Zjc2ZTk1NzdjIiBzdHlsZT0id2lkdGg6IDEwMC4wJTsgaGVpZ2h0OiAxMDAuMCU7Ij5SaWNobW9uZCBUb3duIENsdXN0ZXIgMTwvZGl2PicpWzBdOwogICAgICAgICAgICAgICAgcG9wdXBfMjMyZjcxNjBmNzA1NDkwZWI1NGRmMWM0N2UxMDBmODUuc2V0Q29udGVudChodG1sX2Y3ZmMwMDA0Mzk2YTQ5MGViYjNjNzY5Zjc2ZTk1NzdjKTsKICAgICAgICAgICAgCgogICAgICAgICAgICBjaXJjbGVfbWFya2VyXzVkOTc1NjgzYTkzMDRjOTViYTc0NDY4NTMwZGY5ZDQwLmJpbmRQb3B1cChwb3B1cF8yMzJmNzE2MGY3MDU0OTBlYjU0ZGYxYzQ3ZTEwMGY4NSk7CgogICAgICAgICAgICAKICAgICAgICAKICAgIAogICAgICAgICAgICB2YXIgY2lyY2xlX21hcmtlcl9lYWU0NWMwODgzMDI0ZDQyODQ4NGNjZDIxNmFmY2Q5ZSA9IEwuY2lyY2xlTWFya2VyKAogICAgICAgICAgICAgICAgWzQwLjYwOTcxOTM0MDc5Mjg0LC03NC4wNjY2Nzc2NjA2MTc3MV0sCiAgICAgICAgICAgICAgICB7CiAgImJ1YmJsaW5nTW91c2VFdmVudHMiOiB0cnVlLAogICJjb2xvciI6ICIjODAwMGZmIiwKICAiZGFzaEFycmF5IjogbnVsbCwKICAiZGFzaE9mZnNldCI6IG51bGwsCiAgImZpbGwiOiB0cnVlLAogICJmaWxsQ29sb3IiOiAiIzgwMDBmZiIsCiAgImZpbGxPcGFjaXR5IjogMC43LAogICJmaWxsUnVsZSI6ICJldmVub2RkIiwKICAibGluZUNhcCI6ICJyb3VuZCIsCiAgImxpbmVKb2luIjogInJvdW5kIiwKICAib3BhY2l0eSI6IDEuMCwKICAicmFkaXVzIjogNSwKICAic3Ryb2tlIjogdHJ1ZSwKICAid2VpZ2h0IjogMwp9CiAgICAgICAgICAgICAgICApLmFkZFRvKG1hcF83MWFhZGE5YjY0ZTk0ZmE4YWFjZmNkN2M3ODJlYjU2MSk7CiAgICAgICAgICAgIAogICAgCiAgICAgICAgICAgIHZhciBwb3B1cF9lNzkzNGJiMjMyYmY0NThlOTI2MDY0NDA3ZDkxY2NhNSA9IEwucG9wdXAoe21heFdpZHRoOiAnMzAwJ30pOwoKICAgICAgICAgICAgCiAgICAgICAgICAgICAgICB2YXIgaHRtbF82ODU5MGJlM2YzMzU0ZjExYjY5Mjg2ZTM1MjM4ZDY2ZiA9ICQoJzxkaXYgaWQ9Imh0bWxfNjg1OTBiZTNmMzM1NGYxMWI2OTI4NmUzNTIzOGQ2NmYiIHN0eWxlPSJ3aWR0aDogMTAwLjAlOyBoZWlnaHQ6IDEwMC4wJTsiPlNob3JlIEFjcmVzIENsdXN0ZXIgMTwvZGl2PicpWzBdOwogICAgICAgICAgICAgICAgcG9wdXBfZTc5MzRiYjIzMmJmNDU4ZTkyNjA2NDQwN2Q5MWNjYTUuc2V0Q29udGVudChodG1sXzY4NTkwYmUzZjMzNTRmMTFiNjkyODZlMzUyMzhkNjZmKTsKICAgICAgICAgICAgCgogICAgICAgICAgICBjaXJjbGVfbWFya2VyX2VhZTQ1YzA4ODMwMjRkNDI4NDg0Y2NkMjE2YWZjZDllLmJpbmRQb3B1cChwb3B1cF9lNzkzNGJiMjMyYmY0NThlOTI2MDY0NDA3ZDkxY2NhNSk7CgogICAgICAgICAgICAKICAgICAgICAKICAgIAogICAgICAgICAgICB2YXIgY2lyY2xlX21hcmtlcl83ODQ3Yzc2MTQ0YzU0NzljYmVkZTgyZGFhMjNhMGEwYyA9IEwuY2lyY2xlTWFya2VyKAogICAgICAgICAgICAgICAgWzQwLjYxOTE3ODQ1MjAyODQzLC03NC4wNzI2NDI0NDU0ODRdLAogICAgICAgICAgICAgICAgewogICJidWJibGluZ01vdXNlRXZlbnRzIjogdHJ1ZSwKICAiY29sb3IiOiAiIzgwMDBmZiIsCiAgImRhc2hBcnJheSI6IG51bGwsCiAgImRhc2hPZmZzZXQiOiBudWxsLAogICJmaWxsIjogdHJ1ZSwKICAiZmlsbENvbG9yIjogIiM4MDAwZmYiLAogICJmaWxsT3BhY2l0eSI6IDAuNywKICAiZmlsbFJ1bGUiOiAiZXZlbm9kZCIsCiAgImxpbmVDYXAiOiAicm91bmQiLAogICJsaW5lSm9pbiI6ICJyb3VuZCIsCiAgIm9wYWNpdHkiOiAxLjAsCiAgInJhZGl1cyI6IDUsCiAgInN0cm9rZSI6IHRydWUsCiAgIndlaWdodCI6IDMKfQogICAgICAgICAgICAgICAgKS5hZGRUbyhtYXBfNzFhYWRhOWI2NGU5NGZhOGFhY2ZjZDdjNzgyZWI1NjEpOwogICAgICAgICAgICAKICAgIAogICAgICAgICAgICB2YXIgcG9wdXBfMDEzYWI3ZjdiYjFjNDgwOThjMThmYzM0YTQ1Nzk1NDIgPSBMLnBvcHVwKHttYXhXaWR0aDogJzMwMCd9KTsKCiAgICAgICAgICAgIAogICAgICAgICAgICAgICAgdmFyIGh0bWxfNDUxZDgzZDViMGNmNDMxOTgyMGU1YTNjOTE4ZDhmMmEgPSAkKCc8ZGl2IGlkPSJodG1sXzQ1MWQ4M2Q1YjBjZjQzMTk4MjBlNWEzYzkxOGQ4ZjJhIiBzdHlsZT0id2lkdGg6IDEwMC4wJTsgaGVpZ2h0OiAxMDAuMCU7Ij5DbGlmdG9uIENsdXN0ZXIgMTwvZGl2PicpWzBdOwogICAgICAgICAgICAgICAgcG9wdXBfMDEzYWI3ZjdiYjFjNDgwOThjMThmYzM0YTQ1Nzk1NDIuc2V0Q29udGVudChodG1sXzQ1MWQ4M2Q1YjBjZjQzMTk4MjBlNWEzYzkxOGQ4ZjJhKTsKICAgICAgICAgICAgCgogICAgICAgICAgICBjaXJjbGVfbWFya2VyXzc4NDdjNzYxNDRjNTQ3OWNiZWRlODJkYWEyM2EwYTBjLmJpbmRQb3B1cChwb3B1cF8wMTNhYjdmN2JiMWM0ODA5OGMxOGZjMzRhNDU3OTU0Mik7CgogICAgICAgICAgICAKICAgICAgICAKICAgIAogICAgICAgICAgICB2YXIgY2lyY2xlX21hcmtlcl84YmYzNjIwODMyZTU0ZGFjYTgwYmM0NzM2ZGJiMmZiYiA9IEwuY2lyY2xlTWFya2VyKAogICAgICAgICAgICAgICAgWzQwLjYwNDQ3MzE4OTY4NzksLTc0LjA4NDAyMzY0NzQwMzU4XSwKICAgICAgICAgICAgICAgIHsKICAiYnViYmxpbmdNb3VzZUV2ZW50cyI6IHRydWUsCiAgImNvbG9yIjogIiM4MDAwZmYiLAogICJkYXNoQXJyYXkiOiBudWxsLAogICJkYXNoT2Zmc2V0IjogbnVsbCwKICAiZmlsbCI6IHRydWUsCiAgImZpbGxDb2xvciI6ICIjODAwMGZmIiwKICAiZmlsbE9wYWNpdHkiOiAwLjcsCiAgImZpbGxSdWxlIjogImV2ZW5vZGQiLAogICJsaW5lQ2FwIjogInJvdW5kIiwKICAibGluZUpvaW4iOiAicm91bmQiLAogICJvcGFjaXR5IjogMS4wLAogICJyYWRpdXMiOiA1LAogICJzdHJva2UiOiB0cnVlLAogICJ3ZWlnaHQiOiAzCn0KICAgICAgICAgICAgICAgICkuYWRkVG8obWFwXzcxYWFkYTliNjRlOTRmYThhYWNmY2Q3Yzc4MmViNTYxKTsKICAgICAgICAgICAgCiAgICAKICAgICAgICAgICAgdmFyIHBvcHVwXzdhYTJiYTI3MGZiOTQ0NDFhOTQ1NmE5YjI2N2E2NDQzID0gTC5wb3B1cCh7bWF4V2lkdGg6ICczMDAnfSk7CgogICAgICAgICAgICAKICAgICAgICAgICAgICAgIHZhciBodG1sX2VkZmQ0ZGRlNmQ5ZjQ3YThiYjE4NWEzMDE1M2NkZTA3ID0gJCgnPGRpdiBpZD0iaHRtbF9lZGZkNGRkZTZkOWY0N2E4YmIxODVhMzAxNTNjZGUwNyIgc3R5bGU9IndpZHRoOiAxMDAuMCU7IGhlaWdodDogMTAwLjAlOyI+Q29uY29yZCBDbHVzdGVyIDE8L2Rpdj4nKVswXTsKICAgICAgICAgICAgICAgIHBvcHVwXzdhYTJiYTI3MGZiOTQ0NDFhOTQ1NmE5YjI2N2E2NDQzLnNldENvbnRlbnQoaHRtbF9lZGZkNGRkZTZkOWY0N2E4YmIxODVhMzAxNTNjZGUwNyk7CiAgICAgICAgICAgIAoKICAgICAgICAgICAgY2lyY2xlX21hcmtlcl84YmYzNjIwODMyZTU0ZGFjYTgwYmM0NzM2ZGJiMmZiYi5iaW5kUG9wdXAocG9wdXBfN2FhMmJhMjcwZmI5NDQ0MWE5NDU2YTliMjY3YTY0NDMpOwoKICAgICAgICAgICAgCiAgICAgICAgCiAgICAKICAgICAgICAgICAgdmFyIGNpcmNsZV9tYXJrZXJfOTQ0NGFiNDIyN2FhNDI2Yjk4YTdlNTEzZjRlNDA2MjMgPSBMLmNpcmNsZU1hcmtlcigKICAgICAgICAgICAgICAgIFs0MC42MDY3OTQzOTQ4MDEsLTc0LjA5Nzc2MjA2OTcyNTIyXSwKICAgICAgICAgICAgICAgIHsKICAiYnViYmxpbmdNb3VzZUV2ZW50cyI6IHRydWUsCiAgImNvbG9yIjogIiM4MDAwZmYiLAogICJkYXNoQXJyYXkiOiBudWxsLAogICJkYXNoT2Zmc2V0IjogbnVsbCwKICAiZmlsbCI6IHRydWUsCiAgImZpbGxDb2xvciI6ICIjODAwMGZmIiwKICAiZmlsbE9wYWNpdHkiOiAwLjcsCiAgImZpbGxSdWxlIjogImV2ZW5vZGQiLAogICJsaW5lQ2FwIjogInJvdW5kIiwKICAibGluZUpvaW4iOiAicm91bmQiLAogICJvcGFjaXR5IjogMS4wLAogICJyYWRpdXMiOiA1LAogICJzdHJva2UiOiB0cnVlLAogICJ3ZWlnaHQiOiAzCn0KICAgICAgICAgICAgICAgICkuYWRkVG8obWFwXzcxYWFkYTliNjRlOTRmYThhYWNmY2Q3Yzc4MmViNTYxKTsKICAgICAgICAgICAgCiAgICAKICAgICAgICAgICAgdmFyIHBvcHVwX2E0ZTVjMmU4ZmM4NTQ2OTFiMGMwYjFjM2YxYjE2Y2JlID0gTC5wb3B1cCh7bWF4V2lkdGg6ICczMDAnfSk7CgogICAgICAgICAgICAKICAgICAgICAgICAgICAgIHZhciBodG1sXzRjMWYwYjBiNjliMDQ0MTNiZTk4N2EzMGJlZDFjNzRiID0gJCgnPGRpdiBpZD0iaHRtbF80YzFmMGIwYjY5YjA0NDEzYmU5ODdhMzBiZWQxYzc0YiIgc3R5bGU9IndpZHRoOiAxMDAuMCU7IGhlaWdodDogMTAwLjAlOyI+RW1lcnNvbiBIaWxsIENsdXN0ZXIgMTwvZGl2PicpWzBdOwogICAgICAgICAgICAgICAgcG9wdXBfYTRlNWMyZThmYzg1NDY5MWIwYzBiMWMzZjFiMTZjYmUuc2V0Q29udGVudChodG1sXzRjMWYwYjBiNjliMDQ0MTNiZTk4N2EzMGJlZDFjNzRiKTsKICAgICAgICAgICAgCgogICAgICAgICAgICBjaXJjbGVfbWFya2VyXzk0NDRhYjQyMjdhYTQyNmI5OGE3ZTUxM2Y0ZTQwNjIzLmJpbmRQb3B1cChwb3B1cF9hNGU1YzJlOGZjODU0NjkxYjBjMGIxYzNmMWIxNmNiZSk7CgogICAgICAgICAgICAKICAgICAgICAKICAgIAogICAgICAgICAgICB2YXIgY2lyY2xlX21hcmtlcl9jMzZhOGY5MjlkMmM0YTk4YmE1OGUxZDRhZGM5NDg1OCA9IEwuY2lyY2xlTWFya2VyKAogICAgICAgICAgICAgICAgWzQwLjYzNTYzMDAwNjgxMTUxLC03NC4wOTgwNTA2MjM3Mzg4N10sCiAgICAgICAgICAgICAgICB7CiAgImJ1YmJsaW5nTW91c2VFdmVudHMiOiB0cnVlLAogICJjb2xvciI6ICIjODAwMGZmIiwKICAiZGFzaEFycmF5IjogbnVsbCwKICAiZGFzaE9mZnNldCI6IG51bGwsCiAgImZpbGwiOiB0cnVlLAogICJmaWxsQ29sb3IiOiAiIzgwMDBmZiIsCiAgImZpbGxPcGFjaXR5IjogMC43LAogICJmaWxsUnVsZSI6ICJldmVub2RkIiwKICAibGluZUNhcCI6ICJyb3VuZCIsCiAgImxpbmVKb2luIjogInJvdW5kIiwKICAib3BhY2l0eSI6IDEuMCwKICAicmFkaXVzIjogNSwKICAic3Ryb2tlIjogdHJ1ZSwKICAid2VpZ2h0IjogMwp9CiAgICAgICAgICAgICAgICApLmFkZFRvKG1hcF83MWFhZGE5YjY0ZTk0ZmE4YWFjZmNkN2M3ODJlYjU2MSk7CiAgICAgICAgICAgIAogICAgCiAgICAgICAgICAgIHZhciBwb3B1cF9mZWViODdjN2I1M2M0YmUxYjhjNmEzY2FhNzQ1MjA1MyA9IEwucG9wdXAoe21heFdpZHRoOiAnMzAwJ30pOwoKICAgICAgICAgICAgCiAgICAgICAgICAgICAgICB2YXIgaHRtbF83Y2UyMWI5ZTU2MjU0OGZiOWEyNmM0YWQ4Zjg3M2E5NyA9ICQoJzxkaXYgaWQ9Imh0bWxfN2NlMjFiOWU1NjI1NDhmYjlhMjZjNGFkOGY4NzNhOTciIHN0eWxlPSJ3aWR0aDogMTAwLjAlOyBoZWlnaHQ6IDEwMC4wJTsiPlJhbmRhbGwgTWFub3IgQ2x1c3RlciAxPC9kaXY+JylbMF07CiAgICAgICAgICAgICAgICBwb3B1cF9mZWViODdjN2I1M2M0YmUxYjhjNmEzY2FhNzQ1MjA1My5zZXRDb250ZW50KGh0bWxfN2NlMjFiOWU1NjI1NDhmYjlhMjZjNGFkOGY4NzNhOTcpOwogICAgICAgICAgICAKCiAgICAgICAgICAgIGNpcmNsZV9tYXJrZXJfYzM2YThmOTI5ZDJjNGE5OGJhNThlMWQ0YWRjOTQ4NTguYmluZFBvcHVwKHBvcHVwX2ZlZWI4N2M3YjUzYzRiZTFiOGM2YTNjYWE3NDUyMDUzKTsKCiAgICAgICAgICAgIAogICAgICAgIAogICAgCiAgICAgICAgICAgIHZhciBjaXJjbGVfbWFya2VyXzVjYzY4YjU5Mjg4YjQwMTA5ZWRjNGYyZWNmZWEwYmQ5ID0gTC5jaXJjbGVNYXJrZXIoCiAgICAgICAgICAgICAgICBbNDAuNjM4NDMyODM3OTQ3OTUsLTc0LjE4NjIyMzMxNzQ5ODIzXSwKICAgICAgICAgICAgICAgIHsKICAiYnViYmxpbmdNb3VzZUV2ZW50cyI6IHRydWUsCiAgImNvbG9yIjogIiM4MDAwZmYiLAogICJkYXNoQXJyYXkiOiBudWxsLAogICJkYXNoT2Zmc2V0IjogbnVsbCwKICAiZmlsbCI6IHRydWUsCiAgImZpbGxDb2xvciI6ICIjODAwMGZmIiwKICAiZmlsbE9wYWNpdHkiOiAwLjcsCiAgImZpbGxSdWxlIjogImV2ZW5vZGQiLAogICJsaW5lQ2FwIjogInJvdW5kIiwKICAibGluZUpvaW4iOiAicm91bmQiLAogICJvcGFjaXR5IjogMS4wLAogICJyYWRpdXMiOiA1LAogICJzdHJva2UiOiB0cnVlLAogICJ3ZWlnaHQiOiAzCn0KICAgICAgICAgICAgICAgICkuYWRkVG8obWFwXzcxYWFkYTliNjRlOTRmYThhYWNmY2Q3Yzc4MmViNTYxKTsKICAgICAgICAgICAgCiAgICAKICAgICAgICAgICAgdmFyIHBvcHVwXzkxNmIxZTczYmU0ZDQ1NGU4Mzg5NzgxNjU3NjIwYWJlID0gTC5wb3B1cCh7bWF4V2lkdGg6ICczMDAnfSk7CgogICAgICAgICAgICAKICAgICAgICAgICAgICAgIHZhciBodG1sX2JmNWExYmU5NmYwNTQ0Njg4ZWJkNDdhZTE2MjhhNDEwID0gJCgnPGRpdiBpZD0iaHRtbF9iZjVhMWJlOTZmMDU0NDY4OGViZDQ3YWUxNjI4YTQxMCIgc3R5bGU9IndpZHRoOiAxMDAuMCU7IGhlaWdodDogMTAwLjAlOyI+SG93bGFuZCBIb29rIENsdXN0ZXIgMTwvZGl2PicpWzBdOwogICAgICAgICAgICAgICAgcG9wdXBfOTE2YjFlNzNiZTRkNDU0ZTgzODk3ODE2NTc2MjBhYmUuc2V0Q29udGVudChodG1sX2JmNWExYmU5NmYwNTQ0Njg4ZWJkNDdhZTE2MjhhNDEwKTsKICAgICAgICAgICAgCgogICAgICAgICAgICBjaXJjbGVfbWFya2VyXzVjYzY4YjU5Mjg4YjQwMTA5ZWRjNGYyZWNmZWEwYmQ5LmJpbmRQb3B1cChwb3B1cF85MTZiMWU3M2JlNGQ0NTRlODM4OTc4MTY1NzYyMGFiZSk7CgogICAgICAgICAgICAKICAgICAgICAKICAgIAogICAgICAgICAgICB2YXIgY2lyY2xlX21hcmtlcl8zYzU0YzZhM2IwNDE0NGNjYWY0NGJmMGIyNWZhNGUxYSA9IEwuY2lyY2xlTWFya2VyKAogICAgICAgICAgICAgICAgWzQwLjYzMDE0Njc0MTE5MzgyNiwtNzQuMTQxODE2Nzg5Njg4OV0sCiAgICAgICAgICAgICAgICB7CiAgImJ1YmJsaW5nTW91c2VFdmVudHMiOiB0cnVlLAogICJjb2xvciI6ICIjODAwMGZmIiwKICAiZGFzaEFycmF5IjogbnVsbCwKICAiZGFzaE9mZnNldCI6IG51bGwsCiAgImZpbGwiOiB0cnVlLAogICJmaWxsQ29sb3IiOiAiIzgwMDBmZiIsCiAgImZpbGxPcGFjaXR5IjogMC43LAogICJmaWxsUnVsZSI6ICJldmVub2RkIiwKICAibGluZUNhcCI6ICJyb3VuZCIsCiAgImxpbmVKb2luIjogInJvdW5kIiwKICAib3BhY2l0eSI6IDEuMCwKICAicmFkaXVzIjogNSwKICAic3Ryb2tlIjogdHJ1ZSwKICAid2VpZ2h0IjogMwp9CiAgICAgICAgICAgICAgICApLmFkZFRvKG1hcF83MWFhZGE5YjY0ZTk0ZmE4YWFjZmNkN2M3ODJlYjU2MSk7CiAgICAgICAgICAgIAogICAgCiAgICAgICAgICAgIHZhciBwb3B1cF84NzBmNTk2YTlhMzE0OWZkYTZlYTlkYzViNDU0ZDYzYSA9IEwucG9wdXAoe21heFdpZHRoOiAnMzAwJ30pOwoKICAgICAgICAgICAgCiAgICAgICAgICAgICAgICB2YXIgaHRtbF8xMTQwNGM4MmVkZjI0NWZmYTE3MzBkODA4YzM1NGE3MSA9ICQoJzxkaXYgaWQ9Imh0bWxfMTE0MDRjODJlZGYyNDVmZmExNzMwZDgwOGMzNTRhNzEiIHN0eWxlPSJ3aWR0aDogMTAwLjAlOyBoZWlnaHQ6IDEwMC4wJTsiPkVsbSBQYXJrIENsdXN0ZXIgMTwvZGl2PicpWzBdOwogICAgICAgICAgICAgICAgcG9wdXBfODcwZjU5NmE5YTMxNDlmZGE2ZWE5ZGM1YjQ1NGQ2M2Euc2V0Q29udGVudChodG1sXzExNDA0YzgyZWRmMjQ1ZmZhMTczMGQ4MDhjMzU0YTcxKTsKICAgICAgICAgICAgCgogICAgICAgICAgICBjaXJjbGVfbWFya2VyXzNjNTRjNmEzYjA0MTQ0Y2NhZjQ0YmYwYjI1ZmE0ZTFhLmJpbmRQb3B1cChwb3B1cF84NzBmNTk2YTlhMzE0OWZkYTZlYTlkYzViNDU0ZDYzYSk7CgogICAgICAgICAgICAKICAgICAgICAKICAgIAogICAgICAgICAgICB2YXIgY2lyY2xlX21hcmtlcl8wYTE1MzllYzg0ZWU0MjBlOTZkOGE4NzY3MzUwZDlkYiA9IEwuY2lyY2xlTWFya2VyKAogICAgICAgICAgICAgICAgWzQwLjY1MjExNzQ1MTc5MzQ5NCwtNzMuOTE2NjUzMzE5NzgwNDhdLAogICAgICAgICAgICAgICAgewogICJidWJibGluZ01vdXNlRXZlbnRzIjogdHJ1ZSwKICAiY29sb3IiOiAiIzgwZmZiNCIsCiAgImRhc2hBcnJheSI6IG51bGwsCiAgImRhc2hPZmZzZXQiOiBudWxsLAogICJmaWxsIjogdHJ1ZSwKICAiZmlsbENvbG9yIjogIiM4MGZmYjQiLAogICJmaWxsT3BhY2l0eSI6IDAuNywKICAiZmlsbFJ1bGUiOiAiZXZlbm9kZCIsCiAgImxpbmVDYXAiOiAicm91bmQiLAogICJsaW5lSm9pbiI6ICJyb3VuZCIsCiAgIm9wYWNpdHkiOiAxLjAsCiAgInJhZGl1cyI6IDUsCiAgInN0cm9rZSI6IHRydWUsCiAgIndlaWdodCI6IDMKfQogICAgICAgICAgICAgICAgKS5hZGRUbyhtYXBfNzFhYWRhOWI2NGU5NGZhOGFhY2ZjZDdjNzgyZWI1NjEpOwogICAgICAgICAgICAKICAgIAogICAgICAgICAgICB2YXIgcG9wdXBfMzRhNTU1YzM0ZjFhNGMyNWJlNDE5YTZlMjAzOTA4MzAgPSBMLnBvcHVwKHttYXhXaWR0aDogJzMwMCd9KTsKCiAgICAgICAgICAgIAogICAgICAgICAgICAgICAgdmFyIGh0bWxfZDdjZmZiODdiMjU0NGI0OGExNWFlNGMwMTE2NTY0NWUgPSAkKCc8ZGl2IGlkPSJodG1sX2Q3Y2ZmYjg3YjI1NDRiNDhhMTVhZTRjMDExNjU2NDVlIiBzdHlsZT0id2lkdGg6IDEwMC4wJTsgaGVpZ2h0OiAxMDAuMCU7Ij5SZW1zZW4gVmlsbGFnZSBDbHVzdGVyIDM8L2Rpdj4nKVswXTsKICAgICAgICAgICAgICAgIHBvcHVwXzM0YTU1NWMzNGYxYTRjMjViZTQxOWE2ZTIwMzkwODMwLnNldENvbnRlbnQoaHRtbF9kN2NmZmI4N2IyNTQ0YjQ4YTE1YWU0YzAxMTY1NjQ1ZSk7CiAgICAgICAgICAgIAoKICAgICAgICAgICAgY2lyY2xlX21hcmtlcl8wYTE1MzllYzg0ZWU0MjBlOTZkOGE4NzY3MzUwZDlkYi5iaW5kUG9wdXAocG9wdXBfMzRhNTU1YzM0ZjFhNGMyNWJlNDE5YTZlMjAzOTA4MzApOwoKICAgICAgICAgICAgCiAgICAgICAgCiAgICAKICAgICAgICAgICAgdmFyIGNpcmNsZV9tYXJrZXJfZmVlZmYxMmQ0YjFjNDNmMWJmNzBiZjExYjUwNzJhMTAgPSBMLmNpcmNsZU1hcmtlcigKICAgICAgICAgICAgICAgIFs0MC42NjI3NDQyNzk2OTY2LC03My44ODUxMTc3NjM3OTI5Ml0sCiAgICAgICAgICAgICAgICB7CiAgImJ1YmJsaW5nTW91c2VFdmVudHMiOiB0cnVlLAogICJjb2xvciI6ICIjODBmZmI0IiwKICAiZGFzaEFycmF5IjogbnVsbCwKICAiZGFzaE9mZnNldCI6IG51bGwsCiAgImZpbGwiOiB0cnVlLAogICJmaWxsQ29sb3IiOiAiIzgwZmZiNCIsCiAgImZpbGxPcGFjaXR5IjogMC43LAogICJmaWxsUnVsZSI6ICJldmVub2RkIiwKICAibGluZUNhcCI6ICJyb3VuZCIsCiAgImxpbmVKb2luIjogInJvdW5kIiwKICAib3BhY2l0eSI6IDEuMCwKICAicmFkaXVzIjogNSwKICAic3Ryb2tlIjogdHJ1ZSwKICAid2VpZ2h0IjogMwp9CiAgICAgICAgICAgICAgICApLmFkZFRvKG1hcF83MWFhZGE5YjY0ZTk0ZmE4YWFjZmNkN2M3ODJlYjU2MSk7CiAgICAgICAgICAgIAogICAgCiAgICAgICAgICAgIHZhciBwb3B1cF85MmU2MmM4MWY1OGI0YzlmYjQ5N2FlYzNkZGIyYzBmNyA9IEwucG9wdXAoe21heFdpZHRoOiAnMzAwJ30pOwoKICAgICAgICAgICAgCiAgICAgICAgICAgICAgICB2YXIgaHRtbF80YWIwZmNjYmU5OGU0NzBiOTg4OWZiMjE1OTEwM2I2OCA9ICQoJzxkaXYgaWQ9Imh0bWxfNGFiMGZjY2JlOThlNDcwYjk4ODlmYjIxNTkxMDNiNjgiIHN0eWxlPSJ3aWR0aDogMTAwLjAlOyBoZWlnaHQ6IDEwMC4wJTsiPk5ldyBMb3RzIENsdXN0ZXIgMzwvZGl2PicpWzBdOwogICAgICAgICAgICAgICAgcG9wdXBfOTJlNjJjODFmNThiNGM5ZmI0OTdhZWMzZGRiMmMwZjcuc2V0Q29udGVudChodG1sXzRhYjBmY2NiZTk4ZTQ3MGI5ODg5ZmIyMTU5MTAzYjY4KTsKICAgICAgICAgICAgCgogICAgICAgICAgICBjaXJjbGVfbWFya2VyX2ZlZWZmMTJkNGIxYzQzZjFiZjcwYmYxMWI1MDcyYTEwLmJpbmRQb3B1cChwb3B1cF85MmU2MmM4MWY1OGI0YzlmYjQ5N2FlYzNkZGIyYzBmNyk7CgogICAgICAgICAgICAKICAgICAgICAKICAgIAogICAgICAgICAgICB2YXIgY2lyY2xlX21hcmtlcl9lZTk0YTMzN2JjZDg0NzIwYWM1OWNmNTMxZjU2MzMwOCA9IEwuY2lyY2xlTWFya2VyKAogICAgICAgICAgICAgICAgWzQwLjYzMTMxNzU1MDM5NjY3LC03My45MDIzMzQ3NDI5NTgzNl0sCiAgICAgICAgICAgICAgICB7CiAgImJ1YmJsaW5nTW91c2VFdmVudHMiOiB0cnVlLAogICJjb2xvciI6ICIjODBmZmI0IiwKICAiZGFzaEFycmF5IjogbnVsbCwKICAiZGFzaE9mZnNldCI6IG51bGwsCiAgImZpbGwiOiB0cnVlLAogICJmaWxsQ29sb3IiOiAiIzgwZmZiNCIsCiAgImZpbGxPcGFjaXR5IjogMC43LAogICJmaWxsUnVsZSI6ICJldmVub2RkIiwKICAibGluZUNhcCI6ICJyb3VuZCIsCiAgImxpbmVKb2luIjogInJvdW5kIiwKICAib3BhY2l0eSI6IDEuMCwKICAicmFkaXVzIjogNSwKICAic3Ryb2tlIjogdHJ1ZSwKICAid2VpZ2h0IjogMwp9CiAgICAgICAgICAgICAgICApLmFkZFRvKG1hcF83MWFhZGE5YjY0ZTk0ZmE4YWFjZmNkN2M3ODJlYjU2MSk7CiAgICAgICAgICAgIAogICAgCiAgICAgICAgICAgIHZhciBwb3B1cF85MTVhZjA2NjYwNjk0NTBiOWM2NDA1NmVhMzZlM2M2YiA9IEwucG9wdXAoe21heFdpZHRoOiAnMzAwJ30pOwoKICAgICAgICAgICAgCiAgICAgICAgICAgICAgICB2YXIgaHRtbF8xODdhYjg0MmFkZTc0NTdmOWVkZDQxNTg5OGM5Y2Y2NCA9ICQoJzxkaXYgaWQ9Imh0bWxfMTg3YWI4NDJhZGU3NDU3ZjllZGQ0MTU4OThjOWNmNjQiIHN0eWxlPSJ3aWR0aDogMTAwLjAlOyBoZWlnaHQ6IDEwMC4wJTsiPlBhZXJkZWdhdCBCYXNpbiBDbHVzdGVyIDM8L2Rpdj4nKVswXTsKICAgICAgICAgICAgICAgIHBvcHVwXzkxNWFmMDY2NjA2OTQ1MGI5YzY0MDU2ZWEzNmUzYzZiLnNldENvbnRlbnQoaHRtbF8xODdhYjg0MmFkZTc0NTdmOWVkZDQxNTg5OGM5Y2Y2NCk7CiAgICAgICAgICAgIAoKICAgICAgICAgICAgY2lyY2xlX21hcmtlcl9lZTk0YTMzN2JjZDg0NzIwYWM1OWNmNTMxZjU2MzMwOC5iaW5kUG9wdXAocG9wdXBfOTE1YWYwNjY2MDY5NDUwYjljNjQwNTZlYTM2ZTNjNmIpOwoKICAgICAgICAgICAgCiAgICAgICAgCiAgICAKICAgICAgICAgICAgdmFyIGNpcmNsZV9tYXJrZXJfZDdmOTU2OWIxODNhNGE2ZWFhYjg1OTg3NGQwYTY2MTUgPSBMLmNpcmNsZU1hcmtlcigKICAgICAgICAgICAgICAgIFs0MC42MTU5NzQyMzk2MjMzNiwtNzMuOTE1MTUzOTE1NTA0MDRdLAogICAgICAgICAgICAgICAgewogICJidWJibGluZ01vdXNlRXZlbnRzIjogdHJ1ZSwKICAiY29sb3IiOiAiIzgwZmZiNCIsCiAgImRhc2hBcnJheSI6IG51bGwsCiAgImRhc2hPZmZzZXQiOiBudWxsLAogICJmaWxsIjogdHJ1ZSwKICAiZmlsbENvbG9yIjogIiM4MGZmYjQiLAogICJmaWxsT3BhY2l0eSI6IDAuNywKICAiZmlsbFJ1bGUiOiAiZXZlbm9kZCIsCiAgImxpbmVDYXAiOiAicm91bmQiLAogICJsaW5lSm9pbiI6ICJyb3VuZCIsCiAgIm9wYWNpdHkiOiAxLjAsCiAgInJhZGl1cyI6IDUsCiAgInN0cm9rZSI6IHRydWUsCiAgIndlaWdodCI6IDMKfQogICAgICAgICAgICAgICAgKS5hZGRUbyhtYXBfNzFhYWRhOWI2NGU5NGZhOGFhY2ZjZDdjNzgyZWI1NjEpOwogICAgICAgICAgICAKICAgIAogICAgICAgICAgICB2YXIgcG9wdXBfNDJhMjZhYTZlNjYwNDkyN2EzMDY5YWU0NTU1OGY5NDMgPSBMLnBvcHVwKHttYXhXaWR0aDogJzMwMCd9KTsKCiAgICAgICAgICAgIAogICAgICAgICAgICAgICAgdmFyIGh0bWxfYTk0MjZkYzNlOWY5NDAxZDk2NWI1YzFkMjIyOWIwN2IgPSAkKCc8ZGl2IGlkPSJodG1sX2E5NDI2ZGMzZTlmOTQwMWQ5NjViNWMxZDIyMjliMDdiIiBzdHlsZT0id2lkdGg6IDEwMC4wJTsgaGVpZ2h0OiAxMDAuMCU7Ij5NaWxsIEJhc2luIENsdXN0ZXIgMzwvZGl2PicpWzBdOwogICAgICAgICAgICAgICAgcG9wdXBfNDJhMjZhYTZlNjYwNDkyN2EzMDY5YWU0NTU1OGY5NDMuc2V0Q29udGVudChodG1sX2E5NDI2ZGMzZTlmOTQwMWQ5NjViNWMxZDIyMjliMDdiKTsKICAgICAgICAgICAgCgogICAgICAgICAgICBjaXJjbGVfbWFya2VyX2Q3Zjk1NjliMTgzYTRhNmVhYWI4NTk4NzRkMGE2NjE1LmJpbmRQb3B1cChwb3B1cF80MmEyNmFhNmU2NjA0OTI3YTMwNjlhZTQ1NTU4Zjk0Myk7CgogICAgICAgICAgICAKICAgICAgICAKICAgIAogICAgICAgICAgICB2YXIgY2lyY2xlX21hcmtlcl9kMzU1MDA5MTRhZjg0NmY1OWY4ZDA0MjM5OGQwODhiNyA9IEwuY2lyY2xlTWFya2VyKAogICAgICAgICAgICAgICAgWzQwLjcxMTQ1OTY0MzcwNDgyLC03My43OTY0NjQ2MjA4MTU5M10sCiAgICAgICAgICAgICAgICB7CiAgImJ1YmJsaW5nTW91c2VFdmVudHMiOiB0cnVlLAogICJjb2xvciI6ICIjZmYwMDAwIiwKICAiZGFzaEFycmF5IjogbnVsbCwKICAiZGFzaE9mZnNldCI6IG51bGwsCiAgImZpbGwiOiB0cnVlLAogICJmaWxsQ29sb3IiOiAiI2ZmMDAwMCIsCiAgImZpbGxPcGFjaXR5IjogMC43LAogICJmaWxsUnVsZSI6ICJldmVub2RkIiwKICAibGluZUNhcCI6ICJyb3VuZCIsCiAgImxpbmVKb2luIjogInJvdW5kIiwKICAib3BhY2l0eSI6IDEuMCwKICAicmFkaXVzIjogNSwKICAic3Ryb2tlIjogdHJ1ZSwKICAid2VpZ2h0IjogMwp9CiAgICAgICAgICAgICAgICApLmFkZFRvKG1hcF83MWFhZGE5YjY0ZTk0ZmE4YWFjZmNkN2M3ODJlYjU2MSk7CiAgICAgICAgICAgIAogICAgCiAgICAgICAgICAgIHZhciBwb3B1cF9mOWM4MDllNTQ1Yzc0ZWE4OWFiMTFmM2U4NzJiYmQ2MiA9IEwucG9wdXAoe21heFdpZHRoOiAnMzAwJ30pOwoKICAgICAgICAgICAgCiAgICAgICAgICAgICAgICB2YXIgaHRtbF9iOWYzMTI0YTNiZTc0NTczYTliZjMyOTUxMzM4MjAwMSA9ICQoJzxkaXYgaWQ9Imh0bWxfYjlmMzEyNGEzYmU3NDU3M2E5YmYzMjk1MTMzODIwMDEiIHN0eWxlPSJ3aWR0aDogMTAwLjAlOyBoZWlnaHQ6IDEwMC4wJTsiPkphbWFpY2EgSGlsbHMgQ2x1c3RlciAwPC9kaXY+JylbMF07CiAgICAgICAgICAgICAgICBwb3B1cF9mOWM4MDllNTQ1Yzc0ZWE4OWFiMTFmM2U4NzJiYmQ2Mi5zZXRDb250ZW50KGh0bWxfYjlmMzEyNGEzYmU3NDU3M2E5YmYzMjk1MTMzODIwMDEpOwogICAgICAgICAgICAKCiAgICAgICAgICAgIGNpcmNsZV9tYXJrZXJfZDM1NTAwOTE0YWY4NDZmNTlmOGQwNDIzOThkMDg4YjcuYmluZFBvcHVwKHBvcHVwX2Y5YzgwOWU1NDVjNzRlYTg5YWIxMWYzZTg3MmJiZDYyKTsKCiAgICAgICAgICAgIAogICAgICAgIAogICAgCiAgICAgICAgICAgIHZhciBjaXJjbGVfbWFya2VyX2YyMjliMzE1YWI2ODQzOThhYjQ1OWNjMWU5NzgxYWU3ID0gTC5jaXJjbGVNYXJrZXIoCiAgICAgICAgICAgICAgICBbNDAuNzMzNTAwMjU0Mjk3NTcsLTczLjc5NjcxNjc4MDI4MzQ5XSwKICAgICAgICAgICAgICAgIHsKICAiYnViYmxpbmdNb3VzZUV2ZW50cyI6IHRydWUsCiAgImNvbG9yIjogIiNmZjAwMDAiLAogICJkYXNoQXJyYXkiOiBudWxsLAogICJkYXNoT2Zmc2V0IjogbnVsbCwKICAiZmlsbCI6IHRydWUsCiAgImZpbGxDb2xvciI6ICIjZmYwMDAwIiwKICAiZmlsbE9wYWNpdHkiOiAwLjcsCiAgImZpbGxSdWxlIjogImV2ZW5vZGQiLAogICJsaW5lQ2FwIjogInJvdW5kIiwKICAibGluZUpvaW4iOiAicm91bmQiLAogICJvcGFjaXR5IjogMS4wLAogICJyYWRpdXMiOiA1LAogICJzdHJva2UiOiB0cnVlLAogICJ3ZWlnaHQiOiAzCn0KICAgICAgICAgICAgICAgICkuYWRkVG8obWFwXzcxYWFkYTliNjRlOTRmYThhYWNmY2Q3Yzc4MmViNTYxKTsKICAgICAgICAgICAgCiAgICAKICAgICAgICAgICAgdmFyIHBvcHVwXzU5NjNkM2Q3ZmRhMTQxYjBhYzc3NGVkZWY1OWJjMTdjID0gTC5wb3B1cCh7bWF4V2lkdGg6ICczMDAnfSk7CgogICAgICAgICAgICAKICAgICAgICAgICAgICAgIHZhciBodG1sXzk4ZjkwMjhiZGU3NzRlNTRhOWUwZTcwYWNkZWE4N2MxID0gJCgnPGRpdiBpZD0iaHRtbF85OGY5MDI4YmRlNzc0ZTU0YTllMGU3MGFjZGVhODdjMSIgc3R5bGU9IndpZHRoOiAxMDAuMCU7IGhlaWdodDogMTAwLjAlOyI+VXRvcGlhIENsdXN0ZXIgMDwvZGl2PicpWzBdOwogICAgICAgICAgICAgICAgcG9wdXBfNTk2M2QzZDdmZGExNDFiMGFjNzc0ZWRlZjU5YmMxN2Muc2V0Q29udGVudChodG1sXzk4ZjkwMjhiZGU3NzRlNTRhOWUwZTcwYWNkZWE4N2MxKTsKICAgICAgICAgICAgCgogICAgICAgICAgICBjaXJjbGVfbWFya2VyX2YyMjliMzE1YWI2ODQzOThhYjQ1OWNjMWU5NzgxYWU3LmJpbmRQb3B1cChwb3B1cF81OTYzZDNkN2ZkYTE0MWIwYWM3NzRlZGVmNTliYzE3Yyk7CgogICAgICAgICAgICAKICAgICAgICAKICAgIAogICAgICAgICAgICB2YXIgY2lyY2xlX21hcmtlcl9mZjg2OWJhM2JhYzk0YTQ4ODliMTkwNWVjYjI0MzlhZiA9IEwuY2lyY2xlTWFya2VyKAogICAgICAgICAgICAgICAgWzQwLjczNDkzNjE4MDc1NDc4LC03My44MDQ4NjEyMDA0MDUzN10sCiAgICAgICAgICAgICAgICB7CiAgImJ1YmJsaW5nTW91c2VFdmVudHMiOiB0cnVlLAogICJjb2xvciI6ICIjZmYwMDAwIiwKICAiZGFzaEFycmF5IjogbnVsbCwKICAiZGFzaE9mZnNldCI6IG51bGwsCiAgImZpbGwiOiB0cnVlLAogICJmaWxsQ29sb3IiOiAiI2ZmMDAwMCIsCiAgImZpbGxPcGFjaXR5IjogMC43LAogICJmaWxsUnVsZSI6ICJldmVub2RkIiwKICAibGluZUNhcCI6ICJyb3VuZCIsCiAgImxpbmVKb2luIjogInJvdW5kIiwKICAib3BhY2l0eSI6IDEuMCwKICAicmFkaXVzIjogNSwKICAic3Ryb2tlIjogdHJ1ZSwKICAid2VpZ2h0IjogMwp9CiAgICAgICAgICAgICAgICApLmFkZFRvKG1hcF83MWFhZGE5YjY0ZTk0ZmE4YWFjZmNkN2M3ODJlYjU2MSk7CiAgICAgICAgICAgIAogICAgCiAgICAgICAgICAgIHZhciBwb3B1cF81ZTYyNTQyODMxZTg0NGI4YTQ5ODcwMTc2ZWI4NjEzYiA9IEwucG9wdXAoe21heFdpZHRoOiAnMzAwJ30pOwoKICAgICAgICAgICAgCiAgICAgICAgICAgICAgICB2YXIgaHRtbF85NjA4YTJmNTgwMWU0NzJhOWYwOTU3MmYwYjA3ZjdjMSA9ICQoJzxkaXYgaWQ9Imh0bWxfOTYwOGEyZjU4MDFlNDcyYTlmMDk1NzJmMGIwN2Y3YzEiIHN0eWxlPSJ3aWR0aDogMTAwLjAlOyBoZWlnaHQ6IDEwMC4wJTsiPlBvbW9ub2sgQ2x1c3RlciAwPC9kaXY+JylbMF07CiAgICAgICAgICAgICAgICBwb3B1cF81ZTYyNTQyODMxZTg0NGI4YTQ5ODcwMTc2ZWI4NjEzYi5zZXRDb250ZW50KGh0bWxfOTYwOGEyZjU4MDFlNDcyYTlmMDk1NzJmMGIwN2Y3YzEpOwogICAgICAgICAgICAKCiAgICAgICAgICAgIGNpcmNsZV9tYXJrZXJfZmY4NjliYTNiYWM5NGE0ODg5YjE5MDVlY2IyNDM5YWYuYmluZFBvcHVwKHBvcHVwXzVlNjI1NDI4MzFlODQ0YjhhNDk4NzAxNzZlYjg2MTNiKTsKCiAgICAgICAgICAgIAogICAgICAgIAogICAgCiAgICAgICAgICAgIHZhciBjaXJjbGVfbWFya2VyX2Y2ZTkwM2RjM2JjNjQ4M2Q4MzY1Mzk4MWYxMDhiODZiID0gTC5jaXJjbGVNYXJrZXIoCiAgICAgICAgICAgICAgICBbNDAuNzcwMzE3MzkyOTk4MiwtNzMuODk0Njc5OTYyNzA1NzRdLAogICAgICAgICAgICAgICAgewogICJidWJibGluZ01vdXNlRXZlbnRzIjogdHJ1ZSwKICAiY29sb3IiOiAiI2ZmYjM2MCIsCiAgImRhc2hBcnJheSI6IG51bGwsCiAgImRhc2hPZmZzZXQiOiBudWxsLAogICJmaWxsIjogdHJ1ZSwKICAiZmlsbENvbG9yIjogIiNmZmIzNjAiLAogICJmaWxsT3BhY2l0eSI6IDAuNywKICAiZmlsbFJ1bGUiOiAiZXZlbm9kZCIsCiAgImxpbmVDYXAiOiAicm91bmQiLAogICJsaW5lSm9pbiI6ICJyb3VuZCIsCiAgIm9wYWNpdHkiOiAxLjAsCiAgInJhZGl1cyI6IDUsCiAgInN0cm9rZSI6IHRydWUsCiAgIndlaWdodCI6IDMKfQogICAgICAgICAgICAgICAgKS5hZGRUbyhtYXBfNzFhYWRhOWI2NGU5NGZhOGFhY2ZjZDdjNzgyZWI1NjEpOwogICAgICAgICAgICAKICAgIAogICAgICAgICAgICB2YXIgcG9wdXBfZjNhNTM5MTkzOTU2NDM3ZWFmZTA1ZDIyODNlMTAwNWQgPSBMLnBvcHVwKHttYXhXaWR0aDogJzMwMCd9KTsKCiAgICAgICAgICAgIAogICAgICAgICAgICAgICAgdmFyIGh0bWxfYzg4ODg0ZTA5NDk0NDcyMTllNjVjMjBkNmJlMzcyYTQgPSAkKCc8ZGl2IGlkPSJodG1sX2M4ODg4NGUwOTQ5NDQ3MjE5ZTY1YzIwZDZiZTM3MmE0IiBzdHlsZT0id2lkdGg6IDEwMC4wJTsgaGVpZ2h0OiAxMDAuMCU7Ij5Bc3RvcmlhIEhlaWdodHMgQ2x1c3RlciA0PC9kaXY+JylbMF07CiAgICAgICAgICAgICAgICBwb3B1cF9mM2E1MzkxOTM5NTY0MzdlYWZlMDVkMjI4M2UxMDA1ZC5zZXRDb250ZW50KGh0bWxfYzg4ODg0ZTA5NDk0NDcyMTllNjVjMjBkNmJlMzcyYTQpOwogICAgICAgICAgICAKCiAgICAgICAgICAgIGNpcmNsZV9tYXJrZXJfZjZlOTAzZGMzYmM2NDgzZDgzNjUzOTgxZjEwOGI4NmIuYmluZFBvcHVwKHBvcHVwX2YzYTUzOTE5Mzk1NjQzN2VhZmUwNWQyMjgzZTEwMDVkKTsKCiAgICAgICAgICAgIAogICAgICAgIAogICAgCiAgICAgICAgICAgIHZhciBjaXJjbGVfbWFya2VyX2JjN2VhM2MxYjcyYjQyNjU5ZTJhNjljZjhmOGJhNTE2ID0gTC5jaXJjbGVNYXJrZXIoCiAgICAgICAgICAgICAgICBbNDAuODMxNDI4MzQxNjE1NDgsLTczLjkwMTE5OTAzMzg3NjY3XSwKICAgICAgICAgICAgICAgIHsKICAiYnViYmxpbmdNb3VzZUV2ZW50cyI6IHRydWUsCiAgImNvbG9yIjogIiNmZmIzNjAiLAogICJkYXNoQXJyYXkiOiBudWxsLAogICJkYXNoT2Zmc2V0IjogbnVsbCwKICAiZmlsbCI6IHRydWUsCiAgImZpbGxDb2xvciI6ICIjZmZiMzYwIiwKICAiZmlsbE9wYWNpdHkiOiAwLjcsCiAgImZpbGxSdWxlIjogImV2ZW5vZGQiLAogICJsaW5lQ2FwIjogInJvdW5kIiwKICAibGluZUpvaW4iOiAicm91bmQiLAogICJvcGFjaXR5IjogMS4wLAogICJyYWRpdXMiOiA1LAogICJzdHJva2UiOiB0cnVlLAogICJ3ZWlnaHQiOiAzCn0KICAgICAgICAgICAgICAgICkuYWRkVG8obWFwXzcxYWFkYTliNjRlOTRmYThhYWNmY2Q3Yzc4MmViNTYxKTsKICAgICAgICAgICAgCiAgICAKICAgICAgICAgICAgdmFyIHBvcHVwXzBiNTI5OTAyZjIwNzQwZDA4YTVkZTk4MDgxN2EyY2JlID0gTC5wb3B1cCh7bWF4V2lkdGg6ICczMDAnfSk7CgogICAgICAgICAgICAKICAgICAgICAgICAgICAgIHZhciBodG1sXzdkYWFjMjdiMWVjZDQzODliZTMwNWI0ODIwN2EyODhkID0gJCgnPGRpdiBpZD0iaHRtbF83ZGFhYzI3YjFlY2Q0Mzg5YmUzMDViNDgyMDdhMjg4ZCIgc3R5bGU9IndpZHRoOiAxMDAuMCU7IGhlaWdodDogMTAwLjAlOyI+Q2xhcmVtb250IFZpbGxhZ2UgQ2x1c3RlciA0PC9kaXY+JylbMF07CiAgICAgICAgICAgICAgICBwb3B1cF8wYjUyOTkwMmYyMDc0MGQwOGE1ZGU5ODA4MTdhMmNiZS5zZXRDb250ZW50KGh0bWxfN2RhYWMyN2IxZWNkNDM4OWJlMzA1YjQ4MjA3YTI4OGQpOwogICAgICAgICAgICAKCiAgICAgICAgICAgIGNpcmNsZV9tYXJrZXJfYmM3ZWEzYzFiNzJiNDI2NTllMmE2OWNmOGY4YmE1MTYuYmluZFBvcHVwKHBvcHVwXzBiNTI5OTAyZjIwNzQwZDA4YTVkZTk4MDgxN2EyY2JlKTsKCiAgICAgICAgICAgIAogICAgICAgIAogICAgCiAgICAgICAgICAgIHZhciBjaXJjbGVfbWFya2VyXzU3NDg1ZjdiZTk5ODQ2ZjViZjk0YzU2ZTBlZDYyYjk3ID0gTC5jaXJjbGVNYXJrZXIoCiAgICAgICAgICAgICAgICBbNDAuODI0NzgwNDkwODQyOTA1LC03My45MTU4NDY1Mjc1OTAwOV0sCiAgICAgICAgICAgICAgICB7CiAgImJ1YmJsaW5nTW91c2VFdmVudHMiOiB0cnVlLAogICJjb2xvciI6ICIjZmZiMzYwIiwKICAiZGFzaEFycmF5IjogbnVsbCwKICAiZGFzaE9mZnNldCI6IG51bGwsCiAgImZpbGwiOiB0cnVlLAogICJmaWxsQ29sb3IiOiAiI2ZmYjM2MCIsCiAgImZpbGxPcGFjaXR5IjogMC43LAogICJmaWxsUnVsZSI6ICJldmVub2RkIiwKICAibGluZUNhcCI6ICJyb3VuZCIsCiAgImxpbmVKb2luIjogInJvdW5kIiwKICAib3BhY2l0eSI6IDEuMCwKICAicmFkaXVzIjogNSwKICAic3Ryb2tlIjogdHJ1ZSwKICAid2VpZ2h0IjogMwp9CiAgICAgICAgICAgICAgICApLmFkZFRvKG1hcF83MWFhZGE5YjY0ZTk0ZmE4YWFjZmNkN2M3ODJlYjU2MSk7CiAgICAgICAgICAgIAogICAgCiAgICAgICAgICAgIHZhciBwb3B1cF9kM2Y5NGMzOTQwMTc0NmUyYTY0NGQxYmE2ODllZjI1NyA9IEwucG9wdXAoe21heFdpZHRoOiAnMzAwJ30pOwoKICAgICAgICAgICAgCiAgICAgICAgICAgICAgICB2YXIgaHRtbF9mZGY0NzMxOWUzMWM0NjAxYjdiNzA3MDEzOTFhMGM0ZiA9ICQoJzxkaXYgaWQ9Imh0bWxfZmRmNDczMTllMzFjNDYwMWI3YjcwNzAxMzkxYTBjNGYiIHN0eWxlPSJ3aWR0aDogMTAwLjAlOyBoZWlnaHQ6IDEwMC4wJTsiPkNvbmNvdXJzZSBWaWxsYWdlIENsdXN0ZXIgNDwvZGl2PicpWzBdOwogICAgICAgICAgICAgICAgcG9wdXBfZDNmOTRjMzk0MDE3NDZlMmE2NDRkMWJhNjg5ZWYyNTcuc2V0Q29udGVudChodG1sX2ZkZjQ3MzE5ZTMxYzQ2MDFiN2I3MDcwMTM5MWEwYzRmKTsKICAgICAgICAgICAgCgogICAgICAgICAgICBjaXJjbGVfbWFya2VyXzU3NDg1ZjdiZTk5ODQ2ZjViZjk0YzU2ZTBlZDYyYjk3LmJpbmRQb3B1cChwb3B1cF9kM2Y5NGMzOTQwMTc0NmUyYTY0NGQxYmE2ODllZjI1Nyk7CgogICAgICAgICAgICAKICAgICAgICAKICAgIAogICAgICAgICAgICB2YXIgY2lyY2xlX21hcmtlcl8yY2JjNTgzMzA3YTY0ODFhYWVkYjhlYzU1YWM3NDRlNyA9IEwuY2lyY2xlTWFya2VyKAogICAgICAgICAgICAgICAgWzQwLjg0MzgyNjE3NjcxNjU0LC03My45MTY1NTU1MTk2NDQxOV0sCiAgICAgICAgICAgICAgICB7CiAgImJ1YmJsaW5nTW91c2VFdmVudHMiOiB0cnVlLAogICJjb2xvciI6ICIjZmZiMzYwIiwKICAiZGFzaEFycmF5IjogbnVsbCwKICAiZGFzaE9mZnNldCI6IG51bGwsCiAgImZpbGwiOiB0cnVlLAogICJmaWxsQ29sb3IiOiAiI2ZmYjM2MCIsCiAgImZpbGxPcGFjaXR5IjogMC43LAogICJmaWxsUnVsZSI6ICJldmVub2RkIiwKICAibGluZUNhcCI6ICJyb3VuZCIsCiAgImxpbmVKb2luIjogInJvdW5kIiwKICAib3BhY2l0eSI6IDEuMCwKICAicmFkaXVzIjogNSwKICAic3Ryb2tlIjogdHJ1ZSwKICAid2VpZ2h0IjogMwp9CiAgICAgICAgICAgICAgICApLmFkZFRvKG1hcF83MWFhZGE5YjY0ZTk0ZmE4YWFjZmNkN2M3ODJlYjU2MSk7CiAgICAgICAgICAgIAogICAgCiAgICAgICAgICAgIHZhciBwb3B1cF9lMmQyYjQ3YmIyYzg0MGFkYTMyNTYyNWNkYmNkMTg5NCA9IEwucG9wdXAoe21heFdpZHRoOiAnMzAwJ30pOwoKICAgICAgICAgICAgCiAgICAgICAgICAgICAgICB2YXIgaHRtbF85YmI2N2Q1MjJiNmI0ZGM3YThlZDc4MGM2YmQwOWFiMCA9ICQoJzxkaXYgaWQ9Imh0bWxfOWJiNjdkNTIyYjZiNGRjN2E4ZWQ3ODBjNmJkMDlhYjAiIHN0eWxlPSJ3aWR0aDogMTAwLjAlOyBoZWlnaHQ6IDEwMC4wJTsiPk1vdW50IEVkZW4gQ2x1c3RlciA0PC9kaXY+JylbMF07CiAgICAgICAgICAgICAgICBwb3B1cF9lMmQyYjQ3YmIyYzg0MGFkYTMyNTYyNWNkYmNkMTg5NC5zZXRDb250ZW50KGh0bWxfOWJiNjdkNTIyYjZiNGRjN2E4ZWQ3ODBjNmJkMDlhYjApOwogICAgICAgICAgICAKCiAgICAgICAgICAgIGNpcmNsZV9tYXJrZXJfMmNiYzU4MzMwN2E2NDgxYWFlZGI4ZWM1NWFjNzQ0ZTcuYmluZFBvcHVwKHBvcHVwX2UyZDJiNDdiYjJjODQwYWRhMzI1NjI1Y2RiY2QxODk0KTsKCiAgICAgICAgICAgIAogICAgICAgIAogICAgCiAgICAgICAgICAgIHZhciBjaXJjbGVfbWFya2VyXzhmMjYyMmVhOTY3YzQ5NTViYzA4Mzg2MjczYjUzZmYyID0gTC5jaXJjbGVNYXJrZXIoCiAgICAgICAgICAgICAgICBbNDAuODQ4ODQxNjA3MjQ2NjUsLTczLjkwODI5OTMwODgxOTg4XSwKICAgICAgICAgICAgICAgIHsKICAiYnViYmxpbmdNb3VzZUV2ZW50cyI6IHRydWUsCiAgImNvbG9yIjogIiNmZmIzNjAiLAogICJkYXNoQXJyYXkiOiBudWxsLAogICJkYXNoT2Zmc2V0IjogbnVsbCwKICAiZmlsbCI6IHRydWUsCiAgImZpbGxDb2xvciI6ICIjZmZiMzYwIiwKICAiZmlsbE9wYWNpdHkiOiAwLjcsCiAgImZpbGxSdWxlIjogImV2ZW5vZGQiLAogICJsaW5lQ2FwIjogInJvdW5kIiwKICAibGluZUpvaW4iOiAicm91bmQiLAogICJvcGFjaXR5IjogMS4wLAogICJyYWRpdXMiOiA1LAogICJzdHJva2UiOiB0cnVlLAogICJ3ZWlnaHQiOiAzCn0KICAgICAgICAgICAgICAgICkuYWRkVG8obWFwXzcxYWFkYTliNjRlOTRmYThhYWNmY2Q3Yzc4MmViNTYxKTsKICAgICAgICAgICAgCiAgICAKICAgICAgICAgICAgdmFyIHBvcHVwX2I0ODkxZGU1ODZhMTQyZjk5NmY5YzczODNhYTBmMDhkID0gTC5wb3B1cCh7bWF4V2lkdGg6ICczMDAnfSk7CgogICAgICAgICAgICAKICAgICAgICAgICAgICAgIHZhciBodG1sXzE2YmFkYjYzYTc3NDRkNGNhYTdkMmVkYjBiNTdmNmUzID0gJCgnPGRpdiBpZD0iaHRtbF8xNmJhZGI2M2E3NzQ0ZDRjYWE3ZDJlZGIwYjU3ZjZlMyIgc3R5bGU9IndpZHRoOiAxMDAuMCU7IGhlaWdodDogMTAwLjAlOyI+TW91bnQgSG9wZSBDbHVzdGVyIDQ8L2Rpdj4nKVswXTsKICAgICAgICAgICAgICAgIHBvcHVwX2I0ODkxZGU1ODZhMTQyZjk5NmY5YzczODNhYTBmMDhkLnNldENvbnRlbnQoaHRtbF8xNmJhZGI2M2E3NzQ0ZDRjYWE3ZDJlZGIwYjU3ZjZlMyk7CiAgICAgICAgICAgIAoKICAgICAgICAgICAgY2lyY2xlX21hcmtlcl84ZjI2MjJlYTk2N2M0OTU1YmMwODM4NjI3M2I1M2ZmMi5iaW5kUG9wdXAocG9wdXBfYjQ4OTFkZTU4NmExNDJmOTk2ZjljNzM4M2FhMGYwOGQpOwoKICAgICAgICAgICAgCiAgICAgICAgCiAgICAKICAgICAgICAgICAgdmFyIGNpcmNsZV9tYXJrZXJfNmFlMDJhZmUxNTYzNDc5OGFiNWIxOTVjNzg0ZDY4MjYgPSBMLmNpcmNsZU1hcmtlcigKICAgICAgICAgICAgICAgIFs0MC43NjAyODAzMzEzMTM3NCwtNzMuOTYzNTU2MTQwOTQzMDNdLAogICAgICAgICAgICAgICAgewogICJidWJibGluZ01vdXNlRXZlbnRzIjogdHJ1ZSwKICAiY29sb3IiOiAiIzAwYjVlYiIsCiAgImRhc2hBcnJheSI6IG51bGwsCiAgImRhc2hPZmZzZXQiOiBudWxsLAogICJmaWxsIjogdHJ1ZSwKICAiZmlsbENvbG9yIjogIiMwMGI1ZWIiLAogICJmaWxsT3BhY2l0eSI6IDAuNywKICAiZmlsbFJ1bGUiOiAiZXZlbm9kZCIsCiAgImxpbmVDYXAiOiAicm91bmQiLAogICJsaW5lSm9pbiI6ICJyb3VuZCIsCiAgIm9wYWNpdHkiOiAxLjAsCiAgInJhZGl1cyI6IDUsCiAgInN0cm9rZSI6IHRydWUsCiAgIndlaWdodCI6IDMKfQogICAgICAgICAgICAgICAgKS5hZGRUbyhtYXBfNzFhYWRhOWI2NGU5NGZhOGFhY2ZjZDdjNzgyZWI1NjEpOwogICAgICAgICAgICAKICAgIAogICAgICAgICAgICB2YXIgcG9wdXBfODJkZjUzOGYwNWJhNDE5OWFkNTBlZmE2NzMzNTJkZjUgPSBMLnBvcHVwKHttYXhXaWR0aDogJzMwMCd9KTsKCiAgICAgICAgICAgIAogICAgICAgICAgICAgICAgdmFyIGh0bWxfNWJmY2E5M2UwYTNkNGU3YzlhNzYwZDBkNTgwODJlYWMgPSAkKCc8ZGl2IGlkPSJodG1sXzViZmNhOTNlMGEzZDRlN2M5YTc2MGQwZDU4MDgyZWFjIiBzdHlsZT0id2lkdGg6IDEwMC4wJTsgaGVpZ2h0OiAxMDAuMCU7Ij5TdXR0b24gUGxhY2UgQ2x1c3RlciAyPC9kaXY+JylbMF07CiAgICAgICAgICAgICAgICBwb3B1cF84MmRmNTM4ZjA1YmE0MTk5YWQ1MGVmYTY3MzM1MmRmNS5zZXRDb250ZW50KGh0bWxfNWJmY2E5M2UwYTNkNGU3YzlhNzYwZDBkNTgwODJlYWMpOwogICAgICAgICAgICAKCiAgICAgICAgICAgIGNpcmNsZV9tYXJrZXJfNmFlMDJhZmUxNTYzNDc5OGFiNWIxOTVjNzg0ZDY4MjYuYmluZFBvcHVwKHBvcHVwXzgyZGY1MzhmMDViYTQxOTlhZDUwZWZhNjczMzUyZGY1KTsKCiAgICAgICAgICAgIAogICAgICAgIAogICAgCiAgICAgICAgICAgIHZhciBjaXJjbGVfbWFya2VyXzgwYjc2NDUwOGI1NTRkNTU4NjliYWFhYzdhZDAzNDlhID0gTC5jaXJjbGVNYXJrZXIoCiAgICAgICAgICAgICAgICBbNDAuNzQzNDE0MDkwMDczNTM2LC03My45NTM4Njc4MjEzMDc0NV0sCiAgICAgICAgICAgICAgICB7CiAgImJ1YmJsaW5nTW91c2VFdmVudHMiOiB0cnVlLAogICJjb2xvciI6ICIjMDBiNWViIiwKICAiZGFzaEFycmF5IjogbnVsbCwKICAiZGFzaE9mZnNldCI6IG51bGwsCiAgImZpbGwiOiB0cnVlLAogICJmaWxsQ29sb3IiOiAiIzAwYjVlYiIsCiAgImZpbGxPcGFjaXR5IjogMC43LAogICJmaWxsUnVsZSI6ICJldmVub2RkIiwKICAibGluZUNhcCI6ICJyb3VuZCIsCiAgImxpbmVKb2luIjogInJvdW5kIiwKICAib3BhY2l0eSI6IDEuMCwKICAicmFkaXVzIjogNSwKICAic3Ryb2tlIjogdHJ1ZSwKICAid2VpZ2h0IjogMwp9CiAgICAgICAgICAgICAgICApLmFkZFRvKG1hcF83MWFhZGE5YjY0ZTk0ZmE4YWFjZmNkN2M3ODJlYjU2MSk7CiAgICAgICAgICAgIAogICAgCiAgICAgICAgICAgIHZhciBwb3B1cF85ODE1NjQwZmIyOTY0N2ZjOTBlYzRiODM0ZmVjNzhjNyA9IEwucG9wdXAoe21heFdpZHRoOiAnMzAwJ30pOwoKICAgICAgICAgICAgCiAgICAgICAgICAgICAgICB2YXIgaHRtbF81Yjc2NzkzOWM2YWM0NmQxYmZmZjY5ZjcwYTczZDhmYiA9ICQoJzxkaXYgaWQ9Imh0bWxfNWI3Njc5MzljNmFjNDZkMWJmZmY2OWY3MGE3M2Q4ZmIiIHN0eWxlPSJ3aWR0aDogMTAwLjAlOyBoZWlnaHQ6IDEwMC4wJTsiPkh1bnRlcnMgUG9pbnQgQ2x1c3RlciAyPC9kaXY+JylbMF07CiAgICAgICAgICAgICAgICBwb3B1cF85ODE1NjQwZmIyOTY0N2ZjOTBlYzRiODM0ZmVjNzhjNy5zZXRDb250ZW50KGh0bWxfNWI3Njc5MzljNmFjNDZkMWJmZmY2OWY3MGE3M2Q4ZmIpOwogICAgICAgICAgICAKCiAgICAgICAgICAgIGNpcmNsZV9tYXJrZXJfODBiNzY0NTA4YjU1NGQ1NTg2OWJhYWFjN2FkMDM0OWEuYmluZFBvcHVwKHBvcHVwXzk4MTU2NDBmYjI5NjQ3ZmM5MGVjNGI4MzRmZWM3OGM3KTsKCiAgICAgICAgICAgIAogICAgICAgIAogICAgCiAgICAgICAgICAgIHZhciBjaXJjbGVfbWFya2VyX2NjZTc2NjcyYzE2MzRkMDg4M2Q3ZTJmZWQ3MjM1MTQxID0gTC5jaXJjbGVNYXJrZXIoCiAgICAgICAgICAgICAgICBbNDAuNzUyMDQyMzY5NTA3MjIsLTczLjk2NzcwODI0NTgxODM0XSwKICAgICAgICAgICAgICAgIHsKICAiYnViYmxpbmdNb3VzZUV2ZW50cyI6IHRydWUsCiAgImNvbG9yIjogIiMwMGI1ZWIiLAogICJkYXNoQXJyYXkiOiBudWxsLAogICJkYXNoT2Zmc2V0IjogbnVsbCwKICAiZmlsbCI6IHRydWUsCiAgImZpbGxDb2xvciI6ICIjMDBiNWViIiwKICAiZmlsbE9wYWNpdHkiOiAwLjcsCiAgImZpbGxSdWxlIjogImV2ZW5vZGQiLAogICJsaW5lQ2FwIjogInJvdW5kIiwKICAibGluZUpvaW4iOiAicm91bmQiLAogICJvcGFjaXR5IjogMS4wLAogICJyYWRpdXMiOiA1LAogICJzdHJva2UiOiB0cnVlLAogICJ3ZWlnaHQiOiAzCn0KICAgICAgICAgICAgICAgICkuYWRkVG8obWFwXzcxYWFkYTliNjRlOTRmYThhYWNmY2Q3Yzc4MmViNTYxKTsKICAgICAgICAgICAgCiAgICAKICAgICAgICAgICAgdmFyIHBvcHVwX2EwMWJlNDk1YTJjZDQwOWRiOWY5YjcxOWM4YjBmYTFhID0gTC5wb3B1cCh7bWF4V2lkdGg6ICczMDAnfSk7CgogICAgICAgICAgICAKICAgICAgICAgICAgICAgIHZhciBodG1sXzI5MjhhZWUyNjQ4MjQ2NDY5OGE4NjQ0OGMzOWUzZDc0ID0gJCgnPGRpdiBpZD0iaHRtbF8yOTI4YWVlMjY0ODI0NjQ2OThhODY0NDhjMzllM2Q3NCIgc3R5bGU9IndpZHRoOiAxMDAuMCU7IGhlaWdodDogMTAwLjAlOyI+VHVydGxlIEJheSBDbHVzdGVyIDI8L2Rpdj4nKVswXTsKICAgICAgICAgICAgICAgIHBvcHVwX2EwMWJlNDk1YTJjZDQwOWRiOWY5YjcxOWM4YjBmYTFhLnNldENvbnRlbnQoaHRtbF8yOTI4YWVlMjY0ODI0NjQ2OThhODY0NDhjMzllM2Q3NCk7CiAgICAgICAgICAgIAoKICAgICAgICAgICAgY2lyY2xlX21hcmtlcl9jY2U3NjY3MmMxNjM0ZDA4ODNkN2UyZmVkNzIzNTE0MS5iaW5kUG9wdXAocG9wdXBfYTAxYmU0OTVhMmNkNDA5ZGI5ZjliNzE5YzhiMGZhMWEpOwoKICAgICAgICAgICAgCiAgICAgICAgCiAgICAKICAgICAgICAgICAgdmFyIGNpcmNsZV9tYXJrZXJfMGE4ZDlkNjEyNWU5NDM3MjlkODU2ODdkMTZkNmZiMDAgPSBMLmNpcmNsZU1hcmtlcigKICAgICAgICAgICAgICAgIFs0MC43NDY5MTc0MTA3NDAxOTUsLTczLjk3MTIxOTI4NzIyMjY1XSwKICAgICAgICAgICAgICAgIHsKICAiYnViYmxpbmdNb3VzZUV2ZW50cyI6IHRydWUsCiAgImNvbG9yIjogIiMwMGI1ZWIiLAogICJkYXNoQXJyYXkiOiBudWxsLAogICJkYXNoT2Zmc2V0IjogbnVsbCwKICAiZmlsbCI6IHRydWUsCiAgImZpbGxDb2xvciI6ICIjMDBiNWViIiwKICAiZmlsbE9wYWNpdHkiOiAwLjcsCiAgImZpbGxSdWxlIjogImV2ZW5vZGQiLAogICJsaW5lQ2FwIjogInJvdW5kIiwKICAibGluZUpvaW4iOiAicm91bmQiLAogICJvcGFjaXR5IjogMS4wLAogICJyYWRpdXMiOiA1LAogICJzdHJva2UiOiB0cnVlLAogICJ3ZWlnaHQiOiAzCn0KICAgICAgICAgICAgICAgICkuYWRkVG8obWFwXzcxYWFkYTliNjRlOTRmYThhYWNmY2Q3Yzc4MmViNTYxKTsKICAgICAgICAgICAgCiAgICAKICAgICAgICAgICAgdmFyIHBvcHVwX2RiZTQ5ZjhiYTVlODQwOWY4NWVkYWRjODllYTI4ZDg3ID0gTC5wb3B1cCh7bWF4V2lkdGg6ICczMDAnfSk7CgogICAgICAgICAgICAKICAgICAgICAgICAgICAgIHZhciBodG1sX2RkNDk4ZWY1YTFiYjQ2MmVhZDI3YTAzY2NmMzkwNTVkID0gJCgnPGRpdiBpZD0iaHRtbF9kZDQ5OGVmNWExYmI0NjJlYWQyN2EwM2NjZjM5MDU1ZCIgc3R5bGU9IndpZHRoOiAxMDAuMCU7IGhlaWdodDogMTAwLjAlOyI+VHVkb3IgQ2l0eSBDbHVzdGVyIDI8L2Rpdj4nKVswXTsKICAgICAgICAgICAgICAgIHBvcHVwX2RiZTQ5ZjhiYTVlODQwOWY4NWVkYWRjODllYTI4ZDg3LnNldENvbnRlbnQoaHRtbF9kZDQ5OGVmNWExYmI0NjJlYWQyN2EwM2NjZjM5MDU1ZCk7CiAgICAgICAgICAgIAoKICAgICAgICAgICAgY2lyY2xlX21hcmtlcl8wYThkOWQ2MTI1ZTk0MzcyOWQ4NTY4N2QxNmQ2ZmIwMC5iaW5kUG9wdXAocG9wdXBfZGJlNDlmOGJhNWU4NDA5Zjg1ZWRhZGM4OWVhMjhkODcpOwoKICAgICAgICAgICAgCiAgICAgICAgCiAgICAKICAgICAgICAgICAgdmFyIGNpcmNsZV9tYXJrZXJfMjEyN2NiMThjM2E1NGNhZWIyOWRmOTAxOWZlZGNjNTMgPSBMLmNpcmNsZU1hcmtlcigKICAgICAgICAgICAgICAgIFs0MC43MzA5OTk1NTQ3NzA2MSwtNzMuOTc0MDUxNzA0NjkyMDNdLAogICAgICAgICAgICAgICAgewogICJidWJibGluZ01vdXNlRXZlbnRzIjogdHJ1ZSwKICAiY29sb3IiOiAiIzAwYjVlYiIsCiAgImRhc2hBcnJheSI6IG51bGwsCiAgImRhc2hPZmZzZXQiOiBudWxsLAogICJmaWxsIjogdHJ1ZSwKICAiZmlsbENvbG9yIjogIiMwMGI1ZWIiLAogICJmaWxsT3BhY2l0eSI6IDAuNywKICAiZmlsbFJ1bGUiOiAiZXZlbm9kZCIsCiAgImxpbmVDYXAiOiAicm91bmQiLAogICJsaW5lSm9pbiI6ICJyb3VuZCIsCiAgIm9wYWNpdHkiOiAxLjAsCiAgInJhZGl1cyI6IDUsCiAgInN0cm9rZSI6IHRydWUsCiAgIndlaWdodCI6IDMKfQogICAgICAgICAgICAgICAgKS5hZGRUbyhtYXBfNzFhYWRhOWI2NGU5NGZhOGFhY2ZjZDdjNzgyZWI1NjEpOwogICAgICAgICAgICAKICAgIAogICAgICAgICAgICB2YXIgcG9wdXBfNjMxMjhlMjY3N2Q4NDIwNDg2YWMxYjdjN2FkZTViNTQgPSBMLnBvcHVwKHttYXhXaWR0aDogJzMwMCd9KTsKCiAgICAgICAgICAgIAogICAgICAgICAgICAgICAgdmFyIGh0bWxfZDE3MmI2YjYyZWNmNDRiYzgwMmIxMjI1Nzk5MGY4MDQgPSAkKCc8ZGl2IGlkPSJodG1sX2QxNzJiNmI2MmVjZjQ0YmM4MDJiMTIyNTc5OTBmODA0IiBzdHlsZT0id2lkdGg6IDEwMC4wJTsgaGVpZ2h0OiAxMDAuMCU7Ij5TdHV5dmVzYW50IFRvd24gQ2x1c3RlciAyPC9kaXY+JylbMF07CiAgICAgICAgICAgICAgICBwb3B1cF82MzEyOGUyNjc3ZDg0MjA0ODZhYzFiN2M3YWRlNWI1NC5zZXRDb250ZW50KGh0bWxfZDE3MmI2YjYyZWNmNDRiYzgwMmIxMjI1Nzk5MGY4MDQpOwogICAgICAgICAgICAKCiAgICAgICAgICAgIGNpcmNsZV9tYXJrZXJfMjEyN2NiMThjM2E1NGNhZWIyOWRmOTAxOWZlZGNjNTMuYmluZFBvcHVwKHBvcHVwXzYzMTI4ZTI2NzdkODQyMDQ4NmFjMWI3YzdhZGU1YjU0KTsKCiAgICAgICAgICAgIAogICAgICAgIAogICAgCiAgICAgICAgICAgIHZhciBjaXJjbGVfbWFya2VyXzU2NTcwYmQ1ZDRhYjQ0N2E5YzFhNGM0ZjMwMjNlODVlID0gTC5jaXJjbGVNYXJrZXIoCiAgICAgICAgICAgICAgICBbNDAuNzM5NjczMDQ3NjM4NDI2LC03My45OTA5NDcxMDUyODI2XSwKICAgICAgICAgICAgICAgIHsKICAiYnViYmxpbmdNb3VzZUV2ZW50cyI6IHRydWUsCiAgImNvbG9yIjogIiMwMGI1ZWIiLAogICJkYXNoQXJyYXkiOiBudWxsLAogICJkYXNoT2Zmc2V0IjogbnVsbCwKICAiZmlsbCI6IHRydWUsCiAgImZpbGxDb2xvciI6ICIjMDBiNWViIiwKICAiZmlsbE9wYWNpdHkiOiAwLjcsCiAgImZpbGxSdWxlIjogImV2ZW5vZGQiLAogICJsaW5lQ2FwIjogInJvdW5kIiwKICAibGluZUpvaW4iOiAicm91bmQiLAogICJvcGFjaXR5IjogMS4wLAogICJyYWRpdXMiOiA1LAogICJzdHJva2UiOiB0cnVlLAogICJ3ZWlnaHQiOiAzCn0KICAgICAgICAgICAgICAgICkuYWRkVG8obWFwXzcxYWFkYTliNjRlOTRmYThhYWNmY2Q3Yzc4MmViNTYxKTsKICAgICAgICAgICAgCiAgICAKICAgICAgICAgICAgdmFyIHBvcHVwX2UzMTMzZGZmODkyMzQ1ZDhhOGVkYTQzYjljOTFkNjNhID0gTC5wb3B1cCh7bWF4V2lkdGg6ICczMDAnfSk7CgogICAgICAgICAgICAKICAgICAgICAgICAgICAgIHZhciBodG1sX2YzNjdiZjU2ZTRjODQ0Nzk4MDY4YzMzMzQwMDYwNDk3ID0gJCgnPGRpdiBpZD0iaHRtbF9mMzY3YmY1NmU0Yzg0NDc5ODA2OGMzMzM0MDA2MDQ5NyIgc3R5bGU9IndpZHRoOiAxMDAuMCU7IGhlaWdodDogMTAwLjAlOyI+RmxhdGlyb24gQ2x1c3RlciAyPC9kaXY+JylbMF07CiAgICAgICAgICAgICAgICBwb3B1cF9lMzEzM2RmZjg5MjM0NWQ4YThlZGE0M2I5YzkxZDYzYS5zZXRDb250ZW50KGh0bWxfZjM2N2JmNTZlNGM4NDQ3OTgwNjhjMzMzNDAwNjA0OTcpOwogICAgICAgICAgICAKCiAgICAgICAgICAgIGNpcmNsZV9tYXJrZXJfNTY1NzBiZDVkNGFiNDQ3YTljMWE0YzRmMzAyM2U4NWUuYmluZFBvcHVwKHBvcHVwX2UzMTMzZGZmODkyMzQ1ZDhhOGVkYTQzYjljOTFkNjNhKTsKCiAgICAgICAgICAgIAogICAgICAgIAogICAgCiAgICAgICAgICAgIHZhciBjaXJjbGVfbWFya2VyXzQ1ZDkyODRjOTFiNzQwOTQ5MDM5ZTRhMzE3MGQ3ZDEyID0gTC5jaXJjbGVNYXJrZXIoCiAgICAgICAgICAgICAgICBbNDAuNzQ1NjUxODA2MDgwNzYsLTczLjkxODE5Mjg2NDMxNjgyXSwKICAgICAgICAgICAgICAgIHsKICAiYnViYmxpbmdNb3VzZUV2ZW50cyI6IHRydWUsCiAgImNvbG9yIjogIiMwMGI1ZWIiLAogICJkYXNoQXJyYXkiOiBudWxsLAogICJkYXNoT2Zmc2V0IjogbnVsbCwKICAiZmlsbCI6IHRydWUsCiAgImZpbGxDb2xvciI6ICIjMDBiNWViIiwKICAiZmlsbE9wYWNpdHkiOiAwLjcsCiAgImZpbGxSdWxlIjogImV2ZW5vZGQiLAogICJsaW5lQ2FwIjogInJvdW5kIiwKICAibGluZUpvaW4iOiAicm91bmQiLAogICJvcGFjaXR5IjogMS4wLAogICJyYWRpdXMiOiA1LAogICJzdHJva2UiOiB0cnVlLAogICJ3ZWlnaHQiOiAzCn0KICAgICAgICAgICAgICAgICkuYWRkVG8obWFwXzcxYWFkYTliNjRlOTRmYThhYWNmY2Q3Yzc4MmViNTYxKTsKICAgICAgICAgICAgCiAgICAKICAgICAgICAgICAgdmFyIHBvcHVwXzExMjRlZGNmOWIzYjQwNWM4M2M5ZjNmNGUyOTUzMDA3ID0gTC5wb3B1cCh7bWF4V2lkdGg6ICczMDAnfSk7CgogICAgICAgICAgICAKICAgICAgICAgICAgICAgIHZhciBodG1sXzg0ZjRkODFjZjRmYjRiNThiZjViZGQwNzc2ODcyNzljID0gJCgnPGRpdiBpZD0iaHRtbF84NGY0ZDgxY2Y0ZmI0YjU4YmY1YmRkMDc3Njg3Mjc5YyIgc3R5bGU9IndpZHRoOiAxMDAuMCU7IGhlaWdodDogMTAwLjAlOyI+U3VubnlzaWRlIEdhcmRlbnMgQ2x1c3RlciAyPC9kaXY+JylbMF07CiAgICAgICAgICAgICAgICBwb3B1cF8xMTI0ZWRjZjliM2I0MDVjODNjOWYzZjRlMjk1MzAwNy5zZXRDb250ZW50KGh0bWxfODRmNGQ4MWNmNGZiNGI1OGJmNWJkZDA3NzY4NzI3OWMpOwogICAgICAgICAgICAKCiAgICAgICAgICAgIGNpcmNsZV9tYXJrZXJfNDVkOTI4NGM5MWI3NDA5NDkwMzllNGEzMTcwZDdkMTIuYmluZFBvcHVwKHBvcHVwXzExMjRlZGNmOWIzYjQwNWM4M2M5ZjNmNGUyOTUzMDA3KTsKCiAgICAgICAgICAgIAogICAgICAgIAogICAgCiAgICAgICAgICAgIHZhciBjaXJjbGVfbWFya2VyXzY3N2U5MGIzYzczNTQ3NGVhNjE3OTc5ZTVhNDRjYzg2ID0gTC5jaXJjbGVNYXJrZXIoCiAgICAgICAgICAgICAgICBbNDAuNzM3MjUwNzE2OTQ0OTcsLTczLjkzMjQ0MjM1MjYwMTc4XSwKICAgICAgICAgICAgICAgIHsKICAiYnViYmxpbmdNb3VzZUV2ZW50cyI6IHRydWUsCiAgImNvbG9yIjogIiMwMGI1ZWIiLAogICJkYXNoQXJyYXkiOiBudWxsLAogICJkYXNoT2Zmc2V0IjogbnVsbCwKICAiZmlsbCI6IHRydWUsCiAgImZpbGxDb2xvciI6ICIjMDBiNWViIiwKICAiZmlsbE9wYWNpdHkiOiAwLjcsCiAgImZpbGxSdWxlIjogImV2ZW5vZGQiLAogICJsaW5lQ2FwIjogInJvdW5kIiwKICAibGluZUpvaW4iOiAicm91bmQiLAogICJvcGFjaXR5IjogMS4wLAogICJyYWRpdXMiOiA1LAogICJzdHJva2UiOiB0cnVlLAogICJ3ZWlnaHQiOiAzCn0KICAgICAgICAgICAgICAgICkuYWRkVG8obWFwXzcxYWFkYTliNjRlOTRmYThhYWNmY2Q3Yzc4MmViNTYxKTsKICAgICAgICAgICAgCiAgICAKICAgICAgICAgICAgdmFyIHBvcHVwXzM4OTQzY2Q3MWNhZTQ1ZTg5MDg0ZjUwMjYyM2JmZTVjID0gTC5wb3B1cCh7bWF4V2lkdGg6ICczMDAnfSk7CgogICAgICAgICAgICAKICAgICAgICAgICAgICAgIHZhciBodG1sXzdiNjQ2ZmRjNzgzZDQ5YzM4NGE4MTMyYmI5MzFmMDQ5ID0gJCgnPGRpdiBpZD0iaHRtbF83YjY0NmZkYzc4M2Q0OWMzODRhODEzMmJiOTMxZjA0OSIgc3R5bGU9IndpZHRoOiAxMDAuMCU7IGhlaWdodDogMTAwLjAlOyI+Qmxpc3N2aWxsZSBDbHVzdGVyIDI8L2Rpdj4nKVswXTsKICAgICAgICAgICAgICAgIHBvcHVwXzM4OTQzY2Q3MWNhZTQ1ZTg5MDg0ZjUwMjYyM2JmZTVjLnNldENvbnRlbnQoaHRtbF83YjY0NmZkYzc4M2Q0OWMzODRhODEzMmJiOTMxZjA0OSk7CiAgICAgICAgICAgIAoKICAgICAgICAgICAgY2lyY2xlX21hcmtlcl82NzdlOTBiM2M3MzU0NzRlYTYxNzk3OWU1YTQ0Y2M4Ni5iaW5kUG9wdXAocG9wdXBfMzg5NDNjZDcxY2FlNDVlODkwODRmNTAyNjIzYmZlNWMpOwoKICAgICAgICAgICAgCiAgICAgICAgCiAgICAKICAgICAgICAgICAgdmFyIGNpcmNsZV9tYXJrZXJfNDhlMzhlNGEwMGFiNDNlMmEwZDg3YjAxZTgxNTMxZjIgPSBMLmNpcmNsZU1hcmtlcigKICAgICAgICAgICAgICAgIFs0MC43MDMyODEwOTA5MzAxNCwtNzMuOTk1NTA3NTE4ODg0MTVdLAogICAgICAgICAgICAgICAgewogICJidWJibGluZ01vdXNlRXZlbnRzIjogdHJ1ZSwKICAiY29sb3IiOiAiIzAwYjVlYiIsCiAgImRhc2hBcnJheSI6IG51bGwsCiAgImRhc2hPZmZzZXQiOiBudWxsLAogICJmaWxsIjogdHJ1ZSwKICAiZmlsbENvbG9yIjogIiMwMGI1ZWIiLAogICJmaWxsT3BhY2l0eSI6IDAuNywKICAiZmlsbFJ1bGUiOiAiZXZlbm9kZCIsCiAgImxpbmVDYXAiOiAicm91bmQiLAogICJsaW5lSm9pbiI6ICJyb3VuZCIsCiAgIm9wYWNpdHkiOiAxLjAsCiAgInJhZGl1cyI6IDUsCiAgInN0cm9rZSI6IHRydWUsCiAgIndlaWdodCI6IDMKfQogICAgICAgICAgICAgICAgKS5hZGRUbyhtYXBfNzFhYWRhOWI2NGU5NGZhOGFhY2ZjZDdjNzgyZWI1NjEpOwogICAgICAgICAgICAKICAgIAogICAgICAgICAgICB2YXIgcG9wdXBfOGM4MmJiNWM1NDA0NDI0MWFjYWU2YmJiMzg0ODhiNDYgPSBMLnBvcHVwKHttYXhXaWR0aDogJzMwMCd9KTsKCiAgICAgICAgICAgIAogICAgICAgICAgICAgICAgdmFyIGh0bWxfODM0Y2MxOTA2ZDdkNDJlOWE4YmIwZGZiY2NmM2FkMTMgPSAkKCc8ZGl2IGlkPSJodG1sXzgzNGNjMTkwNmQ3ZDQyZTlhOGJiMGRmYmNjZjNhZDEzIiBzdHlsZT0id2lkdGg6IDEwMC4wJTsgaGVpZ2h0OiAxMDAuMCU7Ij5GdWx0b24gRmVycnkgQ2x1c3RlciAyPC9kaXY+JylbMF07CiAgICAgICAgICAgICAgICBwb3B1cF84YzgyYmI1YzU0MDQ0MjQxYWNhZTZiYmIzODQ4OGI0Ni5zZXRDb250ZW50KGh0bWxfODM0Y2MxOTA2ZDdkNDJlOWE4YmIwZGZiY2NmM2FkMTMpOwogICAgICAgICAgICAKCiAgICAgICAgICAgIGNpcmNsZV9tYXJrZXJfNDhlMzhlNGEwMGFiNDNlMmEwZDg3YjAxZTgxNTMxZjIuYmluZFBvcHVwKHBvcHVwXzhjODJiYjVjNTQwNDQyNDFhY2FlNmJiYjM4NDg4YjQ2KTsKCiAgICAgICAgICAgIAogICAgICAgIAogICAgCiAgICAgICAgICAgIHZhciBjaXJjbGVfbWFya2VyX2I0ZmI4ZWY0MTg1ZjQ4ZGE5NDdjYTU5NTJiOGQyNzVhID0gTC5jaXJjbGVNYXJrZXIoCiAgICAgICAgICAgICAgICBbNDAuNzAzMzIxNDk4ODI4NzQsLTczLjk4MTExNjAzNTkyMzkzXSwKICAgICAgICAgICAgICAgIHsKICAiYnViYmxpbmdNb3VzZUV2ZW50cyI6IHRydWUsCiAgImNvbG9yIjogIiMwMGI1ZWIiLAogICJkYXNoQXJyYXkiOiBudWxsLAogICJkYXNoT2Zmc2V0IjogbnVsbCwKICAiZmlsbCI6IHRydWUsCiAgImZpbGxDb2xvciI6ICIjMDBiNWViIiwKICAiZmlsbE9wYWNpdHkiOiAwLjcsCiAgImZpbGxSdWxlIjogImV2ZW5vZGQiLAogICJsaW5lQ2FwIjogInJvdW5kIiwKICAibGluZUpvaW4iOiAicm91bmQiLAogICJvcGFjaXR5IjogMS4wLAogICJyYWRpdXMiOiA1LAogICJzdHJva2UiOiB0cnVlLAogICJ3ZWlnaHQiOiAzCn0KICAgICAgICAgICAgICAgICkuYWRkVG8obWFwXzcxYWFkYTliNjRlOTRmYThhYWNmY2Q3Yzc4MmViNTYxKTsKICAgICAgICAgICAgCiAgICAKICAgICAgICAgICAgdmFyIHBvcHVwXzQyNjFiM2ZiZjkyYTRjZTRhMmFhMzY1MjgyYWFiYjAzID0gTC5wb3B1cCh7bWF4V2lkdGg6ICczMDAnfSk7CgogICAgICAgICAgICAKICAgICAgICAgICAgICAgIHZhciBodG1sXzUzMzliYjMxN2ExOTRmYWU5MmYyNDMwYTg2M2UxYmQwID0gJCgnPGRpdiBpZD0iaHRtbF81MzM5YmIzMTdhMTk0ZmFlOTJmMjQzMGE4NjNlMWJkMCIgc3R5bGU9IndpZHRoOiAxMDAuMCU7IGhlaWdodDogMTAwLjAlOyI+VmluZWdhciBIaWxsIENsdXN0ZXIgMjwvZGl2PicpWzBdOwogICAgICAgICAgICAgICAgcG9wdXBfNDI2MWIzZmJmOTJhNGNlNGEyYWEzNjUyODJhYWJiMDMuc2V0Q29udGVudChodG1sXzUzMzliYjMxN2ExOTRmYWU5MmYyNDMwYTg2M2UxYmQwKTsKICAgICAgICAgICAgCgogICAgICAgICAgICBjaXJjbGVfbWFya2VyX2I0ZmI4ZWY0MTg1ZjQ4ZGE5NDdjYTU5NTJiOGQyNzVhLmJpbmRQb3B1cChwb3B1cF80MjYxYjNmYmY5MmE0Y2U0YTJhYTM2NTI4MmFhYmIwMyk7CgogICAgICAgICAgICAKICAgICAgICAKICAgIAogICAgICAgICAgICB2YXIgY2lyY2xlX21hcmtlcl9jODM4ZGIyZDQzYjU0M2QwODA1NjU1ODQ0YmJhM2JlYSA9IEwuY2lyY2xlTWFya2VyKAogICAgICAgICAgICAgICAgWzQwLjY3NTAzOTg2NTAzMjM3LC03My45MzA1MzEwODgxNzMzOF0sCiAgICAgICAgICAgICAgICB7CiAgImJ1YmJsaW5nTW91c2VFdmVudHMiOiB0cnVlLAogICJjb2xvciI6ICIjODBmZmI0IiwKICAiZGFzaEFycmF5IjogbnVsbCwKICAiZGFzaE9mZnNldCI6IG51bGwsCiAgImZpbGwiOiB0cnVlLAogICJmaWxsQ29sb3IiOiAiIzgwZmZiNCIsCiAgImZpbGxPcGFjaXR5IjogMC43LAogICJmaWxsUnVsZSI6ICJldmVub2RkIiwKICAibGluZUNhcCI6ICJyb3VuZCIsCiAgImxpbmVKb2luIjogInJvdW5kIiwKICAib3BhY2l0eSI6IDEuMCwKICAicmFkaXVzIjogNSwKICAic3Ryb2tlIjogdHJ1ZSwKICAid2VpZ2h0IjogMwp9CiAgICAgICAgICAgICAgICApLmFkZFRvKG1hcF83MWFhZGE5YjY0ZTk0ZmE4YWFjZmNkN2M3ODJlYjU2MSk7CiAgICAgICAgICAgIAogICAgCiAgICAgICAgICAgIHZhciBwb3B1cF83ZWM4MWM2MDdhNjY0NmEzYWZjODNiNjY2ZDk0ZTVmNCA9IEwucG9wdXAoe21heFdpZHRoOiAnMzAwJ30pOwoKICAgICAgICAgICAgCiAgICAgICAgICAgICAgICB2YXIgaHRtbF80MGE3MjZhOWYwYWM0Mjk5ODYxNTljMTRhYzkzYjVlNSA9ICQoJzxkaXYgaWQ9Imh0bWxfNDBhNzI2YTlmMGFjNDI5OTg2MTU5YzE0YWM5M2I1ZTUiIHN0eWxlPSJ3aWR0aDogMTAwLjAlOyBoZWlnaHQ6IDEwMC4wJTsiPldlZWtzdmlsbGUgQ2x1c3RlciAzPC9kaXY+JylbMF07CiAgICAgICAgICAgICAgICBwb3B1cF83ZWM4MWM2MDdhNjY0NmEzYWZjODNiNjY2ZDk0ZTVmNC5zZXRDb250ZW50KGh0bWxfNDBhNzI2YTlmMGFjNDI5OTg2MTU5YzE0YWM5M2I1ZTUpOwogICAgICAgICAgICAKCiAgICAgICAgICAgIGNpcmNsZV9tYXJrZXJfYzgzOGRiMmQ0M2I1NDNkMDgwNTY1NTg0NGJiYTNiZWEuYmluZFBvcHVwKHBvcHVwXzdlYzgxYzYwN2E2NjQ2YTNhZmM4M2I2NjZkOTRlNWY0KTsKCiAgICAgICAgICAgIAogICAgICAgIAogICAgCiAgICAgICAgICAgIHZhciBjaXJjbGVfbWFya2VyXzMwZDI5MjUzMmYzMDQ2MTA5MjgyZTA5YTA0ODA3MWJlID0gTC5jaXJjbGVNYXJrZXIoCiAgICAgICAgICAgICAgICBbNDAuNjc3ODYxMDQ3Njk1MzEsLTczLjkwMzMxNjg0ODUyNTk5XSwKICAgICAgICAgICAgICAgIHsKICAiYnViYmxpbmdNb3VzZUV2ZW50cyI6IHRydWUsCiAgImNvbG9yIjogIiM4MGZmYjQiLAogICJkYXNoQXJyYXkiOiBudWxsLAogICJkYXNoT2Zmc2V0IjogbnVsbCwKICAiZmlsbCI6IHRydWUsCiAgImZpbGxDb2xvciI6ICIjODBmZmI0IiwKICAiZmlsbE9wYWNpdHkiOiAwLjcsCiAgImZpbGxSdWxlIjogImV2ZW5vZGQiLAogICJsaW5lQ2FwIjogInJvdW5kIiwKICAibGluZUpvaW4iOiAicm91bmQiLAogICJvcGFjaXR5IjogMS4wLAogICJyYWRpdXMiOiA1LAogICJzdHJva2UiOiB0cnVlLAogICJ3ZWlnaHQiOiAzCn0KICAgICAgICAgICAgICAgICkuYWRkVG8obWFwXzcxYWFkYTliNjRlOTRmYThhYWNmY2Q3Yzc4MmViNTYxKTsKICAgICAgICAgICAgCiAgICAKICAgICAgICAgICAgdmFyIHBvcHVwX2QwYjIwY2I1M2VkNDQzYzVhYzY5Y2Y3ZmVlNDY5MWQxID0gTC5wb3B1cCh7bWF4V2lkdGg6ICczMDAnfSk7CgogICAgICAgICAgICAKICAgICAgICAgICAgICAgIHZhciBodG1sX2VmNzY2MDI2MzBiOTRhZTc4NTZiZmMxYjY1MzQ2NDU5ID0gJCgnPGRpdiBpZD0iaHRtbF9lZjc2NjAyNjMwYjk0YWU3ODU2YmZjMWI2NTM0NjQ1OSIgc3R5bGU9IndpZHRoOiAxMDAuMCU7IGhlaWdodDogMTAwLjAlOyI+QnJvYWR3YXkgSnVuY3Rpb24gQ2x1c3RlciAzPC9kaXY+JylbMF07CiAgICAgICAgICAgICAgICBwb3B1cF9kMGIyMGNiNTNlZDQ0M2M1YWM2OWNmN2ZlZTQ2OTFkMS5zZXRDb250ZW50KGh0bWxfZWY3NjYwMjYzMGI5NGFlNzg1NmJmYzFiNjUzNDY0NTkpOwogICAgICAgICAgICAKCiAgICAgICAgICAgIGNpcmNsZV9tYXJrZXJfMzBkMjkyNTMyZjMwNDYxMDkyODJlMDlhMDQ4MDcxYmUuYmluZFBvcHVwKHBvcHVwX2QwYjIwY2I1M2VkNDQzYzVhYzY5Y2Y3ZmVlNDY5MWQxKTsKCiAgICAgICAgICAgIAogICAgICAgIAogICAgCiAgICAgICAgICAgIHZhciBjaXJjbGVfbWFya2VyXzNlYjI1OTA5ZTQwNTQyYjlhOGI3MDZmODY3OGUyYjcyID0gTC5jaXJjbGVNYXJrZXIoCiAgICAgICAgICAgICAgICBbNDAuNzAzMTc2MzI4MjI2OTIsLTczLjk4ODc1MjgwNzQ1MDRdLAogICAgICAgICAgICAgICAgewogICJidWJibGluZ01vdXNlRXZlbnRzIjogdHJ1ZSwKICAiY29sb3IiOiAiIzAwYjVlYiIsCiAgImRhc2hBcnJheSI6IG51bGwsCiAgImRhc2hPZmZzZXQiOiBudWxsLAogICJmaWxsIjogdHJ1ZSwKICAiZmlsbENvbG9yIjogIiMwMGI1ZWIiLAogICJmaWxsT3BhY2l0eSI6IDAuNywKICAiZmlsbFJ1bGUiOiAiZXZlbm9kZCIsCiAgImxpbmVDYXAiOiAicm91bmQiLAogICJsaW5lSm9pbiI6ICJyb3VuZCIsCiAgIm9wYWNpdHkiOiAxLjAsCiAgInJhZGl1cyI6IDUsCiAgInN0cm9rZSI6IHRydWUsCiAgIndlaWdodCI6IDMKfQogICAgICAgICAgICAgICAgKS5hZGRUbyhtYXBfNzFhYWRhOWI2NGU5NGZhOGFhY2ZjZDdjNzgyZWI1NjEpOwogICAgICAgICAgICAKICAgIAogICAgICAgICAgICB2YXIgcG9wdXBfNzA0ZDVjMzE0MzVmNDJmNWJhMThlMjVjODI5MjZkZWUgPSBMLnBvcHVwKHttYXhXaWR0aDogJzMwMCd9KTsKCiAgICAgICAgICAgIAogICAgICAgICAgICAgICAgdmFyIGh0bWxfMTRjZDBhN2YwZDg3NGJkNTk1NGM0NTBiNzg2ODk2MGEgPSAkKCc8ZGl2IGlkPSJodG1sXzE0Y2QwYTdmMGQ4NzRiZDU5NTRjNDUwYjc4Njg5NjBhIiBzdHlsZT0id2lkdGg6IDEwMC4wJTsgaGVpZ2h0OiAxMDAuMCU7Ij5EdW1ibyBDbHVzdGVyIDI8L2Rpdj4nKVswXTsKICAgICAgICAgICAgICAgIHBvcHVwXzcwNGQ1YzMxNDM1ZjQyZjViYTE4ZTI1YzgyOTI2ZGVlLnNldENvbnRlbnQoaHRtbF8xNGNkMGE3ZjBkODc0YmQ1OTU0YzQ1MGI3ODY4OTYwYSk7CiAgICAgICAgICAgIAoKICAgICAgICAgICAgY2lyY2xlX21hcmtlcl8zZWIyNTkwOWU0MDU0MmI5YThiNzA2Zjg2NzhlMmI3Mi5iaW5kUG9wdXAocG9wdXBfNzA0ZDVjMzE0MzVmNDJmNWJhMThlMjVjODI5MjZkZWUpOwoKICAgICAgICAgICAgCiAgICAgICAgCiAgICAKICAgICAgICAgICAgdmFyIGNpcmNsZV9tYXJrZXJfZDcxNTVlODIxNjU0NGE2ZTgwZTcxODYyNmI2NzMxNTYgPSBMLmNpcmNsZU1hcmtlcigKICAgICAgICAgICAgICAgIFs0MC42MDE4MDk1NzYzMTQ0NCwtNzQuMTIwNTkzOTk3MTgwMDFdLAogICAgICAgICAgICAgICAgewogICJidWJibGluZ01vdXNlRXZlbnRzIjogdHJ1ZSwKICAiY29sb3IiOiAiIzgwMDBmZiIsCiAgImRhc2hBcnJheSI6IG51bGwsCiAgImRhc2hPZmZzZXQiOiBudWxsLAogICJmaWxsIjogdHJ1ZSwKICAiZmlsbENvbG9yIjogIiM4MDAwZmYiLAogICJmaWxsT3BhY2l0eSI6IDAuNywKICAiZmlsbFJ1bGUiOiAiZXZlbm9kZCIsCiAgImxpbmVDYXAiOiAicm91bmQiLAogICJsaW5lSm9pbiI6ICJyb3VuZCIsCiAgIm9wYWNpdHkiOiAxLjAsCiAgInJhZGl1cyI6IDUsCiAgInN0cm9rZSI6IHRydWUsCiAgIndlaWdodCI6IDMKfQogICAgICAgICAgICAgICAgKS5hZGRUbyhtYXBfNzFhYWRhOWI2NGU5NGZhOGFhY2ZjZDdjNzgyZWI1NjEpOwogICAgICAgICAgICAKICAgIAogICAgICAgICAgICB2YXIgcG9wdXBfODE4NTY5YTViZmIwNGZlN2I0ZDNlZmU2YWE5NjQ1ZGEgPSBMLnBvcHVwKHttYXhXaWR0aDogJzMwMCd9KTsKCiAgICAgICAgICAgIAogICAgICAgICAgICAgICAgdmFyIGh0bWxfOWVlYWQ0ZDU5M2NlNDk5M2I3ZTk1OGMzNDFiMTA2MDAgPSAkKCc8ZGl2IGlkPSJodG1sXzllZWFkNGQ1OTNjZTQ5OTNiN2U5NThjMzQxYjEwNjAwIiBzdHlsZT0id2lkdGg6IDEwMC4wJTsgaGVpZ2h0OiAxMDAuMCU7Ij5NYW5vciBIZWlnaHRzIENsdXN0ZXIgMTwvZGl2PicpWzBdOwogICAgICAgICAgICAgICAgcG9wdXBfODE4NTY5YTViZmIwNGZlN2I0ZDNlZmU2YWE5NjQ1ZGEuc2V0Q29udGVudChodG1sXzllZWFkNGQ1OTNjZTQ5OTNiN2U5NThjMzQxYjEwNjAwKTsKICAgICAgICAgICAgCgogICAgICAgICAgICBjaXJjbGVfbWFya2VyX2Q3MTU1ZTgyMTY1NDRhNmU4MGU3MTg2MjZiNjczMTU2LmJpbmRQb3B1cChwb3B1cF84MTg1NjlhNWJmYjA0ZmU3YjRkM2VmZTZhYTk2NDVkYSk7CgogICAgICAgICAgICAKICAgICAgICAKICAgIAogICAgICAgICAgICB2YXIgY2lyY2xlX21hcmtlcl9mN2QxNDgxYmJmZDI0ZGM5YTYyYzIwZTRhYjg2YTIzZSA9IEwuY2lyY2xlTWFya2VyKAogICAgICAgICAgICAgICAgWzQwLjYwMzcwNjkyNjI3MzcxLC03NC4xMzIwODQ0NzQ4NDI5OF0sCiAgICAgICAgICAgICAgICB7CiAgImJ1YmJsaW5nTW91c2VFdmVudHMiOiB0cnVlLAogICJjb2xvciI6ICIjODAwMGZmIiwKICAiZGFzaEFycmF5IjogbnVsbCwKICAiZGFzaE9mZnNldCI6IG51bGwsCiAgImZpbGwiOiB0cnVlLAogICJmaWxsQ29sb3IiOiAiIzgwMDBmZiIsCiAgImZpbGxPcGFjaXR5IjogMC43LAogICJmaWxsUnVsZSI6ICJldmVub2RkIiwKICAibGluZUNhcCI6ICJyb3VuZCIsCiAgImxpbmVKb2luIjogInJvdW5kIiwKICAib3BhY2l0eSI6IDEuMCwKICAicmFkaXVzIjogNSwKICAic3Ryb2tlIjogdHJ1ZSwKICAid2VpZ2h0IjogMwp9CiAgICAgICAgICAgICAgICApLmFkZFRvKG1hcF83MWFhZGE5YjY0ZTk0ZmE4YWFjZmNkN2M3ODJlYjU2MSk7CiAgICAgICAgICAgIAogICAgCiAgICAgICAgICAgIHZhciBwb3B1cF9lZmJhYjkzNWYyYmU0MGRmYmVjYjkwNzQyM2JhYmI1MyA9IEwucG9wdXAoe21heFdpZHRoOiAnMzAwJ30pOwoKICAgICAgICAgICAgCiAgICAgICAgICAgICAgICB2YXIgaHRtbF84ODJmNzI0YTAxM2M0Yzg0OWEyNmRiNDIyMTJlMjNjNyA9ICQoJzxkaXYgaWQ9Imh0bWxfODgyZjcyNGEwMTNjNGM4NDlhMjZkYjQyMjEyZTIzYzciIHN0eWxlPSJ3aWR0aDogMTAwLjAlOyBoZWlnaHQ6IDEwMC4wJTsiPldpbGxvd2Jyb29rIENsdXN0ZXIgMTwvZGl2PicpWzBdOwogICAgICAgICAgICAgICAgcG9wdXBfZWZiYWI5MzVmMmJlNDBkZmJlY2I5MDc0MjNiYWJiNTMuc2V0Q29udGVudChodG1sXzg4MmY3MjRhMDEzYzRjODQ5YTI2ZGI0MjIxMmUyM2M3KTsKICAgICAgICAgICAgCgogICAgICAgICAgICBjaXJjbGVfbWFya2VyX2Y3ZDE0ODFiYmZkMjRkYzlhNjJjMjBlNGFiODZhMjNlLmJpbmRQb3B1cChwb3B1cF9lZmJhYjkzNWYyYmU0MGRmYmVjYjkwNzQyM2JhYmI1Myk7CgogICAgICAgICAgICAKICAgICAgICAKICAgIAogICAgICAgICAgICB2YXIgY2lyY2xlX21hcmtlcl83MjQ1ODg4Y2ZkODg0NDVkODUxNzM0ZjY2YWI3MWY3ZiA9IEwuY2lyY2xlTWFya2VyKAogICAgICAgICAgICAgICAgWzQwLjU0MTEzOTkyMjA5MTc2NiwtNzQuMjE3NzY2MzYwNjg1NjddLAogICAgICAgICAgICAgICAgewogICJidWJibGluZ01vdXNlRXZlbnRzIjogdHJ1ZSwKICAiY29sb3IiOiAiIzgwMDBmZiIsCiAgImRhc2hBcnJheSI6IG51bGwsCiAgImRhc2hPZmZzZXQiOiBudWxsLAogICJmaWxsIjogdHJ1ZSwKICAiZmlsbENvbG9yIjogIiM4MDAwZmYiLAogICJmaWxsT3BhY2l0eSI6IDAuNywKICAiZmlsbFJ1bGUiOiAiZXZlbm9kZCIsCiAgImxpbmVDYXAiOiAicm91bmQiLAogICJsaW5lSm9pbiI6ICJyb3VuZCIsCiAgIm9wYWNpdHkiOiAxLjAsCiAgInJhZGl1cyI6IDUsCiAgInN0cm9rZSI6IHRydWUsCiAgIndlaWdodCI6IDMKfQogICAgICAgICAgICAgICAgKS5hZGRUbyhtYXBfNzFhYWRhOWI2NGU5NGZhOGFhY2ZjZDdjNzgyZWI1NjEpOwogICAgICAgICAgICAKICAgIAogICAgICAgICAgICB2YXIgcG9wdXBfNjk4ZGQ4NDhlOGZkNGZiOGEzNjBlMzY0OWJmZTc0MzggPSBMLnBvcHVwKHttYXhXaWR0aDogJzMwMCd9KTsKCiAgICAgICAgICAgIAogICAgICAgICAgICAgICAgdmFyIGh0bWxfY2E5MWNmZmIxZjdhNDI4ZWJhM2I1OGQyZjhiODZhM2IgPSAkKCc8ZGl2IGlkPSJodG1sX2NhOTFjZmZiMWY3YTQyOGViYTNiNThkMmY4Yjg2YTNiIiBzdHlsZT0id2lkdGg6IDEwMC4wJTsgaGVpZ2h0OiAxMDAuMCU7Ij5TYW5keSBHcm91bmQgQ2x1c3RlciAxPC9kaXY+JylbMF07CiAgICAgICAgICAgICAgICBwb3B1cF82OThkZDg0OGU4ZmQ0ZmI4YTM2MGUzNjQ5YmZlNzQzOC5zZXRDb250ZW50KGh0bWxfY2E5MWNmZmIxZjdhNDI4ZWJhM2I1OGQyZjhiODZhM2IpOwogICAgICAgICAgICAKCiAgICAgICAgICAgIGNpcmNsZV9tYXJrZXJfNzI0NTg4OGNmZDg4NDQ1ZDg1MTczNGY2NmFiNzFmN2YuYmluZFBvcHVwKHBvcHVwXzY5OGRkODQ4ZThmZDRmYjhhMzYwZTM2NDliZmU3NDM4KTsKCiAgICAgICAgICAgIAogICAgICAgIAogICAgCiAgICAgICAgICAgIHZhciBjaXJjbGVfbWFya2VyX2ZlMGZiZDIxMDJlNzQ1MTViN2I5ZjJiYzllN2I0NWJmID0gTC5jaXJjbGVNYXJrZXIoCiAgICAgICAgICAgICAgICBbNDAuNTc5MTE4NzQyOTYxMjE0LC03NC4xMjcyNzI0MDYwNDk0Nl0sCiAgICAgICAgICAgICAgICB7CiAgImJ1YmJsaW5nTW91c2VFdmVudHMiOiB0cnVlLAogICJjb2xvciI6ICIjODAwMGZmIiwKICAiZGFzaEFycmF5IjogbnVsbCwKICAiZGFzaE9mZnNldCI6IG51bGwsCiAgImZpbGwiOiB0cnVlLAogICJmaWxsQ29sb3IiOiAiIzgwMDBmZiIsCiAgImZpbGxPcGFjaXR5IjogMC43LAogICJmaWxsUnVsZSI6ICJldmVub2RkIiwKICAibGluZUNhcCI6ICJyb3VuZCIsCiAgImxpbmVKb2luIjogInJvdW5kIiwKICAib3BhY2l0eSI6IDEuMCwKICAicmFkaXVzIjogNSwKICAic3Ryb2tlIjogdHJ1ZSwKICAid2VpZ2h0IjogMwp9CiAgICAgICAgICAgICAgICApLmFkZFRvKG1hcF83MWFhZGE5YjY0ZTk0ZmE4YWFjZmNkN2M3ODJlYjU2MSk7CiAgICAgICAgICAgIAogICAgCiAgICAgICAgICAgIHZhciBwb3B1cF8wMTQ0ZDQ3OGNhMjg0NjExOGFlYThlMGY1ZjIwMjI1OCA9IEwucG9wdXAoe21heFdpZHRoOiAnMzAwJ30pOwoKICAgICAgICAgICAgCiAgICAgICAgICAgICAgICB2YXIgaHRtbF80NDI1YmI0ZjcxMWI0YjU5YjNkYzU4ODljN2Q1MGIzOSA9ICQoJzxkaXYgaWQ9Imh0bWxfNDQyNWJiNGY3MTFiNGI1OWIzZGM1ODg5YzdkNTBiMzkiIHN0eWxlPSJ3aWR0aDogMTAwLjAlOyBoZWlnaHQ6IDEwMC4wJTsiPkVnYmVydHZpbGxlIENsdXN0ZXIgMTwvZGl2PicpWzBdOwogICAgICAgICAgICAgICAgcG9wdXBfMDE0NGQ0NzhjYTI4NDYxMThhZWE4ZTBmNWYyMDIyNTguc2V0Q29udGVudChodG1sXzQ0MjViYjRmNzExYjRiNTliM2RjNTg4OWM3ZDUwYjM5KTsKICAgICAgICAgICAgCgogICAgICAgICAgICBjaXJjbGVfbWFya2VyX2ZlMGZiZDIxMDJlNzQ1MTViN2I5ZjJiYzllN2I0NWJmLmJpbmRQb3B1cChwb3B1cF8wMTQ0ZDQ3OGNhMjg0NjExOGFlYThlMGY1ZjIwMjI1OCk7CgogICAgICAgICAgICAKICAgICAgICAKICAgIAogICAgICAgICAgICB2YXIgY2lyY2xlX21hcmtlcl9lNzlkNWEyZmYwMzY0MTFlYmM1NjhiMzk3NGUzZjJiMiA9IEwuY2lyY2xlTWFya2VyKAogICAgICAgICAgICAgICAgWzQwLjU2NzM3NTg4OTU3MDMyLC03My44OTIxMzc2MDIzMjgyMl0sCiAgICAgICAgICAgICAgICB7CiAgImJ1YmJsaW5nTW91c2VFdmVudHMiOiB0cnVlLAogICJjb2xvciI6ICIjODBmZmI0IiwKICAiZGFzaEFycmF5IjogbnVsbCwKICAiZGFzaE9mZnNldCI6IG51bGwsCiAgImZpbGwiOiB0cnVlLAogICJmaWxsQ29sb3IiOiAiIzgwZmZiNCIsCiAgImZpbGxPcGFjaXR5IjogMC43LAogICJmaWxsUnVsZSI6ICJldmVub2RkIiwKICAibGluZUNhcCI6ICJyb3VuZCIsCiAgImxpbmVKb2luIjogInJvdW5kIiwKICAib3BhY2l0eSI6IDEuMCwKICAicmFkaXVzIjogNSwKICAic3Ryb2tlIjogdHJ1ZSwKICAid2VpZ2h0IjogMwp9CiAgICAgICAgICAgICAgICApLmFkZFRvKG1hcF83MWFhZGE5YjY0ZTk0ZmE4YWFjZmNkN2M3ODJlYjU2MSk7CiAgICAgICAgICAgIAogICAgCiAgICAgICAgICAgIHZhciBwb3B1cF85YjJkMzdiNmEzOWE0ZTBmOTEyZjgzMjE2MzFhNzMwMyA9IEwucG9wdXAoe21heFdpZHRoOiAnMzAwJ30pOwoKICAgICAgICAgICAgCiAgICAgICAgICAgICAgICB2YXIgaHRtbF9mMDBiMzE2YWUwMWI0OTdmYWRkMzZmMGYwMzgxZmRjOCA9ICQoJzxkaXYgaWQ9Imh0bWxfZjAwYjMxNmFlMDFiNDk3ZmFkZDM2ZjBmMDM4MWZkYzgiIHN0eWxlPSJ3aWR0aDogMTAwLjAlOyBoZWlnaHQ6IDEwMC4wJTsiPlJveGJ1cnkgQ2x1c3RlciAzPC9kaXY+JylbMF07CiAgICAgICAgICAgICAgICBwb3B1cF85YjJkMzdiNmEzOWE0ZTBmOTEyZjgzMjE2MzFhNzMwMy5zZXRDb250ZW50KGh0bWxfZjAwYjMxNmFlMDFiNDk3ZmFkZDM2ZjBmMDM4MWZkYzgpOwogICAgICAgICAgICAKCiAgICAgICAgICAgIGNpcmNsZV9tYXJrZXJfZTc5ZDVhMmZmMDM2NDExZWJjNTY4YjM5NzRlM2YyYjIuYmluZFBvcHVwKHBvcHVwXzliMmQzN2I2YTM5YTRlMGY5MTJmODMyMTYzMWE3MzAzKTsKCiAgICAgICAgICAgIAogICAgICAgIAogICAgCiAgICAgICAgICAgIHZhciBjaXJjbGVfbWFya2VyXzMyZGE4ZjJjNDFiODQ3NTJhZTU5MGRhN2VmOWQ3OWFmID0gTC5jaXJjbGVNYXJrZXIoCiAgICAgICAgICAgICAgICBbNDAuNTk4NTI1MDk1MTM3MjU1LC03My45NTkxODQ1OTQyODcwMl0sCiAgICAgICAgICAgICAgICB7CiAgImJ1YmJsaW5nTW91c2VFdmVudHMiOiB0cnVlLAogICJjb2xvciI6ICIjODBmZmI0IiwKICAiZGFzaEFycmF5IjogbnVsbCwKICAiZGFzaE9mZnNldCI6IG51bGwsCiAgImZpbGwiOiB0cnVlLAogICJmaWxsQ29sb3IiOiAiIzgwZmZiNCIsCiAgImZpbGxPcGFjaXR5IjogMC43LAogICJmaWxsUnVsZSI6ICJldmVub2RkIiwKICAibGluZUNhcCI6ICJyb3VuZCIsCiAgImxpbmVKb2luIjogInJvdW5kIiwKICAib3BhY2l0eSI6IDEuMCwKICAicmFkaXVzIjogNSwKICAic3Ryb2tlIjogdHJ1ZSwKICAid2VpZ2h0IjogMwp9CiAgICAgICAgICAgICAgICApLmFkZFRvKG1hcF83MWFhZGE5YjY0ZTk0ZmE4YWFjZmNkN2M3ODJlYjU2MSk7CiAgICAgICAgICAgIAogICAgCiAgICAgICAgICAgIHZhciBwb3B1cF9lODBkMTFlYzYyMTM0ZDJkOGRkODliMTc4YWExODRmYSA9IEwucG9wdXAoe21heFdpZHRoOiAnMzAwJ30pOwoKICAgICAgICAgICAgCiAgICAgICAgICAgICAgICB2YXIgaHRtbF8zNmI4ZmNhMWI0ZDM0OWVkYjUzMDgxNWU4YjE0ZmU1MyA9ICQoJzxkaXYgaWQ9Imh0bWxfMzZiOGZjYTFiNGQzNDllZGI1MzA4MTVlOGIxNGZlNTMiIHN0eWxlPSJ3aWR0aDogMTAwLjAlOyBoZWlnaHQ6IDEwMC4wJTsiPkhvbWVjcmVzdCBDbHVzdGVyIDM8L2Rpdj4nKVswXTsKICAgICAgICAgICAgICAgIHBvcHVwX2U4MGQxMWVjNjIxMzRkMmQ4ZGQ4OWIxNzhhYTE4NGZhLnNldENvbnRlbnQoaHRtbF8zNmI4ZmNhMWI0ZDM0OWVkYjUzMDgxNWU4YjE0ZmU1Myk7CiAgICAgICAgICAgIAoKICAgICAgICAgICAgY2lyY2xlX21hcmtlcl8zMmRhOGYyYzQxYjg0NzUyYWU1OTBkYTdlZjlkNzlhZi5iaW5kUG9wdXAocG9wdXBfZTgwZDExZWM2MjEzNGQyZDhkZDg5YjE3OGFhMTg0ZmEpOwoKICAgICAgICAgICAgCiAgICAgICAgCiAgICAKICAgICAgICAgICAgdmFyIGNpcmNsZV9tYXJrZXJfNWM0MDNlNTU3ZmY3NDNiMDgyZjAwNWY0MGIyZDkyNzMgPSBMLmNpcmNsZU1hcmtlcigKICAgICAgICAgICAgICAgIFs0MC43MTY0MTQ1MTExNTgxODUsLTczLjg4MTE0MzE5MjAwNjA0XSwKICAgICAgICAgICAgICAgIHsKICAiYnViYmxpbmdNb3VzZUV2ZW50cyI6IHRydWUsCiAgImNvbG9yIjogIiNmZjAwMDAiLAogICJkYXNoQXJyYXkiOiBudWxsLAogICJkYXNoT2Zmc2V0IjogbnVsbCwKICAiZmlsbCI6IHRydWUsCiAgImZpbGxDb2xvciI6ICIjZmYwMDAwIiwKICAiZmlsbE9wYWNpdHkiOiAwLjcsCiAgImZpbGxSdWxlIjogImV2ZW5vZGQiLAogICJsaW5lQ2FwIjogInJvdW5kIiwKICAibGluZUpvaW4iOiAicm91bmQiLAogICJvcGFjaXR5IjogMS4wLAogICJyYWRpdXMiOiA1LAogICJzdHJva2UiOiB0cnVlLAogICJ3ZWlnaHQiOiAzCn0KICAgICAgICAgICAgICAgICkuYWRkVG8obWFwXzcxYWFkYTliNjRlOTRmYThhYWNmY2Q3Yzc4MmViNTYxKTsKICAgICAgICAgICAgCiAgICAKICAgICAgICAgICAgdmFyIHBvcHVwX2M4YjhmNGUxNDA2NjQ4YjBiZTczZDQyMDJkODhlYWQ5ID0gTC5wb3B1cCh7bWF4V2lkdGg6ICczMDAnfSk7CgogICAgICAgICAgICAKICAgICAgICAgICAgICAgIHZhciBodG1sX2Y1Y2U1OWEyZDBiMDQxYWNhZmZhNzQzODNkODQyMmZkID0gJCgnPGRpdiBpZD0iaHRtbF9mNWNlNTlhMmQwYjA0MWFjYWZmYTc0MzgzZDg0MjJmZCIgc3R5bGU9IndpZHRoOiAxMDAuMCU7IGhlaWdodDogMTAwLjAlOyI+TWlkZGxlIFZpbGxhZ2UgQ2x1c3RlciAwPC9kaXY+JylbMF07CiAgICAgICAgICAgICAgICBwb3B1cF9jOGI4ZjRlMTQwNjY0OGIwYmU3M2Q0MjAyZDg4ZWFkOS5zZXRDb250ZW50KGh0bWxfZjVjZTU5YTJkMGIwNDFhY2FmZmE3NDM4M2Q4NDIyZmQpOwogICAgICAgICAgICAKCiAgICAgICAgICAgIGNpcmNsZV9tYXJrZXJfNWM0MDNlNTU3ZmY3NDNiMDgyZjAwNWY0MGIyZDkyNzMuYmluZFBvcHVwKHBvcHVwX2M4YjhmNGUxNDA2NjQ4YjBiZTczZDQyMDJkODhlYWQ5KTsKCiAgICAgICAgICAgIAogICAgICAgIAogICAgCiAgICAgICAgICAgIHZhciBjaXJjbGVfbWFya2VyX2IwZDBjOTg3ODljMDQxNDhiMDFlNmI4NDAxOTA3YTU1ID0gTC5jaXJjbGVNYXJrZXIoCiAgICAgICAgICAgICAgICBbNDAuNTI2MjY0MDY3MzQ4MTIsLTc0LjIwMTUyNTU2NDU3NjU4XSwKICAgICAgICAgICAgICAgIHsKICAiYnViYmxpbmdNb3VzZUV2ZW50cyI6IHRydWUsCiAgImNvbG9yIjogIiM4MDAwZmYiLAogICJkYXNoQXJyYXkiOiBudWxsLAogICJkYXNoT2Zmc2V0IjogbnVsbCwKICAiZmlsbCI6IHRydWUsCiAgImZpbGxDb2xvciI6ICIjODAwMGZmIiwKICAiZmlsbE9wYWNpdHkiOiAwLjcsCiAgImZpbGxSdWxlIjogImV2ZW5vZGQiLAogICJsaW5lQ2FwIjogInJvdW5kIiwKICAibGluZUpvaW4iOiAicm91bmQiLAogICJvcGFjaXR5IjogMS4wLAogICJyYWRpdXMiOiA1LAogICJzdHJva2UiOiB0cnVlLAogICJ3ZWlnaHQiOiAzCn0KICAgICAgICAgICAgICAgICkuYWRkVG8obWFwXzcxYWFkYTliNjRlOTRmYThhYWNmY2Q3Yzc4MmViNTYxKTsKICAgICAgICAgICAgCiAgICAKICAgICAgICAgICAgdmFyIHBvcHVwX2ZjZjI2NGY2MGU5MzRhZWM4MzQzYWJjNDNmMmM5ODViID0gTC5wb3B1cCh7bWF4V2lkdGg6ICczMDAnfSk7CgogICAgICAgICAgICAKICAgICAgICAgICAgICAgIHZhciBodG1sX2EyMTg3YWMwYTZjZDQ3YTRiOWM2NzY2MDI2YjU0M2IzID0gJCgnPGRpdiBpZD0iaHRtbF9hMjE4N2FjMGE2Y2Q0N2E0YjljNjc2NjAyNmI1NDNiMyIgc3R5bGU9IndpZHRoOiAxMDAuMCU7IGhlaWdodDogMTAwLjAlOyI+UHJpbmNlJiMzOTtzIEJheSBDbHVzdGVyIDE8L2Rpdj4nKVswXTsKICAgICAgICAgICAgICAgIHBvcHVwX2ZjZjI2NGY2MGU5MzRhZWM4MzQzYWJjNDNmMmM5ODViLnNldENvbnRlbnQoaHRtbF9hMjE4N2FjMGE2Y2Q0N2E0YjljNjc2NjAyNmI1NDNiMyk7CiAgICAgICAgICAgIAoKICAgICAgICAgICAgY2lyY2xlX21hcmtlcl9iMGQwYzk4Nzg5YzA0MTQ4YjAxZTZiODQwMTkwN2E1NS5iaW5kUG9wdXAocG9wdXBfZmNmMjY0ZjYwZTkzNGFlYzgzNDNhYmM0M2YyYzk4NWIpOwoKICAgICAgICAgICAgCiAgICAgICAgCiAgICAKICAgICAgICAgICAgdmFyIGNpcmNsZV9tYXJrZXJfZTdjMTA2NDQzNzQ5NDUyZWEwNzk4ODE0ZWFiMDliYjIgPSBMLmNpcmNsZU1hcmtlcigKICAgICAgICAgICAgICAgIFs0MC41NzY1MDYyOTM3OTQ4OSwtNzQuMTM3OTI2NjM3NzE1NjhdLAogICAgICAgICAgICAgICAgewogICJidWJibGluZ01vdXNlRXZlbnRzIjogdHJ1ZSwKICAiY29sb3IiOiAiIzgwMDBmZiIsCiAgImRhc2hBcnJheSI6IG51bGwsCiAgImRhc2hPZmZzZXQiOiBudWxsLAogICJmaWxsIjogdHJ1ZSwKICAiZmlsbENvbG9yIjogIiM4MDAwZmYiLAogICJmaWxsT3BhY2l0eSI6IDAuNywKICAiZmlsbFJ1bGUiOiAiZXZlbm9kZCIsCiAgImxpbmVDYXAiOiAicm91bmQiLAogICJsaW5lSm9pbiI6ICJyb3VuZCIsCiAgIm9wYWNpdHkiOiAxLjAsCiAgInJhZGl1cyI6IDUsCiAgInN0cm9rZSI6IHRydWUsCiAgIndlaWdodCI6IDMKfQogICAgICAgICAgICAgICAgKS5hZGRUbyhtYXBfNzFhYWRhOWI2NGU5NGZhOGFhY2ZjZDdjNzgyZWI1NjEpOwogICAgICAgICAgICAKICAgIAogICAgICAgICAgICB2YXIgcG9wdXBfMGIwMDQ3MmQwMzYyNGNhZTk3Y2Y4NjliNGM4YWMzNzcgPSBMLnBvcHVwKHttYXhXaWR0aDogJzMwMCd9KTsKCiAgICAgICAgICAgIAogICAgICAgICAgICAgICAgdmFyIGh0bWxfOGRmZDI0MjYwOTk5NDIyOWE4MWM3NzM4MzhhYzk2NmYgPSAkKCc8ZGl2IGlkPSJodG1sXzhkZmQyNDI2MDk5OTQyMjlhODFjNzczODM4YWM5NjZmIiBzdHlsZT0id2lkdGg6IDEwMC4wJTsgaGVpZ2h0OiAxMDAuMCU7Ij5MaWdodGhvdXNlIEhpbGwgQ2x1c3RlciAxPC9kaXY+JylbMF07CiAgICAgICAgICAgICAgICBwb3B1cF8wYjAwNDcyZDAzNjI0Y2FlOTdjZjg2OWI0YzhhYzM3Ny5zZXRDb250ZW50KGh0bWxfOGRmZDI0MjYwOTk5NDIyOWE4MWM3NzM4MzhhYzk2NmYpOwogICAgICAgICAgICAKCiAgICAgICAgICAgIGNpcmNsZV9tYXJrZXJfZTdjMTA2NDQzNzQ5NDUyZWEwNzk4ODE0ZWFiMDliYjIuYmluZFBvcHVwKHBvcHVwXzBiMDA0NzJkMDM2MjRjYWU5N2NmODY5YjRjOGFjMzc3KTsKCiAgICAgICAgICAgIAogICAgICAgIAogICAgCiAgICAgICAgICAgIHZhciBjaXJjbGVfbWFya2VyX2Y5NzNjMzBhMWE5ODQwOGI4ODE4MGY1ZjBmYjFjOWY5ID0gTC5jaXJjbGVNYXJrZXIoCiAgICAgICAgICAgICAgICBbNDAuNTE5NTQxNDU3NDg5MDksLTc0LjIyOTU3MDgwNjI2OTQxXSwKICAgICAgICAgICAgICAgIHsKICAiYnViYmxpbmdNb3VzZUV2ZW50cyI6IHRydWUsCiAgImNvbG9yIjogIiM4MDAwZmYiLAogICJkYXNoQXJyYXkiOiBudWxsLAogICJkYXNoT2Zmc2V0IjogbnVsbCwKICAiZmlsbCI6IHRydWUsCiAgImZpbGxDb2xvciI6ICIjODAwMGZmIiwKICAiZmlsbE9wYWNpdHkiOiAwLjcsCiAgImZpbGxSdWxlIjogImV2ZW5vZGQiLAogICJsaW5lQ2FwIjogInJvdW5kIiwKICAibGluZUpvaW4iOiAicm91bmQiLAogICJvcGFjaXR5IjogMS4wLAogICJyYWRpdXMiOiA1LAogICJzdHJva2UiOiB0cnVlLAogICJ3ZWlnaHQiOiAzCn0KICAgICAgICAgICAgICAgICkuYWRkVG8obWFwXzcxYWFkYTliNjRlOTRmYThhYWNmY2Q3Yzc4MmViNTYxKTsKICAgICAgICAgICAgCiAgICAKICAgICAgICAgICAgdmFyIHBvcHVwX2I2NWZjN2I4N2E0ODRkNjY5NTUzNGExOTBiNTM3MTdjID0gTC5wb3B1cCh7bWF4V2lkdGg6ICczMDAnfSk7CgogICAgICAgICAgICAKICAgICAgICAgICAgICAgIHZhciBodG1sXzkwMjAyZjRjODhiYzQyM2FiYzNlM2JiYjJiOWVmMDgyID0gJCgnPGRpdiBpZD0iaHRtbF85MDIwMmY0Yzg4YmM0MjNhYmMzZTNiYmIyYjllZjA4MiIgc3R5bGU9IndpZHRoOiAxMDAuMCU7IGhlaWdodDogMTAwLjAlOyI+UmljaG1vbmQgVmFsbGV5IENsdXN0ZXIgMTwvZGl2PicpWzBdOwogICAgICAgICAgICAgICAgcG9wdXBfYjY1ZmM3Yjg3YTQ4NGQ2Njk1NTM0YTE5MGI1MzcxN2Muc2V0Q29udGVudChodG1sXzkwMjAyZjRjODhiYzQyM2FiYzNlM2JiYjJiOWVmMDgyKTsKICAgICAgICAgICAgCgogICAgICAgICAgICBjaXJjbGVfbWFya2VyX2Y5NzNjMzBhMWE5ODQwOGI4ODE4MGY1ZjBmYjFjOWY5LmJpbmRQb3B1cChwb3B1cF9iNjVmYzdiODdhNDg0ZDY2OTU1MzRhMTkwYjUzNzE3Yyk7CgogICAgICAgICAgICAKICAgICAgICAKICAgIAogICAgICAgICAgICB2YXIgY2lyY2xlX21hcmtlcl8yY2EwNmQzYWU2MjA0ZTdjYjRlNzFkNGIwZTdjZTAyYSA9IEwuY2lyY2xlTWFya2VyKAogICAgICAgICAgICAgICAgWzQwLjc5MDYwMTU1NjcwMTQ4LC03My44MjY2Nzc1NzEzODY0MV0sCiAgICAgICAgICAgICAgICB7CiAgImJ1YmJsaW5nTW91c2VFdmVudHMiOiB0cnVlLAogICJjb2xvciI6ICIjZmZiMzYwIiwKICAiZGFzaEFycmF5IjogbnVsbCwKICAiZGFzaE9mZnNldCI6IG51bGwsCiAgImZpbGwiOiB0cnVlLAogICJmaWxsQ29sb3IiOiAiI2ZmYjM2MCIsCiAgImZpbGxPcGFjaXR5IjogMC43LAogICJmaWxsUnVsZSI6ICJldmVub2RkIiwKICAibGluZUNhcCI6ICJyb3VuZCIsCiAgImxpbmVKb2luIjogInJvdW5kIiwKICAib3BhY2l0eSI6IDEuMCwKICAicmFkaXVzIjogNSwKICAic3Ryb2tlIjogdHJ1ZSwKICAid2VpZ2h0IjogMwp9CiAgICAgICAgICAgICAgICApLmFkZFRvKG1hcF83MWFhZGE5YjY0ZTk0ZmE4YWFjZmNkN2M3ODJlYjU2MSk7CiAgICAgICAgICAgIAogICAgCiAgICAgICAgICAgIHZhciBwb3B1cF85YWJkM2YxODFjMWI0YmZiYmVhZWIzZjVkZDNjNTBiNSA9IEwucG9wdXAoe21heFdpZHRoOiAnMzAwJ30pOwoKICAgICAgICAgICAgCiAgICAgICAgICAgICAgICB2YXIgaHRtbF84NjcwY2QzODIyZDg0MDRmOGI3ZGQ1YzVlMmY3MDZmOSA9ICQoJzxkaXYgaWQ9Imh0bWxfODY3MGNkMzgyMmQ4NDA0ZjhiN2RkNWM1ZTJmNzA2ZjkiIHN0eWxlPSJ3aWR0aDogMTAwLjAlOyBoZWlnaHQ6IDEwMC4wJTsiPk1hbGJhIENsdXN0ZXIgNDwvZGl2PicpWzBdOwogICAgICAgICAgICAgICAgcG9wdXBfOWFiZDNmMTgxYzFiNGJmYmJlYWViM2Y1ZGQzYzUwYjUuc2V0Q29udGVudChodG1sXzg2NzBjZDM4MjJkODQwNGY4YjdkZDVjNWUyZjcwNmY5KTsKICAgICAgICAgICAgCgogICAgICAgICAgICBjaXJjbGVfbWFya2VyXzJjYTA2ZDNhZTYyMDRlN2NiNGU3MWQ0YjBlN2NlMDJhLmJpbmRQb3B1cChwb3B1cF85YWJkM2YxODFjMWI0YmZiYmVhZWIzZjVkZDNjNTBiNSk7CgogICAgICAgICAgICAKICAgICAgICAKICAgIAogICAgICAgICAgICB2YXIgY2lyY2xlX21hcmtlcl9kNTQ2YjY1OWY0OWM0ZmE4YTYxZTdkZGQ0ZWRmZmM5NyA9IEwuY2lyY2xlTWFya2VyKAogICAgICAgICAgICAgICAgWzQwLjY4MTk5ODkzNDUxNzMsLTczLjg5MDM0NTcwOTg3Ml0sCiAgICAgICAgICAgICAgICB7CiAgImJ1YmJsaW5nTW91c2VFdmVudHMiOiB0cnVlLAogICJjb2xvciI6ICIjODBmZmI0IiwKICAiZGFzaEFycmF5IjogbnVsbCwKICAiZGFzaE9mZnNldCI6IG51bGwsCiAgImZpbGwiOiB0cnVlLAogICJmaWxsQ29sb3IiOiAiIzgwZmZiNCIsCiAgImZpbGxPcGFjaXR5IjogMC43LAogICJmaWxsUnVsZSI6ICJldmVub2RkIiwKICAibGluZUNhcCI6ICJyb3VuZCIsCiAgImxpbmVKb2luIjogInJvdW5kIiwKICAib3BhY2l0eSI6IDEuMCwKICAicmFkaXVzIjogNSwKICAic3Ryb2tlIjogdHJ1ZSwKICAid2VpZ2h0IjogMwp9CiAgICAgICAgICAgICAgICApLmFkZFRvKG1hcF83MWFhZGE5YjY0ZTk0ZmE4YWFjZmNkN2M3ODJlYjU2MSk7CiAgICAgICAgICAgIAogICAgCiAgICAgICAgICAgIHZhciBwb3B1cF84NmZjYzVmZTk1YTY0NzI2YmQ1NTc3YzNiNTAyODdkNSA9IEwucG9wdXAoe21heFdpZHRoOiAnMzAwJ30pOwoKICAgICAgICAgICAgCiAgICAgICAgICAgICAgICB2YXIgaHRtbF8xZjEwOGUyMmFhYzU0MmNhOTI1NWY2NGRhOWM3NTU1ZCA9ICQoJzxkaXYgaWQ9Imh0bWxfMWYxMDhlMjJhYWM1NDJjYTkyNTVmNjRkYTljNzU1NWQiIHN0eWxlPSJ3aWR0aDogMTAwLjAlOyBoZWlnaHQ6IDEwMC4wJTsiPkhpZ2hsYW5kIFBhcmsgQ2x1c3RlciAzPC9kaXY+JylbMF07CiAgICAgICAgICAgICAgICBwb3B1cF84NmZjYzVmZTk1YTY0NzI2YmQ1NTc3YzNiNTAyODdkNS5zZXRDb250ZW50KGh0bWxfMWYxMDhlMjJhYWM1NDJjYTkyNTVmNjRkYTljNzU1NWQpOwogICAgICAgICAgICAKCiAgICAgICAgICAgIGNpcmNsZV9tYXJrZXJfZDU0NmI2NTlmNDljNGZhOGE2MWU3ZGRkNGVkZmZjOTcuYmluZFBvcHVwKHBvcHVwXzg2ZmNjNWZlOTVhNjQ3MjZiZDU1NzdjM2I1MDI4N2Q1KTsKCiAgICAgICAgICAgIAogICAgICAgIAogICAgCiAgICAgICAgICAgIHZhciBjaXJjbGVfbWFya2VyXzhjNmM3ZDJkYWEyZjQ2MzY5MTUyZmIyZDRhNDY1MDQ2ID0gTC5jaXJjbGVNYXJrZXIoCiAgICAgICAgICAgICAgICBbNDAuNjA5Mzc3NzAxMTM3NjYsLTczLjk0ODQxNTE1MzI4ODkzXSwKICAgICAgICAgICAgICAgIHsKICAiYnViYmxpbmdNb3VzZUV2ZW50cyI6IHRydWUsCiAgImNvbG9yIjogIiM4MGZmYjQiLAogICJkYXNoQXJyYXkiOiBudWxsLAogICJkYXNoT2Zmc2V0IjogbnVsbCwKICAiZmlsbCI6IHRydWUsCiAgImZpbGxDb2xvciI6ICIjODBmZmI0IiwKICAiZmlsbE9wYWNpdHkiOiAwLjcsCiAgImZpbGxSdWxlIjogImV2ZW5vZGQiLAogICJsaW5lQ2FwIjogInJvdW5kIiwKICAibGluZUpvaW4iOiAicm91bmQiLAogICJvcGFjaXR5IjogMS4wLAogICJyYWRpdXMiOiA1LAogICJzdHJva2UiOiB0cnVlLAogICJ3ZWlnaHQiOiAzCn0KICAgICAgICAgICAgICAgICkuYWRkVG8obWFwXzcxYWFkYTliNjRlOTRmYThhYWNmY2Q3Yzc4MmViNTYxKTsKICAgICAgICAgICAgCiAgICAKICAgICAgICAgICAgdmFyIHBvcHVwXzk2ZDBmNzc2N2IzZjQ1ZDBhNjExYjgzOTlmN2RkNzJiID0gTC5wb3B1cCh7bWF4V2lkdGg6ICczMDAnfSk7CgogICAgICAgICAgICAKICAgICAgICAgICAgICAgIHZhciBodG1sXzdjNGFmNTkzMDNhZTRhZjliMzZjNzVkNGJkMjViYjcwID0gJCgnPGRpdiBpZD0iaHRtbF83YzRhZjU5MzAzYWU0YWY5YjM2Yzc1ZDRiZDI1YmI3MCIgc3R5bGU9IndpZHRoOiAxMDAuMCU7IGhlaWdodDogMTAwLjAlOyI+TWFkaXNvbiBDbHVzdGVyIDM8L2Rpdj4nKVswXTsKICAgICAgICAgICAgICAgIHBvcHVwXzk2ZDBmNzc2N2IzZjQ1ZDBhNjExYjgzOTlmN2RkNzJiLnNldENvbnRlbnQoaHRtbF83YzRhZjU5MzAzYWU0YWY5YjM2Yzc1ZDRiZDI1YmI3MCk7CiAgICAgICAgICAgIAoKICAgICAgICAgICAgY2lyY2xlX21hcmtlcl84YzZjN2QyZGFhMmY0NjM2OTE1MmZiMmQ0YTQ2NTA0Ni5iaW5kUG9wdXAocG9wdXBfOTZkMGY3NzY3YjNmNDVkMGE2MTFiODM5OWY3ZGQ3MmIpOwoKICAgICAgICAgICAgCiAgICAgICAgCiAgICAKICAgICAgICAgICAgdmFyIGNpcmNsZV9tYXJrZXJfMjdiODk2YjQzODRmNDFhZWEyZjkwOGMyZWYzYmQ3MzMgPSBMLmNpcmNsZU1hcmtlcigKICAgICAgICAgICAgICAgIFs0MC44NTI3MjI5NzYzMzAxNywtNzMuODYxNzI1Nzc1NTUxMTVdLAogICAgICAgICAgICAgICAgewogICJidWJibGluZ01vdXNlRXZlbnRzIjogdHJ1ZSwKICAiY29sb3IiOiAiI2ZmYjM2MCIsCiAgImRhc2hBcnJheSI6IG51bGwsCiAgImRhc2hPZmZzZXQiOiBudWxsLAogICJmaWxsIjogdHJ1ZSwKICAiZmlsbENvbG9yIjogIiNmZmIzNjAiLAogICJmaWxsT3BhY2l0eSI6IDAuNywKICAiZmlsbFJ1bGUiOiAiZXZlbm9kZCIsCiAgImxpbmVDYXAiOiAicm91bmQiLAogICJsaW5lSm9pbiI6ICJyb3VuZCIsCiAgIm9wYWNpdHkiOiAxLjAsCiAgInJhZGl1cyI6IDUsCiAgInN0cm9rZSI6IHRydWUsCiAgIndlaWdodCI6IDMKfQogICAgICAgICAgICAgICAgKS5hZGRUbyhtYXBfNzFhYWRhOWI2NGU5NGZhOGFhY2ZjZDdjNzgyZWI1NjEpOwogICAgICAgICAgICAKICAgIAogICAgICAgICAgICB2YXIgcG9wdXBfZjhhYWU0ZTg5YWI5NDRlZWJjYmNjYTYwNzZkYzYyNmIgPSBMLnBvcHVwKHttYXhXaWR0aDogJzMwMCd9KTsKCiAgICAgICAgICAgIAogICAgICAgICAgICAgICAgdmFyIGh0bWxfNTc5NDI0MTM5NGIwNDcyYTllNjFjMWNkNmEzY2E4NzkgPSAkKCc8ZGl2IGlkPSJodG1sXzU3OTQyNDEzOTRiMDQ3MmE5ZTYxYzFjZDZhM2NhODc5IiBzdHlsZT0id2lkdGg6IDEwMC4wJTsgaGVpZ2h0OiAxMDAuMCU7Ij5Ccm9ueGRhbGUgQ2x1c3RlciA0PC9kaXY+JylbMF07CiAgICAgICAgICAgICAgICBwb3B1cF9mOGFhZTRlODlhYjk0NGVlYmNiY2NhNjA3NmRjNjI2Yi5zZXRDb250ZW50KGh0bWxfNTc5NDI0MTM5NGIwNDcyYTllNjFjMWNkNmEzY2E4NzkpOwogICAgICAgICAgICAKCiAgICAgICAgICAgIGNpcmNsZV9tYXJrZXJfMjdiODk2YjQzODRmNDFhZWEyZjkwOGMyZWYzYmQ3MzMuYmluZFBvcHVwKHBvcHVwX2Y4YWFlNGU4OWFiOTQ0ZWViY2JjY2E2MDc2ZGM2MjZiKTsKCiAgICAgICAgICAgIAogICAgICAgIAogICAgCiAgICAgICAgICAgIHZhciBjaXJjbGVfbWFya2VyXzZmMTFiMTEwZmE5OTQ1Y2JhNWQ4MTU2MjhiMzdkZDg2ID0gTC5jaXJjbGVNYXJrZXIoCiAgICAgICAgICAgICAgICBbNDAuODY1Nzg3ODc4MDI5ODIsLTczLjg1OTMxODYzMjIxNjQ3XSwKICAgICAgICAgICAgICAgIHsKICAiYnViYmxpbmdNb3VzZUV2ZW50cyI6IHRydWUsCiAgImNvbG9yIjogIiNmZmIzNjAiLAogICJkYXNoQXJyYXkiOiBudWxsLAogICJkYXNoT2Zmc2V0IjogbnVsbCwKICAiZmlsbCI6IHRydWUsCiAgImZpbGxDb2xvciI6ICIjZmZiMzYwIiwKICAiZmlsbE9wYWNpdHkiOiAwLjcsCiAgImZpbGxSdWxlIjogImV2ZW5vZGQiLAogICJsaW5lQ2FwIjogInJvdW5kIiwKICAibGluZUpvaW4iOiAicm91bmQiLAogICJvcGFjaXR5IjogMS4wLAogICJyYWRpdXMiOiA1LAogICJzdHJva2UiOiB0cnVlLAogICJ3ZWlnaHQiOiAzCn0KICAgICAgICAgICAgICAgICkuYWRkVG8obWFwXzcxYWFkYTliNjRlOTRmYThhYWNmY2Q3Yzc4MmViNTYxKTsKICAgICAgICAgICAgCiAgICAKICAgICAgICAgICAgdmFyIHBvcHVwXzc0ODIyNzMzOWI4ODQwNTE5NTc1YTczYjJmNjVhNmM2ID0gTC5wb3B1cCh7bWF4V2lkdGg6ICczMDAnfSk7CgogICAgICAgICAgICAKICAgICAgICAgICAgICAgIHZhciBodG1sX2Y1NjBkZDMzYjM2MTRhZDdiNjE0ZTFiYTc3YzU5OGVjID0gJCgnPGRpdiBpZD0iaHRtbF9mNTYwZGQzM2IzNjE0YWQ3YjYxNGUxYmE3N2M1OThlYyIgc3R5bGU9IndpZHRoOiAxMDAuMCU7IGhlaWdodDogMTAwLjAlOyI+QWxsZXJ0b24gQ2x1c3RlciA0PC9kaXY+JylbMF07CiAgICAgICAgICAgICAgICBwb3B1cF83NDgyMjczMzliODg0MDUxOTU3NWE3M2IyZjY1YTZjNi5zZXRDb250ZW50KGh0bWxfZjU2MGRkMzNiMzYxNGFkN2I2MTRlMWJhNzdjNTk4ZWMpOwogICAgICAgICAgICAKCiAgICAgICAgICAgIGNpcmNsZV9tYXJrZXJfNmYxMWIxMTBmYTk5NDVjYmE1ZDgxNTYyOGIzN2RkODYuYmluZFBvcHVwKHBvcHVwXzc0ODIyNzMzOWI4ODQwNTE5NTc1YTczYjJmNjVhNmM2KTsKCiAgICAgICAgICAgIAogICAgICAgIAogICAgCiAgICAgICAgICAgIHZhciBjaXJjbGVfbWFya2VyXzUzNTY4NmI0MjllNzQ3MWU5MDE1OThjZmRiOTMzMGEwID0gTC5jaXJjbGVNYXJrZXIoCiAgICAgICAgICAgICAgICBbNDAuODcwMzkyMzkxNDE0NywtNzMuOTAxNTIyNjQ1MTMxNDRdLAogICAgICAgICAgICAgICAgewogICJidWJibGluZ01vdXNlRXZlbnRzIjogdHJ1ZSwKICAiY29sb3IiOiAiI2ZmYjM2MCIsCiAgImRhc2hBcnJheSI6IG51bGwsCiAgImRhc2hPZmZzZXQiOiBudWxsLAogICJmaWxsIjogdHJ1ZSwKICAiZmlsbENvbG9yIjogIiNmZmIzNjAiLAogICJmaWxsT3BhY2l0eSI6IDAuNywKICAiZmlsbFJ1bGUiOiAiZXZlbm9kZCIsCiAgImxpbmVDYXAiOiAicm91bmQiLAogICJsaW5lSm9pbiI6ICJyb3VuZCIsCiAgIm9wYWNpdHkiOiAxLjAsCiAgInJhZGl1cyI6IDUsCiAgInN0cm9rZSI6IHRydWUsCiAgIndlaWdodCI6IDMKfQogICAgICAgICAgICAgICAgKS5hZGRUbyhtYXBfNzFhYWRhOWI2NGU5NGZhOGFhY2ZjZDdjNzgyZWI1NjEpOwogICAgICAgICAgICAKICAgIAogICAgICAgICAgICB2YXIgcG9wdXBfNzI1NDI2ODkzYzVkNDU4M2E4MmJlZWRhZjhkYWY1OTcgPSBMLnBvcHVwKHttYXhXaWR0aDogJzMwMCd9KTsKCiAgICAgICAgICAgIAogICAgICAgICAgICAgICAgdmFyIGh0bWxfNDY0MTViZmExMGJjNDkzYjk0YzA1MTgxYTkyZGM0NGQgPSAkKCc8ZGl2IGlkPSJodG1sXzQ2NDE1YmZhMTBiYzQ5M2I5NGMwNTE4MWE5MmRjNDRkIiBzdHlsZT0id2lkdGg6IDEwMC4wJTsgaGVpZ2h0OiAxMDAuMCU7Ij5LaW5nc2JyaWRnZSBIZWlnaHRzIENsdXN0ZXIgNDwvZGl2PicpWzBdOwogICAgICAgICAgICAgICAgcG9wdXBfNzI1NDI2ODkzYzVkNDU4M2E4MmJlZWRhZjhkYWY1OTcuc2V0Q29udGVudChodG1sXzQ2NDE1YmZhMTBiYzQ5M2I5NGMwNTE4MWE5MmRjNDRkKTsKICAgICAgICAgICAgCgogICAgICAgICAgICBjaXJjbGVfbWFya2VyXzUzNTY4NmI0MjllNzQ3MWU5MDE1OThjZmRiOTMzMGEwLmJpbmRQb3B1cChwb3B1cF83MjU0MjY4OTNjNWQ0NTgzYTgyYmVlZGFmOGRhZjU5Nyk7CgogICAgICAgICAgICAKICAgICAgICAKICAgIAogICAgICAgICAgICB2YXIgY2lyY2xlX21hcmtlcl8xMmIyODBjMGQ5ZGI0ZmMwOTE1NjFlMDYzMmJlYzA2ZCA9IEwuY2lyY2xlTWFya2VyKAogICAgICAgICAgICAgICAgWzQwLjY0NjkyNjA2NjU4NTc5LC03My45NDgxNzcwOTkyMDE4NF0sCiAgICAgICAgICAgICAgICB7CiAgImJ1YmJsaW5nTW91c2VFdmVudHMiOiB0cnVlLAogICJjb2xvciI6ICIjODBmZmI0IiwKICAiZGFzaEFycmF5IjogbnVsbCwKICAiZGFzaE9mZnNldCI6IG51bGwsCiAgImZpbGwiOiB0cnVlLAogICJmaWxsQ29sb3IiOiAiIzgwZmZiNCIsCiAgImZpbGxPcGFjaXR5IjogMC43LAogICJmaWxsUnVsZSI6ICJldmVub2RkIiwKICAibGluZUNhcCI6ICJyb3VuZCIsCiAgImxpbmVKb2luIjogInJvdW5kIiwKICAib3BhY2l0eSI6IDEuMCwKICAicmFkaXVzIjogNSwKICAic3Ryb2tlIjogdHJ1ZSwKICAid2VpZ2h0IjogMwp9CiAgICAgICAgICAgICAgICApLmFkZFRvKG1hcF83MWFhZGE5YjY0ZTk0ZmE4YWFjZmNkN2M3ODJlYjU2MSk7CiAgICAgICAgICAgIAogICAgCiAgICAgICAgICAgIHZhciBwb3B1cF84YmJjZTliMTkxOGM0ZjBjOGExYTUxYWY4ZjZjNmM0OCA9IEwucG9wdXAoe21heFdpZHRoOiAnMzAwJ30pOwoKICAgICAgICAgICAgCiAgICAgICAgICAgICAgICB2YXIgaHRtbF9jMzg4ZGJhMzNhMjQ0MWYwODgyMjYzY2U3NTRkMjQyNyA9ICQoJzxkaXYgaWQ9Imh0bWxfYzM4OGRiYTMzYTI0NDFmMDg4MjI2M2NlNzU0ZDI0MjciIHN0eWxlPSJ3aWR0aDogMTAwLjAlOyBoZWlnaHQ6IDEwMC4wJTsiPkVyYXNtdXMgQ2x1c3RlciAzPC9kaXY+JylbMF07CiAgICAgICAgICAgICAgICBwb3B1cF84YmJjZTliMTkxOGM0ZjBjOGExYTUxYWY4ZjZjNmM0OC5zZXRDb250ZW50KGh0bWxfYzM4OGRiYTMzYTI0NDFmMDg4MjI2M2NlNzU0ZDI0MjcpOwogICAgICAgICAgICAKCiAgICAgICAgICAgIGNpcmNsZV9tYXJrZXJfMTJiMjgwYzBkOWRiNGZjMDkxNTYxZTA2MzJiZWMwNmQuYmluZFBvcHVwKHBvcHVwXzhiYmNlOWIxOTE4YzRmMGM4YTFhNTFhZjhmNmM2YzQ4KTsKCiAgICAgICAgICAgIAogICAgICAgIAogICAgCiAgICAgICAgICAgIHZhciBjaXJjbGVfbWFya2VyXzAyOGVlYWQ1NmJhMzRjOTBiMGRhNzAzMGJkMjUxNTNkID0gTC5jaXJjbGVNYXJrZXIoCiAgICAgICAgICAgICAgICBbNDAuNzU2NjU4MDgyMjc1MTksLTc0LjAwMDExMTM2MjAyNjM3XSwKICAgICAgICAgICAgICAgIHsKICAiYnViYmxpbmdNb3VzZUV2ZW50cyI6IHRydWUsCiAgImNvbG9yIjogIiMwMGI1ZWIiLAogICJkYXNoQXJyYXkiOiBudWxsLAogICJkYXNoT2Zmc2V0IjogbnVsbCwKICAiZmlsbCI6IHRydWUsCiAgImZpbGxDb2xvciI6ICIjMDBiNWViIiwKICAiZmlsbE9wYWNpdHkiOiAwLjcsCiAgImZpbGxSdWxlIjogImV2ZW5vZGQiLAogICJsaW5lQ2FwIjogInJvdW5kIiwKICAibGluZUpvaW4iOiAicm91bmQiLAogICJvcGFjaXR5IjogMS4wLAogICJyYWRpdXMiOiA1LAogICJzdHJva2UiOiB0cnVlLAogICJ3ZWlnaHQiOiAzCn0KICAgICAgICAgICAgICAgICkuYWRkVG8obWFwXzcxYWFkYTliNjRlOTRmYThhYWNmY2Q3Yzc4MmViNTYxKTsKICAgICAgICAgICAgCiAgICAKICAgICAgICAgICAgdmFyIHBvcHVwX2U0Y2I4ODkzN2Q5ZjQyYTQ4MmU2ZjljYTU5MjFmZjRlID0gTC5wb3B1cCh7bWF4V2lkdGg6ICczMDAnfSk7CgogICAgICAgICAgICAKICAgICAgICAgICAgICAgIHZhciBodG1sX2ExMjZjMzljNzk3MjQ2MjI5NDBhYzhhZWRhNjhlNDE5ID0gJCgnPGRpdiBpZD0iaHRtbF9hMTI2YzM5Yzc5NzI0NjIyOTQwYWM4YWVkYTY4ZTQxOSIgc3R5bGU9IndpZHRoOiAxMDAuMCU7IGhlaWdodDogMTAwLjAlOyI+SHVkc29uIFlhcmRzIENsdXN0ZXIgMjwvZGl2PicpWzBdOwogICAgICAgICAgICAgICAgcG9wdXBfZTRjYjg4OTM3ZDlmNDJhNDgyZTZmOWNhNTkyMWZmNGUuc2V0Q29udGVudChodG1sX2ExMjZjMzljNzk3MjQ2MjI5NDBhYzhhZWRhNjhlNDE5KTsKICAgICAgICAgICAgCgogICAgICAgICAgICBjaXJjbGVfbWFya2VyXzAyOGVlYWQ1NmJhMzRjOTBiMGRhNzAzMGJkMjUxNTNkLmJpbmRQb3B1cChwb3B1cF9lNGNiODg5MzdkOWY0MmE0ODJlNmY5Y2E1OTIxZmY0ZSk7CgogICAgICAgICAgICAKICAgICAgICAKICAgIAogICAgICAgICAgICB2YXIgY2lyY2xlX21hcmtlcl9kMmJmODEwZjlhMzU0YTAyOTI1ZjllNDg4Y2QwMWYyNyA9IEwuY2lyY2xlTWFya2VyKAogICAgICAgICAgICAgICAgWzQwLjU4NzMzNzc0MDE4NzQxLC03My44MDU1MzAwMjk2ODcxOF0sCiAgICAgICAgICAgICAgICB7CiAgImJ1YmJsaW5nTW91c2VFdmVudHMiOiB0cnVlLAogICJjb2xvciI6ICIjZmYwMDAwIiwKICAiZGFzaEFycmF5IjogbnVsbCwKICAiZGFzaE9mZnNldCI6IG51bGwsCiAgImZpbGwiOiB0cnVlLAogICJmaWxsQ29sb3IiOiAiI2ZmMDAwMCIsCiAgImZpbGxPcGFjaXR5IjogMC43LAogICJmaWxsUnVsZSI6ICJldmVub2RkIiwKICAibGluZUNhcCI6ICJyb3VuZCIsCiAgImxpbmVKb2luIjogInJvdW5kIiwKICAib3BhY2l0eSI6IDEuMCwKICAicmFkaXVzIjogNSwKICAic3Ryb2tlIjogdHJ1ZSwKICAid2VpZ2h0IjogMwp9CiAgICAgICAgICAgICAgICApLmFkZFRvKG1hcF83MWFhZGE5YjY0ZTk0ZmE4YWFjZmNkN2M3ODJlYjU2MSk7CiAgICAgICAgICAgIAogICAgCiAgICAgICAgICAgIHZhciBwb3B1cF8wYjQ1MGFiZmFkMzU0YjExYTNiYmM3YWNiNmU4YzhiYyA9IEwucG9wdXAoe21heFdpZHRoOiAnMzAwJ30pOwoKICAgICAgICAgICAgCiAgICAgICAgICAgICAgICB2YXIgaHRtbF8xYjQxODU5NzRhZDc0NzJjYWFkNWQ5M2FjMzAzNTBkMyA9ICQoJzxkaXYgaWQ9Imh0bWxfMWI0MTg1OTc0YWQ3NDcyY2FhZDVkOTNhYzMwMzUwZDMiIHN0eWxlPSJ3aWR0aDogMTAwLjAlOyBoZWlnaHQ6IDEwMC4wJTsiPkhhbW1lbHMgQ2x1c3RlciAwPC9kaXY+JylbMF07CiAgICAgICAgICAgICAgICBwb3B1cF8wYjQ1MGFiZmFkMzU0YjExYTNiYmM3YWNiNmU4YzhiYy5zZXRDb250ZW50KGh0bWxfMWI0MTg1OTc0YWQ3NDcyY2FhZDVkOTNhYzMwMzUwZDMpOwogICAgICAgICAgICAKCiAgICAgICAgICAgIGNpcmNsZV9tYXJrZXJfZDJiZjgxMGY5YTM1NGEwMjkyNWY5ZTQ4OGNkMDFmMjcuYmluZFBvcHVwKHBvcHVwXzBiNDUwYWJmYWQzNTRiMTFhM2JiYzdhY2I2ZThjOGJjKTsKCiAgICAgICAgICAgIAogICAgICAgIAogICAgCiAgICAgICAgICAgIHZhciBjaXJjbGVfbWFya2VyX2EzMTBlNWUyZGJmNzQ0ZTliMGU3MDlkMjNjYWE2YTE1ID0gTC5jaXJjbGVNYXJrZXIoCiAgICAgICAgICAgICAgICBbNDAuNjExMzIxNjkxMjgzODM0LC03My43NjU5Njc4MTQ0NTYyN10sCiAgICAgICAgICAgICAgICB7CiAgImJ1YmJsaW5nTW91c2VFdmVudHMiOiB0cnVlLAogICJjb2xvciI6ICIjZmYwMDAwIiwKICAiZGFzaEFycmF5IjogbnVsbCwKICAiZGFzaE9mZnNldCI6IG51bGwsCiAgImZpbGwiOiB0cnVlLAogICJmaWxsQ29sb3IiOiAiI2ZmMDAwMCIsCiAgImZpbGxPcGFjaXR5IjogMC43LAogICJmaWxsUnVsZSI6ICJldmVub2RkIiwKICAibGluZUNhcCI6ICJyb3VuZCIsCiAgImxpbmVKb2luIjogInJvdW5kIiwKICAib3BhY2l0eSI6IDEuMCwKICAicmFkaXVzIjogNSwKICAic3Ryb2tlIjogdHJ1ZSwKICAid2VpZ2h0IjogMwp9CiAgICAgICAgICAgICAgICApLmFkZFRvKG1hcF83MWFhZGE5YjY0ZTk0ZmE4YWFjZmNkN2M3ODJlYjU2MSk7CiAgICAgICAgICAgIAogICAgCiAgICAgICAgICAgIHZhciBwb3B1cF8zMzlmNzE4ZTRiMjY0NWQzYTk2ODViMjdmNWJmYmZjNiA9IEwucG9wdXAoe21heFdpZHRoOiAnMzAwJ30pOwoKICAgICAgICAgICAgCiAgICAgICAgICAgICAgICB2YXIgaHRtbF8yNTg2OGExZDcyNDQ0MDhmODRkMWVhZTVhZGQ3M2E2NiA9ICQoJzxkaXYgaWQ9Imh0bWxfMjU4NjhhMWQ3MjQ0NDA4Zjg0ZDFlYWU1YWRkNzNhNjYiIHN0eWxlPSJ3aWR0aDogMTAwLjAlOyBoZWlnaHQ6IDEwMC4wJTsiPkJheXN3YXRlciBDbHVzdGVyIDA8L2Rpdj4nKVswXTsKICAgICAgICAgICAgICAgIHBvcHVwXzMzOWY3MThlNGIyNjQ1ZDNhOTY4NWIyN2Y1YmZiZmM2LnNldENvbnRlbnQoaHRtbF8yNTg2OGExZDcyNDQ0MDhmODRkMWVhZTVhZGQ3M2E2Nik7CiAgICAgICAgICAgIAoKICAgICAgICAgICAgY2lyY2xlX21hcmtlcl9hMzEwZTVlMmRiZjc0NGU5YjBlNzA5ZDIzY2FhNmExNS5iaW5kUG9wdXAocG9wdXBfMzM5ZjcxOGU0YjI2NDVkM2E5Njg1YjI3ZjViZmJmYzYpOwoKICAgICAgICAgICAgCiAgICAgICAgCiAgICAKICAgICAgICAgICAgdmFyIGNpcmNsZV9tYXJrZXJfNmJhZTg4ZjUzMDMyNDIyMmFiNTQyMTgxNTEyZDg2MzkgPSBMLmNpcmNsZU1hcmtlcigKICAgICAgICAgICAgICAgIFs0MC43NTYwOTEyOTcwOTQ3MDYsLTczLjk0NTYzMDcwMzM0MDkxXSwKICAgICAgICAgICAgICAgIHsKICAiYnViYmxpbmdNb3VzZUV2ZW50cyI6IHRydWUsCiAgImNvbG9yIjogIiMwMGI1ZWIiLAogICJkYXNoQXJyYXkiOiBudWxsLAogICJkYXNoT2Zmc2V0IjogbnVsbCwKICAiZmlsbCI6IHRydWUsCiAgImZpbGxDb2xvciI6ICIjMDBiNWViIiwKICAiZmlsbE9wYWNpdHkiOiAwLjcsCiAgImZpbGxSdWxlIjogImV2ZW5vZGQiLAogICJsaW5lQ2FwIjogInJvdW5kIiwKICAibGluZUpvaW4iOiAicm91bmQiLAogICJvcGFjaXR5IjogMS4wLAogICJyYWRpdXMiOiA1LAogICJzdHJva2UiOiB0cnVlLAogICJ3ZWlnaHQiOiAzCn0KICAgICAgICAgICAgICAgICkuYWRkVG8obWFwXzcxYWFkYTliNjRlOTRmYThhYWNmY2Q3Yzc4MmViNTYxKTsKICAgICAgICAgICAgCiAgICAKICAgICAgICAgICAgdmFyIHBvcHVwX2RjYjg1MTYwMjA3YTQ3NDI5OGY1YjhiODM1Njg2NjkzID0gTC5wb3B1cCh7bWF4V2lkdGg6ICczMDAnfSk7CgogICAgICAgICAgICAKICAgICAgICAgICAgICAgIHZhciBodG1sX2RhZmQ0YzEwMzNkMjRiOTVhODQ0YTYwZTU1MTA5YmYwID0gJCgnPGRpdiBpZD0iaHRtbF9kYWZkNGMxMDMzZDI0Yjk1YTg0NGE2MGU1NTEwOWJmMCIgc3R5bGU9IndpZHRoOiAxMDAuMCU7IGhlaWdodDogMTAwLjAlOyI+UXVlZW5zYnJpZGdlIENsdXN0ZXIgMjwvZGl2PicpWzBdOwogICAgICAgICAgICAgICAgcG9wdXBfZGNiODUxNjAyMDdhNDc0Mjk4ZjViOGI4MzU2ODY2OTMuc2V0Q29udGVudChodG1sX2RhZmQ0YzEwMzNkMjRiOTVhODQ0YTYwZTU1MTA5YmYwKTsKICAgICAgICAgICAgCgogICAgICAgICAgICBjaXJjbGVfbWFya2VyXzZiYWU4OGY1MzAzMjQyMjJhYjU0MjE4MTUxMmQ4NjM5LmJpbmRQb3B1cChwb3B1cF9kY2I4NTE2MDIwN2E0NzQyOThmNWI4YjgzNTY4NjY5Myk7CgogICAgICAgICAgICAKICAgICAgICAKICAgIAogICAgICAgICAgICB2YXIgY2lyY2xlX21hcmtlcl82YTFlYTM4ZDQzYzU0M2JjYjNlYmMxMzkyNGVhOThjMiA9IEwuY2lyY2xlTWFya2VyKAogICAgICAgICAgICAgICAgWzQwLjYxNzMxMDc5MjUyOTgzLC03NC4wODE3Mzk5MjIxMTk2Ml0sCiAgICAgICAgICAgICAgICB7CiAgImJ1YmJsaW5nTW91c2VFdmVudHMiOiB0cnVlLAogICJjb2xvciI6ICIjODAwMGZmIiwKICAiZGFzaEFycmF5IjogbnVsbCwKICAiZGFzaE9mZnNldCI6IG51bGwsCiAgImZpbGwiOiB0cnVlLAogICJmaWxsQ29sb3IiOiAiIzgwMDBmZiIsCiAgImZpbGxPcGFjaXR5IjogMC43LAogICJmaWxsUnVsZSI6ICJldmVub2RkIiwKICAibGluZUNhcCI6ICJyb3VuZCIsCiAgImxpbmVKb2luIjogInJvdW5kIiwKICAib3BhY2l0eSI6IDEuMCwKICAicmFkaXVzIjogNSwKICAic3Ryb2tlIjogdHJ1ZSwKICAid2VpZ2h0IjogMwp9CiAgICAgICAgICAgICAgICApLmFkZFRvKG1hcF83MWFhZGE5YjY0ZTk0ZmE4YWFjZmNkN2M3ODJlYjU2MSk7CiAgICAgICAgICAgIAogICAgCiAgICAgICAgICAgIHZhciBwb3B1cF9lNzRhNzRlZGZlMWM0ZTNiOWViNWFhNjQ1MjkyYjk0OCA9IEwucG9wdXAoe21heFdpZHRoOiAnMzAwJ30pOwoKICAgICAgICAgICAgCiAgICAgICAgICAgICAgICB2YXIgaHRtbF9jMDFhZTU3MTZhZjQ0ZDM5ODNkNzQzODhjNTg3MmEzNiA9ICQoJzxkaXYgaWQ9Imh0bWxfYzAxYWU1NzE2YWY0NGQzOTgzZDc0Mzg4YzU4NzJhMzYiIHN0eWxlPSJ3aWR0aDogMTAwLjAlOyBoZWlnaHQ6IDEwMC4wJTsiPkZveCBIaWxscyBDbHVzdGVyIDE8L2Rpdj4nKVswXTsKICAgICAgICAgICAgICAgIHBvcHVwX2U3NGE3NGVkZmUxYzRlM2I5ZWI1YWE2NDUyOTJiOTQ4LnNldENvbnRlbnQoaHRtbF9jMDFhZTU3MTZhZjQ0ZDM5ODNkNzQzODhjNTg3MmEzNik7CiAgICAgICAgICAgIAoKICAgICAgICAgICAgY2lyY2xlX21hcmtlcl82YTFlYTM4ZDQzYzU0M2JjYjNlYmMxMzkyNGVhOThjMi5iaW5kUG9wdXAocG9wdXBfZTc0YTc0ZWRmZTFjNGUzYjllYjVhYTY0NTI5MmI5NDgpOwoKICAgICAgICAgICAgCiAgICAgICAgCjwvc2NyaXB0Pg==\" style=\"position:absolute;width:100%;height:100%;left:0;top:0;border:none !important;\" allowfullscreen webkitallowfullscreen mozallowfullscreen></iframe></div></div>"
      ],
      "text/plain": [
       "<folium.folium.Map at 0x7f1ab27433c8>"
      ]
     },
     "execution_count": 75,
     "metadata": {},
     "output_type": "execute_result"
    }
   ],
   "source": [
    "map_clusters"
   ]
  },
  {
   "cell_type": "code",
   "execution_count": 76,
   "metadata": {},
   "outputs": [],
   "source": [
    "#we'll investgate further if there is a correspondence\n",
    "df_BvC = df_original.copy()"
   ]
  },
  {
   "cell_type": "code",
   "execution_count": 77,
   "metadata": {},
   "outputs": [
    {
     "data": {
      "text/html": [
       "<div>\n",
       "<style scoped>\n",
       "    .dataframe tbody tr th:only-of-type {\n",
       "        vertical-align: middle;\n",
       "    }\n",
       "\n",
       "    .dataframe tbody tr th {\n",
       "        vertical-align: top;\n",
       "    }\n",
       "\n",
       "    .dataframe thead th {\n",
       "        text-align: right;\n",
       "    }\n",
       "</style>\n",
       "<table border=\"1\" class=\"dataframe\">\n",
       "  <thead>\n",
       "    <tr style=\"text-align: right;\">\n",
       "      <th></th>\n",
       "      <th>Borough</th>\n",
       "      <th>Neighborhood</th>\n",
       "      <th>Latitude</th>\n",
       "      <th>Longitude</th>\n",
       "    </tr>\n",
       "  </thead>\n",
       "  <tbody>\n",
       "    <tr>\n",
       "      <td>0</td>\n",
       "      <td>Bronx</td>\n",
       "      <td>Wakefield</td>\n",
       "      <td>40.894705</td>\n",
       "      <td>-73.847201</td>\n",
       "    </tr>\n",
       "    <tr>\n",
       "      <td>1</td>\n",
       "      <td>Bronx</td>\n",
       "      <td>Co-op City</td>\n",
       "      <td>40.874294</td>\n",
       "      <td>-73.829939</td>\n",
       "    </tr>\n",
       "    <tr>\n",
       "      <td>2</td>\n",
       "      <td>Bronx</td>\n",
       "      <td>Eastchester</td>\n",
       "      <td>40.887556</td>\n",
       "      <td>-73.827806</td>\n",
       "    </tr>\n",
       "    <tr>\n",
       "      <td>3</td>\n",
       "      <td>Bronx</td>\n",
       "      <td>Fieldston</td>\n",
       "      <td>40.895437</td>\n",
       "      <td>-73.905643</td>\n",
       "    </tr>\n",
       "    <tr>\n",
       "      <td>4</td>\n",
       "      <td>Bronx</td>\n",
       "      <td>Riverdale</td>\n",
       "      <td>40.890834</td>\n",
       "      <td>-73.912585</td>\n",
       "    </tr>\n",
       "  </tbody>\n",
       "</table>\n",
       "</div>"
      ],
      "text/plain": [
       "  Borough Neighborhood   Latitude  Longitude\n",
       "0   Bronx    Wakefield  40.894705 -73.847201\n",
       "1   Bronx   Co-op City  40.874294 -73.829939\n",
       "2   Bronx  Eastchester  40.887556 -73.827806\n",
       "3   Bronx    Fieldston  40.895437 -73.905643\n",
       "4   Bronx    Riverdale  40.890834 -73.912585"
      ]
     },
     "execution_count": 77,
     "metadata": {},
     "output_type": "execute_result"
    }
   ],
   "source": [
    "df_original.head()#BvC"
   ]
  },
  {
   "cell_type": "code",
   "execution_count": 78,
   "metadata": {},
   "outputs": [
    {
     "data": {
      "text/html": [
       "<div>\n",
       "<style scoped>\n",
       "    .dataframe tbody tr th:only-of-type {\n",
       "        vertical-align: middle;\n",
       "    }\n",
       "\n",
       "    .dataframe tbody tr th {\n",
       "        vertical-align: top;\n",
       "    }\n",
       "\n",
       "    .dataframe thead th {\n",
       "        text-align: right;\n",
       "    }\n",
       "</style>\n",
       "<table border=\"1\" class=\"dataframe\">\n",
       "  <thead>\n",
       "    <tr style=\"text-align: right;\">\n",
       "      <th></th>\n",
       "      <th>Borough</th>\n",
       "      <th>Neighborhood</th>\n",
       "      <th>Latitude</th>\n",
       "      <th>Longitude</th>\n",
       "    </tr>\n",
       "  </thead>\n",
       "  <tbody>\n",
       "    <tr>\n",
       "      <td>0</td>\n",
       "      <td>Bronx</td>\n",
       "      <td>Wakefield</td>\n",
       "      <td>40.894705</td>\n",
       "      <td>-73.847201</td>\n",
       "    </tr>\n",
       "    <tr>\n",
       "      <td>1</td>\n",
       "      <td>Bronx</td>\n",
       "      <td>Co-op City</td>\n",
       "      <td>40.874294</td>\n",
       "      <td>-73.829939</td>\n",
       "    </tr>\n",
       "    <tr>\n",
       "      <td>2</td>\n",
       "      <td>Bronx</td>\n",
       "      <td>Eastchester</td>\n",
       "      <td>40.887556</td>\n",
       "      <td>-73.827806</td>\n",
       "    </tr>\n",
       "    <tr>\n",
       "      <td>3</td>\n",
       "      <td>Bronx</td>\n",
       "      <td>Fieldston</td>\n",
       "      <td>40.895437</td>\n",
       "      <td>-73.905643</td>\n",
       "    </tr>\n",
       "    <tr>\n",
       "      <td>4</td>\n",
       "      <td>Bronx</td>\n",
       "      <td>Riverdale</td>\n",
       "      <td>40.890834</td>\n",
       "      <td>-73.912585</td>\n",
       "    </tr>\n",
       "  </tbody>\n",
       "</table>\n",
       "</div>"
      ],
      "text/plain": [
       "  Borough Neighborhood   Latitude  Longitude\n",
       "0   Bronx    Wakefield  40.894705 -73.847201\n",
       "1   Bronx   Co-op City  40.874294 -73.829939\n",
       "2   Bronx  Eastchester  40.887556 -73.827806\n",
       "3   Bronx    Fieldston  40.895437 -73.905643\n",
       "4   Bronx    Riverdale  40.890834 -73.912585"
      ]
     },
     "execution_count": 78,
     "metadata": {},
     "output_type": "execute_result"
    }
   ],
   "source": [
    "df_BvC.head()"
   ]
  },
  {
   "cell_type": "code",
   "execution_count": 79,
   "metadata": {},
   "outputs": [
    {
     "data": {
      "text/html": [
       "<div>\n",
       "<style scoped>\n",
       "    .dataframe tbody tr th:only-of-type {\n",
       "        vertical-align: middle;\n",
       "    }\n",
       "\n",
       "    .dataframe tbody tr th {\n",
       "        vertical-align: top;\n",
       "    }\n",
       "\n",
       "    .dataframe thead th {\n",
       "        text-align: right;\n",
       "    }\n",
       "</style>\n",
       "<table border=\"1\" class=\"dataframe\">\n",
       "  <thead>\n",
       "    <tr style=\"text-align: right;\">\n",
       "      <th></th>\n",
       "      <th>Borough</th>\n",
       "      <th>Neighborhood</th>\n",
       "      <th>Latitude</th>\n",
       "      <th>Longitude</th>\n",
       "      <th>Cluster</th>\n",
       "    </tr>\n",
       "  </thead>\n",
       "  <tbody>\n",
       "    <tr>\n",
       "      <td>0</td>\n",
       "      <td>Bronx</td>\n",
       "      <td>Wakefield</td>\n",
       "      <td>40.894705</td>\n",
       "      <td>-73.847201</td>\n",
       "      <td>4</td>\n",
       "    </tr>\n",
       "    <tr>\n",
       "      <td>1</td>\n",
       "      <td>Bronx</td>\n",
       "      <td>Co-op City</td>\n",
       "      <td>40.874294</td>\n",
       "      <td>-73.829939</td>\n",
       "      <td>4</td>\n",
       "    </tr>\n",
       "    <tr>\n",
       "      <td>2</td>\n",
       "      <td>Bronx</td>\n",
       "      <td>Eastchester</td>\n",
       "      <td>40.887556</td>\n",
       "      <td>-73.827806</td>\n",
       "      <td>4</td>\n",
       "    </tr>\n",
       "    <tr>\n",
       "      <td>3</td>\n",
       "      <td>Bronx</td>\n",
       "      <td>Fieldston</td>\n",
       "      <td>40.895437</td>\n",
       "      <td>-73.905643</td>\n",
       "      <td>4</td>\n",
       "    </tr>\n",
       "    <tr>\n",
       "      <td>4</td>\n",
       "      <td>Bronx</td>\n",
       "      <td>Riverdale</td>\n",
       "      <td>40.890834</td>\n",
       "      <td>-73.912585</td>\n",
       "      <td>4</td>\n",
       "    </tr>\n",
       "  </tbody>\n",
       "</table>\n",
       "</div>"
      ],
      "text/plain": [
       "  Borough Neighborhood   Latitude  Longitude  Cluster\n",
       "0   Bronx    Wakefield  40.894705 -73.847201        4\n",
       "1   Bronx   Co-op City  40.874294 -73.829939        4\n",
       "2   Bronx  Eastchester  40.887556 -73.827806        4\n",
       "3   Bronx    Fieldston  40.895437 -73.905643        4\n",
       "4   Bronx    Riverdale  40.890834 -73.912585        4"
      ]
     },
     "execution_count": 79,
     "metadata": {},
     "output_type": "execute_result"
    }
   ],
   "source": [
    "merged.head()"
   ]
  },
  {
   "cell_type": "code",
   "execution_count": null,
   "metadata": {},
   "outputs": [],
   "source": []
  },
  {
   "cell_type": "code",
   "execution_count": 80,
   "metadata": {},
   "outputs": [],
   "source": [
    "df_BvC = df_BvC.merge(merged, how='inner', on=['Neighborhood', 'Latitude','Longitude'])"
   ]
  },
  {
   "cell_type": "code",
   "execution_count": 81,
   "metadata": {},
   "outputs": [
    {
     "data": {
      "text/html": [
       "<div>\n",
       "<style scoped>\n",
       "    .dataframe tbody tr th:only-of-type {\n",
       "        vertical-align: middle;\n",
       "    }\n",
       "\n",
       "    .dataframe tbody tr th {\n",
       "        vertical-align: top;\n",
       "    }\n",
       "\n",
       "    .dataframe thead th {\n",
       "        text-align: right;\n",
       "    }\n",
       "</style>\n",
       "<table border=\"1\" class=\"dataframe\">\n",
       "  <thead>\n",
       "    <tr style=\"text-align: right;\">\n",
       "      <th></th>\n",
       "      <th>Borough_x</th>\n",
       "      <th>Neighborhood</th>\n",
       "      <th>Latitude</th>\n",
       "      <th>Longitude</th>\n",
       "      <th>Borough_y</th>\n",
       "      <th>Cluster</th>\n",
       "    </tr>\n",
       "  </thead>\n",
       "  <tbody>\n",
       "    <tr>\n",
       "      <td>0</td>\n",
       "      <td>Bronx</td>\n",
       "      <td>Wakefield</td>\n",
       "      <td>40.894705</td>\n",
       "      <td>-73.847201</td>\n",
       "      <td>Bronx</td>\n",
       "      <td>4</td>\n",
       "    </tr>\n",
       "    <tr>\n",
       "      <td>1</td>\n",
       "      <td>Bronx</td>\n",
       "      <td>Co-op City</td>\n",
       "      <td>40.874294</td>\n",
       "      <td>-73.829939</td>\n",
       "      <td>Bronx</td>\n",
       "      <td>4</td>\n",
       "    </tr>\n",
       "    <tr>\n",
       "      <td>2</td>\n",
       "      <td>Bronx</td>\n",
       "      <td>Eastchester</td>\n",
       "      <td>40.887556</td>\n",
       "      <td>-73.827806</td>\n",
       "      <td>Bronx</td>\n",
       "      <td>4</td>\n",
       "    </tr>\n",
       "    <tr>\n",
       "      <td>3</td>\n",
       "      <td>Bronx</td>\n",
       "      <td>Fieldston</td>\n",
       "      <td>40.895437</td>\n",
       "      <td>-73.905643</td>\n",
       "      <td>Bronx</td>\n",
       "      <td>4</td>\n",
       "    </tr>\n",
       "    <tr>\n",
       "      <td>4</td>\n",
       "      <td>Bronx</td>\n",
       "      <td>Riverdale</td>\n",
       "      <td>40.890834</td>\n",
       "      <td>-73.912585</td>\n",
       "      <td>Bronx</td>\n",
       "      <td>4</td>\n",
       "    </tr>\n",
       "  </tbody>\n",
       "</table>\n",
       "</div>"
      ],
      "text/plain": [
       "  Borough_x Neighborhood   Latitude  Longitude Borough_y  Cluster\n",
       "0     Bronx    Wakefield  40.894705 -73.847201     Bronx        4\n",
       "1     Bronx   Co-op City  40.874294 -73.829939     Bronx        4\n",
       "2     Bronx  Eastchester  40.887556 -73.827806     Bronx        4\n",
       "3     Bronx    Fieldston  40.895437 -73.905643     Bronx        4\n",
       "4     Bronx    Riverdale  40.890834 -73.912585     Bronx        4"
      ]
     },
     "execution_count": 81,
     "metadata": {},
     "output_type": "execute_result"
    }
   ],
   "source": [
    "df_BvC.head()"
   ]
  },
  {
   "cell_type": "code",
   "execution_count": 82,
   "metadata": {},
   "outputs": [
    {
     "data": {
      "text/html": [
       "<div>\n",
       "<style scoped>\n",
       "    .dataframe tbody tr th:only-of-type {\n",
       "        vertical-align: middle;\n",
       "    }\n",
       "\n",
       "    .dataframe tbody tr th {\n",
       "        vertical-align: top;\n",
       "    }\n",
       "\n",
       "    .dataframe thead th {\n",
       "        text-align: right;\n",
       "    }\n",
       "</style>\n",
       "<table border=\"1\" class=\"dataframe\">\n",
       "  <thead>\n",
       "    <tr style=\"text-align: right;\">\n",
       "      <th></th>\n",
       "      <th>Neighborhood</th>\n",
       "      <th>Latitude</th>\n",
       "      <th>Longitude</th>\n",
       "      <th>Borough_y</th>\n",
       "      <th>Cluster</th>\n",
       "    </tr>\n",
       "    <tr>\n",
       "      <th>Borough_x</th>\n",
       "      <th></th>\n",
       "      <th></th>\n",
       "      <th></th>\n",
       "      <th></th>\n",
       "      <th></th>\n",
       "    </tr>\n",
       "  </thead>\n",
       "  <tbody>\n",
       "    <tr>\n",
       "      <td>Bronx</td>\n",
       "      <td>52</td>\n",
       "      <td>52</td>\n",
       "      <td>52</td>\n",
       "      <td>52</td>\n",
       "      <td>52</td>\n",
       "    </tr>\n",
       "    <tr>\n",
       "      <td>Brooklyn</td>\n",
       "      <td>70</td>\n",
       "      <td>70</td>\n",
       "      <td>70</td>\n",
       "      <td>70</td>\n",
       "      <td>70</td>\n",
       "    </tr>\n",
       "    <tr>\n",
       "      <td>Manhattan</td>\n",
       "      <td>40</td>\n",
       "      <td>40</td>\n",
       "      <td>40</td>\n",
       "      <td>40</td>\n",
       "      <td>40</td>\n",
       "    </tr>\n",
       "    <tr>\n",
       "      <td>Queens</td>\n",
       "      <td>80</td>\n",
       "      <td>80</td>\n",
       "      <td>80</td>\n",
       "      <td>80</td>\n",
       "      <td>80</td>\n",
       "    </tr>\n",
       "    <tr>\n",
       "      <td>Staten Island</td>\n",
       "      <td>60</td>\n",
       "      <td>60</td>\n",
       "      <td>60</td>\n",
       "      <td>60</td>\n",
       "      <td>60</td>\n",
       "    </tr>\n",
       "  </tbody>\n",
       "</table>\n",
       "</div>"
      ],
      "text/plain": [
       "               Neighborhood  Latitude  Longitude  Borough_y  Cluster\n",
       "Borough_x                                                           \n",
       "Bronx                    52        52         52         52       52\n",
       "Brooklyn                 70        70         70         70       70\n",
       "Manhattan                40        40         40         40       40\n",
       "Queens                   80        80         80         80       80\n",
       "Staten Island            60        60         60         60       60"
      ]
     },
     "execution_count": 82,
     "metadata": {},
     "output_type": "execute_result"
    }
   ],
   "source": [
    "#Borough_x is fine since both coluns have similar values\n",
    "df_BvC.groupby('Borough_x').count()"
   ]
  },
  {
   "cell_type": "markdown",
   "metadata": {},
   "source": [
    "NOTE:  One-Hot Encoding the clusters seemed to add any further value as they coincided with NY city's 5 Boroughs (both visually and using groupby "
   ]
  },
  {
   "cell_type": "markdown",
   "metadata": {},
   "source": [
    "## Construct Dataframe for Analysis"
   ]
  },
  {
   "cell_type": "code",
   "execution_count": null,
   "metadata": {},
   "outputs": [],
   "source": []
  },
  {
   "cell_type": "markdown",
   "metadata": {},
   "source": [
    "#### Generate Truth Table (compatible with One-Hot Encoding)\n",
    "\n",
    "This was omitted as merging took to long"
   ]
  },
  {
   "cell_type": "code",
   "execution_count": 83,
   "metadata": {},
   "outputs": [],
   "source": [
    "# Set number of variables for truth table\n",
    "numVar = 5 # All 10 POIs is too much computationally and for me to process in a short amount of time"
   ]
  },
  {
   "cell_type": "code",
   "execution_count": 84,
   "metadata": {},
   "outputs": [],
   "source": [
    "#truth table genenrator funtion\n",
    "table = list(itertools.product([0, 1], repeat=numVar))"
   ]
  },
  {
   "cell_type": "code",
   "execution_count": 85,
   "metadata": {},
   "outputs": [],
   "source": [
    "#Comment out after: verify truth table construction\n",
    "#table"
   ]
  },
  {
   "cell_type": "markdown",
   "metadata": {},
   "source": [
    "#### Handle Points of Interest"
   ]
  },
  {
   "cell_type": "code",
   "execution_count": 86,
   "metadata": {},
   "outputs": [],
   "source": [
    "# Points of Interest\n",
    "POI_10 = [\"Central Park\",'Times Square','Grand Central Terminal','Broadway','Rockefeller Center']\n",
    "POI_5= [\"Central Park\",'Times Square','Grand Central Terminal','Broadway','Rockefeller Center']\n",
    "POI = POI_5        "
   ]
  },
  {
   "cell_type": "markdown",
   "metadata": {},
   "source": [
    "##### Top 10 POI data \n",
    "\n",
    "https://en.wikipedia.org/wiki/Tourism_in_New_York_City#Most_visited_attractions\n",
    "\n",
    "2018 65.2, 13.6 international\n",
    "\n",
    "most are in Manhattan with the exception of Brooklyn\n",
    "1. Central Park 42m 40.782222, -73.965278 geohack( https://tools.wmflabs.org/geohack/geohack.php?pagename=Tourism_in_New_York_City&params=40_46_56_N_73_57_55_W_&title=Central+Park) 40.782864, -73.965355 LatLong.net (https://www.latlong.net/convert-address-to-lat-long.html)\n",
    "2.  Time Square 39.5 40.757, -73.986 40.759010, -73.984474\n",
    "3.  Grand Central Terminal 21.6m 40.752813, -73.977215 40.752110, -73.977654\n",
    "4. Theater District (incluging Broadway) 13m 40.759, -73.985  55.614700, 40.671299   Broadway 38.611641, -78.794952\n",
    "5. Rockefeller Centre (including 30 Rock)12.8m 40.758611, -73.979167  40.068890, -83.126808\n",
    "6.  Bryant Park 12m 40.754, -73.984 40.732690, -73.701640\n",
    "7.  Prospect Park 10m 40.661667, -73.970833 40.619270,  -73.956960\n",
    "8.  South Street Seaport 9m 40.706111, -74.003333\t42.880280, -75.635620\n",
    "9.  High Line 7.6m 40.747993, -74.004765 40.753440, -74.003890\n",
    "10. Coney Island (including Boardwalk) 7.4m  40.574, -73.978, 44.588890 -75.138690 Boardwalk 40.576790, -73.943420\n",
    ":\n",
    "15. Ellis Island & Statue of Liberty 4.5m 40.694167, -74.043056 40.702150, -74.021460  Statue of Liberty40.689247, -74.044502"
   ]
  },
  {
   "cell_type": "markdown",
   "metadata": {},
   "source": [
    "#### Construct Dataframe for POI"
   ]
  },
  {
   "cell_type": "code",
   "execution_count": 87,
   "metadata": {},
   "outputs": [],
   "source": [
    "import pandas as pd"
   ]
  },
  {
   "cell_type": "code",
   "execution_count": 88,
   "metadata": {},
   "outputs": [],
   "source": [
    "dict_POI = {'name':[\"Central Park\",'Times Square','Grand Central Terminal','Broadway','Rockefeller Center'],\n",
    "            'lat':[40.782,40.759,40.752,38.611,40.068],\n",
    "             'lng': [-73.965,-73.984, -73.977,-78.794,-83.123]}"
   ]
  },
  {
   "cell_type": "code",
   "execution_count": 89,
   "metadata": {},
   "outputs": [],
   "source": [
    "df_POI = pd.DataFrame()"
   ]
  },
  {
   "cell_type": "code",
   "execution_count": 90,
   "metadata": {},
   "outputs": [],
   "source": [
    "df_POI = df_POI.from_dict(dict_POI)"
   ]
  },
  {
   "cell_type": "code",
   "execution_count": 91,
   "metadata": {},
   "outputs": [],
   "source": [
    "df_POI.to_csv('POI.csv', index=False)"
   ]
  },
  {
   "cell_type": "markdown",
   "metadata": {},
   "source": [
    "#### Visualize POI"
   ]
  },
  {
   "cell_type": "code",
   "execution_count": 92,
   "metadata": {},
   "outputs": [],
   "source": [
    "# create map\n",
    "map_pois= folium.Map(location=[latitude, longitude], zoom_start=11)"
   ]
  },
  {
   "cell_type": "code",
   "execution_count": 93,
   "metadata": {},
   "outputs": [],
   "source": [
    "poisCnt = len(df_POI)"
   ]
  },
  {
   "cell_type": "code",
   "execution_count": 94,
   "metadata": {},
   "outputs": [],
   "source": [
    "# set color scheme for the clusters\n",
    "x = np.arange(poisCnt)\n",
    "ys = [i + x + (i*x)**2 for i in range(poisCnt)]\n",
    "colors_array = cm.rainbow(np.linspace(0, 1, len(ys)))"
   ]
  },
  {
   "cell_type": "code",
   "execution_count": 95,
   "metadata": {},
   "outputs": [],
   "source": [
    "# add markers to the map\n",
    "markers_colors = []\n",
    "for lat, lon, poi in zip(df_POI['lat'], df_POI['lng'], df_POI['name']):\n",
    "    label = folium.Popup(poi, parse_html=True)\n",
    "    folium.CircleMarker(\n",
    "        [lat, lon],\n",
    "        radius=5,\n",
    "        popup=label,\n",
    "        color='blue',\n",
    "        fill=True,\n",
    "        fill_color='#3186cc',\n",
    "        fill_opacity=0.7,\n",
    "         parse_html=False).add_to(map_pois)  "
   ]
  },
  {
   "cell_type": "code",
   "execution_count": 96,
   "metadata": {},
   "outputs": [
    {
     "data": {
      "text/html": [
       "<div style=\"width:100%;\"><div style=\"position:relative;width:100%;height:0;padding-bottom:60%;\"><iframe src=\"data:text/html;charset=utf-8;base64,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\" style=\"position:absolute;width:100%;height:100%;left:0;top:0;border:none !important;\" allowfullscreen webkitallowfullscreen mozallowfullscreen></iframe></div></div>"
      ],
      "text/plain": [
       "<folium.folium.Map at 0x7f1ab1b47198>"
      ]
     },
     "execution_count": 96,
     "metadata": {},
     "output_type": "execute_result"
    }
   ],
   "source": [
    "map_pois"
   ]
  },
  {
   "cell_type": "code",
   "execution_count": 97,
   "metadata": {},
   "outputs": [],
   "source": [
    "# Creating a dataframe object from list of tuples\n",
    "TT = pd.DataFrame(table, columns = POI) "
   ]
  },
  {
   "cell_type": "code",
   "execution_count": 98,
   "metadata": {},
   "outputs": [],
   "source": [
    "#comment Out after: verify df with columns\n",
    "#TT"
   ]
  },
  {
   "cell_type": "markdown",
   "metadata": {},
   "source": [
    "#### Merge NY Hotels with Generated Truth Table\n",
    "\n",
    "Removed because too computationally intensive from experience"
   ]
  },
  {
   "cell_type": "code",
   "execution_count": 99,
   "metadata": {},
   "outputs": [],
   "source": [
    "rowsHotels_d = len(hotels_d)\n",
    "colsHotels_d = len(hotels_d.columns)\n",
    "#rowsTT = len(TT)\n",
    "#colsTT = len(TT.columns)"
   ]
  },
  {
   "cell_type": "code",
   "execution_count": 100,
   "metadata": {},
   "outputs": [],
   "source": [
    "iHotels_d = 0\n",
    "cHotels_d = 0\n",
    "listHotels_d =[]\n",
    "strCol =''\n",
    "listNew = []\n",
    "listCols = []"
   ]
  },
  {
   "cell_type": "markdown",
   "metadata": {},
   "source": [
    "iTT = 0\n",
    "cTT= 0\n",
    "intCol  = 0"
   ]
  },
  {
   "cell_type": "code",
   "execution_count": 101,
   "metadata": {},
   "outputs": [],
   "source": [
    "while cHotels_d  < colsHotels_d:\n",
    "    strCol = hotels_d.columns[cHotels_d]\n",
    "    listCols.append(strCol ) \n",
    "       \n",
    "    cHotels_d += 1 "
   ]
  },
  {
   "cell_type": "code",
   "execution_count": 102,
   "metadata": {},
   "outputs": [],
   "source": [
    "listCols.append('haversine')"
   ]
  },
  {
   "cell_type": "code",
   "execution_count": 103,
   "metadata": {},
   "outputs": [],
   "source": [
    "listCols.append('venues')"
   ]
  },
  {
   "cell_type": "markdown",
   "metadata": {},
   "source": [
    "while cTT < colsTT:\n",
    "    strCol = TT.columns[cTT]\n",
    "    listCols.append(strCol ) \n",
    "       \n",
    "    cTT += 1 "
   ]
  },
  {
   "cell_type": "code",
   "execution_count": null,
   "metadata": {},
   "outputs": [],
   "source": []
  },
  {
   "cell_type": "markdown",
   "metadata": {},
   "source": [
    "print(listCols)"
   ]
  },
  {
   "cell_type": "markdown",
   "metadata": {},
   "source": [
    "#### this sets the entire row to NaN\n",
    "####df_new.iloc[0,0] = np.na"
   ]
  },
  {
   "cell_type": "code",
   "execution_count": 104,
   "metadata": {},
   "outputs": [],
   "source": [
    "df_new = pd.DataFrame(columns = listCols)"
   ]
  },
  {
   "cell_type": "code",
   "execution_count": 105,
   "metadata": {},
   "outputs": [
    {
     "data": {
      "text/html": [
       "<div>\n",
       "<style scoped>\n",
       "    .dataframe tbody tr th:only-of-type {\n",
       "        vertical-align: middle;\n",
       "    }\n",
       "\n",
       "    .dataframe tbody tr th {\n",
       "        vertical-align: top;\n",
       "    }\n",
       "\n",
       "    .dataframe thead th {\n",
       "        text-align: right;\n",
       "    }\n",
       "</style>\n",
       "<table border=\"1\" class=\"dataframe\">\n",
       "  <thead>\n",
       "    <tr style=\"text-align: right;\">\n",
       "      <th></th>\n",
       "      <th>index</th>\n",
       "      <th>id</th>\n",
       "      <th>name</th>\n",
       "      <th>location.address</th>\n",
       "      <th>location.crossStreet</th>\n",
       "      <th>location.lat</th>\n",
       "      <th>location.lng</th>\n",
       "      <th>location.postalCode</th>\n",
       "      <th>location.formattedAddress</th>\n",
       "      <th>haversine</th>\n",
       "      <th>venues</th>\n",
       "    </tr>\n",
       "  </thead>\n",
       "  <tbody>\n",
       "  </tbody>\n",
       "</table>\n",
       "</div>"
      ],
      "text/plain": [
       "Empty DataFrame\n",
       "Columns: [index, id, name, location.address, location.crossStreet, location.lat, location.lng, location.postalCode, location.formattedAddress, haversine, venues]\n",
       "Index: []"
      ]
     },
     "execution_count": 105,
     "metadata": {},
     "output_type": "execute_result"
    }
   ],
   "source": [
    "df_new"
   ]
  },
  {
   "cell_type": "markdown",
   "metadata": {},
   "source": [
    "## Haversine"
   ]
  },
  {
   "cell_type": "code",
   "execution_count": 109,
   "metadata": {},
   "outputs": [],
   "source": [
    "hotels_dm = hotels_d.copy()\n",
    "#hotels_dm = hotels_d.insert('Haversine')"
   ]
  },
  {
   "cell_type": "code",
   "execution_count": 110,
   "metadata": {},
   "outputs": [],
   "source": [
    "#add haversine column and set the entire thing to 0.0\n",
    "hotels_dm['Haversine'] = 0.0\n",
    "\n",
    "hotelsCSV['Haversine'] = 0.0 "
   ]
  },
  {
   "cell_type": "code",
   "execution_count": 111,
   "metadata": {},
   "outputs": [],
   "source": [
    "#add venue column and set the entire thing to 0\n",
    "hotels_dm['Venues'] = 0\n",
    "\n",
    "\n",
    "hotelsCSV['Venues'] = 0"
   ]
  },
  {
   "cell_type": "code",
   "execution_count": 112,
   "metadata": {},
   "outputs": [
    {
     "data": {
      "text/html": [
       "<div>\n",
       "<style scoped>\n",
       "    .dataframe tbody tr th:only-of-type {\n",
       "        vertical-align: middle;\n",
       "    }\n",
       "\n",
       "    .dataframe tbody tr th {\n",
       "        vertical-align: top;\n",
       "    }\n",
       "\n",
       "    .dataframe thead th {\n",
       "        text-align: right;\n",
       "    }\n",
       "</style>\n",
       "<table border=\"1\" class=\"dataframe\">\n",
       "  <thead>\n",
       "    <tr style=\"text-align: right;\">\n",
       "      <th></th>\n",
       "      <th>index</th>\n",
       "      <th>id</th>\n",
       "      <th>name</th>\n",
       "      <th>location.address</th>\n",
       "      <th>location.crossStreet</th>\n",
       "      <th>location.lat</th>\n",
       "      <th>location.lng</th>\n",
       "      <th>location.postalCode</th>\n",
       "      <th>location.formattedAddress</th>\n",
       "      <th>Haversine</th>\n",
       "      <th>Venues</th>\n",
       "    </tr>\n",
       "  </thead>\n",
       "  <tbody>\n",
       "    <tr>\n",
       "      <td>0</td>\n",
       "      <td>0</td>\n",
       "      <td>4a0e0f85f964a520bf751fe3</td>\n",
       "      <td>Ace Hotel New York</td>\n",
       "      <td>20 W 29th St</td>\n",
       "      <td>at Broadway</td>\n",
       "      <td>40.745858</td>\n",
       "      <td>-73.988121</td>\n",
       "      <td>10001</td>\n",
       "      <td>['20 W 29th St (at Broadway)', 'New York, NY 1...</td>\n",
       "      <td>0.0</td>\n",
       "      <td>0</td>\n",
       "    </tr>\n",
       "    <tr>\n",
       "      <td>1</td>\n",
       "      <td>15</td>\n",
       "      <td>5bc65d8e1822230025fffcb1</td>\n",
       "      <td>Aliz Hotel</td>\n",
       "      <td>310 W 40th St</td>\n",
       "      <td>NaN</td>\n",
       "      <td>40.756207</td>\n",
       "      <td>-73.991576</td>\n",
       "      <td>10018</td>\n",
       "      <td>['310 W 40th St', 'New York, NY 10018', 'Unite...</td>\n",
       "      <td>0.0</td>\n",
       "      <td>0</td>\n",
       "    </tr>\n",
       "    <tr>\n",
       "      <td>2</td>\n",
       "      <td>20</td>\n",
       "      <td>5370c510498e722315932c51</td>\n",
       "      <td>Archer Hotel New York</td>\n",
       "      <td>45 W 38th St</td>\n",
       "      <td>Between 5th And 6th Ave</td>\n",
       "      <td>40.751934</td>\n",
       "      <td>-73.984825</td>\n",
       "      <td>10018</td>\n",
       "      <td>['45 W 38th St (Between 5th And 6th Ave)', 'Ne...</td>\n",
       "      <td>0.0</td>\n",
       "      <td>0</td>\n",
       "    </tr>\n",
       "    <tr>\n",
       "      <td>3</td>\n",
       "      <td>13</td>\n",
       "      <td>4ad46f88f964a520dde720e3</td>\n",
       "      <td>DoubleTree by Hilton Hotel New York City - Che...</td>\n",
       "      <td>128 W 29th St</td>\n",
       "      <td>at 7th Ave</td>\n",
       "      <td>40.746985</td>\n",
       "      <td>-73.991383</td>\n",
       "      <td>10001</td>\n",
       "      <td>['128 W 29th St (at 7th Ave)', 'New York, NY 1...</td>\n",
       "      <td>0.0</td>\n",
       "      <td>0</td>\n",
       "    </tr>\n",
       "    <tr>\n",
       "      <td>4</td>\n",
       "      <td>3</td>\n",
       "      <td>48636489f964a520e0501fe3</td>\n",
       "      <td>Gramercy Park Hotel</td>\n",
       "      <td>2 Lexington Ave</td>\n",
       "      <td>at E 21st St</td>\n",
       "      <td>40.738533</td>\n",
       "      <td>-73.985651</td>\n",
       "      <td>10010</td>\n",
       "      <td>['2 Lexington Ave (at E 21st St)', 'New York, ...</td>\n",
       "      <td>0.0</td>\n",
       "      <td>0</td>\n",
       "    </tr>\n",
       "  </tbody>\n",
       "</table>\n",
       "</div>"
      ],
      "text/plain": [
       "   index                        id  \\\n",
       "0      0  4a0e0f85f964a520bf751fe3   \n",
       "1     15  5bc65d8e1822230025fffcb1   \n",
       "2     20  5370c510498e722315932c51   \n",
       "3     13  4ad46f88f964a520dde720e3   \n",
       "4      3  48636489f964a520e0501fe3   \n",
       "\n",
       "                                                name location.address  \\\n",
       "0                                 Ace Hotel New York     20 W 29th St   \n",
       "1                                         Aliz Hotel    310 W 40th St   \n",
       "2                              Archer Hotel New York     45 W 38th St   \n",
       "3  DoubleTree by Hilton Hotel New York City - Che...    128 W 29th St   \n",
       "4                                Gramercy Park Hotel  2 Lexington Ave   \n",
       "\n",
       "      location.crossStreet  location.lat  location.lng  location.postalCode  \\\n",
       "0              at Broadway     40.745858    -73.988121                10001   \n",
       "1                      NaN     40.756207    -73.991576                10018   \n",
       "2  Between 5th And 6th Ave     40.751934    -73.984825                10018   \n",
       "3               at 7th Ave     40.746985    -73.991383                10001   \n",
       "4             at E 21st St     40.738533    -73.985651                10010   \n",
       "\n",
       "                           location.formattedAddress  Haversine  Venues  \n",
       "0  ['20 W 29th St (at Broadway)', 'New York, NY 1...        0.0       0  \n",
       "1  ['310 W 40th St', 'New York, NY 10018', 'Unite...        0.0       0  \n",
       "2  ['45 W 38th St (Between 5th And 6th Ave)', 'Ne...        0.0       0  \n",
       "3  ['128 W 29th St (at 7th Ave)', 'New York, NY 1...        0.0       0  \n",
       "4  ['2 Lexington Ave (at E 21st St)', 'New York, ...        0.0       0  "
      ]
     },
     "execution_count": 112,
     "metadata": {},
     "output_type": "execute_result"
    }
   ],
   "source": [
    " #hotels_dm\n",
    "hotelsCSV.head()"
   ]
  },
  {
   "cell_type": "code",
   "execution_count": 113,
   "metadata": {},
   "outputs": [],
   "source": [
    "# test haversine function\n",
    "haversineValue = haversine(hotelsCSV['location.lat'] [0], hotelsCSV ['location.lng'][0], df_POI['lat'] [0], df_POI['lng'] [0])"
   ]
  },
  {
   "cell_type": "code",
   "execution_count": 114,
   "metadata": {},
   "outputs": [
    {
     "name": "stdout",
     "output_type": "stream",
     "text": [
      "4.465716968805757\n"
     ]
    }
   ],
   "source": [
    "print (haversineValue)"
   ]
  },
  {
   "cell_type": "code",
   "execution_count": 115,
   "metadata": {},
   "outputs": [],
   "source": [
    "hotelsCH = hotelsCSV.copy()"
   ]
  },
  {
   "cell_type": "code",
   "execution_count": 118,
   "metadata": {},
   "outputs": [],
   "source": [
    "rowsHotelsCSV = len(hotelsCSV)\n",
    "rowsPOI = len(df_POI)"
   ]
  },
  {
   "cell_type": "markdown",
   "metadata": {},
   "source": [
    "#one hotel\n",
    "iCoords = 0\n",
    "haversineAcc = 0\n",
    "print(rowsPOI)\n",
    "\n",
    "while iCoords < rowsPOI:\n",
    "    POILat = df_POI['lat'] [iCoords]\n",
    "    POILng = df_POI['lat'] [iCoords] \n",
    "    POIName = df_POI['name'] [iCoords]\n",
    "    print (iCoords,  hotelName, POIName, POILat, POILng )\n",
    "    haversineAcc += haversine(hotelLat, hotelLng, POILat, POILng)\n",
    "    iCoords += 1"
   ]
  },
  {
   "cell_type": "code",
   "execution_count": 119,
   "metadata": {
    "collapsed": true,
    "jupyter": {
     "outputs_hidden": true,
     "source_hidden": true
    }
   },
   "outputs": [
    {
     "name": "stdout",
     "output_type": "stream",
     "text": [
      "5\n",
      "0 Ace Hotel New York Central Park 40.782 40.782\n",
      "1 Ace Hotel New York Times Square 40.759 40.759\n",
      "2 Ace Hotel New York Grand Central Terminal 40.752 40.752\n",
      "3 Ace Hotel New York Broadway 38.611 38.611\n",
      "4 Ace Hotel New York Rockefeller Center 40.068 40.068\n",
      "0 Aliz Hotel Central Park 40.782 40.782\n",
      "1 Aliz Hotel Times Square 40.759 40.759\n",
      "2 Aliz Hotel Grand Central Terminal 40.752 40.752\n",
      "3 Aliz Hotel Broadway 38.611 38.611\n",
      "4 Aliz Hotel Rockefeller Center 40.068 40.068\n",
      "0 Archer Hotel New York Central Park 40.782 40.782\n",
      "1 Archer Hotel New York Times Square 40.759 40.759\n",
      "2 Archer Hotel New York Grand Central Terminal 40.752 40.752\n",
      "3 Archer Hotel New York Broadway 38.611 38.611\n",
      "4 Archer Hotel New York Rockefeller Center 40.068 40.068\n",
      "0 DoubleTree by Hilton Hotel New York City - Chelsea Central Park 40.782 40.782\n",
      "1 DoubleTree by Hilton Hotel New York City - Chelsea Times Square 40.759 40.759\n",
      "2 DoubleTree by Hilton Hotel New York City - Chelsea Grand Central Terminal 40.752 40.752\n",
      "3 DoubleTree by Hilton Hotel New York City - Chelsea Broadway 38.611 38.611\n",
      "4 DoubleTree by Hilton Hotel New York City - Chelsea Rockefeller Center 40.068 40.068\n",
      "0 Gramercy Park Hotel Central Park 40.782 40.782\n",
      "1 Gramercy Park Hotel Times Square 40.759 40.759\n",
      "2 Gramercy Park Hotel Grand Central Terminal 40.752 40.752\n",
      "3 Gramercy Park Hotel Broadway 38.611 38.611\n",
      "4 Gramercy Park Hotel Rockefeller Center 40.068 40.068\n",
      "0 Hotel Edison Central Park 40.782 40.782\n",
      "1 Hotel Edison Times Square 40.759 40.759\n",
      "2 Hotel Edison Grand Central Terminal 40.752 40.752\n",
      "3 Hotel Edison Broadway 38.611 38.611\n",
      "4 Hotel Edison Rockefeller Center 40.068 40.068\n",
      "0 Hotel Henri Central Park 40.782 40.782\n",
      "1 Hotel Henri Times Square 40.759 40.759\n",
      "2 Hotel Henri Grand Central Terminal 40.752 40.752\n",
      "3 Hotel Henri Broadway 38.611 38.611\n",
      "4 Hotel Henri Rockefeller Center 40.068 40.068\n",
      "0 Hotel Indigo Central Park 40.782 40.782\n",
      "1 Hotel Indigo Times Square 40.759 40.759\n",
      "2 Hotel Indigo Grand Central Terminal 40.752 40.752\n",
      "3 Hotel Indigo Broadway 38.611 38.611\n",
      "4 Hotel Indigo Rockefeller Center 40.068 40.068\n",
      "0 Hotel Pennsylvania Central Park 40.782 40.782\n",
      "1 Hotel Pennsylvania Times Square 40.759 40.759\n",
      "2 Hotel Pennsylvania Grand Central Terminal 40.752 40.752\n",
      "3 Hotel Pennsylvania Broadway 38.611 38.611\n",
      "4 Hotel Pennsylvania Rockefeller Center 40.068 40.068\n",
      "0 Hotel Stanford Central Park 40.782 40.782\n",
      "1 Hotel Stanford Times Square 40.759 40.759\n",
      "2 Hotel Stanford Grand Central Terminal 40.752 40.752\n",
      "3 Hotel Stanford Broadway 38.611 38.611\n",
      "4 Hotel Stanford Rockefeller Center 40.068 40.068\n",
      "0 Kimpton Hotel Eventi Central Park 40.782 40.782\n",
      "1 Kimpton Hotel Eventi Times Square 40.759 40.759\n",
      "2 Kimpton Hotel Eventi Grand Central Terminal 40.752 40.752\n",
      "3 Kimpton Hotel Eventi Broadway 38.611 38.611\n",
      "4 Kimpton Hotel Eventi Rockefeller Center 40.068 40.068\n",
      "0 Kimpton Ink48 Hotel Central Park 40.782 40.782\n",
      "1 Kimpton Ink48 Hotel Times Square 40.759 40.759\n",
      "2 Kimpton Ink48 Hotel Grand Central Terminal 40.752 40.752\n",
      "3 Kimpton Ink48 Hotel Broadway 38.611 38.611\n",
      "4 Kimpton Ink48 Hotel Rockefeller Center 40.068 40.068\n",
      "0 Maritime Hotel Central Park 40.782 40.782\n",
      "1 Maritime Hotel Times Square 40.759 40.759\n",
      "2 Maritime Hotel Grand Central Terminal 40.752 40.752\n",
      "3 Maritime Hotel Broadway 38.611 38.611\n",
      "4 Maritime Hotel Rockefeller Center 40.068 40.068\n",
      "0 Mercer Hotel Central Park 40.782 40.782\n",
      "1 Mercer Hotel Times Square 40.759 40.759\n",
      "2 Mercer Hotel Grand Central Terminal 40.752 40.752\n",
      "3 Mercer Hotel Broadway 38.611 38.611\n",
      "4 Mercer Hotel Rockefeller Center 40.068 40.068\n",
      "0 Pod 39 Hotel Central Park 40.782 40.782\n",
      "1 Pod 39 Hotel Times Square 40.759 40.759\n",
      "2 Pod 39 Hotel Grand Central Terminal 40.752 40.752\n",
      "3 Pod 39 Hotel Broadway 38.611 38.611\n",
      "4 Pod 39 Hotel Rockefeller Center 40.068 40.068\n",
      "0 Sanctuary Hotel New York Central Park 40.782 40.782\n",
      "1 Sanctuary Hotel New York Times Square 40.759 40.759\n",
      "2 Sanctuary Hotel New York Grand Central Terminal 40.752 40.752\n",
      "3 Sanctuary Hotel New York Broadway 38.611 38.611\n",
      "4 Sanctuary Hotel New York Rockefeller Center 40.068 40.068\n",
      "0 Sheraton New York Times Square Hotel Central Park 40.782 40.782\n",
      "1 Sheraton New York Times Square Hotel Times Square 40.759 40.759\n",
      "2 Sheraton New York Times Square Hotel Grand Central Terminal 40.752 40.752\n",
      "3 Sheraton New York Times Square Hotel Broadway 38.611 38.611\n",
      "4 Sheraton New York Times Square Hotel Rockefeller Center 40.068 40.068\n",
      "0 Soho Grand Hotel Central Park 40.782 40.782\n",
      "1 Soho Grand Hotel Times Square 40.759 40.759\n",
      "2 Soho Grand Hotel Grand Central Terminal 40.752 40.752\n",
      "3 Soho Grand Hotel Broadway 38.611 38.611\n",
      "4 Soho Grand Hotel Rockefeller Center 40.068 40.068\n",
      "0 The Bowery Hotel Central Park 40.782 40.782\n",
      "1 The Bowery Hotel Times Square 40.759 40.759\n",
      "2 The Bowery Hotel Grand Central Terminal 40.752 40.752\n",
      "3 The Bowery Hotel Broadway 38.611 38.611\n",
      "4 The Bowery Hotel Rockefeller Center 40.068 40.068\n",
      "0 The GEM Hotel Central Park 40.782 40.782\n",
      "1 The GEM Hotel Times Square 40.759 40.759\n",
      "2 The GEM Hotel Grand Central Terminal 40.752 40.752\n",
      "3 The GEM Hotel Broadway 38.611 38.611\n",
      "4 The GEM Hotel Rockefeller Center 40.068 40.068\n",
      "0 The High Line Hotel Central Park 40.782 40.782\n",
      "1 The High Line Hotel Times Square 40.759 40.759\n",
      "2 The High Line Hotel Grand Central Terminal 40.752 40.752\n",
      "3 The High Line Hotel Broadway 38.611 38.611\n",
      "4 The High Line Hotel Rockefeller Center 40.068 40.068\n",
      "0 The Jane Hotel Central Park 40.782 40.782\n",
      "1 The Jane Hotel Times Square 40.759 40.759\n",
      "2 The Jane Hotel Grand Central Terminal 40.752 40.752\n",
      "3 The Jane Hotel Broadway 38.611 38.611\n",
      "4 The Jane Hotel Rockefeller Center 40.068 40.068\n",
      "0 The Lexington Hotel, Autograph Collection Central Park 40.782 40.782\n",
      "1 The Lexington Hotel, Autograph Collection Times Square 40.759 40.759\n",
      "2 The Lexington Hotel, Autograph Collection Grand Central Terminal 40.752 40.752\n",
      "3 The Lexington Hotel, Autograph Collection Broadway 38.611 38.611\n",
      "4 The Lexington Hotel, Autograph Collection Rockefeller Center 40.068 40.068\n",
      "0 The McKittrick Hotel Central Park 40.782 40.782\n",
      "1 The McKittrick Hotel Times Square 40.759 40.759\n",
      "2 The McKittrick Hotel Grand Central Terminal 40.752 40.752\n",
      "3 The McKittrick Hotel Broadway 38.611 38.611\n",
      "4 The McKittrick Hotel Rockefeller Center 40.068 40.068\n",
      "0 The NoMad Hotel Central Park 40.782 40.782\n",
      "1 The NoMad Hotel Times Square 40.759 40.759\n",
      "2 The NoMad Hotel Grand Central Terminal 40.752 40.752\n",
      "3 The NoMad Hotel Broadway 38.611 38.611\n",
      "4 The NoMad Hotel Rockefeller Center 40.068 40.068\n",
      "0 The Plaza Hotel Central Park 40.782 40.782\n",
      "1 The Plaza Hotel Times Square 40.759 40.759\n",
      "2 The Plaza Hotel Grand Central Terminal 40.752 40.752\n",
      "3 The Plaza Hotel Broadway 38.611 38.611\n",
      "4 The Plaza Hotel Rockefeller Center 40.068 40.068\n",
      "0 The Roosevelt Hotel Central Park 40.782 40.782\n",
      "1 The Roosevelt Hotel Times Square 40.759 40.759\n",
      "2 The Roosevelt Hotel Grand Central Terminal 40.752 40.752\n",
      "3 The Roosevelt Hotel Broadway 38.611 38.611\n",
      "4 The Roosevelt Hotel Rockefeller Center 40.068 40.068\n",
      "0 Walker Hotel Greenwich Village Central Park 40.782 40.782\n",
      "1 Walker Hotel Greenwich Village Times Square 40.759 40.759\n",
      "2 Walker Hotel Greenwich Village Grand Central Terminal 40.752 40.752\n",
      "3 Walker Hotel Greenwich Village Broadway 38.611 38.611\n",
      "4 Walker Hotel Greenwich Village Rockefeller Center 40.068 40.068\n"
     ]
    }
   ],
   "source": [
    "#all hotels\n",
    "iCoords = 0\n",
    "iHotels = 0\n",
    "haversineAcc = 0\n",
    "print(rowsPOI)\n",
    "\n",
    "while iHotels < rowsHotelsCSV:\n",
    "    iCoords = 0\n",
    "    haversineAcc = 0\n",
    "    hotelName = hotelsCSV ['name'][iHotels]\n",
    "    hotelLat = hotelsCSV ['location.lat'] [iHotels]\n",
    "    hotelLng = hotelsCSV ['location.lng'] [iHotels]\n",
    "\n",
    "\n",
    "    while iCoords < rowsPOI:\n",
    "        POILat = df_POI['lat'] [iCoords]\n",
    "        POILng = df_POI['lat'] [iCoords] \n",
    "        POIName = df_POI['name'] [iCoords]\n",
    "        print (iCoords,  hotelName, POIName, POILat, POILng )\n",
    "        haversineAcc += haversine(hotelLat, hotelLng, POILat, POILng)\n",
    "        iCoords += 1\n",
    "    \n",
    "    hotelsCH.loc[iHotels, 'Haversine'] =haversineAcc\n",
    "    iHotels += 1"
   ]
  },
  {
   "cell_type": "code",
   "execution_count": 120,
   "metadata": {},
   "outputs": [],
   "source": [
    "hotelsCH.to_csv('hotelsH.csv', index = False)"
   ]
  },
  {
   "cell_type": "markdown",
   "metadata": {},
   "source": [
    "## Venues"
   ]
  },
  {
   "cell_type": "code",
   "execution_count": 122,
   "metadata": {},
   "outputs": [],
   "source": [
    "hotelsCHV = hotelsCH.copy()"
   ]
  },
  {
   "cell_type": "code",
   "execution_count": 183,
   "metadata": {},
   "outputs": [],
   "source": [
    "#test one\n",
    "hotelLat = hotelsCHV['location.lat'][1]\n",
    "hoteLng = hotelsCHV['location.lng'][1]"
   ]
  },
  {
   "cell_type": "code",
   "execution_count": 184,
   "metadata": {},
   "outputs": [],
   "source": [
    "hotelLL = str(hotelLat)  +', '+ str(hotelLng)"
   ]
  },
  {
   "cell_type": "code",
   "execution_count": 185,
   "metadata": {},
   "outputs": [
    {
     "name": "stdout",
     "output_type": "stream",
     "text": [
      "40.75620715052, -73.9966\n"
     ]
    }
   ],
   "source": [
    "print(hotelLL)"
   ]
  },
  {
   "cell_type": "code",
   "execution_count": 186,
   "metadata": {},
   "outputs": [],
   "source": [
    "# create URL\n",
    "url = 'https://api.foursquare.com/v2/venues/search?&client_id={}&client_secret={}&v={}&ll={}'.format(\n",
    "    CLIENT_ID,\n",
    "    CLIENT_SECRET, \n",
    "    VERSION, \n",
    "    hotelLL)"
   ]
  },
  {
   "cell_type": "code",
   "execution_count": 187,
   "metadata": {},
   "outputs": [
    {
     "data": {
      "text/plain": [
       "'https://api.foursquare.com/v2/venues/search?&client_id=ISPOO44KLBPPIBVEULPPTWOPMH4AJB5KUVAGZEG23JFCB555&client_secret=LFOGHGUOYQZ2BOGSI0JXEOSNOMMFXLXU4BR5RQUPEWPOFVIX&v=20180605&ll=40.75620715052, -73.9966'"
      ]
     },
     "execution_count": 187,
     "metadata": {},
     "output_type": "execute_result"
    }
   ],
   "source": [
    "url"
   ]
  },
  {
   "cell_type": "code",
   "execution_count": 188,
   "metadata": {},
   "outputs": [],
   "source": [
    " results_venues = requests.get(url).json()[\"response\"] ['venues'] #['groups'][0]['items']"
   ]
  },
  {
   "cell_type": "code",
   "execution_count": 189,
   "metadata": {},
   "outputs": [
    {
     "data": {
      "text/plain": [
       "[{'id': '514ca6f57043482a0c84e7ab',\n",
       "  'name': 'Brooklyn Fare',\n",
       "  'location': {'address': '431 W 37th St',\n",
       "   'lat': 40.756094,\n",
       "   'lng': -73.99659,\n",
       "   'labeledLatLngs': [{'label': 'display',\n",
       "     'lat': 40.756094,\n",
       "     'lng': -73.99659}],\n",
       "   'distance': 12,\n",
       "   'postalCode': '10018',\n",
       "   'cc': 'US',\n",
       "   'city': 'New York',\n",
       "   'state': 'NY',\n",
       "   'country': 'United States',\n",
       "   'formattedAddress': ['431 W 37th St',\n",
       "    'New York, NY 10018',\n",
       "    'United States']},\n",
       "  'categories': [{'id': '52f2ab2ebcbc57f1066b8b46',\n",
       "    'name': 'Supermarket',\n",
       "    'pluralName': 'Supermarkets',\n",
       "    'shortName': 'Supermarket',\n",
       "    'icon': {'prefix': 'https://ss3.4sqi.net/img/categories_v2/shops/food_grocery_',\n",
       "     'suffix': '.png'},\n",
       "    'primary': True}],\n",
       "  'venuePage': {'id': '51345309'},\n",
       "  'referralId': 'v-1567349122',\n",
       "  'hasPerk': False},\n",
       " {'id': '57fdb285498e7602cf010163',\n",
       "  'name': '447 West 37th Street',\n",
       "  'location': {'address': '447 W 37th St',\n",
       "   'lat': 40.756374,\n",
       "   'lng': -73.996864,\n",
       "   'labeledLatLngs': [{'label': 'display',\n",
       "     'lat': 40.756374,\n",
       "     'lng': -73.996864}],\n",
       "   'distance': 28,\n",
       "   'postalCode': '10018',\n",
       "   'cc': 'US',\n",
       "   'city': 'New York',\n",
       "   'state': 'NY',\n",
       "   'country': 'United States',\n",
       "   'formattedAddress': ['447 W 37th St',\n",
       "    'New York, NY 10018',\n",
       "    'United States']},\n",
       "  'categories': [{'id': '4d954b06a243a5684965b473',\n",
       "    'name': 'Residential Building (Apartment / Condo)',\n",
       "    'pluralName': 'Residential Buildings (Apartments / Condos)',\n",
       "    'shortName': 'Residential',\n",
       "    'icon': {'prefix': 'https://ss3.4sqi.net/img/categories_v2/building/apartment_',\n",
       "     'suffix': '.png'},\n",
       "    'primary': True}],\n",
       "  'referralId': 'v-1567349122',\n",
       "  'hasPerk': False},\n",
       " {'id': '4f80482ce4b0cd6f617dd3d4',\n",
       "  'name': 'Mantena Apartments',\n",
       "  'location': {'address': '431 W 37th St',\n",
       "   'lat': 40.756,\n",
       "   'lng': -73.99632,\n",
       "   'labeledLatLngs': [{'label': 'display', 'lat': 40.756, 'lng': -73.99632}],\n",
       "   'distance': 33,\n",
       "   'postalCode': '10018',\n",
       "   'cc': 'US',\n",
       "   'city': 'New York',\n",
       "   'state': 'NY',\n",
       "   'country': 'United States',\n",
       "   'formattedAddress': ['431 W 37th St',\n",
       "    'New York, NY 10018',\n",
       "    'United States']},\n",
       "  'categories': [{'id': '4bf58dd8d48988d130941735',\n",
       "    'name': 'Building',\n",
       "    'pluralName': 'Buildings',\n",
       "    'shortName': 'Building',\n",
       "    'icon': {'prefix': 'https://ss3.4sqi.net/img/categories_v2/building/default_',\n",
       "     'suffix': '.png'},\n",
       "    'primary': True}],\n",
       "  'referralId': 'v-1567349122',\n",
       "  'hasPerk': False},\n",
       " {'id': '4cddef36aba88cfa8e473ed7',\n",
       "  'name': 'Duane Reade',\n",
       "  'location': {'address': '455 W 37th St',\n",
       "   'crossStreet': 'at 10th Ave.',\n",
       "   'lat': 40.75678955502021,\n",
       "   'lng': -73.9972235262394,\n",
       "   'labeledLatLngs': [{'label': 'display',\n",
       "     'lat': 40.75678955502021,\n",
       "     'lng': -73.9972235262394}],\n",
       "   'distance': 83,\n",
       "   'postalCode': '10018',\n",
       "   'cc': 'US',\n",
       "   'city': 'New York',\n",
       "   'state': 'NY',\n",
       "   'country': 'United States',\n",
       "   'formattedAddress': ['455 W 37th St (at 10th Ave.)',\n",
       "    'New York, NY 10018',\n",
       "    'United States']},\n",
       "  'categories': [{'id': '4bf58dd8d48988d10f951735',\n",
       "    'name': 'Pharmacy',\n",
       "    'pluralName': 'Pharmacies',\n",
       "    'shortName': 'Pharmacy',\n",
       "    'icon': {'prefix': 'https://ss3.4sqi.net/img/categories_v2/shops/pharmacy_',\n",
       "     'suffix': '.png'},\n",
       "    'primary': True}],\n",
       "  'referralId': 'v-1567349122',\n",
       "  'hasPerk': False},\n",
       " {'id': '533629bf498ed70d66886dd6',\n",
       "  'name': 'TITLE Boxing Club NYC - Midtown West',\n",
       "  'location': {'address': '455 W 37th St',\n",
       "   'lat': 40.75636043759353,\n",
       "   'lng': -73.99731271933179,\n",
       "   'labeledLatLngs': [{'label': 'display',\n",
       "     'lat': 40.75636043759353,\n",
       "     'lng': -73.99731271933179}],\n",
       "   'distance': 62,\n",
       "   'postalCode': '10018',\n",
       "   'cc': 'US',\n",
       "   'city': 'New York',\n",
       "   'state': 'NY',\n",
       "   'country': 'United States',\n",
       "   'formattedAddress': ['455 W 37th St',\n",
       "    'New York, NY 10018',\n",
       "    'United States']},\n",
       "  'categories': [{'id': '4bf58dd8d48988d175941735',\n",
       "    'name': 'Gym / Fitness Center',\n",
       "    'pluralName': 'Gyms or Fitness Centers',\n",
       "    'shortName': 'Gym / Fitness',\n",
       "    'icon': {'prefix': 'https://ss3.4sqi.net/img/categories_v2/building/gym_',\n",
       "     'suffix': '.png'},\n",
       "    'primary': True}],\n",
       "  'venuePage': {'id': '82513285'},\n",
       "  'referralId': 'v-1567349122',\n",
       "  'hasPerk': False},\n",
       " {'id': '4b7e2fcaf964a5207ee52fe3',\n",
       "  'name': \"Dunkin'\",\n",
       "  'location': {'address': '466 10th Ave',\n",
       "   'crossStreet': 'at W. 36th St.',\n",
       "   'lat': 40.7561144418356,\n",
       "   'lng': -73.99761117422236,\n",
       "   'labeledLatLngs': [{'label': 'display',\n",
       "     'lat': 40.7561144418356,\n",
       "     'lng': -73.99761117422236}],\n",
       "   'distance': 85,\n",
       "   'postalCode': '10018',\n",
       "   'cc': 'US',\n",
       "   'city': 'New York',\n",
       "   'state': 'NY',\n",
       "   'country': 'United States',\n",
       "   'formattedAddress': ['466 10th Ave (at W. 36th St.)',\n",
       "    'New York, NY 10018',\n",
       "    'United States']},\n",
       "  'categories': [{'id': '4bf58dd8d48988d148941735',\n",
       "    'name': 'Donut Shop',\n",
       "    'pluralName': 'Donut Shops',\n",
       "    'shortName': 'Donuts',\n",
       "    'icon': {'prefix': 'https://ss3.4sqi.net/img/categories_v2/food/donuts_',\n",
       "     'suffix': '.png'},\n",
       "    'primary': True}],\n",
       "  'delivery': {'id': '1169465',\n",
       "   'url': 'https://www.seamless.com/menu/dunkin-466-10th-ave-new-york/1169465?affiliate=1131&utm_source=foursquare-affiliate-network&utm_medium=affiliate&utm_campaign=1131&utm_content=1169465',\n",
       "   'provider': {'name': 'seamless',\n",
       "    'icon': {'prefix': 'https://fastly.4sqi.net/img/general/cap/',\n",
       "     'sizes': [40, 50],\n",
       "     'name': '/delivery_provider_seamless_20180129.png'}}},\n",
       "  'referralId': 'v-1567349122',\n",
       "  'hasPerk': False},\n",
       " {'id': '52bafd3b11d239f604ca52a5',\n",
       "  'name': 'MTA Subway - 34th St/Hudson Yards (7)',\n",
       "  'location': {'address': '34th St & Hudson Blvd',\n",
       "   'crossStreet': '11th Ave',\n",
       "   'lat': 40.75489708964503,\n",
       "   'lng': -74.0006899351716,\n",
       "   'labeledLatLngs': [{'label': 'display',\n",
       "     'lat': 40.75489708964503,\n",
       "     'lng': -74.0006899351716}],\n",
       "   'distance': 374,\n",
       "   'postalCode': '10001',\n",
       "   'cc': 'US',\n",
       "   'neighborhood': 'Hudson Yards',\n",
       "   'city': 'New York',\n",
       "   'state': 'NY',\n",
       "   'country': 'United States',\n",
       "   'formattedAddress': ['34th St & Hudson Blvd (11th Ave)',\n",
       "    'New York, NY 10001',\n",
       "    'United States']},\n",
       "  'categories': [{'id': '4bf58dd8d48988d1fd931735',\n",
       "    'name': 'Metro Station',\n",
       "    'pluralName': 'Metro Stations',\n",
       "    'shortName': 'Metro',\n",
       "    'icon': {'prefix': 'https://ss3.4sqi.net/img/categories_v2/travel/subway_',\n",
       "     'suffix': '.png'},\n",
       "    'primary': True}],\n",
       "  'referralId': 'v-1567349122',\n",
       "  'hasPerk': False},\n",
       " {'id': '4daf05e343a1f97d91988078',\n",
       "  'name': 'DiMenna Center for Classical Music',\n",
       "  'location': {'address': '450 W 37th St',\n",
       "   'crossStreet': 'btwn 9th Ave. & 10th Ave.',\n",
       "   'lat': 40.75632282156117,\n",
       "   'lng': -73.99719159820236,\n",
       "   'labeledLatLngs': [{'label': 'display',\n",
       "     'lat': 40.75632282156117,\n",
       "     'lng': -73.99719159820236}],\n",
       "   'distance': 51,\n",
       "   'postalCode': '10018',\n",
       "   'cc': 'US',\n",
       "   'city': 'New York',\n",
       "   'state': 'NY',\n",
       "   'country': 'United States',\n",
       "   'formattedAddress': ['450 W 37th St (btwn 9th Ave. & 10th Ave.)',\n",
       "    'New York, NY 10018',\n",
       "    'United States']},\n",
       "  'categories': [{'id': '4f04b10d2fb6e1c99f3db0be',\n",
       "    'name': 'Music School',\n",
       "    'pluralName': 'Music Schools',\n",
       "    'shortName': 'Music School',\n",
       "    'icon': {'prefix': 'https://ss3.4sqi.net/img/categories_v2/building/school_music_',\n",
       "     'suffix': '.png'},\n",
       "    'primary': True}],\n",
       "  'venuePage': {'id': '36193116'},\n",
       "  'referralId': 'v-1567349122',\n",
       "  'hasPerk': False},\n",
       " {'id': '4f5f09fce4b0e506030142e4',\n",
       "  'name': 'Enterprise Parking Systems',\n",
       "  'location': {'address': '450 W 38th St',\n",
       "   'crossStreet': 'btw 10th and 9th Aves',\n",
       "   'lat': 40.756709924876716,\n",
       "   'lng': -73.99583236656518,\n",
       "   'labeledLatLngs': [{'label': 'display',\n",
       "     'lat': 40.756709924876716,\n",
       "     'lng': -73.99583236656518}],\n",
       "   'distance': 85,\n",
       "   'postalCode': '10018',\n",
       "   'cc': 'US',\n",
       "   'city': 'New York',\n",
       "   'state': 'NY',\n",
       "   'country': 'United States',\n",
       "   'formattedAddress': ['450 W 38th St (btw 10th and 9th Aves)',\n",
       "    'New York, NY 10018',\n",
       "    'United States']},\n",
       "  'categories': [{'id': '4c38df4de52ce0d596b336e1',\n",
       "    'name': 'Parking',\n",
       "    'pluralName': 'Parking',\n",
       "    'shortName': 'Parking',\n",
       "    'icon': {'prefix': 'https://ss3.4sqi.net/img/categories_v2/building/parking_',\n",
       "     'suffix': '.png'},\n",
       "    'primary': True}],\n",
       "  'referralId': 'v-1567349122',\n",
       "  'hasPerk': False},\n",
       " {'id': '4eea70afaa1f7c781131129c',\n",
       "  'name': 'Odyssey Wine & Spirits',\n",
       "  'location': {'address': '490 10th Ave',\n",
       "   'crossStreet': '37th & 38th',\n",
       "   'lat': 40.75691333878634,\n",
       "   'lng': -73.99756465578261,\n",
       "   'labeledLatLngs': [{'label': 'display',\n",
       "     'lat': 40.75691333878634,\n",
       "     'lng': -73.99756465578261}],\n",
       "   'distance': 113,\n",
       "   'postalCode': '10018',\n",
       "   'cc': 'US',\n",
       "   'city': 'New York',\n",
       "   'state': 'NY',\n",
       "   'country': 'United States',\n",
       "   'formattedAddress': ['490 10th Ave (37th & 38th)',\n",
       "    'New York, NY 10018',\n",
       "    'United States']},\n",
       "  'categories': [{'id': '4bf58dd8d48988d119951735',\n",
       "    'name': 'Wine Shop',\n",
       "    'pluralName': 'Wine Shops',\n",
       "    'shortName': 'Wine Shop',\n",
       "    'icon': {'prefix': 'https://ss3.4sqi.net/img/categories_v2/shops/food_wineshop_',\n",
       "     'suffix': '.png'},\n",
       "    'primary': True}],\n",
       "  'referralId': 'v-1567349122',\n",
       "  'hasPerk': False},\n",
       " {'id': '56191b5c498ebea69f39dea9',\n",
       "  'name': '37th Food Market',\n",
       "  'location': {'lat': 40.756393657910436,\n",
       "   'lng': -73.9977911662111,\n",
       "   'labeledLatLngs': [{'label': 'display',\n",
       "     'lat': 40.756393657910436,\n",
       "     'lng': -73.9977911662111}],\n",
       "   'distance': 102,\n",
       "   'cc': 'US',\n",
       "   'city': 'New York',\n",
       "   'state': 'NY',\n",
       "   'country': 'United States',\n",
       "   'formattedAddress': ['New York, NY', 'United States']},\n",
       "  'categories': [{'id': '4bf58dd8d48988d146941735',\n",
       "    'name': 'Deli / Bodega',\n",
       "    'pluralName': 'Delis / Bodegas',\n",
       "    'shortName': 'Deli / Bodega',\n",
       "    'icon': {'prefix': 'https://ss3.4sqi.net/img/categories_v2/food/deli_',\n",
       "     'suffix': '.png'},\n",
       "    'primary': True}],\n",
       "  'referralId': 'v-1567349122',\n",
       "  'hasPerk': False},\n",
       " {'id': '52a75184498ede8d14db9882',\n",
       "  'name': 'Pura Dermatology',\n",
       "  'location': {'address': '446 W 38th St',\n",
       "   'lat': 40.756997206584124,\n",
       "   'lng': -73.99626009056766,\n",
       "   'labeledLatLngs': [{'label': 'display',\n",
       "     'lat': 40.756997206584124,\n",
       "     'lng': -73.99626009056766}],\n",
       "   'distance': 92,\n",
       "   'postalCode': '10018',\n",
       "   'cc': 'US',\n",
       "   'city': 'New York',\n",
       "   'state': 'NY',\n",
       "   'country': 'United States',\n",
       "   'formattedAddress': ['446 W 38th St',\n",
       "    'New York, NY 10018',\n",
       "    'United States']},\n",
       "  'categories': [{'id': '4bf58dd8d48988d177941735',\n",
       "    'name': \"Doctor's Office\",\n",
       "    'pluralName': \"Doctor's Offices\",\n",
       "    'shortName': \"Doctor's Office\",\n",
       "    'icon': {'prefix': 'https://ss3.4sqi.net/img/categories_v2/building/medical_doctorsoffice_',\n",
       "     'suffix': '.png'},\n",
       "    'primary': True}],\n",
       "  'referralId': 'v-1567349122',\n",
       "  'hasPerk': False},\n",
       " {'id': '50193f66e4b0d35e6dc80332',\n",
       "  'name': 'Helixpocalypse',\n",
       "  'location': {'lat': 40.75652605345297,\n",
       "   'lng': -73.99553968946574,\n",
       "   'labeledLatLngs': [{'label': 'display',\n",
       "     'lat': 40.75652605345297,\n",
       "     'lng': -73.99553968946574}],\n",
       "   'distance': 96,\n",
       "   'postalCode': '10018',\n",
       "   'cc': 'US',\n",
       "   'city': 'New York',\n",
       "   'state': 'NY',\n",
       "   'country': 'United States',\n",
       "   'formattedAddress': ['New York, NY 10018', 'United States']},\n",
       "  'categories': [{'id': '4d954b16a243a5684b65b473',\n",
       "    'name': 'Rest Area',\n",
       "    'pluralName': 'Rest Areas',\n",
       "    'shortName': 'Rest Areas',\n",
       "    'icon': {'prefix': 'https://ss3.4sqi.net/img/categories_v2/travel/restarea_',\n",
       "     'suffix': '.png'},\n",
       "    'primary': True}],\n",
       "  'referralId': 'v-1567349122',\n",
       "  'hasPerk': False},\n",
       " {'id': '4bf4692b706e20a1c051a998',\n",
       "  'name': 'The Secret Garden',\n",
       "  'location': {'address': '445 W 36th St',\n",
       "   'lat': 40.75645706903049,\n",
       "   'lng': -73.99753103267047,\n",
       "   'labeledLatLngs': [{'label': 'display',\n",
       "     'lat': 40.75645706903049,\n",
       "     'lng': -73.99753103267047}],\n",
       "   'distance': 83,\n",
       "   'postalCode': '10018',\n",
       "   'cc': 'US',\n",
       "   'city': 'New York',\n",
       "   'state': 'NY',\n",
       "   'country': 'United States',\n",
       "   'formattedAddress': ['445 W 36th St',\n",
       "    'New York, NY 10018',\n",
       "    'United States']},\n",
       "  'categories': [],\n",
       "  'referralId': 'v-1567349122',\n",
       "  'hasPerk': False},\n",
       " {'id': '4bbef63398f4952170ecd163',\n",
       "  'name': \"Jenny's Marketplace\",\n",
       "  'location': {'address': '455 W 37th St',\n",
       "   'crossStreet': 'at 10th Ave',\n",
       "   'lat': 40.756462392501504,\n",
       "   'lng': -73.99759055427626,\n",
       "   'labeledLatLngs': [{'label': 'display',\n",
       "     'lat': 40.756462392501504,\n",
       "     'lng': -73.99759055427626}],\n",
       "   'distance': 88,\n",
       "   'postalCode': '10018',\n",
       "   'cc': 'US',\n",
       "   'city': 'New York',\n",
       "   'state': 'NY',\n",
       "   'country': 'United States',\n",
       "   'formattedAddress': ['455 W 37th St (at 10th Ave)',\n",
       "    'New York, NY 10018',\n",
       "    'United States']},\n",
       "  'categories': [{'id': '4bf58dd8d48988d146941735',\n",
       "    'name': 'Deli / Bodega',\n",
       "    'pluralName': 'Delis / Bodegas',\n",
       "    'shortName': 'Deli / Bodega',\n",
       "    'icon': {'prefix': 'https://ss3.4sqi.net/img/categories_v2/food/deli_',\n",
       "     'suffix': '.png'},\n",
       "    'primary': True}],\n",
       "  'referralId': 'v-1567349122',\n",
       "  'hasPerk': False},\n",
       " {'id': '59fde002ee712077f2c481f8',\n",
       "  'name': 'Margay’s',\n",
       "  'location': {'address': '477 10th Ave',\n",
       "   'lat': 40.75624125926553,\n",
       "   'lng': -73.99784930772095,\n",
       "   'labeledLatLngs': [{'label': 'display',\n",
       "     'lat': 40.75624125926553,\n",
       "     'lng': -73.99784930772095}],\n",
       "   'distance': 105,\n",
       "   'postalCode': '10018',\n",
       "   'cc': 'US',\n",
       "   'city': 'New York',\n",
       "   'state': 'NY',\n",
       "   'country': 'United States',\n",
       "   'formattedAddress': ['477 10th Ave',\n",
       "    'New York, NY 10018',\n",
       "    'United States']},\n",
       "  'categories': [{'id': '4bf58dd8d48988d1e0931735',\n",
       "    'name': 'Coffee Shop',\n",
       "    'pluralName': 'Coffee Shops',\n",
       "    'shortName': 'Coffee Shop',\n",
       "    'icon': {'prefix': 'https://ss3.4sqi.net/img/categories_v2/food/coffeeshop_',\n",
       "     'suffix': '.png'},\n",
       "    'primary': True}],\n",
       "  'referralId': 'v-1567349122',\n",
       "  'hasPerk': False},\n",
       " {'id': '5854cfc203cf255eb3b9c8cb',\n",
       "  'name': \"Chef's Table At Brooklyn Fare\",\n",
       "  'location': {'address': '431 W 37th St',\n",
       "   'lat': 40.75602376620261,\n",
       "   'lng': -73.99636631297123,\n",
       "   'labeledLatLngs': [{'label': 'display',\n",
       "     'lat': 40.75602376620261,\n",
       "     'lng': -73.99636631297123}],\n",
       "   'distance': 28,\n",
       "   'postalCode': '10018',\n",
       "   'cc': 'US',\n",
       "   'city': 'New York',\n",
       "   'state': 'NY',\n",
       "   'country': 'United States',\n",
       "   'formattedAddress': ['431 W 37th St',\n",
       "    'New York, NY 10018',\n",
       "    'United States']},\n",
       "  'categories': [{'id': '4bf58dd8d48988d14e941735',\n",
       "    'name': 'American Restaurant',\n",
       "    'pluralName': 'American Restaurants',\n",
       "    'shortName': 'American',\n",
       "    'icon': {'prefix': 'https://ss3.4sqi.net/img/categories_v2/food/default_',\n",
       "     'suffix': '.png'},\n",
       "    'primary': True}],\n",
       "  'venuePage': {'id': '463205230'},\n",
       "  'referralId': 'v-1567349122',\n",
       "  'hasPerk': False},\n",
       " {'id': '5185c915498eba3809867cca',\n",
       "  'name': 'The Roof Terrace 455 W 37',\n",
       "  'location': {'address': '455 W 37th St',\n",
       "   'crossStreet': '10 Ave',\n",
       "   'lat': 40.756654794238464,\n",
       "   'lng': -73.99679654118377,\n",
       "   'labeledLatLngs': [{'label': 'display',\n",
       "     'lat': 40.756654794238464,\n",
       "     'lng': -73.99679654118377}],\n",
       "   'distance': 52,\n",
       "   'postalCode': '10018',\n",
       "   'cc': 'US',\n",
       "   'city': 'New York',\n",
       "   'state': 'NY',\n",
       "   'country': 'United States',\n",
       "   'formattedAddress': ['455 W 37th St (10 Ave)',\n",
       "    'New York, NY 10018',\n",
       "    'United States']},\n",
       "  'categories': [{'id': '4d954b06a243a5684965b473',\n",
       "    'name': 'Residential Building (Apartment / Condo)',\n",
       "    'pluralName': 'Residential Buildings (Apartments / Condos)',\n",
       "    'shortName': 'Residential',\n",
       "    'icon': {'prefix': 'https://ss3.4sqi.net/img/categories_v2/building/apartment_',\n",
       "     'suffix': '.png'},\n",
       "    'primary': True}],\n",
       "  'referralId': 'v-1567349122',\n",
       "  'hasPerk': False},\n",
       " {'id': '4a7ccf14f964a520b5ed1fe3',\n",
       "  'name': '455W37',\n",
       "  'location': {'address': '455 W 37th St',\n",
       "   'crossStreet': 'at 10th Avenue',\n",
       "   'lat': 40.756371074167916,\n",
       "   'lng': -73.99723988496011,\n",
       "   'labeledLatLngs': [{'label': 'display',\n",
       "     'lat': 40.756371074167916,\n",
       "     'lng': -73.99723988496011}],\n",
       "   'distance': 56,\n",
       "   'postalCode': '10018',\n",
       "   'cc': 'US',\n",
       "   'city': 'New York',\n",
       "   'state': 'NY',\n",
       "   'country': 'United States',\n",
       "   'formattedAddress': ['455 W 37th St (at 10th Avenue)',\n",
       "    'New York, NY 10018',\n",
       "    'United States']},\n",
       "  'categories': [{'id': '4d954b06a243a5684965b473',\n",
       "    'name': 'Residential Building (Apartment / Condo)',\n",
       "    'pluralName': 'Residential Buildings (Apartments / Condos)',\n",
       "    'shortName': 'Residential',\n",
       "    'icon': {'prefix': 'https://ss3.4sqi.net/img/categories_v2/building/apartment_',\n",
       "     'suffix': '.png'},\n",
       "    'primary': True}],\n",
       "  'referralId': 'v-1567349122',\n",
       "  'hasPerk': False},\n",
       " {'id': '4c02a9ae187ec9283e87b47b',\n",
       "  'name': 'Hudson Yards 455W37 Fitness Center',\n",
       "  'location': {'address': '455 W 37th St',\n",
       "   'crossStreet': 'at 10th Ave.',\n",
       "   'lat': 40.75645239298416,\n",
       "   'lng': -73.997097440626,\n",
       "   'labeledLatLngs': [{'label': 'display',\n",
       "     'lat': 40.75645239298416,\n",
       "     'lng': -73.997097440626}],\n",
       "   'distance': 50,\n",
       "   'postalCode': '10018',\n",
       "   'cc': 'US',\n",
       "   'city': 'New York',\n",
       "   'state': 'NY',\n",
       "   'country': 'United States',\n",
       "   'formattedAddress': ['455 W 37th St (at 10th Ave.)',\n",
       "    'New York, NY 10018',\n",
       "    'United States']},\n",
       "  'categories': [{'id': '4bf58dd8d48988d176941735',\n",
       "    'name': 'Gym',\n",
       "    'pluralName': 'Gyms',\n",
       "    'shortName': 'Gym',\n",
       "    'icon': {'prefix': 'https://ss3.4sqi.net/img/categories_v2/building/gym_',\n",
       "     'suffix': '.png'},\n",
       "    'primary': True}],\n",
       "  'referralId': 'v-1567349122',\n",
       "  'hasPerk': False},\n",
       " {'id': '4e84f0854901fcdc4b867f6c',\n",
       "  'name': 'Star of India',\n",
       "  'location': {'crossStreet': 'South Craig',\n",
       "   'lat': 40.755567201149326,\n",
       "   'lng': -73.99625703450303,\n",
       "   'labeledLatLngs': [{'label': 'display',\n",
       "     'lat': 40.755567201149326,\n",
       "     'lng': -73.99625703450303}],\n",
       "   'distance': 76,\n",
       "   'postalCode': '15213',\n",
       "   'cc': 'US',\n",
       "   'city': 'Pittsburgh',\n",
       "   'state': 'NY',\n",
       "   'country': 'United States',\n",
       "   'formattedAddress': ['South Craig',\n",
       "    'Pittsburgh, NY 15213',\n",
       "    'United States']},\n",
       "  'categories': [{'id': '4bf58dd8d48988d10f941735',\n",
       "    'name': 'Indian Restaurant',\n",
       "    'pluralName': 'Indian Restaurants',\n",
       "    'shortName': 'Indian',\n",
       "    'icon': {'prefix': 'https://ss3.4sqi.net/img/categories_v2/food/indian_',\n",
       "     'suffix': '.png'},\n",
       "    'primary': True}],\n",
       "  'referralId': 'v-1567349122',\n",
       "  'hasPerk': False},\n",
       " {'id': '5af21ca19fca56002cfb1c37',\n",
       "  'name': \"Sabina's Loft\",\n",
       "  'location': {'address': '447 W 36th St',\n",
       "   'lat': 40.756002251053374,\n",
       "   'lng': -73.99760842323302,\n",
       "   'labeledLatLngs': [{'label': 'display',\n",
       "     'lat': 40.756002251053374,\n",
       "     'lng': -73.99760842323302}],\n",
       "   'distance': 88,\n",
       "   'postalCode': '10018',\n",
       "   'cc': 'US',\n",
       "   'city': 'New York',\n",
       "   'state': 'NY',\n",
       "   'country': 'United States',\n",
       "   'formattedAddress': ['447 W 36th St',\n",
       "    'New York, NY 10018',\n",
       "    'United States']},\n",
       "  'categories': [{'id': '4bf58dd8d48988d171941735',\n",
       "    'name': 'Event Space',\n",
       "    'pluralName': 'Event Spaces',\n",
       "    'shortName': 'Event Space',\n",
       "    'icon': {'prefix': 'https://ss3.4sqi.net/img/categories_v2/building/eventspace_',\n",
       "     'suffix': '.png'},\n",
       "    'primary': True}],\n",
       "  'venuePage': {'id': '498159495'},\n",
       "  'referralId': 'v-1567349122',\n",
       "  'hasPerk': False},\n",
       " {'id': '51d48b59498ee198d09650ce',\n",
       "  'name': \"Enoch's Bike Shop\",\n",
       "  'location': {'lat': 40.756316067763684,\n",
       "   'lng': -73.99782944543126,\n",
       "   'labeledLatLngs': [{'label': 'display',\n",
       "     'lat': 40.756316067763684,\n",
       "     'lng': -73.99782944543126}],\n",
       "   'distance': 104,\n",
       "   'cc': 'US',\n",
       "   'city': 'New York',\n",
       "   'state': 'NY',\n",
       "   'country': 'United States',\n",
       "   'formattedAddress': ['New York, NY', 'United States']},\n",
       "  'categories': [{'id': '4bf58dd8d48988d115951735',\n",
       "    'name': 'Bike Shop',\n",
       "    'pluralName': 'Bike Shops',\n",
       "    'shortName': 'Bike Shop',\n",
       "    'icon': {'prefix': 'https://ss3.4sqi.net/img/categories_v2/shops/bikeshop_',\n",
       "     'suffix': '.png'},\n",
       "    'primary': True}],\n",
       "  'referralId': 'v-1567349122',\n",
       "  'hasPerk': False},\n",
       " {'id': '4c24eadc136d20a1c1a3e261',\n",
       "  'name': 'New Perspectives Theatre  Company',\n",
       "  'location': {'address': '456 W 37th St',\n",
       "   'crossStreet': '10th Ave',\n",
       "   'lat': 40.75631486006052,\n",
       "   'lng': -73.99746376218316,\n",
       "   'labeledLatLngs': [{'label': 'display',\n",
       "     'lat': 40.75631486006052,\n",
       "     'lng': -73.99746376218316}],\n",
       "   'distance': 73,\n",
       "   'postalCode': '10018',\n",
       "   'cc': 'US',\n",
       "   'city': 'New York',\n",
       "   'state': 'NY',\n",
       "   'country': 'United States',\n",
       "   'formattedAddress': ['456 W 37th St (10th Ave)',\n",
       "    'New York, NY 10018',\n",
       "    'United States']},\n",
       "  'categories': [{'id': '4bf58dd8d48988d137941735',\n",
       "    'name': 'Theater',\n",
       "    'pluralName': 'Theaters',\n",
       "    'shortName': 'Theater',\n",
       "    'icon': {'prefix': 'https://ss3.4sqi.net/img/categories_v2/arts_entertainment/performingarts_theater_',\n",
       "     'suffix': '.png'},\n",
       "    'primary': True}],\n",
       "  'referralId': 'v-1567349122',\n",
       "  'hasPerk': False},\n",
       " {'id': '4a0b4df9f964a520e8741fe3',\n",
       "  'name': 'Baryshnikov Arts Center',\n",
       "  'location': {'address': '450 W 37th St',\n",
       "   'crossStreet': 'Near 10th Ave.',\n",
       "   'lat': 40.7562834864242,\n",
       "   'lng': -73.99718114055341,\n",
       "   'labeledLatLngs': [{'label': 'display',\n",
       "     'lat': 40.7562834864242,\n",
       "     'lng': -73.99718114055341}],\n",
       "   'distance': 49,\n",
       "   'postalCode': '10018',\n",
       "   'cc': 'US',\n",
       "   'city': 'New York',\n",
       "   'state': 'NY',\n",
       "   'country': 'United States',\n",
       "   'formattedAddress': ['450 W 37th St (Near 10th Ave.)',\n",
       "    'New York, NY 10018',\n",
       "    'United States']},\n",
       "  'categories': [{'id': '4bf58dd8d48988d137941735',\n",
       "    'name': 'Theater',\n",
       "    'pluralName': 'Theaters',\n",
       "    'shortName': 'Theater',\n",
       "    'icon': {'prefix': 'https://ss3.4sqi.net/img/categories_v2/arts_entertainment/performingarts_theater_',\n",
       "     'suffix': '.png'},\n",
       "    'primary': True}],\n",
       "  'venuePage': {'id': '49992729'},\n",
       "  'referralId': 'v-1567349122',\n",
       "  'hasPerk': False},\n",
       " {'id': '5876bf2103cf25255145f193',\n",
       "  'name': 'VOLVO SERVICE MANHATTAN',\n",
       "  'location': {'address': '441 W 37th St',\n",
       "   'lat': 40.7562683,\n",
       "   'lng': -73.99662719999998,\n",
       "   'labeledLatLngs': [{'label': 'display',\n",
       "     'lat': 40.7562683,\n",
       "     'lng': -73.99662719999998}],\n",
       "   'distance': 7,\n",
       "   'postalCode': '10018',\n",
       "   'cc': 'US',\n",
       "   'city': 'New York',\n",
       "   'state': 'NY',\n",
       "   'country': 'United States',\n",
       "   'formattedAddress': ['441 W 37th St',\n",
       "    'New York, NY 10018',\n",
       "    'United States']},\n",
       "  'categories': [{'id': '4bf58dd8d48988d124951735',\n",
       "    'name': 'Automotive Shop',\n",
       "    'pluralName': 'Automotive Shops',\n",
       "    'shortName': 'Automotive',\n",
       "    'icon': {'prefix': 'https://ss3.4sqi.net/img/categories_v2/shops/automotive_',\n",
       "     'suffix': '.png'},\n",
       "    'primary': True}],\n",
       "  'referralId': 'v-1567349122',\n",
       "  'hasPerk': False},\n",
       " {'id': '4af45b02f964a5209df121e3',\n",
       "  'name': 'Design Matters',\n",
       "  'location': {'address': '448 W 37th St',\n",
       "   'crossStreet': '10th Avenue',\n",
       "   'lat': 40.7554688,\n",
       "   'lng': -73.99709648000001,\n",
       "   'labeledLatLngs': [{'label': 'display',\n",
       "     'lat': 40.7554688,\n",
       "     'lng': -73.99709648000001}],\n",
       "   'distance': 92,\n",
       "   'postalCode': '10018',\n",
       "   'cc': 'US',\n",
       "   'city': 'New York',\n",
       "   'state': 'NY',\n",
       "   'country': 'United States',\n",
       "   'formattedAddress': ['448 W 37th St (10th Avenue)',\n",
       "    'New York, NY 10018',\n",
       "    'United States']},\n",
       "  'categories': [{'id': '4bf58dd8d48988d1ff941735',\n",
       "    'name': 'Miscellaneous Shop',\n",
       "    'pluralName': 'Miscellaneous Shops',\n",
       "    'shortName': 'Shop',\n",
       "    'icon': {'prefix': 'https://ss3.4sqi.net/img/categories_v2/shops/default_',\n",
       "     'suffix': '.png'},\n",
       "    'primary': True}],\n",
       "  'referralId': 'v-1567349122',\n",
       "  'hasPerk': False},\n",
       " {'id': '4c12757282a3c9b61cc0f9f8',\n",
       "  'name': 'Heskin Contemporary',\n",
       "  'location': {'address': '443 W 37th St',\n",
       "   'crossStreet': '9th and 10th Avenues',\n",
       "   'lat': 40.756085405616304,\n",
       "   'lng': -73.9969514219417,\n",
       "   'labeledLatLngs': [{'label': 'display',\n",
       "     'lat': 40.756085405616304,\n",
       "     'lng': -73.9969514219417}],\n",
       "   'distance': 32,\n",
       "   'postalCode': '10018',\n",
       "   'cc': 'US',\n",
       "   'city': 'New York',\n",
       "   'state': 'NY',\n",
       "   'country': 'United States',\n",
       "   'formattedAddress': ['443 W 37th St (9th and 10th Avenues)',\n",
       "    'New York, NY 10018',\n",
       "    'United States']},\n",
       "  'categories': [{'id': '4bf58dd8d48988d1e2931735',\n",
       "    'name': 'Art Gallery',\n",
       "    'pluralName': 'Art Galleries',\n",
       "    'shortName': 'Art Gallery',\n",
       "    'icon': {'prefix': 'https://ss3.4sqi.net/img/categories_v2/arts_entertainment/artgallery_',\n",
       "     'suffix': '.png'},\n",
       "    'primary': True}],\n",
       "  'venuePage': {'id': '58162405'},\n",
       "  'referralId': 'v-1567349122',\n",
       "  'hasPerk': False},\n",
       " {'id': '4c71acf00e23b1f75af51bdc',\n",
       "  'name': 'Metropolitan Community Church',\n",
       "  'location': {'address': '446 W 36th St',\n",
       "   'crossStreet': '10th Ave',\n",
       "   'lat': 40.75548481008103,\n",
       "   'lng': -73.99739500387648,\n",
       "   'labeledLatLngs': [{'label': 'display',\n",
       "     'lat': 40.75548481008103,\n",
       "     'lng': -73.99739500387648}],\n",
       "   'distance': 104,\n",
       "   'postalCode': '10018',\n",
       "   'cc': 'US',\n",
       "   'city': 'New York',\n",
       "   'state': 'NY',\n",
       "   'country': 'United States',\n",
       "   'formattedAddress': ['446 W 36th St (10th Ave)',\n",
       "    'New York, NY 10018',\n",
       "    'United States']},\n",
       "  'categories': [{'id': '4bf58dd8d48988d132941735',\n",
       "    'name': 'Church',\n",
       "    'pluralName': 'Churches',\n",
       "    'shortName': 'Church',\n",
       "    'icon': {'prefix': 'https://ss3.4sqi.net/img/categories_v2/building/religious_church_',\n",
       "     'suffix': '.png'},\n",
       "    'primary': True}],\n",
       "  'referralId': 'v-1567349122',\n",
       "  'hasPerk': False},\n",
       " {'id': '5b423416f96b2c0039165ce2',\n",
       "  'name': 'Health SOS Organic Market And Juice Bar',\n",
       "  'location': {'address': '483 10th Ave',\n",
       "   'crossStreet': '37th St.',\n",
       "   'lat': 40.756394,\n",
       "   'lng': -73.997974,\n",
       "   'labeledLatLngs': [{'label': 'display',\n",
       "     'lat': 40.756394,\n",
       "     'lng': -73.997974}],\n",
       "   'distance': 117,\n",
       "   'postalCode': '10018',\n",
       "   'cc': 'US',\n",
       "   'city': 'New York',\n",
       "   'state': 'NY',\n",
       "   'country': 'United States',\n",
       "   'formattedAddress': ['483 10th Ave (37th St.)',\n",
       "    'New York, NY 10018',\n",
       "    'United States']},\n",
       "  'categories': [{'id': '50be8ee891d4fa8dcc7199a7',\n",
       "    'name': 'Market',\n",
       "    'pluralName': 'Markets',\n",
       "    'shortName': 'Market',\n",
       "    'icon': {'prefix': 'https://ss3.4sqi.net/img/categories_v2/shops/market_',\n",
       "     'suffix': '.png'},\n",
       "    'primary': True}],\n",
       "  'referralId': 'v-1567349122',\n",
       "  'hasPerk': False}]"
      ]
     },
     "execution_count": 189,
     "metadata": {},
     "output_type": "execute_result"
    }
   ],
   "source": [
    "results_venues\n"
   ]
  },
  {
   "cell_type": "code",
   "execution_count": 190,
   "metadata": {},
   "outputs": [],
   "source": [
    "#create hotels dataframe fromjson\n",
    "venues = json_normalize(results_venues)"
   ]
  },
  {
   "cell_type": "code",
   "execution_count": 191,
   "metadata": {},
   "outputs": [
    {
     "data": {
      "text/plain": [
       "(30, 25)"
      ]
     },
     "execution_count": 191,
     "metadata": {},
     "output_type": "execute_result"
    }
   ],
   "source": [
    "venues.shape"
   ]
  },
  {
   "cell_type": "code",
   "execution_count": 181,
   "metadata": {},
   "outputs": [],
   "source": [
    "hotelsCH.loc[1, 'Venues'] = len(venues)"
   ]
  },
  {
   "cell_type": "code",
   "execution_count": 171,
   "metadata": {},
   "outputs": [
    {
     "data": {
      "text/html": [
       "<div>\n",
       "<style scoped>\n",
       "    .dataframe tbody tr th:only-of-type {\n",
       "        vertical-align: middle;\n",
       "    }\n",
       "\n",
       "    .dataframe tbody tr th {\n",
       "        vertical-align: top;\n",
       "    }\n",
       "\n",
       "    .dataframe thead th {\n",
       "        text-align: right;\n",
       "    }\n",
       "</style>\n",
       "<table border=\"1\" class=\"dataframe\">\n",
       "  <thead>\n",
       "    <tr style=\"text-align: right;\">\n",
       "      <th></th>\n",
       "      <th>index</th>\n",
       "      <th>id</th>\n",
       "      <th>name</th>\n",
       "      <th>location.address</th>\n",
       "      <th>location.crossStreet</th>\n",
       "      <th>location.lat</th>\n",
       "      <th>location.lng</th>\n",
       "      <th>location.postalCode</th>\n",
       "      <th>location.formattedAddress</th>\n",
       "      <th>Haversine</th>\n",
       "      <th>Venues</th>\n",
       "    </tr>\n",
       "  </thead>\n",
       "  <tbody>\n",
       "    <tr>\n",
       "      <td>0</td>\n",
       "      <td>0</td>\n",
       "      <td>4a0e0f85f964a520bf751fe3</td>\n",
       "      <td>Ace Hotel New York</td>\n",
       "      <td>20 W 29th St</td>\n",
       "      <td>at Broadway</td>\n",
       "      <td>40.745858</td>\n",
       "      <td>-73.988121</td>\n",
       "      <td>10001</td>\n",
       "      <td>['20 W 29th St (at Broadway)', 'New York, NY 1...</td>\n",
       "      <td>44133.723555</td>\n",
       "      <td>30</td>\n",
       "    </tr>\n",
       "    <tr>\n",
       "      <td>1</td>\n",
       "      <td>15</td>\n",
       "      <td>5bc65d8e1822230025fffcb1</td>\n",
       "      <td>Aliz Hotel</td>\n",
       "      <td>310 W 40th St</td>\n",
       "      <td>NaN</td>\n",
       "      <td>40.756207</td>\n",
       "      <td>-73.991576</td>\n",
       "      <td>10018</td>\n",
       "      <td>['310 W 40th St', 'New York, NY 10018', 'Unite...</td>\n",
       "      <td>44130.697937</td>\n",
       "      <td>30</td>\n",
       "    </tr>\n",
       "    <tr>\n",
       "      <td>2</td>\n",
       "      <td>20</td>\n",
       "      <td>5370c510498e722315932c51</td>\n",
       "      <td>Archer Hotel New York</td>\n",
       "      <td>45 W 38th St</td>\n",
       "      <td>Between 5th And 6th Ave</td>\n",
       "      <td>40.751934</td>\n",
       "      <td>-73.984825</td>\n",
       "      <td>10018</td>\n",
       "      <td>['45 W 38th St (Between 5th And 6th Ave)', 'Ne...</td>\n",
       "      <td>44130.357399</td>\n",
       "      <td>30</td>\n",
       "    </tr>\n",
       "    <tr>\n",
       "      <td>3</td>\n",
       "      <td>13</td>\n",
       "      <td>4ad46f88f964a520dde720e3</td>\n",
       "      <td>DoubleTree by Hilton Hotel New York City - Che...</td>\n",
       "      <td>128 W 29th St</td>\n",
       "      <td>at 7th Ave</td>\n",
       "      <td>40.746985</td>\n",
       "      <td>-73.991383</td>\n",
       "      <td>10001</td>\n",
       "      <td>['128 W 29th St (at 7th Ave)', 'New York, NY 1...</td>\n",
       "      <td>44134.255495</td>\n",
       "      <td>30</td>\n",
       "    </tr>\n",
       "    <tr>\n",
       "      <td>4</td>\n",
       "      <td>3</td>\n",
       "      <td>48636489f964a520e0501fe3</td>\n",
       "      <td>Gramercy Park Hotel</td>\n",
       "      <td>2 Lexington Ave</td>\n",
       "      <td>at E 21st St</td>\n",
       "      <td>40.738533</td>\n",
       "      <td>-73.985651</td>\n",
       "      <td>10010</td>\n",
       "      <td>['2 Lexington Ave (at E 21st St)', 'New York, ...</td>\n",
       "      <td>44135.857490</td>\n",
       "      <td>30</td>\n",
       "    </tr>\n",
       "    <tr>\n",
       "      <td>5</td>\n",
       "      <td>18</td>\n",
       "      <td>4b4bbe3ff964a52016a626e3</td>\n",
       "      <td>Hotel Edison</td>\n",
       "      <td>228 W 47th St</td>\n",
       "      <td>at 8th Ave</td>\n",
       "      <td>40.759666</td>\n",
       "      <td>-73.986088</td>\n",
       "      <td>10036</td>\n",
       "      <td>['228 W 47th St (at 8th Ave)', 'New York, NY 1...</td>\n",
       "      <td>44127.703445</td>\n",
       "      <td>30</td>\n",
       "    </tr>\n",
       "    <tr>\n",
       "      <td>6</td>\n",
       "      <td>7</td>\n",
       "      <td>58d05f529465dd1d5f6500b3</td>\n",
       "      <td>Hotel Henri</td>\n",
       "      <td>37 W 24th St</td>\n",
       "      <td>NaN</td>\n",
       "      <td>40.743290</td>\n",
       "      <td>-73.991005</td>\n",
       "      <td>10010</td>\n",
       "      <td>['37 W 24th St', 'New York, NY 10010', 'United...</td>\n",
       "      <td>44135.591353</td>\n",
       "      <td>30</td>\n",
       "    </tr>\n",
       "    <tr>\n",
       "      <td>7</td>\n",
       "      <td>12</td>\n",
       "      <td>54c0151d498e4c827296cd41</td>\n",
       "      <td>Hotel Indigo</td>\n",
       "      <td>171 Ludlow St</td>\n",
       "      <td>btw Houston &amp; Stanton</td>\n",
       "      <td>40.721762</td>\n",
       "      <td>-73.988092</td>\n",
       "      <td>10002</td>\n",
       "      <td>['171 Ludlow St (btw Houston &amp; Stanton)', 'New...</td>\n",
       "      <td>44143.161038</td>\n",
       "      <td>30</td>\n",
       "    </tr>\n",
       "    <tr>\n",
       "      <td>8</td>\n",
       "      <td>2</td>\n",
       "      <td>4aaeb93ef964a5200d6320e3</td>\n",
       "      <td>Hotel Pennsylvania</td>\n",
       "      <td>401 7th Ave</td>\n",
       "      <td>at W 33rd St</td>\n",
       "      <td>40.749932</td>\n",
       "      <td>-73.990991</td>\n",
       "      <td>10001</td>\n",
       "      <td>['401 7th Ave (at W 33rd St)', 'New York, NY 1...</td>\n",
       "      <td>44132.983517</td>\n",
       "      <td>30</td>\n",
       "    </tr>\n",
       "    <tr>\n",
       "      <td>9</td>\n",
       "      <td>24</td>\n",
       "      <td>4b061faff964a520ece822e3</td>\n",
       "      <td>Hotel Stanford</td>\n",
       "      <td>43 W 32nd St</td>\n",
       "      <td>at Broadway</td>\n",
       "      <td>40.748127</td>\n",
       "      <td>-73.987805</td>\n",
       "      <td>10001</td>\n",
       "      <td>['43 W 32nd St (at Broadway)', 'New York, NY 1...</td>\n",
       "      <td>44132.739782</td>\n",
       "      <td>30</td>\n",
       "    </tr>\n",
       "    <tr>\n",
       "      <td>10</td>\n",
       "      <td>5</td>\n",
       "      <td>4bec60a5f909ef3b2808a9c6</td>\n",
       "      <td>Kimpton Hotel Eventi</td>\n",
       "      <td>851 Avenue of the Americas</td>\n",
       "      <td>btwn W 29th &amp; W 30th St</td>\n",
       "      <td>40.747224</td>\n",
       "      <td>-73.989960</td>\n",
       "      <td>10001</td>\n",
       "      <td>['851 Avenue of the Americas (btwn W 29th &amp; W ...</td>\n",
       "      <td>44133.737061</td>\n",
       "      <td>30</td>\n",
       "    </tr>\n",
       "    <tr>\n",
       "      <td>11</td>\n",
       "      <td>28</td>\n",
       "      <td>4a9f2ec3f964a520d73c20e3</td>\n",
       "      <td>Kimpton Ink48 Hotel</td>\n",
       "      <td>653 11th Ave</td>\n",
       "      <td>at W 48th St</td>\n",
       "      <td>40.764505</td>\n",
       "      <td>-73.995987</td>\n",
       "      <td>10036</td>\n",
       "      <td>['653 11th Ave (at W 48th St)', 'New York, NY ...</td>\n",
       "      <td>44128.761742</td>\n",
       "      <td>30</td>\n",
       "    </tr>\n",
       "    <tr>\n",
       "      <td>12</td>\n",
       "      <td>21</td>\n",
       "      <td>44ac05cef964a5200c351fe3</td>\n",
       "      <td>Maritime Hotel</td>\n",
       "      <td>363 W 16th St</td>\n",
       "      <td>at 9th Ave.</td>\n",
       "      <td>40.742471</td>\n",
       "      <td>-74.004079</td>\n",
       "      <td>10011</td>\n",
       "      <td>['363 W 16th St (at 9th Ave.)', 'New York, NY ...</td>\n",
       "      <td>44139.816146</td>\n",
       "      <td>30</td>\n",
       "    </tr>\n",
       "    <tr>\n",
       "      <td>13</td>\n",
       "      <td>27</td>\n",
       "      <td>4a32f2a7f964a520cf9a1fe3</td>\n",
       "      <td>Mercer Hotel</td>\n",
       "      <td>147 Mercer St</td>\n",
       "      <td>at Prince St</td>\n",
       "      <td>40.724828</td>\n",
       "      <td>-73.998553</td>\n",
       "      <td>10012</td>\n",
       "      <td>['147 Mercer St (at Prince St)', 'New York, NY...</td>\n",
       "      <td>44145.083262</td>\n",
       "      <td>30</td>\n",
       "    </tr>\n",
       "    <tr>\n",
       "      <td>14</td>\n",
       "      <td>14</td>\n",
       "      <td>4fe0634b7beb303528d17f94</td>\n",
       "      <td>Pod 39 Hotel</td>\n",
       "      <td>145 E 39th St</td>\n",
       "      <td>btw Lexington &amp; 3rd Ave</td>\n",
       "      <td>40.749334</td>\n",
       "      <td>-73.976608</td>\n",
       "      <td>10016</td>\n",
       "      <td>['145 E 39th St (btw Lexington &amp; 3rd Ave)', 'N...</td>\n",
       "      <td>44128.923224</td>\n",
       "      <td>30</td>\n",
       "    </tr>\n",
       "    <tr>\n",
       "      <td>15</td>\n",
       "      <td>19</td>\n",
       "      <td>4d7ad1263fbf6dcbb60b6423</td>\n",
       "      <td>Sanctuary Hotel New York</td>\n",
       "      <td>132 W 47th St</td>\n",
       "      <td>btwn 6th &amp; 7th Ave.</td>\n",
       "      <td>40.758404</td>\n",
       "      <td>-73.983292</td>\n",
       "      <td>10036</td>\n",
       "      <td>['132 W 47th St (btwn 6th &amp; 7th Ave.)', 'New Y...</td>\n",
       "      <td>44127.363648</td>\n",
       "      <td>30</td>\n",
       "    </tr>\n",
       "    <tr>\n",
       "      <td>16</td>\n",
       "      <td>9</td>\n",
       "      <td>4a50f449f964a5204fb01fe3</td>\n",
       "      <td>Sheraton New York Times Square Hotel</td>\n",
       "      <td>811 7th Ave # 53</td>\n",
       "      <td>at W 53rd St</td>\n",
       "      <td>40.762797</td>\n",
       "      <td>-73.982048</td>\n",
       "      <td>10019</td>\n",
       "      <td>['811 7th Ave # 53 (at W 53rd St)', 'New York,...</td>\n",
       "      <td>44125.270176</td>\n",
       "      <td>30</td>\n",
       "    </tr>\n",
       "    <tr>\n",
       "      <td>17</td>\n",
       "      <td>16</td>\n",
       "      <td>3fd66200f964a52053eb1ee3</td>\n",
       "      <td>Soho Grand Hotel</td>\n",
       "      <td>54 Watts Street</td>\n",
       "      <td>Between Grand Street &amp; Canal Street</td>\n",
       "      <td>40.723911</td>\n",
       "      <td>-74.005224</td>\n",
       "      <td>10013</td>\n",
       "      <td>['54 Watts Street (Between Grand Street &amp; Cana...</td>\n",
       "      <td>44147.434918</td>\n",
       "      <td>30</td>\n",
       "    </tr>\n",
       "    <tr>\n",
       "      <td>18</td>\n",
       "      <td>22</td>\n",
       "      <td>4ab04eb9f964a520fe6620e3</td>\n",
       "      <td>The Bowery Hotel</td>\n",
       "      <td>335 Bowery</td>\n",
       "      <td>btwn E 2nd &amp; E 3rd St</td>\n",
       "      <td>40.726145</td>\n",
       "      <td>-73.991627</td>\n",
       "      <td>10003</td>\n",
       "      <td>['335 Bowery (btwn E 2nd &amp; E 3rd St)', 'New Yo...</td>\n",
       "      <td>44142.498686</td>\n",
       "      <td>30</td>\n",
       "    </tr>\n",
       "    <tr>\n",
       "      <td>19</td>\n",
       "      <td>29</td>\n",
       "      <td>4aff3ad3f964a520273622e3</td>\n",
       "      <td>The GEM Hotel</td>\n",
       "      <td>300 W 22nd St,reet</td>\n",
       "      <td>at 8th Ave</td>\n",
       "      <td>40.744683</td>\n",
       "      <td>-73.999475</td>\n",
       "      <td>10011</td>\n",
       "      <td>['300 W 22nd St,reet (at 8th Ave)', 'New York,...</td>\n",
       "      <td>44137.574364</td>\n",
       "      <td>30</td>\n",
       "    </tr>\n",
       "    <tr>\n",
       "      <td>20</td>\n",
       "      <td>6</td>\n",
       "      <td>515a1b3ee4b0f84f522c4b7f</td>\n",
       "      <td>The High Line Hotel</td>\n",
       "      <td>180 10th Ave</td>\n",
       "      <td>at W 20th St</td>\n",
       "      <td>40.745924</td>\n",
       "      <td>-74.005389</td>\n",
       "      <td>10011</td>\n",
       "      <td>['180 10th Ave (at W 20th St)', 'New York, NY ...</td>\n",
       "      <td>44138.853169</td>\n",
       "      <td>30</td>\n",
       "    </tr>\n",
       "    <tr>\n",
       "      <td>21</td>\n",
       "      <td>23</td>\n",
       "      <td>49f9ea10f964a520936d1fe3</td>\n",
       "      <td>The Jane Hotel</td>\n",
       "      <td>113 Jane St</td>\n",
       "      <td>at West St</td>\n",
       "      <td>40.738158</td>\n",
       "      <td>-74.009512</td>\n",
       "      <td>10014</td>\n",
       "      <td>['113 Jane St (at West St)', 'New York, NY 100...</td>\n",
       "      <td>44143.128923</td>\n",
       "      <td>30</td>\n",
       "    </tr>\n",
       "    <tr>\n",
       "      <td>22</td>\n",
       "      <td>26</td>\n",
       "      <td>4b047a60f964a5207e5422e3</td>\n",
       "      <td>The Lexington Hotel, Autograph Collection</td>\n",
       "      <td>511 Lexington Avenue At 48th Street</td>\n",
       "      <td>at 48th St.</td>\n",
       "      <td>40.754946</td>\n",
       "      <td>-73.973015</td>\n",
       "      <td>10017</td>\n",
       "      <td>['511 Lexington Avenue At 48th Street (at 48th...</td>\n",
       "      <td>44125.650682</td>\n",
       "      <td>30</td>\n",
       "    </tr>\n",
       "    <tr>\n",
       "      <td>23</td>\n",
       "      <td>8</td>\n",
       "      <td>4cdeb1d2c4f6a35de46bcb6c</td>\n",
       "      <td>The McKittrick Hotel</td>\n",
       "      <td>530 W 27th St</td>\n",
       "      <td>btwn 10th &amp; 11th Ave</td>\n",
       "      <td>40.750947</td>\n",
       "      <td>-74.004009</td>\n",
       "      <td>10001</td>\n",
       "      <td>['530 W 27th St (btwn 10th &amp; 11th Ave)', 'New ...</td>\n",
       "      <td>44136.471760</td>\n",
       "      <td>30</td>\n",
       "    </tr>\n",
       "    <tr>\n",
       "      <td>24</td>\n",
       "      <td>25</td>\n",
       "      <td>4ae6f117f964a520a6a721e3</td>\n",
       "      <td>The NoMad Hotel</td>\n",
       "      <td>1170 Broadway</td>\n",
       "      <td>at W 28th St</td>\n",
       "      <td>40.744981</td>\n",
       "      <td>-73.988819</td>\n",
       "      <td>10001</td>\n",
       "      <td>['1170 Broadway (at W 28th St)', 'New York, NY...</td>\n",
       "      <td>44134.275576</td>\n",
       "      <td>30</td>\n",
       "    </tr>\n",
       "    <tr>\n",
       "      <td>25</td>\n",
       "      <td>4</td>\n",
       "      <td>49d18dfdf964a5208f5b1fe3</td>\n",
       "      <td>The Plaza Hotel</td>\n",
       "      <td>768 5th Ave</td>\n",
       "      <td>at Central Park S</td>\n",
       "      <td>40.764519</td>\n",
       "      <td>-73.974488</td>\n",
       "      <td>10019</td>\n",
       "      <td>['768 5th Ave (at Central Park S)', 'New York,...</td>\n",
       "      <td>44122.338313</td>\n",
       "      <td>30</td>\n",
       "    </tr>\n",
       "    <tr>\n",
       "      <td>26</td>\n",
       "      <td>17</td>\n",
       "      <td>43b042a4f964a520962c1fe3</td>\n",
       "      <td>The Roosevelt Hotel</td>\n",
       "      <td>45 E 45th St</td>\n",
       "      <td>at Madison Ave</td>\n",
       "      <td>40.754665</td>\n",
       "      <td>-73.977237</td>\n",
       "      <td>10017</td>\n",
       "      <td>['45 E 45th St (at Madison Ave)', 'New York, N...</td>\n",
       "      <td>44127.021559</td>\n",
       "      <td>30</td>\n",
       "    </tr>\n",
       "    <tr>\n",
       "      <td>27</td>\n",
       "      <td>11</td>\n",
       "      <td>571558a2498e2f199298d02b</td>\n",
       "      <td>Walker Hotel Greenwich Village</td>\n",
       "      <td>52 West 13th Street</td>\n",
       "      <td>btwn 5th &amp; 6th Ave</td>\n",
       "      <td>40.736180</td>\n",
       "      <td>-73.996600</td>\n",
       "      <td>10011</td>\n",
       "      <td>['52 West 13th Street (btwn 5th &amp; 6th Ave)', '...</td>\n",
       "      <td>44140.049347</td>\n",
       "      <td>30</td>\n",
       "    </tr>\n",
       "  </tbody>\n",
       "</table>\n",
       "</div>"
      ],
      "text/plain": [
       "    index                        id  \\\n",
       "0       0  4a0e0f85f964a520bf751fe3   \n",
       "1      15  5bc65d8e1822230025fffcb1   \n",
       "2      20  5370c510498e722315932c51   \n",
       "3      13  4ad46f88f964a520dde720e3   \n",
       "4       3  48636489f964a520e0501fe3   \n",
       "5      18  4b4bbe3ff964a52016a626e3   \n",
       "6       7  58d05f529465dd1d5f6500b3   \n",
       "7      12  54c0151d498e4c827296cd41   \n",
       "8       2  4aaeb93ef964a5200d6320e3   \n",
       "9      24  4b061faff964a520ece822e3   \n",
       "10      5  4bec60a5f909ef3b2808a9c6   \n",
       "11     28  4a9f2ec3f964a520d73c20e3   \n",
       "12     21  44ac05cef964a5200c351fe3   \n",
       "13     27  4a32f2a7f964a520cf9a1fe3   \n",
       "14     14  4fe0634b7beb303528d17f94   \n",
       "15     19  4d7ad1263fbf6dcbb60b6423   \n",
       "16      9  4a50f449f964a5204fb01fe3   \n",
       "17     16  3fd66200f964a52053eb1ee3   \n",
       "18     22  4ab04eb9f964a520fe6620e3   \n",
       "19     29  4aff3ad3f964a520273622e3   \n",
       "20      6  515a1b3ee4b0f84f522c4b7f   \n",
       "21     23  49f9ea10f964a520936d1fe3   \n",
       "22     26  4b047a60f964a5207e5422e3   \n",
       "23      8  4cdeb1d2c4f6a35de46bcb6c   \n",
       "24     25  4ae6f117f964a520a6a721e3   \n",
       "25      4  49d18dfdf964a5208f5b1fe3   \n",
       "26     17  43b042a4f964a520962c1fe3   \n",
       "27     11  571558a2498e2f199298d02b   \n",
       "\n",
       "                                                 name  \\\n",
       "0                                  Ace Hotel New York   \n",
       "1                                          Aliz Hotel   \n",
       "2                               Archer Hotel New York   \n",
       "3   DoubleTree by Hilton Hotel New York City - Che...   \n",
       "4                                 Gramercy Park Hotel   \n",
       "5                                        Hotel Edison   \n",
       "6                                         Hotel Henri   \n",
       "7                                        Hotel Indigo   \n",
       "8                                  Hotel Pennsylvania   \n",
       "9                                      Hotel Stanford   \n",
       "10                               Kimpton Hotel Eventi   \n",
       "11                                Kimpton Ink48 Hotel   \n",
       "12                                     Maritime Hotel   \n",
       "13                                       Mercer Hotel   \n",
       "14                                       Pod 39 Hotel   \n",
       "15                           Sanctuary Hotel New York   \n",
       "16               Sheraton New York Times Square Hotel   \n",
       "17                                   Soho Grand Hotel   \n",
       "18                                   The Bowery Hotel   \n",
       "19                                      The GEM Hotel   \n",
       "20                                The High Line Hotel   \n",
       "21                                     The Jane Hotel   \n",
       "22          The Lexington Hotel, Autograph Collection   \n",
       "23                               The McKittrick Hotel   \n",
       "24                                    The NoMad Hotel   \n",
       "25                                    The Plaza Hotel   \n",
       "26                                The Roosevelt Hotel   \n",
       "27                     Walker Hotel Greenwich Village   \n",
       "\n",
       "                       location.address                 location.crossStreet  \\\n",
       "0                          20 W 29th St                          at Broadway   \n",
       "1                         310 W 40th St                                  NaN   \n",
       "2                          45 W 38th St              Between 5th And 6th Ave   \n",
       "3                         128 W 29th St                           at 7th Ave   \n",
       "4                       2 Lexington Ave                         at E 21st St   \n",
       "5                         228 W 47th St                           at 8th Ave   \n",
       "6                          37 W 24th St                                  NaN   \n",
       "7                         171 Ludlow St                btw Houston & Stanton   \n",
       "8                           401 7th Ave                         at W 33rd St   \n",
       "9                          43 W 32nd St                          at Broadway   \n",
       "10           851 Avenue of the Americas              btwn W 29th & W 30th St   \n",
       "11                         653 11th Ave                         at W 48th St   \n",
       "12                        363 W 16th St                          at 9th Ave.   \n",
       "13                        147 Mercer St                         at Prince St   \n",
       "14                        145 E 39th St              btw Lexington & 3rd Ave   \n",
       "15                        132 W 47th St                  btwn 6th & 7th Ave.   \n",
       "16                     811 7th Ave # 53                         at W 53rd St   \n",
       "17                      54 Watts Street  Between Grand Street & Canal Street   \n",
       "18                           335 Bowery                btwn E 2nd & E 3rd St   \n",
       "19                   300 W 22nd St,reet                           at 8th Ave   \n",
       "20                         180 10th Ave                         at W 20th St   \n",
       "21                          113 Jane St                           at West St   \n",
       "22  511 Lexington Avenue At 48th Street                          at 48th St.   \n",
       "23                        530 W 27th St                 btwn 10th & 11th Ave   \n",
       "24                        1170 Broadway                         at W 28th St   \n",
       "25                          768 5th Ave                    at Central Park S   \n",
       "26                         45 E 45th St                       at Madison Ave   \n",
       "27                  52 West 13th Street                   btwn 5th & 6th Ave   \n",
       "\n",
       "    location.lat  location.lng  location.postalCode  \\\n",
       "0      40.745858    -73.988121                10001   \n",
       "1      40.756207    -73.991576                10018   \n",
       "2      40.751934    -73.984825                10018   \n",
       "3      40.746985    -73.991383                10001   \n",
       "4      40.738533    -73.985651                10010   \n",
       "5      40.759666    -73.986088                10036   \n",
       "6      40.743290    -73.991005                10010   \n",
       "7      40.721762    -73.988092                10002   \n",
       "8      40.749932    -73.990991                10001   \n",
       "9      40.748127    -73.987805                10001   \n",
       "10     40.747224    -73.989960                10001   \n",
       "11     40.764505    -73.995987                10036   \n",
       "12     40.742471    -74.004079                10011   \n",
       "13     40.724828    -73.998553                10012   \n",
       "14     40.749334    -73.976608                10016   \n",
       "15     40.758404    -73.983292                10036   \n",
       "16     40.762797    -73.982048                10019   \n",
       "17     40.723911    -74.005224                10013   \n",
       "18     40.726145    -73.991627                10003   \n",
       "19     40.744683    -73.999475                10011   \n",
       "20     40.745924    -74.005389                10011   \n",
       "21     40.738158    -74.009512                10014   \n",
       "22     40.754946    -73.973015                10017   \n",
       "23     40.750947    -74.004009                10001   \n",
       "24     40.744981    -73.988819                10001   \n",
       "25     40.764519    -73.974488                10019   \n",
       "26     40.754665    -73.977237                10017   \n",
       "27     40.736180    -73.996600                10011   \n",
       "\n",
       "                            location.formattedAddress     Haversine  Venues  \n",
       "0   ['20 W 29th St (at Broadway)', 'New York, NY 1...  44133.723555      30  \n",
       "1   ['310 W 40th St', 'New York, NY 10018', 'Unite...  44130.697937      30  \n",
       "2   ['45 W 38th St (Between 5th And 6th Ave)', 'Ne...  44130.357399      30  \n",
       "3   ['128 W 29th St (at 7th Ave)', 'New York, NY 1...  44134.255495      30  \n",
       "4   ['2 Lexington Ave (at E 21st St)', 'New York, ...  44135.857490      30  \n",
       "5   ['228 W 47th St (at 8th Ave)', 'New York, NY 1...  44127.703445      30  \n",
       "6   ['37 W 24th St', 'New York, NY 10010', 'United...  44135.591353      30  \n",
       "7   ['171 Ludlow St (btw Houston & Stanton)', 'New...  44143.161038      30  \n",
       "8   ['401 7th Ave (at W 33rd St)', 'New York, NY 1...  44132.983517      30  \n",
       "9   ['43 W 32nd St (at Broadway)', 'New York, NY 1...  44132.739782      30  \n",
       "10  ['851 Avenue of the Americas (btwn W 29th & W ...  44133.737061      30  \n",
       "11  ['653 11th Ave (at W 48th St)', 'New York, NY ...  44128.761742      30  \n",
       "12  ['363 W 16th St (at 9th Ave.)', 'New York, NY ...  44139.816146      30  \n",
       "13  ['147 Mercer St (at Prince St)', 'New York, NY...  44145.083262      30  \n",
       "14  ['145 E 39th St (btw Lexington & 3rd Ave)', 'N...  44128.923224      30  \n",
       "15  ['132 W 47th St (btwn 6th & 7th Ave.)', 'New Y...  44127.363648      30  \n",
       "16  ['811 7th Ave # 53 (at W 53rd St)', 'New York,...  44125.270176      30  \n",
       "17  ['54 Watts Street (Between Grand Street & Cana...  44147.434918      30  \n",
       "18  ['335 Bowery (btwn E 2nd & E 3rd St)', 'New Yo...  44142.498686      30  \n",
       "19  ['300 W 22nd St,reet (at 8th Ave)', 'New York,...  44137.574364      30  \n",
       "20  ['180 10th Ave (at W 20th St)', 'New York, NY ...  44138.853169      30  \n",
       "21  ['113 Jane St (at West St)', 'New York, NY 100...  44143.128923      30  \n",
       "22  ['511 Lexington Avenue At 48th Street (at 48th...  44125.650682      30  \n",
       "23  ['530 W 27th St (btwn 10th & 11th Ave)', 'New ...  44136.471760      30  \n",
       "24  ['1170 Broadway (at W 28th St)', 'New York, NY...  44134.275576      30  \n",
       "25  ['768 5th Ave (at Central Park S)', 'New York,...  44122.338313      30  \n",
       "26  ['45 E 45th St (at Madison Ave)', 'New York, N...  44127.021559      30  \n",
       "27  ['52 West 13th Street (btwn 5th & 6th Ave)', '...  44140.049347      30  "
      ]
     },
     "execution_count": 171,
     "metadata": {},
     "output_type": "execute_result"
    }
   ],
   "source": [
    "hotelsCH"
   ]
  },
  {
   "cell_type": "code",
   "execution_count": 152,
   "metadata": {},
   "outputs": [
    {
     "name": "stdout",
     "output_type": "stream",
     "text": [
      "5\n",
      "0 40.74585807964396, -73.98812139191362 https://api.foursquare.com/v2/venues/search?&client_id=ISPOO44KLBPPIBVEULPPTWOPMH4AJB5KUVAGZEG23JFCB555&client_secret=LFOGHGUOYQZ2BOGSI0JXEOSNOMMFXLXU4BR5RQUPEWPOFVIX&v=20180605&ll=40.74585807964396, -73.98812139191362\n",
      "1 40.75620715052, -73.99157595205548 https://api.foursquare.com/v2/venues/search?&client_id=ISPOO44KLBPPIBVEULPPTWOPMH4AJB5KUVAGZEG23JFCB555&client_secret=LFOGHGUOYQZ2BOGSI0JXEOSNOMMFXLXU4BR5RQUPEWPOFVIX&v=20180605&ll=40.75620715052, -73.99157595205548\n",
      "2 40.751934399999996, -73.9848251 https://api.foursquare.com/v2/venues/search?&client_id=ISPOO44KLBPPIBVEULPPTWOPMH4AJB5KUVAGZEG23JFCB555&client_secret=LFOGHGUOYQZ2BOGSI0JXEOSNOMMFXLXU4BR5RQUPEWPOFVIX&v=20180605&ll=40.751934399999996, -73.9848251\n",
      "3 40.7469851, -73.9913827 https://api.foursquare.com/v2/venues/search?&client_id=ISPOO44KLBPPIBVEULPPTWOPMH4AJB5KUVAGZEG23JFCB555&client_secret=LFOGHGUOYQZ2BOGSI0JXEOSNOMMFXLXU4BR5RQUPEWPOFVIX&v=20180605&ll=40.7469851, -73.9913827\n",
      "4 40.73853317862742, -73.98565145559883 https://api.foursquare.com/v2/venues/search?&client_id=ISPOO44KLBPPIBVEULPPTWOPMH4AJB5KUVAGZEG23JFCB555&client_secret=LFOGHGUOYQZ2BOGSI0JXEOSNOMMFXLXU4BR5RQUPEWPOFVIX&v=20180605&ll=40.73853317862742, -73.98565145559883\n",
      "5 40.759666390389064, -73.98608770066558 https://api.foursquare.com/v2/venues/search?&client_id=ISPOO44KLBPPIBVEULPPTWOPMH4AJB5KUVAGZEG23JFCB555&client_secret=LFOGHGUOYQZ2BOGSI0JXEOSNOMMFXLXU4BR5RQUPEWPOFVIX&v=20180605&ll=40.759666390389064, -73.98608770066558\n",
      "6 40.7432901, -73.9910053 https://api.foursquare.com/v2/venues/search?&client_id=ISPOO44KLBPPIBVEULPPTWOPMH4AJB5KUVAGZEG23JFCB555&client_secret=LFOGHGUOYQZ2BOGSI0JXEOSNOMMFXLXU4BR5RQUPEWPOFVIX&v=20180605&ll=40.7432901, -73.9910053\n",
      "7 40.72176221543275, -73.9880921645 https://api.foursquare.com/v2/venues/search?&client_id=ISPOO44KLBPPIBVEULPPTWOPMH4AJB5KUVAGZEG23JFCB555&client_secret=LFOGHGUOYQZ2BOGSI0JXEOSNOMMFXLXU4BR5RQUPEWPOFVIX&v=20180605&ll=40.72176221543275, -73.9880921645\n",
      "8 40.7499318, -73.99099149999998 https://api.foursquare.com/v2/venues/search?&client_id=ISPOO44KLBPPIBVEULPPTWOPMH4AJB5KUVAGZEG23JFCB555&client_secret=LFOGHGUOYQZ2BOGSI0JXEOSNOMMFXLXU4BR5RQUPEWPOFVIX&v=20180605&ll=40.7499318, -73.99099149999998\n",
      "9 40.74812683800529, -73.98780526611334 https://api.foursquare.com/v2/venues/search?&client_id=ISPOO44KLBPPIBVEULPPTWOPMH4AJB5KUVAGZEG23JFCB555&client_secret=LFOGHGUOYQZ2BOGSI0JXEOSNOMMFXLXU4BR5RQUPEWPOFVIX&v=20180605&ll=40.74812683800529, -73.98780526611334\n",
      "10 40.747223999999996, -73.98996 https://api.foursquare.com/v2/venues/search?&client_id=ISPOO44KLBPPIBVEULPPTWOPMH4AJB5KUVAGZEG23JFCB555&client_secret=LFOGHGUOYQZ2BOGSI0JXEOSNOMMFXLXU4BR5RQUPEWPOFVIX&v=20180605&ll=40.747223999999996, -73.98996\n",
      "11 40.764505, -73.995987 https://api.foursquare.com/v2/venues/search?&client_id=ISPOO44KLBPPIBVEULPPTWOPMH4AJB5KUVAGZEG23JFCB555&client_secret=LFOGHGUOYQZ2BOGSI0JXEOSNOMMFXLXU4BR5RQUPEWPOFVIX&v=20180605&ll=40.764505, -73.995987\n",
      "12 40.742470623299496, -74.00407936429643 https://api.foursquare.com/v2/venues/search?&client_id=ISPOO44KLBPPIBVEULPPTWOPMH4AJB5KUVAGZEG23JFCB555&client_secret=LFOGHGUOYQZ2BOGSI0JXEOSNOMMFXLXU4BR5RQUPEWPOFVIX&v=20180605&ll=40.742470623299496, -74.00407936429643\n",
      "13 40.72482768273196, -73.99855256080626 https://api.foursquare.com/v2/venues/search?&client_id=ISPOO44KLBPPIBVEULPPTWOPMH4AJB5KUVAGZEG23JFCB555&client_secret=LFOGHGUOYQZ2BOGSI0JXEOSNOMMFXLXU4BR5RQUPEWPOFVIX&v=20180605&ll=40.72482768273196, -73.99855256080626\n",
      "14 40.74933415345284, -73.97660833694302 https://api.foursquare.com/v2/venues/search?&client_id=ISPOO44KLBPPIBVEULPPTWOPMH4AJB5KUVAGZEG23JFCB555&client_secret=LFOGHGUOYQZ2BOGSI0JXEOSNOMMFXLXU4BR5RQUPEWPOFVIX&v=20180605&ll=40.74933415345284, -73.97660833694302\n",
      "15 40.758404, -73.983292 https://api.foursquare.com/v2/venues/search?&client_id=ISPOO44KLBPPIBVEULPPTWOPMH4AJB5KUVAGZEG23JFCB555&client_secret=LFOGHGUOYQZ2BOGSI0JXEOSNOMMFXLXU4BR5RQUPEWPOFVIX&v=20180605&ll=40.758404, -73.983292\n",
      "16 40.762797047076475, -73.98204769539466 https://api.foursquare.com/v2/venues/search?&client_id=ISPOO44KLBPPIBVEULPPTWOPMH4AJB5KUVAGZEG23JFCB555&client_secret=LFOGHGUOYQZ2BOGSI0JXEOSNOMMFXLXU4BR5RQUPEWPOFVIX&v=20180605&ll=40.762797047076475, -73.98204769539466\n",
      "17 40.72391073, -74.00522352 https://api.foursquare.com/v2/venues/search?&client_id=ISPOO44KLBPPIBVEULPPTWOPMH4AJB5KUVAGZEG23JFCB555&client_secret=LFOGHGUOYQZ2BOGSI0JXEOSNOMMFXLXU4BR5RQUPEWPOFVIX&v=20180605&ll=40.72391073, -74.00522352\n",
      "18 40.72614466252136, -73.99162708611642 https://api.foursquare.com/v2/venues/search?&client_id=ISPOO44KLBPPIBVEULPPTWOPMH4AJB5KUVAGZEG23JFCB555&client_secret=LFOGHGUOYQZ2BOGSI0JXEOSNOMMFXLXU4BR5RQUPEWPOFVIX&v=20180605&ll=40.72614466252136, -73.99162708611642\n",
      "19 40.7446826, -73.99947540000001 https://api.foursquare.com/v2/venues/search?&client_id=ISPOO44KLBPPIBVEULPPTWOPMH4AJB5KUVAGZEG23JFCB555&client_secret=LFOGHGUOYQZ2BOGSI0JXEOSNOMMFXLXU4BR5RQUPEWPOFVIX&v=20180605&ll=40.7446826, -73.99947540000001\n",
      "20 40.74592369192379, -74.00538872501843 https://api.foursquare.com/v2/venues/search?&client_id=ISPOO44KLBPPIBVEULPPTWOPMH4AJB5KUVAGZEG23JFCB555&client_secret=LFOGHGUOYQZ2BOGSI0JXEOSNOMMFXLXU4BR5RQUPEWPOFVIX&v=20180605&ll=40.74592369192379, -74.00538872501843\n",
      "21 40.738158218794645, -74.00951197805692 https://api.foursquare.com/v2/venues/search?&client_id=ISPOO44KLBPPIBVEULPPTWOPMH4AJB5KUVAGZEG23JFCB555&client_secret=LFOGHGUOYQZ2BOGSI0JXEOSNOMMFXLXU4BR5RQUPEWPOFVIX&v=20180605&ll=40.738158218794645, -74.00951197805692\n",
      "22 40.754945899999996, -73.973015 https://api.foursquare.com/v2/venues/search?&client_id=ISPOO44KLBPPIBVEULPPTWOPMH4AJB5KUVAGZEG23JFCB555&client_secret=LFOGHGUOYQZ2BOGSI0JXEOSNOMMFXLXU4BR5RQUPEWPOFVIX&v=20180605&ll=40.754945899999996, -73.973015\n",
      "23 40.7509469137359, -74.00400887336663 https://api.foursquare.com/v2/venues/search?&client_id=ISPOO44KLBPPIBVEULPPTWOPMH4AJB5KUVAGZEG23JFCB555&client_secret=LFOGHGUOYQZ2BOGSI0JXEOSNOMMFXLXU4BR5RQUPEWPOFVIX&v=20180605&ll=40.7509469137359, -74.00400887336663\n",
      "24 40.74498114811664, -73.98881884246589 https://api.foursquare.com/v2/venues/search?&client_id=ISPOO44KLBPPIBVEULPPTWOPMH4AJB5KUVAGZEG23JFCB555&client_secret=LFOGHGUOYQZ2BOGSI0JXEOSNOMMFXLXU4BR5RQUPEWPOFVIX&v=20180605&ll=40.74498114811664, -73.98881884246589\n",
      "25 40.764518861000695, -73.97448778152466 https://api.foursquare.com/v2/venues/search?&client_id=ISPOO44KLBPPIBVEULPPTWOPMH4AJB5KUVAGZEG23JFCB555&client_secret=LFOGHGUOYQZ2BOGSI0JXEOSNOMMFXLXU4BR5RQUPEWPOFVIX&v=20180605&ll=40.764518861000695, -73.97448778152466\n",
      "26 40.754664500000004, -73.9772368 https://api.foursquare.com/v2/venues/search?&client_id=ISPOO44KLBPPIBVEULPPTWOPMH4AJB5KUVAGZEG23JFCB555&client_secret=LFOGHGUOYQZ2BOGSI0JXEOSNOMMFXLXU4BR5RQUPEWPOFVIX&v=20180605&ll=40.754664500000004, -73.9772368\n",
      "27 40.73618, -73.9966 https://api.foursquare.com/v2/venues/search?&client_id=ISPOO44KLBPPIBVEULPPTWOPMH4AJB5KUVAGZEG23JFCB555&client_secret=LFOGHGUOYQZ2BOGSI0JXEOSNOMMFXLXU4BR5RQUPEWPOFVIX&v=20180605&ll=40.73618, -73.9966\n"
     ]
    }
   ],
   "source": [
    "#loop for all hotels\n",
    "iHotels = 0\n",
    "\n",
    "#all hotels\n",
    "iCoords = 0\n",
    "iHotels = 0\n",
    "haversineAcc = 0\n",
    "print(rowsPOI)\n",
    "\n",
    "while iHotels < rowsHotelsCSV:\n",
    "    iCoords = 0\n",
    "    haversineAcc = 0\n",
    "    hotelName = hotelsCSV ['name'][iHotels]\n",
    "    hotelLat = hotelsCSV ['location.lat'] [iHotels]\n",
    "    hotelLng = hotelsCSV ['location.lng'] [iHotels]\n",
    "    hotelLL = str(hotelLat)  +', '+ str(hotelLng)\n",
    "   \n",
    "    # create URL\n",
    "    url = 'https://api.foursquare.com/v2/venues/search?&client_id={}&client_secret={}&v={}&ll={}'.format(\n",
    "        CLIENT_ID,\n",
    "        CLIENT_SECRET, \n",
    "        VERSION, \n",
    "        hotelLL)\n",
    "    print(iHotels,hotelLL, url)\n",
    "    results_venues = requests.get(url).json()[\"response\"] ['venues'] [iHotels]\n",
    "    \n",
    "    #create hotels dataframe fromjson\n",
    "    venues = json_normalize(results_venues)\n",
    "    venues.shape\n",
    "    venueCnt = len(venues)\n",
    "    \n",
    "    hotelsCH.loc[iHotels, 'Venues'] = venueCnt\n",
    "    \n",
    "    iHotels += 1"
   ]
  },
  {
   "cell_type": "code",
   "execution_count": 193,
   "metadata": {},
   "outputs": [],
   "source": [
    "hotelsCH.to_csv('hotelsHV.csv', index = False)"
   ]
  },
  {
   "cell_type": "markdown",
   "metadata": {},
   "source": [
    "iHdm = 0\n",
    "rHdm = len(hotels_dm)\n",
    "\n",
    "while iHdm < rHdm:\n",
    "    cnt = len(getNearbyVenues(hotels_dm,hotels_dm ['name'] [iHdm], hotels_dm['location.lat'] [iHdm], hotels_dm['location.lng'] [iHdm], radius ))\n",
    "    print(iHdm.cnt)\n",
    "    \n",
    "    hotels_dm.loc[iHdm, 'Venues'] = cnt\n",
    "    iHdm += 1"
   ]
  },
  {
   "cell_type": "code",
   "execution_count": null,
   "metadata": {},
   "outputs": [],
   "source": []
  },
  {
   "cell_type": "code",
   "execution_count": null,
   "metadata": {},
   "outputs": [],
   "source": []
  },
  {
   "cell_type": "code",
   "execution_count": null,
   "metadata": {},
   "outputs": [],
   "source": [
    "hotels_dm['Venues']#head()\n",
    "#why are some of the values 1100 or out of bounds when a limit was set?"
   ]
  },
  {
   "cell_type": "markdown",
   "metadata": {},
   "source": []
  },
  {
   "cell_type": "markdown",
   "metadata": {},
   "source": [
    "iHotels_d = 0\n",
    "iTT = 0\n",
    "strDF =''\n",
    "intDF = 0\n",
    "\n",
    "while iHotels_d < rowsHotels_d:\n",
    "    print(\"Hotels_d loop\")\n",
    "    listHotels_d = []\n",
    "    cHotels_d = 0\n",
    "    print('List Hotels_d - b4 append = ',listHotels_d)\n",
    "    while cHotels_d < colsHotels_d: #for each col in hotel\n",
    "        strCol = hotels_d.columns[cHotels_d]\n",
    "        strDF = hotels_d[strCol][iHotels_d]\n",
    "        print('in while hd, before loc',cHotels_d, strCol, iHotels_d,strDF)\n",
    "        df_new.loc[iHotels_d, strCol] = strDF \n",
    "        print(cHotels_d,'List Hotels_d -after lov = ', strDF )\n",
    "        cHotels_d += 1\n",
    "        while iTT < rowsTT: #for wech row in TT\n",
    "            print('while TT row')\n",
    "            while cTT < colsTT: #for each col in TT\n",
    "                strCol = TT.columns[cTT]\n",
    "                intDF = hotels_d[intCol][iTT]\n",
    "                print('in while ctt, before loc',cTT, intCol, iTT, intDF)\n",
    "                df_new.loc[iTT, strCol] = intDF \n",
    "                print(cHotels_d,'List Hotels_d -after lov = ', intDF )\n",
    "                cTT+= 1\n",
    "                if cTT == colsTT:\n",
    "                    cTT = 0\n",
    "            iTT += 1\n",
    "        \n",
    "    \n",
    "    iHotels_d += 1"
   ]
  },
  {
   "cell_type": "markdown",
   "metadata": {},
   "source": [
    "df_new #.shape"
   ]
  },
  {
   "cell_type": "code",
   "execution_count": null,
   "metadata": {},
   "outputs": [],
   "source": []
  },
  {
   "cell_type": "code",
   "execution_count": null,
   "metadata": {},
   "outputs": [],
   "source": []
  }
 ],
 "metadata": {
  "kernelspec": {
   "display_name": "Python",
   "language": "python",
   "name": "conda-env-python-py"
  },
  "language_info": {
   "codemirror_mode": {
    "name": "ipython",
    "version": 3
   },
   "file_extension": ".py",
   "mimetype": "text/x-python",
   "name": "python",
   "nbconvert_exporter": "python",
   "pygments_lexer": "ipython3",
   "version": "3.6.7"
  }
 },
 "nbformat": 4,
 "nbformat_minor": 4
}
